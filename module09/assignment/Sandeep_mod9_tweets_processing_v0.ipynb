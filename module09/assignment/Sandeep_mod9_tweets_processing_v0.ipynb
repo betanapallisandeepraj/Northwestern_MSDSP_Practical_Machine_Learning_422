{
  "nbformat": 4,
  "nbformat_minor": 0,
  "metadata": {
    "accelerator": "GPU",
    "colab": {
      "name": "Sandeep_mod9_tweets_processing_v0.ipynb",
      "provenance": [],
      "collapsed_sections": [],
      "machine_shape": "hm"
    },
    "kernelspec": {
      "display_name": "Python 3 (ipykernel)",
      "language": "python",
      "name": "python3"
    },
    "language_info": {
      "codemirror_mode": {
        "name": "ipython",
        "version": 3
      },
      "file_extension": ".py",
      "mimetype": "text/x-python",
      "name": "python",
      "nbconvert_exporter": "python",
      "pygments_lexer": "ipython3",
      "version": "3.8.8"
    }
  },
  "cells": [
    {
      "cell_type": "markdown",
      "metadata": {
        "id": "Joxs5S6bQKm_"
      },
      "source": [
        "## Module 9 Assignment 1: Natural Language Processing with Disaster Tweets\n",
        "# Requirements\n",
        "\n",
        "1. Conduct your analysis using a cross-validation design.\n",
        "2. Conduct EDA.\n",
        "3. Build at least three RNN models based on hyperparameter tuning.\n",
        "4. Evaluate goodness of fit metrics.\n",
        "5. Once you have your best-performing models, classify the test data and submit it to Kaggle. Provide your Kaggle.com user name and screen snapshots of your scores.\n",
        "6. Discuss your model’s performance."
      ]
    },
    {
      "cell_type": "code",
      "metadata": {
        "colab": {
          "base_uri": "https://localhost:8080/"
        },
        "id": "5trKVSYdDxcJ",
        "outputId": "83978fd7-839d-433f-aef1-b072557698eb"
      },
      "source": [
        "from google.colab import drive\n",
        "drive.mount('/content/drive')"
      ],
      "execution_count": null,
      "outputs": [
        {
          "output_type": "stream",
          "name": "stdout",
          "text": [
            "Mounted at /content/drive\n"
          ]
        }
      ]
    },
    {
      "cell_type": "markdown",
      "metadata": {
        "id": "jwvfyUjJQkGf"
      },
      "source": [
        "# Load Libraries "
      ]
    },
    {
      "cell_type": "code",
      "metadata": {
        "colab": {
          "base_uri": "https://localhost:8080/"
        },
        "id": "r7KsrbJDeSpQ",
        "outputId": "abcdbb2e-d8cc-40b1-cbae-bd23b7ee674b"
      },
      "source": [
        "import numpy as np\n",
        "import pandas as pd\n",
        "from pprint import pprint\n",
        "import sklearn.model_selection\n",
        "import gensim\n",
        "import gensim.downloader\n",
        "\n",
        "import nltk\n",
        "nltk.download('punkt')\n",
        "from nltk.tokenize import word_tokenize\n",
        "from nltk.corpus import stopwords\n",
        "nltk.download('stopwords')\n",
        "stop_words = stopwords.words('english')\n",
        "\n",
        "import tensorflow as tf\n",
        "print(\"You are using TensorFlow version\", tf.__version__)\n",
        "if len(tf.config.list_physical_devices('GPU')) > 0:\n",
        "  print(\"You have a GPU enabled.\")\n",
        "else:\n",
        "  print(\"Enable a GPU before running this notebook.\")\n",
        "import tensorflow as tf\n",
        "from tensorflow import keras\n",
        "from tensorflow.keras import layers\n",
        "from tensorflow.keras.models import Sequential  # initial NN\n",
        "from tensorflow.keras.layers import Input, Dense, Activation, Dropout, InputLayer, BatchNormalization # construct each layer\n",
        "from tensorflow.keras.layers import Conv2D # swipe across the image by 1\n",
        "from tensorflow.keras.layers import MaxPool2D, GlobalMaxPool2D # swipe across by pool size\n",
        "from tensorflow.keras.layers import Flatten, GlobalAveragePooling2D\n",
        "\n",
        "from keras.preprocessing.image import ImageDataGenerator\n",
        "from tensorflow.keras.callbacks import ReduceLROnPlateau,LearningRateScheduler, TensorBoard, EarlyStopping, ModelCheckpoint\n",
        "from tensorflow.keras.optimizers import Adam\n",
        "from tensorflow.keras.losses import categorical_crossentropy, binary_crossentropy, mean_squared_error,sparse_categorical_crossentropy\n",
        "\n",
        "import pandas as pd\n",
        "import numpy as np\n",
        "from random import shuffle\n",
        "import os\n",
        "import cv2\n",
        "import pickle\n",
        "import seaborn as sns\n",
        "import matplotlib.pyplot as plt\n",
        "import matplotlib.image as mpimg \n",
        "%matplotlib inline\n",
        "from tqdm.notebook import trange,tqdm\n",
        "from IPython.display import Image, display, Markdown, clear_output\n",
        "\n",
        "from sklearn.model_selection import train_test_split, GridSearchCV\n",
        "from sklearn.preprocessing import LabelEncoder\n",
        "from sklearn import svm, metrics\n",
        "from sklearn.decomposition import PCA\n",
        "from skimage import io\n",
        "\n",
        "import sklearn.metrics as metrics\n",
        "from sklearn.metrics import roc_curve\n",
        "from sklearn.metrics import roc_auc_score\n",
        "from sklearn.metrics import f1_score, precision_score, recall_score, accuracy_score"
      ],
      "execution_count": null,
      "outputs": [
        {
          "output_type": "stream",
          "name": "stdout",
          "text": [
            "[nltk_data] Downloading package punkt to /root/nltk_data...\n",
            "[nltk_data]   Package punkt is already up-to-date!\n",
            "[nltk_data] Downloading package stopwords to /root/nltk_data...\n",
            "[nltk_data]   Package stopwords is already up-to-date!\n",
            "You are using TensorFlow version 2.7.0\n",
            "You have a GPU enabled.\n"
          ]
        }
      ]
    },
    {
      "cell_type": "code",
      "metadata": {
        "colab": {
          "base_uri": "https://localhost:8080/"
        },
        "id": "s2LyFO-PRIK5",
        "outputId": "a4b1bace-ddf7-4d92-d89a-25db9b49dce3"
      },
      "source": [
        "tf.config.list_physical_devices()"
      ],
      "execution_count": null,
      "outputs": [
        {
          "output_type": "execute_result",
          "data": {
            "text/plain": [
              "[PhysicalDevice(name='/physical_device:CPU:0', device_type='CPU'),\n",
              " PhysicalDevice(name='/physical_device:GPU:0', device_type='GPU')]"
            ]
          },
          "metadata": {},
          "execution_count": 4
        }
      ]
    },
    {
      "cell_type": "code",
      "metadata": {
        "id": "UbQfni3URMz7"
      },
      "source": [
        "# from google.colab import drive\n",
        "# drive.mount('/content/drive')"
      ],
      "execution_count": null,
      "outputs": []
    },
    {
      "cell_type": "code",
      "metadata": {
        "colab": {
          "base_uri": "https://localhost:8080/",
          "height": 206
        },
        "id": "LYo_wzN4Rl5P",
        "outputId": "b8978d19-1b5d-4982-83c5-e21ca2f7f7d0"
      },
      "source": [
        "train = pd.read_csv(\"/content/drive/MyDrive/data_science/422_practical_machine_learning/module09/nlp-getting-started/train.csv\")\n",
        "train.head()"
      ],
      "execution_count": null,
      "outputs": [
        {
          "output_type": "execute_result",
          "data": {
            "text/html": [
              "<div>\n",
              "<style scoped>\n",
              "    .dataframe tbody tr th:only-of-type {\n",
              "        vertical-align: middle;\n",
              "    }\n",
              "\n",
              "    .dataframe tbody tr th {\n",
              "        vertical-align: top;\n",
              "    }\n",
              "\n",
              "    .dataframe thead th {\n",
              "        text-align: right;\n",
              "    }\n",
              "</style>\n",
              "<table border=\"1\" class=\"dataframe\">\n",
              "  <thead>\n",
              "    <tr style=\"text-align: right;\">\n",
              "      <th></th>\n",
              "      <th>id</th>\n",
              "      <th>keyword</th>\n",
              "      <th>location</th>\n",
              "      <th>text</th>\n",
              "      <th>target</th>\n",
              "    </tr>\n",
              "  </thead>\n",
              "  <tbody>\n",
              "    <tr>\n",
              "      <th>0</th>\n",
              "      <td>1</td>\n",
              "      <td>NaN</td>\n",
              "      <td>NaN</td>\n",
              "      <td>Our Deeds are the Reason of this #earthquake M...</td>\n",
              "      <td>1</td>\n",
              "    </tr>\n",
              "    <tr>\n",
              "      <th>1</th>\n",
              "      <td>4</td>\n",
              "      <td>NaN</td>\n",
              "      <td>NaN</td>\n",
              "      <td>Forest fire near La Ronge Sask. Canada</td>\n",
              "      <td>1</td>\n",
              "    </tr>\n",
              "    <tr>\n",
              "      <th>2</th>\n",
              "      <td>5</td>\n",
              "      <td>NaN</td>\n",
              "      <td>NaN</td>\n",
              "      <td>All residents asked to 'shelter in place' are ...</td>\n",
              "      <td>1</td>\n",
              "    </tr>\n",
              "    <tr>\n",
              "      <th>3</th>\n",
              "      <td>6</td>\n",
              "      <td>NaN</td>\n",
              "      <td>NaN</td>\n",
              "      <td>13,000 people receive #wildfires evacuation or...</td>\n",
              "      <td>1</td>\n",
              "    </tr>\n",
              "    <tr>\n",
              "      <th>4</th>\n",
              "      <td>7</td>\n",
              "      <td>NaN</td>\n",
              "      <td>NaN</td>\n",
              "      <td>Just got sent this photo from Ruby #Alaska as ...</td>\n",
              "      <td>1</td>\n",
              "    </tr>\n",
              "  </tbody>\n",
              "</table>\n",
              "</div>"
            ],
            "text/plain": [
              "   id keyword  ...                                               text target\n",
              "0   1     NaN  ...  Our Deeds are the Reason of this #earthquake M...      1\n",
              "1   4     NaN  ...             Forest fire near La Ronge Sask. Canada      1\n",
              "2   5     NaN  ...  All residents asked to 'shelter in place' are ...      1\n",
              "3   6     NaN  ...  13,000 people receive #wildfires evacuation or...      1\n",
              "4   7     NaN  ...  Just got sent this photo from Ruby #Alaska as ...      1\n",
              "\n",
              "[5 rows x 5 columns]"
            ]
          },
          "metadata": {},
          "execution_count": 5
        }
      ]
    },
    {
      "cell_type": "code",
      "metadata": {
        "colab": {
          "base_uri": "https://localhost:8080/",
          "height": 206
        },
        "id": "0cnsMrmvRvMv",
        "outputId": "5cee5979-95ec-4cc0-9ef4-f4b3194b6759"
      },
      "source": [
        "test = pd.read_csv(\"/content/drive/MyDrive/data_science/422_practical_machine_learning/module09/nlp-getting-started/test.csv\")\n",
        "test.head()"
      ],
      "execution_count": null,
      "outputs": [
        {
          "output_type": "execute_result",
          "data": {
            "text/html": [
              "<div>\n",
              "<style scoped>\n",
              "    .dataframe tbody tr th:only-of-type {\n",
              "        vertical-align: middle;\n",
              "    }\n",
              "\n",
              "    .dataframe tbody tr th {\n",
              "        vertical-align: top;\n",
              "    }\n",
              "\n",
              "    .dataframe thead th {\n",
              "        text-align: right;\n",
              "    }\n",
              "</style>\n",
              "<table border=\"1\" class=\"dataframe\">\n",
              "  <thead>\n",
              "    <tr style=\"text-align: right;\">\n",
              "      <th></th>\n",
              "      <th>id</th>\n",
              "      <th>keyword</th>\n",
              "      <th>location</th>\n",
              "      <th>text</th>\n",
              "    </tr>\n",
              "  </thead>\n",
              "  <tbody>\n",
              "    <tr>\n",
              "      <th>0</th>\n",
              "      <td>0</td>\n",
              "      <td>NaN</td>\n",
              "      <td>NaN</td>\n",
              "      <td>Just happened a terrible car crash</td>\n",
              "    </tr>\n",
              "    <tr>\n",
              "      <th>1</th>\n",
              "      <td>2</td>\n",
              "      <td>NaN</td>\n",
              "      <td>NaN</td>\n",
              "      <td>Heard about #earthquake is different cities, s...</td>\n",
              "    </tr>\n",
              "    <tr>\n",
              "      <th>2</th>\n",
              "      <td>3</td>\n",
              "      <td>NaN</td>\n",
              "      <td>NaN</td>\n",
              "      <td>there is a forest fire at spot pond, geese are...</td>\n",
              "    </tr>\n",
              "    <tr>\n",
              "      <th>3</th>\n",
              "      <td>9</td>\n",
              "      <td>NaN</td>\n",
              "      <td>NaN</td>\n",
              "      <td>Apocalypse lighting. #Spokane #wildfires</td>\n",
              "    </tr>\n",
              "    <tr>\n",
              "      <th>4</th>\n",
              "      <td>11</td>\n",
              "      <td>NaN</td>\n",
              "      <td>NaN</td>\n",
              "      <td>Typhoon Soudelor kills 28 in China and Taiwan</td>\n",
              "    </tr>\n",
              "  </tbody>\n",
              "</table>\n",
              "</div>"
            ],
            "text/plain": [
              "   id keyword location                                               text\n",
              "0   0     NaN      NaN                 Just happened a terrible car crash\n",
              "1   2     NaN      NaN  Heard about #earthquake is different cities, s...\n",
              "2   3     NaN      NaN  there is a forest fire at spot pond, geese are...\n",
              "3   9     NaN      NaN           Apocalypse lighting. #Spokane #wildfires\n",
              "4  11     NaN      NaN      Typhoon Soudelor kills 28 in China and Taiwan"
            ]
          },
          "metadata": {},
          "execution_count": 6
        }
      ]
    },
    {
      "cell_type": "code",
      "metadata": {
        "id": "tRskB1w8esNB"
      },
      "source": [
        "# from google.colab import files\n",
        "# uploaded = files.upload()\n",
        "\n",
        "# import io\n",
        "# train = pd.read_csv(io.BytesIO(uploaded['train.csv']))\n",
        "# train"
      ],
      "execution_count": null,
      "outputs": []
    },
    {
      "cell_type": "code",
      "metadata": {
        "id": "G4fPV3a4ez__"
      },
      "source": [
        "# from google.colab import files\n",
        "# uploaded = files.upload()\n",
        "\n",
        "# test = pd.read_csv(io.BytesIO(uploaded['test.csv']))\n",
        "# test"
      ],
      "execution_count": null,
      "outputs": []
    },
    {
      "cell_type": "markdown",
      "metadata": {
        "id": "BT01LuG3SLC8"
      },
      "source": [
        "# 2. EDA"
      ]
    },
    {
      "cell_type": "code",
      "metadata": {
        "colab": {
          "base_uri": "https://localhost:8080/"
        },
        "id": "aSw669kuSM7R",
        "outputId": "811e2fa6-4080-4190-e11b-64247357e562"
      },
      "source": [
        "# find missing values\n",
        "train.isna().sum()"
      ],
      "execution_count": null,
      "outputs": [
        {
          "output_type": "execute_result",
          "data": {
            "text/plain": [
              "id             0\n",
              "keyword       61\n",
              "location    2533\n",
              "text           0\n",
              "target         0\n",
              "dtype: int64"
            ]
          },
          "metadata": {},
          "execution_count": 7
        }
      ]
    },
    {
      "cell_type": "code",
      "metadata": {
        "colab": {
          "base_uri": "https://localhost:8080/"
        },
        "id": "bmVy9oOsSM9w",
        "outputId": "e8cbb9df-502a-432b-8061-1386c18ec7c0"
      },
      "source": [
        "# find missing values\n",
        "test.isna().sum()"
      ],
      "execution_count": null,
      "outputs": [
        {
          "output_type": "execute_result",
          "data": {
            "text/plain": [
              "id             0\n",
              "keyword       26\n",
              "location    1105\n",
              "text           0\n",
              "dtype: int64"
            ]
          },
          "metadata": {},
          "execution_count": 8
        }
      ]
    },
    {
      "cell_type": "code",
      "metadata": {
        "colab": {
          "base_uri": "https://localhost:8080/",
          "height": 389
        },
        "id": "AX9d-g6TSNAJ",
        "outputId": "6dacf7e0-1c9a-4d99-8825-1001230bc7ad"
      },
      "source": [
        "# Distribution of target \n",
        "x=train['target'].value_counts()\n",
        "print(x)\n",
        "sns.barplot(x.index,x)"
      ],
      "execution_count": null,
      "outputs": [
        {
          "output_type": "stream",
          "name": "stdout",
          "text": [
            "0    4342\n",
            "1    3271\n",
            "Name: target, dtype: int64\n"
          ]
        },
        {
          "output_type": "stream",
          "name": "stderr",
          "text": [
            "/usr/local/lib/python3.7/dist-packages/seaborn/_decorators.py:43: FutureWarning: Pass the following variables as keyword args: x, y. From version 0.12, the only valid positional argument will be `data`, and passing other arguments without an explicit keyword will result in an error or misinterpretation.\n",
            "  FutureWarning\n"
          ]
        },
        {
          "output_type": "execute_result",
          "data": {
            "text/plain": [
              "<matplotlib.axes._subplots.AxesSubplot at 0x7f9fdabf10d0>"
            ]
          },
          "metadata": {},
          "execution_count": 9
        },
        {
          "output_type": "display_data",
          "data": {
            "image/png": "[encoded data removed]",
            "text/plain": [
              "<Figure size 432x288 with 1 Axes>"
            ]
          },
          "metadata": {
            "needs_background": "light"
          }
        }
      ]
    },
    {
      "cell_type": "markdown",
      "metadata": {
        "id": "QWiVGPO-Eguk"
      },
      "source": [
        "Non disaster tweets seems higher than disaster tweets. This might be expected if there is disaster happended"
      ]
    },
    {
      "cell_type": "code",
      "metadata": {
        "colab": {
          "base_uri": "https://localhost:8080/",
          "height": 329
        },
        "id": "CjjsrYoXSNCm",
        "outputId": "906b3b64-8c4c-4f41-8e1e-6dde6546fdf1"
      },
      "source": [
        "# Count number of words in a tweet\n",
        "\n",
        "train['word_count'] = train['text'].apply(lambda x: len(str(x).split()))\n",
        "print(\"Mean of number of words in Disaster tweets:\",train[train['target']==1]['word_count'].mean()) \n",
        "print(\"Mean of number of words in Non-Disaster tweets:\",train[train['target']==0]['word_count'].mean()) \n",
        "\n",
        "\n",
        "# Plot total number of word-count per tweet\n",
        "\n",
        "fig,(ax1,ax2)=plt.subplots(1,2,figsize=(10,4))\n",
        "train_words = train[train['target']==1]['word_count']\n",
        "ax1.hist(train_words,color='Red')\n",
        "\n",
        "ax1.set_title('Disaster tweets')\n",
        "train_words=train[train['target']==0]['word_count']\n",
        "ax2.hist(train_words,color='green')\n",
        "ax2.set_title('Non-disaster tweets')\n",
        "fig.suptitle('Words per tweet')\n",
        "plt.show()"
      ],
      "execution_count": null,
      "outputs": [
        {
          "output_type": "stream",
          "name": "stdout",
          "text": [
            "Mean of number of words in Disaster tweets: 15.167532864567411\n",
            "Mean of number of words in Non-Disaster tweets: 14.704744357438969\n"
          ]
        },
        {
          "output_type": "display_data",
          "data": {
            "image/png": "[encoded data removed]",
            "text/plain": [
              "<Figure size 720x288 with 2 Axes>"
            ]
          },
          "metadata": {
            "needs_background": "light"
          }
        }
      ]
    },
    {
      "cell_type": "markdown",
      "metadata": {
        "id": "1U-911fWE1bh"
      },
      "source": [
        "Above histogram depict distribution of words with number of tweets for  disaster and non-disaster tweets. They looks somewhat comparable"
      ]
    },
    {
      "cell_type": "code",
      "metadata": {
        "colab": {
          "base_uri": "https://localhost:8080/",
          "height": 329
        },
        "id": "nsl6CAhLTobA",
        "outputId": "9a707703-1ca2-4f21-b075-82b7fef1b569"
      },
      "source": [
        "# Count number of characters in a tweet\n",
        "\n",
        "train['char_count'] = train['text'].apply(lambda x: len(str(x)))\n",
        "print(\"Mean of number of characters in Disaster tweets:\",train[train['target']==1]['char_count'].mean()) \n",
        "print(\"Mean of number of characters in Non-Disaster tweets:\",train[train['target']==0]['char_count'].mean())  \n",
        "\n",
        "\n",
        "# Plot total number of word-count per tweet\n",
        "\n",
        "fig,(ax1,ax2)=plt.subplots(1,2,figsize=(10,4))\n",
        "train_words = train[train['target']==1]['char_count']\n",
        "ax1.hist(train_words,color='Red')\n",
        "\n",
        "ax1.set_title('Disaster tweets')\n",
        "train_words=train[train['target']==0]['char_count']\n",
        "ax2.hist(train_words,color='green')\n",
        "ax2.set_title('Non-disaster tweets')\n",
        "fig.suptitle('Characters count per tweet')\n",
        "plt.show()"
      ],
      "execution_count": null,
      "outputs": [
        {
          "output_type": "stream",
          "name": "stdout",
          "text": [
            "Mean of number of characters in Disaster tweets: 108.11342097217977\n",
            "Mean of number of characters in Non-Disaster tweets: 95.70681713496084\n"
          ]
        },
        {
          "output_type": "display_data",
          "data": {
            "image/png": "[encoded data removed]",
            "text/plain": [
              "<Figure size 720x288 with 2 Axes>"
            ]
          },
          "metadata": {
            "needs_background": "light"
          }
        }
      ]
    },
    {
      "cell_type": "markdown",
      "metadata": {
        "id": "oSmDXGYSFVgU"
      },
      "source": [
        "Above histogram depict distribution of characters with number of tweets for  disaster and non-disaster tweets. They looks somewhat comparable"
      ]
    },
    {
      "cell_type": "markdown",
      "metadata": {
        "id": "S63EO29-U6Nn"
      },
      "source": [
        "#3. Preprocessing"
      ]
    },
    {
      "cell_type": "code",
      "metadata": {
        "id": "KUU4mta5e_WR"
      },
      "source": [
        "##Importing Libraries for Neural Nets\n",
        "import keras\n",
        "from keras.models import Sequential, model_from_json\n",
        "from keras.layers import Input, Dense, Dropout, Activation, LSTM, GRU, GlobalAvgPool1D, GlobalMaxPool1D\n",
        "import math\n",
        "from tqdm import tqdm\n",
        "import pickle \n",
        "import tensorflow as tf\n",
        "from keras.utils.np_utils import to_categorical\n",
        "from tqdm.keras import TqdmCallback"
      ],
      "execution_count": null,
      "outputs": []
    },
    {
      "cell_type": "code",
      "metadata": {
        "colab": {
          "base_uri": "https://localhost:8080/"
        },
        "id": "JcwPLgSLgf8c",
        "outputId": "652202e2-619b-4479-cc6b-0474e0071873"
      },
      "source": [
        "# download glove twitter embeddings\n",
        "pprint(list(gensim.downloader.info()['models'].keys()))"
      ],
      "execution_count": null,
      "outputs": [
        {
          "output_type": "stream",
          "name": "stdout",
          "text": [
            "['fasttext-wiki-news-subwords-300',\n",
            " 'conceptnet-numberbatch-17-06-300',\n",
            " 'word2vec-ruscorpora-300',\n",
            " 'word2vec-google-news-300',\n",
            " 'glove-wiki-gigaword-50',\n",
            " 'glove-wiki-gigaword-100',\n",
            " 'glove-wiki-gigaword-200',\n",
            " 'glove-wiki-gigaword-300',\n",
            " 'glove-twitter-25',\n",
            " 'glove-twitter-50',\n",
            " 'glove-twitter-100',\n",
            " 'glove-twitter-200',\n",
            " '__testing_word2vec-matrix-synopsis']\n"
          ]
        }
      ]
    },
    {
      "cell_type": "code",
      "metadata": {
        "id": "N4tL0J7bgolr",
        "colab": {
          "base_uri": "https://localhost:8080/"
        },
        "outputId": "d29211e1-e7ce-491b-b3ff-85dea2385a11"
      },
      "source": [
        "# Takes about 5 minutes to execute, for 100-dim twitter vectors\n",
        "# Takes about 10+ minutes to execute, for 200-dim twitter vectors\n",
        "# glove_vectors_100 = gensim.downloader.load('glove-twitter-100')\n",
        "glove_vectors_200 = gensim.downloader.load('glove-twitter-200')\n",
        "glove = glove_vectors_200\n",
        "embedding_length = 200\n",
        "\n",
        "\n",
        "## https://nlp.stanford.edu/projects/glove/"
      ],
      "execution_count": null,
      "outputs": [
        {
          "output_type": "stream",
          "name": "stdout",
          "text": [
            "[==================================================] 100.0% 758.5/758.5MB downloaded\n"
          ]
        }
      ]
    },
    {
      "cell_type": "code",
      "metadata": {
        "colab": {
          "base_uri": "https://localhost:8080/"
        },
        "id": "qclC61KjNehV",
        "outputId": "a3b42ac6-2737-4083-d21a-6702e411f0cd"
      },
      "source": [
        "train.isnull().sum()\n",
        "train.notnull().sum()"
      ],
      "execution_count": null,
      "outputs": [
        {
          "output_type": "execute_result",
          "data": {
            "text/plain": [
              "id            7613\n",
              "keyword       7552\n",
              "location      5080\n",
              "text          7613\n",
              "target        7613\n",
              "word_count    7613\n",
              "char_count    7613\n",
              "dtype: int64"
            ]
          },
          "metadata": {},
          "execution_count": 15
        }
      ]
    },
    {
      "cell_type": "code",
      "metadata": {
        "colab": {
          "base_uri": "https://localhost:8080/"
        },
        "id": "wA4gTFGoguFb",
        "outputId": "66dc5d17-31e4-483f-b54b-6f39eb825836"
      },
      "source": [
        "print(train.shape)\n",
        "print(test.shape)\n",
        "\n",
        "# Convert Dataframe into array\n",
        "text_train = np.array(train['text'])\n",
        "text_test = np.array(test['text'])\n",
        "\n",
        "# Merge both train and test dataset for pre-processing\n",
        "text = np.concatenate((text_train, text_test), axis = 0)"
      ],
      "execution_count": null,
      "outputs": [
        {
          "output_type": "stream",
          "name": "stdout",
          "text": [
            "(7613, 7)\n",
            "(3263, 4)\n"
          ]
        }
      ]
    },
    {
      "cell_type": "code",
      "metadata": {
        "colab": {
          "base_uri": "https://localhost:8080/"
        },
        "id": "oRVwh1TIjbOT",
        "outputId": "d5648a64-3ac3-49af-e1c5-ca8bc00b55af"
      },
      "source": [
        "text"
      ],
      "execution_count": null,
      "outputs": [
        {
          "output_type": "execute_result",
          "data": {
            "text/plain": [
              "array(['Our Deeds are the Reason of this #earthquake May ALLAH Forgive us all',\n",
              "       'Forest fire near La Ronge Sask. Canada',\n",
              "       \"All residents asked to 'shelter in place' are being notified by officers. No other evacuation or shelter in place orders are expected\",\n",
              "       ..., 'Green Line derailment in Chicago http://t.co/UtbXLcBIuY',\n",
              "       'MEG issues Hazardous Weather Outlook (HWO) http://t.co/3X6RBQJHn3',\n",
              "       '#CityofCalgary has activated its Municipal Emergency Plan. #yycstorm'],\n",
              "      dtype=object)"
            ]
          },
          "metadata": {},
          "execution_count": 17
        }
      ]
    },
    {
      "cell_type": "code",
      "metadata": {
        "colab": {
          "base_uri": "https://localhost:8080/"
        },
        "id": "9s6spaz5jc2u",
        "outputId": "f2729fdd-009f-47cd-8ae4-c9013867c95c"
      },
      "source": [
        "# word tokenization \n",
        "for i in range(len(text)):\n",
        "    text[i] = word_tokenize(text[i])\n",
        "print('After tokenization:')\n",
        "print(text[0])\n",
        "\n",
        "# filter out punctuation\n",
        "for i in range(len(text)):\n",
        "    text[i] = [word for word in text[i] if word.isalpha()]\n",
        "print('After filtering out punctuation:')\n",
        "print(text[0])\n",
        "\n",
        "# make words lowercase \n",
        "for i in range(len(text)):\n",
        "    text[i] = [word.lower() for word in text[i]]\n",
        "print('After making lowercase:')\n",
        "print(text[0])\n",
        "\n",
        "# remove stopwords\n",
        "for i in range(len(text)):\n",
        "    text[i] = [word for word in text[i] if not word in stop_words]\n",
        "print('After removing stopwords:')\n",
        "print(text[0])\n",
        "\n",
        "# concatenate list of words\n",
        "for i in range(len(text)):\n",
        "    text_concat = ''\n",
        "    for word in text[i]:\n",
        "        text_concat += word + ' '\n",
        "    text[i] = text_concat\n",
        "print('After concatenating words:')\n",
        "text = np.array(text)"
      ],
      "execution_count": null,
      "outputs": [
        {
          "output_type": "stream",
          "name": "stdout",
          "text": [
            "After tokenization:\n",
            "['Our', 'Deeds', 'are', 'the', 'Reason', 'of', 'this', '#', 'earthquake', 'May', 'ALLAH', 'Forgive', 'us', 'all']\n",
            "After filtering out punctuation:\n",
            "['Our', 'Deeds', 'are', 'the', 'Reason', 'of', 'this', 'earthquake', 'May', 'ALLAH', 'Forgive', 'us', 'all']\n",
            "After making lowercase:\n",
            "['our', 'deeds', 'are', 'the', 'reason', 'of', 'this', 'earthquake', 'may', 'allah', 'forgive', 'us', 'all']\n",
            "After removing stopwords:\n",
            "['deeds', 'reason', 'earthquake', 'may', 'allah', 'forgive', 'us']\n",
            "After concatenating words:\n"
          ]
        }
      ]
    },
    {
      "cell_type": "code",
      "metadata": {
        "id": "ug89MWntpPce"
      },
      "source": [
        "glove = glove_vectors_200 "
      ],
      "execution_count": null,
      "outputs": []
    },
    {
      "cell_type": "code",
      "metadata": {
        "id": "RTrz7sMzpURX"
      },
      "source": [
        "# glove.most_similar('apple')"
      ],
      "execution_count": null,
      "outputs": []
    },
    {
      "cell_type": "code",
      "metadata": {
        "colab": {
          "base_uri": "https://localhost:8080/"
        },
        "id": "uvJnF8_kphb9",
        "outputId": "f7f96a16-1455-4c4b-af81-6cd7effca340"
      },
      "source": [
        "print(glove.get_vector('twitter').shape)\n",
        "glove.get_vector('twitter')"
      ],
      "execution_count": null,
      "outputs": [
        {
          "output_type": "stream",
          "name": "stdout",
          "text": [
            "(200,)\n"
          ]
        },
        {
          "output_type": "execute_result",
          "data": {
            "text/plain": [
              "array([ 1.0433e-01,  3.9882e-01, -6.9542e-01, -5.0984e-01,  6.6959e-02,\n",
              "       -6.6277e-01,  2.5302e-01, -6.1320e-01,  6.6954e-02,  3.4897e-01,\n",
              "       -3.4739e-01, -4.3558e-01,  3.0712e-01, -4.9802e-01, -9.2228e-01,\n",
              "       -4.3034e-01,  8.4605e-02, -2.7696e-01,  3.6586e-01, -5.0237e-01,\n",
              "        1.4885e-02,  2.1380e-01, -2.1657e-01, -6.2373e-02, -4.4156e-01,\n",
              "       -1.6118e+00,  2.9537e-01, -1.0533e+00, -1.0280e+00,  9.4658e-01,\n",
              "       -2.4770e-01,  1.2826e-01,  1.6348e-01, -4.6791e-01,  6.4240e-01,\n",
              "       -1.6270e-01,  5.0066e-01, -1.4123e-01, -3.0530e-01, -2.2070e-01,\n",
              "       -4.9756e-01,  4.8674e-01, -1.9606e-01,  4.7974e-01,  2.0614e-01,\n",
              "       -6.0490e-02, -2.7333e-01, -2.8277e-01, -2.5695e-01,  1.5094e-01,\n",
              "        5.7955e-01, -5.3770e-01,  1.7460e-02, -3.0005e-01, -8.4298e-02,\n",
              "        3.6802e-01, -1.0117e+00,  2.3048e-01, -5.8210e-02, -2.3774e-01,\n",
              "        6.5609e-03, -2.8949e-01, -2.7410e-01,  2.0116e-01, -1.4284e-01,\n",
              "        2.1115e-01,  8.4995e-02,  3.3736e-01,  2.8317e-01,  3.3712e-01,\n",
              "       -5.0540e-01,  2.0566e-01, -1.1022e-01, -2.5945e-01, -7.2273e-01,\n",
              "       -1.3666e-03,  1.6275e-01, -2.8593e-01, -3.1992e-01,  1.2209e-01,\n",
              "       -5.7519e-01,  9.8665e-01,  5.0474e-01, -3.4323e-01,  6.1735e-01,\n",
              "       -3.0499e-01, -4.6906e-01, -1.7082e-01,  3.6838e-01, -8.0676e-01,\n",
              "       -7.1646e-02, -1.3474e-01,  1.0752e-01,  5.7793e-01,  2.9128e-01,\n",
              "       -5.2455e-01, -9.3312e-01,  3.3563e-01,  4.8061e-01, -1.0195e-01,\n",
              "       -2.7788e-01, -2.1559e-01, -2.1250e-01, -3.6998e-01,  2.6167e-01,\n",
              "        2.1822e-01, -5.2326e-01,  8.6135e-02, -4.7194e-01, -3.4948e-01,\n",
              "        9.5376e-03,  1.5017e-01, -5.0384e-01, -3.6440e-01, -4.1736e-01,\n",
              "        2.4485e-01,  3.6841e-01,  1.2392e-01, -1.1723e-02, -5.7061e-01,\n",
              "       -6.3992e-02, -7.7934e-02,  7.1826e-01, -2.3956e-01, -1.1541e-01,\n",
              "       -3.8308e-02,  1.8749e-01, -4.9346e-01, -2.2298e-01, -4.5357e-01,\n",
              "       -6.0618e-02,  1.3676e-01,  4.3335e-01,  3.7287e-01,  1.1552e-03,\n",
              "       -1.4310e-01, -1.0650e-01,  5.7223e-01, -4.4581e-01, -2.8334e-02,\n",
              "        3.2161e-01,  4.9536e-02,  4.9466e-01, -6.3997e-02,  6.8482e-01,\n",
              "       -1.5629e-01, -3.6875e-01,  5.1884e-01,  1.9150e-01, -1.6008e-01,\n",
              "       -1.2235e-01,  1.7381e-01, -4.8170e+00, -1.7911e-01, -2.1412e-02,\n",
              "       -5.1667e-01, -2.9423e-02, -5.7302e-01, -3.0025e-01,  1.0120e-01,\n",
              "       -1.4414e-01,  4.1330e-01,  1.3247e-01, -1.7496e-01, -1.3064e-01,\n",
              "       -3.4747e-01, -1.6157e-01,  3.5463e-03, -1.3286e-01, -8.8740e-02,\n",
              "       -1.7493e-01,  3.7604e-02, -1.1729e-01,  2.9965e-01, -7.4384e-01,\n",
              "        1.3649e-02,  4.1821e-01,  4.7505e-01, -4.6075e-03,  4.8751e-01,\n",
              "        3.6420e-02,  3.5747e-01, -4.7032e-01,  2.6451e-01, -6.3419e-02,\n",
              "       -2.8791e-01, -5.3177e-01,  3.7589e-01,  4.0847e-02, -5.0547e-01,\n",
              "       -3.7645e-01, -1.2634e-01, -2.3890e-03, -2.3777e-01,  2.1900e-01,\n",
              "        7.9280e-01, -6.5457e-01, -5.0811e-02, -1.0774e-01, -4.0025e-01],\n",
              "      dtype=float32)"
            ]
          },
          "metadata": {},
          "execution_count": 20
        }
      ]
    },
    {
      "cell_type": "code",
      "metadata": {
        "id": "EELhmAajpjdE"
      },
      "source": [
        "embeddings = []\n",
        "for sentence in text:\n",
        "    embedding = np.zeros(200)\n",
        "    word_count = 0\n",
        "    for word in sentence:\n",
        "        if word in glove.vocab:\n",
        "            embedding += glove.get_vector(word)\n",
        "        word_count += 1\n",
        "    if word_count != 0:\n",
        "        embedding /= word_count\n",
        "    embeddings.append(embedding)\n",
        "embeddings = np.array(embeddings)"
      ],
      "execution_count": null,
      "outputs": []
    },
    {
      "cell_type": "code",
      "metadata": {
        "colab": {
          "base_uri": "https://localhost:8080/"
        },
        "id": "hZrM8U1LpuN6",
        "outputId": "b7584788-4c2a-4530-bff5-b02c2a1767c1"
      },
      "source": [
        "embeddings"
      ],
      "execution_count": null,
      "outputs": [
        {
          "output_type": "execute_result",
          "data": {
            "text/plain": [
              "array([[ 0.25690012, -0.140232  ,  0.24398764, ..., -0.31653693,\n",
              "         0.18508319,  0.06784627],\n",
              "       [ 0.20790837, -0.16587368,  0.22354597, ..., -0.38288605,\n",
              "         0.23654669,  0.1159744 ],\n",
              "       [ 0.27879569, -0.17978917,  0.26413503, ..., -0.27719853,\n",
              "         0.15926096,  0.09707358],\n",
              "       ...,\n",
              "       [ 0.2350036 , -0.21737831,  0.24629947, ..., -0.26244009,\n",
              "         0.14810147,  0.10090137],\n",
              "       [ 0.27011205, -0.12399437,  0.16931248, ..., -0.25445389,\n",
              "         0.10958237,  0.01013755],\n",
              "       [ 0.16244828, -0.11773796,  0.09622731, ..., -0.37400842,\n",
              "         0.18820559,  0.0490994 ]])"
            ]
          },
          "metadata": {},
          "execution_count": 22
        }
      ]
    },
    {
      "cell_type": "code",
      "metadata": {
        "id": "yUbbaJQiqIR0"
      },
      "source": [
        "X_train = embeddings[:7613]\n",
        "X_test = embeddings[7613:] \n",
        "\n",
        "y_train = train['target'].values"
      ],
      "execution_count": null,
      "outputs": []
    },
    {
      "cell_type": "code",
      "metadata": {
        "colab": {
          "base_uri": "https://localhost:8080/"
        },
        "id": "m6u0PKCWqLbH",
        "outputId": "dd9b9e55-6fbb-496f-abec-1f3f41b8aa6b"
      },
      "source": [
        "print(X_train.shape)\n",
        "print(X_test.shape)\n",
        "print(y_train.shape)"
      ],
      "execution_count": null,
      "outputs": [
        {
          "output_type": "stream",
          "name": "stdout",
          "text": [
            "(7613, 200)\n",
            "(3263, 200)\n",
            "(7613,)\n"
          ]
        }
      ]
    },
    {
      "cell_type": "code",
      "metadata": {
        "colab": {
          "base_uri": "https://localhost:8080/"
        },
        "id": "acN1KSjSqNhv",
        "outputId": "1e6e47d4-7422-4988-91d4-c2c380052ac0"
      },
      "source": [
        "embeddings = []\n",
        "for sentence in text:\n",
        "    embedding = []\n",
        "    for word in sentence.split():\n",
        "        if word in glove.vocab:\n",
        "            embedding.append(glove.get_vector(word).tolist())\n",
        "        else:\n",
        "            embedding.append(np.zeros(embedding_length).tolist())\n",
        "    # pad extra zeros to make length of each sentence = 22 \n",
        "    while len(embedding) < 22:\n",
        "        embedding.append(np.zeros(embedding_length).tolist())\n",
        "    embeddings.append(embedding)\n",
        "embeddings = np.array(embeddings)\n",
        "print(embeddings.shape)"
      ],
      "execution_count": null,
      "outputs": [
        {
          "output_type": "stream",
          "name": "stdout",
          "text": [
            "(10876, 22, 200)\n"
          ]
        }
      ]
    },
    {
      "cell_type": "code",
      "metadata": {
        "colab": {
          "base_uri": "https://localhost:8080/"
        },
        "id": "JDaM6y_4sss6",
        "outputId": "08142e2b-097a-4672-a6ed-1fa40e460bb5"
      },
      "source": [
        "embeddings"
      ],
      "execution_count": null,
      "outputs": [
        {
          "output_type": "execute_result",
          "data": {
            "text/plain": [
              "array([[[-0.31435001,  0.27825001, -0.12037   , ...,  0.17955001,\n",
              "         -0.75700003, -1.29920006],\n",
              "        [ 0.13054   ,  0.045089  , -0.058965  , ...,  0.68779999,\n",
              "          0.25959   , -0.24171001],\n",
              "        [-0.32275   ,  0.14165001,  0.053551  , ...,  0.064692  ,\n",
              "          0.53280997,  0.41641   ],\n",
              "        ...,\n",
              "        [ 0.        ,  0.        ,  0.        , ...,  0.        ,\n",
              "          0.        ,  0.        ],\n",
              "        [ 0.        ,  0.        ,  0.        , ...,  0.        ,\n",
              "          0.        ,  0.        ],\n",
              "        [ 0.        ,  0.        ,  0.        , ...,  0.        ,\n",
              "          0.        ,  0.        ]],\n",
              "\n",
              "       [[-0.48640001,  0.07589   ,  0.11724   , ..., -1.10109997,\n",
              "         -1.00610006,  0.42403001],\n",
              "        [-0.48187   , -0.29707   , -0.77723002, ..., -0.96424001,\n",
              "          0.065379  ,  0.20376   ],\n",
              "        [-0.43726   , -0.16597   ,  0.32686001, ..., -0.43044999,\n",
              "          0.45885   ,  0.21791001],\n",
              "        ...,\n",
              "        [ 0.        ,  0.        ,  0.        , ...,  0.        ,\n",
              "          0.        ,  0.        ],\n",
              "        [ 0.        ,  0.        ,  0.        , ...,  0.        ,\n",
              "          0.        ,  0.        ],\n",
              "        [ 0.        ,  0.        ,  0.        , ...,  0.        ,\n",
              "          0.        ,  0.        ]],\n",
              "\n",
              "       [[ 0.079731  ,  0.032238  , -0.51945001, ..., -0.30430999,\n",
              "         -0.075443  ,  0.097651  ],\n",
              "        [ 0.30355999,  0.19927999,  0.023732  , ...,  0.091495  ,\n",
              "         -0.02982   ,  0.0075726 ],\n",
              "        [ 0.010551  , -0.22538   ,  0.014604  , ...,  0.057227  ,\n",
              "          0.49344999, -0.40970001],\n",
              "        ...,\n",
              "        [ 0.        ,  0.        ,  0.        , ...,  0.        ,\n",
              "          0.        ,  0.        ],\n",
              "        [ 0.        ,  0.        ,  0.        , ...,  0.        ,\n",
              "          0.        ,  0.        ],\n",
              "        [ 0.        ,  0.        ,  0.        , ...,  0.        ,\n",
              "          0.        ,  0.        ]],\n",
              "\n",
              "       ...,\n",
              "\n",
              "       [[ 0.45434999, -0.87423998, -0.15372001, ..., -0.54664999,\n",
              "         -0.87875998, -0.26930001],\n",
              "        [-0.13941   ,  0.10486   ,  0.38835999, ..., -0.49873999,\n",
              "         -0.039979  ,  0.10725   ],\n",
              "        [-0.30237001,  0.27142   , -0.44975001, ..., -0.46970001,\n",
              "          0.65600997, -0.18921   ],\n",
              "        ...,\n",
              "        [ 0.        ,  0.        ,  0.        , ...,  0.        ,\n",
              "          0.        ,  0.        ],\n",
              "        [ 0.        ,  0.        ,  0.        , ...,  0.        ,\n",
              "          0.        ,  0.        ],\n",
              "        [ 0.        ,  0.        ,  0.        , ...,  0.        ,\n",
              "          0.        ,  0.        ]],\n",
              "\n",
              "       [[ 0.54127002, -0.1903    , -0.51468003, ..., -0.14038   ,\n",
              "          0.0054531 ,  0.43092999],\n",
              "        [ 0.19675   , -0.27274999, -0.78413999, ...,  0.6092    ,\n",
              "         -0.028603  , -0.095454  ],\n",
              "        [-0.14135   , -0.71684003,  0.20483001, ...,  0.0013175 ,\n",
              "         -0.12028   ,  0.03675   ],\n",
              "        ...,\n",
              "        [ 0.        ,  0.        ,  0.        , ...,  0.        ,\n",
              "          0.        ,  0.        ],\n",
              "        [ 0.        ,  0.        ,  0.        , ...,  0.        ,\n",
              "          0.        ,  0.        ],\n",
              "        [ 0.        ,  0.        ,  0.        , ...,  0.        ,\n",
              "          0.        ,  0.        ]],\n",
              "\n",
              "       [[ 0.        ,  0.        ,  0.        , ...,  0.        ,\n",
              "          0.        ,  0.        ],\n",
              "        [ 0.60377997,  0.60516   , -0.45524001, ...,  0.31887999,\n",
              "          0.075213  ,  0.72539997],\n",
              "        [-0.47053999,  0.078224  ,  0.08906   , ...,  0.062673  ,\n",
              "         -0.39892   ,  0.62940001],\n",
              "        ...,\n",
              "        [ 0.        ,  0.        ,  0.        , ...,  0.        ,\n",
              "          0.        ,  0.        ],\n",
              "        [ 0.        ,  0.        ,  0.        , ...,  0.        ,\n",
              "          0.        ,  0.        ],\n",
              "        [ 0.        ,  0.        ,  0.        , ...,  0.        ,\n",
              "          0.        ,  0.        ]]])"
            ]
          },
          "metadata": {},
          "execution_count": 26
        }
      ]
    },
    {
      "cell_type": "code",
      "metadata": {
        "colab": {
          "base_uri": "https://localhost:8080/"
        },
        "id": "gl7TR4qsqRn_",
        "outputId": "b62f1a78-2583-4a6e-faeb-1e9c5d6e89ad"
      },
      "source": [
        "X_train = embeddings[:7613]\n",
        "X_test = embeddings[7613:]\n",
        "y_train = train['target'].values\n",
        "\n",
        "print(X_train.shape)\n",
        "print(X_test.shape)\n",
        "print(y_train.shape)"
      ],
      "execution_count": null,
      "outputs": [
        {
          "output_type": "stream",
          "name": "stdout",
          "text": [
            "(7613, 22, 200)\n",
            "(3263, 22, 200)\n",
            "(7613,)\n"
          ]
        }
      ]
    },
    {
      "cell_type": "code",
      "metadata": {
        "id": "-QEQ8WPjqYKB"
      },
      "source": [
        "act = 'tanh'\n",
        "batch_len = 32\n",
        "opt = 'adam'\n",
        "epoch = 100\n",
        "val_split = 0.2"
      ],
      "execution_count": null,
      "outputs": []
    },
    {
      "cell_type": "code",
      "metadata": {
        "id": "9OW0bAJxqaUG"
      },
      "source": [
        "keras.backend.clear_session()\n",
        "model = Sequential()\n",
        "model.add(Input(shape = (22, embedding_length)))\n",
        "model.add(LSTM(22))\n",
        "model.add(Dense(32, activation = act))\n",
        "model.add(Dense(32, activation = act))\n",
        "model.add(Dense(1, activation = 'sigmoid')) \n",
        "model.compile(optimizer = opt, loss = 'binary_crossentropy', metrics = ['accuracy'])"
      ],
      "execution_count": null,
      "outputs": []
    },
    {
      "cell_type": "code",
      "metadata": {
        "colab": {
          "base_uri": "https://localhost:8080/"
        },
        "id": "D-mWyGyyqcih",
        "outputId": "8c96b334-a967-49f8-ce53-d5df276bbd20"
      },
      "source": [
        "model.fit(X_train, y_train, epochs = epoch, batch_size = batch_len, verbose = 1, validation_split=val_split)"
      ],
      "execution_count": null,
      "outputs": [
        {
          "output_type": "stream",
          "name": "stdout",
          "text": [
            "Epoch 1/100\n",
            "191/191 [==============================] - 8s 14ms/step - loss: 0.5001 - accuracy: 0.7614 - val_loss: 0.4848 - val_accuracy: 0.7774\n",
            "Epoch 2/100\n",
            "191/191 [==============================] - 2s 10ms/step - loss: 0.4240 - accuracy: 0.8161 - val_loss: 0.4317 - val_accuracy: 0.8122\n",
            "Epoch 3/100\n",
            "191/191 [==============================] - 2s 10ms/step - loss: 0.3960 - accuracy: 0.8309 - val_loss: 0.4411 - val_accuracy: 0.8116\n",
            "Epoch 4/100\n",
            "191/191 [==============================] - 2s 10ms/step - loss: 0.3770 - accuracy: 0.8402 - val_loss: 0.4386 - val_accuracy: 0.8089\n",
            "Epoch 5/100\n",
            "191/191 [==============================] - 2s 9ms/step - loss: 0.3576 - accuracy: 0.8521 - val_loss: 0.4413 - val_accuracy: 0.8155\n",
            "Epoch 6/100\n",
            "191/191 [==============================] - 2s 10ms/step - loss: 0.3367 - accuracy: 0.8652 - val_loss: 0.4790 - val_accuracy: 0.8102\n",
            "Epoch 7/100\n",
            "191/191 [==============================] - 2s 9ms/step - loss: 0.3140 - accuracy: 0.8757 - val_loss: 0.4977 - val_accuracy: 0.8116\n",
            "Epoch 8/100\n",
            "191/191 [==============================] - 2s 9ms/step - loss: 0.2902 - accuracy: 0.8869 - val_loss: 0.5150 - val_accuracy: 0.8043\n",
            "Epoch 9/100\n",
            "191/191 [==============================] - 2s 10ms/step - loss: 0.2687 - accuracy: 0.8957 - val_loss: 0.5403 - val_accuracy: 0.8011\n",
            "Epoch 10/100\n",
            "191/191 [==============================] - 2s 10ms/step - loss: 0.2429 - accuracy: 0.9115 - val_loss: 0.6468 - val_accuracy: 0.7840\n",
            "Epoch 11/100\n",
            "191/191 [==============================] - 2s 10ms/step - loss: 0.2245 - accuracy: 0.9179 - val_loss: 0.6031 - val_accuracy: 0.7971\n",
            "Epoch 12/100\n",
            "191/191 [==============================] - 2s 10ms/step - loss: 0.1985 - accuracy: 0.9356 - val_loss: 0.6951 - val_accuracy: 0.7879\n",
            "Epoch 13/100\n",
            "191/191 [==============================] - 2s 10ms/step - loss: 0.1911 - accuracy: 0.9342 - val_loss: 0.6474 - val_accuracy: 0.7899\n",
            "Epoch 14/100\n",
            "191/191 [==============================] - 2s 9ms/step - loss: 0.1710 - accuracy: 0.9415 - val_loss: 0.7568 - val_accuracy: 0.7787\n",
            "Epoch 15/100\n",
            "191/191 [==============================] - 2s 9ms/step - loss: 0.1596 - accuracy: 0.9475 - val_loss: 0.7824 - val_accuracy: 0.7833\n",
            "Epoch 16/100\n",
            "191/191 [==============================] - 2s 10ms/step - loss: 0.1487 - accuracy: 0.9522 - val_loss: 0.7427 - val_accuracy: 0.7846\n",
            "Epoch 17/100\n",
            "191/191 [==============================] - 2s 10ms/step - loss: 0.1386 - accuracy: 0.9571 - val_loss: 0.7721 - val_accuracy: 0.7800\n",
            "Epoch 18/100\n",
            "191/191 [==============================] - 2s 10ms/step - loss: 0.1289 - accuracy: 0.9611 - val_loss: 0.7862 - val_accuracy: 0.7905\n",
            "Epoch 19/100\n",
            "191/191 [==============================] - 2s 10ms/step - loss: 0.1257 - accuracy: 0.9626 - val_loss: 0.8198 - val_accuracy: 0.7853\n",
            "Epoch 20/100\n",
            "191/191 [==============================] - 2s 10ms/step - loss: 0.1203 - accuracy: 0.9631 - val_loss: 0.8964 - val_accuracy: 0.7722\n",
            "Epoch 21/100\n",
            "191/191 [==============================] - 2s 10ms/step - loss: 0.1291 - accuracy: 0.9594 - val_loss: 0.8236 - val_accuracy: 0.7728\n",
            "Epoch 22/100\n",
            "191/191 [==============================] - 2s 10ms/step - loss: 0.1131 - accuracy: 0.9626 - val_loss: 0.9203 - val_accuracy: 0.7695\n",
            "Epoch 23/100\n",
            "191/191 [==============================] - 2s 10ms/step - loss: 0.1057 - accuracy: 0.9681 - val_loss: 0.8726 - val_accuracy: 0.7827\n",
            "Epoch 24/100\n",
            "191/191 [==============================] - 2s 9ms/step - loss: 0.1051 - accuracy: 0.9668 - val_loss: 0.9642 - val_accuracy: 0.7590\n",
            "Epoch 25/100\n",
            "191/191 [==============================] - 2s 10ms/step - loss: 0.1019 - accuracy: 0.9681 - val_loss: 0.8751 - val_accuracy: 0.7722\n",
            "Epoch 26/100\n",
            "191/191 [==============================] - 2s 10ms/step - loss: 0.0957 - accuracy: 0.9673 - val_loss: 0.9864 - val_accuracy: 0.7781\n",
            "Epoch 27/100\n",
            "191/191 [==============================] - 2s 10ms/step - loss: 0.0901 - accuracy: 0.9714 - val_loss: 0.9298 - val_accuracy: 0.7682\n",
            "Epoch 28/100\n",
            "191/191 [==============================] - 2s 10ms/step - loss: 0.0904 - accuracy: 0.9698 - val_loss: 0.9487 - val_accuracy: 0.7603\n",
            "Epoch 29/100\n",
            "191/191 [==============================] - 2s 10ms/step - loss: 0.0843 - accuracy: 0.9706 - val_loss: 0.9755 - val_accuracy: 0.7873\n",
            "Epoch 30/100\n",
            "191/191 [==============================] - 2s 10ms/step - loss: 0.0860 - accuracy: 0.9714 - val_loss: 1.0956 - val_accuracy: 0.7564\n",
            "Epoch 31/100\n",
            "191/191 [==============================] - 2s 9ms/step - loss: 0.0849 - accuracy: 0.9695 - val_loss: 1.0073 - val_accuracy: 0.7722\n",
            "Epoch 32/100\n",
            "191/191 [==============================] - 2s 10ms/step - loss: 0.0912 - accuracy: 0.9690 - val_loss: 1.0080 - val_accuracy: 0.7761\n",
            "Epoch 33/100\n",
            "191/191 [==============================] - 2s 10ms/step - loss: 0.0839 - accuracy: 0.9719 - val_loss: 1.0494 - val_accuracy: 0.7557\n",
            "Epoch 34/100\n",
            "191/191 [==============================] - 2s 10ms/step - loss: 0.0800 - accuracy: 0.9721 - val_loss: 1.0191 - val_accuracy: 0.7656\n",
            "Epoch 35/100\n",
            "191/191 [==============================] - 2s 9ms/step - loss: 0.0729 - accuracy: 0.9754 - val_loss: 1.0231 - val_accuracy: 0.7748\n",
            "Epoch 36/100\n",
            "191/191 [==============================] - 2s 10ms/step - loss: 0.0768 - accuracy: 0.9722 - val_loss: 1.0907 - val_accuracy: 0.7564\n",
            "Epoch 37/100\n",
            "191/191 [==============================] - 2s 9ms/step - loss: 0.0718 - accuracy: 0.9737 - val_loss: 1.0589 - val_accuracy: 0.7603\n",
            "Epoch 38/100\n",
            "191/191 [==============================] - 2s 10ms/step - loss: 0.0802 - accuracy: 0.9709 - val_loss: 1.0979 - val_accuracy: 0.7774\n",
            "Epoch 39/100\n",
            "191/191 [==============================] - 2s 10ms/step - loss: 0.0813 - accuracy: 0.9703 - val_loss: 1.0078 - val_accuracy: 0.7669\n",
            "Epoch 40/100\n",
            "191/191 [==============================] - 2s 9ms/step - loss: 0.0716 - accuracy: 0.9744 - val_loss: 1.0542 - val_accuracy: 0.7610\n",
            "Epoch 41/100\n",
            "191/191 [==============================] - 2s 10ms/step - loss: 0.0624 - accuracy: 0.9764 - val_loss: 1.0766 - val_accuracy: 0.7630\n",
            "Epoch 42/100\n",
            "191/191 [==============================] - 2s 9ms/step - loss: 0.0642 - accuracy: 0.9775 - val_loss: 1.0425 - val_accuracy: 0.7722\n",
            "Epoch 43/100\n",
            "191/191 [==============================] - 2s 10ms/step - loss: 0.0601 - accuracy: 0.9749 - val_loss: 1.1121 - val_accuracy: 0.7735\n",
            "Epoch 44/100\n",
            "191/191 [==============================] - 2s 10ms/step - loss: 0.0587 - accuracy: 0.9777 - val_loss: 1.1288 - val_accuracy: 0.7617\n",
            "Epoch 45/100\n",
            "191/191 [==============================] - 2s 10ms/step - loss: 0.0574 - accuracy: 0.9788 - val_loss: 1.1861 - val_accuracy: 0.7708\n",
            "Epoch 46/100\n",
            "191/191 [==============================] - 2s 10ms/step - loss: 0.0629 - accuracy: 0.9750 - val_loss: 1.0551 - val_accuracy: 0.7768\n",
            "Epoch 47/100\n",
            "191/191 [==============================] - 2s 10ms/step - loss: 0.0748 - accuracy: 0.9688 - val_loss: 1.0773 - val_accuracy: 0.7630\n",
            "Epoch 48/100\n",
            "191/191 [==============================] - 2s 10ms/step - loss: 0.0739 - accuracy: 0.9708 - val_loss: 1.0374 - val_accuracy: 0.7741\n",
            "Epoch 49/100\n",
            "191/191 [==============================] - 2s 10ms/step - loss: 0.0646 - accuracy: 0.9744 - val_loss: 1.0961 - val_accuracy: 0.7676\n",
            "Epoch 50/100\n",
            "191/191 [==============================] - 2s 10ms/step - loss: 0.0549 - accuracy: 0.9780 - val_loss: 1.1408 - val_accuracy: 0.7643\n",
            "Epoch 51/100\n",
            "191/191 [==============================] - 2s 10ms/step - loss: 0.0562 - accuracy: 0.9772 - val_loss: 1.1275 - val_accuracy: 0.7735\n",
            "Epoch 52/100\n",
            "191/191 [==============================] - 2s 10ms/step - loss: 0.0529 - accuracy: 0.9772 - val_loss: 1.1966 - val_accuracy: 0.7538\n",
            "Epoch 53/100\n",
            "191/191 [==============================] - 2s 10ms/step - loss: 0.0517 - accuracy: 0.9801 - val_loss: 1.1504 - val_accuracy: 0.7735\n",
            "Epoch 54/100\n",
            "191/191 [==============================] - 2s 9ms/step - loss: 0.0695 - accuracy: 0.9713 - val_loss: 0.8613 - val_accuracy: 0.7781\n",
            "Epoch 55/100\n",
            "191/191 [==============================] - 2s 9ms/step - loss: 0.0860 - accuracy: 0.9663 - val_loss: 1.0922 - val_accuracy: 0.7623\n",
            "Epoch 56/100\n",
            "191/191 [==============================] - 2s 9ms/step - loss: 0.0668 - accuracy: 0.9742 - val_loss: 1.1232 - val_accuracy: 0.7649\n",
            "Epoch 57/100\n",
            "191/191 [==============================] - 2s 10ms/step - loss: 0.0619 - accuracy: 0.9749 - val_loss: 1.1588 - val_accuracy: 0.7597\n",
            "Epoch 58/100\n",
            "191/191 [==============================] - 2s 9ms/step - loss: 0.0605 - accuracy: 0.9752 - val_loss: 1.1199 - val_accuracy: 0.7676\n",
            "Epoch 59/100\n",
            "191/191 [==============================] - 2s 10ms/step - loss: 0.0657 - accuracy: 0.9747 - val_loss: 1.0803 - val_accuracy: 0.7623\n",
            "Epoch 60/100\n",
            "191/191 [==============================] - 2s 9ms/step - loss: 0.0552 - accuracy: 0.9768 - val_loss: 1.2138 - val_accuracy: 0.7538\n",
            "Epoch 61/100\n",
            "191/191 [==============================] - 2s 9ms/step - loss: 0.0507 - accuracy: 0.9783 - val_loss: 1.2260 - val_accuracy: 0.7538\n",
            "Epoch 62/100\n",
            "191/191 [==============================] - 2s 10ms/step - loss: 0.0515 - accuracy: 0.9788 - val_loss: 1.1480 - val_accuracy: 0.7643\n",
            "Epoch 63/100\n",
            "191/191 [==============================] - 2s 10ms/step - loss: 0.0496 - accuracy: 0.9806 - val_loss: 1.2713 - val_accuracy: 0.7643\n",
            "Epoch 64/100\n",
            "191/191 [==============================] - 2s 10ms/step - loss: 0.0492 - accuracy: 0.9791 - val_loss: 1.1104 - val_accuracy: 0.7603\n",
            "Epoch 65/100\n",
            "191/191 [==============================] - 2s 11ms/step - loss: 0.0474 - accuracy: 0.9791 - val_loss: 1.2545 - val_accuracy: 0.7643\n",
            "Epoch 66/100\n",
            "191/191 [==============================] - 2s 10ms/step - loss: 0.0478 - accuracy: 0.9798 - val_loss: 1.2523 - val_accuracy: 0.7623\n",
            "Epoch 67/100\n",
            "191/191 [==============================] - 2s 10ms/step - loss: 0.0780 - accuracy: 0.9693 - val_loss: 1.0642 - val_accuracy: 0.7603\n",
            "Epoch 68/100\n",
            "191/191 [==============================] - 2s 9ms/step - loss: 0.0629 - accuracy: 0.9750 - val_loss: 1.0722 - val_accuracy: 0.7735\n",
            "Epoch 69/100\n",
            "191/191 [==============================] - 2s 10ms/step - loss: 0.0506 - accuracy: 0.9805 - val_loss: 1.1726 - val_accuracy: 0.7623\n",
            "Epoch 70/100\n",
            "191/191 [==============================] - 2s 10ms/step - loss: 0.0584 - accuracy: 0.9768 - val_loss: 1.1419 - val_accuracy: 0.7623\n",
            "Epoch 71/100\n",
            "191/191 [==============================] - 2s 10ms/step - loss: 0.0533 - accuracy: 0.9777 - val_loss: 1.1485 - val_accuracy: 0.7761\n",
            "Epoch 72/100\n",
            "191/191 [==============================] - 2s 10ms/step - loss: 0.0536 - accuracy: 0.9772 - val_loss: 1.1006 - val_accuracy: 0.7708\n",
            "Epoch 73/100\n",
            "191/191 [==============================] - 2s 9ms/step - loss: 0.0581 - accuracy: 0.9760 - val_loss: 1.1110 - val_accuracy: 0.7774\n",
            "Epoch 74/100\n",
            "191/191 [==============================] - 2s 10ms/step - loss: 0.0597 - accuracy: 0.9741 - val_loss: 1.0359 - val_accuracy: 0.7761\n",
            "Epoch 75/100\n",
            "191/191 [==============================] - 2s 10ms/step - loss: 0.0513 - accuracy: 0.9775 - val_loss: 1.1798 - val_accuracy: 0.7702\n",
            "Epoch 76/100\n",
            "191/191 [==============================] - 2s 10ms/step - loss: 0.0541 - accuracy: 0.9777 - val_loss: 1.1920 - val_accuracy: 0.7676\n",
            "Epoch 77/100\n",
            "191/191 [==============================] - 2s 9ms/step - loss: 0.0522 - accuracy: 0.9754 - val_loss: 1.2379 - val_accuracy: 0.7571\n",
            "Epoch 78/100\n",
            "191/191 [==============================] - 2s 10ms/step - loss: 0.0602 - accuracy: 0.9741 - val_loss: 1.1381 - val_accuracy: 0.7636\n",
            "Epoch 79/100\n",
            "191/191 [==============================] - 2s 9ms/step - loss: 0.0511 - accuracy: 0.9788 - val_loss: 1.1588 - val_accuracy: 0.7722\n",
            "Epoch 80/100\n",
            "191/191 [==============================] - 2s 10ms/step - loss: 0.0500 - accuracy: 0.9800 - val_loss: 1.2374 - val_accuracy: 0.7728\n",
            "Epoch 81/100\n",
            "191/191 [==============================] - 2s 10ms/step - loss: 0.0462 - accuracy: 0.9796 - val_loss: 1.2303 - val_accuracy: 0.7735\n",
            "Epoch 82/100\n",
            "191/191 [==============================] - 2s 10ms/step - loss: 0.0449 - accuracy: 0.9806 - val_loss: 1.2411 - val_accuracy: 0.7722\n",
            "Epoch 83/100\n",
            "191/191 [==============================] - 2s 10ms/step - loss: 0.0447 - accuracy: 0.9808 - val_loss: 1.2103 - val_accuracy: 0.7702\n",
            "Epoch 84/100\n",
            "191/191 [==============================] - 2s 10ms/step - loss: 0.0437 - accuracy: 0.9791 - val_loss: 1.2544 - val_accuracy: 0.7754\n",
            "Epoch 85/100\n",
            "191/191 [==============================] - 2s 10ms/step - loss: 0.0454 - accuracy: 0.9805 - val_loss: 1.3000 - val_accuracy: 0.7663\n",
            "Epoch 86/100\n",
            "191/191 [==============================] - 2s 10ms/step - loss: 0.0617 - accuracy: 0.9754 - val_loss: 1.1304 - val_accuracy: 0.7741\n",
            "Epoch 87/100\n",
            "191/191 [==============================] - 2s 10ms/step - loss: 0.0705 - accuracy: 0.9734 - val_loss: 1.1387 - val_accuracy: 0.7735\n",
            "Epoch 88/100\n",
            "191/191 [==============================] - 2s 10ms/step - loss: 0.0566 - accuracy: 0.9768 - val_loss: 1.1956 - val_accuracy: 0.7728\n",
            "Epoch 89/100\n",
            "191/191 [==============================] - 2s 10ms/step - loss: 0.0481 - accuracy: 0.9806 - val_loss: 1.2218 - val_accuracy: 0.7663\n",
            "Epoch 90/100\n",
            "191/191 [==============================] - 2s 10ms/step - loss: 0.0457 - accuracy: 0.9783 - val_loss: 1.2152 - val_accuracy: 0.7695\n",
            "Epoch 91/100\n",
            "191/191 [==============================] - 2s 10ms/step - loss: 0.0446 - accuracy: 0.9803 - val_loss: 1.2233 - val_accuracy: 0.7708\n",
            "Epoch 92/100\n",
            "191/191 [==============================] - 2s 10ms/step - loss: 0.0435 - accuracy: 0.9811 - val_loss: 1.2584 - val_accuracy: 0.7656\n",
            "Epoch 93/100\n",
            "191/191 [==============================] - 2s 10ms/step - loss: 0.0452 - accuracy: 0.9783 - val_loss: 1.2559 - val_accuracy: 0.7557\n",
            "Epoch 94/100\n",
            "191/191 [==============================] - 2s 10ms/step - loss: 0.0498 - accuracy: 0.9785 - val_loss: 1.2750 - val_accuracy: 0.7715\n",
            "Epoch 95/100\n",
            "191/191 [==============================] - 2s 10ms/step - loss: 0.0535 - accuracy: 0.9772 - val_loss: 1.1853 - val_accuracy: 0.7761\n",
            "Epoch 96/100\n",
            "191/191 [==============================] - 2s 10ms/step - loss: 0.0636 - accuracy: 0.9741 - val_loss: 1.2175 - val_accuracy: 0.7722\n",
            "Epoch 97/100\n",
            "191/191 [==============================] - 2s 10ms/step - loss: 0.0585 - accuracy: 0.9767 - val_loss: 1.1889 - val_accuracy: 0.7663\n",
            "Epoch 98/100\n",
            "191/191 [==============================] - 2s 9ms/step - loss: 0.0507 - accuracy: 0.9787 - val_loss: 1.2031 - val_accuracy: 0.7728\n",
            "Epoch 99/100\n",
            "191/191 [==============================] - 2s 10ms/step - loss: 0.0443 - accuracy: 0.9795 - val_loss: 1.2569 - val_accuracy: 0.7715\n",
            "Epoch 100/100\n",
            "191/191 [==============================] - 2s 10ms/step - loss: 0.0438 - accuracy: 0.9808 - val_loss: 1.2691 - val_accuracy: 0.7728\n"
          ]
        },
        {
          "output_type": "execute_result",
          "data": {
            "text/plain": [
              "<keras.callbacks.History at 0x7f9fc07e0ad0>"
            ]
          },
          "metadata": {},
          "execution_count": 30
        }
      ]
    },
    {
      "cell_type": "code",
      "metadata": {
        "colab": {
          "base_uri": "https://localhost:8080/"
        },
        "id": "0AR7hrokr8Jt",
        "outputId": "496f01cf-2492-47b3-8954-7ef669fae2b1"
      },
      "source": [
        "model.predict(X_test)"
      ],
      "execution_count": null,
      "outputs": [
        {
          "output_type": "execute_result",
          "data": {
            "text/plain": [
              "array([[0.9474875 ],\n",
              "       [0.99838936],\n",
              "       [0.5267128 ],\n",
              "       ...,\n",
              "       [0.999193  ],\n",
              "       [0.9439921 ],\n",
              "       [0.9985031 ]], dtype=float32)"
            ]
          },
          "metadata": {},
          "execution_count": 31
        }
      ]
    },
    {
      "cell_type": "code",
      "metadata": {
        "colab": {
          "base_uri": "https://localhost:8080/",
          "height": 424
        },
        "id": "1fS1zUkHqlum",
        "outputId": "52390f73-d41e-44c5-a4b5-af7e0849f619"
      },
      "source": [
        "y_pred = model.predict(X_test)\n",
        "y_train_pred = []\n",
        "for i in range(len(test)):\n",
        "    if y_pred[i] > 0.5:\n",
        "        y_train_pred.append(1)\n",
        "    else:\n",
        "        y_train_pred.append(0)\n",
        "test['target'] = y_train_pred\n",
        "final = test[['id', 'target']]\n",
        "final.to_csv('pred.csv', index = False)\n",
        "final"
      ],
      "execution_count": null,
      "outputs": [
        {
          "output_type": "execute_result",
          "data": {
            "text/html": [
              "<div>\n",
              "<style scoped>\n",
              "    .dataframe tbody tr th:only-of-type {\n",
              "        vertical-align: middle;\n",
              "    }\n",
              "\n",
              "    .dataframe tbody tr th {\n",
              "        vertical-align: top;\n",
              "    }\n",
              "\n",
              "    .dataframe thead th {\n",
              "        text-align: right;\n",
              "    }\n",
              "</style>\n",
              "<table border=\"1\" class=\"dataframe\">\n",
              "  <thead>\n",
              "    <tr style=\"text-align: right;\">\n",
              "      <th></th>\n",
              "      <th>id</th>\n",
              "      <th>target</th>\n",
              "    </tr>\n",
              "  </thead>\n",
              "  <tbody>\n",
              "    <tr>\n",
              "      <th>0</th>\n",
              "      <td>0</td>\n",
              "      <td>1</td>\n",
              "    </tr>\n",
              "    <tr>\n",
              "      <th>1</th>\n",
              "      <td>2</td>\n",
              "      <td>1</td>\n",
              "    </tr>\n",
              "    <tr>\n",
              "      <th>2</th>\n",
              "      <td>3</td>\n",
              "      <td>1</td>\n",
              "    </tr>\n",
              "    <tr>\n",
              "      <th>3</th>\n",
              "      <td>9</td>\n",
              "      <td>1</td>\n",
              "    </tr>\n",
              "    <tr>\n",
              "      <th>4</th>\n",
              "      <td>11</td>\n",
              "      <td>1</td>\n",
              "    </tr>\n",
              "    <tr>\n",
              "      <th>...</th>\n",
              "      <td>...</td>\n",
              "      <td>...</td>\n",
              "    </tr>\n",
              "    <tr>\n",
              "      <th>3258</th>\n",
              "      <td>10861</td>\n",
              "      <td>1</td>\n",
              "    </tr>\n",
              "    <tr>\n",
              "      <th>3259</th>\n",
              "      <td>10865</td>\n",
              "      <td>1</td>\n",
              "    </tr>\n",
              "    <tr>\n",
              "      <th>3260</th>\n",
              "      <td>10868</td>\n",
              "      <td>1</td>\n",
              "    </tr>\n",
              "    <tr>\n",
              "      <th>3261</th>\n",
              "      <td>10874</td>\n",
              "      <td>1</td>\n",
              "    </tr>\n",
              "    <tr>\n",
              "      <th>3262</th>\n",
              "      <td>10875</td>\n",
              "      <td>1</td>\n",
              "    </tr>\n",
              "  </tbody>\n",
              "</table>\n",
              "<p>3263 rows × 2 columns</p>\n",
              "</div>"
            ],
            "text/plain": [
              "         id  target\n",
              "0         0       1\n",
              "1         2       1\n",
              "2         3       1\n",
              "3         9       1\n",
              "4        11       1\n",
              "...     ...     ...\n",
              "3258  10861       1\n",
              "3259  10865       1\n",
              "3260  10868       1\n",
              "3261  10874       1\n",
              "3262  10875       1\n",
              "\n",
              "[3263 rows x 2 columns]"
            ]
          },
          "metadata": {},
          "execution_count": 33
        }
      ]
    },
    {
      "cell_type": "markdown",
      "metadata": {
        "id": "nrHE-pDrmWDw"
      },
      "source": [
        "![Screenshot 2021-12-05 at 23.11.57.png](data:image/png;base64,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)"
      ]
    },
    {
      "cell_type": "code",
      "metadata": {
        "id": "qlWWIsJOrFVD"
      },
      "source": [
        ""
      ],
      "execution_count": null,
      "outputs": []
    },
    {
      "cell_type": "code",
      "metadata": {
        "id": "AEc08zS9Ou7-"
      },
      "source": [
        ""
      ],
      "execution_count": null,
      "outputs": []
    },
    {
      "cell_type": "markdown",
      "metadata": {
        "id": "SXIbT0nePsFw"
      },
      "source": [
        "## Performing cross validation, hyperparameter tuning, goodness of fit metrics"
      ]
    },
    {
      "cell_type": "code",
      "metadata": {
        "id": "A_BvhpreOu-3"
      },
      "source": [
        "embeddings = []\n",
        "for sentence in text:\n",
        "    embedding = np.zeros(200)\n",
        "    word_count = 0\n",
        "    for word in sentence:\n",
        "        if word in glove.vocab:\n",
        "            embedding += glove.get_vector(word)\n",
        "        word_count += 1\n",
        "    if word_count != 0:\n",
        "        embedding /= word_count\n",
        "    embeddings.append(embedding)\n",
        "embeddings = np.array(embeddings)"
      ],
      "execution_count": null,
      "outputs": []
    },
    {
      "cell_type": "code",
      "metadata": {
        "colab": {
          "base_uri": "https://localhost:8080/"
        },
        "id": "lz9g-IK2OvCA",
        "outputId": "d1588182-d31a-4cc9-c095-b31cfe8d9efa"
      },
      "source": [
        "embeddings"
      ],
      "execution_count": null,
      "outputs": [
        {
          "output_type": "execute_result",
          "data": {
            "text/plain": [
              "array([[ 0.25690012, -0.140232  ,  0.24398764, ..., -0.31653693,\n",
              "         0.18508319,  0.06784627],\n",
              "       [ 0.20790837, -0.16587368,  0.22354597, ..., -0.38288605,\n",
              "         0.23654669,  0.1159744 ],\n",
              "       [ 0.27879569, -0.17978917,  0.26413503, ..., -0.27719853,\n",
              "         0.15926096,  0.09707358],\n",
              "       ...,\n",
              "       [ 0.2350036 , -0.21737831,  0.24629947, ..., -0.26244009,\n",
              "         0.14810147,  0.10090137],\n",
              "       [ 0.27011205, -0.12399437,  0.16931248, ..., -0.25445389,\n",
              "         0.10958237,  0.01013755],\n",
              "       [ 0.16244828, -0.11773796,  0.09622731, ..., -0.37400842,\n",
              "         0.18820559,  0.0490994 ]])"
            ]
          },
          "metadata": {},
          "execution_count": 37
        }
      ]
    },
    {
      "cell_type": "code",
      "metadata": {
        "colab": {
          "base_uri": "https://localhost:8080/"
        },
        "id": "DNXoiI-sOvFI",
        "outputId": "8b7859c0-614d-4b29-8ff3-e5bc727618ce"
      },
      "source": [
        "X_train = embeddings[:7613]\n",
        "X_val = X_train[3807:]\n",
        "X_train = X_train[:3807]\n",
        "X_test = embeddings[7613:] \n",
        "\n",
        "y_train = train['target'].values\n",
        "y_val = y_train[3807:]\n",
        "y_train = y_train[:3807]\n",
        "print(\"X_train.shape=\",X_train.shape)\n",
        "print(\"X_val.shape=\",X_val.shape)\n",
        "print(\"y_train.shape=\",y_train.shape)\n",
        "print(\"y_val.shape=\",y_val.shape)\n",
        "print(\"X_test.shape=\",X_test.shape)"
      ],
      "execution_count": null,
      "outputs": [
        {
          "output_type": "stream",
          "name": "stdout",
          "text": [
            "X_train.shape= (3807, 200)\n",
            "X_val.shape= (3806, 200)\n",
            "y_train.shape= (3807,)\n",
            "y_val.shape= (3806,)\n",
            "X_test.shape= (3263, 200)\n"
          ]
        }
      ]
    },
    {
      "cell_type": "code",
      "metadata": {
        "colab": {
          "base_uri": "https://localhost:8080/"
        },
        "id": "Bp2A2d5uOvIf",
        "outputId": "7367ba54-b9e1-4842-ca08-849d5f4bc9f3"
      },
      "source": [
        "embeddings = []\n",
        "for sentence in text:\n",
        "    embedding = []\n",
        "    for word in sentence.split():\n",
        "        if word in glove.vocab:\n",
        "            embedding.append(glove.get_vector(word).tolist())\n",
        "        else:\n",
        "            embedding.append(np.zeros(embedding_length).tolist())\n",
        "    # pad extra zeros to make length of each sentence = 22 \n",
        "    while len(embedding) < 22:\n",
        "        embedding.append(np.zeros(embedding_length).tolist())\n",
        "    embeddings.append(embedding)\n",
        "embeddings = np.array(embeddings)\n",
        "print(embeddings.shape)"
      ],
      "execution_count": null,
      "outputs": [
        {
          "output_type": "stream",
          "name": "stdout",
          "text": [
            "(10876, 22, 200)\n"
          ]
        }
      ]
    },
    {
      "cell_type": "code",
      "metadata": {
        "colab": {
          "base_uri": "https://localhost:8080/"
        },
        "id": "Hw7qodrGOvLW",
        "outputId": "4c54dde1-33c1-4f45-dd8a-7f5a6d67b064"
      },
      "source": [
        "embeddings"
      ],
      "execution_count": null,
      "outputs": [
        {
          "output_type": "execute_result",
          "data": {
            "text/plain": [
              "array([[[-0.31435001,  0.27825001, -0.12037   , ...,  0.17955001,\n",
              "         -0.75700003, -1.29920006],\n",
              "        [ 0.13054   ,  0.045089  , -0.058965  , ...,  0.68779999,\n",
              "          0.25959   , -0.24171001],\n",
              "        [-0.32275   ,  0.14165001,  0.053551  , ...,  0.064692  ,\n",
              "          0.53280997,  0.41641   ],\n",
              "        ...,\n",
              "        [ 0.        ,  0.        ,  0.        , ...,  0.        ,\n",
              "          0.        ,  0.        ],\n",
              "        [ 0.        ,  0.        ,  0.        , ...,  0.        ,\n",
              "          0.        ,  0.        ],\n",
              "        [ 0.        ,  0.        ,  0.        , ...,  0.        ,\n",
              "          0.        ,  0.        ]],\n",
              "\n",
              "       [[-0.48640001,  0.07589   ,  0.11724   , ..., -1.10109997,\n",
              "         -1.00610006,  0.42403001],\n",
              "        [-0.48187   , -0.29707   , -0.77723002, ..., -0.96424001,\n",
              "          0.065379  ,  0.20376   ],\n",
              "        [-0.43726   , -0.16597   ,  0.32686001, ..., -0.43044999,\n",
              "          0.45885   ,  0.21791001],\n",
              "        ...,\n",
              "        [ 0.        ,  0.        ,  0.        , ...,  0.        ,\n",
              "          0.        ,  0.        ],\n",
              "        [ 0.        ,  0.        ,  0.        , ...,  0.        ,\n",
              "          0.        ,  0.        ],\n",
              "        [ 0.        ,  0.        ,  0.        , ...,  0.        ,\n",
              "          0.        ,  0.        ]],\n",
              "\n",
              "       [[ 0.079731  ,  0.032238  , -0.51945001, ..., -0.30430999,\n",
              "         -0.075443  ,  0.097651  ],\n",
              "        [ 0.30355999,  0.19927999,  0.023732  , ...,  0.091495  ,\n",
              "         -0.02982   ,  0.0075726 ],\n",
              "        [ 0.010551  , -0.22538   ,  0.014604  , ...,  0.057227  ,\n",
              "          0.49344999, -0.40970001],\n",
              "        ...,\n",
              "        [ 0.        ,  0.        ,  0.        , ...,  0.        ,\n",
              "          0.        ,  0.        ],\n",
              "        [ 0.        ,  0.        ,  0.        , ...,  0.        ,\n",
              "          0.        ,  0.        ],\n",
              "        [ 0.        ,  0.        ,  0.        , ...,  0.        ,\n",
              "          0.        ,  0.        ]],\n",
              "\n",
              "       ...,\n",
              "\n",
              "       [[ 0.45434999, -0.87423998, -0.15372001, ..., -0.54664999,\n",
              "         -0.87875998, -0.26930001],\n",
              "        [-0.13941   ,  0.10486   ,  0.38835999, ..., -0.49873999,\n",
              "         -0.039979  ,  0.10725   ],\n",
              "        [-0.30237001,  0.27142   , -0.44975001, ..., -0.46970001,\n",
              "          0.65600997, -0.18921   ],\n",
              "        ...,\n",
              "        [ 0.        ,  0.        ,  0.        , ...,  0.        ,\n",
              "          0.        ,  0.        ],\n",
              "        [ 0.        ,  0.        ,  0.        , ...,  0.        ,\n",
              "          0.        ,  0.        ],\n",
              "        [ 0.        ,  0.        ,  0.        , ...,  0.        ,\n",
              "          0.        ,  0.        ]],\n",
              "\n",
              "       [[ 0.54127002, -0.1903    , -0.51468003, ..., -0.14038   ,\n",
              "          0.0054531 ,  0.43092999],\n",
              "        [ 0.19675   , -0.27274999, -0.78413999, ...,  0.6092    ,\n",
              "         -0.028603  , -0.095454  ],\n",
              "        [-0.14135   , -0.71684003,  0.20483001, ...,  0.0013175 ,\n",
              "         -0.12028   ,  0.03675   ],\n",
              "        ...,\n",
              "        [ 0.        ,  0.        ,  0.        , ...,  0.        ,\n",
              "          0.        ,  0.        ],\n",
              "        [ 0.        ,  0.        ,  0.        , ...,  0.        ,\n",
              "          0.        ,  0.        ],\n",
              "        [ 0.        ,  0.        ,  0.        , ...,  0.        ,\n",
              "          0.        ,  0.        ]],\n",
              "\n",
              "       [[ 0.        ,  0.        ,  0.        , ...,  0.        ,\n",
              "          0.        ,  0.        ],\n",
              "        [ 0.60377997,  0.60516   , -0.45524001, ...,  0.31887999,\n",
              "          0.075213  ,  0.72539997],\n",
              "        [-0.47053999,  0.078224  ,  0.08906   , ...,  0.062673  ,\n",
              "         -0.39892   ,  0.62940001],\n",
              "        ...,\n",
              "        [ 0.        ,  0.        ,  0.        , ...,  0.        ,\n",
              "          0.        ,  0.        ],\n",
              "        [ 0.        ,  0.        ,  0.        , ...,  0.        ,\n",
              "          0.        ,  0.        ],\n",
              "        [ 0.        ,  0.        ,  0.        , ...,  0.        ,\n",
              "          0.        ,  0.        ]]])"
            ]
          },
          "metadata": {},
          "execution_count": 41
        }
      ]
    },
    {
      "cell_type": "code",
      "metadata": {
        "colab": {
          "base_uri": "https://localhost:8080/"
        },
        "id": "vzk5oybaOvN8",
        "outputId": "aa7ae0fc-3eb2-4a40-9023-5f0c81b63645"
      },
      "source": [
        "X_train = embeddings[:7613]\n",
        "X_val = X_train[3807:]\n",
        "X_train = X_train[:3807]\n",
        "X_test = embeddings[7613:] \n",
        "\n",
        "y_train = train['target'].values\n",
        "y_val = y_train[3807:]\n",
        "y_train = y_train[:3807]\n",
        "print(\"X_train.shape=\",X_train.shape)\n",
        "print(\"X_val.shape=\",X_val.shape)\n",
        "print(\"y_train.shape=\",y_train.shape)\n",
        "print(\"y_val.shape=\",y_val.shape)\n",
        "print(\"X_test.shape=\",X_test.shape)"
      ],
      "execution_count": null,
      "outputs": [
        {
          "output_type": "stream",
          "name": "stdout",
          "text": [
            "X_train.shape= (3807, 22, 200)\n",
            "X_val.shape= (3806, 22, 200)\n",
            "y_train.shape= (3807,)\n",
            "y_val.shape= (3806,)\n",
            "X_test.shape= (3263, 22, 200)\n"
          ]
        }
      ]
    },
    {
      "cell_type": "code",
      "metadata": {
        "colab": {
          "base_uri": "https://localhost:8080/"
        },
        "id": "QRFMFlNoaHym",
        "outputId": "4d82d0e4-3db5-4a70-ecb1-cc43ecd94e22"
      },
      "source": [
        "#Model 1\n",
        "act = 'tanh'\n",
        "batch_len = 32\n",
        "opt = 'adam'\n",
        "epoch = 100\n",
        "val_split = 0.2\n",
        "keras.backend.clear_session()\n",
        "model = Sequential()\n",
        "model.add(Input(shape = (22, embedding_length)))\n",
        "model.add(LSTM(22))\n",
        "model.add(Dense(32, activation = act))\n",
        "model.add(Dense(32, activation = act))\n",
        "model.add(Dense(1, activation = 'sigmoid')) \n",
        "model.compile(optimizer = opt, loss = 'binary_crossentropy', metrics = ['accuracy'])\n",
        "model.fit(X_train, y_train, epochs = epoch, batch_size = batch_len, verbose = 1, validation_split=val_split)"
      ],
      "execution_count": null,
      "outputs": [
        {
          "output_type": "stream",
          "name": "stdout",
          "text": [
            "Epoch 1/100\n",
            "96/96 [==============================] - 4s 16ms/step - loss: 0.5338 - accuracy: 0.7356 - val_loss: 0.4639 - val_accuracy: 0.7992\n",
            "Epoch 2/100\n",
            "96/96 [==============================] - 1s 10ms/step - loss: 0.4247 - accuracy: 0.8204 - val_loss: 0.4572 - val_accuracy: 0.8110\n",
            "Epoch 3/100\n",
            "96/96 [==============================] - 1s 9ms/step - loss: 0.3964 - accuracy: 0.8371 - val_loss: 0.4759 - val_accuracy: 0.7913\n",
            "Epoch 4/100\n",
            "96/96 [==============================] - 1s 10ms/step - loss: 0.3738 - accuracy: 0.8496 - val_loss: 0.4636 - val_accuracy: 0.7887\n",
            "Epoch 5/100\n",
            "96/96 [==============================] - 1s 10ms/step - loss: 0.3476 - accuracy: 0.8663 - val_loss: 0.4823 - val_accuracy: 0.7913\n",
            "Epoch 6/100\n",
            "96/96 [==============================] - 1s 10ms/step - loss: 0.3270 - accuracy: 0.8680 - val_loss: 0.5168 - val_accuracy: 0.7822\n",
            "Epoch 7/100\n",
            "96/96 [==============================] - 1s 10ms/step - loss: 0.3019 - accuracy: 0.8818 - val_loss: 0.5393 - val_accuracy: 0.7822\n",
            "Epoch 8/100\n",
            "96/96 [==============================] - 1s 10ms/step - loss: 0.2718 - accuracy: 0.8979 - val_loss: 0.6013 - val_accuracy: 0.7520\n",
            "Epoch 9/100\n",
            "96/96 [==============================] - 1s 9ms/step - loss: 0.2527 - accuracy: 0.9110 - val_loss: 0.6450 - val_accuracy: 0.7415\n",
            "Epoch 10/100\n",
            "96/96 [==============================] - 1s 10ms/step - loss: 0.2259 - accuracy: 0.9179 - val_loss: 0.6337 - val_accuracy: 0.7546\n",
            "Epoch 11/100\n",
            "96/96 [==============================] - 1s 11ms/step - loss: 0.2115 - accuracy: 0.9238 - val_loss: 0.7375 - val_accuracy: 0.7507\n",
            "Epoch 12/100\n",
            "96/96 [==============================] - 1s 10ms/step - loss: 0.1742 - accuracy: 0.9406 - val_loss: 0.8503 - val_accuracy: 0.7270\n",
            "Epoch 13/100\n",
            "96/96 [==============================] - 1s 10ms/step - loss: 0.1578 - accuracy: 0.9504 - val_loss: 0.9639 - val_accuracy: 0.7165\n",
            "Epoch 14/100\n",
            "96/96 [==============================] - 1s 10ms/step - loss: 0.1658 - accuracy: 0.9461 - val_loss: 0.7683 - val_accuracy: 0.7257\n",
            "Epoch 15/100\n",
            "96/96 [==============================] - 1s 10ms/step - loss: 0.1272 - accuracy: 0.9662 - val_loss: 0.8911 - val_accuracy: 0.7218\n",
            "Epoch 16/100\n",
            "96/96 [==============================] - 1s 9ms/step - loss: 0.1205 - accuracy: 0.9629 - val_loss: 0.9019 - val_accuracy: 0.7178\n",
            "Epoch 17/100\n",
            "96/96 [==============================] - 1s 10ms/step - loss: 0.1173 - accuracy: 0.9639 - val_loss: 0.9611 - val_accuracy: 0.7152\n",
            "Epoch 18/100\n",
            "96/96 [==============================] - 1s 10ms/step - loss: 0.1042 - accuracy: 0.9685 - val_loss: 1.0779 - val_accuracy: 0.7218\n",
            "Epoch 19/100\n",
            "96/96 [==============================] - 1s 9ms/step - loss: 0.1059 - accuracy: 0.9662 - val_loss: 0.9539 - val_accuracy: 0.7218\n",
            "Epoch 20/100\n",
            "96/96 [==============================] - 1s 9ms/step - loss: 0.0994 - accuracy: 0.9701 - val_loss: 1.0053 - val_accuracy: 0.7178\n",
            "Epoch 21/100\n",
            "96/96 [==============================] - 1s 10ms/step - loss: 0.0847 - accuracy: 0.9737 - val_loss: 0.9688 - val_accuracy: 0.7310\n",
            "Epoch 22/100\n",
            "96/96 [==============================] - 1s 10ms/step - loss: 0.0809 - accuracy: 0.9757 - val_loss: 1.0014 - val_accuracy: 0.7218\n",
            "Epoch 23/100\n",
            "96/96 [==============================] - 1s 10ms/step - loss: 0.0830 - accuracy: 0.9747 - val_loss: 1.0928 - val_accuracy: 0.7283\n",
            "Epoch 24/100\n",
            "96/96 [==============================] - 1s 9ms/step - loss: 0.0785 - accuracy: 0.9780 - val_loss: 1.0668 - val_accuracy: 0.7231\n",
            "Epoch 25/100\n",
            "96/96 [==============================] - 1s 10ms/step - loss: 0.0668 - accuracy: 0.9780 - val_loss: 1.0787 - val_accuracy: 0.7270\n",
            "Epoch 26/100\n",
            "96/96 [==============================] - 1s 9ms/step - loss: 0.0651 - accuracy: 0.9800 - val_loss: 1.1942 - val_accuracy: 0.7087\n",
            "Epoch 27/100\n",
            "96/96 [==============================] - 1s 9ms/step - loss: 0.0637 - accuracy: 0.9783 - val_loss: 1.1386 - val_accuracy: 0.7034\n",
            "Epoch 28/100\n",
            "96/96 [==============================] - 1s 10ms/step - loss: 0.0587 - accuracy: 0.9823 - val_loss: 1.1908 - val_accuracy: 0.7100\n",
            "Epoch 29/100\n",
            "96/96 [==============================] - 1s 10ms/step - loss: 0.0658 - accuracy: 0.9760 - val_loss: 1.1624 - val_accuracy: 0.7060\n",
            "Epoch 30/100\n",
            "96/96 [==============================] - 1s 9ms/step - loss: 0.0589 - accuracy: 0.9810 - val_loss: 1.2085 - val_accuracy: 0.7283\n",
            "Epoch 31/100\n",
            "96/96 [==============================] - 1s 10ms/step - loss: 0.0522 - accuracy: 0.9803 - val_loss: 1.1927 - val_accuracy: 0.7336\n",
            "Epoch 32/100\n",
            "96/96 [==============================] - 1s 9ms/step - loss: 0.0507 - accuracy: 0.9810 - val_loss: 1.2432 - val_accuracy: 0.7231\n",
            "Epoch 33/100\n",
            "96/96 [==============================] - 1s 10ms/step - loss: 0.0865 - accuracy: 0.9708 - val_loss: 1.2319 - val_accuracy: 0.6969\n",
            "Epoch 34/100\n",
            "96/96 [==============================] - 1s 10ms/step - loss: 0.0548 - accuracy: 0.9787 - val_loss: 1.2278 - val_accuracy: 0.7060\n",
            "Epoch 35/100\n",
            "96/96 [==============================] - 1s 10ms/step - loss: 0.0698 - accuracy: 0.9741 - val_loss: 1.1432 - val_accuracy: 0.7139\n",
            "Epoch 36/100\n",
            "96/96 [==============================] - 1s 10ms/step - loss: 0.0512 - accuracy: 0.9803 - val_loss: 1.2683 - val_accuracy: 0.7060\n",
            "Epoch 37/100\n",
            "96/96 [==============================] - 1s 10ms/step - loss: 0.0433 - accuracy: 0.9816 - val_loss: 1.3536 - val_accuracy: 0.7192\n",
            "Epoch 38/100\n",
            "96/96 [==============================] - 1s 10ms/step - loss: 0.0470 - accuracy: 0.9813 - val_loss: 1.2956 - val_accuracy: 0.7231\n",
            "Epoch 39/100\n",
            "96/96 [==============================] - 1s 10ms/step - loss: 0.0498 - accuracy: 0.9767 - val_loss: 1.4251 - val_accuracy: 0.7021\n",
            "Epoch 40/100\n",
            "96/96 [==============================] - 1s 10ms/step - loss: 0.0434 - accuracy: 0.9823 - val_loss: 1.3142 - val_accuracy: 0.7100\n",
            "Epoch 41/100\n",
            "96/96 [==============================] - 1s 9ms/step - loss: 0.0360 - accuracy: 0.9842 - val_loss: 1.4297 - val_accuracy: 0.6955\n",
            "Epoch 42/100\n",
            "96/96 [==============================] - 1s 10ms/step - loss: 0.0372 - accuracy: 0.9836 - val_loss: 1.4853 - val_accuracy: 0.6929\n",
            "Epoch 43/100\n",
            "96/96 [==============================] - 1s 10ms/step - loss: 0.0365 - accuracy: 0.9839 - val_loss: 1.4833 - val_accuracy: 0.7087\n",
            "Epoch 44/100\n",
            "96/96 [==============================] - 1s 10ms/step - loss: 0.0348 - accuracy: 0.9833 - val_loss: 1.5605 - val_accuracy: 0.6798\n",
            "Epoch 45/100\n",
            "96/96 [==============================] - 1s 10ms/step - loss: 0.0340 - accuracy: 0.9819 - val_loss: 1.6968 - val_accuracy: 0.7060\n",
            "Epoch 46/100\n",
            "96/96 [==============================] - 1s 10ms/step - loss: 0.0351 - accuracy: 0.9839 - val_loss: 1.7009 - val_accuracy: 0.6877\n",
            "Epoch 47/100\n",
            "96/96 [==============================] - 1s 9ms/step - loss: 0.0856 - accuracy: 0.9645 - val_loss: 1.2697 - val_accuracy: 0.7047\n",
            "Epoch 48/100\n",
            "96/96 [==============================] - 1s 10ms/step - loss: 0.0463 - accuracy: 0.9819 - val_loss: 1.4077 - val_accuracy: 0.7034\n",
            "Epoch 49/100\n",
            "96/96 [==============================] - 1s 9ms/step - loss: 0.0416 - accuracy: 0.9813 - val_loss: 1.4390 - val_accuracy: 0.7139\n",
            "Epoch 50/100\n",
            "96/96 [==============================] - 1s 10ms/step - loss: 0.0373 - accuracy: 0.9816 - val_loss: 1.3809 - val_accuracy: 0.7192\n",
            "Epoch 51/100\n",
            "96/96 [==============================] - 1s 10ms/step - loss: 0.0481 - accuracy: 0.9793 - val_loss: 1.3446 - val_accuracy: 0.6942\n",
            "Epoch 52/100\n",
            "96/96 [==============================] - 1s 10ms/step - loss: 0.0530 - accuracy: 0.9800 - val_loss: 1.2325 - val_accuracy: 0.7323\n",
            "Epoch 53/100\n",
            "96/96 [==============================] - 1s 10ms/step - loss: 0.0498 - accuracy: 0.9793 - val_loss: 1.3947 - val_accuracy: 0.7152\n",
            "Epoch 54/100\n",
            "96/96 [==============================] - 1s 10ms/step - loss: 0.0418 - accuracy: 0.9819 - val_loss: 1.4250 - val_accuracy: 0.7060\n",
            "Epoch 55/100\n",
            "96/96 [==============================] - 1s 9ms/step - loss: 0.0382 - accuracy: 0.9813 - val_loss: 1.4112 - val_accuracy: 0.7165\n",
            "Epoch 56/100\n",
            "96/96 [==============================] - 1s 10ms/step - loss: 0.0344 - accuracy: 0.9839 - val_loss: 1.5143 - val_accuracy: 0.7100\n",
            "Epoch 57/100\n",
            "96/96 [==============================] - 1s 10ms/step - loss: 0.0340 - accuracy: 0.9852 - val_loss: 1.5097 - val_accuracy: 0.7073\n",
            "Epoch 58/100\n",
            "96/96 [==============================] - 1s 10ms/step - loss: 0.0334 - accuracy: 0.9852 - val_loss: 1.5227 - val_accuracy: 0.7087\n",
            "Epoch 59/100\n",
            "96/96 [==============================] - 1s 10ms/step - loss: 0.0311 - accuracy: 0.9846 - val_loss: 1.5601 - val_accuracy: 0.7165\n",
            "Epoch 60/100\n",
            "96/96 [==============================] - 1s 10ms/step - loss: 0.0314 - accuracy: 0.9856 - val_loss: 1.6987 - val_accuracy: 0.7178\n",
            "Epoch 61/100\n",
            "96/96 [==============================] - 1s 10ms/step - loss: 0.0355 - accuracy: 0.9842 - val_loss: 1.6852 - val_accuracy: 0.7047\n",
            "Epoch 62/100\n",
            "96/96 [==============================] - 1s 10ms/step - loss: 0.0313 - accuracy: 0.9846 - val_loss: 1.6280 - val_accuracy: 0.7100\n",
            "Epoch 63/100\n",
            "96/96 [==============================] - 1s 10ms/step - loss: 0.0299 - accuracy: 0.9852 - val_loss: 1.7430 - val_accuracy: 0.6982\n",
            "Epoch 64/100\n",
            "96/96 [==============================] - 1s 10ms/step - loss: 0.0300 - accuracy: 0.9839 - val_loss: 1.7176 - val_accuracy: 0.7021\n",
            "Epoch 65/100\n",
            "96/96 [==============================] - 1s 10ms/step - loss: 0.0306 - accuracy: 0.9842 - val_loss: 1.6611 - val_accuracy: 0.7139\n",
            "Epoch 66/100\n",
            "96/96 [==============================] - 1s 10ms/step - loss: 0.0287 - accuracy: 0.9859 - val_loss: 1.7993 - val_accuracy: 0.6916\n",
            "Epoch 67/100\n",
            "96/96 [==============================] - 1s 10ms/step - loss: 0.0318 - accuracy: 0.9856 - val_loss: 1.8351 - val_accuracy: 0.6969\n",
            "Epoch 68/100\n",
            "96/96 [==============================] - 1s 10ms/step - loss: 0.0288 - accuracy: 0.9842 - val_loss: 1.7816 - val_accuracy: 0.7008\n",
            "Epoch 69/100\n",
            "96/96 [==============================] - 1s 9ms/step - loss: 0.0293 - accuracy: 0.9856 - val_loss: 1.8219 - val_accuracy: 0.7113\n",
            "Epoch 70/100\n",
            "96/96 [==============================] - 1s 10ms/step - loss: 0.0288 - accuracy: 0.9842 - val_loss: 1.8871 - val_accuracy: 0.7047\n",
            "Epoch 71/100\n",
            "96/96 [==============================] - 1s 10ms/step - loss: 0.0317 - accuracy: 0.9856 - val_loss: 1.6318 - val_accuracy: 0.7152\n",
            "Epoch 72/100\n",
            "96/96 [==============================] - 1s 9ms/step - loss: 0.0536 - accuracy: 0.9770 - val_loss: 1.3947 - val_accuracy: 0.7310\n",
            "Epoch 73/100\n",
            "96/96 [==============================] - 1s 10ms/step - loss: 0.0681 - accuracy: 0.9750 - val_loss: 1.3260 - val_accuracy: 0.7073\n",
            "Epoch 74/100\n",
            "96/96 [==============================] - 1s 10ms/step - loss: 0.0546 - accuracy: 0.9754 - val_loss: 1.3450 - val_accuracy: 0.6969\n",
            "Epoch 75/100\n",
            "96/96 [==============================] - 1s 10ms/step - loss: 0.0527 - accuracy: 0.9764 - val_loss: 1.4672 - val_accuracy: 0.7073\n",
            "Epoch 76/100\n",
            "96/96 [==============================] - 1s 10ms/step - loss: 0.0417 - accuracy: 0.9829 - val_loss: 1.3950 - val_accuracy: 0.7034\n",
            "Epoch 77/100\n",
            "96/96 [==============================] - 1s 10ms/step - loss: 0.0361 - accuracy: 0.9833 - val_loss: 1.3860 - val_accuracy: 0.7165\n",
            "Epoch 78/100\n",
            "96/96 [==============================] - 1s 10ms/step - loss: 0.0291 - accuracy: 0.9846 - val_loss: 1.5741 - val_accuracy: 0.7126\n",
            "Epoch 79/100\n",
            "96/96 [==============================] - 1s 10ms/step - loss: 0.0284 - accuracy: 0.9852 - val_loss: 1.6372 - val_accuracy: 0.7100\n",
            "Epoch 80/100\n",
            "96/96 [==============================] - 1s 10ms/step - loss: 0.0279 - accuracy: 0.9859 - val_loss: 1.6720 - val_accuracy: 0.7126\n",
            "Epoch 81/100\n",
            "96/96 [==============================] - 1s 10ms/step - loss: 0.0282 - accuracy: 0.9856 - val_loss: 1.8032 - val_accuracy: 0.7073\n",
            "Epoch 82/100\n",
            "96/96 [==============================] - 1s 10ms/step - loss: 0.0281 - accuracy: 0.9859 - val_loss: 1.8376 - val_accuracy: 0.7113\n",
            "Epoch 83/100\n",
            "96/96 [==============================] - 1s 10ms/step - loss: 0.0280 - accuracy: 0.9842 - val_loss: 1.7671 - val_accuracy: 0.7113\n",
            "Epoch 84/100\n",
            "96/96 [==============================] - 1s 10ms/step - loss: 0.0282 - accuracy: 0.9846 - val_loss: 1.7561 - val_accuracy: 0.7126\n",
            "Epoch 85/100\n",
            "96/96 [==============================] - 1s 10ms/step - loss: 0.0271 - accuracy: 0.9842 - val_loss: 1.9022 - val_accuracy: 0.7139\n",
            "Epoch 86/100\n",
            "96/96 [==============================] - 1s 10ms/step - loss: 0.0276 - accuracy: 0.9846 - val_loss: 1.8711 - val_accuracy: 0.7113\n",
            "Epoch 87/100\n",
            "96/96 [==============================] - 1s 10ms/step - loss: 0.0271 - accuracy: 0.9856 - val_loss: 1.8963 - val_accuracy: 0.7192\n",
            "Epoch 88/100\n",
            "96/96 [==============================] - 1s 10ms/step - loss: 0.0271 - accuracy: 0.9849 - val_loss: 1.8895 - val_accuracy: 0.7139\n",
            "Epoch 89/100\n",
            "96/96 [==============================] - 1s 10ms/step - loss: 0.0272 - accuracy: 0.9852 - val_loss: 1.8575 - val_accuracy: 0.7113\n",
            "Epoch 90/100\n",
            "96/96 [==============================] - 1s 9ms/step - loss: 0.0279 - accuracy: 0.9862 - val_loss: 1.8183 - val_accuracy: 0.7218\n",
            "Epoch 91/100\n",
            "96/96 [==============================] - 1s 9ms/step - loss: 0.0274 - accuracy: 0.9852 - val_loss: 1.9891 - val_accuracy: 0.7073\n",
            "Epoch 92/100\n",
            "96/96 [==============================] - 1s 9ms/step - loss: 0.0275 - accuracy: 0.9856 - val_loss: 2.0400 - val_accuracy: 0.7100\n",
            "Epoch 93/100\n",
            "96/96 [==============================] - 1s 10ms/step - loss: 0.0276 - accuracy: 0.9856 - val_loss: 2.0034 - val_accuracy: 0.7100\n",
            "Epoch 94/100\n",
            "96/96 [==============================] - 1s 10ms/step - loss: 0.0271 - accuracy: 0.9869 - val_loss: 1.9805 - val_accuracy: 0.7087\n",
            "Epoch 95/100\n",
            "96/96 [==============================] - 1s 9ms/step - loss: 0.0278 - accuracy: 0.9872 - val_loss: 1.8347 - val_accuracy: 0.7126\n",
            "Epoch 96/100\n",
            "96/96 [==============================] - 1s 10ms/step - loss: 0.0467 - accuracy: 0.9813 - val_loss: 1.4688 - val_accuracy: 0.6824\n",
            "Epoch 97/100\n",
            "96/96 [==============================] - 1s 10ms/step - loss: 0.0940 - accuracy: 0.9665 - val_loss: 0.9705 - val_accuracy: 0.7257\n",
            "Epoch 98/100\n",
            "96/96 [==============================] - 1s 10ms/step - loss: 0.0537 - accuracy: 0.9764 - val_loss: 1.3746 - val_accuracy: 0.7073\n",
            "Epoch 99/100\n",
            "96/96 [==============================] - 1s 10ms/step - loss: 0.0356 - accuracy: 0.9829 - val_loss: 1.6061 - val_accuracy: 0.7165\n",
            "Epoch 100/100\n",
            "96/96 [==============================] - 1s 10ms/step - loss: 0.0372 - accuracy: 0.9823 - val_loss: 1.5202 - val_accuracy: 0.7165\n"
          ]
        },
        {
          "output_type": "execute_result",
          "data": {
            "text/plain": [
              "<keras.callbacks.History at 0x7f9fc0e303d0>"
            ]
          },
          "metadata": {},
          "execution_count": 43
        }
      ]
    },
    {
      "cell_type": "code",
      "metadata": {
        "id": "Ly4KSZVIaH1v"
      },
      "source": [
        "y_val_pred = model.predict(X_val)\n",
        "y_val_pred_1 = []\n",
        "for i in range(len(y_val_pred)):\n",
        "    if y_val_pred[i] > 0.5:\n",
        "        y_val_pred_1.append(1)\n",
        "    else:\n",
        "        y_val_pred_1.append(0)"
      ],
      "execution_count": null,
      "outputs": []
    },
    {
      "cell_type": "code",
      "metadata": {
        "id": "OWcC_r7JcPlR"
      },
      "source": [
        ""
      ],
      "execution_count": null,
      "outputs": []
    },
    {
      "cell_type": "code",
      "metadata": {
        "colab": {
          "base_uri": "https://localhost:8080/"
        },
        "id": "M98XmndRaH4l",
        "outputId": "b8860533-47c2-461e-e1e5-9c9631afefa4"
      },
      "source": [
        "print(metrics.confusion_matrix(y_val, y_val_pred_1))         ## confusion_matrix\n",
        "print(metrics.classification_report(y_val, y_val_pred_1))"
      ],
      "execution_count": null,
      "outputs": [
        {
          "output_type": "stream",
          "name": "stdout",
          "text": [
            "[[1719  370]\n",
            " [ 568 1149]]\n",
            "              precision    recall  f1-score   support\n",
            "\n",
            "           0       0.75      0.82      0.79      2089\n",
            "           1       0.76      0.67      0.71      1717\n",
            "\n",
            "    accuracy                           0.75      3806\n",
            "   macro avg       0.75      0.75      0.75      3806\n",
            "weighted avg       0.75      0.75      0.75      3806\n",
            "\n"
          ]
        }
      ]
    },
    {
      "cell_type": "code",
      "metadata": {
        "colab": {
          "base_uri": "https://localhost:8080/"
        },
        "id": "GfcAZHwEj1X1",
        "outputId": "774dc797-bf41-4d56-93af-6cf6530dad21"
      },
      "source": [
        "#model 2\n",
        "act = 'tanh'\n",
        "batch_len = 32\n",
        "opt = 'adam'\n",
        "epoch = 100\n",
        "val_split = 0.2\n",
        "keras.backend.clear_session()\n",
        "model = Sequential()\n",
        "model.add(Input(shape = (22, embedding_length)))\n",
        "model.add(LSTM(11))\n",
        "model.add(Dense(32, activation = act))\n",
        "model.add(Dense(32, activation = act))\n",
        "model.add(Dense(1, activation = 'sigmoid')) \n",
        "model.compile(optimizer = opt, loss = 'binary_crossentropy', metrics = ['accuracy'])\n",
        "model.fit(X_train, y_train, epochs = epoch, batch_size = batch_len, verbose = 1, validation_split=val_split)\n",
        "\n",
        "y_val_pred = model.predict(X_val)\n",
        "y_val_pred_2 = []\n",
        "for i in range(len(y_val_pred)):\n",
        "    if y_val_pred[i] > 0.5:\n",
        "        y_val_pred_2.append(1)\n",
        "    else:\n",
        "        y_val_pred_2.append(0)\n",
        "\n",
        "print(metrics.confusion_matrix(y_val, y_val_pred_2))         ## confusion_matrix\n",
        "print(metrics.classification_report(y_val, y_val_pred_2))"
      ],
      "execution_count": null,
      "outputs": [
        {
          "output_type": "stream",
          "name": "stdout",
          "text": [
            "Epoch 1/100\n",
            "96/96 [==============================] - 4s 15ms/step - loss: 0.5631 - accuracy: 0.7087 - val_loss: 0.4969 - val_accuracy: 0.7835\n",
            "Epoch 2/100\n",
            "96/96 [==============================] - 1s 9ms/step - loss: 0.4374 - accuracy: 0.8148 - val_loss: 0.4759 - val_accuracy: 0.7795\n",
            "Epoch 3/100\n",
            "96/96 [==============================] - 1s 9ms/step - loss: 0.4044 - accuracy: 0.8342 - val_loss: 0.4958 - val_accuracy: 0.7769\n",
            "Epoch 4/100\n",
            "96/96 [==============================] - 1s 9ms/step - loss: 0.3786 - accuracy: 0.8476 - val_loss: 0.5146 - val_accuracy: 0.7717\n",
            "Epoch 5/100\n",
            "96/96 [==============================] - 1s 9ms/step - loss: 0.3651 - accuracy: 0.8539 - val_loss: 0.4933 - val_accuracy: 0.7730\n",
            "Epoch 6/100\n",
            "96/96 [==============================] - 1s 9ms/step - loss: 0.3448 - accuracy: 0.8673 - val_loss: 0.5132 - val_accuracy: 0.7703\n",
            "Epoch 7/100\n",
            "96/96 [==============================] - 1s 9ms/step - loss: 0.3257 - accuracy: 0.8775 - val_loss: 0.5457 - val_accuracy: 0.7638\n",
            "Epoch 8/100\n",
            "96/96 [==============================] - 1s 9ms/step - loss: 0.3058 - accuracy: 0.8831 - val_loss: 0.5679 - val_accuracy: 0.7572\n",
            "Epoch 9/100\n",
            "96/96 [==============================] - 1s 10ms/step - loss: 0.2841 - accuracy: 0.8998 - val_loss: 0.6078 - val_accuracy: 0.7559\n",
            "Epoch 10/100\n",
            "96/96 [==============================] - 1s 10ms/step - loss: 0.2657 - accuracy: 0.9084 - val_loss: 0.6941 - val_accuracy: 0.7441\n",
            "Epoch 11/100\n",
            "96/96 [==============================] - 1s 9ms/step - loss: 0.2468 - accuracy: 0.9126 - val_loss: 0.6215 - val_accuracy: 0.7572\n",
            "Epoch 12/100\n",
            "96/96 [==============================] - 1s 10ms/step - loss: 0.2319 - accuracy: 0.9235 - val_loss: 0.7156 - val_accuracy: 0.7388\n",
            "Epoch 13/100\n",
            "96/96 [==============================] - 1s 9ms/step - loss: 0.2141 - accuracy: 0.9294 - val_loss: 0.7920 - val_accuracy: 0.7297\n",
            "Epoch 14/100\n",
            "96/96 [==============================] - 1s 10ms/step - loss: 0.2094 - accuracy: 0.9297 - val_loss: 0.7806 - val_accuracy: 0.7375\n",
            "Epoch 15/100\n",
            "96/96 [==============================] - 1s 10ms/step - loss: 0.1923 - accuracy: 0.9392 - val_loss: 0.7284 - val_accuracy: 0.7297\n",
            "Epoch 16/100\n",
            "96/96 [==============================] - 1s 9ms/step - loss: 0.1818 - accuracy: 0.9442 - val_loss: 0.8280 - val_accuracy: 0.7310\n",
            "Epoch 17/100\n",
            "96/96 [==============================] - 1s 9ms/step - loss: 0.1666 - accuracy: 0.9501 - val_loss: 0.9040 - val_accuracy: 0.7336\n",
            "Epoch 18/100\n",
            "96/96 [==============================] - 1s 9ms/step - loss: 0.1622 - accuracy: 0.9530 - val_loss: 0.8739 - val_accuracy: 0.7244\n",
            "Epoch 19/100\n",
            "96/96 [==============================] - 1s 10ms/step - loss: 0.1464 - accuracy: 0.9580 - val_loss: 0.9428 - val_accuracy: 0.7139\n",
            "Epoch 20/100\n",
            "96/96 [==============================] - 1s 9ms/step - loss: 0.1391 - accuracy: 0.9606 - val_loss: 0.9536 - val_accuracy: 0.7152\n",
            "Epoch 21/100\n",
            "96/96 [==============================] - 1s 9ms/step - loss: 0.1326 - accuracy: 0.9639 - val_loss: 0.9441 - val_accuracy: 0.7152\n",
            "Epoch 22/100\n",
            "96/96 [==============================] - 1s 9ms/step - loss: 0.1350 - accuracy: 0.9622 - val_loss: 0.9790 - val_accuracy: 0.7113\n",
            "Epoch 23/100\n",
            "96/96 [==============================] - 1s 10ms/step - loss: 0.1305 - accuracy: 0.9622 - val_loss: 0.9028 - val_accuracy: 0.7087\n",
            "Epoch 24/100\n",
            "96/96 [==============================] - 1s 9ms/step - loss: 0.1234 - accuracy: 0.9649 - val_loss: 0.9812 - val_accuracy: 0.7073\n",
            "Epoch 25/100\n",
            "96/96 [==============================] - 1s 10ms/step - loss: 0.1165 - accuracy: 0.9655 - val_loss: 1.0210 - val_accuracy: 0.7205\n",
            "Epoch 26/100\n",
            "96/96 [==============================] - 1s 9ms/step - loss: 0.1117 - accuracy: 0.9704 - val_loss: 1.0309 - val_accuracy: 0.6982\n",
            "Epoch 27/100\n",
            "96/96 [==============================] - 1s 10ms/step - loss: 0.0982 - accuracy: 0.9744 - val_loss: 1.0401 - val_accuracy: 0.7126\n",
            "Epoch 28/100\n",
            "96/96 [==============================] - 1s 9ms/step - loss: 0.1054 - accuracy: 0.9724 - val_loss: 0.9609 - val_accuracy: 0.7192\n",
            "Epoch 29/100\n",
            "96/96 [==============================] - 1s 9ms/step - loss: 0.1039 - accuracy: 0.9714 - val_loss: 1.0581 - val_accuracy: 0.7165\n",
            "Epoch 30/100\n",
            "96/96 [==============================] - 1s 10ms/step - loss: 0.1183 - accuracy: 0.9678 - val_loss: 1.1156 - val_accuracy: 0.7152\n",
            "Epoch 31/100\n",
            "96/96 [==============================] - 1s 9ms/step - loss: 0.0976 - accuracy: 0.9718 - val_loss: 1.0450 - val_accuracy: 0.7231\n",
            "Epoch 32/100\n",
            "96/96 [==============================] - 1s 10ms/step - loss: 0.0906 - accuracy: 0.9754 - val_loss: 1.0812 - val_accuracy: 0.7152\n",
            "Epoch 33/100\n",
            "96/96 [==============================] - 1s 9ms/step - loss: 0.0877 - accuracy: 0.9780 - val_loss: 1.0965 - val_accuracy: 0.7139\n",
            "Epoch 34/100\n",
            "96/96 [==============================] - 1s 10ms/step - loss: 0.0844 - accuracy: 0.9760 - val_loss: 1.1090 - val_accuracy: 0.7060\n",
            "Epoch 35/100\n",
            "96/96 [==============================] - 1s 9ms/step - loss: 0.0877 - accuracy: 0.9764 - val_loss: 1.0855 - val_accuracy: 0.7073\n",
            "Epoch 36/100\n",
            "96/96 [==============================] - 1s 9ms/step - loss: 0.0863 - accuracy: 0.9764 - val_loss: 1.1427 - val_accuracy: 0.7165\n",
            "Epoch 37/100\n",
            "96/96 [==============================] - 1s 9ms/step - loss: 0.0855 - accuracy: 0.9757 - val_loss: 1.1678 - val_accuracy: 0.7218\n",
            "Epoch 38/100\n",
            "96/96 [==============================] - 1s 9ms/step - loss: 0.0813 - accuracy: 0.9777 - val_loss: 1.0963 - val_accuracy: 0.7323\n",
            "Epoch 39/100\n",
            "96/96 [==============================] - 1s 10ms/step - loss: 0.0829 - accuracy: 0.9770 - val_loss: 1.1262 - val_accuracy: 0.7192\n",
            "Epoch 40/100\n",
            "96/96 [==============================] - 1s 9ms/step - loss: 0.0773 - accuracy: 0.9783 - val_loss: 1.0977 - val_accuracy: 0.7244\n",
            "Epoch 41/100\n",
            "96/96 [==============================] - 1s 9ms/step - loss: 0.0757 - accuracy: 0.9787 - val_loss: 1.0901 - val_accuracy: 0.7257\n",
            "Epoch 42/100\n",
            "96/96 [==============================] - 1s 9ms/step - loss: 0.0768 - accuracy: 0.9790 - val_loss: 1.1015 - val_accuracy: 0.7165\n",
            "Epoch 43/100\n",
            "96/96 [==============================] - 1s 9ms/step - loss: 0.0799 - accuracy: 0.9744 - val_loss: 1.1125 - val_accuracy: 0.7244\n",
            "Epoch 44/100\n",
            "96/96 [==============================] - 1s 9ms/step - loss: 0.0787 - accuracy: 0.9750 - val_loss: 1.1488 - val_accuracy: 0.7034\n",
            "Epoch 45/100\n",
            "96/96 [==============================] - 1s 9ms/step - loss: 0.0785 - accuracy: 0.9764 - val_loss: 1.1236 - val_accuracy: 0.7231\n",
            "Epoch 46/100\n",
            "96/96 [==============================] - 1s 9ms/step - loss: 0.0735 - accuracy: 0.9783 - val_loss: 1.0004 - val_accuracy: 0.7244\n",
            "Epoch 47/100\n",
            "96/96 [==============================] - 1s 10ms/step - loss: 0.0665 - accuracy: 0.9806 - val_loss: 1.1306 - val_accuracy: 0.7257\n",
            "Epoch 48/100\n",
            "96/96 [==============================] - 1s 10ms/step - loss: 0.0646 - accuracy: 0.9816 - val_loss: 1.1100 - val_accuracy: 0.7283\n",
            "Epoch 49/100\n",
            "96/96 [==============================] - 1s 9ms/step - loss: 0.0654 - accuracy: 0.9813 - val_loss: 1.0912 - val_accuracy: 0.7283\n",
            "Epoch 50/100\n",
            "96/96 [==============================] - 1s 9ms/step - loss: 0.0666 - accuracy: 0.9796 - val_loss: 1.1310 - val_accuracy: 0.7192\n",
            "Epoch 51/100\n",
            "96/96 [==============================] - 1s 9ms/step - loss: 0.0617 - accuracy: 0.9803 - val_loss: 1.0769 - val_accuracy: 0.7270\n",
            "Epoch 52/100\n",
            "96/96 [==============================] - 1s 10ms/step - loss: 0.0589 - accuracy: 0.9813 - val_loss: 1.1314 - val_accuracy: 0.7323\n",
            "Epoch 53/100\n",
            "96/96 [==============================] - 1s 10ms/step - loss: 0.0651 - accuracy: 0.9787 - val_loss: 1.1866 - val_accuracy: 0.7126\n",
            "Epoch 54/100\n",
            "96/96 [==============================] - 1s 10ms/step - loss: 0.0711 - accuracy: 0.9770 - val_loss: 1.1964 - val_accuracy: 0.7126\n",
            "Epoch 55/100\n",
            "96/96 [==============================] - 1s 9ms/step - loss: 0.0929 - accuracy: 0.9704 - val_loss: 1.1706 - val_accuracy: 0.6982\n",
            "Epoch 56/100\n",
            "96/96 [==============================] - 1s 10ms/step - loss: 0.0678 - accuracy: 0.9790 - val_loss: 1.1070 - val_accuracy: 0.7165\n",
            "Epoch 57/100\n",
            "96/96 [==============================] - 1s 10ms/step - loss: 0.0552 - accuracy: 0.9819 - val_loss: 1.1798 - val_accuracy: 0.7270\n",
            "Epoch 58/100\n",
            "96/96 [==============================] - 1s 10ms/step - loss: 0.0551 - accuracy: 0.9819 - val_loss: 1.2156 - val_accuracy: 0.7231\n",
            "Epoch 59/100\n",
            "96/96 [==============================] - 1s 9ms/step - loss: 0.0585 - accuracy: 0.9796 - val_loss: 1.2171 - val_accuracy: 0.7113\n",
            "Epoch 60/100\n",
            "96/96 [==============================] - 1s 9ms/step - loss: 0.0547 - accuracy: 0.9836 - val_loss: 1.2408 - val_accuracy: 0.7178\n",
            "Epoch 61/100\n",
            "96/96 [==============================] - 1s 10ms/step - loss: 0.0655 - accuracy: 0.9790 - val_loss: 1.1197 - val_accuracy: 0.7362\n",
            "Epoch 62/100\n",
            "96/96 [==============================] - 1s 10ms/step - loss: 0.0621 - accuracy: 0.9800 - val_loss: 1.1483 - val_accuracy: 0.7192\n",
            "Epoch 63/100\n",
            "96/96 [==============================] - 1s 9ms/step - loss: 0.0633 - accuracy: 0.9793 - val_loss: 1.0942 - val_accuracy: 0.7310\n",
            "Epoch 64/100\n",
            "96/96 [==============================] - 1s 10ms/step - loss: 0.0549 - accuracy: 0.9813 - val_loss: 1.1780 - val_accuracy: 0.7283\n",
            "Epoch 65/100\n",
            "96/96 [==============================] - 1s 10ms/step - loss: 0.0542 - accuracy: 0.9810 - val_loss: 1.2499 - val_accuracy: 0.7257\n",
            "Epoch 66/100\n",
            "96/96 [==============================] - 1s 10ms/step - loss: 0.0627 - accuracy: 0.9787 - val_loss: 1.1772 - val_accuracy: 0.7192\n",
            "Epoch 67/100\n",
            "96/96 [==============================] - 1s 10ms/step - loss: 0.0560 - accuracy: 0.9833 - val_loss: 1.2027 - val_accuracy: 0.7205\n",
            "Epoch 68/100\n",
            "96/96 [==============================] - 1s 10ms/step - loss: 0.0645 - accuracy: 0.9760 - val_loss: 1.0635 - val_accuracy: 0.7257\n",
            "Epoch 69/100\n",
            "96/96 [==============================] - 1s 10ms/step - loss: 0.0634 - accuracy: 0.9767 - val_loss: 1.1543 - val_accuracy: 0.7310\n",
            "Epoch 70/100\n",
            "96/96 [==============================] - 1s 9ms/step - loss: 0.0521 - accuracy: 0.9816 - val_loss: 1.2258 - val_accuracy: 0.7270\n",
            "Epoch 71/100\n",
            "96/96 [==============================] - 1s 9ms/step - loss: 0.0528 - accuracy: 0.9833 - val_loss: 1.1901 - val_accuracy: 0.7310\n",
            "Epoch 72/100\n",
            "96/96 [==============================] - 1s 10ms/step - loss: 0.0483 - accuracy: 0.9826 - val_loss: 1.1963 - val_accuracy: 0.7310\n",
            "Epoch 73/100\n",
            "96/96 [==============================] - 1s 10ms/step - loss: 0.0465 - accuracy: 0.9826 - val_loss: 1.2343 - val_accuracy: 0.7297\n",
            "Epoch 74/100\n",
            "96/96 [==============================] - 1s 9ms/step - loss: 0.0464 - accuracy: 0.9826 - val_loss: 1.2662 - val_accuracy: 0.7257\n",
            "Epoch 75/100\n",
            "96/96 [==============================] - 1s 9ms/step - loss: 0.0458 - accuracy: 0.9823 - val_loss: 1.2527 - val_accuracy: 0.7336\n",
            "Epoch 76/100\n",
            "96/96 [==============================] - 1s 9ms/step - loss: 0.0436 - accuracy: 0.9829 - val_loss: 1.2995 - val_accuracy: 0.7283\n",
            "Epoch 77/100\n",
            "96/96 [==============================] - 1s 9ms/step - loss: 0.0432 - accuracy: 0.9823 - val_loss: 1.2584 - val_accuracy: 0.7192\n",
            "Epoch 78/100\n",
            "96/96 [==============================] - 1s 10ms/step - loss: 0.0450 - accuracy: 0.9823 - val_loss: 1.3475 - val_accuracy: 0.7100\n",
            "Epoch 79/100\n",
            "96/96 [==============================] - 1s 9ms/step - loss: 0.0453 - accuracy: 0.9839 - val_loss: 1.2523 - val_accuracy: 0.7323\n",
            "Epoch 80/100\n",
            "96/96 [==============================] - 1s 9ms/step - loss: 0.0439 - accuracy: 0.9839 - val_loss: 1.3240 - val_accuracy: 0.7257\n",
            "Epoch 81/100\n",
            "96/96 [==============================] - 1s 10ms/step - loss: 0.0432 - accuracy: 0.9856 - val_loss: 1.3575 - val_accuracy: 0.7218\n",
            "Epoch 82/100\n",
            "96/96 [==============================] - 1s 10ms/step - loss: 0.0432 - accuracy: 0.9846 - val_loss: 1.2826 - val_accuracy: 0.7178\n",
            "Epoch 83/100\n",
            "96/96 [==============================] - 1s 10ms/step - loss: 0.0424 - accuracy: 0.9836 - val_loss: 1.3127 - val_accuracy: 0.7336\n",
            "Epoch 84/100\n",
            "96/96 [==============================] - 1s 10ms/step - loss: 0.0754 - accuracy: 0.9727 - val_loss: 1.0965 - val_accuracy: 0.7100\n",
            "Epoch 85/100\n",
            "96/96 [==============================] - 1s 9ms/step - loss: 0.0616 - accuracy: 0.9764 - val_loss: 1.2537 - val_accuracy: 0.7139\n",
            "Epoch 86/100\n",
            "96/96 [==============================] - 1s 10ms/step - loss: 0.0552 - accuracy: 0.9813 - val_loss: 1.2857 - val_accuracy: 0.7178\n",
            "Epoch 87/100\n",
            "96/96 [==============================] - 1s 9ms/step - loss: 0.0493 - accuracy: 0.9833 - val_loss: 1.3529 - val_accuracy: 0.7073\n",
            "Epoch 88/100\n",
            "96/96 [==============================] - 1s 9ms/step - loss: 0.0502 - accuracy: 0.9839 - val_loss: 1.3291 - val_accuracy: 0.7139\n",
            "Epoch 89/100\n",
            "96/96 [==============================] - 1s 10ms/step - loss: 0.0420 - accuracy: 0.9856 - val_loss: 1.3139 - val_accuracy: 0.7257\n",
            "Epoch 90/100\n",
            "96/96 [==============================] - 1s 10ms/step - loss: 0.0417 - accuracy: 0.9833 - val_loss: 1.3478 - val_accuracy: 0.7192\n",
            "Epoch 91/100\n",
            "96/96 [==============================] - 1s 9ms/step - loss: 0.0416 - accuracy: 0.9823 - val_loss: 1.3047 - val_accuracy: 0.7152\n",
            "Epoch 92/100\n",
            "96/96 [==============================] - 1s 10ms/step - loss: 0.0408 - accuracy: 0.9846 - val_loss: 1.2991 - val_accuracy: 0.7192\n",
            "Epoch 93/100\n",
            "96/96 [==============================] - 1s 9ms/step - loss: 0.0402 - accuracy: 0.9849 - val_loss: 1.3940 - val_accuracy: 0.7218\n",
            "Epoch 94/100\n",
            "96/96 [==============================] - 1s 10ms/step - loss: 0.0412 - accuracy: 0.9849 - val_loss: 1.3678 - val_accuracy: 0.7205\n",
            "Epoch 95/100\n",
            "96/96 [==============================] - 1s 10ms/step - loss: 0.0418 - accuracy: 0.9846 - val_loss: 1.3761 - val_accuracy: 0.7205\n",
            "Epoch 96/100\n",
            "96/96 [==============================] - 1s 9ms/step - loss: 0.0405 - accuracy: 0.9836 - val_loss: 1.3696 - val_accuracy: 0.7283\n",
            "Epoch 97/100\n",
            "96/96 [==============================] - 1s 10ms/step - loss: 0.0397 - accuracy: 0.9846 - val_loss: 1.4283 - val_accuracy: 0.7218\n",
            "Epoch 98/100\n",
            "96/96 [==============================] - 1s 10ms/step - loss: 0.0400 - accuracy: 0.9846 - val_loss: 1.3853 - val_accuracy: 0.7205\n",
            "Epoch 99/100\n",
            "96/96 [==============================] - 1s 9ms/step - loss: 0.0403 - accuracy: 0.9852 - val_loss: 1.3685 - val_accuracy: 0.7205\n",
            "Epoch 100/100\n",
            "96/96 [==============================] - 1s 9ms/step - loss: 0.0420 - accuracy: 0.9810 - val_loss: 1.3997 - val_accuracy: 0.7165\n",
            "[[1708  381]\n",
            " [ 632 1085]]\n",
            "              precision    recall  f1-score   support\n",
            "\n",
            "           0       0.73      0.82      0.77      2089\n",
            "           1       0.74      0.63      0.68      1717\n",
            "\n",
            "    accuracy                           0.73      3806\n",
            "   macro avg       0.74      0.72      0.73      3806\n",
            "weighted avg       0.73      0.73      0.73      3806\n",
            "\n"
          ]
        }
      ]
    },
    {
      "cell_type": "code",
      "metadata": {
        "colab": {
          "base_uri": "https://localhost:8080/"
        },
        "id": "C1m6i5kbj1iP",
        "outputId": "c4703f5a-bd5d-4556-ea3b-3365cc7b9cab"
      },
      "source": [
        "#model 3\n",
        "act = 'tanh'\n",
        "batch_len = 32\n",
        "opt = 'adam'\n",
        "epoch = 100\n",
        "val_split = 0.2\n",
        "keras.backend.clear_session()\n",
        "model = Sequential()\n",
        "model.add(Input(shape = (22, embedding_length)))\n",
        "model.add(LSTM(22))\n",
        "model.add(Dense(64, activation = act))\n",
        "model.add(Dense(64, activation = act))\n",
        "model.add(Dense(1, activation = 'sigmoid')) \n",
        "model.compile(optimizer = opt, loss = 'binary_crossentropy', metrics = ['accuracy'])\n",
        "model.fit(X_train, y_train, epochs = epoch, batch_size = batch_len, verbose = 1, validation_split=val_split)\n",
        "\n",
        "y_val_pred = model.predict(X_val)\n",
        "y_val_pred_3 = []\n",
        "for i in range(len(y_val_pred)):\n",
        "    if y_val_pred[i] > 0.5:\n",
        "        y_val_pred_3.append(1)\n",
        "    else:\n",
        "        y_val_pred_3.append(0)\n",
        "\n",
        "print(metrics.confusion_matrix(y_val, y_val_pred_3))         ## confusion_matrix\n",
        "print(metrics.classification_report(y_val, y_val_pred_3))"
      ],
      "execution_count": null,
      "outputs": [
        {
          "output_type": "stream",
          "name": "stdout",
          "text": [
            "Epoch 1/100\n",
            "96/96 [==============================] - 4s 15ms/step - loss: 0.5288 - accuracy: 0.7369 - val_loss: 0.4900 - val_accuracy: 0.7808\n",
            "Epoch 2/100\n",
            "96/96 [==============================] - 1s 10ms/step - loss: 0.4137 - accuracy: 0.8217 - val_loss: 0.4960 - val_accuracy: 0.7795\n",
            "Epoch 3/100\n",
            "96/96 [==============================] - 1s 10ms/step - loss: 0.3912 - accuracy: 0.8368 - val_loss: 0.4947 - val_accuracy: 0.7703\n",
            "Epoch 4/100\n",
            "96/96 [==============================] - 1s 9ms/step - loss: 0.3669 - accuracy: 0.8476 - val_loss: 0.5245 - val_accuracy: 0.7493\n",
            "Epoch 5/100\n",
            "96/96 [==============================] - 1s 9ms/step - loss: 0.3476 - accuracy: 0.8594 - val_loss: 0.5266 - val_accuracy: 0.7822\n",
            "Epoch 6/100\n",
            "96/96 [==============================] - 1s 10ms/step - loss: 0.3213 - accuracy: 0.8742 - val_loss: 0.5456 - val_accuracy: 0.7598\n",
            "Epoch 7/100\n",
            "96/96 [==============================] - 1s 10ms/step - loss: 0.2927 - accuracy: 0.8874 - val_loss: 0.5920 - val_accuracy: 0.7651\n",
            "Epoch 8/100\n",
            "96/96 [==============================] - 1s 9ms/step - loss: 0.2809 - accuracy: 0.8903 - val_loss: 0.6662 - val_accuracy: 0.7677\n",
            "Epoch 9/100\n",
            "96/96 [==============================] - 1s 9ms/step - loss: 0.2548 - accuracy: 0.9028 - val_loss: 0.6300 - val_accuracy: 0.7480\n",
            "Epoch 10/100\n",
            "96/96 [==============================] - 1s 10ms/step - loss: 0.2190 - accuracy: 0.9205 - val_loss: 0.6975 - val_accuracy: 0.7677\n",
            "Epoch 11/100\n",
            "96/96 [==============================] - 1s 9ms/step - loss: 0.1963 - accuracy: 0.9340 - val_loss: 0.7976 - val_accuracy: 0.7507\n",
            "Epoch 12/100\n",
            "96/96 [==============================] - 1s 9ms/step - loss: 0.1723 - accuracy: 0.9409 - val_loss: 0.7312 - val_accuracy: 0.7349\n",
            "Epoch 13/100\n",
            "96/96 [==============================] - 1s 9ms/step - loss: 0.1563 - accuracy: 0.9498 - val_loss: 0.8640 - val_accuracy: 0.7310\n",
            "Epoch 14/100\n",
            "96/96 [==============================] - 1s 9ms/step - loss: 0.1441 - accuracy: 0.9537 - val_loss: 0.8887 - val_accuracy: 0.7336\n",
            "Epoch 15/100\n",
            "96/96 [==============================] - 1s 9ms/step - loss: 0.1492 - accuracy: 0.9448 - val_loss: 0.7982 - val_accuracy: 0.7362\n",
            "Epoch 16/100\n",
            "96/96 [==============================] - 1s 9ms/step - loss: 0.1287 - accuracy: 0.9596 - val_loss: 1.0037 - val_accuracy: 0.7270\n",
            "Epoch 17/100\n",
            "96/96 [==============================] - 1s 9ms/step - loss: 0.1059 - accuracy: 0.9665 - val_loss: 0.9691 - val_accuracy: 0.7441\n",
            "Epoch 18/100\n",
            "96/96 [==============================] - 1s 9ms/step - loss: 0.0943 - accuracy: 0.9714 - val_loss: 1.0046 - val_accuracy: 0.7283\n",
            "Epoch 19/100\n",
            "96/96 [==============================] - 1s 10ms/step - loss: 0.1019 - accuracy: 0.9652 - val_loss: 0.9460 - val_accuracy: 0.7270\n",
            "Epoch 20/100\n",
            "96/96 [==============================] - 1s 10ms/step - loss: 0.0929 - accuracy: 0.9701 - val_loss: 1.0200 - val_accuracy: 0.7415\n",
            "Epoch 21/100\n",
            "96/96 [==============================] - 1s 9ms/step - loss: 0.0766 - accuracy: 0.9764 - val_loss: 1.1773 - val_accuracy: 0.7257\n",
            "Epoch 22/100\n",
            "96/96 [==============================] - 1s 9ms/step - loss: 0.0814 - accuracy: 0.9701 - val_loss: 1.1390 - val_accuracy: 0.7533\n",
            "Epoch 23/100\n",
            "96/96 [==============================] - 1s 10ms/step - loss: 0.0718 - accuracy: 0.9777 - val_loss: 1.0217 - val_accuracy: 0.7310\n",
            "Epoch 24/100\n",
            "96/96 [==============================] - 1s 10ms/step - loss: 0.0702 - accuracy: 0.9767 - val_loss: 1.1131 - val_accuracy: 0.7323\n",
            "Epoch 25/100\n",
            "96/96 [==============================] - 1s 9ms/step - loss: 0.0737 - accuracy: 0.9777 - val_loss: 0.9656 - val_accuracy: 0.7428\n",
            "Epoch 26/100\n",
            "96/96 [==============================] - 1s 10ms/step - loss: 0.0667 - accuracy: 0.9783 - val_loss: 1.1461 - val_accuracy: 0.7375\n",
            "Epoch 27/100\n",
            "96/96 [==============================] - 1s 10ms/step - loss: 0.0639 - accuracy: 0.9787 - val_loss: 1.1556 - val_accuracy: 0.7388\n",
            "Epoch 28/100\n",
            "96/96 [==============================] - 1s 9ms/step - loss: 0.0567 - accuracy: 0.9836 - val_loss: 1.2325 - val_accuracy: 0.7467\n",
            "Epoch 29/100\n",
            "96/96 [==============================] - 1s 9ms/step - loss: 0.0573 - accuracy: 0.9829 - val_loss: 1.1759 - val_accuracy: 0.7467\n",
            "Epoch 30/100\n",
            "96/96 [==============================] - 1s 10ms/step - loss: 0.0510 - accuracy: 0.9810 - val_loss: 1.2428 - val_accuracy: 0.7270\n",
            "Epoch 31/100\n",
            "96/96 [==============================] - 1s 9ms/step - loss: 0.0483 - accuracy: 0.9842 - val_loss: 1.1978 - val_accuracy: 0.7270\n",
            "Epoch 32/100\n",
            "96/96 [==============================] - 1s 10ms/step - loss: 0.0439 - accuracy: 0.9826 - val_loss: 1.2498 - val_accuracy: 0.7441\n",
            "Epoch 33/100\n",
            "96/96 [==============================] - 1s 10ms/step - loss: 0.0502 - accuracy: 0.9800 - val_loss: 1.1464 - val_accuracy: 0.7113\n",
            "Epoch 34/100\n",
            "96/96 [==============================] - 1s 10ms/step - loss: 0.0794 - accuracy: 0.9704 - val_loss: 1.3854 - val_accuracy: 0.7375\n",
            "Epoch 35/100\n",
            "96/96 [==============================] - 1s 9ms/step - loss: 0.0538 - accuracy: 0.9816 - val_loss: 1.1706 - val_accuracy: 0.7415\n",
            "Epoch 36/100\n",
            "96/96 [==============================] - 1s 10ms/step - loss: 0.0400 - accuracy: 0.9833 - val_loss: 1.2946 - val_accuracy: 0.7441\n",
            "Epoch 37/100\n",
            "96/96 [==============================] - 1s 9ms/step - loss: 0.0423 - accuracy: 0.9833 - val_loss: 1.2577 - val_accuracy: 0.7507\n",
            "Epoch 38/100\n",
            "96/96 [==============================] - 1s 9ms/step - loss: 0.0454 - accuracy: 0.9829 - val_loss: 1.2306 - val_accuracy: 0.7402\n",
            "Epoch 39/100\n",
            "96/96 [==============================] - 1s 10ms/step - loss: 0.0506 - accuracy: 0.9793 - val_loss: 1.3504 - val_accuracy: 0.7375\n",
            "Epoch 40/100\n",
            "96/96 [==============================] - 1s 9ms/step - loss: 0.0420 - accuracy: 0.9833 - val_loss: 1.3492 - val_accuracy: 0.7244\n",
            "Epoch 41/100\n",
            "96/96 [==============================] - 1s 10ms/step - loss: 0.0373 - accuracy: 0.9836 - val_loss: 1.3496 - val_accuracy: 0.7297\n",
            "Epoch 42/100\n",
            "96/96 [==============================] - 1s 9ms/step - loss: 0.0794 - accuracy: 0.9678 - val_loss: 1.3591 - val_accuracy: 0.7323\n",
            "Epoch 43/100\n",
            "96/96 [==============================] - 1s 9ms/step - loss: 0.0516 - accuracy: 0.9787 - val_loss: 1.2300 - val_accuracy: 0.7323\n",
            "Epoch 44/100\n",
            "96/96 [==============================] - 1s 10ms/step - loss: 0.0583 - accuracy: 0.9780 - val_loss: 1.2456 - val_accuracy: 0.7428\n",
            "Epoch 45/100\n",
            "96/96 [==============================] - 1s 10ms/step - loss: 0.0536 - accuracy: 0.9803 - val_loss: 1.0723 - val_accuracy: 0.7310\n",
            "Epoch 46/100\n",
            "96/96 [==============================] - 1s 10ms/step - loss: 0.0418 - accuracy: 0.9829 - val_loss: 1.2681 - val_accuracy: 0.7192\n",
            "Epoch 47/100\n",
            "96/96 [==============================] - 1s 10ms/step - loss: 0.0397 - accuracy: 0.9810 - val_loss: 1.2964 - val_accuracy: 0.7283\n",
            "Epoch 48/100\n",
            "96/96 [==============================] - 1s 9ms/step - loss: 0.0337 - accuracy: 0.9839 - val_loss: 1.4496 - val_accuracy: 0.7270\n",
            "Epoch 49/100\n",
            "96/96 [==============================] - 1s 9ms/step - loss: 0.0331 - accuracy: 0.9836 - val_loss: 1.5317 - val_accuracy: 0.7205\n",
            "Epoch 50/100\n",
            "96/96 [==============================] - 1s 9ms/step - loss: 0.0350 - accuracy: 0.9836 - val_loss: 1.4580 - val_accuracy: 0.7283\n",
            "Epoch 51/100\n",
            "96/96 [==============================] - 1s 10ms/step - loss: 0.0338 - accuracy: 0.9842 - val_loss: 1.4829 - val_accuracy: 0.7178\n",
            "Epoch 52/100\n",
            "96/96 [==============================] - 1s 9ms/step - loss: 0.0298 - accuracy: 0.9859 - val_loss: 1.7547 - val_accuracy: 0.7218\n",
            "Epoch 53/100\n",
            "96/96 [==============================] - 1s 9ms/step - loss: 0.0357 - accuracy: 0.9813 - val_loss: 1.5762 - val_accuracy: 0.7283\n",
            "Epoch 54/100\n",
            "96/96 [==============================] - 1s 10ms/step - loss: 0.0327 - accuracy: 0.9856 - val_loss: 1.6745 - val_accuracy: 0.7257\n",
            "Epoch 55/100\n",
            "96/96 [==============================] - 1s 10ms/step - loss: 0.0306 - accuracy: 0.9846 - val_loss: 1.5836 - val_accuracy: 0.7297\n",
            "Epoch 56/100\n",
            "96/96 [==============================] - 1s 10ms/step - loss: 0.0303 - accuracy: 0.9842 - val_loss: 1.7020 - val_accuracy: 0.7283\n",
            "Epoch 57/100\n",
            "96/96 [==============================] - 1s 9ms/step - loss: 0.0309 - accuracy: 0.9852 - val_loss: 1.6399 - val_accuracy: 0.7362\n",
            "Epoch 58/100\n",
            "96/96 [==============================] - 1s 9ms/step - loss: 0.0312 - accuracy: 0.9842 - val_loss: 1.6710 - val_accuracy: 0.7283\n",
            "Epoch 59/100\n",
            "96/96 [==============================] - 1s 9ms/step - loss: 0.0294 - accuracy: 0.9852 - val_loss: 1.5778 - val_accuracy: 0.7192\n",
            "Epoch 60/100\n",
            "96/96 [==============================] - 1s 9ms/step - loss: 0.0294 - accuracy: 0.9846 - val_loss: 1.7569 - val_accuracy: 0.7244\n",
            "Epoch 61/100\n",
            "96/96 [==============================] - 1s 9ms/step - loss: 0.0300 - accuracy: 0.9819 - val_loss: 1.5626 - val_accuracy: 0.7297\n",
            "Epoch 62/100\n",
            "96/96 [==============================] - 1s 9ms/step - loss: 0.0308 - accuracy: 0.9819 - val_loss: 1.6063 - val_accuracy: 0.7349\n",
            "Epoch 63/100\n",
            "96/96 [==============================] - 1s 9ms/step - loss: 0.0292 - accuracy: 0.9842 - val_loss: 1.6354 - val_accuracy: 0.7310\n",
            "Epoch 64/100\n",
            "96/96 [==============================] - 1s 9ms/step - loss: 0.0286 - accuracy: 0.9856 - val_loss: 1.6385 - val_accuracy: 0.7362\n",
            "Epoch 65/100\n",
            "96/96 [==============================] - 1s 9ms/step - loss: 0.0365 - accuracy: 0.9846 - val_loss: 1.5290 - val_accuracy: 0.7165\n",
            "Epoch 66/100\n",
            "96/96 [==============================] - 1s 10ms/step - loss: 0.1312 - accuracy: 0.9524 - val_loss: 0.9836 - val_accuracy: 0.7441\n",
            "Epoch 67/100\n",
            "96/96 [==============================] - 1s 10ms/step - loss: 0.0558 - accuracy: 0.9773 - val_loss: 1.5497 - val_accuracy: 0.7034\n",
            "Epoch 68/100\n",
            "96/96 [==============================] - 1s 9ms/step - loss: 0.0458 - accuracy: 0.9806 - val_loss: 1.4587 - val_accuracy: 0.7034\n",
            "Epoch 69/100\n",
            "96/96 [==============================] - 1s 10ms/step - loss: 0.0386 - accuracy: 0.9839 - val_loss: 1.6091 - val_accuracy: 0.7178\n",
            "Epoch 70/100\n",
            "96/96 [==============================] - 1s 9ms/step - loss: 0.0310 - accuracy: 0.9849 - val_loss: 1.5432 - val_accuracy: 0.7283\n",
            "Epoch 71/100\n",
            "96/96 [==============================] - 1s 9ms/step - loss: 0.0450 - accuracy: 0.9819 - val_loss: 1.5016 - val_accuracy: 0.7100\n",
            "Epoch 72/100\n",
            "96/96 [==============================] - 1s 10ms/step - loss: 0.0390 - accuracy: 0.9823 - val_loss: 1.4732 - val_accuracy: 0.7375\n",
            "Epoch 73/100\n",
            "96/96 [==============================] - 1s 10ms/step - loss: 0.0319 - accuracy: 0.9865 - val_loss: 1.5294 - val_accuracy: 0.7126\n",
            "Epoch 74/100\n",
            "96/96 [==============================] - 1s 10ms/step - loss: 0.0284 - accuracy: 0.9852 - val_loss: 1.5319 - val_accuracy: 0.7310\n",
            "Epoch 75/100\n",
            "96/96 [==============================] - 1s 9ms/step - loss: 0.0272 - accuracy: 0.9865 - val_loss: 1.7285 - val_accuracy: 0.7402\n",
            "Epoch 76/100\n",
            "96/96 [==============================] - 1s 10ms/step - loss: 0.0273 - accuracy: 0.9849 - val_loss: 1.6182 - val_accuracy: 0.7310\n",
            "Epoch 77/100\n",
            "96/96 [==============================] - 1s 9ms/step - loss: 0.0274 - accuracy: 0.9859 - val_loss: 1.6863 - val_accuracy: 0.7297\n",
            "Epoch 78/100\n",
            "96/96 [==============================] - 1s 10ms/step - loss: 0.0270 - accuracy: 0.9859 - val_loss: 1.5980 - val_accuracy: 0.7152\n",
            "Epoch 79/100\n",
            "96/96 [==============================] - 1s 10ms/step - loss: 0.0273 - accuracy: 0.9846 - val_loss: 1.8052 - val_accuracy: 0.7178\n",
            "Epoch 80/100\n",
            "96/96 [==============================] - 1s 9ms/step - loss: 0.0266 - accuracy: 0.9862 - val_loss: 1.7959 - val_accuracy: 0.7270\n",
            "Epoch 81/100\n",
            "96/96 [==============================] - 1s 10ms/step - loss: 0.0277 - accuracy: 0.9846 - val_loss: 1.6777 - val_accuracy: 0.7205\n",
            "Epoch 82/100\n",
            "96/96 [==============================] - 1s 10ms/step - loss: 0.0267 - accuracy: 0.9859 - val_loss: 1.7149 - val_accuracy: 0.7323\n",
            "Epoch 83/100\n",
            "96/96 [==============================] - 1s 10ms/step - loss: 0.0269 - accuracy: 0.9862 - val_loss: 1.7629 - val_accuracy: 0.7375\n",
            "Epoch 84/100\n",
            "96/96 [==============================] - 1s 10ms/step - loss: 0.0269 - accuracy: 0.9856 - val_loss: 1.7732 - val_accuracy: 0.7310\n",
            "Epoch 85/100\n",
            "96/96 [==============================] - 1s 10ms/step - loss: 0.0280 - accuracy: 0.9865 - val_loss: 1.5302 - val_accuracy: 0.7428\n",
            "Epoch 86/100\n",
            "96/96 [==============================] - 1s 9ms/step - loss: 0.0280 - accuracy: 0.9865 - val_loss: 1.7962 - val_accuracy: 0.7323\n",
            "Epoch 87/100\n",
            "96/96 [==============================] - 1s 10ms/step - loss: 0.0273 - accuracy: 0.9862 - val_loss: 1.7497 - val_accuracy: 0.7310\n",
            "Epoch 88/100\n",
            "96/96 [==============================] - 1s 10ms/step - loss: 0.0265 - accuracy: 0.9869 - val_loss: 1.7993 - val_accuracy: 0.7349\n",
            "Epoch 89/100\n",
            "96/96 [==============================] - 1s 10ms/step - loss: 0.0301 - accuracy: 0.9836 - val_loss: 1.6928 - val_accuracy: 0.7310\n",
            "Epoch 90/100\n",
            "96/96 [==============================] - 1s 10ms/step - loss: 0.0266 - accuracy: 0.9869 - val_loss: 1.7927 - val_accuracy: 0.7415\n",
            "Epoch 91/100\n",
            "96/96 [==============================] - 1s 10ms/step - loss: 0.0264 - accuracy: 0.9856 - val_loss: 1.7403 - val_accuracy: 0.7388\n",
            "Epoch 92/100\n",
            "96/96 [==============================] - 1s 10ms/step - loss: 0.0260 - accuracy: 0.9869 - val_loss: 1.8074 - val_accuracy: 0.7362\n",
            "Epoch 93/100\n",
            "96/96 [==============================] - 1s 11ms/step - loss: 0.0268 - accuracy: 0.9872 - val_loss: 1.6014 - val_accuracy: 0.7454\n",
            "Epoch 94/100\n",
            "96/96 [==============================] - 1s 10ms/step - loss: 0.0262 - accuracy: 0.9865 - val_loss: 1.8208 - val_accuracy: 0.7375\n",
            "Epoch 95/100\n",
            "96/96 [==============================] - 1s 10ms/step - loss: 0.0262 - accuracy: 0.9859 - val_loss: 1.8270 - val_accuracy: 0.7428\n",
            "Epoch 96/100\n",
            "96/96 [==============================] - 1s 10ms/step - loss: 0.0263 - accuracy: 0.9869 - val_loss: 1.8250 - val_accuracy: 0.7388\n",
            "Epoch 97/100\n",
            "96/96 [==============================] - 1s 10ms/step - loss: 0.0253 - accuracy: 0.9865 - val_loss: 1.8057 - val_accuracy: 0.7349\n",
            "Epoch 98/100\n",
            "96/96 [==============================] - 1s 10ms/step - loss: 0.0260 - accuracy: 0.9856 - val_loss: 1.7150 - val_accuracy: 0.7362\n",
            "Epoch 99/100\n",
            "96/96 [==============================] - 1s 10ms/step - loss: 0.0255 - accuracy: 0.9862 - val_loss: 1.8284 - val_accuracy: 0.7336\n",
            "Epoch 100/100\n",
            "96/96 [==============================] - 1s 10ms/step - loss: 0.0251 - accuracy: 0.9856 - val_loss: 1.9325 - val_accuracy: 0.7402\n",
            "[[1682  407]\n",
            " [ 584 1133]]\n",
            "              precision    recall  f1-score   support\n",
            "\n",
            "           0       0.74      0.81      0.77      2089\n",
            "           1       0.74      0.66      0.70      1717\n",
            "\n",
            "    accuracy                           0.74      3806\n",
            "   macro avg       0.74      0.73      0.73      3806\n",
            "weighted avg       0.74      0.74      0.74      3806\n",
            "\n"
          ]
        }
      ]
    },
    {
      "cell_type": "code",
      "metadata": {
        "colab": {
          "base_uri": "https://localhost:8080/",
          "height": 626
        },
        "id": "V82go0U4aH7y",
        "outputId": "45d81c97-e802-4c2c-b882-2646ab466164"
      },
      "source": [
        "#ROC curve\n",
        "rnn_fpr_1, rnn_tpr_1, rnn_threshold_1 = roc_curve(y_val, y_val_pred_1)\n",
        "roc_auc_score_rnn_1=roc_auc_score(y_val, y_val_pred_1)\n",
        "rnn_fpr_2, rnn_tpr_2, rnn_threshold_2 = roc_curve(y_val, y_val_pred_2)\n",
        "roc_auc_score_rnn_2=roc_auc_score(y_val, y_val_pred_2)\n",
        "rnn_fpr_3, rnn_tpr_3, rnn_threshold_3 = roc_curve(y_val, y_val_pred_3)\n",
        "roc_auc_score_rnn_3=roc_auc_score(y_val, y_val_pred_3)\n",
        "\n",
        "def graph_roc_curve_multiple():\n",
        "    plt.figure(figsize=(10,10))\n",
        "    plt.title('ROC Curve', fontsize=14)\n",
        "    plt.plot(rnn_fpr_1, rnn_tpr_1, label='roc_auc_score_rnn_1 : %.5s' % roc_auc_score_rnn_1)\n",
        "    plt.plot(rnn_fpr_2, rnn_tpr_2, label='roc_auc_score_rnn_2 : %.5s' % roc_auc_score_rnn_2)\n",
        "    plt.plot(rnn_fpr_3, rnn_tpr_3, label='roc_auc_score_rnn_3 : %.5s' % roc_auc_score_rnn_3)\n",
        "    plt.plot([0, 1], [0, 1], 'k--')\n",
        "    plt.axis([-0.01, 1, 0, 1])\n",
        "    plt.xlabel('False Positive Rate', fontsize=13)\n",
        "    plt.ylabel('True Positive Rate', fontsize=13)\n",
        "    plt.annotate('Minimum ROC Score of 50% \\n (This is the minimum score to get)', xy=(0.5, 0.5), xytext=(0.6, 0.3),\n",
        "                arrowprops=dict(facecolor='#6E726D', shrink=0.05),\n",
        "                )\n",
        "    plt.legend()\n",
        "    \n",
        "graph_roc_curve_multiple()\n",
        "plt.show()"
      ],
      "execution_count": null,
      "outputs": [
        {
          "output_type": "display_data",
          "data": {
            "image/png": "[encoded data removed]",
            "text/plain": [
              "<Figure size 720x720 with 1 Axes>"
            ]
          },
          "metadata": {
            "needs_background": "light"
          }
        }
      ]
    },
    {
      "cell_type": "markdown",
      "metadata": {
        "id": "yfPKJyEup1cB"
      },
      "source": [
        "#### After seeing ROC curve rnn_1 model has highest score 0.735. So doing cross validation with rnn_1 model. "
      ]
    },
    {
      "cell_type": "code",
      "metadata": {
        "id": "yvL9RooEnzas"
      },
      "source": [
        ""
      ],
      "execution_count": null,
      "outputs": []
    },
    {
      "cell_type": "code",
      "metadata": {
        "id": "Gbgui_IRj1lG"
      },
      "source": [
        ""
      ],
      "execution_count": null,
      "outputs": []
    },
    {
      "cell_type": "code",
      "metadata": {
        "id": "UKoRtEoXj1n9"
      },
      "source": [
        ""
      ],
      "execution_count": null,
      "outputs": []
    },
    {
      "cell_type": "code",
      "metadata": {
        "id": "Kku24hgpj1rl"
      },
      "source": [
        ""
      ],
      "execution_count": null,
      "outputs": []
    },
    {
      "cell_type": "code",
      "metadata": {
        "colab": {
          "base_uri": "https://localhost:8080/"
        },
        "id": "d8nnUxMWaH-o",
        "outputId": "695e4aa1-5b52-4355-a6bf-ad867df6b9f7"
      },
      "source": [
        "# performing cross validation by swapping the train and validation data\n",
        "print(\"X_train.shape=\",X_train.shape)\n",
        "print(\"X_val.shape=\",X_val.shape)\n",
        "print(\"y_train.shape=\",y_train.shape)\n",
        "print(\"y_val.shape=\",y_val.shape)\n",
        "print(\"X_test.shape=\",X_test.shape)\n",
        "\n",
        "temp=X_train.copy()\n",
        "X_train=X_val.copy()\n",
        "X_val=temp.copy()\n",
        "\n",
        "temp=y_train.copy()\n",
        "y_train=y_val.copy()\n",
        "y_val=temp.copy()\n",
        "\n",
        "print(\"\\n\")\n",
        "print(\"X_train.shape=\",X_train.shape)\n",
        "print(\"X_val.shape=\",X_val.shape)\n",
        "print(\"y_train.shape=\",y_train.shape)\n",
        "print(\"y_val.shape=\",y_val.shape)\n",
        "print(\"X_test.shape=\",X_test.shape)"
      ],
      "execution_count": null,
      "outputs": [
        {
          "output_type": "stream",
          "name": "stdout",
          "text": [
            "X_train.shape= (3807, 22, 200)\n",
            "X_val.shape= (3806, 22, 200)\n",
            "y_train.shape= (3807,)\n",
            "y_val.shape= (3806,)\n",
            "X_test.shape= (3263, 22, 200)\n",
            "\n",
            "\n",
            "X_train.shape= (3806, 22, 200)\n",
            "X_val.shape= (3807, 22, 200)\n",
            "y_train.shape= (3806,)\n",
            "y_val.shape= (3807,)\n",
            "X_test.shape= (3263, 22, 200)\n"
          ]
        }
      ]
    },
    {
      "cell_type": "code",
      "metadata": {
        "colab": {
          "base_uri": "https://localhost:8080/",
          "height": 1000
        },
        "id": "1l67JWSqaIBq",
        "outputId": "fd7c317e-2350-4a04-f27e-4c65f274d5f2"
      },
      "source": [
        "act = 'tanh'\n",
        "batch_len = 32\n",
        "opt = 'adam'\n",
        "epoch = 100\n",
        "val_split = 0.2\n",
        "keras.backend.clear_session()\n",
        "model = Sequential()\n",
        "model.add(Input(shape = (22, embedding_length)))\n",
        "model.add(LSTM(22))\n",
        "model.add(Dense(32, activation = act))\n",
        "model.add(Dense(32, activation = act))\n",
        "model.add(Dense(1, activation = 'sigmoid')) \n",
        "model.compile(optimizer = opt, loss = 'binary_crossentropy', metrics = ['accuracy'])\n",
        "model.fit(X_train, y_train, epochs = epoch, batch_size = batch_len, verbose = 1, validation_split=val_split)\n",
        "\n",
        "y_val_pred = model.predict(X_val)\n",
        "y_val_pred_1 = []\n",
        "for i in range(len(y_val_pred)):\n",
        "    if y_val_pred[i] > 0.5:\n",
        "        y_val_pred_1.append(1)\n",
        "    else:\n",
        "        y_val_pred_1.append(0)\n",
        "\n",
        "print(metrics.confusion_matrix(y_val, y_val_pred_1))         ## confusion_matrix\n",
        "print(metrics.classification_report(y_val, y_val_pred_1))\n",
        "#ROC curve\n",
        "rnn_fpr, rnn_tpr, rnn_threshold = roc_curve(y_val, y_val_pred_1)\n",
        "roc_auc_score_rnn=roc_auc_score(y_val, y_val_pred_1)\n",
        "\n",
        "def graph_roc_curve_multiple(rnn_fpr, rnn_tpr):\n",
        "    plt.figure(figsize=(10,10))\n",
        "    plt.title('ROC Curve', fontsize=14)\n",
        "    plt.plot(rnn_fpr, rnn_tpr, label='roc_auc_score_rnn_2 : %.5s' % roc_auc_score_rnn)\n",
        "    plt.plot([0, 1], [0, 1], 'k--')\n",
        "    plt.axis([-0.01, 1, 0, 1])\n",
        "    plt.xlabel('False Positive Rate', fontsize=13)\n",
        "    plt.ylabel('True Positive Rate', fontsize=13)\n",
        "    plt.annotate('Minimum ROC Score of 50% \\n (This is the minimum score to get)', xy=(0.5, 0.5), xytext=(0.6, 0.3),\n",
        "                arrowprops=dict(facecolor='#6E726D', shrink=0.05),\n",
        "                )\n",
        "    plt.legend()\n",
        "    \n",
        "graph_roc_curve_multiple(rnn_fpr, rnn_tpr)\n",
        "plt.show()"
      ],
      "execution_count": null,
      "outputs": [
        {
          "output_type": "stream",
          "name": "stdout",
          "text": [
            "Epoch 1/100\n",
            "96/96 [==============================] - 4s 16ms/step - loss: 0.5214 - accuracy: 0.7520 - val_loss: 0.4275 - val_accuracy: 0.8150\n",
            "Epoch 2/100\n",
            "96/96 [==============================] - 1s 10ms/step - loss: 0.4240 - accuracy: 0.8233 - val_loss: 0.4108 - val_accuracy: 0.8215\n",
            "Epoch 3/100\n",
            "96/96 [==============================] - 1s 10ms/step - loss: 0.4001 - accuracy: 0.8321 - val_loss: 0.4059 - val_accuracy: 0.8241\n",
            "Epoch 4/100\n",
            "96/96 [==============================] - 1s 9ms/step - loss: 0.3765 - accuracy: 0.8489 - val_loss: 0.4095 - val_accuracy: 0.8228\n",
            "Epoch 5/100\n",
            "96/96 [==============================] - 1s 10ms/step - loss: 0.3577 - accuracy: 0.8591 - val_loss: 0.4175 - val_accuracy: 0.8202\n",
            "Epoch 6/100\n",
            "96/96 [==============================] - 1s 10ms/step - loss: 0.3393 - accuracy: 0.8719 - val_loss: 0.4222 - val_accuracy: 0.8255\n",
            "Epoch 7/100\n",
            "96/96 [==============================] - 1s 10ms/step - loss: 0.3206 - accuracy: 0.8758 - val_loss: 0.4249 - val_accuracy: 0.8307\n",
            "Epoch 8/100\n",
            "96/96 [==============================] - 1s 10ms/step - loss: 0.3013 - accuracy: 0.8873 - val_loss: 0.4642 - val_accuracy: 0.8097\n",
            "Epoch 9/100\n",
            "96/96 [==============================] - 1s 9ms/step - loss: 0.2766 - accuracy: 0.8985 - val_loss: 0.5232 - val_accuracy: 0.7927\n",
            "Epoch 10/100\n",
            "96/96 [==============================] - 1s 10ms/step - loss: 0.2634 - accuracy: 0.9074 - val_loss: 0.5093 - val_accuracy: 0.7992\n",
            "Epoch 11/100\n",
            "96/96 [==============================] - 1s 10ms/step - loss: 0.2491 - accuracy: 0.9116 - val_loss: 0.5482 - val_accuracy: 0.7782\n",
            "Epoch 12/100\n",
            "96/96 [==============================] - 1s 10ms/step - loss: 0.2270 - accuracy: 0.9248 - val_loss: 0.5394 - val_accuracy: 0.7979\n",
            "Epoch 13/100\n",
            "96/96 [==============================] - 1s 10ms/step - loss: 0.2104 - accuracy: 0.9304 - val_loss: 0.5998 - val_accuracy: 0.7835\n",
            "Epoch 14/100\n",
            "96/96 [==============================] - 1s 10ms/step - loss: 0.2037 - accuracy: 0.9320 - val_loss: 0.5790 - val_accuracy: 0.7940\n",
            "Epoch 15/100\n",
            "96/96 [==============================] - 1s 10ms/step - loss: 0.1886 - accuracy: 0.9389 - val_loss: 0.5951 - val_accuracy: 0.8031\n",
            "Epoch 16/100\n",
            "96/96 [==============================] - 1s 10ms/step - loss: 0.1785 - accuracy: 0.9445 - val_loss: 0.5916 - val_accuracy: 0.7887\n",
            "Epoch 17/100\n",
            "96/96 [==============================] - 1s 10ms/step - loss: 0.2056 - accuracy: 0.9264 - val_loss: 0.6802 - val_accuracy: 0.7913\n",
            "Epoch 18/100\n",
            "96/96 [==============================] - 1s 10ms/step - loss: 0.1678 - accuracy: 0.9468 - val_loss: 0.6047 - val_accuracy: 0.7940\n",
            "Epoch 19/100\n",
            "96/96 [==============================] - 1s 9ms/step - loss: 0.1521 - accuracy: 0.9517 - val_loss: 0.6564 - val_accuracy: 0.7940\n",
            "Epoch 20/100\n",
            "96/96 [==============================] - 1s 10ms/step - loss: 0.1592 - accuracy: 0.9527 - val_loss: 0.6821 - val_accuracy: 0.7874\n",
            "Epoch 21/100\n",
            "96/96 [==============================] - 1s 10ms/step - loss: 0.1465 - accuracy: 0.9507 - val_loss: 0.6295 - val_accuracy: 0.8110\n",
            "Epoch 22/100\n",
            "96/96 [==============================] - 1s 10ms/step - loss: 0.1518 - accuracy: 0.9511 - val_loss: 0.6577 - val_accuracy: 0.8045\n",
            "Epoch 23/100\n",
            "96/96 [==============================] - 1s 10ms/step - loss: 0.1382 - accuracy: 0.9576 - val_loss: 0.6610 - val_accuracy: 0.7927\n",
            "Epoch 24/100\n",
            "96/96 [==============================] - 1s 10ms/step - loss: 0.1272 - accuracy: 0.9606 - val_loss: 0.6948 - val_accuracy: 0.8005\n",
            "Epoch 25/100\n",
            "96/96 [==============================] - 1s 10ms/step - loss: 0.1278 - accuracy: 0.9560 - val_loss: 0.7308 - val_accuracy: 0.7795\n",
            "Epoch 26/100\n",
            "96/96 [==============================] - 1s 10ms/step - loss: 0.1350 - accuracy: 0.9563 - val_loss: 0.7155 - val_accuracy: 0.7900\n",
            "Epoch 27/100\n",
            "96/96 [==============================] - 1s 10ms/step - loss: 0.1189 - accuracy: 0.9629 - val_loss: 0.8440 - val_accuracy: 0.7927\n",
            "Epoch 28/100\n",
            "96/96 [==============================] - 1s 10ms/step - loss: 0.1280 - accuracy: 0.9635 - val_loss: 0.7764 - val_accuracy: 0.7848\n",
            "Epoch 29/100\n",
            "96/96 [==============================] - 1s 10ms/step - loss: 0.1268 - accuracy: 0.9596 - val_loss: 0.7974 - val_accuracy: 0.7874\n",
            "Epoch 30/100\n",
            "96/96 [==============================] - 1s 10ms/step - loss: 0.1176 - accuracy: 0.9635 - val_loss: 0.7963 - val_accuracy: 0.7782\n",
            "Epoch 31/100\n",
            "96/96 [==============================] - 1s 10ms/step - loss: 0.1173 - accuracy: 0.9616 - val_loss: 0.7940 - val_accuracy: 0.7717\n",
            "Epoch 32/100\n",
            "96/96 [==============================] - 1s 10ms/step - loss: 0.1080 - accuracy: 0.9665 - val_loss: 0.8204 - val_accuracy: 0.7822\n",
            "Epoch 33/100\n",
            "96/96 [==============================] - 1s 10ms/step - loss: 0.1084 - accuracy: 0.9645 - val_loss: 0.8520 - val_accuracy: 0.7900\n",
            "Epoch 34/100\n",
            "96/96 [==============================] - 1s 10ms/step - loss: 0.1081 - accuracy: 0.9645 - val_loss: 0.7231 - val_accuracy: 0.8005\n",
            "Epoch 35/100\n",
            "96/96 [==============================] - 1s 10ms/step - loss: 0.1096 - accuracy: 0.9642 - val_loss: 0.9072 - val_accuracy: 0.7795\n",
            "Epoch 36/100\n",
            "96/96 [==============================] - 1s 10ms/step - loss: 0.1025 - accuracy: 0.9668 - val_loss: 0.8540 - val_accuracy: 0.7822\n",
            "Epoch 37/100\n",
            "96/96 [==============================] - 1s 10ms/step - loss: 0.1148 - accuracy: 0.9612 - val_loss: 0.8884 - val_accuracy: 0.7769\n",
            "Epoch 38/100\n",
            "96/96 [==============================] - 1s 10ms/step - loss: 0.1047 - accuracy: 0.9639 - val_loss: 0.8614 - val_accuracy: 0.7769\n",
            "Epoch 39/100\n",
            "96/96 [==============================] - 1s 10ms/step - loss: 0.1077 - accuracy: 0.9609 - val_loss: 0.8304 - val_accuracy: 0.7743\n",
            "Epoch 40/100\n",
            "96/96 [==============================] - 1s 10ms/step - loss: 0.0997 - accuracy: 0.9639 - val_loss: 0.8338 - val_accuracy: 0.7808\n",
            "Epoch 41/100\n",
            "96/96 [==============================] - 1s 10ms/step - loss: 0.0896 - accuracy: 0.9708 - val_loss: 0.9748 - val_accuracy: 0.7651\n",
            "Epoch 42/100\n",
            "96/96 [==============================] - 1s 10ms/step - loss: 0.0921 - accuracy: 0.9678 - val_loss: 0.9935 - val_accuracy: 0.7835\n",
            "Epoch 43/100\n",
            "96/96 [==============================] - 1s 10ms/step - loss: 0.1053 - accuracy: 0.9609 - val_loss: 0.8569 - val_accuracy: 0.7795\n",
            "Epoch 44/100\n",
            "96/96 [==============================] - 1s 9ms/step - loss: 0.0863 - accuracy: 0.9694 - val_loss: 0.8812 - val_accuracy: 0.7743\n",
            "Epoch 45/100\n",
            "96/96 [==============================] - 1s 10ms/step - loss: 0.0853 - accuracy: 0.9688 - val_loss: 0.8403 - val_accuracy: 0.7782\n",
            "Epoch 46/100\n",
            "96/96 [==============================] - 1s 10ms/step - loss: 0.0917 - accuracy: 0.9652 - val_loss: 0.8942 - val_accuracy: 0.7769\n",
            "Epoch 47/100\n",
            "96/96 [==============================] - 1s 10ms/step - loss: 0.0789 - accuracy: 0.9714 - val_loss: 1.0137 - val_accuracy: 0.7664\n",
            "Epoch 48/100\n",
            "96/96 [==============================] - 1s 10ms/step - loss: 0.0782 - accuracy: 0.9658 - val_loss: 1.0039 - val_accuracy: 0.7664\n",
            "Epoch 49/100\n",
            "96/96 [==============================] - 1s 10ms/step - loss: 0.0755 - accuracy: 0.9717 - val_loss: 1.0104 - val_accuracy: 0.7743\n",
            "Epoch 50/100\n",
            "96/96 [==============================] - 1s 10ms/step - loss: 0.0860 - accuracy: 0.9652 - val_loss: 0.9180 - val_accuracy: 0.7795\n",
            "Epoch 51/100\n",
            "96/96 [==============================] - 1s 10ms/step - loss: 0.1056 - accuracy: 0.9629 - val_loss: 0.8567 - val_accuracy: 0.7822\n",
            "Epoch 52/100\n",
            "96/96 [==============================] - 1s 10ms/step - loss: 0.0978 - accuracy: 0.9655 - val_loss: 0.9446 - val_accuracy: 0.7717\n",
            "Epoch 53/100\n",
            "96/96 [==============================] - 1s 10ms/step - loss: 0.0844 - accuracy: 0.9681 - val_loss: 0.9475 - val_accuracy: 0.7651\n",
            "Epoch 54/100\n",
            "96/96 [==============================] - 1s 9ms/step - loss: 0.0754 - accuracy: 0.9698 - val_loss: 1.0079 - val_accuracy: 0.7677\n",
            "Epoch 55/100\n",
            "96/96 [==============================] - 1s 10ms/step - loss: 0.1925 - accuracy: 0.9317 - val_loss: 0.9710 - val_accuracy: 0.7467\n",
            "Epoch 56/100\n",
            "96/96 [==============================] - 1s 10ms/step - loss: 0.0893 - accuracy: 0.9671 - val_loss: 0.9814 - val_accuracy: 0.7533\n",
            "Epoch 57/100\n",
            "96/96 [==============================] - 1s 10ms/step - loss: 0.0749 - accuracy: 0.9717 - val_loss: 1.0244 - val_accuracy: 0.7612\n",
            "Epoch 58/100\n",
            "96/96 [==============================] - 1s 10ms/step - loss: 0.0692 - accuracy: 0.9714 - val_loss: 1.0930 - val_accuracy: 0.7598\n",
            "Epoch 59/100\n",
            "96/96 [==============================] - 1s 10ms/step - loss: 0.0660 - accuracy: 0.9691 - val_loss: 1.0907 - val_accuracy: 0.7598\n",
            "Epoch 60/100\n",
            "96/96 [==============================] - 1s 10ms/step - loss: 0.0648 - accuracy: 0.9721 - val_loss: 1.0956 - val_accuracy: 0.7677\n",
            "Epoch 61/100\n",
            "96/96 [==============================] - 1s 10ms/step - loss: 0.0626 - accuracy: 0.9724 - val_loss: 1.2040 - val_accuracy: 0.7677\n",
            "Epoch 62/100\n",
            "96/96 [==============================] - 1s 10ms/step - loss: 0.0649 - accuracy: 0.9721 - val_loss: 1.1327 - val_accuracy: 0.7612\n",
            "Epoch 63/100\n",
            "96/96 [==============================] - 1s 10ms/step - loss: 0.0605 - accuracy: 0.9717 - val_loss: 1.1993 - val_accuracy: 0.7612\n",
            "Epoch 64/100\n",
            "96/96 [==============================] - 1s 10ms/step - loss: 0.0766 - accuracy: 0.9645 - val_loss: 1.0614 - val_accuracy: 0.7703\n",
            "Epoch 65/100\n",
            "96/96 [==============================] - 1s 10ms/step - loss: 0.0679 - accuracy: 0.9727 - val_loss: 1.2071 - val_accuracy: 0.7638\n",
            "Epoch 66/100\n",
            "96/96 [==============================] - 1s 10ms/step - loss: 0.0699 - accuracy: 0.9694 - val_loss: 1.2294 - val_accuracy: 0.7507\n",
            "Epoch 67/100\n",
            "96/96 [==============================] - 1s 10ms/step - loss: 0.0674 - accuracy: 0.9711 - val_loss: 1.2429 - val_accuracy: 0.7625\n",
            "Epoch 68/100\n",
            "96/96 [==============================] - 1s 10ms/step - loss: 0.0647 - accuracy: 0.9685 - val_loss: 1.1884 - val_accuracy: 0.7572\n",
            "Epoch 69/100\n",
            "96/96 [==============================] - 1s 10ms/step - loss: 0.0599 - accuracy: 0.9744 - val_loss: 1.2018 - val_accuracy: 0.7559\n",
            "Epoch 70/100\n",
            "96/96 [==============================] - 1s 10ms/step - loss: 0.0578 - accuracy: 0.9734 - val_loss: 1.3312 - val_accuracy: 0.7664\n",
            "Epoch 71/100\n",
            "96/96 [==============================] - 1s 10ms/step - loss: 0.0601 - accuracy: 0.9721 - val_loss: 1.2917 - val_accuracy: 0.7638\n",
            "Epoch 72/100\n",
            "96/96 [==============================] - 1s 10ms/step - loss: 0.0618 - accuracy: 0.9727 - val_loss: 1.2556 - val_accuracy: 0.7598\n",
            "Epoch 73/100\n",
            "96/96 [==============================] - 1s 10ms/step - loss: 0.0929 - accuracy: 0.9622 - val_loss: 0.8407 - val_accuracy: 0.7533\n",
            "Epoch 74/100\n",
            "96/96 [==============================] - 1s 10ms/step - loss: 0.0839 - accuracy: 0.9648 - val_loss: 1.0383 - val_accuracy: 0.7651\n",
            "Epoch 75/100\n",
            "96/96 [==============================] - 1s 9ms/step - loss: 0.0643 - accuracy: 0.9737 - val_loss: 1.1192 - val_accuracy: 0.7664\n",
            "Epoch 76/100\n",
            "96/96 [==============================] - 1s 10ms/step - loss: 0.0588 - accuracy: 0.9737 - val_loss: 1.1302 - val_accuracy: 0.7638\n",
            "Epoch 77/100\n",
            "96/96 [==============================] - 1s 10ms/step - loss: 0.0588 - accuracy: 0.9717 - val_loss: 1.0846 - val_accuracy: 0.7638\n",
            "Epoch 78/100\n",
            "96/96 [==============================] - 1s 10ms/step - loss: 0.0579 - accuracy: 0.9740 - val_loss: 1.1492 - val_accuracy: 0.7612\n",
            "Epoch 79/100\n",
            "96/96 [==============================] - 1s 10ms/step - loss: 0.0579 - accuracy: 0.9714 - val_loss: 1.1359 - val_accuracy: 0.7677\n",
            "Epoch 80/100\n",
            "96/96 [==============================] - 1s 10ms/step - loss: 0.0579 - accuracy: 0.9731 - val_loss: 1.1992 - val_accuracy: 0.7677\n",
            "Epoch 81/100\n",
            "96/96 [==============================] - 1s 9ms/step - loss: 0.0575 - accuracy: 0.9731 - val_loss: 1.2209 - val_accuracy: 0.7664\n",
            "Epoch 82/100\n",
            "96/96 [==============================] - 1s 10ms/step - loss: 0.0572 - accuracy: 0.9717 - val_loss: 1.1571 - val_accuracy: 0.7717\n",
            "Epoch 83/100\n",
            "96/96 [==============================] - 1s 10ms/step - loss: 0.0757 - accuracy: 0.9708 - val_loss: 1.0196 - val_accuracy: 0.7822\n",
            "Epoch 84/100\n",
            "96/96 [==============================] - 1s 9ms/step - loss: 0.0881 - accuracy: 0.9665 - val_loss: 1.0887 - val_accuracy: 0.7625\n",
            "Epoch 85/100\n",
            "96/96 [==============================] - 1s 10ms/step - loss: 0.0792 - accuracy: 0.9678 - val_loss: 0.9637 - val_accuracy: 0.7598\n",
            "Epoch 86/100\n",
            "96/96 [==============================] - 1s 10ms/step - loss: 0.0682 - accuracy: 0.9714 - val_loss: 1.2249 - val_accuracy: 0.7388\n",
            "Epoch 87/100\n",
            "96/96 [==============================] - 1s 10ms/step - loss: 0.0585 - accuracy: 0.9731 - val_loss: 1.1547 - val_accuracy: 0.7690\n",
            "Epoch 88/100\n",
            "96/96 [==============================] - 1s 10ms/step - loss: 0.0586 - accuracy: 0.9727 - val_loss: 1.1816 - val_accuracy: 0.7703\n",
            "Epoch 89/100\n",
            "96/96 [==============================] - 1s 10ms/step - loss: 0.0560 - accuracy: 0.9740 - val_loss: 1.2231 - val_accuracy: 0.7651\n",
            "Epoch 90/100\n",
            "96/96 [==============================] - 1s 10ms/step - loss: 0.0562 - accuracy: 0.9747 - val_loss: 1.2240 - val_accuracy: 0.7612\n",
            "Epoch 91/100\n",
            "96/96 [==============================] - 1s 11ms/step - loss: 0.0561 - accuracy: 0.9734 - val_loss: 1.2144 - val_accuracy: 0.7730\n",
            "Epoch 92/100\n",
            "96/96 [==============================] - 1s 10ms/step - loss: 0.0571 - accuracy: 0.9727 - val_loss: 1.2714 - val_accuracy: 0.7677\n",
            "Epoch 93/100\n",
            "96/96 [==============================] - 1s 11ms/step - loss: 0.0548 - accuracy: 0.9750 - val_loss: 1.1992 - val_accuracy: 0.7677\n",
            "Epoch 94/100\n",
            "96/96 [==============================] - 1s 10ms/step - loss: 0.0564 - accuracy: 0.9754 - val_loss: 1.2469 - val_accuracy: 0.7703\n",
            "Epoch 95/100\n",
            "96/96 [==============================] - 1s 10ms/step - loss: 0.0545 - accuracy: 0.9750 - val_loss: 1.2650 - val_accuracy: 0.7598\n",
            "Epoch 96/100\n",
            "96/96 [==============================] - 1s 10ms/step - loss: 0.0545 - accuracy: 0.9734 - val_loss: 1.2990 - val_accuracy: 0.7677\n",
            "Epoch 97/100\n",
            "96/96 [==============================] - 1s 10ms/step - loss: 0.0564 - accuracy: 0.9744 - val_loss: 1.2258 - val_accuracy: 0.7664\n",
            "Epoch 98/100\n",
            "96/96 [==============================] - 1s 10ms/step - loss: 0.0560 - accuracy: 0.9747 - val_loss: 1.2173 - val_accuracy: 0.7572\n",
            "Epoch 99/100\n",
            "96/96 [==============================] - 1s 10ms/step - loss: 0.0545 - accuracy: 0.9757 - val_loss: 1.3513 - val_accuracy: 0.7703\n",
            "Epoch 100/100\n",
            "96/96 [==============================] - 1s 10ms/step - loss: 0.0556 - accuracy: 0.9757 - val_loss: 1.2510 - val_accuracy: 0.7638\n",
            "[[1710  543]\n",
            " [ 511 1043]]\n",
            "              precision    recall  f1-score   support\n",
            "\n",
            "           0       0.77      0.76      0.76      2253\n",
            "           1       0.66      0.67      0.66      1554\n",
            "\n",
            "    accuracy                           0.72      3807\n",
            "   macro avg       0.71      0.72      0.71      3807\n",
            "weighted avg       0.72      0.72      0.72      3807\n",
            "\n"
          ]
        },
        {
          "output_type": "display_data",
          "data": {
            "image/png": "[encoded data removed]",
            "text/plain": [
              "<Figure size 720x720 with 1 Axes>"
            ]
          },
          "metadata": {
            "needs_background": "light"
          }
        }
      ]
    },
    {
      "cell_type": "code",
      "metadata": {
        "colab": {
          "base_uri": "https://localhost:8080/",
          "height": 424
        },
        "id": "q-MA2aWIaIEV",
        "outputId": "6c0a0235-8026-439c-e639-a21d0d79e1e5"
      },
      "source": [
        "#Predicting final test data with better performing model rnn_1. \n",
        "y_pred = model.predict(X_test)\n",
        "y_train_pred = []\n",
        "for i in range(len(test)):\n",
        "    if y_pred[i] > 0.5:\n",
        "        y_train_pred.append(1)\n",
        "    else:\n",
        "        y_train_pred.append(0)\n",
        "test['target'] = y_train_pred\n",
        "final = test[['id', 'target']]\n",
        "final.to_csv('pred1.csv', index = False)\n",
        "final"
      ],
      "execution_count": null,
      "outputs": [
        {
          "output_type": "execute_result",
          "data": {
            "text/html": [
              "<div>\n",
              "<style scoped>\n",
              "    .dataframe tbody tr th:only-of-type {\n",
              "        vertical-align: middle;\n",
              "    }\n",
              "\n",
              "    .dataframe tbody tr th {\n",
              "        vertical-align: top;\n",
              "    }\n",
              "\n",
              "    .dataframe thead th {\n",
              "        text-align: right;\n",
              "    }\n",
              "</style>\n",
              "<table border=\"1\" class=\"dataframe\">\n",
              "  <thead>\n",
              "    <tr style=\"text-align: right;\">\n",
              "      <th></th>\n",
              "      <th>id</th>\n",
              "      <th>target</th>\n",
              "    </tr>\n",
              "  </thead>\n",
              "  <tbody>\n",
              "    <tr>\n",
              "      <th>0</th>\n",
              "      <td>0</td>\n",
              "      <td>1</td>\n",
              "    </tr>\n",
              "    <tr>\n",
              "      <th>1</th>\n",
              "      <td>2</td>\n",
              "      <td>1</td>\n",
              "    </tr>\n",
              "    <tr>\n",
              "      <th>2</th>\n",
              "      <td>3</td>\n",
              "      <td>1</td>\n",
              "    </tr>\n",
              "    <tr>\n",
              "      <th>3</th>\n",
              "      <td>9</td>\n",
              "      <td>1</td>\n",
              "    </tr>\n",
              "    <tr>\n",
              "      <th>4</th>\n",
              "      <td>11</td>\n",
              "      <td>1</td>\n",
              "    </tr>\n",
              "    <tr>\n",
              "      <th>...</th>\n",
              "      <td>...</td>\n",
              "      <td>...</td>\n",
              "    </tr>\n",
              "    <tr>\n",
              "      <th>3258</th>\n",
              "      <td>10861</td>\n",
              "      <td>1</td>\n",
              "    </tr>\n",
              "    <tr>\n",
              "      <th>3259</th>\n",
              "      <td>10865</td>\n",
              "      <td>1</td>\n",
              "    </tr>\n",
              "    <tr>\n",
              "      <th>3260</th>\n",
              "      <td>10868</td>\n",
              "      <td>1</td>\n",
              "    </tr>\n",
              "    <tr>\n",
              "      <th>3261</th>\n",
              "      <td>10874</td>\n",
              "      <td>1</td>\n",
              "    </tr>\n",
              "    <tr>\n",
              "      <th>3262</th>\n",
              "      <td>10875</td>\n",
              "      <td>0</td>\n",
              "    </tr>\n",
              "  </tbody>\n",
              "</table>\n",
              "<p>3263 rows × 2 columns</p>\n",
              "</div>"
            ],
            "text/plain": [
              "         id  target\n",
              "0         0       1\n",
              "1         2       1\n",
              "2         3       1\n",
              "3         9       1\n",
              "4        11       1\n",
              "...     ...     ...\n",
              "3258  10861       1\n",
              "3259  10865       1\n",
              "3260  10868       1\n",
              "3261  10874       1\n",
              "3262  10875       0\n",
              "\n",
              "[3263 rows x 2 columns]"
            ]
          },
          "metadata": {},
          "execution_count": 68
        }
      ]
    },
    {
      "cell_type": "markdown",
      "metadata": {
        "id": "kDXso5JBrVQM"
      },
      "source": [
        "![Screenshot 2021-12-05 at 23.11.57.png](data:image/png;base64,iVBORw0KGgoAAAANSUhEUgAAA7gAAAAuCAYAAAAC7rWYAAAKO2lDQ1BJQ0MgUHJvZmlsZQAASImVlgdUFOcWx+/M9sbC7oKAlKU3QToLSO8CgoggiMqyS4d1XXqxIcEIRAQREVACGBVRMBoBiRULFkSxYc8iQUWNwQIWVN6sJJrknffeefec77u/uTPf/e79Zs6ZPwBtD18sTkHlAVJF6ZIQH3fugohILmkYCMACgBlA4QvSxG7BwQHYFfzp/27jNwCR+aumslz/fv+/GksYmyYAQKIwXipME6Ri3Iuxp0AsSQeQVQY6WeliGVtjzJFgBWLsK+P4KZat5cRMsfjzM6EhHhgXApDpfL4kHoC6AYtzMwXxWB7qPozNRcJEEcZSjJ0FCXwhAI0r6zg1damMZX0aYs9j+WjYGuDF/CVn/N/yx3zJz+fHf+Gpvj6bYoAP19czhGvtz/XgpyTGSPjpscL/85z+p6WmZPy5n+xt0GNFPu6yHrChBgHgA1zwBU8Iwbw1+GOzB/AhBRIhBiQYpUMsCNNjs2W9gsdScY4kMT4hneuGvdFYrp9IYDaDa2luaQEg+z6mtnkV8nknROno19jS7dhRjQPgyr/GYioBOooAlG9/jeluA2Bi59feLciQZE7F8LKJAFRgAgdUQAN0sOpNwRJswRFcwQtmQxCEQgQsBgEkQCpWdxbkw2ooghLYAJugBuqhCXbBXtgPHXAYTsAZuACX4TrcASkMw1MYhXGYQBCEhDAQNqKCaCJ6iAliifAQZ8QLCUBCkAgkGolHREgGko+sQUqQCqQGaUCakR+RQ8gJ5BzSj9xCBpER5CXyHsWhdJSDqqP66EyUh7qh/mgougiNR5ehuWghuh6tRhvRPWg7egK9gF5HpehTdAwHOBpOCaeFM8XxcB64IFwkLg4nwa3AFeOqcI24VlwXrgd3FSfFPcO9wxPxbDwXb4p3xPvi5+MF+GX4FfhSfA1+F74dfwp/FT+IH8V/IjAIagQTggPBj7CAEE/IIhQRqgg7CAcJpwnXCcOEcSKRqEQ0INoRfYkRxCRiHrGUuJXYRjxO7CcOEcdIJJIKyYTkRAoi8UnppCLSFtIe0jHSFdIw6S2ZRtYkW5K9yZFkEbmAXEXeTT5KvkJ+RJ6gyFP0KA6UIIqQkkMpo2yndFEuUYYpE1QFqgHViRpKTaKuplZTW6mnqXepr2g0mjbNnjaXlkhbRaum7aOdpQ3S3tFZdGO6Bz2KnkFfT99JP06/RX/FYDD0Ga6MSEY6Yz2jmXGScZ/xVo4tZybnJyeUWylXK9cud0XuOZPC1GO6MRczc5lVzAPMS8xn8hR5fXkPeb78Cvla+UPyA/JjCmwFC4UghVSFUoXdCucUHrNILH2WF0vIKmQ1sU6yhtg4tg7bgy1gr2FvZ59mD3OIHAOOHyeJU8LZy+njjCqyFK0VwxSzFWsVjyhKlXBK+kp+SilKZUr7lW4ovZ+mPs1tWuy0ddNap12Z9kZ5urKrcqxysXKb8nXl9ypcFS+VZJVylQ6Ve6p4VWPVuapZqttUT6s+m86Z7jhdML14+v7pt9VQNWO1ELU8tSa1XrUxdQ11H3Wx+hb1k+rPNJQ0XDWSNCo1jmqMaLI1nTUTNSs1j2k+4Spy3bgp3GruKe6olpqWr1aGVoNWn9aEtoH2fO0C7TbtezpUHZ5OnE6lTrfOqK6mbqBuvm6L7m09ih5PL0Fvs16P3ht9A/1w/bX6HfqPDZQN/AxyDVoM7hoyDF0Mlxk2Gl4zIhrxjJKNthpdNkaNbYwTjGuNL5mgJrYmiSZbTfpnEGbYzxDNaJwxYEo3dTPNNG0xHTRTMgswKzDrMHs+U3dm5MzymT0zP5nbmKeYbze/Y8GymG1RYNFl8dLS2FJgWWt5zYph5W210qrT6oW1iXWs9TbrmzZsm0CbtTbdNh9t7Wwltq22I3a6dtF2dXYDPA4vmFfKO2tPsHe3X2l/2P6dg61DusN+h98dTR2THXc7Pp5lMCt21vZZQ07aTnynBiepM9c52vl7Z6mLlgvfpdHlgauOq9B1h+sjNyO3JLc9bs/dzd0l7gfd33g4eCz3OO6J8/TxLPbs82J5zfeq8brvre0d793iPepj45Pnc9yX4OvvW+474KfuJ/Br9hudbTd7+exT/nT/ef41/g8CjAMkAV2BaODswI2Bd+fozRHN6QiCIL+gjUH3gg2ClwX/PJc4N3hu7dyHIRYh+SE989jzlszbPW881D20LPTOfMP5GfO7w5hhUWHNYW/CPcMrwqULZi5YvuBChGpEYkRnJCkyLHJH5NhCr4WbFg5H2UQVRd1YZLAoe9G5xaqLUxYfWcJcwl9yIJoQHR69O/oDP4jfyB+L8YupixkVeAg2C54KXYWVwpFYp9iK2EdxTnEVcY/jneI3xo8kuCRUJTxL9EisSXyR5JtUn/QmOSh5Z/JkSnhKWyo5NTr1kIglShadWqqxNHtpv9hEXCSWLnNYtmnZqMRfsiMNSVuU1pnOwX7EvRmGGd9kDGY6Z9Zmvs0KyzqQrZAtyu7NMc5Zl/Mo1zv3hzx8niCvO18rf3X+4HK35Q0rkBUxK7pX6qwsXDm8ymfVrtXU1cmrLxaYF1QUvF4TvqarUL1wVeHQNz7ftBTJFUmKBtY6rq3/Fv9t4rd966zWbVn3qVhYfL7EvKSq5EOpoPT8dxbfVX83uT5ufV+Zbdm2DcQNog03yl3Kd1UoVORWDG0M3Nheya0srny9acmmc1XWVfWbqZszNkurA6o7t+hu2bDlQ01CzfVa99q2OrW6dXVvtgq3Xtnmuq21Xr2+pP7994nf32zwaWhv1G+saiI2ZTY93B62vecH3g/NO1R3lOz4uFO0U7orZNepZrvm5t1qu8ta0JaMlpE9UXsu7/Xc29lq2trQptRWsg/2Zex78mP0jzf2++/vPsA70PqT3k91B9kHi9uR9pz20Y6EDmlnRGf/odmHurscuw7+bPbzzsNah2uPKB4pO0o9Wnh08ljusbHj4uPPTsSfGOpe0n3n5IKT107NPdV32v/02TPeZ072uPUcO+t09vA5h3OHzvPOd1ywvdDea9N78KLNxYN9tn3tl+wudV62v9zVP6v/6BWXKyeuel49c83v2oXrc67335h/4+ZA1ID0pvDm41spt17czrw9cWfVXcLd4nvy96ruq91v/MXolzaprfTIoOdg74N5D+4MCYae/pr264fhwoeMh1WPNB81P7Z8fHjEe+Tyk4VPhp+Kn048K/pN4be654bPf/rd9ffe0QWjwy8kLyZflr5SebXztfXr7rHgsfvjqeMTb4rfqrzd9Y73rud9+PtHE1kfSB+qPxp97Prk/+nuZOrkpJgv4X+WAjhsoHFxAC93AjAiANiXMV21cEq//aFxkL+onf/AUxrvs9kCNA0AhOYBBFwE2FIDoI/lZ2LaMZiJxR0BtbL6Mv6wtDgry6lcdBdMmtybnHyF6SlSOcDH8snJiabJyY9NWLF3AI7nTOlGmWlgGjaLBDSx+l0OadE/ddqUpvxLj//08KWCv/l/AcWSyTl1vWeXAAAAVmVYSWZNTQAqAAAACAABh2kABAAAAAEAAAAaAAAAAAADkoYABwAAABIAAABEoAIABAAAAAEAAAO4oAMABAAAAAEAAAAuAAAAAEFTQ0lJAAAAU2NyZWVuc2hvdPr9kZ8AAAHVaVRYdFhNTDpjb20uYWRvYmUueG1wAAAAAAA8eDp4bXBtZXRhIHhtbG5zOng9ImFkb2JlOm5zOm1ldGEvIiB4OnhtcHRrPSJYTVAgQ29yZSA2LjAuMCI+CiAgIDxyZGY6UkRGIHhtbG5zOnJkZj0iaHR0cDovL3d3dy53My5vcmcvMTk5OS8wMi8yMi1yZGYtc3ludGF4LW5zIyI+CiAgICAgIDxyZGY6RGVzY3JpcHRpb24gcmRmOmFib3V0PSIiCiAgICAgICAgICAgIHhtbG5zOmV4aWY9Imh0dHA6Ly9ucy5hZG9iZS5jb20vZXhpZi8xLjAvIj4KICAgICAgICAgPGV4aWY6UGl4ZWxZRGltZW5zaW9uPjQ2PC9leGlmOlBpeGVsWURpbWVuc2lvbj4KICAgICAgICAgPGV4aWY6UGl4ZWxYRGltZW5zaW9uPjk1MjwvZXhpZjpQaXhlbFhEaW1lbnNpb24+CiAgICAgICAgIDxleGlmOlVzZXJDb21tZW50PlNjcmVlbnNob3Q8L2V4aWY6VXNlckNvbW1lbnQ+CiAgICAgIDwvcmRmOkRlc2NyaXB0aW9uPgogICA8L3JkZjpSREY+CjwveDp4bXBtZXRhPgqU2VlsAAAeuElEQVR4Ae2dB3hUxRbHz6aShNB7r9JEOorw8CGgNBFBmogNFemKIBYUVFBAFCliRSxPBewKVlBQem8CinSRJjWUVPLOf5JZdpPNZiMrZpP/+b7NbXPnzvzu5u49c8o4du7anVyxQnmhkAAJkAAJkAAJkAAJkAAJkAAJkECgEdi1e49YnTak0oe/a/vxoZAACZAACZAACZAACZAACZAACZBA4BFIHp5itA0KvKazxSRAAiRAAiRAAiRAAiRAAiRAAiSQnkCI3bW/XzO7yiUJkAAJkAAJkAAJkAAJkAAJkAAJZHsCpV9e7NZGWnDdcHCDBEiABEiABEiABEiABEiABEggUAlQwQ3UO8d2kwAJkAAJkAAJkAAJkAAJkAAJuBGgguuGgxskQAIkQAIkQAIkQAIkQAIkQAKBSoAKbqDeObabBEiABEiABEiABEiABEiABEjAjYAzyZTbXm6QAAmQAAmQAAmQAAmQQBYIBEmyBOsH1hOsY+nQ5TXrIqVSRLJUzHNeyuuygi5r5U2WPMGOLNTOoiRAAiTgGwEquL5xYikSIAESIAESIAESIAEPBKDUhqR+oNCmlROJDlkbg88Fx8GoYJGORRKla/EkKR6e9gxukwAJkMDfJ0AF9++z45kkQAIkQAIkQAIkkGsJwEoLxTZUzqulVoxqm6hrSfrBHqi6WH5VL172nBPZE+vQpUO2ngmSDaeD5INDIfLh4RDpVSJR7iyVKKFBtOjm2i8TO04CfiRABdePMFkVCZAACZAACZAACeQGArDahqn6iiUU2QR1SLbKbdr+5w9JliuiRT/WuptkFN53D4TId8eC5W1dLj8ZJBOrJkihsLRnc5sESIAEskbggq9I1s5jaRIgARIgARIgARIggVxIAFbb8FTlFtbaOFVz41TBxbokqZobr+baszHiOHNCHDHHUj66bvbhmJYpHyEyslKizKwZrzG5yfLr2SC5d2uYHIzLhUDZZRIgAb8SoILrV5ysjARIgARIgARIgARyLgFruYV7Mqy2sarcwnLrgGIbe0Yc52JE4s7pdoL6J5+/AELXzT4c0zKmrJ5TOTJZXq0RL3XynpcD8Q4ZsC1MjsZfOI1rJEACJJBVAlRws0qM5UmABEiABEiABEggFxKAUgu3ZKvcxps1BREfK6LKrSSo+TXZuiF7AYQyKItz9Ny8GjD3QrUEqRd9Xg6qkvvQ9lCJP+9DPV4uwUMkQAK5lwAV3Nx779lzEiABEiABEiABEvCZAFyTYcGFK7JVbuGO7Ig7q9baJJ/rcRbUc3Au6sijb6TjNQa3vLorb1N35en7mCbGyYkrJEACWSLAp0eWcLEwCZAACZAACZAACeQ+AlBskS0ZdlW4Jhv7Kiy36nLsSY4cOSLnzqny61BlOD5eTpw4IXny5JGaNWuafW7nmDocEhWWR8ZUjpe7toTLx0dCpH2R81I1ipZcN1bcIAESyJQALbiZImIBEiABEiABEiABEsjdBGC9xSQ+iarcOmNu4WbsQQ4dOiRFixaVyy67TCpVqiRhYWFStmxZiYiIkMWLF3s4Q8ShdSGOt1KkSLfiiQIP5bcP6GS5FBIgARLIIgEquFkExuIkQAIkQAIkQAIkkJsIwF4LBRe2VCi3RqDcenBLPnz4sKxatUr++usv2bt3r8yfP1/Wr18vZ8+qK7Jac48dO2asuen4oa5UhblniSQJ0cv8dCJYziSmK8kdJEACJOCVQI5zUT5z5rRs1gepJylbvryUKlPWeSgpKUm2bNooR/UhXK9hI8lfoIDzmF05cfyYltmkD+YzUr1mLSlTrrw9FDDLZE3msH7tatm0bp2E6ihq3foNpMbltf/R9h/RH7ilPy2Uusq1fIWK/+i1Mqp8w9o1snvnDufhgoUKyxX16kuBggWd+zJbmTJxvBw+eFDGTJyUrmja+iOjoqR2nXpSolSpdGVz2o74uDj5+svPpVKVqlK7bj1Zsmih+R9p3ba9nD4dI8MH9pe2N3SUjl265rSusz8kQAIkkOsIwD3ZoR8ot3YqIElMn+p4586dUlB/Yzt16iSzZs2SatWqScmSJSVfvnxSunRpo/TinWTjxo3SvHnz9BxRZ1K4FAwNkQbRSbLiVLCsPOWQFoVyjptyTMwpWacDANHK5PI6dSU0NDQ9h9Q9+/ftkz/27vF4vI6+y+VRi7gvZdJW8OvWLbLtl83Sqm07iYrKm/aw2fZXGY+Vc6chAD1k3epVUrBQIalc9bIcRQX/5/v37ZWw8HApVrzEJe9bjlNwTxw7Lv+bOSMdyFMnT0qXnrdIx1QFF4rrEw8Nkzh9UQ/PEy5vv/6K9Lqzj7Rq08557oZ1a2XyhGf14RNm3Gvei5khN/e8Vdp3uslZJruvxJw6KQPuukMWfPu1W1N797nHKG0hIf/MV+DXLb9I/ztvk4kvvfKvKbhvvjpdPnr/Pbd+Y+Ou+/rLUxOeTx8DlK6kyCezPpCDBw7I42Oe1e9JHrcSGdV/2933ytjnX5SgIN8cJEY/PFyKFCsmA4cOd6s/O2/ExMSY+9un3wCj4E4a/4zs2P6brNveXg7s3y9ffvKRaT4V3Ox8F9k2EiABEvCNgP01M8qtnmKm+0Em5FQ5oL+TR48eVWUpysTb7t692yyh7JYrV04TKycb92TE4MJ9edu2bSnvX/ry6yZaDnUnB4fIlfnPGwV3rSq5LQrlDDPu0p8WyevTp+ogQCE5pe9neL8cPW6CFC9R0g2D3Vizcrl8//VXdtMsExIS5Jxaw8dPmSYlVMH1pYxrBaf19/uZJ0aaXXUaNJSoiukVXH+Vcb0u190J7Nm1S15/aYrs27NHrmraTPrdP9S9QABvndR4+2U//6QDWkekVOkycu11VHAv+naW1hiPqW/MdKsHiuoLz4yRWrWvcO5/85Xpki9/fnns6bGa9CBCPpn9gcx+9x0zmlaiZCnzYH7p+eekfsPG5ksHZQUWKyhM9Ro1MjfMWVk2XnlnxutGuYXyBGXkyOFD8syokfKu7m+tI3ctr2+bjVvvn6Z9/dNSY53HKOeLOmCBew+LfefuPTO9wLxFiyUhPiGdcut64ndLVuh3qYD8/tuvMmncWHnnjdfkhpu6yNXNr3EtluH65x/NkcqXVQsoBTfDzuiBqtWqy9rfdkmhIkW8FeMxEiABEiCBACGQmlJKU0yp37BKcqLTUVmgzJYpU0bq1KljFFdYJPPr+xWstolaDgOiBdRDDkou1hGHW7x4cePG3KxZs3QEULfORSS18qYo0NvOplwzXcEA23FcXbPfffMNadOho3S/9TY5e+aMjH96tLw+bap5F4X7dlrBIHHageI3pk8TGBGKFituivtSxrXeWe++LUHBQepd7jJHsWsBXfdXmTTVcjOVAAwCYx9/TL0cG/pkbAkkcFBuv/r8MylesoR+R4v9a023g3L/WgMuxYU/VeX1inr1nOb/mFOnZMPatdKpa3d90EaaLxceEHAxXbl0iWkSvnyw7na7tbcEBwebMu06djJKsS1zKdp+sddYvXy5qeL+EY9IsRIlpNYVdWTitFdk+MgnTN9xED9Ar780VTq0aC5X1aomPW9sb0Ze7LVHDB4g9/a+RT6dM0tuuu5aadWkkTyvAwb4sbLy27atcv99d8vVtWtI7y6dZO+e3faQcwk31oF97pCmdWpJtw5t5IfvvnUew8ohHQF+8pGHTP1t/tPEWM/hCgs5eeK4tG1+tbw65UUZNWKYNK9/hV7nRpn32SfmuLc/5dRFunzFSkbhfG7qdFN0+eKfzTKzvj/92CNqAb/NW/VSumw5gft7i9bXOUfgtqrrj5WM+gXXlHbXNJXDOpqNkS70D0sIzgH3axvXl2Z1L5eh/e7VwYnD5phlMfPVlw2vFo3qSdf217vxzKxfqPuuHl3lsw9nS/v/NhPwnvD0k4KRYSve2mDLeFqifbd36ywz9EeYQgIkQAIkEPgE7Mui/dV3JGu8bKpAad2+fbtMnjxZ5s2bJ7Nnz5bRo0cbZXfz5s2yY8cOwRLxuKdPnzaZlJFd+aCG/3gSW3fZ8JSr/RmXXvHzdF5237d25QpVKpPkpm49TFPxztm9V2/Z/us29RT706fm43d5iYZ/3dD5ZvNu6ukkb2W2bN4kixf+KHfe28/TqWafv8pkeAEeMDpF30FDZPCwEZI3OjqHEUmWRk2uVqttG+NC7zpuA71h0/p1xmAIJRju2Yku753+BGGfWf6sM1vVBXi79OEKZdbKgT/3m9WaLnGoGHEsX7FiuoeMI3W0EifgxmDU64gqJIEi13e4wTR10N13yuYNKbHJJTUO5v4RjzotjFBW4SYbEhIsLdu0NXEZt6ryCFdTyI7ft8sP334jTz06QkqWLqMxqQfkhWfHCBQsCBS0XjfdIF98/JGxgJ/RGMyRwx4wx+yfFTpwgDrXr1kt17RsZRhCQf3phwWmCGJSenXuKO/NfFPjWOsKrOhQuGw9iYlJslEt8Wjrd/PmqgW2ofyi8dP33X5rOvdre01PS4yYQqy7cWZ9h1UWD3tf5NTJE8bCjwGRRlc1Madk1q8rr27qrBouKnBVTtDpFHp26iCz33tXaqrXQd0GDeWjD95Tl+DepqxlMW70E/pDt8go7yuXLZU+t3Qzri4olFm/cE8X/TBfHh4ySDAAEKLuYHDHh+ILyawNplAGf2z79v+xL4MS3E0CJEACJBBIBBB/C7EWXDl/wfpXu3ZtqVGjhvTs2VN69+4trVq1MhbbU2pMWK6D7N98842x8u5TLyoowrvUNROSYRhPat15UyOoYpJyhoILJbaKxiQjo7QVeG9BDv7pm4L7+cdzpEiRotL0mv+a8zz9yagMBrDffu0VaX5tS6leq5anU80gtz/KeKycO50EkL/kSn3ny4mSv0BBqaLZ06242MKMcvvLxg1SrnwFqabThe3ZtVNd7FfYon5d/jMBmH5t4sVVBgsVEgu5Bm8f0lFDxJ5i9MxVChctJnsVNqSKPnTwEJqjSkbfwfeb8lDgjh75S06qIhMo0unmbmqtXiMfvPOWGTGBu8B17TrIgAeHO2NjmzT7jxQqXNi4MOMHB0rVQ4P6y6rlS52uMefOnZUvFiw0x/bs3mUstRgFRDwrLOR//vGHvPDya8btBmzuvqW7uZ7lNP7JJ4yrwlfq8gt3XiQighUWSZzwsIXr91ZVJN//bK5RgHEerJbvvz1TRox6ylaj9yxS5i1aYtqLuIWWVzaQ6ZOe9+pqjXhQJJZCG+GyDcHIEsSXvpuCXv40rlHV/FCjT5BRz4w33zmsZ9avUc9OMFZU/MhhHYJEaf0GPyAFCxdyxoQf1TiGpWrdtRZtlCutcU3zFi42CSpemjTRxNTgnsGa7Eu/YnUEfep7MwWeCRi86dGxncz+3zvy6FNjJSIywqc2oB0UEiABEiABErAEKlSoIIMHDxZkU0bSKWRURhZlxN/C2ltIE+rATdlV0bPn5uQl8nnky5ffrYvh4eHGgndIDQeZCYwzy9T77K77BmRovfVWBuFQsJx3732bnFFLuifxVxlPdXMfCSCpLww58CaFwM3+vMtgmT8J5WgFF+4gu/XhOurZ8W7M8ECBeyhGs1yz1yUr5LDwlERC2D9QlcDJz40zyXTyROQxsZhQHhC7GyiCDHvPTpoigx58SDCq9/1X84zS+NmHc+Tz+T+abMqIFY2NPSdjn3hM9igvJCyAIDGXFWQghuILQVZkxDojuzBkk1qGoRjfqG7eVm7o3MWp4II1LLiQRx4YYosIeG9X12bIutUrzRIDCvhA0BYoXnB/vqx6DbOv6TUtjHKLDdyLhlddJWtXrjTlPMWvoNzD9w/CwikT1E0Z7sQQX/ruPDGDlSEjHpbIyCg5fuyoKqtz5OmRj0iFypU1xrl9pv2CIppWkNGwlcZHz/30YxkxZKDJBA0LLdw4MNBgpdGVVzm/vzbe194TX/qFzHbXt0+x8IMdvBwwaAH3EfDxpQ22LVySAAmQAAnkXALIoQwrLmJxjRUXSRQzeTEtpi+y+JzQmDy8IyABFaYKgqILl2XE6HoU1K1yWkNxIdHB1jE6ZTtQ/6Lfrr/hth94z8GxzATKZxE1xFz9n+YZFs2ozB+azfarLz6TvgOHmKzJnhRcf5XJsHE8kOsJVNA5sZFo7esvPjfv8OV1u0B+32c2yQrAHOuijAfGp2q9rVO/vpnKxBUKpnHB8b+OpMQ02mPYdp3iBSnYX5j+mtx+T1/pektvmTD1JWP1hbIXaFJKE0D0GzJUPvl2gcz4YI6xElpr5n239ZI7u98sixbMN5ZOa9107WNoWKjrplq0L2zD7TdI3XJDdFDAinUBxrar1RH12M81rVo7La+nTp4yp9pjWFapXk269rrVJKuw9WK/q4TrgERsXKwZsHDd77o+98efZfH6zfpdaGB2wzXEii99t2UzWva6o4/c2befDH1kpFq5FxkOSGQF8bVfrnXDNbxFo7oycvhQ2avW8hq1LjdTO7mWwbor41CX+4FjvvQrOCjYbRQ4LCwcp5rpfnxtgzmBf0iABEiABHI0AeuQbJ2Fkx3BPvcXLsyIv8Vgd2xsrPyh3lQ11T1xy5YtHuuwde9Ljb0tlRqL67FwAO3E++VfR464tRgKL5RNhGV5kz/3/yErliw2hgSEQXkSb2Xeef01iY5OGVBAPTYPCdbtdIr+KuOpbdxHAiBQsXIVadvxRjMtEkIAv1TPWEzX+k9IjrXgwqd77+7dxoU2LTikYw/WeNPlixdrsH9KbC5Som/VEUXEO0LgLoJsuMi021QtnBAk+YHF8eaevcx2IPxpVKOKsS4uXL3eBLWjzXC/hiDOEjGi38z9wmT1g+IL+VinxkEGPV/lcs2c+O28L83D18aFYITGSkRkpMZ7XG6ujwEDG3ezavkyk/gK5eo2aKCp8OfJgAeGmSy82Ldrx++ChGBV1XprrclrVqxwWt7hyrt+zSozP7G36Y7wDwUX5YnTXpbrml4pY9TCCqUXLsUX23e0M63AGnri+HGzO7N+2XOTNNGXFcTG4rs2bcZbzmQUGIDwVXy9p/hhhfu6VfyXLPrRXALz8l1sG3xtK8uRAAmQAAlkfwKw2mIuXFhwMVWQQ8O8RKfz8UVKqWKH6YLgloyphPAOsGbNGhP65el81A2b7S+nU9Tp6pE5w4JbSqephGcWwqvggQZZtWyZ8nCY/CZmRwZ/EG5XVOcStd5anop5K4N3KLiC2mk07TsVEv3gflSoVNm8Z/mjjKe2cR8JgADe2yPU4/GqVO9FeCcin04NzYmUkRfm3yWXIxVcWGfxjw5lFcpNWoGL8o1dupkMvHA3LqOxjB9/8L7xC29+bStTHJMSQ8mY8fJLRqGFO+f7mgCpgtZn3WXT1psdt+GCimRQyLKLqWug/LylSQYgbW7oaFxVCuh8bBvWrTHuK3E6ujr64WFZ6gpS3k97YaLJotx30P0CH3twc5UevW83iayQFKpz9x4mxf3EsU9LB23Ty2+9q3MLd5ZXJr9oMvsiqxwGIMZp3O6Z02dk2aYLo7w7NTlSX83o3Lpde5PVGQmu7tVMdL4IXKyRvRBTQiEuF9e+2L7juq9OnWxiVpEkYuH33wliW60VPLN+hWo8cumy5TUB2AaTIRpuwmU0KzNk7qef6ChXYVm9Yrl899Vcs8+XP3Bx9rVfmKv47v4DTdZrxN/Wa9DIuKDv08EhyN9tgzmZf0iABEiABHIEAWvBhZILtTY5OFRfSGORfTPT/uHFFcrtEbVeQpnCO1g1TbZ0PHUg2K0CLYu6IStOpjgZ1s+X5FYkUDcaa2bZb3S6Scx92qXHLWY6SuRHaa15UfLrNEoQeNL99OMCeVA9wmyeGExxuEoVgbv7DzL8PPU/szLjJk91O+3woYMyfGB/eXLCRKmgs0xA/FXG7ULcIAEXAj//+INRZBs3aWoGXI7pgBdCKf2t3OKSOdJFGdZbjJBZ66wLW+dqh5s6m5EwKDtQpPDQ7TfkAWfSA8Ae9tjj5kE85bnxZh5dJP3BQyeQBImL7hkwSF0ANsmjQ4fIs6MeF7izYq7gVm3amX6Pe3GKxKiL8D29esjQ/n1NEir00aFMzFJZpBXwsgLFccprM0xdmMIHCvSDj7pzQhvAE/G9fXp2M1l+kexqzMRJphrMnTpz9keqKEZqG+4VZH2G+zGsykhKZQVKKeJEhg24TzbqVE99+g0wrtf2uKclRketDH98lLpIhwkyEEMy67s9z9tyisZpj39ylEnklU9/pNBP239f+mW+Zxp/89RjD8vCBd+bka2et91hlFpkp/7o/f+pwny9aQK+l5a9XaZtG/b70i9MG/VfdRN/4qEHzZQ+yOj85qwPTXUYXctKG1wfTrZddpm2fdwmARIgARIILAKw2iIOFwouPjoKLRJyIRtwZr2J1N92xOLCRTlap0VBDhSPnleoU+s+rlr0mhgNo9Gf78b5MleiM7t+djgO12IkLY3W2GPkd3lTDQH1GzZy8wpEpuU9u3aqpStlxge0+4uPPxQYXZp4ib31pYwrAztDSJCH9ztbzl9lbH1c5j4C9jtke96kWXOj2CIe/Gsd7IEnqfWStWX8tXTIhPnmybG/XzN/1RlQ9aTEhJwzlsyMGn5OkyIgxhSjjoEsiKuMyhvlpjDa/oADLJBFihZ1i+20x31dwqKKOrwpN5ijDS7DrjGkrvXHnDqpc/MmGR99ux9W4SsqljEK7VMTnjdtLazXcU0SZstmdemt762vbqzK/0lZ/suvWa02XXlP/bKF4HWASeALanZJqywithkTZiNux+6z5X1ZeuvXze2uE8z1vG77buMyAhdp14EEW//FtsHWwyUJkAAJkEBgEwjX9FKh+klQ20icfhxJiSKxqoid925hhVJ7QH/39+s7yJ/6noHsyUg2hd/vrl0vJKfUFy2RPFFqwQ2R6fuC5b2DIdKiYJKMqaLXyWGC90p4BnqKp8U89h6V/xzGgN3JvQTiVbHFe68/9arSLy82QJOHtzRLHYLL3YKHC1w6vQmsijlBMP9tRgIOyIx8sVKsePFMqyhesqTXMtFp0uh7KuyaDMzT8azsy6jvfTX51tbNm4z7dFbqy6ist35BgcVUTa4C9yTrouS639f1jPqV9nxv3/+LbUPaa3GbBEiABEggMAkkqgUXL40hquTCopsIK25ouDjiLmT399QzJJgqoN5N+MAtGYotfvMwCOsqyVoXrLc7tbo5h0IEzle3l3Qv41o+kNe9vVdSuQ3kO8u2+0LgUkwRlusVXF9uBMv8+wRCQ0OkvMaJwDp8qQQZ3hAvPHrcxEt1yUt2nZKlSrtlt75kF+aFSIAESIAEApIAlFpYb8NSLblJcFYOw/Q26ggYdy7DPkGRhUKbX3OeYA5czI+LfZiT1SnhESJa1xnVZ0fuCJMErbJrsUSpGpUz3JOd/eQKCZDAJSFABfeSYOZFLpYA3GeXbryQbOpi6/Pl/AXLV/tSLCDLIAabQgIkQAIkQAJZIQArbrD5JBtFN14V3uQwVU51nyMhLp27MtwQMccrkkzBamMVXWz//PPPmglGlWRYblW5jdVMViO2h8qeWIdUjzwv/cvCNflCDo2stJNlSYAEcjeBC5mCcjcH9p4ESIAESIAESIAESMALAUwXBKUWS8TjwpprVFBYcjV+Fi7LqsU6a4B7cq1ataSoel/BglumTBmTZOaQWnGv1xkYzDl67mnVZYf+GirrYoKkRFiyTKiaIGEuCSKdFXKFBEiABHwgQAuuD5BYhARIgARIgARIgARIQKe/TVVyrasy5saF67KJyUVcbpLG5eocucmaLClBXZGRdBKJpiI0r0SpchUkJCpaQiOipIhmBoYDMma9ff9AsGw4HSQlVbmdVj1eCvueoJm3hARIgATSEaCCmw4Jd5AACZAACZAACZAACWREAK7KyanxuJg2KEjV3mAoubo/SZVcZEJW865UrtNQYlBJhMbV6iI4OlxKRqdM/YfzoNwiaVXfUudlX1yQPFAuUQpRuc0IO/eTAAn4SIAKro+gWIwESIAESIAESIAESCCFACy5mC4ISirclfHBSyX24wPnZVhoU52YtSRm0tWwW11CucUH2ygTqhPejq2S4CyruygkQAIk8LcJUMH92+h4IgmQAAmQAAmQAAnkXgJQXuP1A4U2xRprrbJQW70L1NsE/Rirry4pJEACJOAvAlRw/UWS9ZAACZAACZAACZBALiRgrbYaeWsss8hgCkstlil2XFhqYdVNsehiaa28ukohARIgAb8SoILrV5ysjARIgARIgARIgARyJwFYdK1Lcu4kwF6TAAlkBwKcJig73AW2gQRIgARIgARIgARIgARIgARI4KIJUMG9aISsgARIgARIgARIgARIgARIgARIIDsQcMiE+ZlnAsgOLWUbSIAESIAESIAESIAESIAESIAESCADAsnDW5r4/wwOczcJkAAJkAAJkAAJkAAJkAAJkAAJBA4BuigHzr1iS0mABEiABEiABEiABEiABEiABLwQ+D+ytAnVzSj0UQAAAABJRU5ErkJggg==)"
      ]
    },
    {
      "cell_type": "code",
      "metadata": {
        "id": "sSCH8DVHaIHc"
      },
      "source": [
        ""
      ],
      "execution_count": null,
      "outputs": []
    },
    {
      "cell_type": "markdown",
      "metadata": {
        "id": "pgLv4yDBrcj5"
      },
      "source": [
        "The model rnn1 with LSTM performed better than other models. The comparison can be seen in ROC curve and result can be seen in kaggle score. "
      ]
    },
    {
      "cell_type": "code",
      "metadata": {
        "id": "d9XHJjihaIKT"
      },
      "source": [
        ""
      ],
      "execution_count": null,
      "outputs": []
    },
    {
      "cell_type": "code",
      "metadata": {
        "id": "W65g1ZBgaIOQ"
      },
      "source": [
        ""
      ],
      "execution_count": null,
      "outputs": []
    },
    {
      "cell_type": "code",
      "metadata": {
        "id": "cDbIxresrZuv",
        "colab": {
          "base_uri": "https://localhost:8080/",
          "height": 166
        },
        "outputId": "aff1df8c-f34c-4152-ca4b-9ab0b69a8e7b"
      },
      "source": [
        "while True:pass"
      ],
      "execution_count": 69,
      "outputs": [
        {
          "output_type": "error",
          "ename": "KeyboardInterrupt",
          "evalue": "ignored",
          "traceback": [
            "\u001b[0;31m---------------------------------------------------------------------------\u001b[0m",
            "\u001b[0;31mKeyboardInterrupt\u001b[0m                         Traceback (most recent call last)",
            "\u001b[0;32m<ipython-input-69-534b7a74019f>\u001b[0m in \u001b[0;36m<module>\u001b[0;34m()\u001b[0m\n\u001b[0;32m----> 1\u001b[0;31m \u001b[0;32mwhile\u001b[0m \u001b[0;32mTrue\u001b[0m\u001b[0;34m:\u001b[0m\u001b[0;32mpass\u001b[0m\u001b[0;34m\u001b[0m\u001b[0;34m\u001b[0m\u001b[0m\n\u001b[0m",
            "\u001b[0;31mKeyboardInterrupt\u001b[0m: "
          ]
        }
      ]
    }
  ]
}