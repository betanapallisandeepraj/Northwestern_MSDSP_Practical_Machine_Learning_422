{
 "cells": [
  {
   "cell_type": "markdown",
   "metadata": {},
   "source": [
    "# Artificial Neural Network"
   ]
  },
  {
   "cell_type": "markdown",
   "metadata": {},
   "source": [
    "$\\underline{Problem Statement}$: Given the Independent variables, we have to predict whether the customer will respond to the marketing campaign or not."
   ]
  },
  {
   "cell_type": "code",
   "execution_count": null,
   "metadata": {
    "ExecuteTime": {
     "start_time": "2021-11-18T13:38:09.228Z"
    }
   },
   "outputs": [],
   "source": [
    "# Importing the necessary Modules\n",
    "import pandas as pd\n",
    "import numpy as np\n",
    "import matplotlib.pyplot as plt\n",
    "import seaborn as sns"
   ]
  },
  {
   "cell_type": "markdown",
   "metadata": {},
   "source": [
    "### Let us go ahead and read the data."
   ]
  },
  {
   "cell_type": "code",
   "execution_count": 2,
   "metadata": {
    "ExecuteTime": {
     "end_time": "2021-11-16T10:32:20.305998Z",
     "start_time": "2021-11-16T10:32:20.266748Z"
    }
   },
   "outputs": [
    {
     "data": {
      "text/html": [
       "<div>\n",
       "<style scoped>\n",
       "    .dataframe tbody tr th:only-of-type {\n",
       "        vertical-align: middle;\n",
       "    }\n",
       "\n",
       "    .dataframe tbody tr th {\n",
       "        vertical-align: top;\n",
       "    }\n",
       "\n",
       "    .dataframe thead th {\n",
       "        text-align: right;\n",
       "    }\n",
       "</style>\n",
       "<table border=\"1\" class=\"dataframe\">\n",
       "  <thead>\n",
       "    <tr style=\"text-align: right;\">\n",
       "      <th></th>\n",
       "      <th>Cust_ID</th>\n",
       "      <th>Target</th>\n",
       "      <th>Age</th>\n",
       "      <th>Gender</th>\n",
       "      <th>Balance</th>\n",
       "      <th>Occupation</th>\n",
       "      <th>No_OF_CR_TXNS</th>\n",
       "      <th>AGE_BKT</th>\n",
       "      <th>SCR</th>\n",
       "      <th>Holding_Period</th>\n",
       "    </tr>\n",
       "  </thead>\n",
       "  <tbody>\n",
       "    <tr>\n",
       "      <th>0</th>\n",
       "      <td>C16505</td>\n",
       "      <td>0</td>\n",
       "      <td>41</td>\n",
       "      <td>M</td>\n",
       "      <td>91519.92</td>\n",
       "      <td>SELF-EMP</td>\n",
       "      <td>38</td>\n",
       "      <td>41-45</td>\n",
       "      <td>926</td>\n",
       "      <td>15</td>\n",
       "    </tr>\n",
       "    <tr>\n",
       "      <th>1</th>\n",
       "      <td>C17241</td>\n",
       "      <td>0</td>\n",
       "      <td>52</td>\n",
       "      <td>M</td>\n",
       "      <td>117288.96</td>\n",
       "      <td>SAL</td>\n",
       "      <td>17</td>\n",
       "      <td>&gt;50</td>\n",
       "      <td>768</td>\n",
       "      <td>13</td>\n",
       "    </tr>\n",
       "    <tr>\n",
       "      <th>2</th>\n",
       "      <td>C18802</td>\n",
       "      <td>0</td>\n",
       "      <td>31</td>\n",
       "      <td>F</td>\n",
       "      <td>259827.44</td>\n",
       "      <td>SENP</td>\n",
       "      <td>8</td>\n",
       "      <td>31-35</td>\n",
       "      <td>816</td>\n",
       "      <td>5</td>\n",
       "    </tr>\n",
       "    <tr>\n",
       "      <th>3</th>\n",
       "      <td>C19289</td>\n",
       "      <td>0</td>\n",
       "      <td>45</td>\n",
       "      <td>F</td>\n",
       "      <td>26677.55</td>\n",
       "      <td>PROF</td>\n",
       "      <td>14</td>\n",
       "      <td>41-45</td>\n",
       "      <td>353</td>\n",
       "      <td>18</td>\n",
       "    </tr>\n",
       "    <tr>\n",
       "      <th>4</th>\n",
       "      <td>C14028</td>\n",
       "      <td>0</td>\n",
       "      <td>39</td>\n",
       "      <td>F</td>\n",
       "      <td>43440.31</td>\n",
       "      <td>SENP</td>\n",
       "      <td>1</td>\n",
       "      <td>36-40</td>\n",
       "      <td>751</td>\n",
       "      <td>31</td>\n",
       "    </tr>\n",
       "  </tbody>\n",
       "</table>\n",
       "</div>"
      ],
      "text/plain": [
       "  Cust_ID  Target  Age Gender    Balance Occupation  No_OF_CR_TXNS AGE_BKT  \\\n",
       "0  C16505       0   41      M   91519.92   SELF-EMP             38   41-45   \n",
       "1  C17241       0   52      M  117288.96        SAL             17     >50   \n",
       "2  C18802       0   31      F  259827.44       SENP              8   31-35   \n",
       "3  C19289       0   45      F   26677.55       PROF             14   41-45   \n",
       "4  C14028       0   39      F   43440.31       SENP              1   36-40   \n",
       "\n",
       "   SCR  Holding_Period  \n",
       "0  926              15  \n",
       "1  768              13  \n",
       "2  816               5  \n",
       "3  353              18  \n",
       "4  751              31  "
      ]
     },
     "execution_count": 2,
     "metadata": {},
     "output_type": "execute_result"
    }
   ],
   "source": [
    "df = pd.read_csv('DATASET.csv')\n",
    "df.head()"
   ]
  },
  {
   "cell_type": "markdown",
   "metadata": {},
   "source": [
    "Missing Value check."
   ]
  },
  {
   "cell_type": "code",
   "execution_count": 3,
   "metadata": {
    "ExecuteTime": {
     "end_time": "2021-11-16T10:32:20.325628Z",
     "start_time": "2021-11-16T10:32:20.306588Z"
    }
   },
   "outputs": [
    {
     "data": {
      "text/plain": [
       "Cust_ID           0\n",
       "Target            0\n",
       "Age               0\n",
       "Gender            0\n",
       "Balance           0\n",
       "Occupation        0\n",
       "No_OF_CR_TXNS     0\n",
       "AGE_BKT           0\n",
       "SCR               0\n",
       "Holding_Period    0\n",
       "dtype: int64"
      ]
     },
     "execution_count": 3,
     "metadata": {},
     "output_type": "execute_result"
    }
   ],
   "source": [
    "df.isnull().sum()"
   ]
  },
  {
   "cell_type": "markdown",
   "metadata": {},
   "source": [
    "There are no missing values in the dataset and we can go ahead with building the model.\n",
    "\n",
    "Let us check the number of rows and the number of columns in the dataframe."
   ]
  },
  {
   "cell_type": "code",
   "execution_count": 4,
   "metadata": {
    "ExecuteTime": {
     "end_time": "2021-11-16T10:32:20.355831Z",
     "start_time": "2021-11-16T10:32:20.327560Z"
    }
   },
   "outputs": [
    {
     "name": "stdout",
     "output_type": "stream",
     "text": [
      "The number of rows (observations) is: 20000 \n",
      "The number of columns(variables) is: 10\n"
     ]
    }
   ],
   "source": [
    "print('The number of rows (observations) is:',df.shape[0],'\\n''The number of columns(variables) is:',df.shape[1])"
   ]
  },
  {
   "cell_type": "markdown",
   "metadata": {},
   "source": [
    "We will drop the 'Cust_ID' variable before building the model."
   ]
  },
  {
   "cell_type": "code",
   "execution_count": 5,
   "metadata": {
    "ExecuteTime": {
     "end_time": "2021-11-16T10:32:20.376218Z",
     "start_time": "2021-11-16T10:32:20.357795Z"
    }
   },
   "outputs": [
    {
     "data": {
      "text/html": [
       "<div>\n",
       "<style scoped>\n",
       "    .dataframe tbody tr th:only-of-type {\n",
       "        vertical-align: middle;\n",
       "    }\n",
       "\n",
       "    .dataframe tbody tr th {\n",
       "        vertical-align: top;\n",
       "    }\n",
       "\n",
       "    .dataframe thead th {\n",
       "        text-align: right;\n",
       "    }\n",
       "</style>\n",
       "<table border=\"1\" class=\"dataframe\">\n",
       "  <thead>\n",
       "    <tr style=\"text-align: right;\">\n",
       "      <th></th>\n",
       "      <th>Target</th>\n",
       "      <th>Age</th>\n",
       "      <th>Gender</th>\n",
       "      <th>Balance</th>\n",
       "      <th>Occupation</th>\n",
       "      <th>No_OF_CR_TXNS</th>\n",
       "      <th>AGE_BKT</th>\n",
       "      <th>SCR</th>\n",
       "      <th>Holding_Period</th>\n",
       "    </tr>\n",
       "  </thead>\n",
       "  <tbody>\n",
       "    <tr>\n",
       "      <th>0</th>\n",
       "      <td>0</td>\n",
       "      <td>41</td>\n",
       "      <td>M</td>\n",
       "      <td>91519.92</td>\n",
       "      <td>SELF-EMP</td>\n",
       "      <td>38</td>\n",
       "      <td>41-45</td>\n",
       "      <td>926</td>\n",
       "      <td>15</td>\n",
       "    </tr>\n",
       "    <tr>\n",
       "      <th>1</th>\n",
       "      <td>0</td>\n",
       "      <td>52</td>\n",
       "      <td>M</td>\n",
       "      <td>117288.96</td>\n",
       "      <td>SAL</td>\n",
       "      <td>17</td>\n",
       "      <td>&gt;50</td>\n",
       "      <td>768</td>\n",
       "      <td>13</td>\n",
       "    </tr>\n",
       "    <tr>\n",
       "      <th>2</th>\n",
       "      <td>0</td>\n",
       "      <td>31</td>\n",
       "      <td>F</td>\n",
       "      <td>259827.44</td>\n",
       "      <td>SENP</td>\n",
       "      <td>8</td>\n",
       "      <td>31-35</td>\n",
       "      <td>816</td>\n",
       "      <td>5</td>\n",
       "    </tr>\n",
       "    <tr>\n",
       "      <th>3</th>\n",
       "      <td>0</td>\n",
       "      <td>45</td>\n",
       "      <td>F</td>\n",
       "      <td>26677.55</td>\n",
       "      <td>PROF</td>\n",
       "      <td>14</td>\n",
       "      <td>41-45</td>\n",
       "      <td>353</td>\n",
       "      <td>18</td>\n",
       "    </tr>\n",
       "    <tr>\n",
       "      <th>4</th>\n",
       "      <td>0</td>\n",
       "      <td>39</td>\n",
       "      <td>F</td>\n",
       "      <td>43440.31</td>\n",
       "      <td>SENP</td>\n",
       "      <td>1</td>\n",
       "      <td>36-40</td>\n",
       "      <td>751</td>\n",
       "      <td>31</td>\n",
       "    </tr>\n",
       "  </tbody>\n",
       "</table>\n",
       "</div>"
      ],
      "text/plain": [
       "   Target  Age Gender    Balance Occupation  No_OF_CR_TXNS AGE_BKT  SCR  \\\n",
       "0       0   41      M   91519.92   SELF-EMP             38   41-45  926   \n",
       "1       0   52      M  117288.96        SAL             17     >50  768   \n",
       "2       0   31      F  259827.44       SENP              8   31-35  816   \n",
       "3       0   45      F   26677.55       PROF             14   41-45  353   \n",
       "4       0   39      F   43440.31       SENP              1   36-40  751   \n",
       "\n",
       "   Holding_Period  \n",
       "0              15  \n",
       "1              13  \n",
       "2               5  \n",
       "3              18  \n",
       "4              31  "
      ]
     },
     "execution_count": 5,
     "metadata": {},
     "output_type": "execute_result"
    }
   ],
   "source": [
    "df=df.drop('Cust_ID', axis=1)\n",
    "df.head()"
   ]
  },
  {
   "cell_type": "markdown",
   "metadata": {},
   "source": [
    "Let us check the basic measures of Descriptive Statistics."
   ]
  },
  {
   "cell_type": "code",
   "execution_count": 6,
   "metadata": {
    "ExecuteTime": {
     "end_time": "2021-11-16T10:32:20.405913Z",
     "start_time": "2021-11-16T10:32:20.378099Z"
    }
   },
   "outputs": [
    {
     "data": {
      "text/html": [
       "<div>\n",
       "<style scoped>\n",
       "    .dataframe tbody tr th:only-of-type {\n",
       "        vertical-align: middle;\n",
       "    }\n",
       "\n",
       "    .dataframe tbody tr th {\n",
       "        vertical-align: top;\n",
       "    }\n",
       "\n",
       "    .dataframe thead th {\n",
       "        text-align: right;\n",
       "    }\n",
       "</style>\n",
       "<table border=\"1\" class=\"dataframe\">\n",
       "  <thead>\n",
       "    <tr style=\"text-align: right;\">\n",
       "      <th></th>\n",
       "      <th>Target</th>\n",
       "      <th>Age</th>\n",
       "      <th>Balance</th>\n",
       "      <th>No_OF_CR_TXNS</th>\n",
       "      <th>SCR</th>\n",
       "      <th>Holding_Period</th>\n",
       "    </tr>\n",
       "  </thead>\n",
       "  <tbody>\n",
       "    <tr>\n",
       "      <th>count</th>\n",
       "      <td>20000.000000</td>\n",
       "      <td>20000.000000</td>\n",
       "      <td>2.000000e+04</td>\n",
       "      <td>20000.000000</td>\n",
       "      <td>20000.000000</td>\n",
       "      <td>20000.000000</td>\n",
       "    </tr>\n",
       "    <tr>\n",
       "      <th>mean</th>\n",
       "      <td>0.086650</td>\n",
       "      <td>38.396200</td>\n",
       "      <td>1.461813e+05</td>\n",
       "      <td>16.653050</td>\n",
       "      <td>557.136050</td>\n",
       "      <td>15.344100</td>\n",
       "    </tr>\n",
       "    <tr>\n",
       "      <th>std</th>\n",
       "      <td>0.281329</td>\n",
       "      <td>9.600179</td>\n",
       "      <td>1.698125e+05</td>\n",
       "      <td>12.977704</td>\n",
       "      <td>260.521453</td>\n",
       "      <td>8.952128</td>\n",
       "    </tr>\n",
       "    <tr>\n",
       "      <th>min</th>\n",
       "      <td>0.000000</td>\n",
       "      <td>21.000000</td>\n",
       "      <td>0.000000e+00</td>\n",
       "      <td>0.000000</td>\n",
       "      <td>100.000000</td>\n",
       "      <td>1.000000</td>\n",
       "    </tr>\n",
       "    <tr>\n",
       "      <th>25%</th>\n",
       "      <td>0.000000</td>\n",
       "      <td>30.000000</td>\n",
       "      <td>2.373692e+04</td>\n",
       "      <td>7.000000</td>\n",
       "      <td>333.000000</td>\n",
       "      <td>8.000000</td>\n",
       "    </tr>\n",
       "    <tr>\n",
       "      <th>50%</th>\n",
       "      <td>0.000000</td>\n",
       "      <td>38.000000</td>\n",
       "      <td>7.975574e+04</td>\n",
       "      <td>13.000000</td>\n",
       "      <td>560.000000</td>\n",
       "      <td>16.000000</td>\n",
       "    </tr>\n",
       "    <tr>\n",
       "      <th>75%</th>\n",
       "      <td>0.000000</td>\n",
       "      <td>47.000000</td>\n",
       "      <td>2.173106e+05</td>\n",
       "      <td>22.000000</td>\n",
       "      <td>784.000000</td>\n",
       "      <td>23.000000</td>\n",
       "    </tr>\n",
       "    <tr>\n",
       "      <th>max</th>\n",
       "      <td>1.000000</td>\n",
       "      <td>55.000000</td>\n",
       "      <td>1.246967e+06</td>\n",
       "      <td>50.000000</td>\n",
       "      <td>999.000000</td>\n",
       "      <td>31.000000</td>\n",
       "    </tr>\n",
       "  </tbody>\n",
       "</table>\n",
       "</div>"
      ],
      "text/plain": [
       "             Target           Age       Balance  No_OF_CR_TXNS           SCR  \\\n",
       "count  20000.000000  20000.000000  2.000000e+04   20000.000000  20000.000000   \n",
       "mean       0.086650     38.396200  1.461813e+05      16.653050    557.136050   \n",
       "std        0.281329      9.600179  1.698125e+05      12.977704    260.521453   \n",
       "min        0.000000     21.000000  0.000000e+00       0.000000    100.000000   \n",
       "25%        0.000000     30.000000  2.373692e+04       7.000000    333.000000   \n",
       "50%        0.000000     38.000000  7.975574e+04      13.000000    560.000000   \n",
       "75%        0.000000     47.000000  2.173106e+05      22.000000    784.000000   \n",
       "max        1.000000     55.000000  1.246967e+06      50.000000    999.000000   \n",
       "\n",
       "       Holding_Period  \n",
       "count    20000.000000  \n",
       "mean        15.344100  \n",
       "std          8.952128  \n",
       "min          1.000000  \n",
       "25%          8.000000  \n",
       "50%         16.000000  \n",
       "75%         23.000000  \n",
       "max         31.000000  "
      ]
     },
     "execution_count": 6,
     "metadata": {},
     "output_type": "execute_result"
    }
   ],
   "source": [
    "df.describe()"
   ]
  },
  {
   "cell_type": "markdown",
   "metadata": {},
   "source": [
    "Check the data types of the variables of the Data along with the information about the number of observations."
   ]
  },
  {
   "cell_type": "code",
   "execution_count": 7,
   "metadata": {
    "ExecuteTime": {
     "end_time": "2021-11-16T10:32:20.425781Z",
     "start_time": "2021-11-16T10:32:20.406414Z"
    }
   },
   "outputs": [
    {
     "name": "stdout",
     "output_type": "stream",
     "text": [
      "<class 'pandas.core.frame.DataFrame'>\n",
      "RangeIndex: 20000 entries, 0 to 19999\n",
      "Data columns (total 9 columns):\n",
      " #   Column          Non-Null Count  Dtype  \n",
      "---  ------          --------------  -----  \n",
      " 0   Target          20000 non-null  int64  \n",
      " 1   Age             20000 non-null  int64  \n",
      " 2   Gender          20000 non-null  object \n",
      " 3   Balance         20000 non-null  float64\n",
      " 4   Occupation      20000 non-null  object \n",
      " 5   No_OF_CR_TXNS   20000 non-null  int64  \n",
      " 6   AGE_BKT         20000 non-null  object \n",
      " 7   SCR             20000 non-null  int64  \n",
      " 8   Holding_Period  20000 non-null  int64  \n",
      "dtypes: float64(1), int64(5), object(3)\n",
      "memory usage: 1.4+ MB\n"
     ]
    }
   ],
   "source": [
    "df.info()"
   ]
  },
  {
   "cell_type": "markdown",
   "metadata": {},
   "source": [
    "There are few variables which has the object data type.\n",
    "\n",
    "We need to convert these object type variables into numerical variables.\n",
    "\n",
    "For this particular exercise we will assign numbers to each of the categories of the variable. This way, Python will treat it as a numerical variable."
   ]
  },
  {
   "cell_type": "code",
   "execution_count": 8,
   "metadata": {
    "ExecuteTime": {
     "end_time": "2021-11-16T10:32:20.445433Z",
     "start_time": "2021-11-16T10:32:20.425781Z"
    }
   },
   "outputs": [
    {
     "data": {
      "text/plain": [
       "array([2, 1, 3, ..., 1, 3, 0], dtype=int8)"
      ]
     },
     "execution_count": 8,
     "metadata": {},
     "output_type": "execute_result"
    }
   ],
   "source": [
    "#We will use the following code snippet in the loop. \n",
    "\n",
    "pd.Categorical(df['Occupation']).codes #code used for assigning numerical value to each category"
   ]
  },
  {
   "cell_type": "markdown",
   "metadata": {},
   "source": [
    "The following code loops through each of the variable and converts the 'object' type variables to numerical variables by assigning ranks/numbers to each category."
   ]
  },
  {
   "cell_type": "code",
   "execution_count": 9,
   "metadata": {
    "ExecuteTime": {
     "end_time": "2021-11-16T10:32:20.465688Z",
     "start_time": "2021-11-16T10:32:20.446947Z"
    }
   },
   "outputs": [],
   "source": [
    "for i in df.columns:#looping through all of the columns or variables\n",
    "    if df[i].dtype == 'object': #checking if the data type of the variable is 'object'\n",
    "        df[i] = pd.Categorical(df[i]).codes #converting the identified variable into Categorical and extracting the ranks"
   ]
  },
  {
   "cell_type": "markdown",
   "metadata": {},
   "source": [
    "Now, we have converted these variables into numerical variables let us check the data frame and the data types of each variable."
   ]
  },
  {
   "cell_type": "code",
   "execution_count": 10,
   "metadata": {
    "ExecuteTime": {
     "end_time": "2021-11-16T10:32:20.486086Z",
     "start_time": "2021-11-16T10:32:20.465688Z"
    }
   },
   "outputs": [
    {
     "data": {
      "text/html": [
       "<div>\n",
       "<style scoped>\n",
       "    .dataframe tbody tr th:only-of-type {\n",
       "        vertical-align: middle;\n",
       "    }\n",
       "\n",
       "    .dataframe tbody tr th {\n",
       "        vertical-align: top;\n",
       "    }\n",
       "\n",
       "    .dataframe thead th {\n",
       "        text-align: right;\n",
       "    }\n",
       "</style>\n",
       "<table border=\"1\" class=\"dataframe\">\n",
       "  <thead>\n",
       "    <tr style=\"text-align: right;\">\n",
       "      <th></th>\n",
       "      <th>Target</th>\n",
       "      <th>Age</th>\n",
       "      <th>Gender</th>\n",
       "      <th>Balance</th>\n",
       "      <th>Occupation</th>\n",
       "      <th>No_OF_CR_TXNS</th>\n",
       "      <th>AGE_BKT</th>\n",
       "      <th>SCR</th>\n",
       "      <th>Holding_Period</th>\n",
       "    </tr>\n",
       "  </thead>\n",
       "  <tbody>\n",
       "    <tr>\n",
       "      <th>0</th>\n",
       "      <td>0</td>\n",
       "      <td>41</td>\n",
       "      <td>1</td>\n",
       "      <td>91519.92</td>\n",
       "      <td>2</td>\n",
       "      <td>38</td>\n",
       "      <td>3</td>\n",
       "      <td>926</td>\n",
       "      <td>15</td>\n",
       "    </tr>\n",
       "    <tr>\n",
       "      <th>1</th>\n",
       "      <td>0</td>\n",
       "      <td>52</td>\n",
       "      <td>1</td>\n",
       "      <td>117288.96</td>\n",
       "      <td>1</td>\n",
       "      <td>17</td>\n",
       "      <td>6</td>\n",
       "      <td>768</td>\n",
       "      <td>13</td>\n",
       "    </tr>\n",
       "    <tr>\n",
       "      <th>2</th>\n",
       "      <td>0</td>\n",
       "      <td>31</td>\n",
       "      <td>0</td>\n",
       "      <td>259827.44</td>\n",
       "      <td>3</td>\n",
       "      <td>8</td>\n",
       "      <td>1</td>\n",
       "      <td>816</td>\n",
       "      <td>5</td>\n",
       "    </tr>\n",
       "    <tr>\n",
       "      <th>3</th>\n",
       "      <td>0</td>\n",
       "      <td>45</td>\n",
       "      <td>0</td>\n",
       "      <td>26677.55</td>\n",
       "      <td>0</td>\n",
       "      <td>14</td>\n",
       "      <td>3</td>\n",
       "      <td>353</td>\n",
       "      <td>18</td>\n",
       "    </tr>\n",
       "    <tr>\n",
       "      <th>4</th>\n",
       "      <td>0</td>\n",
       "      <td>39</td>\n",
       "      <td>0</td>\n",
       "      <td>43440.31</td>\n",
       "      <td>3</td>\n",
       "      <td>1</td>\n",
       "      <td>2</td>\n",
       "      <td>751</td>\n",
       "      <td>31</td>\n",
       "    </tr>\n",
       "    <tr>\n",
       "      <th>5</th>\n",
       "      <td>0</td>\n",
       "      <td>45</td>\n",
       "      <td>1</td>\n",
       "      <td>403324.49</td>\n",
       "      <td>3</td>\n",
       "      <td>11</td>\n",
       "      <td>3</td>\n",
       "      <td>364</td>\n",
       "      <td>2</td>\n",
       "    </tr>\n",
       "    <tr>\n",
       "      <th>6</th>\n",
       "      <td>1</td>\n",
       "      <td>33</td>\n",
       "      <td>1</td>\n",
       "      <td>245500.00</td>\n",
       "      <td>1</td>\n",
       "      <td>24</td>\n",
       "      <td>1</td>\n",
       "      <td>166</td>\n",
       "      <td>9</td>\n",
       "    </tr>\n",
       "    <tr>\n",
       "      <th>7</th>\n",
       "      <td>0</td>\n",
       "      <td>26</td>\n",
       "      <td>0</td>\n",
       "      <td>464931.92</td>\n",
       "      <td>2</td>\n",
       "      <td>18</td>\n",
       "      <td>0</td>\n",
       "      <td>448</td>\n",
       "      <td>28</td>\n",
       "    </tr>\n",
       "    <tr>\n",
       "      <th>8</th>\n",
       "      <td>0</td>\n",
       "      <td>38</td>\n",
       "      <td>1</td>\n",
       "      <td>49257.03</td>\n",
       "      <td>1</td>\n",
       "      <td>19</td>\n",
       "      <td>2</td>\n",
       "      <td>237</td>\n",
       "      <td>5</td>\n",
       "    </tr>\n",
       "    <tr>\n",
       "      <th>9</th>\n",
       "      <td>1</td>\n",
       "      <td>44</td>\n",
       "      <td>1</td>\n",
       "      <td>10791.71</td>\n",
       "      <td>2</td>\n",
       "      <td>17</td>\n",
       "      <td>3</td>\n",
       "      <td>678</td>\n",
       "      <td>3</td>\n",
       "    </tr>\n",
       "  </tbody>\n",
       "</table>\n",
       "</div>"
      ],
      "text/plain": [
       "   Target  Age  Gender    Balance  Occupation  No_OF_CR_TXNS  AGE_BKT  SCR  \\\n",
       "0       0   41       1   91519.92           2             38        3  926   \n",
       "1       0   52       1  117288.96           1             17        6  768   \n",
       "2       0   31       0  259827.44           3              8        1  816   \n",
       "3       0   45       0   26677.55           0             14        3  353   \n",
       "4       0   39       0   43440.31           3              1        2  751   \n",
       "5       0   45       1  403324.49           3             11        3  364   \n",
       "6       1   33       1  245500.00           1             24        1  166   \n",
       "7       0   26       0  464931.92           2             18        0  448   \n",
       "8       0   38       1   49257.03           1             19        2  237   \n",
       "9       1   44       1   10791.71           2             17        3  678   \n",
       "\n",
       "   Holding_Period  \n",
       "0              15  \n",
       "1              13  \n",
       "2               5  \n",
       "3              18  \n",
       "4              31  \n",
       "5               2  \n",
       "6               9  \n",
       "7              28  \n",
       "8               5  \n",
       "9               3  "
      ]
     },
     "execution_count": 10,
     "metadata": {},
     "output_type": "execute_result"
    }
   ],
   "source": [
    "df.head(10)"
   ]
  },
  {
   "cell_type": "code",
   "execution_count": 11,
   "metadata": {
    "ExecuteTime": {
     "end_time": "2021-11-16T10:32:20.494928Z",
     "start_time": "2021-11-16T10:32:20.487728Z"
    }
   },
   "outputs": [
    {
     "data": {
      "text/plain": [
       "Target              int64\n",
       "Age                 int64\n",
       "Gender               int8\n",
       "Balance           float64\n",
       "Occupation           int8\n",
       "No_OF_CR_TXNS       int64\n",
       "AGE_BKT              int8\n",
       "SCR                 int64\n",
       "Holding_Period      int64\n",
       "dtype: object"
      ]
     },
     "execution_count": 11,
     "metadata": {},
     "output_type": "execute_result"
    }
   ],
   "source": [
    "df.dtypes"
   ]
  },
  {
   "cell_type": "markdown",
   "metadata": {},
   "source": [
    "We see that the data types of all the variables have been changed to either of $\\underline{int64}$,$\\underline{int8}$ or $\\underline{float64}$."
   ]
  },
  {
   "cell_type": "markdown",
   "metadata": {},
   "source": [
    "## Split the data into Train and Test."
   ]
  },
  {
   "cell_type": "markdown",
   "metadata": {},
   "source": [
    "Before building the model we should split the data into Train and Test. We will thus build a model on the training data and use this model to predict on the test data.\n",
    "\n",
    "We will be doing a 70:30 split.\n",
    "70% of the whole data will be used to train the data and then 30% of the data will be used for testing the model thus built.\n",
    "\n",
    "Before splitting the data, we shall make a copy of the data frame."
   ]
  },
  {
   "cell_type": "code",
   "execution_count": 12,
   "metadata": {
    "ExecuteTime": {
     "end_time": "2021-11-16T10:32:20.516250Z",
     "start_time": "2021-11-16T10:32:20.494928Z"
    }
   },
   "outputs": [
    {
     "data": {
      "text/html": [
       "<div>\n",
       "<style scoped>\n",
       "    .dataframe tbody tr th:only-of-type {\n",
       "        vertical-align: middle;\n",
       "    }\n",
       "\n",
       "    .dataframe tbody tr th {\n",
       "        vertical-align: top;\n",
       "    }\n",
       "\n",
       "    .dataframe thead th {\n",
       "        text-align: right;\n",
       "    }\n",
       "</style>\n",
       "<table border=\"1\" class=\"dataframe\">\n",
       "  <thead>\n",
       "    <tr style=\"text-align: right;\">\n",
       "      <th></th>\n",
       "      <th>Target</th>\n",
       "      <th>Age</th>\n",
       "      <th>Gender</th>\n",
       "      <th>Balance</th>\n",
       "      <th>Occupation</th>\n",
       "      <th>No_OF_CR_TXNS</th>\n",
       "      <th>AGE_BKT</th>\n",
       "      <th>SCR</th>\n",
       "      <th>Holding_Period</th>\n",
       "    </tr>\n",
       "  </thead>\n",
       "  <tbody>\n",
       "    <tr>\n",
       "      <th>0</th>\n",
       "      <td>0</td>\n",
       "      <td>41</td>\n",
       "      <td>1</td>\n",
       "      <td>91519.92</td>\n",
       "      <td>2</td>\n",
       "      <td>38</td>\n",
       "      <td>3</td>\n",
       "      <td>926</td>\n",
       "      <td>15</td>\n",
       "    </tr>\n",
       "    <tr>\n",
       "      <th>1</th>\n",
       "      <td>0</td>\n",
       "      <td>52</td>\n",
       "      <td>1</td>\n",
       "      <td>117288.96</td>\n",
       "      <td>1</td>\n",
       "      <td>17</td>\n",
       "      <td>6</td>\n",
       "      <td>768</td>\n",
       "      <td>13</td>\n",
       "    </tr>\n",
       "    <tr>\n",
       "      <th>2</th>\n",
       "      <td>0</td>\n",
       "      <td>31</td>\n",
       "      <td>0</td>\n",
       "      <td>259827.44</td>\n",
       "      <td>3</td>\n",
       "      <td>8</td>\n",
       "      <td>1</td>\n",
       "      <td>816</td>\n",
       "      <td>5</td>\n",
       "    </tr>\n",
       "    <tr>\n",
       "      <th>3</th>\n",
       "      <td>0</td>\n",
       "      <td>45</td>\n",
       "      <td>0</td>\n",
       "      <td>26677.55</td>\n",
       "      <td>0</td>\n",
       "      <td>14</td>\n",
       "      <td>3</td>\n",
       "      <td>353</td>\n",
       "      <td>18</td>\n",
       "    </tr>\n",
       "    <tr>\n",
       "      <th>4</th>\n",
       "      <td>0</td>\n",
       "      <td>39</td>\n",
       "      <td>0</td>\n",
       "      <td>43440.31</td>\n",
       "      <td>3</td>\n",
       "      <td>1</td>\n",
       "      <td>2</td>\n",
       "      <td>751</td>\n",
       "      <td>31</td>\n",
       "    </tr>\n",
       "  </tbody>\n",
       "</table>\n",
       "</div>"
      ],
      "text/plain": [
       "   Target  Age  Gender    Balance  Occupation  No_OF_CR_TXNS  AGE_BKT  SCR  \\\n",
       "0       0   41       1   91519.92           2             38        3  926   \n",
       "1       0   52       1  117288.96           1             17        6  768   \n",
       "2       0   31       0  259827.44           3              8        1  816   \n",
       "3       0   45       0   26677.55           0             14        3  353   \n",
       "4       0   39       0   43440.31           3              1        2  751   \n",
       "\n",
       "   Holding_Period  \n",
       "0              15  \n",
       "1              13  \n",
       "2               5  \n",
       "3              18  \n",
       "4              31  "
      ]
     },
     "execution_count": 12,
     "metadata": {},
     "output_type": "execute_result"
    }
   ],
   "source": [
    "data = df.copy()\n",
    "data.head()"
   ]
  },
  {
   "cell_type": "code",
   "execution_count": 13,
   "metadata": {
    "ExecuteTime": {
     "end_time": "2021-11-16T10:32:20.525494Z",
     "start_time": "2021-11-16T10:32:20.517465Z"
    }
   },
   "outputs": [],
   "source": [
    "# Let us define the X(predictor) and Y(target) variables\n",
    "\n",
    "X = df.drop(\"Target\" , axis=1)\n",
    "\n",
    "Y = df.pop(\"Target\")\n",
    "#we have made a copy of the data frame as the 'pop' function removes that particular variable from the data frame and stores \n",
    "# in another variable"
   ]
  },
  {
   "cell_type": "code",
   "execution_count": 14,
   "metadata": {
    "ExecuteTime": {
     "end_time": "2021-11-16T10:32:20.545838Z",
     "start_time": "2021-11-16T10:32:20.525494Z"
    }
   },
   "outputs": [
    {
     "data": {
      "text/html": [
       "<div>\n",
       "<style scoped>\n",
       "    .dataframe tbody tr th:only-of-type {\n",
       "        vertical-align: middle;\n",
       "    }\n",
       "\n",
       "    .dataframe tbody tr th {\n",
       "        vertical-align: top;\n",
       "    }\n",
       "\n",
       "    .dataframe thead th {\n",
       "        text-align: right;\n",
       "    }\n",
       "</style>\n",
       "<table border=\"1\" class=\"dataframe\">\n",
       "  <thead>\n",
       "    <tr style=\"text-align: right;\">\n",
       "      <th></th>\n",
       "      <th>Age</th>\n",
       "      <th>Gender</th>\n",
       "      <th>Balance</th>\n",
       "      <th>Occupation</th>\n",
       "      <th>No_OF_CR_TXNS</th>\n",
       "      <th>AGE_BKT</th>\n",
       "      <th>SCR</th>\n",
       "      <th>Holding_Period</th>\n",
       "    </tr>\n",
       "  </thead>\n",
       "  <tbody>\n",
       "    <tr>\n",
       "      <th>0</th>\n",
       "      <td>41</td>\n",
       "      <td>1</td>\n",
       "      <td>91519.92</td>\n",
       "      <td>2</td>\n",
       "      <td>38</td>\n",
       "      <td>3</td>\n",
       "      <td>926</td>\n",
       "      <td>15</td>\n",
       "    </tr>\n",
       "    <tr>\n",
       "      <th>1</th>\n",
       "      <td>52</td>\n",
       "      <td>1</td>\n",
       "      <td>117288.96</td>\n",
       "      <td>1</td>\n",
       "      <td>17</td>\n",
       "      <td>6</td>\n",
       "      <td>768</td>\n",
       "      <td>13</td>\n",
       "    </tr>\n",
       "    <tr>\n",
       "      <th>2</th>\n",
       "      <td>31</td>\n",
       "      <td>0</td>\n",
       "      <td>259827.44</td>\n",
       "      <td>3</td>\n",
       "      <td>8</td>\n",
       "      <td>1</td>\n",
       "      <td>816</td>\n",
       "      <td>5</td>\n",
       "    </tr>\n",
       "    <tr>\n",
       "      <th>3</th>\n",
       "      <td>45</td>\n",
       "      <td>0</td>\n",
       "      <td>26677.55</td>\n",
       "      <td>0</td>\n",
       "      <td>14</td>\n",
       "      <td>3</td>\n",
       "      <td>353</td>\n",
       "      <td>18</td>\n",
       "    </tr>\n",
       "    <tr>\n",
       "      <th>4</th>\n",
       "      <td>39</td>\n",
       "      <td>0</td>\n",
       "      <td>43440.31</td>\n",
       "      <td>3</td>\n",
       "      <td>1</td>\n",
       "      <td>2</td>\n",
       "      <td>751</td>\n",
       "      <td>31</td>\n",
       "    </tr>\n",
       "  </tbody>\n",
       "</table>\n",
       "</div>"
      ],
      "text/plain": [
       "   Age  Gender    Balance  Occupation  No_OF_CR_TXNS  AGE_BKT  SCR  \\\n",
       "0   41       1   91519.92           2             38        3  926   \n",
       "1   52       1  117288.96           1             17        6  768   \n",
       "2   31       0  259827.44           3              8        1  816   \n",
       "3   45       0   26677.55           0             14        3  353   \n",
       "4   39       0   43440.31           3              1        2  751   \n",
       "\n",
       "   Holding_Period  \n",
       "0              15  \n",
       "1              13  \n",
       "2               5  \n",
       "3              18  \n",
       "4              31  "
      ]
     },
     "execution_count": 14,
     "metadata": {},
     "output_type": "execute_result"
    }
   ],
   "source": [
    "df.head() #we see that the 'Target' variable is not present in the dataframe"
   ]
  },
  {
   "cell_type": "code",
   "execution_count": 15,
   "metadata": {
    "ExecuteTime": {
     "end_time": "2021-11-16T10:32:20.673624Z",
     "start_time": "2021-11-16T10:32:20.545838Z"
    }
   },
   "outputs": [],
   "source": [
    "from sklearn.model_selection import train_test_split\n",
    "\n",
    "X_train, X_test, Y_train, Y_test = train_test_split(X, Y, test_size=.30, random_state=1,stratify=Y)"
   ]
  },
  {
   "cell_type": "markdown",
   "metadata": {},
   "source": [
    "Here, we need to use the 'random_state' parameter to make sure that Python splits the data exactly the same when we run this particular function multiple times."
   ]
  },
  {
   "cell_type": "markdown",
   "metadata": {},
   "source": [
    "Now that we have split the data into Train and Test, let us go ahead and build our Artificial Neural Network Model on the training data."
   ]
  },
  {
   "cell_type": "markdown",
   "metadata": {},
   "source": [
    "# Building the Artificial Neural Network (ANN) Model"
   ]
  },
  {
   "cell_type": "markdown",
   "metadata": {},
   "source": [
    "Before building the ANN model, we will go ahead and scale the data. Scaling the predictor variables helps in converging of the values. For computationally heavy algorithms, we can scale the data. "
   ]
  },
  {
   "cell_type": "code",
   "execution_count": 16,
   "metadata": {
    "ExecuteTime": {
     "end_time": "2021-11-16T10:32:20.685822Z",
     "start_time": "2021-11-16T10:32:20.675276Z"
    }
   },
   "outputs": [],
   "source": [
    "from sklearn.preprocessing import StandardScaler"
   ]
  },
  {
   "cell_type": "markdown",
   "metadata": {},
   "source": [
    "Let us define an empty StandardScaler function before using it."
   ]
  },
  {
   "cell_type": "code",
   "execution_count": 17,
   "metadata": {
    "ExecuteTime": {
     "end_time": "2021-11-16T10:32:20.706982Z",
     "start_time": "2021-11-16T10:32:20.685822Z"
    }
   },
   "outputs": [],
   "source": [
    "ss = StandardScaler()"
   ]
  },
  {
   "cell_type": "markdown",
   "metadata": {},
   "source": [
    "First, we will scale the training data using the mean and standard deviation of the training data itself."
   ]
  },
  {
   "cell_type": "code",
   "execution_count": 18,
   "metadata": {
    "ExecuteTime": {
     "end_time": "2021-11-16T10:32:20.735435Z",
     "start_time": "2021-11-16T10:32:20.707863Z"
    }
   },
   "outputs": [
    {
     "data": {
      "text/html": [
       "<div>\n",
       "<style scoped>\n",
       "    .dataframe tbody tr th:only-of-type {\n",
       "        vertical-align: middle;\n",
       "    }\n",
       "\n",
       "    .dataframe tbody tr th {\n",
       "        vertical-align: top;\n",
       "    }\n",
       "\n",
       "    .dataframe thead th {\n",
       "        text-align: right;\n",
       "    }\n",
       "</style>\n",
       "<table border=\"1\" class=\"dataframe\">\n",
       "  <thead>\n",
       "    <tr style=\"text-align: right;\">\n",
       "      <th></th>\n",
       "      <th>Age</th>\n",
       "      <th>Gender</th>\n",
       "      <th>Balance</th>\n",
       "      <th>Occupation</th>\n",
       "      <th>No_OF_CR_TXNS</th>\n",
       "      <th>AGE_BKT</th>\n",
       "      <th>SCR</th>\n",
       "      <th>Holding_Period</th>\n",
       "    </tr>\n",
       "  </thead>\n",
       "  <tbody>\n",
       "    <tr>\n",
       "      <th>0</th>\n",
       "      <td>-0.878955</td>\n",
       "      <td>-1.573931</td>\n",
       "      <td>0.583960</td>\n",
       "      <td>1.368020</td>\n",
       "      <td>-0.592428</td>\n",
       "      <td>-1.355394</td>\n",
       "      <td>1.341530</td>\n",
       "      <td>-0.485478</td>\n",
       "    </tr>\n",
       "    <tr>\n",
       "      <th>1</th>\n",
       "      <td>-1.295046</td>\n",
       "      <td>0.578979</td>\n",
       "      <td>-0.615494</td>\n",
       "      <td>0.502302</td>\n",
       "      <td>-0.437939</td>\n",
       "      <td>-1.355394</td>\n",
       "      <td>0.042417</td>\n",
       "      <td>0.971068</td>\n",
       "    </tr>\n",
       "    <tr>\n",
       "      <th>2</th>\n",
       "      <td>1.513568</td>\n",
       "      <td>0.578979</td>\n",
       "      <td>-0.699362</td>\n",
       "      <td>-0.363416</td>\n",
       "      <td>1.184200</td>\n",
       "      <td>1.582220</td>\n",
       "      <td>-0.421278</td>\n",
       "      <td>1.643319</td>\n",
       "    </tr>\n",
       "    <tr>\n",
       "      <th>3</th>\n",
       "      <td>0.161272</td>\n",
       "      <td>-1.573931</td>\n",
       "      <td>-0.470360</td>\n",
       "      <td>1.368020</td>\n",
       "      <td>-0.283449</td>\n",
       "      <td>-0.376189</td>\n",
       "      <td>0.544434</td>\n",
       "      <td>-1.045688</td>\n",
       "    </tr>\n",
       "    <tr>\n",
       "      <th>4</th>\n",
       "      <td>1.721614</td>\n",
       "      <td>0.578979</td>\n",
       "      <td>1.253394</td>\n",
       "      <td>1.368020</td>\n",
       "      <td>-0.746918</td>\n",
       "      <td>1.582220</td>\n",
       "      <td>0.272348</td>\n",
       "      <td>-1.605897</td>\n",
       "    </tr>\n",
       "  </tbody>\n",
       "</table>\n",
       "</div>"
      ],
      "text/plain": [
       "        Age    Gender   Balance  Occupation  No_OF_CR_TXNS   AGE_BKT  \\\n",
       "0 -0.878955 -1.573931  0.583960    1.368020      -0.592428 -1.355394   \n",
       "1 -1.295046  0.578979 -0.615494    0.502302      -0.437939 -1.355394   \n",
       "2  1.513568  0.578979 -0.699362   -0.363416       1.184200  1.582220   \n",
       "3  0.161272 -1.573931 -0.470360    1.368020      -0.283449 -0.376189   \n",
       "4  1.721614  0.578979  1.253394    1.368020      -0.746918  1.582220   \n",
       "\n",
       "        SCR  Holding_Period  \n",
       "0  1.341530       -0.485478  \n",
       "1  0.042417        0.971068  \n",
       "2 -0.421278        1.643319  \n",
       "3  0.544434       -1.045688  \n",
       "4  0.272348       -1.605897  "
      ]
     },
     "execution_count": 18,
     "metadata": {},
     "output_type": "execute_result"
    }
   ],
   "source": [
    "X_train_scaled = pd.DataFrame(ss.fit_transform(X_train),columns=X_train.columns)\n",
    "X_train_scaled.head()"
   ]
  },
  {
   "cell_type": "markdown",
   "metadata": {},
   "source": [
    "Now that we have fitted and transformed the Standard Scaler function on the training data, we will only transform the test using the StandardScaler function. We will use the means and standard deviations of the variables of the training data to scale the test data. Remember, the test data is a data which we have not seen."
   ]
  },
  {
   "cell_type": "code",
   "execution_count": 19,
   "metadata": {
    "ExecuteTime": {
     "end_time": "2021-11-16T10:32:20.756844Z",
     "start_time": "2021-11-16T10:32:20.738105Z"
    }
   },
   "outputs": [
    {
     "data": {
      "text/html": [
       "<div>\n",
       "<style scoped>\n",
       "    .dataframe tbody tr th:only-of-type {\n",
       "        vertical-align: middle;\n",
       "    }\n",
       "\n",
       "    .dataframe tbody tr th {\n",
       "        vertical-align: top;\n",
       "    }\n",
       "\n",
       "    .dataframe thead th {\n",
       "        text-align: right;\n",
       "    }\n",
       "</style>\n",
       "<table border=\"1\" class=\"dataframe\">\n",
       "  <thead>\n",
       "    <tr style=\"text-align: right;\">\n",
       "      <th></th>\n",
       "      <th>Age</th>\n",
       "      <th>Gender</th>\n",
       "      <th>Balance</th>\n",
       "      <th>Occupation</th>\n",
       "      <th>No_OF_CR_TXNS</th>\n",
       "      <th>AGE_BKT</th>\n",
       "      <th>SCR</th>\n",
       "      <th>Holding_Period</th>\n",
       "    </tr>\n",
       "  </thead>\n",
       "  <tbody>\n",
       "    <tr>\n",
       "      <th>0</th>\n",
       "      <td>1.097477</td>\n",
       "      <td>0.578979</td>\n",
       "      <td>-0.849899</td>\n",
       "      <td>-0.363416</td>\n",
       "      <td>2.420115</td>\n",
       "      <td>0.603015</td>\n",
       "      <td>-1.406151</td>\n",
       "      <td>-1.157730</td>\n",
       "    </tr>\n",
       "    <tr>\n",
       "      <th>1</th>\n",
       "      <td>0.369318</td>\n",
       "      <td>0.578979</td>\n",
       "      <td>-0.761632</td>\n",
       "      <td>0.502302</td>\n",
       "      <td>0.025529</td>\n",
       "      <td>0.113413</td>\n",
       "      <td>-0.038059</td>\n",
       "      <td>1.643319</td>\n",
       "    </tr>\n",
       "    <tr>\n",
       "      <th>2</th>\n",
       "      <td>0.993454</td>\n",
       "      <td>0.578979</td>\n",
       "      <td>0.227068</td>\n",
       "      <td>-1.229134</td>\n",
       "      <td>-0.824162</td>\n",
       "      <td>0.603015</td>\n",
       "      <td>0.245523</td>\n",
       "      <td>-0.485478</td>\n",
       "    </tr>\n",
       "    <tr>\n",
       "      <th>3</th>\n",
       "      <td>1.721614</td>\n",
       "      <td>0.578979</td>\n",
       "      <td>1.417487</td>\n",
       "      <td>1.368020</td>\n",
       "      <td>-0.437939</td>\n",
       "      <td>1.582220</td>\n",
       "      <td>1.628944</td>\n",
       "      <td>1.531278</td>\n",
       "    </tr>\n",
       "    <tr>\n",
       "      <th>4</th>\n",
       "      <td>1.721614</td>\n",
       "      <td>0.578979</td>\n",
       "      <td>-0.795190</td>\n",
       "      <td>-0.363416</td>\n",
       "      <td>1.415934</td>\n",
       "      <td>1.582220</td>\n",
       "      <td>0.463958</td>\n",
       "      <td>1.307194</td>\n",
       "    </tr>\n",
       "  </tbody>\n",
       "</table>\n",
       "</div>"
      ],
      "text/plain": [
       "        Age    Gender   Balance  Occupation  No_OF_CR_TXNS   AGE_BKT  \\\n",
       "0  1.097477  0.578979 -0.849899   -0.363416       2.420115  0.603015   \n",
       "1  0.369318  0.578979 -0.761632    0.502302       0.025529  0.113413   \n",
       "2  0.993454  0.578979  0.227068   -1.229134      -0.824162  0.603015   \n",
       "3  1.721614  0.578979  1.417487    1.368020      -0.437939  1.582220   \n",
       "4  1.721614  0.578979 -0.795190   -0.363416       1.415934  1.582220   \n",
       "\n",
       "        SCR  Holding_Period  \n",
       "0 -1.406151       -1.157730  \n",
       "1 -0.038059        1.643319  \n",
       "2  0.245523       -0.485478  \n",
       "3  1.628944        1.531278  \n",
       "4  0.463958        1.307194  "
      ]
     },
     "execution_count": 19,
     "metadata": {},
     "output_type": "execute_result"
    }
   ],
   "source": [
    "X_test_scaled = pd.DataFrame(ss.transform(X_test),columns=X_test.columns)\n",
    "X_test_scaled.head()"
   ]
  },
  {
   "cell_type": "code",
   "execution_count": 20,
   "metadata": {
    "ExecuteTime": {
     "end_time": "2021-11-16T10:32:20.766971Z",
     "start_time": "2021-11-16T10:32:20.756971Z"
    }
   },
   "outputs": [],
   "source": [
    "from sklearn.neural_network import MLPClassifier"
   ]
  },
  {
   "cell_type": "code",
   "execution_count": 21,
   "metadata": {
    "ExecuteTime": {
     "end_time": "2021-11-16T10:32:20.776595Z",
     "start_time": "2021-11-16T10:32:20.767913Z"
    }
   },
   "outputs": [],
   "source": [
    "nncl = MLPClassifier(hidden_layer_sizes=100\n",
    "                     ,max_iter=500\n",
    "                     ,solver='sgd'\n",
    "                     ,activation='relu'\n",
    "                     ,random_state=1\n",
    "                     ,verbose=True\n",
    "                     ,tol=0.001)"
   ]
  },
  {
   "cell_type": "markdown",
   "metadata": {},
   "source": [
    "* In the above code snippet we have defined a ANN (which is to be used for classification problems) with one hidden layer with 100 neurons.\n",
    "\n",
    "* Here, we are restricting the iterations for this model to be limited to 5000. \n",
    "\n",
    "* The solver which we are going to use here will be the Stochastic Gradient Descent (sgd) and the activation function is given as REctified Linear Unit (RELU).\n",
    "\n",
    "* The random_state parameter has been passed so as to make sure that we get the same values every time and setting the Verbose parameter to True will give us a visual output to how the model is trying to converge to get the optimum output.\n",
    "\n",
    "* The 'tol' parameter ensures that the model converges if the model score does not increase by the value of the 'tol' parameter.\n",
    "\n",
    "To understand about the various other parameters that can be passed into this MLPClassifier function please refer to the scikitlearn documentation over $\\href{https://scikit-learn.org/stable/modules/generated/sklearn.neural_network.MLPClassifier.html}{here}$.\n",
    "\n",
    "Note: We can also try tweaking the different parameters in this particular MLPClassifier function and check."
   ]
  },
  {
   "cell_type": "markdown",
   "metadata": {},
   "source": [
    "Let us now go ahead and build the ANN model on the training data with the parameters specified."
   ]
  },
  {
   "cell_type": "code",
   "execution_count": 22,
   "metadata": {
    "ExecuteTime": {
     "end_time": "2021-11-16T10:32:22.516279Z",
     "start_time": "2021-11-16T10:32:20.777615Z"
    },
    "scrolled": false
   },
   "outputs": [
    {
     "name": "stdout",
     "output_type": "stream",
     "text": [
      "Iteration 1, loss = 0.47098949\n",
      "Iteration 2, loss = 0.35326125\n",
      "Iteration 3, loss = 0.31596040\n",
      "Iteration 4, loss = 0.30018954\n",
      "Iteration 5, loss = 0.29192863\n",
      "Iteration 6, loss = 0.28679010\n",
      "Iteration 7, loss = 0.28320682\n",
      "Iteration 8, loss = 0.28044918\n",
      "Iteration 9, loss = 0.27822080\n",
      "Iteration 10, loss = 0.27635374\n",
      "Iteration 11, loss = 0.27474508\n",
      "Iteration 12, loss = 0.27336750\n",
      "Iteration 13, loss = 0.27214747\n",
      "Iteration 14, loss = 0.27107619\n",
      "Iteration 15, loss = 0.27012977\n",
      "Iteration 16, loss = 0.26928382\n",
      "Iteration 17, loss = 0.26852695\n",
      "Iteration 18, loss = 0.26785620\n",
      "Iteration 19, loss = 0.26724275\n",
      "Iteration 20, loss = 0.26669276\n",
      "Iteration 21, loss = 0.26620003\n",
      "Iteration 22, loss = 0.26574724\n",
      "Iteration 23, loss = 0.26534091\n",
      "Iteration 24, loss = 0.26496080\n",
      "Iteration 25, loss = 0.26462454\n",
      "Training loss did not improve more than tol=0.001000 for 10 consecutive epochs. Stopping.\n"
     ]
    },
    {
     "data": {
      "text/plain": [
       "MLPClassifier(hidden_layer_sizes=100, max_iter=500, random_state=1,\n",
       "              solver='sgd', tol=0.001, verbose=True)"
      ]
     },
     "execution_count": 22,
     "metadata": {},
     "output_type": "execute_result"
    }
   ],
   "source": [
    "nncl.fit(X_train_scaled,Y_train)"
   ]
  },
  {
   "cell_type": "markdown",
   "metadata": {},
   "source": [
    "We see that our ANN model has converged at the $25^{th}$ iteration with the values mentioned by us. \n",
    "\n",
    "Let us now check the accuracy of the model on both the training and test data before we go ahead and try other parameters using the GridSearchCV function present in Python."
   ]
  },
  {
   "cell_type": "code",
   "execution_count": 23,
   "metadata": {
    "ExecuteTime": {
     "end_time": "2021-11-16T10:32:22.565590Z",
     "start_time": "2021-11-16T10:32:22.517815Z"
    }
   },
   "outputs": [
    {
     "data": {
      "text/plain": [
       "0.9133571428571429"
      ]
     },
     "execution_count": 23,
     "metadata": {},
     "output_type": "execute_result"
    }
   ],
   "source": [
    "# Checking the accuracy on the training data\n",
    "\n",
    "nncl.score(X_train_scaled,Y_train)"
   ]
  },
  {
   "cell_type": "code",
   "execution_count": 24,
   "metadata": {
    "ExecuteTime": {
     "end_time": "2021-11-16T10:32:22.605509Z",
     "start_time": "2021-11-16T10:32:22.567091Z"
    }
   },
   "outputs": [
    {
     "data": {
      "text/plain": [
       "0.9133333333333333"
      ]
     },
     "execution_count": 24,
     "metadata": {},
     "output_type": "execute_result"
    }
   ],
   "source": [
    "#Checking the accuracy on the test data\n",
    "\n",
    "nncl.score(X_test_scaled,Y_test)"
   ]
  },
  {
   "cell_type": "markdown",
   "metadata": {},
   "source": [
    "We see that the training and test data gives comparable results but the training data gives slightly better results than the test data."
   ]
  },
  {
   "cell_type": "markdown",
   "metadata": {
    "ExecuteTime": {
     "end_time": "2020-04-29T09:38:15.472472Z",
     "start_time": "2020-04-29T09:38:15.464143Z"
    }
   },
   "source": [
    "Let us try to tweak the different parameters of the MLPClassifier function by using the GridSearhCV function. This particular function will give us the best model based on a combination of parameters specified by us."
   ]
  },
  {
   "cell_type": "code",
   "execution_count": 25,
   "metadata": {
    "ExecuteTime": {
     "end_time": "2021-11-16T10:32:22.615947Z",
     "start_time": "2021-11-16T10:32:22.607009Z"
    }
   },
   "outputs": [],
   "source": [
    "# from sklearn.model_selection import GridSearchCV, LeaveOneOut"
   ]
  },
  {
   "cell_type": "markdown",
   "metadata": {},
   "source": [
    "Let us now go ahead and specify the different parameters that we want our ANN model to try before giving us the most optimized values of the parameters."
   ]
  },
  {
   "cell_type": "code",
   "execution_count": 26,
   "metadata": {
    "ExecuteTime": {
     "end_time": "2021-11-16T10:32:22.625696Z",
     "start_time": "2021-11-16T10:32:22.616962Z"
    }
   },
   "outputs": [],
   "source": [
    "# param_grid = {\n",
    "#     'hidden_layer_sizes': [10,100,1000],\n",
    "#     'activation': ['logistic', 'tanh', 'relu'],\n",
    "#     'learning_rate': ['adaptive','constant'],\n",
    "#     'tol': [0.01,0.001,0.0001]\n",
    "# }"
   ]
  },
  {
   "cell_type": "markdown",
   "metadata": {},
   "source": [
    "Now that we have defined a dictionary in Python with all these parameters, it is time to use these parameters to build the model and check for the best set of parameters. The above dictionary makes sure that all the different combinations of values are used to build several ANN models.\n",
    "\n",
    "Note: You can go ahead and choose different set of values for the parameters and continue tweaking the model."
   ]
  },
  {
   "cell_type": "markdown",
   "metadata": {},
   "source": [
    "Now, we will define an empty MLPClassifier. This help us to pass the GridSearchCV parameters using the above defined dictionary."
   ]
  },
  {
   "cell_type": "code",
   "execution_count": 27,
   "metadata": {
    "ExecuteTime": {
     "end_time": "2021-11-16T10:32:22.635210Z",
     "start_time": "2021-11-16T10:32:22.627196Z"
    }
   },
   "outputs": [],
   "source": [
    "# nncl = MLPClassifier(random_state=1,max_iter=5000,solver='sgd')"
   ]
  },
  {
   "cell_type": "markdown",
   "metadata": {},
   "source": [
    "We have defined the values of the random_state,max_iter and solver parameters while defining the function because we would want to keep these values constant throughout the different combinations of the other values of parameters."
   ]
  },
  {
   "cell_type": "code",
   "execution_count": 28,
   "metadata": {
    "ExecuteTime": {
     "end_time": "2021-11-16T10:32:22.651381Z",
     "start_time": "2021-11-16T10:32:22.635210Z"
    }
   },
   "outputs": [],
   "source": [
    "# grid_search = GridSearchCV(estimator = nncl, param_grid = param_grid, cv = LeaveOneOut(),n_jobs=-1)"
   ]
  },
  {
   "cell_type": "code",
   "execution_count": 29,
   "metadata": {
    "ExecuteTime": {
     "end_time": "2021-11-16T10:32:22.661312Z",
     "start_time": "2021-11-16T10:32:22.651880Z"
    }
   },
   "outputs": [],
   "source": [
    "# grid_search.fit(X_train, Y_train)"
   ]
  },
  {
   "cell_type": "code",
   "execution_count": 30,
   "metadata": {
    "ExecuteTime": {
     "end_time": "2021-11-16T10:32:22.675756Z",
     "start_time": "2021-11-16T10:32:22.661312Z"
    }
   },
   "outputs": [],
   "source": [
    "# grid_search.best_params_"
   ]
  },
  {
   "cell_type": "markdown",
   "metadata": {},
   "source": [
    "Now we need to get the best model which uses these particular parameters."
   ]
  },
  {
   "cell_type": "code",
   "execution_count": 31,
   "metadata": {
    "ExecuteTime": {
     "end_time": "2021-11-16T10:32:22.691804Z",
     "start_time": "2021-11-16T10:32:22.675756Z"
    }
   },
   "outputs": [],
   "source": [
    "# grid_search.best_estimator_"
   ]
  },
  {
   "cell_type": "markdown",
   "metadata": {},
   "source": [
    "Let us now store the best estimated model in a variable so that we can call that model easily."
   ]
  },
  {
   "cell_type": "code",
   "execution_count": 32,
   "metadata": {
    "ExecuteTime": {
     "end_time": "2021-11-16T10:32:22.705807Z",
     "start_time": "2021-11-16T10:32:22.691883Z"
    }
   },
   "outputs": [],
   "source": [
    "# best_model = grid_search.best_estimator_"
   ]
  },
  {
   "cell_type": "markdown",
   "metadata": {},
   "source": [
    "Now that we have the best model, let us go ahead and use this model to predict on the Training Data as well as on the Test Data."
   ]
  },
  {
   "cell_type": "code",
   "execution_count": 33,
   "metadata": {
    "ExecuteTime": {
     "end_time": "2021-11-16T10:32:22.715311Z",
     "start_time": "2021-11-16T10:32:22.707306Z"
    }
   },
   "outputs": [],
   "source": [
    "# #This code snippet is for predicting the classes.\n",
    "\n",
    "# y_train_predict = best_model.predict(X_train_scaled)\n",
    "# y_test_predict = best_model.predict(X_test_scaled)"
   ]
  },
  {
   "cell_type": "markdown",
   "metadata": {},
   "source": [
    "We can also go ahead and predict the probabilities as well. This is useful when we want to fix the value of the cut-off point ourselves to specify the classes. Python takes the default cut-off point as 0.5."
   ]
  },
  {
   "cell_type": "code",
   "execution_count": 34,
   "metadata": {
    "ExecuteTime": {
     "end_time": "2021-11-16T10:32:22.735754Z",
     "start_time": "2021-11-16T10:32:22.715311Z"
    }
   },
   "outputs": [],
   "source": [
    "# #This code snippet is for predicting the probabilites\n",
    "\n",
    "# y_train_predict_prob = best_model.predict_proba(X_train_scaled)\n",
    "# y_test_predict_prob = best_model.predict_proba(X_test_scaled)"
   ]
  },
  {
   "cell_type": "markdown",
   "metadata": {},
   "source": [
    "# Model Evaluation"
   ]
  },
  {
   "cell_type": "markdown",
   "metadata": {},
   "source": [
    "We will now go ahead and evaluate the Random Forest model."
   ]
  },
  {
   "cell_type": "markdown",
   "metadata": {},
   "source": [
    "Let us first evaluate on the training data."
   ]
  },
  {
   "cell_type": "code",
   "execution_count": 35,
   "metadata": {
    "ExecuteTime": {
     "end_time": "2021-11-16T10:32:22.755366Z",
     "start_time": "2021-11-16T10:32:22.738984Z"
    }
   },
   "outputs": [],
   "source": [
    "from sklearn import metrics"
   ]
  },
  {
   "cell_type": "markdown",
   "metadata": {},
   "source": [
    "We will start by checking the confusion matrix and then the classification report as well."
   ]
  },
  {
   "cell_type": "code",
   "execution_count": 36,
   "metadata": {
    "ExecuteTime": {
     "end_time": "2021-11-16T10:32:22.786362Z",
     "start_time": "2021-11-16T10:32:22.757131Z"
    }
   },
   "outputs": [
    {
     "name": "stdout",
     "output_type": "stream",
     "text": [
      "[[5480    0]\n",
      " [ 520    0]]\n"
     ]
    }
   ],
   "source": [
    "print(metrics.confusion_matrix(y_true=Y_test,y_pred=nncl.predict(X_test)))"
   ]
  },
  {
   "cell_type": "code",
   "execution_count": 37,
   "metadata": {
    "ExecuteTime": {
     "end_time": "2021-11-16T10:32:22.981854Z",
     "start_time": "2021-11-16T10:32:22.788496Z"
    }
   },
   "outputs": [
    {
     "data": {
      "image/png": "[encoded data removed]",
      "text/plain": [
       "<Figure size 432x288 with 2 Axes>"
      ]
     },
     "metadata": {
      "needs_background": "light"
     },
     "output_type": "display_data"
    }
   ],
   "source": [
    "sns.heatmap((metrics.confusion_matrix(y_true=Y_test,y_pred=nncl.predict(X_test))),annot=True,fmt='.5g'\n",
    "            ,cmap='Greys');"
   ]
  },
  {
   "cell_type": "code",
   "execution_count": 38,
   "metadata": {
    "ExecuteTime": {
     "end_time": "2021-11-16T10:32:23.013914Z",
     "start_time": "2021-11-16T10:32:22.981854Z"
    }
   },
   "outputs": [
    {
     "name": "stdout",
     "output_type": "stream",
     "text": [
      "True Negative: 5480 \n",
      "False Positives: 0 \n",
      "False Negatives: 520 \n",
      "True Positives: 0\n"
     ]
    }
   ],
   "source": [
    "tn, fp, fn, tp = metrics.confusion_matrix(y_true=Y_test,y_pred=nncl.predict(X_test)).ravel()\n",
    "print('True Negative:',tn,'\\n''False Positives:' ,fp,'\\n''False Negatives:', fn,'\\n''True Positives:', tp)"
   ]
  },
  {
   "cell_type": "code",
   "execution_count": 39,
   "metadata": {
    "ExecuteTime": {
     "end_time": "2021-11-16T10:32:23.073374Z",
     "start_time": "2021-11-16T10:32:23.015415Z"
    }
   },
   "outputs": [
    {
     "name": "stdout",
     "output_type": "stream",
     "text": [
      "              precision    recall  f1-score   support\n",
      "\n",
      "           0       0.91      1.00      0.95      5480\n",
      "           1       0.00      0.00      0.00       520\n",
      "\n",
      "    accuracy                           0.91      6000\n",
      "   macro avg       0.46      0.50      0.48      6000\n",
      "weighted avg       0.83      0.91      0.87      6000\n",
      "\n"
     ]
    },
    {
     "name": "stderr",
     "output_type": "stream",
     "text": [
      "E:\\Anaconda\\lib\\site-packages\\sklearn\\metrics\\_classification.py:1221: UndefinedMetricWarning: Precision and F-score are ill-defined and being set to 0.0 in labels with no predicted samples. Use `zero_division` parameter to control this behavior.\n",
      "  _warn_prf(average, modifier, msg_start, len(result))\n"
     ]
    }
   ],
   "source": [
    "print(metrics.classification_report(y_true=Y_test,y_pred=nncl.predict(X_test)))"
   ]
  },
  {
   "cell_type": "markdown",
   "metadata": {},
   "source": [
    "# END"
   ]
  },
  {
   "cell_type": "code",
   "execution_count": null,
   "metadata": {
    "ExecuteTime": {
     "start_time": "2021-11-18T13:37:03.277Z"
    }
   },
   "outputs": [],
   "source": [
    "import tensorflow as tf"
   ]
  },
  {
   "cell_type": "code",
   "execution_count": null,
   "metadata": {
    "ExecuteTime": {
     "start_time": "2021-11-18T13:37:14.724Z"
    }
   },
   "outputs": [],
   "source": [
    "from tf import keras"
   ]
  },
  {
   "cell_type": "code",
   "execution_count": null,
   "metadata": {},
   "outputs": [],
   "source": []
  },
  {
   "cell_type": "code",
   "execution_count": null,
   "metadata": {},
   "outputs": [],
   "source": []
  }
 ],
 "metadata": {
  "kernelspec": {
   "display_name": "Python 3 (ipykernel)",
   "language": "python",
   "name": "python3"
  },
  "language_info": {
   "codemirror_mode": {
    "name": "ipython",
    "version": 3
   },
   "file_extension": ".py",
   "mimetype": "text/x-python",
   "name": "python",
   "nbconvert_exporter": "python",
   "pygments_lexer": "ipython3",
   "version": "3.8.12"
  },
  "toc": {
   "base_numbering": 1,
   "nav_menu": {},
   "number_sections": true,
   "sideBar": true,
   "skip_h1_title": false,
   "title_cell": "Table of Contents",
   "title_sidebar": "Contents",
   "toc_cell": false,
   "toc_position": {},
   "toc_section_display": true,
   "toc_window_display": false
  },
  "varInspector": {
   "cols": {
    "lenName": 16,
    "lenType": 16,
    "lenVar": 40
   },
   "kernels_config": {
    "python": {
     "delete_cmd_postfix": "",
     "delete_cmd_prefix": "del ",
     "library": "var_list.py",
     "varRefreshCmd": "print(var_dic_list())"
    },
    "r": {
     "delete_cmd_postfix": ") ",
     "delete_cmd_prefix": "rm(",
     "library": "var_list.r",
     "varRefreshCmd": "cat(var_dic_list()) "
    }
   },
   "types_to_exclude": [
    "module",
    "function",
    "builtin_function_or_method",
    "instance",
    "_Feature"
   ],
   "window_display": false
  }
 },
 "nbformat": 4,
 "nbformat_minor": 2
}
