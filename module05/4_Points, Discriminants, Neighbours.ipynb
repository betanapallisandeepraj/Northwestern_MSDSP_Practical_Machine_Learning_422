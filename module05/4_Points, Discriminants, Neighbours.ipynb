{
 "cells": [
  {
   "cell_type": "markdown",
   "metadata": {},
   "source": [
    "## Required Libraries"
   ]
  },
  {
   "cell_type": "code",
   "execution_count": 1,
   "metadata": {
    "ExecuteTime": {
     "end_time": "2021-10-21T13:47:12.619017Z",
     "start_time": "2021-10-21T13:47:07.136764Z"
    }
   },
   "outputs": [],
   "source": [
    "# Pandas and Numpy libraries\n",
    "import pandas as pd\n",
    "import numpy as np\n",
    "# For preprocessing the data\n",
    "from sklearn import preprocessing\n",
    "# To split the dataset into train and test datasets\n",
    "from sklearn.model_selection import train_test_split\n",
    "# To model the Gaussian Navie Bayes classifier\n",
    "from sklearn.naive_bayes import GaussianNB\n",
    "# To calculate the accuracy score of the model\n",
    "from sklearn import metrics\n",
    "import seaborn as sns\n",
    "import matplotlib.pyplot as plt\n",
    "from scipy.stats import zscore"
   ]
  },
  {
   "cell_type": "markdown",
   "metadata": {},
   "source": [
    "## Importing data"
   ]
  },
  {
   "cell_type": "code",
   "execution_count": 2,
   "metadata": {
    "ExecuteTime": {
     "end_time": "2021-10-21T13:47:12.649072Z",
     "start_time": "2021-10-21T13:47:12.620607Z"
    }
   },
   "outputs": [],
   "source": [
    "df=pd.read_csv(\"Program_Choice.csv\",index_col=0)"
   ]
  },
  {
   "cell_type": "code",
   "execution_count": 3,
   "metadata": {
    "ExecuteTime": {
     "end_time": "2021-10-21T13:47:12.679482Z",
     "start_time": "2021-10-21T13:47:12.651074Z"
    },
    "scrolled": true
   },
   "outputs": [
    {
     "data": {
      "text/html": [
       "<div>\n",
       "<style scoped>\n",
       "    .dataframe tbody tr th:only-of-type {\n",
       "        vertical-align: middle;\n",
       "    }\n",
       "\n",
       "    .dataframe tbody tr th {\n",
       "        vertical-align: top;\n",
       "    }\n",
       "\n",
       "    .dataframe thead th {\n",
       "        text-align: right;\n",
       "    }\n",
       "</style>\n",
       "<table border=\"1\" class=\"dataframe\">\n",
       "  <thead>\n",
       "    <tr style=\"text-align: right;\">\n",
       "      <th></th>\n",
       "      <th>id</th>\n",
       "      <th>female</th>\n",
       "      <th>ses</th>\n",
       "      <th>schtyp</th>\n",
       "      <th>prog</th>\n",
       "      <th>read</th>\n",
       "      <th>write</th>\n",
       "      <th>math</th>\n",
       "      <th>science</th>\n",
       "      <th>socst</th>\n",
       "      <th>honors</th>\n",
       "      <th>awards</th>\n",
       "    </tr>\n",
       "  </thead>\n",
       "  <tbody>\n",
       "    <tr>\n",
       "      <th>0</th>\n",
       "      <td>45</td>\n",
       "      <td>female</td>\n",
       "      <td>low</td>\n",
       "      <td>public</td>\n",
       "      <td>vocation</td>\n",
       "      <td>34</td>\n",
       "      <td>35</td>\n",
       "      <td>41</td>\n",
       "      <td>29</td>\n",
       "      <td>26</td>\n",
       "      <td>not enrolled</td>\n",
       "      <td>0</td>\n",
       "    </tr>\n",
       "    <tr>\n",
       "      <th>1</th>\n",
       "      <td>108</td>\n",
       "      <td>male</td>\n",
       "      <td>middle</td>\n",
       "      <td>public</td>\n",
       "      <td>vocation</td>\n",
       "      <td>34</td>\n",
       "      <td>33</td>\n",
       "      <td>41</td>\n",
       "      <td>36</td>\n",
       "      <td>36</td>\n",
       "      <td>not enrolled</td>\n",
       "      <td>0</td>\n",
       "    </tr>\n",
       "    <tr>\n",
       "      <th>2</th>\n",
       "      <td>15</td>\n",
       "      <td>male</td>\n",
       "      <td>high</td>\n",
       "      <td>public</td>\n",
       "      <td>vocation</td>\n",
       "      <td>39</td>\n",
       "      <td>39</td>\n",
       "      <td>44</td>\n",
       "      <td>26</td>\n",
       "      <td>42</td>\n",
       "      <td>not enrolled</td>\n",
       "      <td>0</td>\n",
       "    </tr>\n",
       "    <tr>\n",
       "      <th>3</th>\n",
       "      <td>67</td>\n",
       "      <td>male</td>\n",
       "      <td>low</td>\n",
       "      <td>public</td>\n",
       "      <td>vocation</td>\n",
       "      <td>37</td>\n",
       "      <td>37</td>\n",
       "      <td>42</td>\n",
       "      <td>33</td>\n",
       "      <td>32</td>\n",
       "      <td>not enrolled</td>\n",
       "      <td>0</td>\n",
       "    </tr>\n",
       "    <tr>\n",
       "      <th>4</th>\n",
       "      <td>153</td>\n",
       "      <td>male</td>\n",
       "      <td>middle</td>\n",
       "      <td>public</td>\n",
       "      <td>vocation</td>\n",
       "      <td>39</td>\n",
       "      <td>31</td>\n",
       "      <td>40</td>\n",
       "      <td>39</td>\n",
       "      <td>51</td>\n",
       "      <td>not enrolled</td>\n",
       "      <td>0</td>\n",
       "    </tr>\n",
       "  </tbody>\n",
       "</table>\n",
       "</div>"
      ],
      "text/plain": [
       "    id  female     ses  schtyp      prog  read  write  math  science  socst  \\\n",
       "0   45  female     low  public  vocation    34     35    41       29     26   \n",
       "1  108    male  middle  public  vocation    34     33    41       36     36   \n",
       "2   15    male    high  public  vocation    39     39    44       26     42   \n",
       "3   67    male     low  public  vocation    37     37    42       33     32   \n",
       "4  153    male  middle  public  vocation    39     31    40       39     51   \n",
       "\n",
       "         honors  awards  \n",
       "0  not enrolled       0  \n",
       "1  not enrolled       0  \n",
       "2  not enrolled       0  \n",
       "3  not enrolled       0  \n",
       "4  not enrolled       0  "
      ]
     },
     "execution_count": 3,
     "metadata": {},
     "output_type": "execute_result"
    }
   ],
   "source": [
    "df.head()"
   ]
  },
  {
   "cell_type": "markdown",
   "metadata": {},
   "source": [
    "## EDA"
   ]
  },
  {
   "cell_type": "markdown",
   "metadata": {},
   "source": [
    "**Shape**"
   ]
  },
  {
   "cell_type": "code",
   "execution_count": 4,
   "metadata": {
    "ExecuteTime": {
     "end_time": "2021-10-21T13:47:12.695260Z",
     "start_time": "2021-10-21T13:47:12.680504Z"
    }
   },
   "outputs": [
    {
     "name": "stdout",
     "output_type": "stream",
     "text": [
      "no. of rows:  200 \n",
      "no. of columns:  12\n"
     ]
    }
   ],
   "source": [
    "# Shape of the dataframe\n",
    "print(\"no. of rows: \",df.shape[0], \"\\n\"\"no. of columns: \",df.shape[1])"
   ]
  },
  {
   "cell_type": "markdown",
   "metadata": {},
   "source": [
    "**Data type of data features**"
   ]
  },
  {
   "cell_type": "code",
   "execution_count": 5,
   "metadata": {
    "ExecuteTime": {
     "end_time": "2021-10-21T13:47:12.726037Z",
     "start_time": "2021-10-21T13:47:12.698261Z"
    }
   },
   "outputs": [
    {
     "name": "stdout",
     "output_type": "stream",
     "text": [
      "<class 'pandas.core.frame.DataFrame'>\n",
      "Int64Index: 200 entries, 0 to 199\n",
      "Data columns (total 12 columns):\n",
      " #   Column   Non-Null Count  Dtype \n",
      "---  ------   --------------  ----- \n",
      " 0   id       200 non-null    int64 \n",
      " 1   female   200 non-null    object\n",
      " 2   ses      200 non-null    object\n",
      " 3   schtyp   200 non-null    object\n",
      " 4   prog     200 non-null    object\n",
      " 5   read     200 non-null    int64 \n",
      " 6   write    200 non-null    int64 \n",
      " 7   math     200 non-null    int64 \n",
      " 8   science  200 non-null    int64 \n",
      " 9   socst    200 non-null    int64 \n",
      " 10  honors   200 non-null    object\n",
      " 11  awards   200 non-null    int64 \n",
      "dtypes: int64(7), object(5)\n",
      "memory usage: 20.3+ KB\n"
     ]
    }
   ],
   "source": [
    "df.info()"
   ]
  },
  {
   "cell_type": "markdown",
   "metadata": {},
   "source": [
    "**Null value Check**"
   ]
  },
  {
   "cell_type": "code",
   "execution_count": 6,
   "metadata": {
    "ExecuteTime": {
     "end_time": "2021-10-21T13:47:12.741267Z",
     "start_time": "2021-10-21T13:47:12.730342Z"
    }
   },
   "outputs": [
    {
     "data": {
      "text/plain": [
       "id         0\n",
       "female     0\n",
       "ses        0\n",
       "schtyp     0\n",
       "prog       0\n",
       "read       0\n",
       "write      0\n",
       "math       0\n",
       "science    0\n",
       "socst      0\n",
       "honors     0\n",
       "awards     0\n",
       "dtype: int64"
      ]
     },
     "execution_count": 6,
     "metadata": {},
     "output_type": "execute_result"
    }
   ],
   "source": [
    "# Handling missing data\n",
    "# Test whether there is any null value in our dataset or not. We can do this using isnull() method.\n",
    "df.isnull().sum()"
   ]
  },
  {
   "cell_type": "markdown",
   "metadata": {},
   "source": [
    "Droping \"id\" as it is insignificant"
   ]
  },
  {
   "cell_type": "code",
   "execution_count": 7,
   "metadata": {
    "ExecuteTime": {
     "end_time": "2021-10-21T13:47:12.757008Z",
     "start_time": "2021-10-21T13:47:12.744998Z"
    }
   },
   "outputs": [],
   "source": [
    "df.drop(\"id\",axis=1,inplace =True)"
   ]
  },
  {
   "cell_type": "markdown",
   "metadata": {},
   "source": [
    "**Making different list for categorical columns and numerical columns**\n"
   ]
  },
  {
   "cell_type": "code",
   "execution_count": 8,
   "metadata": {
    "ExecuteTime": {
     "end_time": "2021-10-21T13:47:12.772044Z",
     "start_time": "2021-10-21T13:47:12.758998Z"
    }
   },
   "outputs": [
    {
     "name": "stdout",
     "output_type": "stream",
     "text": [
      "['female', 'ses', 'schtyp', 'prog', 'honors']\n",
      "['read', 'write', 'math', 'science', 'socst', 'awards']\n"
     ]
    }
   ],
   "source": [
    "cat=[]\n",
    "num=[]\n",
    "for i in df.columns:\n",
    "    if df[i].dtype==\"object\":\n",
    "        cat.append(i)\n",
    "    else:\n",
    "        num.append(i)\n",
    "print(cat) \n",
    "print(num)\n",
    "\n",
    "    "
   ]
  },
  {
   "cell_type": "markdown",
   "metadata": {},
   "source": [
    "#### Describe for numerical and categorical columns\n"
   ]
  },
  {
   "cell_type": "code",
   "execution_count": 9,
   "metadata": {
    "ExecuteTime": {
     "end_time": "2021-10-21T13:47:12.802625Z",
     "start_time": "2021-10-21T13:47:12.772997Z"
    }
   },
   "outputs": [
    {
     "data": {
      "text/html": [
       "<div>\n",
       "<style scoped>\n",
       "    .dataframe tbody tr th:only-of-type {\n",
       "        vertical-align: middle;\n",
       "    }\n",
       "\n",
       "    .dataframe tbody tr th {\n",
       "        vertical-align: top;\n",
       "    }\n",
       "\n",
       "    .dataframe thead th {\n",
       "        text-align: right;\n",
       "    }\n",
       "</style>\n",
       "<table border=\"1\" class=\"dataframe\">\n",
       "  <thead>\n",
       "    <tr style=\"text-align: right;\">\n",
       "      <th></th>\n",
       "      <th>count</th>\n",
       "      <th>mean</th>\n",
       "      <th>std</th>\n",
       "      <th>min</th>\n",
       "      <th>25%</th>\n",
       "      <th>50%</th>\n",
       "      <th>75%</th>\n",
       "      <th>max</th>\n",
       "    </tr>\n",
       "  </thead>\n",
       "  <tbody>\n",
       "    <tr>\n",
       "      <th>read</th>\n",
       "      <td>200.0</td>\n",
       "      <td>52.230</td>\n",
       "      <td>10.252937</td>\n",
       "      <td>28.0</td>\n",
       "      <td>44.00</td>\n",
       "      <td>50.0</td>\n",
       "      <td>60.0</td>\n",
       "      <td>76.0</td>\n",
       "    </tr>\n",
       "    <tr>\n",
       "      <th>write</th>\n",
       "      <td>200.0</td>\n",
       "      <td>52.775</td>\n",
       "      <td>9.478586</td>\n",
       "      <td>31.0</td>\n",
       "      <td>45.75</td>\n",
       "      <td>54.0</td>\n",
       "      <td>60.0</td>\n",
       "      <td>67.0</td>\n",
       "    </tr>\n",
       "    <tr>\n",
       "      <th>math</th>\n",
       "      <td>200.0</td>\n",
       "      <td>52.645</td>\n",
       "      <td>9.368448</td>\n",
       "      <td>33.0</td>\n",
       "      <td>45.00</td>\n",
       "      <td>52.0</td>\n",
       "      <td>59.0</td>\n",
       "      <td>75.0</td>\n",
       "    </tr>\n",
       "    <tr>\n",
       "      <th>science</th>\n",
       "      <td>200.0</td>\n",
       "      <td>51.850</td>\n",
       "      <td>9.900891</td>\n",
       "      <td>26.0</td>\n",
       "      <td>44.00</td>\n",
       "      <td>53.0</td>\n",
       "      <td>58.0</td>\n",
       "      <td>74.0</td>\n",
       "    </tr>\n",
       "    <tr>\n",
       "      <th>socst</th>\n",
       "      <td>200.0</td>\n",
       "      <td>52.405</td>\n",
       "      <td>10.735793</td>\n",
       "      <td>26.0</td>\n",
       "      <td>46.00</td>\n",
       "      <td>52.0</td>\n",
       "      <td>61.0</td>\n",
       "      <td>71.0</td>\n",
       "    </tr>\n",
       "    <tr>\n",
       "      <th>awards</th>\n",
       "      <td>200.0</td>\n",
       "      <td>1.670</td>\n",
       "      <td>1.818691</td>\n",
       "      <td>0.0</td>\n",
       "      <td>0.00</td>\n",
       "      <td>1.0</td>\n",
       "      <td>2.0</td>\n",
       "      <td>7.0</td>\n",
       "    </tr>\n",
       "  </tbody>\n",
       "</table>\n",
       "</div>"
      ],
      "text/plain": [
       "         count    mean        std   min    25%   50%   75%   max\n",
       "read     200.0  52.230  10.252937  28.0  44.00  50.0  60.0  76.0\n",
       "write    200.0  52.775   9.478586  31.0  45.75  54.0  60.0  67.0\n",
       "math     200.0  52.645   9.368448  33.0  45.00  52.0  59.0  75.0\n",
       "science  200.0  51.850   9.900891  26.0  44.00  53.0  58.0  74.0\n",
       "socst    200.0  52.405  10.735793  26.0  46.00  52.0  61.0  71.0\n",
       "awards   200.0   1.670   1.818691   0.0   0.00   1.0   2.0   7.0"
      ]
     },
     "execution_count": 9,
     "metadata": {},
     "output_type": "execute_result"
    }
   ],
   "source": [
    "df[num].describe().T"
   ]
  },
  {
   "cell_type": "code",
   "execution_count": 10,
   "metadata": {
    "ExecuteTime": {
     "end_time": "2021-10-21T13:47:12.818638Z",
     "start_time": "2021-10-21T13:47:12.804595Z"
    }
   },
   "outputs": [
    {
     "data": {
      "text/html": [
       "<div>\n",
       "<style scoped>\n",
       "    .dataframe tbody tr th:only-of-type {\n",
       "        vertical-align: middle;\n",
       "    }\n",
       "\n",
       "    .dataframe tbody tr th {\n",
       "        vertical-align: top;\n",
       "    }\n",
       "\n",
       "    .dataframe thead th {\n",
       "        text-align: right;\n",
       "    }\n",
       "</style>\n",
       "<table border=\"1\" class=\"dataframe\">\n",
       "  <thead>\n",
       "    <tr style=\"text-align: right;\">\n",
       "      <th></th>\n",
       "      <th>count</th>\n",
       "      <th>unique</th>\n",
       "      <th>top</th>\n",
       "      <th>freq</th>\n",
       "    </tr>\n",
       "  </thead>\n",
       "  <tbody>\n",
       "    <tr>\n",
       "      <th>female</th>\n",
       "      <td>200</td>\n",
       "      <td>2</td>\n",
       "      <td>female</td>\n",
       "      <td>109</td>\n",
       "    </tr>\n",
       "    <tr>\n",
       "      <th>ses</th>\n",
       "      <td>200</td>\n",
       "      <td>3</td>\n",
       "      <td>middle</td>\n",
       "      <td>95</td>\n",
       "    </tr>\n",
       "    <tr>\n",
       "      <th>schtyp</th>\n",
       "      <td>200</td>\n",
       "      <td>2</td>\n",
       "      <td>public</td>\n",
       "      <td>168</td>\n",
       "    </tr>\n",
       "    <tr>\n",
       "      <th>prog</th>\n",
       "      <td>200</td>\n",
       "      <td>2</td>\n",
       "      <td>academic</td>\n",
       "      <td>105</td>\n",
       "    </tr>\n",
       "    <tr>\n",
       "      <th>honors</th>\n",
       "      <td>200</td>\n",
       "      <td>2</td>\n",
       "      <td>not enrolled</td>\n",
       "      <td>147</td>\n",
       "    </tr>\n",
       "  </tbody>\n",
       "</table>\n",
       "</div>"
      ],
      "text/plain": [
       "       count unique           top freq\n",
       "female   200      2        female  109\n",
       "ses      200      3        middle   95\n",
       "schtyp   200      2        public  168\n",
       "prog     200      2      academic  105\n",
       "honors   200      2  not enrolled  147"
      ]
     },
     "execution_count": 10,
     "metadata": {},
     "output_type": "execute_result"
    }
   ],
   "source": [
    "df[cat].describe().T"
   ]
  },
  {
   "cell_type": "markdown",
   "metadata": {
    "ExecuteTime": {
     "end_time": "2020-08-27T10:02:05.415533Z",
     "start_time": "2020-08-27T10:02:05.407556Z"
    }
   },
   "source": [
    "**Are there any duplicate records, Check for duplicate data**"
   ]
  },
  {
   "cell_type": "code",
   "execution_count": 11,
   "metadata": {
    "ExecuteTime": {
     "end_time": "2021-10-21T13:47:12.834232Z",
     "start_time": "2021-10-21T13:47:12.820270Z"
    }
   },
   "outputs": [
    {
     "name": "stdout",
     "output_type": "stream",
     "text": [
      "Number of duplicate rows = 0\n"
     ]
    },
    {
     "data": {
      "text/html": [
       "<div>\n",
       "<style scoped>\n",
       "    .dataframe tbody tr th:only-of-type {\n",
       "        vertical-align: middle;\n",
       "    }\n",
       "\n",
       "    .dataframe tbody tr th {\n",
       "        vertical-align: top;\n",
       "    }\n",
       "\n",
       "    .dataframe thead th {\n",
       "        text-align: right;\n",
       "    }\n",
       "</style>\n",
       "<table border=\"1\" class=\"dataframe\">\n",
       "  <thead>\n",
       "    <tr style=\"text-align: right;\">\n",
       "      <th></th>\n",
       "      <th>female</th>\n",
       "      <th>ses</th>\n",
       "      <th>schtyp</th>\n",
       "      <th>prog</th>\n",
       "      <th>read</th>\n",
       "      <th>write</th>\n",
       "      <th>math</th>\n",
       "      <th>science</th>\n",
       "      <th>socst</th>\n",
       "      <th>honors</th>\n",
       "      <th>awards</th>\n",
       "    </tr>\n",
       "  </thead>\n",
       "  <tbody>\n",
       "  </tbody>\n",
       "</table>\n",
       "</div>"
      ],
      "text/plain": [
       "Empty DataFrame\n",
       "Columns: [female, ses, schtyp, prog, read, write, math, science, socst, honors, awards]\n",
       "Index: []"
      ]
     },
     "execution_count": 11,
     "metadata": {},
     "output_type": "execute_result"
    }
   ],
   "source": [
    "\n",
    "dups = df.duplicated()\n",
    "print('Number of duplicate rows = %d' % (dups.sum()))\n",
    "\n",
    "df[dups]"
   ]
  },
  {
   "cell_type": "code",
   "execution_count": 12,
   "metadata": {
    "ExecuteTime": {
     "end_time": "2021-10-21T13:47:12.849746Z",
     "start_time": "2021-10-21T13:47:12.836226Z"
    }
   },
   "outputs": [],
   "source": [
    "## df.drop_duplicates(inplace=True) If present we can drop them like this"
   ]
  },
  {
   "cell_type": "markdown",
   "metadata": {},
   "source": [
    "### unique values for categorical variables"
   ]
  },
  {
   "cell_type": "code",
   "execution_count": 13,
   "metadata": {
    "ExecuteTime": {
     "end_time": "2021-10-21T13:47:12.880166Z",
     "start_time": "2021-10-21T13:47:12.851862Z"
    },
    "scrolled": false
   },
   "outputs": [
    {
     "name": "stdout",
     "output_type": "stream",
     "text": [
      "FEMALE :  2\n",
      "male       91\n",
      "female    109\n",
      "Name: female, dtype: int64\n",
      "\n",
      "\n",
      "SES :  3\n",
      "low       47\n",
      "high      58\n",
      "middle    95\n",
      "Name: ses, dtype: int64\n",
      "\n",
      "\n",
      "SCHTYP :  2\n",
      "private     32\n",
      "public     168\n",
      "Name: schtyp, dtype: int64\n",
      "\n",
      "\n",
      "PROG :  2\n",
      "vocation     95\n",
      "academic    105\n",
      "Name: prog, dtype: int64\n",
      "\n",
      "\n",
      "HONORS :  2\n",
      "enrolled         53\n",
      "not enrolled    147\n",
      "Name: honors, dtype: int64\n",
      "\n",
      "\n"
     ]
    }
   ],
   "source": [
    "for column in df.columns:\n",
    "    if df[column].dtype == 'object':\n",
    "        print(column.upper(),': ',df[column].nunique())\n",
    "        print(df[column].value_counts().sort_values())\n",
    "        print('\\n')"
   ]
  },
  {
   "cell_type": "markdown",
   "metadata": {},
   "source": [
    "### Univariate Analysis - Graphics"
   ]
  },
  {
   "cell_type": "code",
   "execution_count": 14,
   "metadata": {
    "ExecuteTime": {
     "end_time": "2021-10-21T13:47:12.895257Z",
     "start_time": "2021-10-21T13:47:12.882223Z"
    }
   },
   "outputs": [],
   "source": [
    "# fig, axes = plt.subplots(nrows=4,ncols=2)\n",
    "# fig.set_size_inches(10,20)\n",
    "# a = sns.distplot(df['read'] , ax=axes[0][0])\n",
    "# a.set_title(\"read Distribution\",fontsize=10)\n",
    "\n",
    "# a = sns.boxplot(df['read'] , orient = \"v\" , ax=axes[0][1])\n",
    "# a.set_title(\"read Boxplot\",fontsize=10)\n",
    "\n",
    "# a = sns.distplot(df['write'] , ax=axes[1][0])\n",
    "# a.set_title(\"write Distribution\",fontsize=10)\n",
    "\n",
    "# a = sns.boxplot(df['write'] , orient = \"v\" , ax=axes[1][1])\n",
    "# a.set_title(\"write Boxplot\",fontsize=10)\n",
    "\n",
    "\n",
    "# a = sns.distplot(df['math'] , ax=axes[2][0])\n",
    "# a.set_title(\"math Distribution\",fontsize=10)\n",
    "\n",
    "# a = sns.boxplot(df['math'] , orient = \"v\" , ax=axes[2][1])\n",
    "# a.set_title(\"math Boxplot\",fontsize=10)\n",
    "\n",
    "\n",
    "# a = sns.distplot(df['science'] , ax=axes[3][0])\n",
    "# a.set_title(\"science Distribution\",fontsize=10)\n",
    "\n",
    "# a = sns.boxplot(df['science'] , orient = \"v\" , ax=axes[3][1])\n",
    "# a.set_title(\"science Boxplot\",fontsize=10)\n",
    "\n",
    "# plt.show()"
   ]
  },
  {
   "cell_type": "code",
   "execution_count": 15,
   "metadata": {
    "ExecuteTime": {
     "end_time": "2021-10-21T13:47:12.911258Z",
     "start_time": "2021-10-21T13:47:12.896257Z"
    }
   },
   "outputs": [],
   "source": [
    "# fig, axes = plt.subplots(nrows=3,ncols=2)\n",
    "# fig.set_size_inches(10,18)\n",
    "# a = sns.distplot(df['socst'] , ax=axes[0][0])\n",
    "# a.set_title(\"socst Distribution\",fontsize=10)\n",
    "\n",
    "# a = sns.boxplot(df['socst'] , orient = \"v\" , ax=axes[0][1])\n",
    "# a.set_title(\"socst Boxplot\",fontsize=10)\n",
    "\n",
    "# a = sns.distplot(df['awards'] , ax=axes[1][0])\n",
    "# a.set_title(\"awards Distribution\",fontsize=10)\n",
    "\n",
    "# a = sns.boxplot(df['awards'] , orient = \"v\" , ax=axes[1][1])\n",
    "# a.set_title(\"awards Boxplot\",fontsize=10)\n",
    "\n",
    "# a = sns.distplot(df['cid'] , ax=axes[2][0])\n",
    "# a.set_title(\"cid Distribution\",fontsize=10)\n",
    "\n",
    "# a = sns.boxplot(df['cid'] , orient = \"v\" , ax=axes[2][1])\n",
    "# a.set_title(\"cid Boxplot\",fontsize=10)\n",
    "# plt.show()"
   ]
  },
  {
   "cell_type": "markdown",
   "metadata": {},
   "source": [
    "###  Bivariate Analysis - Graphics"
   ]
  },
  {
   "cell_type": "code",
   "execution_count": 16,
   "metadata": {
    "ExecuteTime": {
     "end_time": "2021-10-21T13:47:18.169427Z",
     "start_time": "2021-10-21T13:47:12.913259Z"
    }
   },
   "outputs": [
    {
     "data": {
      "image/png": "[encoded data removed]",
      "text/plain": [
       "<Figure size 1164.25x1080 with 42 Axes>"
      ]
     },
     "metadata": {
      "needs_background": "light"
     },
     "output_type": "display_data"
    }
   ],
   "source": [
    "sns.pairplot(df,hue=\"prog\");"
   ]
  },
  {
   "cell_type": "code",
   "execution_count": 82,
   "metadata": {
    "ExecuteTime": {
     "end_time": "2021-10-21T14:15:35.763244Z",
     "start_time": "2021-10-21T14:15:35.344889Z"
    }
   },
   "outputs": [
    {
     "data": {
      "image/png": "[encoded data removed]",
      "text/plain": [
       "<Figure size 720x576 with 2 Axes>"
      ]
     },
     "metadata": {
      "needs_background": "light"
     },
     "output_type": "display_data"
    }
   ],
   "source": [
    "plt.figure(figsize=(10,8))\n",
    "sns.heatmap(df.corr(),annot=True,mask=np.tril(df.corr(),-1))\n",
    "plt.show()"
   ]
  },
  {
   "cell_type": "markdown",
   "metadata": {},
   "source": [
    "#### Outlier Check"
   ]
  },
  {
   "cell_type": "code",
   "execution_count": 18,
   "metadata": {
    "ExecuteTime": {
     "end_time": "2021-10-21T13:47:18.757207Z",
     "start_time": "2021-10-21T13:47:18.359000Z"
    },
    "scrolled": false
   },
   "outputs": [
    {
     "data": {
      "image/png": "[encoded data removed]",
      "text/plain": [
       "<Figure size 432x288 with 1 Axes>"
      ]
     },
     "metadata": {
      "needs_background": "light"
     },
     "output_type": "display_data"
    },
    {
     "data": {
      "image/png": "[encoded data removed]",
      "text/plain": [
       "<Figure size 432x288 with 1 Axes>"
      ]
     },
     "metadata": {
      "needs_background": "light"
     },
     "output_type": "display_data"
    },
    {
     "data": {
      "image/png": "[encoded data removed]",
      "text/plain": [
       "<Figure size 432x288 with 1 Axes>"
      ]
     },
     "metadata": {
      "needs_background": "light"
     },
     "output_type": "display_data"
    },
    {
     "data": {
      "image/png": "[encoded data removed]",
      "text/plain": [
       "<Figure size 432x288 with 1 Axes>"
      ]
     },
     "metadata": {
      "needs_background": "light"
     },
     "output_type": "display_data"
    },
    {
     "data": {
      "image/png": "[encoded data removed]",
      "text/plain": [
       "<Figure size 432x288 with 1 Axes>"
      ]
     },
     "metadata": {
      "needs_background": "light"
     },
     "output_type": "display_data"
    },
    {
     "data": {
      "image/png": "[encoded data removed]",
      "text/plain": [
       "<Figure size 432x288 with 1 Axes>"
      ]
     },
     "metadata": {
      "needs_background": "light"
     },
     "output_type": "display_data"
    }
   ],
   "source": [
    "# construct box plot for continuous variables\n",
    "for i in num:\n",
    "    sns.boxplot(x=i, data=df)\n",
    "    plt.show()"
   ]
  },
  {
   "cell_type": "markdown",
   "metadata": {
    "ExecuteTime": {
     "end_time": "2020-08-24T22:51:22.062106Z",
     "start_time": "2020-08-24T22:51:22.058114Z"
    }
   },
   "source": [
    "#### New way of encoding the categorical columns"
   ]
  },
  {
   "cell_type": "code",
   "execution_count": 19,
   "metadata": {
    "ExecuteTime": {
     "end_time": "2021-10-21T13:47:18.772968Z",
     "start_time": "2021-10-21T13:47:18.759089Z"
    }
   },
   "outputs": [],
   "source": [
    "## Excluding prog from the cat variable\n",
    "\n",
    "cat1 = ['female', 'ses', 'schtyp', 'honors']"
   ]
  },
  {
   "cell_type": "code",
   "execution_count": 20,
   "metadata": {
    "ExecuteTime": {
     "end_time": "2021-10-21T13:47:18.788186Z",
     "start_time": "2021-10-21T13:47:18.773973Z"
    }
   },
   "outputs": [],
   "source": [
    "# The following code loops through each column and checks if the column type is object then converts those columns\n",
    "# into categorical with each distinct value becoming a category or code.\n",
    "\n",
    "for feature in cat1: \n",
    "    if df[feature].dtype == 'object': \n",
    "        df[feature] = pd.Categorical(df[feature]).codes"
   ]
  },
  {
   "cell_type": "code",
   "execution_count": 21,
   "metadata": {
    "ExecuteTime": {
     "end_time": "2021-10-21T13:47:18.819049Z",
     "start_time": "2021-10-21T13:47:18.789189Z"
    }
   },
   "outputs": [
    {
     "data": {
      "text/html": [
       "<div>\n",
       "<style scoped>\n",
       "    .dataframe tbody tr th:only-of-type {\n",
       "        vertical-align: middle;\n",
       "    }\n",
       "\n",
       "    .dataframe tbody tr th {\n",
       "        vertical-align: top;\n",
       "    }\n",
       "\n",
       "    .dataframe thead th {\n",
       "        text-align: right;\n",
       "    }\n",
       "</style>\n",
       "<table border=\"1\" class=\"dataframe\">\n",
       "  <thead>\n",
       "    <tr style=\"text-align: right;\">\n",
       "      <th></th>\n",
       "      <th>female</th>\n",
       "      <th>ses</th>\n",
       "      <th>schtyp</th>\n",
       "      <th>prog</th>\n",
       "      <th>read</th>\n",
       "      <th>write</th>\n",
       "      <th>math</th>\n",
       "      <th>science</th>\n",
       "      <th>socst</th>\n",
       "      <th>honors</th>\n",
       "      <th>awards</th>\n",
       "    </tr>\n",
       "  </thead>\n",
       "  <tbody>\n",
       "    <tr>\n",
       "      <th>0</th>\n",
       "      <td>0</td>\n",
       "      <td>1</td>\n",
       "      <td>1</td>\n",
       "      <td>vocation</td>\n",
       "      <td>34</td>\n",
       "      <td>35</td>\n",
       "      <td>41</td>\n",
       "      <td>29</td>\n",
       "      <td>26</td>\n",
       "      <td>1</td>\n",
       "      <td>0</td>\n",
       "    </tr>\n",
       "    <tr>\n",
       "      <th>1</th>\n",
       "      <td>1</td>\n",
       "      <td>2</td>\n",
       "      <td>1</td>\n",
       "      <td>vocation</td>\n",
       "      <td>34</td>\n",
       "      <td>33</td>\n",
       "      <td>41</td>\n",
       "      <td>36</td>\n",
       "      <td>36</td>\n",
       "      <td>1</td>\n",
       "      <td>0</td>\n",
       "    </tr>\n",
       "    <tr>\n",
       "      <th>2</th>\n",
       "      <td>1</td>\n",
       "      <td>0</td>\n",
       "      <td>1</td>\n",
       "      <td>vocation</td>\n",
       "      <td>39</td>\n",
       "      <td>39</td>\n",
       "      <td>44</td>\n",
       "      <td>26</td>\n",
       "      <td>42</td>\n",
       "      <td>1</td>\n",
       "      <td>0</td>\n",
       "    </tr>\n",
       "    <tr>\n",
       "      <th>3</th>\n",
       "      <td>1</td>\n",
       "      <td>1</td>\n",
       "      <td>1</td>\n",
       "      <td>vocation</td>\n",
       "      <td>37</td>\n",
       "      <td>37</td>\n",
       "      <td>42</td>\n",
       "      <td>33</td>\n",
       "      <td>32</td>\n",
       "      <td>1</td>\n",
       "      <td>0</td>\n",
       "    </tr>\n",
       "    <tr>\n",
       "      <th>4</th>\n",
       "      <td>1</td>\n",
       "      <td>2</td>\n",
       "      <td>1</td>\n",
       "      <td>vocation</td>\n",
       "      <td>39</td>\n",
       "      <td>31</td>\n",
       "      <td>40</td>\n",
       "      <td>39</td>\n",
       "      <td>51</td>\n",
       "      <td>1</td>\n",
       "      <td>0</td>\n",
       "    </tr>\n",
       "    <tr>\n",
       "      <th>...</th>\n",
       "      <td>...</td>\n",
       "      <td>...</td>\n",
       "      <td>...</td>\n",
       "      <td>...</td>\n",
       "      <td>...</td>\n",
       "      <td>...</td>\n",
       "      <td>...</td>\n",
       "      <td>...</td>\n",
       "      <td>...</td>\n",
       "      <td>...</td>\n",
       "      <td>...</td>\n",
       "    </tr>\n",
       "    <tr>\n",
       "      <th>195</th>\n",
       "      <td>0</td>\n",
       "      <td>0</td>\n",
       "      <td>1</td>\n",
       "      <td>academic</td>\n",
       "      <td>63</td>\n",
       "      <td>65</td>\n",
       "      <td>71</td>\n",
       "      <td>69</td>\n",
       "      <td>71</td>\n",
       "      <td>0</td>\n",
       "      <td>5</td>\n",
       "    </tr>\n",
       "    <tr>\n",
       "      <th>196</th>\n",
       "      <td>1</td>\n",
       "      <td>2</td>\n",
       "      <td>1</td>\n",
       "      <td>vocation</td>\n",
       "      <td>63</td>\n",
       "      <td>63</td>\n",
       "      <td>75</td>\n",
       "      <td>72</td>\n",
       "      <td>66</td>\n",
       "      <td>0</td>\n",
       "      <td>4</td>\n",
       "    </tr>\n",
       "    <tr>\n",
       "      <th>197</th>\n",
       "      <td>1</td>\n",
       "      <td>2</td>\n",
       "      <td>1</td>\n",
       "      <td>academic</td>\n",
       "      <td>73</td>\n",
       "      <td>67</td>\n",
       "      <td>71</td>\n",
       "      <td>63</td>\n",
       "      <td>66</td>\n",
       "      <td>0</td>\n",
       "      <td>7</td>\n",
       "    </tr>\n",
       "    <tr>\n",
       "      <th>198</th>\n",
       "      <td>0</td>\n",
       "      <td>2</td>\n",
       "      <td>1</td>\n",
       "      <td>academic</td>\n",
       "      <td>71</td>\n",
       "      <td>65</td>\n",
       "      <td>72</td>\n",
       "      <td>66</td>\n",
       "      <td>56</td>\n",
       "      <td>0</td>\n",
       "      <td>5</td>\n",
       "    </tr>\n",
       "    <tr>\n",
       "      <th>199</th>\n",
       "      <td>1</td>\n",
       "      <td>2</td>\n",
       "      <td>1</td>\n",
       "      <td>academic</td>\n",
       "      <td>73</td>\n",
       "      <td>62</td>\n",
       "      <td>73</td>\n",
       "      <td>69</td>\n",
       "      <td>66</td>\n",
       "      <td>0</td>\n",
       "      <td>3</td>\n",
       "    </tr>\n",
       "  </tbody>\n",
       "</table>\n",
       "<p>200 rows × 11 columns</p>\n",
       "</div>"
      ],
      "text/plain": [
       "     female  ses  schtyp      prog  read  write  math  science  socst  honors  \\\n",
       "0         0    1       1  vocation    34     35    41       29     26       1   \n",
       "1         1    2       1  vocation    34     33    41       36     36       1   \n",
       "2         1    0       1  vocation    39     39    44       26     42       1   \n",
       "3         1    1       1  vocation    37     37    42       33     32       1   \n",
       "4         1    2       1  vocation    39     31    40       39     51       1   \n",
       "..      ...  ...     ...       ...   ...    ...   ...      ...    ...     ...   \n",
       "195       0    0       1  academic    63     65    71       69     71       0   \n",
       "196       1    2       1  vocation    63     63    75       72     66       0   \n",
       "197       1    2       1  academic    73     67    71       63     66       0   \n",
       "198       0    2       1  academic    71     65    72       66     56       0   \n",
       "199       1    2       1  academic    73     62    73       69     66       0   \n",
       "\n",
       "     awards  \n",
       "0         0  \n",
       "1         0  \n",
       "2         0  \n",
       "3         0  \n",
       "4         0  \n",
       "..      ...  \n",
       "195       5  \n",
       "196       4  \n",
       "197       7  \n",
       "198       5  \n",
       "199       3  \n",
       "\n",
       "[200 rows x 11 columns]"
      ]
     },
     "execution_count": 21,
     "metadata": {},
     "output_type": "execute_result"
    }
   ],
   "source": [
    "df"
   ]
  },
  {
   "cell_type": "code",
   "execution_count": 22,
   "metadata": {
    "ExecuteTime": {
     "end_time": "2021-10-21T13:47:18.835028Z",
     "start_time": "2021-10-21T13:47:18.825020Z"
    }
   },
   "outputs": [],
   "source": [
    "## Treating the dependent variable\n",
    "from sklearn.preprocessing import LabelEncoder"
   ]
  },
  {
   "cell_type": "code",
   "execution_count": 23,
   "metadata": {
    "ExecuteTime": {
     "end_time": "2021-10-21T13:47:18.850962Z",
     "start_time": "2021-10-21T13:47:18.838395Z"
    }
   },
   "outputs": [],
   "source": [
    "LE = LabelEncoder()"
   ]
  },
  {
   "cell_type": "code",
   "execution_count": 24,
   "metadata": {
    "ExecuteTime": {
     "end_time": "2021-10-21T13:47:18.867400Z",
     "start_time": "2021-10-21T13:47:18.852913Z"
    }
   },
   "outputs": [
    {
     "data": {
      "text/plain": [
       "array([1, 1, 1, 1, 1, 1, 1, 1, 1, 1, 1, 0, 1, 1, 1, 1, 1, 1, 0, 1, 1, 1,\n",
       "       1, 1, 0, 0, 1, 1, 0, 0, 1, 1, 0, 0, 1, 1, 1, 0, 1, 0, 1, 0, 0, 1,\n",
       "       0, 1, 1, 1, 1, 0, 0, 1, 1, 0, 0, 1, 0, 1, 1, 1, 1, 0, 0, 1, 1, 1,\n",
       "       1, 0, 0, 1, 0, 0, 0, 1, 1, 1, 1, 1, 1, 0, 1, 0, 0, 1, 1, 0, 1, 1,\n",
       "       1, 1, 1, 1, 1, 0, 1, 1, 0, 1, 1, 1, 0, 1, 1, 1, 1, 0, 1, 1, 0, 0,\n",
       "       0, 0, 0, 0, 0, 1, 0, 0, 0, 0, 1, 0, 0, 0, 0, 0, 0, 0, 0, 0, 0, 0,\n",
       "       1, 0, 0, 1, 0, 0, 0, 0, 0, 0, 1, 1, 0, 1, 1, 1, 0, 0, 0, 0, 0, 1,\n",
       "       1, 0, 0, 0, 0, 0, 1, 1, 0, 0, 0, 1, 1, 0, 0, 1, 1, 0, 0, 1, 0, 0,\n",
       "       0, 0, 0, 0, 0, 0, 0, 1, 0, 0, 0, 0, 0, 0, 0, 0, 0, 0, 0, 0, 1, 0,\n",
       "       0, 0])"
      ]
     },
     "execution_count": 24,
     "metadata": {},
     "output_type": "execute_result"
    }
   ],
   "source": [
    "LE.fit_transform(df['prog'])"
   ]
  },
  {
   "cell_type": "code",
   "execution_count": 25,
   "metadata": {
    "ExecuteTime": {
     "end_time": "2021-10-21T13:47:18.882269Z",
     "start_time": "2021-10-21T13:47:18.869942Z"
    }
   },
   "outputs": [
    {
     "data": {
      "text/html": [
       "<div>\n",
       "<style scoped>\n",
       "    .dataframe tbody tr th:only-of-type {\n",
       "        vertical-align: middle;\n",
       "    }\n",
       "\n",
       "    .dataframe tbody tr th {\n",
       "        vertical-align: top;\n",
       "    }\n",
       "\n",
       "    .dataframe thead th {\n",
       "        text-align: right;\n",
       "    }\n",
       "</style>\n",
       "<table border=\"1\" class=\"dataframe\">\n",
       "  <thead>\n",
       "    <tr style=\"text-align: right;\">\n",
       "      <th></th>\n",
       "      <th>female</th>\n",
       "      <th>ses</th>\n",
       "      <th>schtyp</th>\n",
       "      <th>prog</th>\n",
       "      <th>read</th>\n",
       "      <th>write</th>\n",
       "      <th>math</th>\n",
       "      <th>science</th>\n",
       "      <th>socst</th>\n",
       "      <th>honors</th>\n",
       "      <th>awards</th>\n",
       "    </tr>\n",
       "  </thead>\n",
       "  <tbody>\n",
       "    <tr>\n",
       "      <th>0</th>\n",
       "      <td>0</td>\n",
       "      <td>1</td>\n",
       "      <td>1</td>\n",
       "      <td>1</td>\n",
       "      <td>34</td>\n",
       "      <td>35</td>\n",
       "      <td>41</td>\n",
       "      <td>29</td>\n",
       "      <td>26</td>\n",
       "      <td>1</td>\n",
       "      <td>0</td>\n",
       "    </tr>\n",
       "    <tr>\n",
       "      <th>1</th>\n",
       "      <td>1</td>\n",
       "      <td>2</td>\n",
       "      <td>1</td>\n",
       "      <td>1</td>\n",
       "      <td>34</td>\n",
       "      <td>33</td>\n",
       "      <td>41</td>\n",
       "      <td>36</td>\n",
       "      <td>36</td>\n",
       "      <td>1</td>\n",
       "      <td>0</td>\n",
       "    </tr>\n",
       "    <tr>\n",
       "      <th>2</th>\n",
       "      <td>1</td>\n",
       "      <td>0</td>\n",
       "      <td>1</td>\n",
       "      <td>1</td>\n",
       "      <td>39</td>\n",
       "      <td>39</td>\n",
       "      <td>44</td>\n",
       "      <td>26</td>\n",
       "      <td>42</td>\n",
       "      <td>1</td>\n",
       "      <td>0</td>\n",
       "    </tr>\n",
       "    <tr>\n",
       "      <th>3</th>\n",
       "      <td>1</td>\n",
       "      <td>1</td>\n",
       "      <td>1</td>\n",
       "      <td>1</td>\n",
       "      <td>37</td>\n",
       "      <td>37</td>\n",
       "      <td>42</td>\n",
       "      <td>33</td>\n",
       "      <td>32</td>\n",
       "      <td>1</td>\n",
       "      <td>0</td>\n",
       "    </tr>\n",
       "    <tr>\n",
       "      <th>4</th>\n",
       "      <td>1</td>\n",
       "      <td>2</td>\n",
       "      <td>1</td>\n",
       "      <td>1</td>\n",
       "      <td>39</td>\n",
       "      <td>31</td>\n",
       "      <td>40</td>\n",
       "      <td>39</td>\n",
       "      <td>51</td>\n",
       "      <td>1</td>\n",
       "      <td>0</td>\n",
       "    </tr>\n",
       "    <tr>\n",
       "      <th>...</th>\n",
       "      <td>...</td>\n",
       "      <td>...</td>\n",
       "      <td>...</td>\n",
       "      <td>...</td>\n",
       "      <td>...</td>\n",
       "      <td>...</td>\n",
       "      <td>...</td>\n",
       "      <td>...</td>\n",
       "      <td>...</td>\n",
       "      <td>...</td>\n",
       "      <td>...</td>\n",
       "    </tr>\n",
       "    <tr>\n",
       "      <th>195</th>\n",
       "      <td>0</td>\n",
       "      <td>0</td>\n",
       "      <td>1</td>\n",
       "      <td>0</td>\n",
       "      <td>63</td>\n",
       "      <td>65</td>\n",
       "      <td>71</td>\n",
       "      <td>69</td>\n",
       "      <td>71</td>\n",
       "      <td>0</td>\n",
       "      <td>5</td>\n",
       "    </tr>\n",
       "    <tr>\n",
       "      <th>196</th>\n",
       "      <td>1</td>\n",
       "      <td>2</td>\n",
       "      <td>1</td>\n",
       "      <td>1</td>\n",
       "      <td>63</td>\n",
       "      <td>63</td>\n",
       "      <td>75</td>\n",
       "      <td>72</td>\n",
       "      <td>66</td>\n",
       "      <td>0</td>\n",
       "      <td>4</td>\n",
       "    </tr>\n",
       "    <tr>\n",
       "      <th>197</th>\n",
       "      <td>1</td>\n",
       "      <td>2</td>\n",
       "      <td>1</td>\n",
       "      <td>0</td>\n",
       "      <td>73</td>\n",
       "      <td>67</td>\n",
       "      <td>71</td>\n",
       "      <td>63</td>\n",
       "      <td>66</td>\n",
       "      <td>0</td>\n",
       "      <td>7</td>\n",
       "    </tr>\n",
       "    <tr>\n",
       "      <th>198</th>\n",
       "      <td>0</td>\n",
       "      <td>2</td>\n",
       "      <td>1</td>\n",
       "      <td>0</td>\n",
       "      <td>71</td>\n",
       "      <td>65</td>\n",
       "      <td>72</td>\n",
       "      <td>66</td>\n",
       "      <td>56</td>\n",
       "      <td>0</td>\n",
       "      <td>5</td>\n",
       "    </tr>\n",
       "    <tr>\n",
       "      <th>199</th>\n",
       "      <td>1</td>\n",
       "      <td>2</td>\n",
       "      <td>1</td>\n",
       "      <td>0</td>\n",
       "      <td>73</td>\n",
       "      <td>62</td>\n",
       "      <td>73</td>\n",
       "      <td>69</td>\n",
       "      <td>66</td>\n",
       "      <td>0</td>\n",
       "      <td>3</td>\n",
       "    </tr>\n",
       "  </tbody>\n",
       "</table>\n",
       "<p>200 rows × 11 columns</p>\n",
       "</div>"
      ],
      "text/plain": [
       "     female  ses  schtyp  prog  read  write  math  science  socst  honors  \\\n",
       "0         0    1       1     1    34     35    41       29     26       1   \n",
       "1         1    2       1     1    34     33    41       36     36       1   \n",
       "2         1    0       1     1    39     39    44       26     42       1   \n",
       "3         1    1       1     1    37     37    42       33     32       1   \n",
       "4         1    2       1     1    39     31    40       39     51       1   \n",
       "..      ...  ...     ...   ...   ...    ...   ...      ...    ...     ...   \n",
       "195       0    0       1     0    63     65    71       69     71       0   \n",
       "196       1    2       1     1    63     63    75       72     66       0   \n",
       "197       1    2       1     0    73     67    71       63     66       0   \n",
       "198       0    2       1     0    71     65    72       66     56       0   \n",
       "199       1    2       1     0    73     62    73       69     66       0   \n",
       "\n",
       "     awards  \n",
       "0         0  \n",
       "1         0  \n",
       "2         0  \n",
       "3         0  \n",
       "4         0  \n",
       "..      ...  \n",
       "195       5  \n",
       "196       4  \n",
       "197       7  \n",
       "198       5  \n",
       "199       3  \n",
       "\n",
       "[200 rows x 11 columns]"
      ]
     },
     "execution_count": 25,
     "metadata": {},
     "output_type": "execute_result"
    }
   ],
   "source": [
    "df['prog'] = LE.fit_transform(df['prog'])\n",
    "df"
   ]
  },
  {
   "cell_type": "code",
   "execution_count": 26,
   "metadata": {
    "ExecuteTime": {
     "end_time": "2021-10-21T13:47:18.897847Z",
     "start_time": "2021-10-21T13:47:18.884269Z"
    },
    "scrolled": true
   },
   "outputs": [
    {
     "data": {
      "text/plain": [
       "0    0.525\n",
       "1    0.475\n",
       "Name: prog, dtype: float64"
      ]
     },
     "execution_count": 26,
     "metadata": {},
     "output_type": "execute_result"
    }
   ],
   "source": [
    "df['prog'].value_counts(1)"
   ]
  },
  {
   "cell_type": "code",
   "execution_count": 27,
   "metadata": {
    "ExecuteTime": {
     "end_time": "2021-10-21T13:47:18.913905Z",
     "start_time": "2021-10-21T13:47:18.898867Z"
    }
   },
   "outputs": [],
   "source": [
    "# Arrange data into independent variables and dependent variables\n",
    "X = df.drop(\"prog\",axis=1)  ## Features\n",
    "y = df[\"prog\"]  ## Target"
   ]
  },
  {
   "cell_type": "code",
   "execution_count": 28,
   "metadata": {
    "ExecuteTime": {
     "end_time": "2021-10-21T13:47:18.929432Z",
     "start_time": "2021-10-21T13:47:18.914958Z"
    }
   },
   "outputs": [],
   "source": [
    "# Split X and y into training and test set in 80:20 ratio\n",
    "from sklearn.model_selection import train_test_split\n",
    "X_train, X_test, y_train, y_test = train_test_split(X, y, test_size=0.20 , random_state=1,stratify = y)"
   ]
  },
  {
   "cell_type": "code",
   "execution_count": 29,
   "metadata": {
    "ExecuteTime": {
     "end_time": "2021-10-21T13:47:18.945049Z",
     "start_time": "2021-10-21T13:47:18.931490Z"
    }
   },
   "outputs": [
    {
     "name": "stdout",
     "output_type": "stream",
     "text": [
      "0    0.525\n",
      "1    0.475\n",
      "Name: prog, dtype: float64\n",
      "0    0.525\n",
      "1    0.475\n",
      "Name: prog, dtype: float64\n"
     ]
    }
   ],
   "source": [
    "print(y_train.value_counts(1))\n",
    "print(y_test.value_counts(1))"
   ]
  },
  {
   "cell_type": "markdown",
   "metadata": {},
   "source": [
    "### Logistic Regression"
   ]
  },
  {
   "cell_type": "code",
   "execution_count": 30,
   "metadata": {
    "ExecuteTime": {
     "end_time": "2021-10-21T13:47:19.164912Z",
     "start_time": "2021-10-21T13:47:18.946897Z"
    }
   },
   "outputs": [],
   "source": [
    "from sklearn.linear_model import LogisticRegression"
   ]
  },
  {
   "cell_type": "code",
   "execution_count": 31,
   "metadata": {
    "ExecuteTime": {
     "end_time": "2021-10-21T13:47:19.180260Z",
     "start_time": "2021-10-21T13:47:19.166689Z"
    }
   },
   "outputs": [],
   "source": [
    "LR = LogisticRegression(max_iter=100000000000)"
   ]
  },
  {
   "cell_type": "code",
   "execution_count": 32,
   "metadata": {
    "ExecuteTime": {
     "end_time": "2021-10-21T13:47:19.289526Z",
     "start_time": "2021-10-21T13:47:19.182256Z"
    }
   },
   "outputs": [
    {
     "data": {
      "text/plain": [
       "0.7625"
      ]
     },
     "execution_count": 32,
     "metadata": {},
     "output_type": "execute_result"
    }
   ],
   "source": [
    "## Training data score and model fitting\n",
    "LR.fit(X_train,y_train)\n",
    "LR.score(X_train,y_train)"
   ]
  },
  {
   "cell_type": "code",
   "execution_count": 33,
   "metadata": {
    "ExecuteTime": {
     "end_time": "2021-10-21T13:47:19.305216Z",
     "start_time": "2021-10-21T13:47:19.292519Z"
    }
   },
   "outputs": [
    {
     "data": {
      "text/plain": [
       "0.6"
      ]
     },
     "execution_count": 33,
     "metadata": {},
     "output_type": "execute_result"
    }
   ],
   "source": [
    "## Test data scoring\n",
    "LR.score(X_test,y_test)"
   ]
  },
  {
   "cell_type": "code",
   "execution_count": 34,
   "metadata": {
    "ExecuteTime": {
     "end_time": "2021-10-21T13:47:19.320649Z",
     "start_time": "2021-10-21T13:47:19.307272Z"
    }
   },
   "outputs": [],
   "source": [
    "from sklearn.model_selection import GridSearchCV, LeaveOneOut"
   ]
  },
  {
   "cell_type": "code",
   "execution_count": 35,
   "metadata": {
    "ExecuteTime": {
     "end_time": "2021-10-21T13:47:19.336022Z",
     "start_time": "2021-10-21T13:47:19.321793Z"
    }
   },
   "outputs": [],
   "source": [
    "parameters = {'penalty':['l1', 'l2', 'elasticnet', 'none'],'C':[1,2,3,4,5,6]}"
   ]
  },
  {
   "cell_type": "code",
   "execution_count": 36,
   "metadata": {
    "ExecuteTime": {
     "end_time": "2021-10-21T13:47:49.873845Z",
     "start_time": "2021-10-21T13:47:19.337132Z"
    }
   },
   "outputs": [
    {
     "data": {
      "text/plain": [
       "GridSearchCV(cv=LeaveOneOut(),\n",
       "             estimator=LogisticRegression(max_iter=100000000000), n_jobs=-1,\n",
       "             param_grid={'C': [1, 2, 3, 4, 5, 6],\n",
       "                         'penalty': ['l1', 'l2', 'elasticnet', 'none']})"
      ]
     },
     "execution_count": 36,
     "metadata": {},
     "output_type": "execute_result"
    }
   ],
   "source": [
    "LR_tune = GridSearchCV(estimator=LR,\n",
    "                      param_grid=parameters,\n",
    "                      cv=LeaveOneOut(),\n",
    "                      n_jobs=-1)\n",
    "LR_tune.fit(X_train,y_train)"
   ]
  },
  {
   "cell_type": "code",
   "execution_count": 37,
   "metadata": {
    "ExecuteTime": {
     "end_time": "2021-10-21T13:47:49.889576Z",
     "start_time": "2021-10-21T13:47:49.876482Z"
    }
   },
   "outputs": [
    {
     "data": {
      "text/plain": [
       "{'C': 1, 'penalty': 'none'}"
      ]
     },
     "execution_count": 37,
     "metadata": {},
     "output_type": "execute_result"
    }
   ],
   "source": [
    "LR_tune.best_params_"
   ]
  },
  {
   "cell_type": "code",
   "execution_count": 38,
   "metadata": {
    "ExecuteTime": {
     "end_time": "2021-10-21T13:47:49.905782Z",
     "start_time": "2021-10-21T13:47:49.891583Z"
    }
   },
   "outputs": [
    {
     "data": {
      "text/plain": [
       "0.775"
      ]
     },
     "execution_count": 38,
     "metadata": {},
     "output_type": "execute_result"
    }
   ],
   "source": [
    "LR_tune.best_estimator_.score(X_train,y_train)"
   ]
  },
  {
   "cell_type": "code",
   "execution_count": 39,
   "metadata": {
    "ExecuteTime": {
     "end_time": "2021-10-21T13:47:49.920597Z",
     "start_time": "2021-10-21T13:47:49.907820Z"
    }
   },
   "outputs": [
    {
     "data": {
      "text/plain": [
       "array([[68, 16],\n",
       "       [20, 56]], dtype=int64)"
      ]
     },
     "execution_count": 39,
     "metadata": {},
     "output_type": "execute_result"
    }
   ],
   "source": [
    "metrics.confusion_matrix(y_true=y_train,y_pred=LR_tune.best_estimator_.predict(X_train))"
   ]
  },
  {
   "cell_type": "code",
   "execution_count": 40,
   "metadata": {
    "ExecuteTime": {
     "end_time": "2021-10-21T13:47:50.059968Z",
     "start_time": "2021-10-21T13:47:49.923136Z"
    }
   },
   "outputs": [
    {
     "data": {
      "image/png": "[encoded data removed]",
      "text/plain": [
       "<Figure size 432x288 with 1 Axes>"
      ]
     },
     "metadata": {
      "needs_background": "light"
     },
     "output_type": "display_data"
    }
   ],
   "source": [
    "cm = metrics.confusion_matrix(y_true=y_train,y_pred=LR_tune.best_estimator_.predict(X_train))\n",
    "plt.clf()\n",
    "plt.imshow(cm, interpolation='nearest', cmap=plt.cm.Wistia)\n",
    "plt.title('Confusion Matrix - Training Data')\n",
    "plt.ylabel('Actual label')\n",
    "plt.xlabel('Predicted label')\n",
    "\n",
    "s = [['G1', 'G2'], ['G1','G2']]\n",
    " \n",
    "for i in range(2):\n",
    "    for j in range(2):\n",
    "        plt.text(j,i, str(s[i][j])+\" = \"+str(cm[i][j]))\n",
    "plt.show()"
   ]
  },
  {
   "cell_type": "code",
   "execution_count": 41,
   "metadata": {
    "ExecuteTime": {
     "end_time": "2021-10-21T13:47:50.076043Z",
     "start_time": "2021-10-21T13:47:50.060967Z"
    }
   },
   "outputs": [
    {
     "name": "stdout",
     "output_type": "stream",
     "text": [
      "              precision    recall  f1-score   support\n",
      "\n",
      "           0       0.69      0.43      0.53        21\n",
      "           1       0.56      0.79      0.65        19\n",
      "\n",
      "    accuracy                           0.60        40\n",
      "   macro avg       0.62      0.61      0.59        40\n",
      "weighted avg       0.63      0.60      0.59        40\n",
      "\n"
     ]
    }
   ],
   "source": [
    "## Model evaluation on the test data\n",
    "\n",
    "print(metrics.classification_report(y_true=y_test,y_pred=LR_tune.best_estimator_.predict(X_test)))"
   ]
  },
  {
   "cell_type": "markdown",
   "metadata": {},
   "source": [
    "### LDA/QDA"
   ]
  },
  {
   "cell_type": "code",
   "execution_count": 42,
   "metadata": {
    "ExecuteTime": {
     "end_time": "2021-10-21T13:47:50.122794Z",
     "start_time": "2021-10-21T13:47:50.078042Z"
    }
   },
   "outputs": [],
   "source": [
    "from sklearn.discriminant_analysis import LinearDiscriminantAnalysis, QuadraticDiscriminantAnalysis"
   ]
  },
  {
   "cell_type": "code",
   "execution_count": 43,
   "metadata": {
    "ExecuteTime": {
     "end_time": "2021-10-21T13:47:50.138002Z",
     "start_time": "2021-10-21T13:47:50.124762Z"
    }
   },
   "outputs": [],
   "source": [
    "LDA = LinearDiscriminantAnalysis()\n",
    "QDA = QuadraticDiscriminantAnalysis()"
   ]
  },
  {
   "cell_type": "code",
   "execution_count": 44,
   "metadata": {
    "ExecuteTime": {
     "end_time": "2021-10-21T13:47:50.153288Z",
     "start_time": "2021-10-21T13:47:50.141340Z"
    }
   },
   "outputs": [],
   "source": [
    "parameters_LDA = {'solver':['svd', 'lsqr', 'eigen']}"
   ]
  },
  {
   "cell_type": "code",
   "execution_count": 45,
   "metadata": {
    "ExecuteTime": {
     "end_time": "2021-10-21T13:47:50.710803Z",
     "start_time": "2021-10-21T13:47:50.157383Z"
    }
   },
   "outputs": [
    {
     "name": "stdout",
     "output_type": "stream",
     "text": [
      "{'solver': 'svd'}\n",
      "0.75\n",
      "0.575\n"
     ]
    }
   ],
   "source": [
    "LDA_tune = GridSearchCV(estimator=LDA,\n",
    "                      param_grid=parameters_LDA,\n",
    "                      cv=LeaveOneOut(),\n",
    "                      n_jobs=-1)\n",
    "LDA_tune.fit(X_train,y_train)\n",
    "\n",
    "print(LDA_tune.best_params_)\n",
    "print(LDA_tune.best_estimator_.score(X_train,y_train))\n",
    "print(LDA_tune.best_estimator_.score(X_test,y_test))"
   ]
  },
  {
   "cell_type": "code",
   "execution_count": 46,
   "metadata": {
    "ExecuteTime": {
     "end_time": "2021-10-21T13:47:50.725945Z",
     "start_time": "2021-10-21T13:47:50.711806Z"
    }
   },
   "outputs": [
    {
     "name": "stdout",
     "output_type": "stream",
     "text": [
      "              precision    recall  f1-score   support\n",
      "\n",
      "           0       0.64      0.43      0.51        21\n",
      "           1       0.54      0.74      0.62        19\n",
      "\n",
      "    accuracy                           0.57        40\n",
      "   macro avg       0.59      0.58      0.57        40\n",
      "weighted avg       0.59      0.57      0.57        40\n",
      "\n"
     ]
    }
   ],
   "source": [
    "## Model evaluation on the test data\n",
    "\n",
    "print(metrics.classification_report(y_true=y_test,y_pred=LDA_tune.best_estimator_.predict(X_test)))"
   ]
  },
  {
   "cell_type": "code",
   "execution_count": 47,
   "metadata": {
    "ExecuteTime": {
     "end_time": "2021-10-21T13:47:50.773260Z",
     "start_time": "2021-10-21T13:47:50.729079Z"
    }
   },
   "outputs": [
    {
     "data": {
      "text/plain": [
       "0.79375"
      ]
     },
     "execution_count": 47,
     "metadata": {},
     "output_type": "execute_result"
    }
   ],
   "source": [
    "QDA_model = QDA.fit(X_train,y_train)\n",
    "QDA_model.score(X_train,y_train)"
   ]
  },
  {
   "cell_type": "code",
   "execution_count": 48,
   "metadata": {
    "ExecuteTime": {
     "end_time": "2021-10-21T13:47:50.789057Z",
     "start_time": "2021-10-21T13:47:50.775442Z"
    }
   },
   "outputs": [
    {
     "name": "stdout",
     "output_type": "stream",
     "text": [
      "              precision    recall  f1-score   support\n",
      "\n",
      "           0       0.72      0.62      0.67        21\n",
      "           1       0.64      0.74      0.68        19\n",
      "\n",
      "    accuracy                           0.68        40\n",
      "   macro avg       0.68      0.68      0.67        40\n",
      "weighted avg       0.68      0.68      0.67        40\n",
      "\n"
     ]
    }
   ],
   "source": [
    "## Model evaluation on the test data\n",
    "\n",
    "print(metrics.classification_report(y_true=y_test,y_pred=QDA_model.predict(X_test)))"
   ]
  },
  {
   "cell_type": "markdown",
   "metadata": {},
   "source": [
    "### Gaussian Naive Bayes"
   ]
  },
  {
   "cell_type": "code",
   "execution_count": 49,
   "metadata": {
    "ExecuteTime": {
     "end_time": "2021-10-21T13:47:50.804684Z",
     "start_time": "2021-10-21T13:47:50.790057Z"
    }
   },
   "outputs": [],
   "source": [
    "from sklearn.naive_bayes import GaussianNB, BernoulliNB"
   ]
  },
  {
   "cell_type": "code",
   "execution_count": 50,
   "metadata": {
    "ExecuteTime": {
     "end_time": "2021-10-21T13:47:50.819849Z",
     "start_time": "2021-10-21T13:47:50.807241Z"
    }
   },
   "outputs": [],
   "source": [
    "GNB_model = GaussianNB()\n",
    "#BN_NB = BernoulliNB()"
   ]
  },
  {
   "cell_type": "code",
   "execution_count": 51,
   "metadata": {
    "ExecuteTime": {
     "end_time": "2021-10-21T13:47:50.851426Z",
     "start_time": "2021-10-21T13:47:50.822522Z"
    }
   },
   "outputs": [
    {
     "data": {
      "text/html": [
       "<div>\n",
       "<style scoped>\n",
       "    .dataframe tbody tr th:only-of-type {\n",
       "        vertical-align: middle;\n",
       "    }\n",
       "\n",
       "    .dataframe tbody tr th {\n",
       "        vertical-align: top;\n",
       "    }\n",
       "\n",
       "    .dataframe thead th {\n",
       "        text-align: right;\n",
       "    }\n",
       "</style>\n",
       "<table border=\"1\" class=\"dataframe\">\n",
       "  <thead>\n",
       "    <tr style=\"text-align: right;\">\n",
       "      <th></th>\n",
       "      <th>female</th>\n",
       "      <th>ses</th>\n",
       "      <th>schtyp</th>\n",
       "      <th>read</th>\n",
       "      <th>write</th>\n",
       "      <th>math</th>\n",
       "      <th>science</th>\n",
       "      <th>socst</th>\n",
       "      <th>honors</th>\n",
       "      <th>awards</th>\n",
       "    </tr>\n",
       "  </thead>\n",
       "  <tbody>\n",
       "    <tr>\n",
       "      <th>97</th>\n",
       "      <td>0</td>\n",
       "      <td>2</td>\n",
       "      <td>0</td>\n",
       "      <td>50</td>\n",
       "      <td>52</td>\n",
       "      <td>53</td>\n",
       "      <td>55</td>\n",
       "      <td>56</td>\n",
       "      <td>1</td>\n",
       "      <td>1</td>\n",
       "    </tr>\n",
       "    <tr>\n",
       "      <th>13</th>\n",
       "      <td>0</td>\n",
       "      <td>2</td>\n",
       "      <td>1</td>\n",
       "      <td>36</td>\n",
       "      <td>44</td>\n",
       "      <td>37</td>\n",
       "      <td>42</td>\n",
       "      <td>41</td>\n",
       "      <td>1</td>\n",
       "      <td>0</td>\n",
       "    </tr>\n",
       "    <tr>\n",
       "      <th>4</th>\n",
       "      <td>1</td>\n",
       "      <td>2</td>\n",
       "      <td>1</td>\n",
       "      <td>39</td>\n",
       "      <td>31</td>\n",
       "      <td>40</td>\n",
       "      <td>39</td>\n",
       "      <td>51</td>\n",
       "      <td>1</td>\n",
       "      <td>0</td>\n",
       "    </tr>\n",
       "    <tr>\n",
       "      <th>46</th>\n",
       "      <td>0</td>\n",
       "      <td>2</td>\n",
       "      <td>1</td>\n",
       "      <td>47</td>\n",
       "      <td>46</td>\n",
       "      <td>39</td>\n",
       "      <td>47</td>\n",
       "      <td>61</td>\n",
       "      <td>1</td>\n",
       "      <td>0</td>\n",
       "    </tr>\n",
       "    <tr>\n",
       "      <th>17</th>\n",
       "      <td>0</td>\n",
       "      <td>2</td>\n",
       "      <td>1</td>\n",
       "      <td>42</td>\n",
       "      <td>46</td>\n",
       "      <td>38</td>\n",
       "      <td>36</td>\n",
       "      <td>46</td>\n",
       "      <td>1</td>\n",
       "      <td>0</td>\n",
       "    </tr>\n",
       "    <tr>\n",
       "      <th>...</th>\n",
       "      <td>...</td>\n",
       "      <td>...</td>\n",
       "      <td>...</td>\n",
       "      <td>...</td>\n",
       "      <td>...</td>\n",
       "      <td>...</td>\n",
       "      <td>...</td>\n",
       "      <td>...</td>\n",
       "      <td>...</td>\n",
       "      <td>...</td>\n",
       "    </tr>\n",
       "    <tr>\n",
       "      <th>169</th>\n",
       "      <td>1</td>\n",
       "      <td>0</td>\n",
       "      <td>1</td>\n",
       "      <td>68</td>\n",
       "      <td>59</td>\n",
       "      <td>56</td>\n",
       "      <td>63</td>\n",
       "      <td>66</td>\n",
       "      <td>1</td>\n",
       "      <td>2</td>\n",
       "    </tr>\n",
       "    <tr>\n",
       "      <th>90</th>\n",
       "      <td>0</td>\n",
       "      <td>0</td>\n",
       "      <td>1</td>\n",
       "      <td>50</td>\n",
       "      <td>52</td>\n",
       "      <td>45</td>\n",
       "      <td>58</td>\n",
       "      <td>36</td>\n",
       "      <td>1</td>\n",
       "      <td>1</td>\n",
       "    </tr>\n",
       "    <tr>\n",
       "      <th>136</th>\n",
       "      <td>1</td>\n",
       "      <td>2</td>\n",
       "      <td>1</td>\n",
       "      <td>60</td>\n",
       "      <td>54</td>\n",
       "      <td>60</td>\n",
       "      <td>55</td>\n",
       "      <td>66</td>\n",
       "      <td>1</td>\n",
       "      <td>1</td>\n",
       "    </tr>\n",
       "    <tr>\n",
       "      <th>138</th>\n",
       "      <td>1</td>\n",
       "      <td>1</td>\n",
       "      <td>1</td>\n",
       "      <td>63</td>\n",
       "      <td>43</td>\n",
       "      <td>59</td>\n",
       "      <td>65</td>\n",
       "      <td>44</td>\n",
       "      <td>1</td>\n",
       "      <td>0</td>\n",
       "    </tr>\n",
       "    <tr>\n",
       "      <th>24</th>\n",
       "      <td>0</td>\n",
       "      <td>1</td>\n",
       "      <td>1</td>\n",
       "      <td>47</td>\n",
       "      <td>37</td>\n",
       "      <td>43</td>\n",
       "      <td>42</td>\n",
       "      <td>46</td>\n",
       "      <td>1</td>\n",
       "      <td>0</td>\n",
       "    </tr>\n",
       "  </tbody>\n",
       "</table>\n",
       "<p>160 rows × 10 columns</p>\n",
       "</div>"
      ],
      "text/plain": [
       "     female  ses  schtyp  read  write  math  science  socst  honors  awards\n",
       "97        0    2       0    50     52    53       55     56       1       1\n",
       "13        0    2       1    36     44    37       42     41       1       0\n",
       "4         1    2       1    39     31    40       39     51       1       0\n",
       "46        0    2       1    47     46    39       47     61       1       0\n",
       "17        0    2       1    42     46    38       36     46       1       0\n",
       "..      ...  ...     ...   ...    ...   ...      ...    ...     ...     ...\n",
       "169       1    0       1    68     59    56       63     66       1       2\n",
       "90        0    0       1    50     52    45       58     36       1       1\n",
       "136       1    2       1    60     54    60       55     66       1       1\n",
       "138       1    1       1    63     43    59       65     44       1       0\n",
       "24        0    1       1    47     37    43       42     46       1       0\n",
       "\n",
       "[160 rows x 10 columns]"
      ]
     },
     "execution_count": 51,
     "metadata": {},
     "output_type": "execute_result"
    }
   ],
   "source": [
    "X_train"
   ]
  },
  {
   "cell_type": "code",
   "execution_count": 52,
   "metadata": {
    "ExecuteTime": {
     "end_time": "2021-10-21T13:47:50.866986Z",
     "start_time": "2021-10-21T13:47:50.853561Z"
    }
   },
   "outputs": [],
   "source": [
    "m_3 = GNB_model.fit(X_train[['read','write','math','science','socst']],y_train)"
   ]
  },
  {
   "cell_type": "code",
   "execution_count": 53,
   "metadata": {
    "ExecuteTime": {
     "end_time": "2021-10-21T13:47:50.897547Z",
     "start_time": "2021-10-21T13:47:50.868473Z"
    }
   },
   "outputs": [
    {
     "name": "stdout",
     "output_type": "stream",
     "text": [
      "0.75\n",
      "[[65 19]\n",
      " [21 55]]\n",
      "              precision    recall  f1-score   support\n",
      "\n",
      "           0       0.76      0.77      0.76        84\n",
      "           1       0.74      0.72      0.73        76\n",
      "\n",
      "    accuracy                           0.75       160\n",
      "   macro avg       0.75      0.75      0.75       160\n",
      "weighted avg       0.75      0.75      0.75       160\n",
      "\n"
     ]
    }
   ],
   "source": [
    "y_train_predict = m_3.predict(X_train[['read','write','math','science','socst']])\n",
    "model_score = m_3.score(X_train[['read','write','math','science','socst']], y_train)                      ## Accuracy\n",
    "print(model_score)\n",
    "print(metrics.confusion_matrix(y_train, y_train_predict))          ## confusion_matrix\n",
    "print(metrics.classification_report(y_train, y_train_predict))     ## classification_report"
   ]
  },
  {
   "cell_type": "code",
   "execution_count": 54,
   "metadata": {
    "ExecuteTime": {
     "end_time": "2021-10-21T13:47:50.913595Z",
     "start_time": "2021-10-21T13:47:50.898548Z"
    }
   },
   "outputs": [],
   "source": [
    "# m_3 = GNB_model.fit(X_train,y_train)\n",
    "# y_train_predict = m_3.predict(X_train)\n",
    "# model_score = m_3.score(X_train, y_train)                      ## Accuracy\n",
    "# print(model_score)\n",
    "# print(metrics.confusion_matrix(y_train, y_train_predict))          ## confusion_matrix\n",
    "# print(metrics.classification_report(y_train, y_train_predict))     ## classification_report"
   ]
  },
  {
   "cell_type": "code",
   "execution_count": 55,
   "metadata": {
    "ExecuteTime": {
     "end_time": "2021-10-21T13:47:50.944289Z",
     "start_time": "2021-10-21T13:47:50.914634Z"
    }
   },
   "outputs": [
    {
     "name": "stdout",
     "output_type": "stream",
     "text": [
      "0.6\n",
      "[[11 10]\n",
      " [ 6 13]]\n",
      "              precision    recall  f1-score   support\n",
      "\n",
      "           0       0.65      0.52      0.58        21\n",
      "           1       0.57      0.68      0.62        19\n",
      "\n",
      "    accuracy                           0.60        40\n",
      "   macro avg       0.61      0.60      0.60        40\n",
      "weighted avg       0.61      0.60      0.60        40\n",
      "\n"
     ]
    }
   ],
   "source": [
    "## Performance Matrix on test data set\n",
    "y_test_predict = m_3.predict(X_test[['read','write','math','science','socst']])\n",
    "model_score = m_3.score(X_test[['read','write','math','science','socst']], y_test)                    ## Accuracy\n",
    "print(model_score)\n",
    "print(metrics.confusion_matrix(y_test, y_test_predict))         ## confusion_matrix\n",
    "print(metrics.classification_report(y_test, y_test_predict))    ## classification_report"
   ]
  },
  {
   "cell_type": "markdown",
   "metadata": {},
   "source": [
    "### KNN Model"
   ]
  },
  {
   "cell_type": "code",
   "execution_count": 56,
   "metadata": {
    "ExecuteTime": {
     "end_time": "2021-10-21T13:47:51.145955Z",
     "start_time": "2021-10-21T13:47:50.946490Z"
    }
   },
   "outputs": [],
   "source": [
    "from sklearn.neighbors import KNeighborsClassifier"
   ]
  },
  {
   "cell_type": "code",
   "execution_count": 57,
   "metadata": {
    "ExecuteTime": {
     "end_time": "2021-10-21T13:47:51.161576Z",
     "start_time": "2021-10-21T13:47:51.148005Z"
    }
   },
   "outputs": [],
   "source": [
    "KNN = KNeighborsClassifier()"
   ]
  },
  {
   "cell_type": "code",
   "execution_count": 58,
   "metadata": {
    "ExecuteTime": {
     "end_time": "2021-10-21T13:47:51.921825Z",
     "start_time": "2021-10-21T13:47:51.162636Z"
    }
   },
   "outputs": [
    {
     "data": {
      "text/plain": [
       "GridSearchCV(cv=LeaveOneOut(), estimator=KNeighborsClassifier(), n_jobs=-1,\n",
       "             param_grid={'n_neighbors': [2, 5, 8, 10]})"
      ]
     },
     "execution_count": 58,
     "metadata": {},
     "output_type": "execute_result"
    }
   ],
   "source": [
    "param_grid_KNN = {'n_neighbors':[2,5,8,10]}\n",
    "\n",
    "KNN_tune_us = GridSearchCV(estimator=KNN,\n",
    "                          param_grid=param_grid_KNN,\n",
    "                          cv=LeaveOneOut(),\n",
    "                          n_jobs=-1)\n",
    "KNN_tune_us.fit(X_train,y_train)"
   ]
  },
  {
   "cell_type": "code",
   "execution_count": 59,
   "metadata": {
    "ExecuteTime": {
     "end_time": "2021-10-21T13:47:51.937263Z",
     "start_time": "2021-10-21T13:47:51.922831Z"
    }
   },
   "outputs": [
    {
     "data": {
      "text/plain": [
       "{'n_neighbors': 10}"
      ]
     },
     "execution_count": 59,
     "metadata": {},
     "output_type": "execute_result"
    }
   ],
   "source": [
    "KNN_tune_us.best_params_"
   ]
  },
  {
   "cell_type": "code",
   "execution_count": 60,
   "metadata": {
    "ExecuteTime": {
     "end_time": "2021-10-21T13:47:51.968578Z",
     "start_time": "2021-10-21T13:47:51.941078Z"
    }
   },
   "outputs": [
    {
     "name": "stdout",
     "output_type": "stream",
     "text": [
      "0.75625\n",
      "0.55\n"
     ]
    }
   ],
   "source": [
    "print(KNN_tune_us.best_estimator_.score(X_train,y_train))\n",
    "print(KNN_tune_us.best_estimator_.score(X_test,y_test))"
   ]
  },
  {
   "cell_type": "code",
   "execution_count": 61,
   "metadata": {
    "ExecuteTime": {
     "end_time": "2021-10-21T13:47:52.000554Z",
     "start_time": "2021-10-21T13:47:51.972575Z"
    }
   },
   "outputs": [
    {
     "name": "stdout",
     "output_type": "stream",
     "text": [
      "              precision    recall  f1-score   support\n",
      "\n",
      "           0       0.58      0.52      0.55        21\n",
      "           1       0.52      0.58      0.55        19\n",
      "\n",
      "    accuracy                           0.55        40\n",
      "   macro avg       0.55      0.55      0.55        40\n",
      "weighted avg       0.55      0.55      0.55        40\n",
      "\n"
     ]
    }
   ],
   "source": [
    "print(metrics.classification_report(y_true=y_test,y_pred=KNN_tune_us.best_estimator_.predict(X_test)))"
   ]
  },
  {
   "cell_type": "code",
   "execution_count": 62,
   "metadata": {
    "ExecuteTime": {
     "end_time": "2021-10-21T13:47:52.015855Z",
     "start_time": "2021-10-21T13:47:52.004186Z"
    }
   },
   "outputs": [],
   "source": [
    "from sklearn.preprocessing import StandardScaler\n",
    "SC = StandardScaler()"
   ]
  },
  {
   "cell_type": "code",
   "execution_count": 63,
   "metadata": {
    "ExecuteTime": {
     "end_time": "2021-10-21T13:47:52.046469Z",
     "start_time": "2021-10-21T13:47:52.019390Z"
    }
   },
   "outputs": [
    {
     "data": {
      "text/html": [
       "<div>\n",
       "<style scoped>\n",
       "    .dataframe tbody tr th:only-of-type {\n",
       "        vertical-align: middle;\n",
       "    }\n",
       "\n",
       "    .dataframe tbody tr th {\n",
       "        vertical-align: top;\n",
       "    }\n",
       "\n",
       "    .dataframe thead th {\n",
       "        text-align: right;\n",
       "    }\n",
       "</style>\n",
       "<table border=\"1\" class=\"dataframe\">\n",
       "  <thead>\n",
       "    <tr style=\"text-align: right;\">\n",
       "      <th></th>\n",
       "      <th>female</th>\n",
       "      <th>ses</th>\n",
       "      <th>schtyp</th>\n",
       "      <th>read</th>\n",
       "      <th>write</th>\n",
       "      <th>math</th>\n",
       "      <th>science</th>\n",
       "      <th>socst</th>\n",
       "      <th>honors</th>\n",
       "      <th>awards</th>\n",
       "    </tr>\n",
       "  </thead>\n",
       "  <tbody>\n",
       "    <tr>\n",
       "      <th>0</th>\n",
       "      <td>0</td>\n",
       "      <td>1</td>\n",
       "      <td>1</td>\n",
       "      <td>34</td>\n",
       "      <td>35</td>\n",
       "      <td>41</td>\n",
       "      <td>29</td>\n",
       "      <td>26</td>\n",
       "      <td>1</td>\n",
       "      <td>0</td>\n",
       "    </tr>\n",
       "    <tr>\n",
       "      <th>1</th>\n",
       "      <td>1</td>\n",
       "      <td>2</td>\n",
       "      <td>1</td>\n",
       "      <td>34</td>\n",
       "      <td>33</td>\n",
       "      <td>41</td>\n",
       "      <td>36</td>\n",
       "      <td>36</td>\n",
       "      <td>1</td>\n",
       "      <td>0</td>\n",
       "    </tr>\n",
       "    <tr>\n",
       "      <th>2</th>\n",
       "      <td>1</td>\n",
       "      <td>0</td>\n",
       "      <td>1</td>\n",
       "      <td>39</td>\n",
       "      <td>39</td>\n",
       "      <td>44</td>\n",
       "      <td>26</td>\n",
       "      <td>42</td>\n",
       "      <td>1</td>\n",
       "      <td>0</td>\n",
       "    </tr>\n",
       "    <tr>\n",
       "      <th>3</th>\n",
       "      <td>1</td>\n",
       "      <td>1</td>\n",
       "      <td>1</td>\n",
       "      <td>37</td>\n",
       "      <td>37</td>\n",
       "      <td>42</td>\n",
       "      <td>33</td>\n",
       "      <td>32</td>\n",
       "      <td>1</td>\n",
       "      <td>0</td>\n",
       "    </tr>\n",
       "    <tr>\n",
       "      <th>4</th>\n",
       "      <td>1</td>\n",
       "      <td>2</td>\n",
       "      <td>1</td>\n",
       "      <td>39</td>\n",
       "      <td>31</td>\n",
       "      <td>40</td>\n",
       "      <td>39</td>\n",
       "      <td>51</td>\n",
       "      <td>1</td>\n",
       "      <td>0</td>\n",
       "    </tr>\n",
       "  </tbody>\n",
       "</table>\n",
       "</div>"
      ],
      "text/plain": [
       "   female  ses  schtyp  read  write  math  science  socst  honors  awards\n",
       "0       0    1       1    34     35    41       29     26       1       0\n",
       "1       1    2       1    34     33    41       36     36       1       0\n",
       "2       1    0       1    39     39    44       26     42       1       0\n",
       "3       1    1       1    37     37    42       33     32       1       0\n",
       "4       1    2       1    39     31    40       39     51       1       0"
      ]
     },
     "execution_count": 63,
     "metadata": {},
     "output_type": "execute_result"
    }
   ],
   "source": [
    "X.head()"
   ]
  },
  {
   "cell_type": "code",
   "execution_count": 64,
   "metadata": {
    "ExecuteTime": {
     "end_time": "2021-10-21T13:47:52.093573Z",
     "start_time": "2021-10-21T13:47:52.048424Z"
    },
    "scrolled": true
   },
   "outputs": [
    {
     "name": "stderr",
     "output_type": "stream",
     "text": [
      "C:\\Users\\SHREYA~1\\AppData\\Local\\Temp/ipykernel_15356/2636788461.py:1: SettingWithCopyWarning: \n",
      "A value is trying to be set on a copy of a slice from a DataFrame.\n",
      "Try using .loc[row_indexer,col_indexer] = value instead\n",
      "\n",
      "See the caveats in the documentation: https://pandas.pydata.org/pandas-docs/stable/user_guide/indexing.html#returning-a-view-versus-a-copy\n",
      "  X_train['read'] = SC.fit_transform(X_train[['read']])\n",
      "C:\\Users\\SHREYA~1\\AppData\\Local\\Temp/ipykernel_15356/2636788461.py:2: SettingWithCopyWarning: \n",
      "A value is trying to be set on a copy of a slice from a DataFrame.\n",
      "Try using .loc[row_indexer,col_indexer] = value instead\n",
      "\n",
      "See the caveats in the documentation: https://pandas.pydata.org/pandas-docs/stable/user_guide/indexing.html#returning-a-view-versus-a-copy\n",
      "  X_train['write'] = SC.fit_transform(X_train[['write']])\n",
      "C:\\Users\\SHREYA~1\\AppData\\Local\\Temp/ipykernel_15356/2636788461.py:3: SettingWithCopyWarning: \n",
      "A value is trying to be set on a copy of a slice from a DataFrame.\n",
      "Try using .loc[row_indexer,col_indexer] = value instead\n",
      "\n",
      "See the caveats in the documentation: https://pandas.pydata.org/pandas-docs/stable/user_guide/indexing.html#returning-a-view-versus-a-copy\n",
      "  X_train['math'] = SC.fit_transform(X_train[['math']])\n",
      "C:\\Users\\SHREYA~1\\AppData\\Local\\Temp/ipykernel_15356/2636788461.py:4: SettingWithCopyWarning: \n",
      "A value is trying to be set on a copy of a slice from a DataFrame.\n",
      "Try using .loc[row_indexer,col_indexer] = value instead\n",
      "\n",
      "See the caveats in the documentation: https://pandas.pydata.org/pandas-docs/stable/user_guide/indexing.html#returning-a-view-versus-a-copy\n",
      "  X_train['science'] = SC.fit_transform(X_train[['science']])\n",
      "C:\\Users\\SHREYA~1\\AppData\\Local\\Temp/ipykernel_15356/2636788461.py:5: SettingWithCopyWarning: \n",
      "A value is trying to be set on a copy of a slice from a DataFrame.\n",
      "Try using .loc[row_indexer,col_indexer] = value instead\n",
      "\n",
      "See the caveats in the documentation: https://pandas.pydata.org/pandas-docs/stable/user_guide/indexing.html#returning-a-view-versus-a-copy\n",
      "  X_train['socst'] = SC.fit_transform(X_train[['socst']])\n"
     ]
    }
   ],
   "source": [
    "X_train['read'] = SC.fit_transform(X_train[['read']])\n",
    "X_train['write'] = SC.fit_transform(X_train[['write']])\n",
    "X_train['math'] = SC.fit_transform(X_train[['math']])\n",
    "X_train['science'] = SC.fit_transform(X_train[['science']])\n",
    "X_train['socst'] = SC.fit_transform(X_train[['socst']])"
   ]
  },
  {
   "cell_type": "code",
   "execution_count": 65,
   "metadata": {
    "ExecuteTime": {
     "end_time": "2021-10-21T13:47:52.140555Z",
     "start_time": "2021-10-21T13:47:52.095683Z"
    },
    "scrolled": true
   },
   "outputs": [
    {
     "name": "stderr",
     "output_type": "stream",
     "text": [
      "C:\\Users\\SHREYA~1\\AppData\\Local\\Temp/ipykernel_15356/3809237991.py:1: SettingWithCopyWarning: \n",
      "A value is trying to be set on a copy of a slice from a DataFrame.\n",
      "Try using .loc[row_indexer,col_indexer] = value instead\n",
      "\n",
      "See the caveats in the documentation: https://pandas.pydata.org/pandas-docs/stable/user_guide/indexing.html#returning-a-view-versus-a-copy\n",
      "  X_test['read'] = SC.fit_transform(X_test[['read']])\n",
      "C:\\Users\\SHREYA~1\\AppData\\Local\\Temp/ipykernel_15356/3809237991.py:2: SettingWithCopyWarning: \n",
      "A value is trying to be set on a copy of a slice from a DataFrame.\n",
      "Try using .loc[row_indexer,col_indexer] = value instead\n",
      "\n",
      "See the caveats in the documentation: https://pandas.pydata.org/pandas-docs/stable/user_guide/indexing.html#returning-a-view-versus-a-copy\n",
      "  X_test['write'] = SC.fit_transform(X_test[['write']])\n",
      "C:\\Users\\SHREYA~1\\AppData\\Local\\Temp/ipykernel_15356/3809237991.py:3: SettingWithCopyWarning: \n",
      "A value is trying to be set on a copy of a slice from a DataFrame.\n",
      "Try using .loc[row_indexer,col_indexer] = value instead\n",
      "\n",
      "See the caveats in the documentation: https://pandas.pydata.org/pandas-docs/stable/user_guide/indexing.html#returning-a-view-versus-a-copy\n",
      "  X_test['math'] = SC.fit_transform(X_test[['math']])\n",
      "C:\\Users\\SHREYA~1\\AppData\\Local\\Temp/ipykernel_15356/3809237991.py:4: SettingWithCopyWarning: \n",
      "A value is trying to be set on a copy of a slice from a DataFrame.\n",
      "Try using .loc[row_indexer,col_indexer] = value instead\n",
      "\n",
      "See the caveats in the documentation: https://pandas.pydata.org/pandas-docs/stable/user_guide/indexing.html#returning-a-view-versus-a-copy\n",
      "  X_test['science'] = SC.fit_transform(X_test[['science']])\n",
      "C:\\Users\\SHREYA~1\\AppData\\Local\\Temp/ipykernel_15356/3809237991.py:5: SettingWithCopyWarning: \n",
      "A value is trying to be set on a copy of a slice from a DataFrame.\n",
      "Try using .loc[row_indexer,col_indexer] = value instead\n",
      "\n",
      "See the caveats in the documentation: https://pandas.pydata.org/pandas-docs/stable/user_guide/indexing.html#returning-a-view-versus-a-copy\n",
      "  X_test['socst'] = SC.fit_transform(X_test[['socst']])\n"
     ]
    }
   ],
   "source": [
    "X_test['read'] = SC.fit_transform(X_test[['read']])\n",
    "X_test['write'] = SC.fit_transform(X_test[['write']])\n",
    "X_test['math'] = SC.fit_transform(X_test[['math']])\n",
    "X_test['science'] = SC.fit_transform(X_test[['science']])\n",
    "X_test['socst'] = SC.fit_transform(X_test[['socst']])"
   ]
  },
  {
   "cell_type": "code",
   "execution_count": 66,
   "metadata": {
    "ExecuteTime": {
     "end_time": "2021-10-21T13:47:52.155588Z",
     "start_time": "2021-10-21T13:47:52.142555Z"
    }
   },
   "outputs": [],
   "source": [
    "from IPython.display import display"
   ]
  },
  {
   "cell_type": "code",
   "execution_count": 67,
   "metadata": {
    "ExecuteTime": {
     "end_time": "2021-10-21T13:47:52.216830Z",
     "start_time": "2021-10-21T13:47:52.164634Z"
    },
    "scrolled": true
   },
   "outputs": [
    {
     "data": {
      "text/html": [
       "<div>\n",
       "<style scoped>\n",
       "    .dataframe tbody tr th:only-of-type {\n",
       "        vertical-align: middle;\n",
       "    }\n",
       "\n",
       "    .dataframe tbody tr th {\n",
       "        vertical-align: top;\n",
       "    }\n",
       "\n",
       "    .dataframe thead th {\n",
       "        text-align: right;\n",
       "    }\n",
       "</style>\n",
       "<table border=\"1\" class=\"dataframe\">\n",
       "  <thead>\n",
       "    <tr style=\"text-align: right;\">\n",
       "      <th></th>\n",
       "      <th>female</th>\n",
       "      <th>ses</th>\n",
       "      <th>schtyp</th>\n",
       "      <th>read</th>\n",
       "      <th>write</th>\n",
       "      <th>math</th>\n",
       "      <th>science</th>\n",
       "      <th>socst</th>\n",
       "      <th>honors</th>\n",
       "      <th>awards</th>\n",
       "    </tr>\n",
       "  </thead>\n",
       "  <tbody>\n",
       "    <tr>\n",
       "      <th>97</th>\n",
       "      <td>0</td>\n",
       "      <td>2</td>\n",
       "      <td>0</td>\n",
       "      <td>-0.244895</td>\n",
       "      <td>-0.137074</td>\n",
       "      <td>-0.030196</td>\n",
       "      <td>0.258629</td>\n",
       "      <td>0.292597</td>\n",
       "      <td>1</td>\n",
       "      <td>1</td>\n",
       "    </tr>\n",
       "    <tr>\n",
       "      <th>13</th>\n",
       "      <td>0</td>\n",
       "      <td>2</td>\n",
       "      <td>1</td>\n",
       "      <td>-1.589419</td>\n",
       "      <td>-0.976567</td>\n",
       "      <td>-1.710641</td>\n",
       "      <td>-1.028328</td>\n",
       "      <td>-1.106275</td>\n",
       "      <td>1</td>\n",
       "      <td>0</td>\n",
       "    </tr>\n",
       "    <tr>\n",
       "      <th>4</th>\n",
       "      <td>1</td>\n",
       "      <td>2</td>\n",
       "      <td>1</td>\n",
       "      <td>-1.301306</td>\n",
       "      <td>-2.340744</td>\n",
       "      <td>-1.395558</td>\n",
       "      <td>-1.325317</td>\n",
       "      <td>-0.173693</td>\n",
       "      <td>1</td>\n",
       "      <td>0</td>\n",
       "    </tr>\n",
       "    <tr>\n",
       "      <th>46</th>\n",
       "      <td>0</td>\n",
       "      <td>2</td>\n",
       "      <td>1</td>\n",
       "      <td>-0.533007</td>\n",
       "      <td>-0.766694</td>\n",
       "      <td>-1.500585</td>\n",
       "      <td>-0.533344</td>\n",
       "      <td>0.758888</td>\n",
       "      <td>1</td>\n",
       "      <td>0</td>\n",
       "    </tr>\n",
       "    <tr>\n",
       "      <th>17</th>\n",
       "      <td>0</td>\n",
       "      <td>2</td>\n",
       "      <td>1</td>\n",
       "      <td>-1.013194</td>\n",
       "      <td>-0.766694</td>\n",
       "      <td>-1.605613</td>\n",
       "      <td>-1.622307</td>\n",
       "      <td>-0.639984</td>\n",
       "      <td>1</td>\n",
       "      <td>0</td>\n",
       "    </tr>\n",
       "    <tr>\n",
       "      <th>...</th>\n",
       "      <td>...</td>\n",
       "      <td>...</td>\n",
       "      <td>...</td>\n",
       "      <td>...</td>\n",
       "      <td>...</td>\n",
       "      <td>...</td>\n",
       "      <td>...</td>\n",
       "      <td>...</td>\n",
       "      <td>...</td>\n",
       "      <td>...</td>\n",
       "    </tr>\n",
       "    <tr>\n",
       "      <th>169</th>\n",
       "      <td>1</td>\n",
       "      <td>0</td>\n",
       "      <td>1</td>\n",
       "      <td>1.483777</td>\n",
       "      <td>0.597483</td>\n",
       "      <td>0.284888</td>\n",
       "      <td>1.050602</td>\n",
       "      <td>1.225179</td>\n",
       "      <td>1</td>\n",
       "      <td>2</td>\n",
       "    </tr>\n",
       "    <tr>\n",
       "      <th>90</th>\n",
       "      <td>0</td>\n",
       "      <td>0</td>\n",
       "      <td>1</td>\n",
       "      <td>-0.244895</td>\n",
       "      <td>-0.137074</td>\n",
       "      <td>-0.870418</td>\n",
       "      <td>0.555619</td>\n",
       "      <td>-1.572566</td>\n",
       "      <td>1</td>\n",
       "      <td>1</td>\n",
       "    </tr>\n",
       "    <tr>\n",
       "      <th>136</th>\n",
       "      <td>1</td>\n",
       "      <td>2</td>\n",
       "      <td>1</td>\n",
       "      <td>0.715478</td>\n",
       "      <td>0.072800</td>\n",
       "      <td>0.704999</td>\n",
       "      <td>0.258629</td>\n",
       "      <td>1.225179</td>\n",
       "      <td>1</td>\n",
       "      <td>1</td>\n",
       "    </tr>\n",
       "    <tr>\n",
       "      <th>138</th>\n",
       "      <td>1</td>\n",
       "      <td>1</td>\n",
       "      <td>1</td>\n",
       "      <td>1.003591</td>\n",
       "      <td>-1.081504</td>\n",
       "      <td>0.599972</td>\n",
       "      <td>1.248595</td>\n",
       "      <td>-0.826500</td>\n",
       "      <td>1</td>\n",
       "      <td>0</td>\n",
       "    </tr>\n",
       "    <tr>\n",
       "      <th>24</th>\n",
       "      <td>0</td>\n",
       "      <td>1</td>\n",
       "      <td>1</td>\n",
       "      <td>-0.533007</td>\n",
       "      <td>-1.711124</td>\n",
       "      <td>-1.080474</td>\n",
       "      <td>-1.028328</td>\n",
       "      <td>-0.639984</td>\n",
       "      <td>1</td>\n",
       "      <td>0</td>\n",
       "    </tr>\n",
       "  </tbody>\n",
       "</table>\n",
       "<p>160 rows × 10 columns</p>\n",
       "</div>"
      ],
      "text/plain": [
       "     female  ses  schtyp      read     write      math   science     socst  \\\n",
       "97        0    2       0 -0.244895 -0.137074 -0.030196  0.258629  0.292597   \n",
       "13        0    2       1 -1.589419 -0.976567 -1.710641 -1.028328 -1.106275   \n",
       "4         1    2       1 -1.301306 -2.340744 -1.395558 -1.325317 -0.173693   \n",
       "46        0    2       1 -0.533007 -0.766694 -1.500585 -0.533344  0.758888   \n",
       "17        0    2       1 -1.013194 -0.766694 -1.605613 -1.622307 -0.639984   \n",
       "..      ...  ...     ...       ...       ...       ...       ...       ...   \n",
       "169       1    0       1  1.483777  0.597483  0.284888  1.050602  1.225179   \n",
       "90        0    0       1 -0.244895 -0.137074 -0.870418  0.555619 -1.572566   \n",
       "136       1    2       1  0.715478  0.072800  0.704999  0.258629  1.225179   \n",
       "138       1    1       1  1.003591 -1.081504  0.599972  1.248595 -0.826500   \n",
       "24        0    1       1 -0.533007 -1.711124 -1.080474 -1.028328 -0.639984   \n",
       "\n",
       "     honors  awards  \n",
       "97        1       1  \n",
       "13        1       0  \n",
       "4         1       0  \n",
       "46        1       0  \n",
       "17        1       0  \n",
       "..      ...     ...  \n",
       "169       1       2  \n",
       "90        1       1  \n",
       "136       1       1  \n",
       "138       1       0  \n",
       "24        1       0  \n",
       "\n",
       "[160 rows x 10 columns]"
      ]
     },
     "metadata": {},
     "output_type": "display_data"
    },
    {
     "data": {
      "text/html": [
       "<div>\n",
       "<style scoped>\n",
       "    .dataframe tbody tr th:only-of-type {\n",
       "        vertical-align: middle;\n",
       "    }\n",
       "\n",
       "    .dataframe tbody tr th {\n",
       "        vertical-align: top;\n",
       "    }\n",
       "\n",
       "    .dataframe thead th {\n",
       "        text-align: right;\n",
       "    }\n",
       "</style>\n",
       "<table border=\"1\" class=\"dataframe\">\n",
       "  <thead>\n",
       "    <tr style=\"text-align: right;\">\n",
       "      <th></th>\n",
       "      <th>female</th>\n",
       "      <th>ses</th>\n",
       "      <th>schtyp</th>\n",
       "      <th>read</th>\n",
       "      <th>write</th>\n",
       "      <th>math</th>\n",
       "      <th>science</th>\n",
       "      <th>socst</th>\n",
       "      <th>honors</th>\n",
       "      <th>awards</th>\n",
       "    </tr>\n",
       "  </thead>\n",
       "  <tbody>\n",
       "    <tr>\n",
       "      <th>170</th>\n",
       "      <td>1</td>\n",
       "      <td>1</td>\n",
       "      <td>1</td>\n",
       "      <td>0.433589</td>\n",
       "      <td>0.944982</td>\n",
       "      <td>1.593744</td>\n",
       "      <td>2.247227</td>\n",
       "      <td>-0.437615</td>\n",
       "      <td>1</td>\n",
       "      <td>2</td>\n",
       "    </tr>\n",
       "    <tr>\n",
       "      <th>112</th>\n",
       "      <td>0</td>\n",
       "      <td>2</td>\n",
       "      <td>1</td>\n",
       "      <td>0.433589</td>\n",
       "      <td>0.379125</td>\n",
       "      <td>1.963666</td>\n",
       "      <td>-0.896562</td>\n",
       "      <td>0.518921</td>\n",
       "      <td>1</td>\n",
       "      <td>1</td>\n",
       "    </tr>\n",
       "    <tr>\n",
       "      <th>29</th>\n",
       "      <td>0</td>\n",
       "      <td>1</td>\n",
       "      <td>1</td>\n",
       "      <td>-0.744061</td>\n",
       "      <td>-0.073561</td>\n",
       "      <td>-1.119012</td>\n",
       "      <td>-1.245872</td>\n",
       "      <td>0.040653</td>\n",
       "      <td>1</td>\n",
       "      <td>1</td>\n",
       "    </tr>\n",
       "    <tr>\n",
       "      <th>39</th>\n",
       "      <td>1</td>\n",
       "      <td>2</td>\n",
       "      <td>0</td>\n",
       "      <td>-0.422883</td>\n",
       "      <td>-0.413076</td>\n",
       "      <td>-1.119012</td>\n",
       "      <td>-0.896562</td>\n",
       "      <td>0.040653</td>\n",
       "      <td>1</td>\n",
       "      <td>0</td>\n",
       "    </tr>\n",
       "    <tr>\n",
       "      <th>115</th>\n",
       "      <td>1</td>\n",
       "      <td>2</td>\n",
       "      <td>0</td>\n",
       "      <td>-0.422883</td>\n",
       "      <td>0.718639</td>\n",
       "      <td>0.853902</td>\n",
       "      <td>0.966424</td>\n",
       "      <td>-0.437615</td>\n",
       "      <td>1</td>\n",
       "      <td>2</td>\n",
       "    </tr>\n",
       "    <tr>\n",
       "      <th>85</th>\n",
       "      <td>0</td>\n",
       "      <td>1</td>\n",
       "      <td>1</td>\n",
       "      <td>-0.101706</td>\n",
       "      <td>-0.526247</td>\n",
       "      <td>0.360673</td>\n",
       "      <td>0.384241</td>\n",
       "      <td>1.475456</td>\n",
       "      <td>1</td>\n",
       "      <td>0</td>\n",
       "    </tr>\n",
       "    <tr>\n",
       "      <th>44</th>\n",
       "      <td>0</td>\n",
       "      <td>1</td>\n",
       "      <td>1</td>\n",
       "      <td>-1.279356</td>\n",
       "      <td>-0.752590</td>\n",
       "      <td>0.237366</td>\n",
       "      <td>-0.663689</td>\n",
       "      <td>-0.246308</td>\n",
       "      <td>1</td>\n",
       "      <td>0</td>\n",
       "    </tr>\n",
       "    <tr>\n",
       "      <th>7</th>\n",
       "      <td>1</td>\n",
       "      <td>2</td>\n",
       "      <td>1</td>\n",
       "      <td>-0.101706</td>\n",
       "      <td>-2.223820</td>\n",
       "      <td>-1.242319</td>\n",
       "      <td>-1.828055</td>\n",
       "      <td>-1.872418</td>\n",
       "      <td>1</td>\n",
       "      <td>0</td>\n",
       "    </tr>\n",
       "    <tr>\n",
       "      <th>54</th>\n",
       "      <td>0</td>\n",
       "      <td>2</td>\n",
       "      <td>0</td>\n",
       "      <td>-0.744061</td>\n",
       "      <td>0.152782</td>\n",
       "      <td>-0.872398</td>\n",
       "      <td>-0.663689</td>\n",
       "      <td>0.040653</td>\n",
       "      <td>1</td>\n",
       "      <td>1</td>\n",
       "    </tr>\n",
       "    <tr>\n",
       "      <th>177</th>\n",
       "      <td>0</td>\n",
       "      <td>1</td>\n",
       "      <td>1</td>\n",
       "      <td>1.504180</td>\n",
       "      <td>1.624011</td>\n",
       "      <td>1.717052</td>\n",
       "      <td>0.966424</td>\n",
       "      <td>1.953724</td>\n",
       "      <td>0</td>\n",
       "      <td>5</td>\n",
       "    </tr>\n",
       "    <tr>\n",
       "      <th>99</th>\n",
       "      <td>0</td>\n",
       "      <td>2</td>\n",
       "      <td>0</td>\n",
       "      <td>0.647707</td>\n",
       "      <td>-1.092105</td>\n",
       "      <td>0.853902</td>\n",
       "      <td>0.617114</td>\n",
       "      <td>0.136306</td>\n",
       "      <td>1</td>\n",
       "      <td>0</td>\n",
       "    </tr>\n",
       "    <tr>\n",
       "      <th>61</th>\n",
       "      <td>1</td>\n",
       "      <td>2</td>\n",
       "      <td>1</td>\n",
       "      <td>-0.101706</td>\n",
       "      <td>-1.205276</td>\n",
       "      <td>-0.625784</td>\n",
       "      <td>0.617114</td>\n",
       "      <td>0.518921</td>\n",
       "      <td>1</td>\n",
       "      <td>0</td>\n",
       "    </tr>\n",
       "    <tr>\n",
       "      <th>93</th>\n",
       "      <td>0</td>\n",
       "      <td>2</td>\n",
       "      <td>1</td>\n",
       "      <td>0.647707</td>\n",
       "      <td>-0.073561</td>\n",
       "      <td>-0.009248</td>\n",
       "      <td>0.151368</td>\n",
       "      <td>0.710228</td>\n",
       "      <td>1</td>\n",
       "      <td>1</td>\n",
       "    </tr>\n",
       "    <tr>\n",
       "      <th>27</th>\n",
       "      <td>1</td>\n",
       "      <td>2</td>\n",
       "      <td>1</td>\n",
       "      <td>-0.744061</td>\n",
       "      <td>-0.752590</td>\n",
       "      <td>-0.502477</td>\n",
       "      <td>-1.245872</td>\n",
       "      <td>0.040653</td>\n",
       "      <td>1</td>\n",
       "      <td>0</td>\n",
       "    </tr>\n",
       "    <tr>\n",
       "      <th>127</th>\n",
       "      <td>0</td>\n",
       "      <td>2</td>\n",
       "      <td>1</td>\n",
       "      <td>0.112412</td>\n",
       "      <td>0.944982</td>\n",
       "      <td>0.360673</td>\n",
       "      <td>1.315734</td>\n",
       "      <td>0.040653</td>\n",
       "      <td>1</td>\n",
       "      <td>2</td>\n",
       "    </tr>\n",
       "    <tr>\n",
       "      <th>65</th>\n",
       "      <td>0</td>\n",
       "      <td>2</td>\n",
       "      <td>1</td>\n",
       "      <td>-0.422883</td>\n",
       "      <td>-0.526247</td>\n",
       "      <td>0.237366</td>\n",
       "      <td>-0.197942</td>\n",
       "      <td>-0.437615</td>\n",
       "      <td>1</td>\n",
       "      <td>0</td>\n",
       "    </tr>\n",
       "    <tr>\n",
       "      <th>30</th>\n",
       "      <td>0</td>\n",
       "      <td>2</td>\n",
       "      <td>1</td>\n",
       "      <td>-0.422883</td>\n",
       "      <td>-0.752590</td>\n",
       "      <td>-0.995705</td>\n",
       "      <td>-0.896562</td>\n",
       "      <td>-1.394150</td>\n",
       "      <td>1</td>\n",
       "      <td>0</td>\n",
       "    </tr>\n",
       "    <tr>\n",
       "      <th>107</th>\n",
       "      <td>0</td>\n",
       "      <td>2</td>\n",
       "      <td>1</td>\n",
       "      <td>0.112412</td>\n",
       "      <td>0.379125</td>\n",
       "      <td>0.607288</td>\n",
       "      <td>0.384241</td>\n",
       "      <td>0.040653</td>\n",
       "      <td>1</td>\n",
       "      <td>1</td>\n",
       "    </tr>\n",
       "    <tr>\n",
       "      <th>51</th>\n",
       "      <td>1</td>\n",
       "      <td>2</td>\n",
       "      <td>1</td>\n",
       "      <td>0.433589</td>\n",
       "      <td>-1.092105</td>\n",
       "      <td>-1.242319</td>\n",
       "      <td>-0.663689</td>\n",
       "      <td>-0.915883</td>\n",
       "      <td>1</td>\n",
       "      <td>0</td>\n",
       "    </tr>\n",
       "    <tr>\n",
       "      <th>157</th>\n",
       "      <td>0</td>\n",
       "      <td>0</td>\n",
       "      <td>1</td>\n",
       "      <td>0.968885</td>\n",
       "      <td>1.284496</td>\n",
       "      <td>2.086973</td>\n",
       "      <td>0.034931</td>\n",
       "      <td>0.518921</td>\n",
       "      <td>0</td>\n",
       "      <td>3</td>\n",
       "    </tr>\n",
       "    <tr>\n",
       "      <th>146</th>\n",
       "      <td>0</td>\n",
       "      <td>2</td>\n",
       "      <td>1</td>\n",
       "      <td>0.647707</td>\n",
       "      <td>1.284496</td>\n",
       "      <td>0.730595</td>\n",
       "      <td>0.966424</td>\n",
       "      <td>1.475456</td>\n",
       "      <td>0</td>\n",
       "      <td>3</td>\n",
       "    </tr>\n",
       "    <tr>\n",
       "      <th>86</th>\n",
       "      <td>0</td>\n",
       "      <td>2</td>\n",
       "      <td>1</td>\n",
       "      <td>-0.422883</td>\n",
       "      <td>0.379125</td>\n",
       "      <td>-0.132555</td>\n",
       "      <td>0.384241</td>\n",
       "      <td>0.997188</td>\n",
       "      <td>1</td>\n",
       "      <td>1</td>\n",
       "    </tr>\n",
       "    <tr>\n",
       "      <th>45</th>\n",
       "      <td>0</td>\n",
       "      <td>1</td>\n",
       "      <td>1</td>\n",
       "      <td>-0.958179</td>\n",
       "      <td>0.379125</td>\n",
       "      <td>-1.119012</td>\n",
       "      <td>-0.896562</td>\n",
       "      <td>-0.915883</td>\n",
       "      <td>1</td>\n",
       "      <td>1</td>\n",
       "    </tr>\n",
       "    <tr>\n",
       "      <th>120</th>\n",
       "      <td>0</td>\n",
       "      <td>1</td>\n",
       "      <td>1</td>\n",
       "      <td>0.647707</td>\n",
       "      <td>1.058153</td>\n",
       "      <td>0.114059</td>\n",
       "      <td>0.384241</td>\n",
       "      <td>-1.298497</td>\n",
       "      <td>0</td>\n",
       "      <td>2</td>\n",
       "    </tr>\n",
       "    <tr>\n",
       "      <th>164</th>\n",
       "      <td>0</td>\n",
       "      <td>2</td>\n",
       "      <td>1</td>\n",
       "      <td>1.825357</td>\n",
       "      <td>0.944982</td>\n",
       "      <td>1.347130</td>\n",
       "      <td>0.617114</td>\n",
       "      <td>1.953724</td>\n",
       "      <td>1</td>\n",
       "      <td>2</td>\n",
       "    </tr>\n",
       "    <tr>\n",
       "      <th>18</th>\n",
       "      <td>1</td>\n",
       "      <td>2</td>\n",
       "      <td>1</td>\n",
       "      <td>-1.814651</td>\n",
       "      <td>-0.526247</td>\n",
       "      <td>-0.625784</td>\n",
       "      <td>-1.245872</td>\n",
       "      <td>-1.394150</td>\n",
       "      <td>1</td>\n",
       "      <td>0</td>\n",
       "    </tr>\n",
       "    <tr>\n",
       "      <th>171</th>\n",
       "      <td>0</td>\n",
       "      <td>0</td>\n",
       "      <td>0</td>\n",
       "      <td>2.360653</td>\n",
       "      <td>1.171325</td>\n",
       "      <td>0.853902</td>\n",
       "      <td>0.617114</td>\n",
       "      <td>1.475456</td>\n",
       "      <td>0</td>\n",
       "      <td>3</td>\n",
       "    </tr>\n",
       "    <tr>\n",
       "      <th>63</th>\n",
       "      <td>0</td>\n",
       "      <td>2</td>\n",
       "      <td>1</td>\n",
       "      <td>-0.851120</td>\n",
       "      <td>0.718639</td>\n",
       "      <td>-1.242319</td>\n",
       "      <td>0.034931</td>\n",
       "      <td>0.040653</td>\n",
       "      <td>1</td>\n",
       "      <td>2</td>\n",
       "    </tr>\n",
       "    <tr>\n",
       "      <th>22</th>\n",
       "      <td>0</td>\n",
       "      <td>1</td>\n",
       "      <td>1</td>\n",
       "      <td>-1.065238</td>\n",
       "      <td>-0.413076</td>\n",
       "      <td>-1.242319</td>\n",
       "      <td>-1.245872</td>\n",
       "      <td>0.040653</td>\n",
       "      <td>1</td>\n",
       "      <td>0</td>\n",
       "    </tr>\n",
       "    <tr>\n",
       "      <th>67</th>\n",
       "      <td>0</td>\n",
       "      <td>2</td>\n",
       "      <td>0</td>\n",
       "      <td>0.112412</td>\n",
       "      <td>-0.186733</td>\n",
       "      <td>-0.132555</td>\n",
       "      <td>-0.663689</td>\n",
       "      <td>0.997188</td>\n",
       "      <td>1</td>\n",
       "      <td>0</td>\n",
       "    </tr>\n",
       "    <tr>\n",
       "      <th>163</th>\n",
       "      <td>0</td>\n",
       "      <td>0</td>\n",
       "      <td>1</td>\n",
       "      <td>0.968885</td>\n",
       "      <td>0.944982</td>\n",
       "      <td>1.470437</td>\n",
       "      <td>1.315734</td>\n",
       "      <td>0.040653</td>\n",
       "      <td>1</td>\n",
       "      <td>2</td>\n",
       "    </tr>\n",
       "    <tr>\n",
       "      <th>79</th>\n",
       "      <td>1</td>\n",
       "      <td>2</td>\n",
       "      <td>0</td>\n",
       "      <td>-0.101706</td>\n",
       "      <td>-0.526247</td>\n",
       "      <td>-0.625784</td>\n",
       "      <td>0.966424</td>\n",
       "      <td>0.997188</td>\n",
       "      <td>1</td>\n",
       "      <td>0</td>\n",
       "    </tr>\n",
       "    <tr>\n",
       "      <th>165</th>\n",
       "      <td>0</td>\n",
       "      <td>2</td>\n",
       "      <td>1</td>\n",
       "      <td>1.825357</td>\n",
       "      <td>0.944982</td>\n",
       "      <td>0.360673</td>\n",
       "      <td>1.548607</td>\n",
       "      <td>0.997188</td>\n",
       "      <td>1</td>\n",
       "      <td>2</td>\n",
       "    </tr>\n",
       "    <tr>\n",
       "      <th>158</th>\n",
       "      <td>1</td>\n",
       "      <td>1</td>\n",
       "      <td>1</td>\n",
       "      <td>1.290062</td>\n",
       "      <td>1.624011</td>\n",
       "      <td>-0.255862</td>\n",
       "      <td>1.548607</td>\n",
       "      <td>0.518921</td>\n",
       "      <td>0</td>\n",
       "      <td>5</td>\n",
       "    </tr>\n",
       "    <tr>\n",
       "      <th>148</th>\n",
       "      <td>1</td>\n",
       "      <td>2</td>\n",
       "      <td>0</td>\n",
       "      <td>1.290062</td>\n",
       "      <td>0.718639</td>\n",
       "      <td>0.607288</td>\n",
       "      <td>0.966424</td>\n",
       "      <td>-0.915883</td>\n",
       "      <td>1</td>\n",
       "      <td>2</td>\n",
       "    </tr>\n",
       "    <tr>\n",
       "      <th>40</th>\n",
       "      <td>1</td>\n",
       "      <td>2</td>\n",
       "      <td>1</td>\n",
       "      <td>-0.958179</td>\n",
       "      <td>-2.223820</td>\n",
       "      <td>0.853902</td>\n",
       "      <td>-0.314379</td>\n",
       "      <td>0.040653</td>\n",
       "      <td>1</td>\n",
       "      <td>0</td>\n",
       "    </tr>\n",
       "    <tr>\n",
       "      <th>42</th>\n",
       "      <td>0</td>\n",
       "      <td>1</td>\n",
       "      <td>1</td>\n",
       "      <td>-0.637002</td>\n",
       "      <td>0.492296</td>\n",
       "      <td>-0.749091</td>\n",
       "      <td>-1.828055</td>\n",
       "      <td>-0.915883</td>\n",
       "      <td>1</td>\n",
       "      <td>2</td>\n",
       "    </tr>\n",
       "    <tr>\n",
       "      <th>14</th>\n",
       "      <td>0</td>\n",
       "      <td>1</td>\n",
       "      <td>1</td>\n",
       "      <td>-1.707592</td>\n",
       "      <td>-1.771134</td>\n",
       "      <td>-1.242319</td>\n",
       "      <td>0.151368</td>\n",
       "      <td>-1.681111</td>\n",
       "      <td>1</td>\n",
       "      <td>0</td>\n",
       "    </tr>\n",
       "    <tr>\n",
       "      <th>32</th>\n",
       "      <td>1</td>\n",
       "      <td>1</td>\n",
       "      <td>1</td>\n",
       "      <td>-0.422883</td>\n",
       "      <td>-1.205276</td>\n",
       "      <td>-0.872398</td>\n",
       "      <td>-0.547252</td>\n",
       "      <td>-1.872418</td>\n",
       "      <td>1</td>\n",
       "      <td>0</td>\n",
       "    </tr>\n",
       "    <tr>\n",
       "      <th>10</th>\n",
       "      <td>0</td>\n",
       "      <td>1</td>\n",
       "      <td>1</td>\n",
       "      <td>-1.814651</td>\n",
       "      <td>-0.752590</td>\n",
       "      <td>-1.242319</td>\n",
       "      <td>-1.245872</td>\n",
       "      <td>-0.915883</td>\n",
       "      <td>1</td>\n",
       "      <td>0</td>\n",
       "    </tr>\n",
       "  </tbody>\n",
       "</table>\n",
       "</div>"
      ],
      "text/plain": [
       "     female  ses  schtyp      read     write      math   science     socst  \\\n",
       "170       1    1       1  0.433589  0.944982  1.593744  2.247227 -0.437615   \n",
       "112       0    2       1  0.433589  0.379125  1.963666 -0.896562  0.518921   \n",
       "29        0    1       1 -0.744061 -0.073561 -1.119012 -1.245872  0.040653   \n",
       "39        1    2       0 -0.422883 -0.413076 -1.119012 -0.896562  0.040653   \n",
       "115       1    2       0 -0.422883  0.718639  0.853902  0.966424 -0.437615   \n",
       "85        0    1       1 -0.101706 -0.526247  0.360673  0.384241  1.475456   \n",
       "44        0    1       1 -1.279356 -0.752590  0.237366 -0.663689 -0.246308   \n",
       "7         1    2       1 -0.101706 -2.223820 -1.242319 -1.828055 -1.872418   \n",
       "54        0    2       0 -0.744061  0.152782 -0.872398 -0.663689  0.040653   \n",
       "177       0    1       1  1.504180  1.624011  1.717052  0.966424  1.953724   \n",
       "99        0    2       0  0.647707 -1.092105  0.853902  0.617114  0.136306   \n",
       "61        1    2       1 -0.101706 -1.205276 -0.625784  0.617114  0.518921   \n",
       "93        0    2       1  0.647707 -0.073561 -0.009248  0.151368  0.710228   \n",
       "27        1    2       1 -0.744061 -0.752590 -0.502477 -1.245872  0.040653   \n",
       "127       0    2       1  0.112412  0.944982  0.360673  1.315734  0.040653   \n",
       "65        0    2       1 -0.422883 -0.526247  0.237366 -0.197942 -0.437615   \n",
       "30        0    2       1 -0.422883 -0.752590 -0.995705 -0.896562 -1.394150   \n",
       "107       0    2       1  0.112412  0.379125  0.607288  0.384241  0.040653   \n",
       "51        1    2       1  0.433589 -1.092105 -1.242319 -0.663689 -0.915883   \n",
       "157       0    0       1  0.968885  1.284496  2.086973  0.034931  0.518921   \n",
       "146       0    2       1  0.647707  1.284496  0.730595  0.966424  1.475456   \n",
       "86        0    2       1 -0.422883  0.379125 -0.132555  0.384241  0.997188   \n",
       "45        0    1       1 -0.958179  0.379125 -1.119012 -0.896562 -0.915883   \n",
       "120       0    1       1  0.647707  1.058153  0.114059  0.384241 -1.298497   \n",
       "164       0    2       1  1.825357  0.944982  1.347130  0.617114  1.953724   \n",
       "18        1    2       1 -1.814651 -0.526247 -0.625784 -1.245872 -1.394150   \n",
       "171       0    0       0  2.360653  1.171325  0.853902  0.617114  1.475456   \n",
       "63        0    2       1 -0.851120  0.718639 -1.242319  0.034931  0.040653   \n",
       "22        0    1       1 -1.065238 -0.413076 -1.242319 -1.245872  0.040653   \n",
       "67        0    2       0  0.112412 -0.186733 -0.132555 -0.663689  0.997188   \n",
       "163       0    0       1  0.968885  0.944982  1.470437  1.315734  0.040653   \n",
       "79        1    2       0 -0.101706 -0.526247 -0.625784  0.966424  0.997188   \n",
       "165       0    2       1  1.825357  0.944982  0.360673  1.548607  0.997188   \n",
       "158       1    1       1  1.290062  1.624011 -0.255862  1.548607  0.518921   \n",
       "148       1    2       0  1.290062  0.718639  0.607288  0.966424 -0.915883   \n",
       "40        1    2       1 -0.958179 -2.223820  0.853902 -0.314379  0.040653   \n",
       "42        0    1       1 -0.637002  0.492296 -0.749091 -1.828055 -0.915883   \n",
       "14        0    1       1 -1.707592 -1.771134 -1.242319  0.151368 -1.681111   \n",
       "32        1    1       1 -0.422883 -1.205276 -0.872398 -0.547252 -1.872418   \n",
       "10        0    1       1 -1.814651 -0.752590 -1.242319 -1.245872 -0.915883   \n",
       "\n",
       "     honors  awards  \n",
       "170       1       2  \n",
       "112       1       1  \n",
       "29        1       1  \n",
       "39        1       0  \n",
       "115       1       2  \n",
       "85        1       0  \n",
       "44        1       0  \n",
       "7         1       0  \n",
       "54        1       1  \n",
       "177       0       5  \n",
       "99        1       0  \n",
       "61        1       0  \n",
       "93        1       1  \n",
       "27        1       0  \n",
       "127       1       2  \n",
       "65        1       0  \n",
       "30        1       0  \n",
       "107       1       1  \n",
       "51        1       0  \n",
       "157       0       3  \n",
       "146       0       3  \n",
       "86        1       1  \n",
       "45        1       1  \n",
       "120       0       2  \n",
       "164       1       2  \n",
       "18        1       0  \n",
       "171       0       3  \n",
       "63        1       2  \n",
       "22        1       0  \n",
       "67        1       0  \n",
       "163       1       2  \n",
       "79        1       0  \n",
       "165       1       2  \n",
       "158       0       5  \n",
       "148       1       2  \n",
       "40        1       0  \n",
       "42        1       2  \n",
       "14        1       0  \n",
       "32        1       0  \n",
       "10        1       0  "
      ]
     },
     "metadata": {},
     "output_type": "display_data"
    }
   ],
   "source": [
    "display(X_train)\n",
    "display(X_test)"
   ]
  },
  {
   "cell_type": "code",
   "execution_count": 68,
   "metadata": {
    "ExecuteTime": {
     "end_time": "2021-10-21T13:47:55.478018Z",
     "start_time": "2021-10-21T13:47:52.218831Z"
    }
   },
   "outputs": [
    {
     "data": {
      "text/plain": [
       "GridSearchCV(cv=LeaveOneOut(), estimator=KNeighborsClassifier(), n_jobs=-1,\n",
       "             param_grid={'n_neighbors': [2, 5, 8, 10], 'p': [1, 2, 3, 4]},\n",
       "             scoring='f1')"
      ]
     },
     "execution_count": 68,
     "metadata": {},
     "output_type": "execute_result"
    }
   ],
   "source": [
    "param_grid_KNN = {'n_neighbors':[2,5,8,10],'p':[1,2,3,4]}\n",
    "\n",
    "KNN_tune_scaled = GridSearchCV(estimator=KNN,\n",
    "                          param_grid=param_grid_KNN,\n",
    "                           scoring='f1',\n",
    "                          cv=LeaveOneOut(),\n",
    "                          n_jobs=-1)\n",
    "KNN_tune_scaled.fit(X_train,y_train)"
   ]
  },
  {
   "cell_type": "code",
   "execution_count": 69,
   "metadata": {
    "ExecuteTime": {
     "end_time": "2021-10-21T13:47:55.494056Z",
     "start_time": "2021-10-21T13:47:55.480018Z"
    }
   },
   "outputs": [
    {
     "data": {
      "text/plain": [
       "{'n_neighbors': 5, 'p': 4}"
      ]
     },
     "execution_count": 69,
     "metadata": {},
     "output_type": "execute_result"
    }
   ],
   "source": [
    "KNN_tune_scaled.best_params_"
   ]
  },
  {
   "cell_type": "code",
   "execution_count": 70,
   "metadata": {
    "ExecuteTime": {
     "end_time": "2021-10-21T13:47:55.525597Z",
     "start_time": "2021-10-21T13:47:55.497503Z"
    }
   },
   "outputs": [
    {
     "name": "stdout",
     "output_type": "stream",
     "text": [
      "0.825\n",
      "0.625\n"
     ]
    }
   ],
   "source": [
    "print(KNN_tune_scaled.best_estimator_.score(X_train,y_train))\n",
    "print(KNN_tune_scaled.best_estimator_.score(X_test,y_test))"
   ]
  },
  {
   "cell_type": "code",
   "execution_count": 71,
   "metadata": {
    "ExecuteTime": {
     "end_time": "2021-10-21T13:47:55.557044Z",
     "start_time": "2021-10-21T13:47:55.527596Z"
    },
    "scrolled": false
   },
   "outputs": [
    {
     "name": "stdout",
     "output_type": "stream",
     "text": [
      "              precision    recall  f1-score   support\n",
      "\n",
      "           0       0.67      0.57      0.62        21\n",
      "           1       0.59      0.68      0.63        19\n",
      "\n",
      "    accuracy                           0.62        40\n",
      "   macro avg       0.63      0.63      0.62        40\n",
      "weighted avg       0.63      0.62      0.62        40\n",
      "\n"
     ]
    }
   ],
   "source": [
    "## Performance Matrix on test data set\n",
    "print(metrics.classification_report(y_true=y_test,y_pred=KNN_tune_scaled.best_estimator_.predict(X_test)))"
   ]
  },
  {
   "cell_type": "markdown",
   "metadata": {},
   "source": [
    "### SVM"
   ]
  },
  {
   "cell_type": "code",
   "execution_count": 72,
   "metadata": {
    "ExecuteTime": {
     "end_time": "2021-10-21T13:47:55.572717Z",
     "start_time": "2021-10-21T13:47:55.559740Z"
    }
   },
   "outputs": [],
   "source": [
    "from sklearn.svm import SVC"
   ]
  },
  {
   "cell_type": "code",
   "execution_count": 73,
   "metadata": {
    "ExecuteTime": {
     "end_time": "2021-10-21T13:47:55.588722Z",
     "start_time": "2021-10-21T13:47:55.574999Z"
    }
   },
   "outputs": [],
   "source": [
    "svc = SVC()"
   ]
  },
  {
   "cell_type": "code",
   "execution_count": 74,
   "metadata": {
    "ExecuteTime": {
     "end_time": "2021-10-21T13:47:55.604035Z",
     "start_time": "2021-10-21T13:47:55.590775Z"
    }
   },
   "outputs": [],
   "source": [
    "param_svc = {'C':[1,2,3,4,5],'kernel':['linear', 'poly', 'rbf', 'sigmoid'],'degree':[3,4,5]}"
   ]
  },
  {
   "cell_type": "code",
   "execution_count": 75,
   "metadata": {
    "ExecuteTime": {
     "end_time": "2021-10-21T13:48:06.970784Z",
     "start_time": "2021-10-21T13:47:55.605759Z"
    }
   },
   "outputs": [
    {
     "data": {
      "text/plain": [
       "GridSearchCV(cv=LeaveOneOut(), estimator=SVC(), n_jobs=-1,\n",
       "             param_grid={'C': [1, 2, 3, 4, 5], 'degree': [3, 4, 5],\n",
       "                         'kernel': ['linear', 'poly', 'rbf', 'sigmoid']},\n",
       "             scoring='recall')"
      ]
     },
     "execution_count": 75,
     "metadata": {},
     "output_type": "execute_result"
    }
   ],
   "source": [
    "svc_gridsearch = GridSearchCV(estimator=svc,\n",
    "                             param_grid=param_svc,\n",
    "                             cv=LeaveOneOut(),\n",
    "                              scoring='recall',\n",
    "                             n_jobs=-1)\n",
    "\n",
    "svc_gridsearch.fit(X_train,y_train)"
   ]
  },
  {
   "cell_type": "code",
   "execution_count": 76,
   "metadata": {
    "ExecuteTime": {
     "end_time": "2021-10-21T13:48:06.985811Z",
     "start_time": "2021-10-21T13:48:06.971781Z"
    }
   },
   "outputs": [
    {
     "data": {
      "text/plain": [
       "{'C': 1, 'degree': 3, 'kernel': 'sigmoid'}"
      ]
     },
     "execution_count": 76,
     "metadata": {},
     "output_type": "execute_result"
    }
   ],
   "source": [
    "svc_gridsearch.best_params_"
   ]
  },
  {
   "cell_type": "code",
   "execution_count": 77,
   "metadata": {
    "ExecuteTime": {
     "end_time": "2021-10-21T13:48:07.001409Z",
     "start_time": "2021-10-21T13:48:06.987876Z"
    }
   },
   "outputs": [
    {
     "name": "stdout",
     "output_type": "stream",
     "text": [
      "0.71875\n",
      "0.675\n"
     ]
    }
   ],
   "source": [
    "print(svc_gridsearch.best_estimator_.score(X_train,y_train))\n",
    "print(svc_gridsearch.best_estimator_.score(X_test,y_test))"
   ]
  },
  {
   "cell_type": "code",
   "execution_count": 78,
   "metadata": {
    "ExecuteTime": {
     "end_time": "2021-10-21T13:48:07.016611Z",
     "start_time": "2021-10-21T13:48:07.003674Z"
    }
   },
   "outputs": [
    {
     "name": "stdout",
     "output_type": "stream",
     "text": [
      "              precision    recall  f1-score   support\n",
      "\n",
      "           0       0.79      0.52      0.63        21\n",
      "           1       0.62      0.84      0.71        19\n",
      "\n",
      "    accuracy                           0.68        40\n",
      "   macro avg       0.70      0.68      0.67        40\n",
      "weighted avg       0.70      0.68      0.67        40\n",
      "\n"
     ]
    }
   ],
   "source": [
    "## Performance Matrix on test data set\n",
    "print(metrics.classification_report(y_true=y_test,y_pred=svc_gridsearch.best_estimator_.predict(X_test)))"
   ]
  },
  {
   "cell_type": "markdown",
   "metadata": {},
   "source": [
    "# END"
   ]
  }
 ],
 "metadata": {
  "kernelspec": {
   "display_name": "Python 3 (ipykernel)",
   "language": "python",
   "name": "python3"
  },
  "language_info": {
   "codemirror_mode": {
    "name": "ipython",
    "version": 3
   },
   "file_extension": ".py",
   "mimetype": "text/x-python",
   "name": "python",
   "nbconvert_exporter": "python",
   "pygments_lexer": "ipython3",
   "version": "3.8.12"
  },
  "toc": {
   "base_numbering": 1,
   "nav_menu": {},
   "number_sections": true,
   "sideBar": true,
   "skip_h1_title": false,
   "title_cell": "Table of Contents",
   "title_sidebar": "Contents",
   "toc_cell": false,
   "toc_position": {},
   "toc_section_display": true,
   "toc_window_display": false
  },
  "varInspector": {
   "cols": {
    "lenName": 16,
    "lenType": 16,
    "lenVar": 40
   },
   "kernels_config": {
    "python": {
     "delete_cmd_postfix": "",
     "delete_cmd_prefix": "del ",
     "library": "var_list.py",
     "varRefreshCmd": "print(var_dic_list())"
    },
    "r": {
     "delete_cmd_postfix": ") ",
     "delete_cmd_prefix": "rm(",
     "library": "var_list.r",
     "varRefreshCmd": "cat(var_dic_list()) "
    }
   },
   "types_to_exclude": [
    "module",
    "function",
    "builtin_function_or_method",
    "instance",
    "_Feature"
   ],
   "window_display": false
  }
 },
 "nbformat": 4,
 "nbformat_minor": 2
}
