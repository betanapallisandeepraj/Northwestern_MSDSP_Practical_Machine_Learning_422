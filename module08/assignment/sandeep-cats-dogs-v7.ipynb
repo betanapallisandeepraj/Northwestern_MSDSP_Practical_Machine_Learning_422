{
 "cells": [
  {
   "cell_type": "code",
   "execution_count": 201,
   "metadata": {
    "_cell_guid": "b1076dfc-b9ad-4769-8c92-a6c4dae69d19",
    "_uuid": "8f2839f25d086af736a60e9eeb907d3b93b6e0e5",
    "execution": {
     "iopub.execute_input": "2021-11-29T04:06:27.125263Z",
     "iopub.status.busy": "2021-11-29T04:06:27.124532Z",
     "iopub.status.idle": "2021-11-29T04:06:27.131839Z",
     "shell.execute_reply": "2021-11-29T04:06:27.131133Z",
     "shell.execute_reply.started": "2021-11-29T04:06:27.125224Z"
    },
    "id": "9TClp-l8XEj7"
   },
   "outputs": [],
   "source": [
    "# This Python 3 environment comes with many helpful analytics libraries installed\n",
    "# It is defined by the kaggle/python docker image: https://github.com/kaggle/docker-python\n",
    "# For example, here's several helpful packages to load in \n",
    "\n",
    "import numpy as np # linear algebra\n",
    "import pandas as pd # data processing, CSV file I/O (e.g. pd.read_csv)\n",
    "\n",
    "# Input data files are available in the \"../input/\" directory.\n",
    "# For example, running this (by clicking run or pressing Shift+Enter) will list the files in the input directory\n",
    "\n",
    "import os\n",
    "#print(os.listdir(\"../input\"))\n",
    "\n",
    "# Any results you write to the current directory are saved as output."
   ]
  },
  {
   "cell_type": "code",
   "execution_count": 202,
   "metadata": {
    "execution": {
     "iopub.execute_input": "2021-11-29T04:06:27.136898Z",
     "iopub.status.busy": "2021-11-29T04:06:27.136463Z",
     "iopub.status.idle": "2021-11-29T04:06:27.147968Z",
     "shell.execute_reply": "2021-11-29T04:06:27.147162Z",
     "shell.execute_reply.started": "2021-11-29T04:06:27.136850Z"
    }
   },
   "outputs": [],
   "source": [
    "# This Python 3 environment comes with many helpful analytics libraries installed\n",
    "# It is defined by the kaggle/python Docker image: https://github.com/kaggle/docker-python\n",
    "# For example, here's several helpful packages to load\n",
    "\n",
    "import numpy as np # linear algebra\n",
    "import pandas as pd # data processing, CSV file I/O (e.g. pd.read_csv)\n",
    "\n",
    "# Input data files are available in the read-only \"../input/\" directory\n",
    "# For example, running this (by clicking run or pressing Shift+Enter) will list all files under the input directory\n",
    "\n",
    "import os\n",
    "for dirname, _, filenames in os.walk('/kaggle/input'):\n",
    "    for filename in filenames:\n",
    "        print(os.path.join(dirname, filename))\n",
    "\n",
    "# You can write up to 20GB to the current directory (/kaggle/working/) that gets preserved as output when you create a version using \"Save & Run All\" \n",
    "# You can also write temporary files to /kaggle/temp/, but they won't be saved outside of the current session"
   ]
  },
  {
   "cell_type": "code",
   "execution_count": 203,
   "metadata": {
    "execution": {
     "iopub.execute_input": "2021-11-29T04:06:27.383283Z",
     "iopub.status.busy": "2021-11-29T04:06:27.383040Z",
     "iopub.status.idle": "2021-11-29T04:06:27.388444Z",
     "shell.execute_reply": "2021-11-29T04:06:27.387636Z",
     "shell.execute_reply.started": "2021-11-29T04:06:27.383255Z"
    },
    "id": "lFlE_MFnvNTY",
    "outputId": "a7552780-a8ba-40bd-dc45-da94ba5c5dd8"
   },
   "outputs": [],
   "source": [
    "# !pip install plot_model\n",
    "# !pip install keras\n",
    "# !pip install --upgrade tensorflow\n",
    "# !pip install --upgrade tensorflow-gpu"
   ]
  },
  {
   "cell_type": "markdown",
   "metadata": {
    "id": "wLzLqAfx9xwR"
   },
   "source": [
    "#1. Import Libraries"
   ]
  },
  {
   "cell_type": "code",
   "execution_count": 204,
   "metadata": {
    "execution": {
     "iopub.execute_input": "2021-11-29T04:06:27.391200Z",
     "iopub.status.busy": "2021-11-29T04:06:27.390419Z",
     "iopub.status.idle": "2021-11-29T04:06:27.416943Z",
     "shell.execute_reply": "2021-11-29T04:06:27.415685Z",
     "shell.execute_reply.started": "2021-11-29T04:06:27.391159Z"
    },
    "id": "yHfA04BJ0BT9",
    "outputId": "6fd92d9e-5e68-4556-e474-d912596d0c53"
   },
   "outputs": [],
   "source": [
    "from tensorflow.keras.layers import *\n",
    "from tensorflow.keras.models import *\n",
    "from tensorflow.keras.utils import to_categorical\n",
    "\n",
    "import tensorflow as tf\n",
    "print(\"You are using TensorFlow version\", tf.__version__)\n",
    "if len(tf.config.list_physical_devices('GPU')) > 0:\n",
    "  print(\"You have a GPU enabled.\")\n",
    "else:\n",
    "  print(\"Enable a GPU before running this notebook.\")\n",
    "import tensorflow as tf\n",
    "from tensorflow import keras\n",
    "from tensorflow.keras import layers\n",
    "from tensorflow.keras.models import Sequential  # initial NN\n",
    "from tensorflow.keras.layers import Input, Dense, Activation, Dropout, InputLayer, BatchNormalization # construct each layer\n",
    "from tensorflow.keras.layers import Conv2D # swipe across the image by 1\n",
    "from tensorflow.keras.layers import MaxPool2D, GlobalMaxPool2D # swipe across by pool size\n",
    "from tensorflow.keras.layers import Flatten, GlobalAveragePooling2D\n",
    "\n",
    "from keras.preprocessing.image import ImageDataGenerator\n",
    "from tensorflow.keras.callbacks import ReduceLROnPlateau,LearningRateScheduler, TensorBoard, EarlyStopping, ModelCheckpoint\n",
    "from tensorflow.keras.optimizers import Adam\n",
    "from tensorflow.keras.losses import categorical_crossentropy, binary_crossentropy, mean_squared_error,sparse_categorical_crossentropy\n",
    "\n",
    "from tensorflow.keras.optimizers import Adam\n",
    "#from keras.optimizers import Adam\n",
    "from tensorflow.keras.callbacks import EarlyStopping, ReduceLROnPlateau\n",
    "#from keras.callbacks import ReduceLROnPlateau\n",
    "from tensorflow.keras.callbacks import ModelCheckpoint, Callback, EarlyStopping\n",
    "\n",
    "import pandas as pd\n",
    "import numpy as np\n",
    "from random import shuffle\n",
    "import os\n",
    "import cv2\n",
    "import pickle\n",
    "import seaborn as sns\n",
    "import matplotlib.pyplot as plt\n",
    "import matplotlib.image as mpimg \n",
    "%matplotlib inline\n",
    "from tqdm.notebook import trange,tqdm\n",
    "from IPython.display import Image, display, Markdown, clear_output\n",
    "\n",
    "from sklearn.model_selection import train_test_split, GridSearchCV\n",
    "from sklearn.preprocessing import LabelEncoder\n",
    "from sklearn import svm, metrics\n",
    "from sklearn.decomposition import PCA\n",
    "from skimage import io\n",
    "\n",
    "import sklearn.metrics as metrics\n",
    "from sklearn.metrics import roc_curve\n",
    "from sklearn.metrics import roc_auc_score\n",
    "from sklearn.metrics import f1_score, precision_score, recall_score, accuracy_score"
   ]
  },
  {
   "cell_type": "code",
   "execution_count": 205,
   "metadata": {
    "_uuid": "915ddeac4d7cc8a1523cf8261e8b9130bab38f4a",
    "execution": {
     "iopub.execute_input": "2021-11-29T04:06:27.418308Z",
     "iopub.status.busy": "2021-11-29T04:06:27.417989Z",
     "iopub.status.idle": "2021-11-29T04:06:27.426907Z",
     "shell.execute_reply": "2021-11-29T04:06:27.426118Z",
     "shell.execute_reply.started": "2021-11-29T04:06:27.418271Z"
    },
    "id": "_1BuOV_VXEj_"
   },
   "outputs": [],
   "source": [
    "import cv2\n",
    "# from keras import layers\n",
    "# from keras.layers import Input, Dense, Activation, ZeroPadding2D, BatchNormalization, Flatten, Conv2D\n",
    "# from keras.layers import AveragePooling2D, MaxPooling2D, Dropout, GlobalMaxPooling2D, GlobalAveragePooling2D\n",
    "# from keras.models import Model\n",
    "# from keras.preprocessing import image\n",
    "# from keras.utils import layer_utils\n",
    "# from keras.utils.data_utils import get_file\n",
    "# from keras.applications.imagenet_utils import preprocess_input\n",
    "# import pydot\n",
    "# from IPython.display import SVG\n",
    "# from keras.utils.vis_utils import model_to_dot\n",
    "# #from keras.utils import plot_model\n",
    "# #from keras.utils import to_categorical\n",
    "# import matplotlib.pyplot as plt \n",
    "from random import shuffle\n",
    "# np.set_printoptions(suppress=True)\n",
    "# np.set_printoptions(threshold=np.inf)"
   ]
  },
  {
   "cell_type": "code",
   "execution_count": 206,
   "metadata": {
    "execution": {
     "iopub.execute_input": "2021-11-29T04:06:27.428551Z",
     "iopub.status.busy": "2021-11-29T04:06:27.428155Z",
     "iopub.status.idle": "2021-11-29T04:06:27.440335Z",
     "shell.execute_reply": "2021-11-29T04:06:27.439380Z",
     "shell.execute_reply.started": "2021-11-29T04:06:27.428513Z"
    },
    "id": "SeRXLljk0LZx",
    "outputId": "a461c2b1-adda-4210-bdaa-6c71d1917873"
   },
   "outputs": [],
   "source": [
    "tf.config.list_physical_devices()"
   ]
  },
  {
   "cell_type": "code",
   "execution_count": 207,
   "metadata": {
    "execution": {
     "iopub.execute_input": "2021-11-29T04:06:27.443945Z",
     "iopub.status.busy": "2021-11-29T04:06:27.443450Z",
     "iopub.status.idle": "2021-11-29T04:06:27.448531Z",
     "shell.execute_reply": "2021-11-29T04:06:27.447658Z",
     "shell.execute_reply.started": "2021-11-29T04:06:27.443845Z"
    },
    "id": "Kum0eAsnv9IX",
    "outputId": "593b5175-e10e-43df-f50b-4082719d014b"
   },
   "outputs": [],
   "source": [
    "# from google.colab import drive\n",
    "# drive.mount('/content/drive')"
   ]
  },
  {
   "cell_type": "code",
   "execution_count": 208,
   "metadata": {
    "execution": {
     "iopub.execute_input": "2021-11-29T04:06:27.450759Z",
     "iopub.status.busy": "2021-11-29T04:06:27.450216Z",
     "iopub.status.idle": "2021-11-29T04:06:46.816208Z",
     "shell.execute_reply": "2021-11-29T04:06:46.815426Z",
     "shell.execute_reply.started": "2021-11-29T04:06:27.450721Z"
    },
    "id": "kRyAaC1DXEkA"
   },
   "outputs": [],
   "source": [
    "import zipfile\n",
    "\n",
    "with zipfile.ZipFile('/kaggle/input/dogs-vs-cats-redux-kernels-edition/train.zip','r') as z:\n",
    "    z.extractall('.')\n",
    "    \n",
    "with zipfile.ZipFile('/kaggle/input/dogs-vs-cats-redux-kernels-edition/test.zip','r') as z:\n",
    "    z.extractall('.')\n"
   ]
  },
  {
   "cell_type": "code",
   "execution_count": 209,
   "metadata": {
    "execution": {
     "iopub.execute_input": "2021-11-29T04:06:46.817983Z",
     "iopub.status.busy": "2021-11-29T04:06:46.817724Z",
     "iopub.status.idle": "2021-11-29T04:06:46.822191Z",
     "shell.execute_reply": "2021-11-29T04:06:46.821134Z",
     "shell.execute_reply.started": "2021-11-29T04:06:46.817946Z"
    },
    "id": "RhzxZih4xF36",
    "outputId": "aa71741f-0e04-4ff1-99e2-356671dd1cdf"
   },
   "outputs": [],
   "source": [
    "# !pwd\n",
    "# !ls -l"
   ]
  },
  {
   "cell_type": "markdown",
   "metadata": {
    "id": "4PppCbdB_FQV"
   },
   "source": [
    "#2 EDA"
   ]
  },
  {
   "cell_type": "code",
   "execution_count": 210,
   "metadata": {
    "_uuid": "f3b68753e0732708180d300fada74ce3f4d374aa",
    "execution": {
     "iopub.execute_input": "2021-11-29T04:06:46.824306Z",
     "iopub.status.busy": "2021-11-29T04:06:46.823699Z",
     "iopub.status.idle": "2021-11-29T04:07:42.270724Z",
     "shell.execute_reply": "2021-11-29T04:07:42.269750Z",
     "shell.execute_reply.started": "2021-11-29T04:06:46.824268Z"
    },
    "id": "YyW7ab3BXEkA",
    "outputId": "fb7051f7-ed5e-444c-c87c-035329ec1eb3"
   },
   "outputs": [],
   "source": [
    "# Create image \n",
    "IMG_SIZE = 100\n",
    "X_Train_orig = []\n",
    "Y_Train_orig = []\n",
    "for i in os.listdir('/kaggle/working/train/'):\n",
    "    label = i.split('.')[-3]\n",
    "    if label == 'cat':\n",
    "        label = 0\n",
    "    elif label == 'dog':\n",
    "        label = 1\n",
    "    img = cv2.imread('/kaggle/working/train/'+i, cv2.IMREAD_COLOR)\n",
    "    img = cv2.resize(img,(IMG_SIZE,IMG_SIZE), interpolation=cv2.INTER_CUBIC)\n",
    "    #img = img / 255\n",
    "    X_Train_orig.append([np.array(img), np.array(label)])\n",
    "\n",
    "np.save('Training_Data.npy', X_Train_orig)"
   ]
  },
  {
   "cell_type": "code",
   "execution_count": 211,
   "metadata": {
    "_uuid": "57117442faa3e8505d8352914056eefe18818d91",
    "execution": {
     "iopub.execute_input": "2021-11-29T04:07:42.279644Z",
     "iopub.status.busy": "2021-11-29T04:07:42.276570Z",
     "iopub.status.idle": "2021-11-29T04:07:42.321355Z",
     "shell.execute_reply": "2021-11-29T04:07:42.320675Z",
     "shell.execute_reply.started": "2021-11-29T04:07:42.279597Z"
    },
    "id": "7sI7SfmJXEkB"
   },
   "outputs": [],
   "source": [
    "shuffle(X_Train_orig)"
   ]
  },
  {
   "cell_type": "code",
   "execution_count": 212,
   "metadata": {
    "_uuid": "252c1bdc4906c04df7181e5df23e61c47f4cce96",
    "execution": {
     "iopub.execute_input": "2021-11-29T04:07:42.322679Z",
     "iopub.status.busy": "2021-11-29T04:07:42.322437Z",
     "iopub.status.idle": "2021-11-29T04:07:43.792653Z",
     "shell.execute_reply": "2021-11-29T04:07:43.791799Z",
     "shell.execute_reply.started": "2021-11-29T04:07:42.322645Z"
    },
    "id": "stswhqZqXEkB"
   },
   "outputs": [],
   "source": [
    "X = np.array([i[0] for i in X_Train_orig]).reshape(-1,IMG_SIZE,IMG_SIZE,3)\n",
    "y = np.array([i[1] for i in X_Train_orig])"
   ]
  },
  {
   "cell_type": "code",
   "execution_count": 213,
   "metadata": {
    "execution": {
     "iopub.execute_input": "2021-11-29T04:07:43.794248Z",
     "iopub.status.busy": "2021-11-29T04:07:43.793975Z",
     "iopub.status.idle": "2021-11-29T04:07:43.902629Z",
     "shell.execute_reply": "2021-11-29T04:07:43.901589Z",
     "shell.execute_reply.started": "2021-11-29T04:07:43.794215Z"
    },
    "id": "2_JxGBGLXEkC",
    "outputId": "d441b469-287f-43a9-8835-3ca2aed1d247"
   },
   "outputs": [],
   "source": [
    "#print(X)"
   ]
  },
  {
   "cell_type": "code",
   "execution_count": 214,
   "metadata": {
    "execution": {
     "iopub.execute_input": "2021-11-29T04:07:43.906002Z",
     "iopub.status.busy": "2021-11-29T04:07:43.905410Z",
     "iopub.status.idle": "2021-11-29T04:07:44.469133Z",
     "shell.execute_reply": "2021-11-29T04:07:44.467907Z",
     "shell.execute_reply.started": "2021-11-29T04:07:43.905957Z"
    },
    "id": "lQfac9TnXEkD",
    "outputId": "c8904f84-0889-4095-b299-e2159a1a9cdd"
   },
   "outputs": [],
   "source": [
    "#print(y)"
   ]
  },
  {
   "cell_type": "code",
   "execution_count": 215,
   "metadata": {
    "execution": {
     "iopub.execute_input": "2021-11-29T04:07:44.471516Z",
     "iopub.status.busy": "2021-11-29T04:07:44.470901Z",
     "iopub.status.idle": "2021-11-29T04:07:44.482676Z",
     "shell.execute_reply": "2021-11-29T04:07:44.481928Z",
     "shell.execute_reply.started": "2021-11-29T04:07:44.471471Z"
    },
    "id": "bssDAWeJXEkD",
    "outputId": "5692351e-c86b-434e-82e1-0047d8a8bba0"
   },
   "outputs": [],
   "source": [
    "print(\"Shape of X is: \",X.shape)\n",
    "print(\"Shape of y is: \",y.shape)"
   ]
  },
  {
   "cell_type": "code",
   "execution_count": 216,
   "metadata": {
    "_uuid": "d91fb23ee9689f792adb9973bd483ae3c6bc0faf",
    "execution": {
     "iopub.execute_input": "2021-11-29T04:07:44.492193Z",
     "iopub.status.busy": "2021-11-29T04:07:44.490391Z",
     "iopub.status.idle": "2021-11-29T04:07:44.755583Z",
     "shell.execute_reply": "2021-11-29T04:07:44.754752Z",
     "shell.execute_reply.started": "2021-11-29T04:07:44.492153Z"
    },
    "id": "nkLoXslAXEkE"
   },
   "outputs": [],
   "source": [
    "# Spilt Training and test data\n",
    "from sklearn.model_selection import train_test_split\n",
    "X_train, X_val, y_train, y_val = train_test_split(X, y, test_size = 0.50, stratify=y)"
   ]
  },
  {
   "cell_type": "code",
   "execution_count": 217,
   "metadata": {
    "_uuid": "3650249df7955cab4983d03f4252a02489409185",
    "execution": {
     "iopub.execute_input": "2021-11-29T04:07:44.757510Z",
     "iopub.status.busy": "2021-11-29T04:07:44.757219Z",
     "iopub.status.idle": "2021-11-29T04:07:44.764385Z",
     "shell.execute_reply": "2021-11-29T04:07:44.763454Z",
     "shell.execute_reply.started": "2021-11-29T04:07:44.757472Z"
    },
    "id": "ePsMWZ1-XEkE",
    "outputId": "5c290a6c-e871-43da-8262-7f1d944ddd1d"
   },
   "outputs": [],
   "source": [
    "print('Shape of X_train is :', X_train.shape)\n",
    "print('Shape of y_train is :', y_train.shape)\n",
    "print('Shape of X_val is :', X_val.shape)\n",
    "print('Shape of y_val is :', y_val.shape)"
   ]
  },
  {
   "cell_type": "code",
   "execution_count": 218,
   "metadata": {
    "execution": {
     "iopub.execute_input": "2021-11-29T04:07:44.766431Z",
     "iopub.status.busy": "2021-11-29T04:07:44.766142Z",
     "iopub.status.idle": "2021-11-29T04:07:44.780653Z",
     "shell.execute_reply": "2021-11-29T04:07:44.779437Z",
     "shell.execute_reply.started": "2021-11-29T04:07:44.766372Z"
    },
    "id": "tpaWeECrXEkF",
    "outputId": "0c65c482-51dc-4450-904f-bc77a400d125"
   },
   "outputs": [],
   "source": [
    "print(pd.Series(y_train).value_counts(1))\n",
    "print(pd.Series(y_val).value_counts(1))"
   ]
  },
  {
   "cell_type": "code",
   "execution_count": 219,
   "metadata": {
    "execution": {
     "iopub.execute_input": "2021-11-29T04:07:44.782750Z",
     "iopub.status.busy": "2021-11-29T04:07:44.782355Z",
     "iopub.status.idle": "2021-11-29T04:07:44.788505Z",
     "shell.execute_reply": "2021-11-29T04:07:44.787383Z",
     "shell.execute_reply.started": "2021-11-29T04:07:44.782714Z"
    },
    "id": "RWrlqAnrXEkF"
   },
   "outputs": [],
   "source": [
    "# X_train, X_val, Y_train, Y_val = train_test_split(X_train, Y_train, test_size = 0.25, stratify=Y_train)"
   ]
  },
  {
   "cell_type": "code",
   "execution_count": 220,
   "metadata": {
    "execution": {
     "iopub.execute_input": "2021-11-29T04:07:44.790414Z",
     "iopub.status.busy": "2021-11-29T04:07:44.789824Z",
     "iopub.status.idle": "2021-11-29T04:07:44.796504Z",
     "shell.execute_reply": "2021-11-29T04:07:44.795727Z",
     "shell.execute_reply.started": "2021-11-29T04:07:44.790375Z"
    },
    "id": "Y0P8j0scXEkF"
   },
   "outputs": [],
   "source": [
    "# print('Shape of X_train is :', X_train.shape)\n",
    "# print('Shape of Y_train is :', Y_train.shape)\n",
    "# print('Shape of X_val is :', X_val.shape)\n",
    "# print('Shape of Y_val is :', Y_val.shape)"
   ]
  },
  {
   "cell_type": "code",
   "execution_count": 221,
   "metadata": {
    "execution": {
     "iopub.execute_input": "2021-11-29T04:07:44.798202Z",
     "iopub.status.busy": "2021-11-29T04:07:44.797907Z",
     "iopub.status.idle": "2021-11-29T04:07:44.805155Z",
     "shell.execute_reply": "2021-11-29T04:07:44.804389Z",
     "shell.execute_reply.started": "2021-11-29T04:07:44.798166Z"
    },
    "id": "5Xr8-nXlXEkG"
   },
   "outputs": [],
   "source": [
    "# print(pd.Series(Y_train).value_counts(1))\n",
    "# print(pd.Series(Y_val).value_counts(1))"
   ]
  },
  {
   "cell_type": "code",
   "execution_count": 222,
   "metadata": {
    "_uuid": "2ba6838f1f1e4b7e33c9e35c7807ce128094015b",
    "execution": {
     "iopub.execute_input": "2021-11-29T04:07:44.808374Z",
     "iopub.status.busy": "2021-11-29T04:07:44.808181Z",
     "iopub.status.idle": "2021-11-29T04:07:47.370446Z",
     "shell.execute_reply": "2021-11-29T04:07:47.368907Z",
     "shell.execute_reply.started": "2021-11-29T04:07:44.808352Z"
    },
    "id": "B445lHLJXEkG",
    "outputId": "29ff60ae-f04c-4c23-a9a9-a51be305eacf"
   },
   "outputs": [],
   "source": [
    "import matplotlib.pyplot as plt \n",
    "plt.figure(figsize=(20,20))   # to fix a shape for each image print\n",
    "for i in range(50):          # using a for loop to display a number of images\n",
    "    plt.subplot(5, 10, i+1) # we need to use this function to print an array of pictures \n",
    "    plt.imshow(X_val[i,:,:,:]) # this will call the images from train set one by one\n",
    "    plt.title('DOG' if y_val[i] == 1 else 'CAT')  # Lets also look into the labels \n",
    "    plt.axis('off') "
   ]
  },
  {
   "cell_type": "markdown",
   "metadata": {
    "id": "nsscDnebYrgD"
   },
   "source": [
    "#3 CNN Model Development and Training"
   ]
  },
  {
   "cell_type": "code",
   "execution_count": 223,
   "metadata": {
    "_uuid": "130838688d5b7e0cb66e3e6936f9a7042f62a2d3",
    "execution": {
     "iopub.execute_input": "2021-11-29T04:07:47.372126Z",
     "iopub.status.busy": "2021-11-29T04:07:47.371620Z",
     "iopub.status.idle": "2021-11-29T04:07:47.389053Z",
     "shell.execute_reply": "2021-11-29T04:07:47.388124Z",
     "shell.execute_reply.started": "2021-11-29T04:07:47.372076Z"
    },
    "id": "yt_BRXoRXEkG"
   },
   "outputs": [],
   "source": [
    "def cnn_model(input_shape):    \n",
    "    \n",
    "    X_input = Input(input_shape)\n",
    "\n",
    "    X = Conv2D(64, (3, 3), strides = (1, 1), padding = 'same', name = 'conv1')(X_input) \n",
    "    X = BatchNormalization(axis = 3, name = 'bn1')(X)\n",
    "    X = Activation('relu')(X) \n",
    "    \n",
    "    X = Conv2D(64, (3, 3), strides = (1, 1), padding = 'same', name = 'conv2')(X_input) \n",
    "    X = BatchNormalization(axis = 3, name = 'bn2')(X)\n",
    "    X = Activation('relu')(X) \n",
    "\n",
    "    X = MaxPooling2D((3, 3), name='max_pool_0')(X)\n",
    "    X = Dropout(0.3)(X)\n",
    "\n",
    "    X = Conv2D(128, (3, 3), strides = (1, 1), padding = 'same', name = 'conv3')(X) \n",
    "    X = BatchNormalization(axis = 3, name = 'bn3')(X)\n",
    "    X = Activation('relu')(X)\n",
    "    \n",
    "    X = Conv2D(128, (3, 3), strides = (1, 1), padding = 'same', name = 'conv4')(X) \n",
    "    X = BatchNormalization(axis = 3, name = 'bn4')(X)\n",
    "    X = Activation('relu')(X)\n",
    "    \n",
    "    X = Conv2D(128, (3, 3), strides = (1, 1), padding = 'same', name = 'conv5')(X) \n",
    "    X = BatchNormalization(axis = 3, name = 'bn5')(X)\n",
    "    X = Activation('relu')(X)\n",
    "   \n",
    "    X = MaxPooling2D((3, 3), name='max_pool_1')(X)\n",
    "    X = Dropout(0.3)(X)\n",
    "    \n",
    "    # Flatten the data.\n",
    "    X = Flatten()(X)\n",
    "    # Dense Layer\n",
    "    X = Dense(4096, activation='relu', name='fc1')(X)\n",
    "    X = Dropout(0.1)(X)\n",
    "    X = Dense(1024, activation='relu', name='fc2')(X)\n",
    "    X = Dropout(0.1)(X)\n",
    "    X = Dense(256, activation='relu', name='fc3')(X)\n",
    "    # Using softmax function to get the output\n",
    "    X = Dense(1, activation='sigmoid', name='fc4')(X)\n",
    "    \n",
    "    model = Model(inputs = X_input, outputs = X, name='model')\n",
    "    \n",
    "    return model"
   ]
  },
  {
   "cell_type": "code",
   "execution_count": 224,
   "metadata": {
    "_uuid": "f8ca985f73d74c07d9b9b7c8f3b73b4f41643f93",
    "execution": {
     "iopub.execute_input": "2021-11-29T04:07:47.390743Z",
     "iopub.status.busy": "2021-11-29T04:07:47.390448Z",
     "iopub.status.idle": "2021-11-29T04:07:47.526369Z",
     "shell.execute_reply": "2021-11-29T04:07:47.525582Z",
     "shell.execute_reply.started": "2021-11-29T04:07:47.390709Z"
    },
    "id": "XrvvGRDNXEkH"
   },
   "outputs": [],
   "source": [
    "cnn_model = cnn_model(X_train.shape[1:4])"
   ]
  },
  {
   "cell_type": "code",
   "execution_count": 225,
   "metadata": {
    "_uuid": "3738ac4a4e7b8fb7dd2ad230c9f733237203aaac",
    "execution": {
     "iopub.execute_input": "2021-11-29T04:07:47.529488Z",
     "iopub.status.busy": "2021-11-29T04:07:47.529292Z",
     "iopub.status.idle": "2021-11-29T04:07:47.535872Z",
     "shell.execute_reply": "2021-11-29T04:07:47.535128Z",
     "shell.execute_reply.started": "2021-11-29T04:07:47.529463Z"
    },
    "id": "rqUJjXrVXEkH"
   },
   "outputs": [],
   "source": [
    "epochs = 30\n",
    "batch_size = 64\n",
    "learning_rate = 0.001\n",
    "decay = learning_rate/epochs\n",
    "optimizer = Adam(learning_rate=learning_rate, epsilon=1e-08, decay = decay)"
   ]
  },
  {
   "cell_type": "code",
   "execution_count": 226,
   "metadata": {
    "_uuid": "2c7e680adbf89ea985de03ba05ebaebaaa5b077a",
    "execution": {
     "iopub.execute_input": "2021-11-29T04:07:47.537681Z",
     "iopub.status.busy": "2021-11-29T04:07:47.537311Z",
     "iopub.status.idle": "2021-11-29T04:07:47.548768Z",
     "shell.execute_reply": "2021-11-29T04:07:47.547908Z",
     "shell.execute_reply.started": "2021-11-29T04:07:47.537641Z"
    },
    "id": "yC84qwUjXEkI"
   },
   "outputs": [],
   "source": [
    "cnn_model.compile(loss='binary_crossentropy', optimizer=optimizer, metrics=['accuracy'])"
   ]
  },
  {
   "cell_type": "code",
   "execution_count": 227,
   "metadata": {
    "_uuid": "8ed853eff65ed21eb0cc72eb46933d830b4d192a",
    "execution": {
     "iopub.execute_input": "2021-11-29T04:07:47.550925Z",
     "iopub.status.busy": "2021-11-29T04:07:47.550238Z",
     "iopub.status.idle": "2021-11-29T04:07:47.555955Z",
     "shell.execute_reply": "2021-11-29T04:07:47.555194Z",
     "shell.execute_reply.started": "2021-11-29T04:07:47.550882Z"
    },
    "id": "1Log1MapXEkI"
   },
   "outputs": [],
   "source": [
    "learning_rate_reduction = ReduceLROnPlateau(monitor='val_acc', \n",
    "                                            patience=1, \n",
    "                                            verbose=1, \n",
    "                                            factor=0.5, \n",
    "                                            min_lr=0.0001)"
   ]
  },
  {
   "cell_type": "code",
   "execution_count": 228,
   "metadata": {
    "_uuid": "8a59c0ba29efd8d758aa122222f4787b711e0800",
    "execution": {
     "iopub.execute_input": "2021-11-29T04:07:47.558361Z",
     "iopub.status.busy": "2021-11-29T04:07:47.557456Z",
     "iopub.status.idle": "2021-11-29T04:07:47.567576Z",
     "shell.execute_reply": "2021-11-29T04:07:47.566809Z",
     "shell.execute_reply.started": "2021-11-29T04:07:47.558318Z"
    },
    "id": "zjkppqF1XEkJ"
   },
   "outputs": [],
   "source": [
    "early_stopping = EarlyStopping(monitor='val_accuracy', patience=30, verbose=1, restore_best_weights=True, mode='auto')"
   ]
  },
  {
   "cell_type": "code",
   "execution_count": 229,
   "metadata": {
    "_uuid": "33d59bcc39c4a474f1696555e6f82101727eeb0c",
    "execution": {
     "iopub.execute_input": "2021-11-29T04:07:47.569560Z",
     "iopub.status.busy": "2021-11-29T04:07:47.568851Z",
     "iopub.status.idle": "2021-11-29T04:13:10.947752Z",
     "shell.execute_reply": "2021-11-29T04:13:10.946946Z",
     "shell.execute_reply.started": "2021-11-29T04:07:47.569522Z"
    },
    "id": "zFKWXjnHXEkJ",
    "outputId": "02f630f0-c2c1-4c81-e068-b4ce76998855"
   },
   "outputs": [],
   "source": [
    "cnn_history = cnn_model.fit(x = X_train, y = y_train, batch_size = batch_size, \n",
    "                        epochs=epochs, verbose=1, \n",
    "                        validation_data = (X_val, y_val),\n",
    "                          shuffle = True, \n",
    "                          steps_per_epoch= None, validation_steps=None,\n",
    "                                  callbacks=[learning_rate_reduction, early_stopping] )"
   ]
  },
  {
   "cell_type": "code",
   "execution_count": 230,
   "metadata": {
    "execution": {
     "iopub.execute_input": "2021-11-29T04:13:10.949493Z",
     "iopub.status.busy": "2021-11-29T04:13:10.949213Z",
     "iopub.status.idle": "2021-11-29T04:13:10.955120Z",
     "shell.execute_reply": "2021-11-29T04:13:10.954361Z",
     "shell.execute_reply.started": "2021-11-29T04:13:10.949457Z"
    },
    "id": "Kdm6XXVZY2Yj",
    "outputId": "ab98dd06-818d-4d51-9f4c-daa950340723"
   },
   "outputs": [],
   "source": [
    "y_train"
   ]
  },
  {
   "cell_type": "markdown",
   "metadata": {
    "id": "G-WQyvwGY2pb"
   },
   "source": [
    "## 4. Model Performance"
   ]
  },
  {
   "cell_type": "code",
   "execution_count": 231,
   "metadata": {
    "_uuid": "459602bc76cc1966a0f017f7ad5a0ac22c05caae",
    "execution": {
     "iopub.execute_input": "2021-11-29T04:13:10.957546Z",
     "iopub.status.busy": "2021-11-29T04:13:10.956863Z",
     "iopub.status.idle": "2021-11-29T04:13:14.705714Z",
     "shell.execute_reply": "2021-11-29T04:13:14.704976Z",
     "shell.execute_reply.started": "2021-11-29T04:13:10.957503Z"
    },
    "id": "YIcFCCN8XEkJ",
    "outputId": "9bf759b4-6b2e-42fd-8921-f3f322de621d"
   },
   "outputs": [],
   "source": [
    "preds = cnn_model.evaluate(X_train, y_train)\n",
    "print (\"Loss = \" + str(preds[0]))\n",
    "print (\"Train set Accuracy = \" + str(preds[1]))"
   ]
  },
  {
   "cell_type": "code",
   "execution_count": null,
   "metadata": {},
   "outputs": [],
   "source": []
  },
  {
   "cell_type": "code",
   "execution_count": null,
   "metadata": {},
   "outputs": [],
   "source": []
  },
  {
   "cell_type": "code",
   "execution_count": 232,
   "metadata": {
    "_uuid": "c0a25e3afbc805f2bf3fdcba48a671dce68c3544",
    "execution": {
     "iopub.execute_input": "2021-11-29T04:13:14.707545Z",
     "iopub.status.busy": "2021-11-29T04:13:14.707273Z",
     "iopub.status.idle": "2021-11-29T04:13:20.491637Z",
     "shell.execute_reply": "2021-11-29T04:13:20.490321Z",
     "shell.execute_reply.started": "2021-11-29T04:13:14.707508Z"
    },
    "id": "kYqd3JCyXEkJ",
    "outputId": "6bf3e215-01b2-4481-9383-245e14ac67fc"
   },
   "outputs": [],
   "source": [
    "preds_val = cnn_model.evaluate(X_val, y_val)\n",
    "print (\"Loss = \" + str(preds_val[0]))\n",
    "print (\"Validation Set Accuracy = \" + str(preds_val[1]))"
   ]
  },
  {
   "cell_type": "code",
   "execution_count": 233,
   "metadata": {
    "execution": {
     "iopub.execute_input": "2021-11-29T04:13:20.493887Z",
     "iopub.status.busy": "2021-11-29T04:13:20.492968Z",
     "iopub.status.idle": "2021-11-29T04:13:20.992442Z",
     "shell.execute_reply": "2021-11-29T04:13:20.990948Z",
     "shell.execute_reply.started": "2021-11-29T04:13:20.493835Z"
    },
    "id": "wkRtyxQkEKZk",
    "outputId": "e39df78a-a587-43fb-c253-0181b3415fe0"
   },
   "outputs": [],
   "source": [
    "history_df = pd. DataFrame(cnn_history.history)\n",
    "history_df.loc[:,['loss', 'val_loss']].plot()\n",
    "history_df.loc[:,['accuracy', 'val_accuracy']].plot()"
   ]
  },
  {
   "cell_type": "code",
   "execution_count": 234,
   "metadata": {
    "_uuid": "3798d66e9c624f98b1f83462d849e8b1b8d73ec1",
    "execution": {
     "iopub.execute_input": "2021-11-29T04:13:20.994078Z",
     "iopub.status.busy": "2021-11-29T04:13:20.993801Z",
     "iopub.status.idle": "2021-11-29T04:13:21.000070Z",
     "shell.execute_reply": "2021-11-29T04:13:20.999213Z",
     "shell.execute_reply.started": "2021-11-29T04:13:20.994040Z"
    },
    "id": "PDAhtu3xXEkJ",
    "outputId": "20109a8e-140e-492c-eb46-c2cbc4317735"
   },
   "outputs": [],
   "source": [
    "history_dict = cnn_history.history\n",
    "history_dict.keys()"
   ]
  },
  {
   "cell_type": "code",
   "execution_count": 235,
   "metadata": {
    "_uuid": "36f0df8ccfd64876915bb3524ce5ade194e7ba3d",
    "execution": {
     "iopub.execute_input": "2021-11-29T04:13:21.001992Z",
     "iopub.status.busy": "2021-11-29T04:13:21.001632Z",
     "iopub.status.idle": "2021-11-29T04:13:21.010779Z",
     "shell.execute_reply": "2021-11-29T04:13:21.009951Z",
     "shell.execute_reply.started": "2021-11-29T04:13:21.001950Z"
    },
    "id": "ajr6wPC6XEkK"
   },
   "outputs": [],
   "source": [
    "val_loss = history_dict['val_loss']\n",
    "val_acc = history_dict['val_accuracy']\n",
    "loss = history_dict['loss']\n",
    "acc = history_dict['accuracy']\n",
    "epochs = range(1,len(history_dict['val_loss'])+1)"
   ]
  },
  {
   "cell_type": "code",
   "execution_count": 236,
   "metadata": {
    "_uuid": "391dd25d33d15a17da3ace56d44a91639fbab50b",
    "execution": {
     "iopub.execute_input": "2021-11-29T04:13:21.012794Z",
     "iopub.status.busy": "2021-11-29T04:13:21.012244Z",
     "iopub.status.idle": "2021-11-29T04:13:21.207728Z",
     "shell.execute_reply": "2021-11-29T04:13:21.206925Z",
     "shell.execute_reply.started": "2021-11-29T04:13:21.012755Z"
    },
    "id": "skrYwwJnXEkK",
    "outputId": "cdb00fd7-f6fa-43ef-f8df-cec0ddb655aa",
    "scrolled": true
   },
   "outputs": [],
   "source": [
    "plt.plot(epochs,acc,'b-')\n",
    "plt.title('Accuracy of Model')\n",
    "plt.xlabel('epochs')\n",
    "plt.ylabel('Accuracy')\n",
    "\n",
    "plt.plot(epochs,val_acc,'b-', color = 'red')\n",
    "plt.title('Accuracy of Model')\n",
    "plt.xlabel('epochs')\n",
    "plt.ylabel('Accuracy')\n",
    "plt.show()"
   ]
  },
  {
   "cell_type": "code",
   "execution_count": 237,
   "metadata": {
    "_uuid": "f617e562701a140372075c8159c31947f3b90bb7",
    "execution": {
     "iopub.execute_input": "2021-11-29T04:13:21.209383Z",
     "iopub.status.busy": "2021-11-29T04:13:21.209114Z",
     "iopub.status.idle": "2021-11-29T04:13:21.392693Z",
     "shell.execute_reply": "2021-11-29T04:13:21.391927Z",
     "shell.execute_reply.started": "2021-11-29T04:13:21.209339Z"
    },
    "id": "xyRpWMRoXEkK",
    "outputId": "3d9a66b1-fbb4-4eb2-8d96-a6d4b179496a"
   },
   "outputs": [],
   "source": [
    "plt.plot(epochs,loss,'b-')\n",
    "plt.title('loss function')\n",
    "plt.xlabel('epochs')\n",
    "plt.ylabel('Loss')\n",
    "\n",
    "plt.plot(epochs,val_loss,'b-', color = 'red')\n",
    "plt.title('loss function')\n",
    "plt.xlabel('epochs')\n",
    "plt.ylabel('val_loss')\n",
    "plt.show()"
   ]
  },
  {
   "cell_type": "markdown",
   "metadata": {
    "id": "MFVEpbI4ZAXu"
   },
   "source": [
    "##5 Model Prediction and Kaggle submission"
   ]
  },
  {
   "cell_type": "code",
   "execution_count": 238,
   "metadata": {
    "_uuid": "9c1e62b41eca359540b11ad6404a16d8f1784a3d",
    "execution": {
     "iopub.execute_input": "2021-11-29T04:13:21.394657Z",
     "iopub.status.busy": "2021-11-29T04:13:21.393967Z",
     "iopub.status.idle": "2021-11-29T04:13:24.705094Z",
     "shell.execute_reply": "2021-11-29T04:13:24.704262Z",
     "shell.execute_reply.started": "2021-11-29T04:13:21.394617Z"
    },
    "id": "ToeF4zVRXEkK"
   },
   "outputs": [],
   "source": [
    "predicted_val_probability = cnn_model.predict(X_val, batch_size=64)"
   ]
  },
  {
   "cell_type": "code",
   "execution_count": 239,
   "metadata": {
    "execution": {
     "iopub.execute_input": "2021-11-29T04:13:24.706747Z",
     "iopub.status.busy": "2021-11-29T04:13:24.706490Z",
     "iopub.status.idle": "2021-11-29T04:13:24.713032Z",
     "shell.execute_reply": "2021-11-29T04:13:24.712213Z",
     "shell.execute_reply.started": "2021-11-29T04:13:24.706713Z"
    }
   },
   "outputs": [],
   "source": [
    "predicted_val_probability"
   ]
  },
  {
   "cell_type": "code",
   "execution_count": 240,
   "metadata": {
    "execution": {
     "iopub.execute_input": "2021-11-29T04:13:24.714730Z",
     "iopub.status.busy": "2021-11-29T04:13:24.714224Z",
     "iopub.status.idle": "2021-11-29T04:13:24.725504Z",
     "shell.execute_reply": "2021-11-29T04:13:24.724655Z",
     "shell.execute_reply.started": "2021-11-29T04:13:24.714688Z"
    }
   },
   "outputs": [],
   "source": [
    "y_val"
   ]
  },
  {
   "cell_type": "code",
   "execution_count": null,
   "metadata": {},
   "outputs": [],
   "source": []
  },
  {
   "cell_type": "code",
   "execution_count": null,
   "metadata": {},
   "outputs": [],
   "source": []
  },
  {
   "cell_type": "code",
   "execution_count": 241,
   "metadata": {
    "_uuid": "16b5c003ab117486c42bdde80f25c1e41ead387d",
    "execution": {
     "iopub.execute_input": "2021-11-29T04:13:24.727934Z",
     "iopub.status.busy": "2021-11-29T04:13:24.727249Z",
     "iopub.status.idle": "2021-11-29T04:13:24.765552Z",
     "shell.execute_reply": "2021-11-29T04:13:24.764890Z",
     "shell.execute_reply.started": "2021-11-29T04:13:24.727892Z"
    },
    "id": "4zyMKlghXEkK"
   },
   "outputs": [],
   "source": [
    "y_val_pred_label = np.round(predicted_val_probability)\n",
    "l = []\n",
    "for i in range(len(y_val_pred_label)):\n",
    "    if y_val[i] != y_val_pred_label[i]:\n",
    "        l.append(i)"
   ]
  },
  {
   "cell_type": "code",
   "execution_count": 242,
   "metadata": {
    "_uuid": "420a62d80b6556b910d8d8119173d8e56b3e9b37",
    "execution": {
     "iopub.execute_input": "2021-11-29T04:13:24.767034Z",
     "iopub.status.busy": "2021-11-29T04:13:24.766757Z",
     "iopub.status.idle": "2021-11-29T04:13:24.778312Z",
     "shell.execute_reply": "2021-11-29T04:13:24.777508Z",
     "shell.execute_reply.started": "2021-11-29T04:13:24.766998Z"
    },
    "id": "ksDGijP7XEkK"
   },
   "outputs": [],
   "source": [
    "m = []\n",
    "for t in l:\n",
    "    if predicted_val_probability[t] >= 0.5:\n",
    "        m.append(t)\n",
    "    elif predicted_val_probability[t] < 0.5:\n",
    "        m.append(t)\n",
    "    "
   ]
  },
  {
   "cell_type": "code",
   "execution_count": 243,
   "metadata": {
    "_uuid": "f0c136df87aef4f01625808ef79fc6ee25959fa7",
    "execution": {
     "iopub.execute_input": "2021-11-29T04:13:24.785569Z",
     "iopub.status.busy": "2021-11-29T04:13:24.785371Z",
     "iopub.status.idle": "2021-11-29T04:13:24.790100Z",
     "shell.execute_reply": "2021-11-29T04:13:24.789244Z",
     "shell.execute_reply.started": "2021-11-29T04:13:24.785546Z"
    },
    "id": "K8xJb93gXEkK"
   },
   "outputs": [],
   "source": [
    "predicted_val_probability[predicted_val_probability >= 0.5] = 1\n",
    "predicted_val_probability[predicted_val_probability < 0.5] = 0"
   ]
  },
  {
   "cell_type": "code",
   "execution_count": 244,
   "metadata": {
    "execution": {
     "iopub.execute_input": "2021-11-29T04:13:24.791759Z",
     "iopub.status.busy": "2021-11-29T04:13:24.791375Z",
     "iopub.status.idle": "2021-11-29T04:13:24.878316Z",
     "shell.execute_reply": "2021-11-29T04:13:24.877509Z",
     "shell.execute_reply.started": "2021-11-29T04:13:24.791714Z"
    }
   },
   "outputs": [],
   "source": [
    "print(metrics.confusion_matrix(y_val, predicted_val_probability))         ## confusion_matrix\n",
    "print(metrics.classification_report(y_val, predicted_val_probability))"
   ]
  },
  {
   "cell_type": "code",
   "execution_count": 245,
   "metadata": {
    "execution": {
     "iopub.execute_input": "2021-11-29T04:13:24.879875Z",
     "iopub.status.busy": "2021-11-29T04:13:24.879556Z",
     "iopub.status.idle": "2021-11-29T04:13:25.168231Z",
     "shell.execute_reply": "2021-11-29T04:13:25.167551Z",
     "shell.execute_reply.started": "2021-11-29T04:13:24.879831Z"
    }
   },
   "outputs": [],
   "source": [
    "#ROC curve\n",
    "cnn_fpr, cnn_tpr, cnn_threshold = roc_curve(y_val, predicted_val_probability)\n",
    "roc_auc_score_cnn=roc_auc_score(y_val, predicted_val_probability)\n",
    "\n",
    "def graph_roc_curve_multiple(cnn_fpr, cnn_tpr):\n",
    "    plt.figure(figsize=(10,10))\n",
    "    plt.title('ROC Curve', fontsize=14)\n",
    "    plt.plot(svm_fpr, svm_tpr, label='roc_auc_score_svm:%.5s' % roc_auc_score_cnn)\n",
    "    plt.plot([0, 1], [0, 1], 'k--')\n",
    "    plt.axis([-0.01, 1, 0, 1])\n",
    "    plt.xlabel('False Positive Rate', fontsize=13)\n",
    "    plt.ylabel('True Positive Rate', fontsize=13)\n",
    "    plt.annotate('Minimum ROC Score of 50% \\n (This is the minimum score to get)', xy=(0.5, 0.5), xytext=(0.6, 0.3),\n",
    "                arrowprops=dict(facecolor='#6E726D', shrink=0.05),\n",
    "                )\n",
    "    plt.legend()\n",
    "    \n",
    "graph_roc_curve_multiple(cnn_fpr, cnn_tpr)\n",
    "plt.show()"
   ]
  },
  {
   "cell_type": "code",
   "execution_count": 246,
   "metadata": {
    "execution": {
     "iopub.execute_input": "2021-11-29T04:13:25.169867Z",
     "iopub.status.busy": "2021-11-29T04:13:25.169614Z",
     "iopub.status.idle": "2021-11-29T04:13:25.175161Z",
     "shell.execute_reply": "2021-11-29T04:13:25.174390Z",
     "shell.execute_reply.started": "2021-11-29T04:13:25.169835Z"
    },
    "id": "ntGwsXYbM5cL",
    "outputId": "82c4a2c3-9d41-4d56-f071-f5f00a7167c0"
   },
   "outputs": [],
   "source": [
    "predicted_val_probability.flatten()"
   ]
  },
  {
   "cell_type": "code",
   "execution_count": null,
   "metadata": {
    "id": "sLANgsfUNCfK"
   },
   "outputs": [],
   "source": []
  },
  {
   "cell_type": "code",
   "execution_count": 247,
   "metadata": {
    "execution": {
     "iopub.execute_input": "2021-11-29T04:13:25.176899Z",
     "iopub.status.busy": "2021-11-29T04:13:25.176489Z",
     "iopub.status.idle": "2021-11-29T04:13:25.186044Z",
     "shell.execute_reply": "2021-11-29T04:13:25.185051Z",
     "shell.execute_reply.started": "2021-11-29T04:13:25.176863Z"
    },
    "id": "fKqySEyUMyeF",
    "outputId": "60398528-4823-408a-9187-eb2274fc8700"
   },
   "outputs": [],
   "source": [
    "len(predicted_val_probability)"
   ]
  },
  {
   "cell_type": "code",
   "execution_count": 248,
   "metadata": {
    "execution": {
     "iopub.execute_input": "2021-11-29T04:13:25.187914Z",
     "iopub.status.busy": "2021-11-29T04:13:25.187550Z",
     "iopub.status.idle": "2021-11-29T04:13:25.195909Z",
     "shell.execute_reply": "2021-11-29T04:13:25.194874Z",
     "shell.execute_reply.started": "2021-11-29T04:13:25.187873Z"
    }
   },
   "outputs": [],
   "source": [
    "type(predicted_val_probability)"
   ]
  },
  {
   "cell_type": "code",
   "execution_count": 249,
   "metadata": {
    "_uuid": "e2e6144870ed37a0766ef8005eccef28526c2af6",
    "execution": {
     "iopub.execute_input": "2021-11-29T04:13:25.197976Z",
     "iopub.status.busy": "2021-11-29T04:13:25.197678Z",
     "iopub.status.idle": "2021-11-29T04:13:25.202703Z",
     "shell.execute_reply": "2021-11-29T04:13:25.201812Z",
     "shell.execute_reply.started": "2021-11-29T04:13:25.197940Z"
    },
    "id": "g3CAFHzgXEkL",
    "outputId": "8c03480c-1a81-4641-d747-eab0ac9465f4"
   },
   "outputs": [],
   "source": [
    "# plt.figure(figsize=(20,20))\n",
    "# c = 1\n",
    "# for i in m[:]:\n",
    "#     plt.subplot(5,5,c)\n",
    "#     plt.imshow(X_val[i])\n",
    "#     plt.title('DOG:{}\\nTrue label:{}'.format(predicted_val_probability[i], y_val[i])\n",
    "#               if predicted_val_probability[i]>= 0.5 else 'CAT:{}\\nTrue label:{}'.format(predicted_val_probability[i],y_val[i]))\n",
    "#     plt.axis('off')\n",
    "#     c = c+1"
   ]
  },
  {
   "cell_type": "code",
   "execution_count": 250,
   "metadata": {
    "_uuid": "c25765553e1db2d44ebcb91fcb7b981a00603be8",
    "execution": {
     "iopub.execute_input": "2021-11-29T04:13:25.204654Z",
     "iopub.status.busy": "2021-11-29T04:13:25.204406Z",
     "iopub.status.idle": "2021-11-29T04:13:57.854435Z",
     "shell.execute_reply": "2021-11-29T04:13:57.851944Z",
     "shell.execute_reply.started": "2021-11-29T04:13:25.204621Z"
    },
    "id": "dq39oLZdXEkL",
    "outputId": "59f09496-dc55-4f0e-9b2b-847c98f922e2"
   },
   "outputs": [],
   "source": [
    "X_Test_orig = []\n",
    "for i in os.listdir('/kaggle/working/test/'):\n",
    "    label = i.split('.')[-2]\n",
    "    img = cv2.imread('/kaggle/working/test/'+i, cv2.IMREAD_COLOR)\n",
    "    img = cv2.resize(img,(IMG_SIZE,IMG_SIZE), interpolation = cv2.INTER_CUBIC)\n",
    "    #img = img / 255\n",
    "    X_Test_orig.append([np.array(img), np.array(label)])\n",
    "\n",
    "np.save('Test_Data.npy', X_Train_orig)"
   ]
  },
  {
   "cell_type": "code",
   "execution_count": 251,
   "metadata": {
    "_uuid": "076a820fa95d5987acf8ac655460c2e694e9bfb4",
    "execution": {
     "iopub.execute_input": "2021-11-29T04:13:57.857259Z",
     "iopub.status.busy": "2021-11-29T04:13:57.856236Z",
     "iopub.status.idle": "2021-11-29T04:13:58.131379Z",
     "shell.execute_reply": "2021-11-29T04:13:58.130569Z",
     "shell.execute_reply.started": "2021-11-29T04:13:57.857203Z"
    },
    "id": "vz58Gh7QXEkL"
   },
   "outputs": [],
   "source": [
    "X_test = np.array([i[0] for i in X_Test_orig]).reshape(-1,IMG_SIZE, IMG_SIZE, 3)\n",
    "Label = np.array([i[1] for i in X_Test_orig])"
   ]
  },
  {
   "cell_type": "code",
   "execution_count": 252,
   "metadata": {
    "_uuid": "29fb0a8ed8e1de26575c8d1748a10155f104eab8",
    "execution": {
     "iopub.execute_input": "2021-11-29T04:13:58.133422Z",
     "iopub.status.busy": "2021-11-29T04:13:58.132829Z",
     "iopub.status.idle": "2021-11-29T04:13:59.340351Z",
     "shell.execute_reply": "2021-11-29T04:13:59.339552Z",
     "shell.execute_reply.started": "2021-11-29T04:13:58.133363Z"
    },
    "id": "8vGDtP3gXEkL"
   },
   "outputs": [],
   "source": [
    "X_test = X_test / 255"
   ]
  },
  {
   "cell_type": "code",
   "execution_count": 253,
   "metadata": {
    "_uuid": "eb8b4ac08954ebc942a4f158aae441b5df88c532",
    "execution": {
     "iopub.execute_input": "2021-11-29T04:13:59.341786Z",
     "iopub.status.busy": "2021-11-29T04:13:59.341530Z",
     "iopub.status.idle": "2021-11-29T04:14:06.085695Z",
     "shell.execute_reply": "2021-11-29T04:14:06.084976Z",
     "shell.execute_reply.started": "2021-11-29T04:13:59.341753Z"
    },
    "id": "Glz8duDNXEkL",
    "outputId": "36e99a49-c778-4dae-8601-2ea5fe7fa748"
   },
   "outputs": [],
   "source": [
    "classes = cnn_model.predict(X_test, batch_size = batch_size), \n",
    "classes"
   ]
  },
  {
   "cell_type": "code",
   "execution_count": 254,
   "metadata": {
    "execution": {
     "iopub.execute_input": "2021-11-29T04:14:06.091621Z",
     "iopub.status.busy": "2021-11-29T04:14:06.091417Z",
     "iopub.status.idle": "2021-11-29T04:14:06.125330Z",
     "shell.execute_reply": "2021-11-29T04:14:06.124586Z",
     "shell.execute_reply.started": "2021-11-29T04:14:06.091595Z"
    }
   },
   "outputs": [],
   "source": [
    "print(max(classes[0]))\n",
    "print(min(classes[0]))"
   ]
  },
  {
   "cell_type": "code",
   "execution_count": 255,
   "metadata": {
    "execution": {
     "iopub.execute_input": "2021-11-29T04:14:06.126969Z",
     "iopub.status.busy": "2021-11-29T04:14:06.126631Z",
     "iopub.status.idle": "2021-11-29T04:14:06.149395Z",
     "shell.execute_reply": "2021-11-29T04:14:06.148566Z",
     "shell.execute_reply.started": "2021-11-29T04:14:06.126934Z"
    }
   },
   "outputs": [],
   "source": [
    "prediction = pd.DataFrame()\n",
    "prediction['id'] = Label\n",
    "prediction['label'] = classes[0].flatten()\n",
    "prediction['id'] = prediction['id'].astype(int)"
   ]
  },
  {
   "cell_type": "code",
   "execution_count": 256,
   "metadata": {
    "execution": {
     "iopub.execute_input": "2021-11-29T04:14:06.150918Z",
     "iopub.status.busy": "2021-11-29T04:14:06.150670Z",
     "iopub.status.idle": "2021-11-29T04:14:06.180256Z",
     "shell.execute_reply": "2021-11-29T04:14:06.179293Z",
     "shell.execute_reply.started": "2021-11-29T04:14:06.150872Z"
    }
   },
   "outputs": [],
   "source": [
    "type(prediction)\n",
    "prediction.shape\n",
    "prediction.info()"
   ]
  },
  {
   "cell_type": "code",
   "execution_count": 257,
   "metadata": {
    "_uuid": "187383744f503a192f31139351b4280f54379827",
    "execution": {
     "iopub.execute_input": "2021-11-29T04:14:06.182584Z",
     "iopub.status.busy": "2021-11-29T04:14:06.182224Z",
     "iopub.status.idle": "2021-11-29T04:14:06.231305Z",
     "shell.execute_reply": "2021-11-29T04:14:06.230627Z",
     "shell.execute_reply.started": "2021-11-29T04:14:06.182551Z"
    },
    "id": "UCbwi-HJXEkL"
   },
   "outputs": [],
   "source": [
    "\n",
    "#prediction.loc[prediction['label'] >= 0.5, 'label'] = 0.99\n",
    "#prediction.loc[prediction['label'] < 0.5, 'label'] = 0.01\n",
    "\n",
    "prediction.sort_values(by='id',ascending=True,inplace=True)\n",
    "prediction.to_csv('submission_v5.csv', index = False)\n",
    "prediction.head()"
   ]
  },
  {
   "cell_type": "code",
   "execution_count": null,
   "metadata": {},
   "outputs": [],
   "source": []
  },
  {
   "cell_type": "code",
   "execution_count": null,
   "metadata": {},
   "outputs": [],
   "source": []
  },
  {
   "cell_type": "markdown",
   "metadata": {},
   "source": [
    "## Running Some other models"
   ]
  },
  {
   "cell_type": "code",
   "execution_count": 258,
   "metadata": {
    "execution": {
     "iopub.execute_input": "2021-11-29T04:14:06.233008Z",
     "iopub.status.busy": "2021-11-29T04:14:06.232749Z",
     "iopub.status.idle": "2021-11-29T04:20:43.282403Z",
     "shell.execute_reply": "2021-11-29T04:20:43.281594Z",
     "shell.execute_reply.started": "2021-11-29T04:14:06.232975Z"
    }
   },
   "outputs": [],
   "source": [
    "#Model 2\n",
    "def cnn_model(input_shape):    \n",
    "    \n",
    "    X_input = Input(input_shape)\n",
    "    \n",
    "    X = Conv2D(64, (3, 3), strides = (1, 1), padding = 'same', name = 'conv2')(X_input) \n",
    "    X = BatchNormalization(axis = 3, name = 'bn2')(X)\n",
    "    X = Activation('relu')(X) \n",
    "\n",
    "    X = MaxPooling2D((3, 3), name='max_pool_0')(X)\n",
    "    X = Dropout(0.3)(X)\n",
    "\n",
    "    X = Conv2D(128, (3, 3), strides = (1, 1), padding = 'same', name = 'conv3')(X) \n",
    "    X = BatchNormalization(axis = 3, name = 'bn3')(X)\n",
    "    X = Activation('relu')(X)\n",
    "    \n",
    "    X = Conv2D(256, (3, 3), strides = (1, 1), padding = 'same', name = 'conv4')(X) \n",
    "    X = BatchNormalization(axis = 3, name = 'bn4')(X)\n",
    "    X = Activation('relu')(X)\n",
    "    \n",
    "   \n",
    "    X = MaxPooling2D((3, 3), name='max_pool_1')(X)\n",
    "    X = Dropout(0.3)(X)\n",
    "    \n",
    "    # Flatten the data.\n",
    "    X = Flatten()(X)\n",
    "    # Dense Layer\n",
    "    X = Dense(4096, activation='relu', name='fc1')(X)\n",
    "    X = Dropout(0.1)(X)\n",
    "    X = Dense(1024, activation='relu', name='fc2')(X)\n",
    "    X = Dropout(0.1)(X)\n",
    "    X = Dense(256, activation='relu', name='fc3')(X)\n",
    "    # Using softmax function to get the output\n",
    "    X = Dense(1, activation='sigmoid', name='fc4')(X)\n",
    "    \n",
    "    model = Model(inputs = X_input, outputs = X, name='model')\n",
    "    \n",
    "    return model\n",
    "\n",
    "\n",
    "\n",
    "\n",
    "cnn_model = cnn_model(X_train.shape[1:4])\n",
    "epochs = 30\n",
    "batch_size = 64\n",
    "learning_rate = 0.001\n",
    "decay = learning_rate/epochs\n",
    "optimizer = Adam(learning_rate=learning_rate, epsilon=1e-08, decay = decay)\n",
    "cnn_model.compile(loss='binary_crossentropy', optimizer=optimizer, metrics=['accuracy'])\n",
    "learning_rate_reduction = ReduceLROnPlateau(monitor='val_acc', \n",
    "                                            patience=1, \n",
    "                                            verbose=1, \n",
    "                                            factor=0.5, \n",
    "                                            min_lr=0.0001)\n",
    "early_stopping = EarlyStopping(monitor='val_accuracy', patience=10, verbose=1, restore_best_weights=True, mode='auto')\n",
    "cnn_history = cnn_model.fit(x = X_train, y = y_train, batch_size = batch_size, \n",
    "                        epochs=epochs, verbose=1, \n",
    "                        validation_data = (X_val, y_val),\n",
    "                          shuffle = True, \n",
    "                          steps_per_epoch= None, validation_steps=None,\n",
    "                                  callbacks=[learning_rate_reduction, early_stopping] )\n",
    "\n",
    "preds = cnn_model.evaluate(X_train, y_train)\n",
    "print (\"Loss = \" + str(preds[0]))\n",
    "print (\"Train set Accuracy = \" + str(preds[1]))\n",
    "\n",
    "preds_val = cnn_model.evaluate(X_val, y_val)\n",
    "print (\"Loss = \" + str(preds_val[0]))\n",
    "print (\"Validation Set Accuracy = \" + str(preds_val[1]))\n",
    "\n",
    "history_df = pd. DataFrame(cnn_history.history)\n",
    "history_df.loc[:,['loss', 'val_loss']].plot()\n",
    "history_df.loc[:,['accuracy', 'val_accuracy']].plot()\n",
    "history_dict = cnn_history.history\n",
    "history_dict.keys()\n",
    "\n",
    "val_loss = history_dict['val_loss']\n",
    "val_acc = history_dict['val_accuracy']\n",
    "loss = history_dict['loss']\n",
    "acc = history_dict['accuracy']\n",
    "epochs = range(1,len(history_dict['val_loss'])+1)\n",
    "\n",
    "plt.plot(epochs,acc,'b-')\n",
    "plt.title('Accuracy of Model')\n",
    "plt.xlabel('epochs')\n",
    "plt.ylabel('Accuracy')\n",
    "\n",
    "plt.plot(epochs,val_acc,'b-', color = 'red')\n",
    "plt.title('Accuracy of Model')\n",
    "plt.xlabel('epochs')\n",
    "plt.ylabel('Accuracy')\n",
    "plt.show()\n",
    "\n",
    "plt.plot(epochs,loss,'b-')\n",
    "plt.title('loss function')\n",
    "plt.xlabel('epochs')\n",
    "plt.ylabel('Loss')\n",
    "\n",
    "plt.plot(epochs,val_loss,'b-', color = 'red')\n",
    "plt.title('loss function')\n",
    "plt.xlabel('epochs')\n",
    "plt.ylabel('val_loss')\n",
    "plt.show()\n",
    "\n",
    "predicted_val_probability = cnn_model.predict(X_val, batch_size=64)\n",
    "\n"
   ]
  },
  {
   "cell_type": "code",
   "execution_count": 259,
   "metadata": {
    "execution": {
     "iopub.execute_input": "2021-11-29T04:20:43.285423Z",
     "iopub.status.busy": "2021-11-29T04:20:43.285164Z",
     "iopub.status.idle": "2021-11-29T04:20:43.291450Z",
     "shell.execute_reply": "2021-11-29T04:20:43.290614Z",
     "shell.execute_reply.started": "2021-11-29T04:20:43.285387Z"
    }
   },
   "outputs": [],
   "source": [
    "predicted_val_probability"
   ]
  },
  {
   "cell_type": "code",
   "execution_count": 262,
   "metadata": {
    "execution": {
     "iopub.execute_input": "2021-11-29T04:23:10.429059Z",
     "iopub.status.busy": "2021-11-29T04:23:10.428754Z",
     "iopub.status.idle": "2021-11-29T04:23:10.785845Z",
     "shell.execute_reply": "2021-11-29T04:23:10.785138Z",
     "shell.execute_reply.started": "2021-11-29T04:23:10.429027Z"
    }
   },
   "outputs": [],
   "source": [
    "predicted_val_probability[predicted_val_probability >= 0.5] = 1\n",
    "predicted_val_probability[predicted_val_probability < 0.5] = 0\n",
    "print(metrics.confusion_matrix(y_val, predicted_val_probability))         ## confusion_matrix\n",
    "print(metrics.classification_report(y_val, predicted_val_probability))\n",
    "\n",
    "#ROC curve\n",
    "cnn_fpr, cnn_tpr, cnn_threshold = roc_curve(y_val, predicted_val_probability)\n",
    "roc_auc_score_cnn=roc_auc_score(y_val, predicted_val_probability)\n",
    "\n",
    "def graph_roc_curve_multiple(cnn_fpr, cnn_tpr):\n",
    "    plt.figure(figsize=(10,10))\n",
    "    plt.title('ROC Curve', fontsize=14)\n",
    "    plt.plot(svm_fpr, svm_tpr, label='roc_auc_score_cnn:%.5s' % roc_auc_score_cnn)\n",
    "    plt.plot([0, 1], [0, 1], 'k--')\n",
    "    plt.axis([-0.01, 1, 0, 1])\n",
    "    plt.xlabel('False Positive Rate', fontsize=13)\n",
    "    plt.ylabel('True Positive Rate', fontsize=13)\n",
    "    plt.annotate('Minimum ROC Score of 50% \\n (This is the minimum score to get)', xy=(0.5, 0.5), xytext=(0.6, 0.3),\n",
    "                arrowprops=dict(facecolor='#6E726D', shrink=0.05),\n",
    "                )\n",
    "    plt.legend()\n",
    "    \n",
    "graph_roc_curve_multiple(cnn_fpr, cnn_tpr)\n",
    "plt.show()"
   ]
  },
  {
   "cell_type": "code",
   "execution_count": 261,
   "metadata": {
    "execution": {
     "iopub.execute_input": "2021-11-29T04:20:43.819925Z",
     "iopub.status.busy": "2021-11-29T04:20:43.819463Z",
     "iopub.status.idle": "2021-11-29T04:20:43.925858Z",
     "shell.execute_reply": "2021-11-29T04:20:43.923782Z",
     "shell.execute_reply.started": "2021-11-29T04:20:43.819881Z"
    }
   },
   "outputs": [],
   "source": [
    "#Model 3\n",
    "def cnn_model(input_shape):    \n",
    "    \n",
    "    X = Conv2D(128, (3, 3), strides = (1, 1), padding = 'same', name = 'conv3')(X) \n",
    "    X = BatchNormalization(axis = 3, name = 'bn3')(X)\n",
    "    X = Activation('relu')(X)\n",
    "    \n",
    "    X = Conv2D(128, (3, 3), strides = (1, 1), padding = 'same', name = 'conv4')(X) \n",
    "    X = BatchNormalization(axis = 3, name = 'bn4')(X)\n",
    "    X = Activation('relu')(X)\n",
    "    \n",
    "    X = Conv2D(128, (3, 3), strides = (1, 1), padding = 'same', name = 'conv5')(X) \n",
    "    X = BatchNormalization(axis = 3, name = 'bn5')(X)\n",
    "    X = Activation('relu')(X)\n",
    "    \n",
    "    X = MaxPooling2D((3, 3), name='max_pool_1')(X)\n",
    "    X = Dropout(0.3)(X)\n",
    "    \n",
    "    # Flatten the data.\n",
    "    X = Flatten()(X)\n",
    "    # Dense Layer\n",
    "    X = Dense(4096, activation='relu', name='fc1')(X)\n",
    "    X = Dropout(0.1)(X)\n",
    "    X = Dense(1024, activation='relu', name='fc2')(X)\n",
    "    X = Dropout(0.1)(X)\n",
    "    X = Dense(256, activation='relu', name='fc3')(X)\n",
    "    # Using softmax function to get the output\n",
    "    X = Dense(1, activation='sigmoid', name='fc4')(X)\n",
    "    \n",
    "    model = Model(inputs = X_input, outputs = X, name='model')\n",
    "    \n",
    "    return model\n",
    "\n",
    "\n",
    "\n",
    "\n",
    "cnn_model = cnn_model(X_train.shape[1:4])\n",
    "epochs = 30\n",
    "batch_size = 64\n",
    "learning_rate = 0.001\n",
    "decay = learning_rate/epochs\n",
    "optimizer = Adam(learning_rate=learning_rate, epsilon=1e-08, decay = decay)\n",
    "cnn_model.compile(loss='binary_crossentropy', optimizer=optimizer, metrics=['accuracy'])\n",
    "learning_rate_reduction = ReduceLROnPlateau(monitor='val_acc', \n",
    "                                            patience=1, \n",
    "                                            verbose=1, \n",
    "                                            factor=0.5, \n",
    "                                            min_lr=0.0001)\n",
    "early_stopping = EarlyStopping(monitor='val_accuracy', patience=30, verbose=1, restore_best_weights=True, mode='auto')\n",
    "cnn_history = cnn_model.fit(x = X_train, y = y_train, batch_size = batch_size, \n",
    "                        epochs=epochs, verbose=1, \n",
    "                        validation_data = (X_val, y_val),\n",
    "                          shuffle = True, \n",
    "                          steps_per_epoch= None, validation_steps=None,\n",
    "                                  callbacks=[learning_rate_reduction, early_stopping] )\n",
    "\n",
    "preds = cnn_model.evaluate(X_train, y_train)\n",
    "print (\"Loss = \" + str(preds[0]))\n",
    "print (\"Train set Accuracy = \" + str(preds[1]))\n",
    "\n",
    "preds_val = cnn_model.evaluate(X_val, y_val)\n",
    "print (\"Loss = \" + str(preds_val[0]))\n",
    "print (\"Validation Set Accuracy = \" + str(preds_val[1]))\n",
    "\n",
    "history_df = pd. DataFrame(cnn_history.history)\n",
    "history_df.loc[:,['loss', 'val_loss']].plot()\n",
    "history_df.loc[:,['accuracy', 'val_accuracy']].plot()\n",
    "history_dict = cnn_history.history\n",
    "history_dict.keys()\n",
    "\n",
    "val_loss = history_dict['val_loss']\n",
    "val_acc = history_dict['val_accuracy']\n",
    "loss = history_dict['loss']\n",
    "acc = history_dict['accuracy']\n",
    "epochs = range(1,len(history_dict['val_loss'])+1)\n",
    "\n",
    "plt.plot(epochs,acc,'b-')\n",
    "plt.title('Accuracy of Model')\n",
    "plt.xlabel('epochs')\n",
    "plt.ylabel('Accuracy')\n",
    "\n",
    "plt.plot(epochs,val_acc,'b-', color = 'red')\n",
    "plt.title('Accuracy of Model')\n",
    "plt.xlabel('epochs')\n",
    "plt.ylabel('Accuracy')\n",
    "plt.show()\n",
    "\n",
    "plt.plot(epochs,loss,'b-')\n",
    "plt.title('loss function')\n",
    "plt.xlabel('epochs')\n",
    "plt.ylabel('Loss')\n",
    "\n",
    "plt.plot(epochs,val_loss,'b-', color = 'red')\n",
    "plt.title('loss function')\n",
    "plt.xlabel('epochs')\n",
    "plt.ylabel('val_loss')\n",
    "plt.show()\n",
    "\n",
    "predicted_val_probability = cnn_model.predict(X_val, batch_size=64)\n",
    "\n",
    "predicted_val_probability[predicted_val_probability >= 0.5] = 1\n",
    "predicted_val_probability[predicted_val_probability < 0.5] = 0\n",
    "print(metrics.confusion_matrix(y_val, predicted_val_probability))         ## confusion_matrix\n",
    "print(metrics.classification_report(y_val, predicted_val_probability))\n",
    "\n",
    "#ROC curve\n",
    "cnn_fpr, cnn_tpr, cnn_threshold = roc_curve(y_val, predicted_val_probability)\n",
    "roc_auc_score_cnn=roc_auc_score(y_val, predicted_val_probability)\n",
    "\n",
    "def graph_roc_curve_multiple(cnn_fpr, cnn_tpr):\n",
    "    plt.figure(figsize=(10,10))\n",
    "    plt.title('ROC Curve', fontsize=14)\n",
    "    plt.plot(svm_fpr, svm_tpr, label='roc_auc_score_svm:%.5s' % roc_auc_score_cnn)\n",
    "    plt.plot([0, 1], [0, 1], 'k--')\n",
    "    plt.axis([-0.01, 1, 0, 1])\n",
    "    plt.xlabel('False Positive Rate', fontsize=13)\n",
    "    plt.ylabel('True Positive Rate', fontsize=13)\n",
    "    plt.annotate('Minimum ROC Score of 50% \\n (This is the minimum score to get)', xy=(0.5, 0.5), xytext=(0.6, 0.3),\n",
    "                arrowprops=dict(facecolor='#6E726D', shrink=0.05),\n",
    "                )\n",
    "    plt.legend()\n",
    "    \n",
    "graph_roc_curve_multiple(cnn_fpr, cnn_tpr)\n",
    "plt.show()"
   ]
  },
  {
   "cell_type": "code",
   "execution_count": null,
   "metadata": {
    "execution": {
     "iopub.status.busy": "2021-11-29T04:20:43.928548Z",
     "iopub.status.idle": "2021-11-29T04:20:43.929312Z",
     "shell.execute_reply": "2021-11-29T04:20:43.929099Z",
     "shell.execute_reply.started": "2021-11-29T04:20:43.929058Z"
    }
   },
   "outputs": [],
   "source": [
    "# Swapping train and test data to fulfil 2x2 completely crossed design\n",
    "temp=X_train.copy()\n",
    "X_train = X_val.copy()\n",
    "X_val = temp.copy()\n",
    "\n",
    "temp=y_train.copy()\n",
    "y_train=y_val.copy()\n",
    "y_val=temp.copy()\n",
    "\n",
    "print(X_train.shape)\n",
    "print(y_train.shape)\n",
    "print(X_val.shape)\n",
    "print(y_val.shape)"
   ]
  },
  {
   "cell_type": "code",
   "execution_count": null,
   "metadata": {
    "execution": {
     "iopub.status.busy": "2021-11-29T04:20:43.930546Z",
     "iopub.status.idle": "2021-11-29T04:20:43.930924Z",
     "shell.execute_reply": "2021-11-29T04:20:43.930733Z",
     "shell.execute_reply.started": "2021-11-29T04:20:43.930713Z"
    }
   },
   "outputs": [],
   "source": [
    "#Doing cross validation\n",
    "def cnn_model(input_shape):    \n",
    "    \n",
    "    X_input = Input(input_shape)\n",
    "\n",
    "    X = Conv2D(64, (3, 3), strides = (1, 1), padding = 'same', name = 'conv1')(X_input) \n",
    "    X = BatchNormalization(axis = 3, name = 'bn1')(X)\n",
    "    X = Activation('relu')(X) \n",
    "    \n",
    "    X = Conv2D(64, (3, 3), strides = (1, 1), padding = 'same', name = 'conv2')(X_input) \n",
    "    X = BatchNormalization(axis = 3, name = 'bn2')(X)\n",
    "    X = Activation('relu')(X) \n",
    "\n",
    "    X = MaxPooling2D((3, 3), name='max_pool_0')(X)\n",
    "    X = Dropout(0.3)(X)\n",
    "\n",
    "    X = Conv2D(128, (3, 3), strides = (1, 1), padding = 'same', name = 'conv3')(X) \n",
    "    X = BatchNormalization(axis = 3, name = 'bn3')(X)\n",
    "    X = Activation('relu')(X)\n",
    "    \n",
    "    X = Conv2D(128, (3, 3), strides = (1, 1), padding = 'same', name = 'conv4')(X) \n",
    "    X = BatchNormalization(axis = 3, name = 'bn4')(X)\n",
    "    X = Activation('relu')(X)\n",
    "    \n",
    "    X = Conv2D(128, (3, 3), strides = (1, 1), padding = 'same', name = 'conv5')(X) \n",
    "    X = BatchNormalization(axis = 3, name = 'bn5')(X)\n",
    "    X = Activation('relu')(X)\n",
    "   \n",
    "    X = MaxPooling2D((3, 3), name='max_pool_1')(X)\n",
    "    X = Dropout(0.3)(X)\n",
    "    \n",
    "    # Flatten the data.\n",
    "    X = Flatten()(X)\n",
    "    # Dense Layer\n",
    "    X = Dense(4096, activation='relu', name='fc1')(X)\n",
    "    X = Dropout(0.1)(X)\n",
    "    X = Dense(1024, activation='relu', name='fc2')(X)\n",
    "    X = Dropout(0.1)(X)\n",
    "    X = Dense(256, activation='relu', name='fc3')(X)\n",
    "    # Using softmax function to get the output\n",
    "    X = Dense(1, activation='sigmoid', name='fc4')(X)\n",
    "    \n",
    "    model = Model(inputs = X_input, outputs = X, name='model')\n",
    "    \n",
    "    return model\n",
    "\n",
    "\n",
    "\n",
    "\n",
    "cnn_model = cnn_model(X_train.shape[1:4])\n",
    "epochs = 30\n",
    "batch_size = 64\n",
    "learning_rate = 0.001\n",
    "decay = learning_rate/epochs\n",
    "optimizer = Adam(learning_rate=learning_rate, epsilon=1e-08, decay = decay)\n",
    "cnn_model.compile(loss='binary_crossentropy', optimizer=optimizer, metrics=['accuracy'])\n",
    "learning_rate_reduction = ReduceLROnPlateau(monitor='val_acc', \n",
    "                                            patience=1, \n",
    "                                            verbose=1, \n",
    "                                            factor=0.5, \n",
    "                                            min_lr=0.0001)\n",
    "early_stopping = EarlyStopping(monitor='val_accuracy', patience=30, verbose=1, restore_best_weights=True, mode='auto')\n",
    "cnn_history = cnn_model.fit(x = X_train, y = y_train, batch_size = batch_size, \n",
    "                        epochs=epochs, verbose=1, \n",
    "                        validation_data = (X_val, y_val),\n",
    "                          shuffle = True, \n",
    "                          steps_per_epoch= None, validation_steps=None,\n",
    "                                  callbacks=[learning_rate_reduction, early_stopping] )\n",
    "\n",
    "preds = cnn_model.evaluate(X_train, y_train)\n",
    "print (\"Loss = \" + str(preds[0]))\n",
    "print (\"Train set Accuracy = \" + str(preds[1]))\n",
    "\n",
    "preds_val = cnn_model.evaluate(X_val, y_val)\n",
    "print (\"Loss = \" + str(preds_val[0]))\n",
    "print (\"Validation Set Accuracy = \" + str(preds_val[1]))\n",
    "\n",
    "history_df = pd. DataFrame(cnn_history.history)\n",
    "history_df.loc[:,['loss', 'val_loss']].plot()\n",
    "history_df.loc[:,['accuracy', 'val_accuracy']].plot()\n",
    "history_dict = cnn_history.history\n",
    "history_dict.keys()\n",
    "\n",
    "val_loss = history_dict['val_loss']\n",
    "val_acc = history_dict['val_accuracy']\n",
    "loss = history_dict['loss']\n",
    "acc = history_dict['accuracy']\n",
    "epochs = range(1,len(history_dict['val_loss'])+1)\n",
    "\n",
    "plt.plot(epochs,acc,'b-')\n",
    "plt.title('Accuracy of Model')\n",
    "plt.xlabel('epochs')\n",
    "plt.ylabel('Accuracy')\n",
    "\n",
    "plt.plot(epochs,val_acc,'b-', color = 'red')\n",
    "plt.title('Accuracy of Model')\n",
    "plt.xlabel('epochs')\n",
    "plt.ylabel('Accuracy')\n",
    "plt.show()\n",
    "\n",
    "plt.plot(epochs,loss,'b-')\n",
    "plt.title('loss function')\n",
    "plt.xlabel('epochs')\n",
    "plt.ylabel('Loss')\n",
    "\n",
    "plt.plot(epochs,val_loss,'b-', color = 'red')\n",
    "plt.title('loss function')\n",
    "plt.xlabel('epochs')\n",
    "plt.ylabel('val_loss')\n",
    "plt.show()\n",
    "\n",
    "predicted_val_probability = cnn_model.predict(X_val, batch_size=64)\n",
    "\n",
    "predicted_val_probability[predicted_val_probability >= 0.5] = 1\n",
    "predicted_val_probability[predicted_val_probability < 0.5] = 0\n",
    "\n",
    "print(metrics.confusion_matrix(y_val, predicted_val_probability))         ## confusion_matrix\n",
    "print(metrics.classification_report(y_val, predicted_val_probability))\n",
    "\n",
    "#ROC curve\n",
    "cnn_fpr, cnn_tpr, cnn_threshold = roc_curve(y_val, predicted_val_probability)\n",
    "roc_auc_score_cnn=roc_auc_score(y_val, predicted_val_probability)\n",
    "\n",
    "def graph_roc_curve_multiple(cnn_fpr, cnn_tpr):\n",
    "    plt.figure(figsize=(10,10))\n",
    "    plt.title('ROC Curve', fontsize=14)\n",
    "    plt.plot(svm_fpr, svm_tpr, label='roc_auc_score_svm:%.5s' % roc_auc_score_cnn)\n",
    "    plt.plot([0, 1], [0, 1], 'k--')\n",
    "    plt.axis([-0.01, 1, 0, 1])\n",
    "    plt.xlabel('False Positive Rate', fontsize=13)\n",
    "    plt.ylabel('True Positive Rate', fontsize=13)\n",
    "    plt.annotate('Minimum ROC Score of 50% \\n (This is the minimum score to get)', xy=(0.5, 0.5), xytext=(0.6, 0.3),\n",
    "                arrowprops=dict(facecolor='#6E726D', shrink=0.05),\n",
    "                )\n",
    "    plt.legend()\n",
    "    \n",
    "graph_roc_curve_multiple(cnn_fpr, cnn_tpr)\n",
    "plt.show()"
   ]
  },
  {
   "cell_type": "code",
   "execution_count": null,
   "metadata": {},
   "outputs": [],
   "source": []
  },
  {
   "cell_type": "code",
   "execution_count": null,
   "metadata": {},
   "outputs": [],
   "source": []
  }
 ],
 "metadata": {
  "kernelspec": {
   "display_name": "Python 3 (ipykernel)",
   "language": "python",
   "name": "python3"
  },
  "language_info": {
   "codemirror_mode": {
    "name": "ipython",
    "version": 3
   },
   "file_extension": ".py",
   "mimetype": "text/x-python",
   "name": "python",
   "nbconvert_exporter": "python",
   "pygments_lexer": "ipython3",
   "version": "3.8.8"
  }
 },
 "nbformat": 4,
 "nbformat_minor": 4
}
