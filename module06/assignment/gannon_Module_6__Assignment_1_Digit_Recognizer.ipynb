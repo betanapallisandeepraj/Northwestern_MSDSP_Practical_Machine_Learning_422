{
 "cells": [
  {
   "cell_type": "code",
   "execution_count": 266,
   "metadata": {
    "id": "L3HlGi3JWmdI"
   },
   "outputs": [],
   "source": [
    "import plotly.offline as py\n",
    "from sklearn.decomposition import PCA\n",
    "import plotly.graph_objs as go\n",
    "from sklearn.ensemble import RandomForestClassifier\n",
    "from sklearn.cluster import KMeans\n",
    "from datetime import datetime \n",
    "from keras import utils\n",
    "import tensorflow as tf\n",
    "import pandas as pd\n",
    "import numpy as np\n",
    "import seaborn as sb\n",
    "from sklearn.model_selection import RepeatedStratifiedKFold\n",
    "from matplotlib import pyplot as plt\n",
    "from sklearn.naive_bayes import GaussianNB, BernoulliNB\n",
    "from sklearn.svm import SVC\n",
    "from sklearn.metrics import mean_absolute_error\n",
    "\n",
    "from imblearn.combine import SMOTETomek\n",
    "import sklearn.linear_model\n",
    "from sklearn.ensemble import GradientBoostingRegressor, GradientBoostingClassifier\n",
    "from sklearn.ensemble import gradient_boosting\n",
    "from sklearn import linear_model, preprocessing,metrics\n",
    "from sklearn.model_selection import KFold\n",
    "from sklearn.metrics import mean_squared_error,f1_score,roc_auc_score\n",
    "from sklearn.linear_model import LinearRegression, Ridge, Lasso, ElasticNet\n",
    "from sklearn.model_selection import GridSearchCV, LeaveOneOut\n",
    "from sklearn.ensemble import RandomForestClassifier # Random Forest package\n",
    "from sklearn.ensemble import ExtraTreesClassifier # Extra Trees package\n",
    "from sklearn.metrics import mean_squared_error, r2_score ,make_scorer, roc_auc_score, roc_curve \n",
    "from sklearn.metrics import accuracy_score, confusion_matrix, classification_report\n",
    "from sklearn.preprocessing import OneHotEncoder, StandardScaler\n",
    "from sklearn.compose import make_column_transformer\n",
    "from sklearn.model_selection import train_test_split\n",
    "from math import sqrt\n",
    "from imblearn.over_sampling import RandomOverSampler\n",
    "from sklearn.preprocessing import PolynomialFeatures\n",
    "\n",
    "from numpy import mean\n",
    "from numpy import std\n",
    "from sklearn.datasets import make_classification\n",
    "from sklearn.model_selection import KFold\n",
    "from sklearn.model_selection import cross_val_score\n",
    "from sklearn.linear_model import LogisticRegression\n",
    "from sklearn import svm\n",
    "\n",
    "import warnings\n",
    "warnings.simplefilter(action='ignore', category=FutureWarning)\n",
    "warnings.simplefilter(action='ignore', category=UserWarning)\n",
    "import matplotlib\n",
    "plt.rcParams['figure.figsize'] = (10, 6)"
   ]
  },
  {
   "cell_type": "code",
   "execution_count": null,
   "metadata": {
    "id": "D_-FtyJF3AZj"
   },
   "outputs": [],
   "source": []
  },
  {
   "cell_type": "code",
   "execution_count": null,
   "metadata": {
    "colab": {
     "base_uri": "https://localhost:8080/",
     "height": 73,
     "resources": {
      "http://localhost:8080/nbextensions/google.colab/files.js": {
       "data": "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",
       "headers": [
        [
         "content-type",
         "application/javascript"
        ]
       ],
       "ok": true,
       "status": 200,
       "status_text": ""
      }
     }
    },
    "id": "PU4-5jn93Acq",
    "outputId": "d29da7c1-1126-4b9a-bcff-5a2699970fb3"
   },
   "outputs": [
    {
     "data": {
      "text/html": [
       "\n",
       "     <input type=\"file\" id=\"files-f35f7d31-49ee-40f8-8024-734a1834ed00\" name=\"files[]\" multiple disabled\n",
       "        style=\"border:none\" />\n",
       "     <output id=\"result-f35f7d31-49ee-40f8-8024-734a1834ed00\">\n",
       "      Upload widget is only available when the cell has been executed in the\n",
       "      current browser session. Please rerun this cell to enable.\n",
       "      </output>\n",
       "      <script src=\"/nbextensions/google.colab/files.js\"></script> "
      ],
      "text/plain": [
       "<IPython.core.display.HTML object>"
      ]
     },
     "metadata": {},
     "output_type": "display_data"
    },
    {
     "name": "stdout",
     "output_type": "stream",
     "text": [
      "Saving train.csv to train.csv\n"
     ]
    }
   ],
   "source": [
    "from google.colab import files\n",
    "uploaded = files.upload()"
   ]
  },
  {
   "cell_type": "code",
   "execution_count": 232,
   "metadata": {
    "colab": {
     "base_uri": "https://localhost:8080/",
     "height": 56,
     "resources": {
      "http://localhost:8080/nbextensions/google.colab/files.js": {
       "data": "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",
       "headers": [
        [
         "content-type",
         "application/javascript"
        ]
       ],
       "ok": true,
       "status": 200,
       "status_text": ""
      }
     }
    },
    "id": "_5DtHvhg8gB4",
    "outputId": "dc6d77dd-be99-4898-8696-8c53d7b83740"
   },
   "outputs": [
    {
     "data": {
      "text/html": [
       "\n",
       "     <input type=\"file\" id=\"files-1880b364-fa6e-45f3-8f7d-2ff01e27d954\" name=\"files[]\" multiple disabled\n",
       "        style=\"border:none\" />\n",
       "     <output id=\"result-1880b364-fa6e-45f3-8f7d-2ff01e27d954\">\n",
       "      Upload widget is only available when the cell has been executed in the\n",
       "      current browser session. Please rerun this cell to enable.\n",
       "      </output>\n",
       "      <script src=\"/nbextensions/google.colab/files.js\"></script> "
      ],
      "text/plain": [
       "<IPython.core.display.HTML object>"
      ]
     },
     "metadata": {},
     "output_type": "display_data"
    },
    {
     "name": "stdout",
     "output_type": "stream",
     "text": [
      "Saving test.csv to test.csv\n"
     ]
    }
   ],
   "source": [
    "from google.colab import files\n",
    "uploaded = files.upload()"
   ]
  },
  {
   "cell_type": "code",
   "execution_count": 233,
   "metadata": {
    "id": "4d70CUqI3GAi"
   },
   "outputs": [],
   "source": [
    "train = pd.read_csv('train.csv')"
   ]
  },
  {
   "cell_type": "code",
   "execution_count": 234,
   "metadata": {
    "id": "0DBgQqEq8q_h"
   },
   "outputs": [],
   "source": [
    "test = pd.read_csv('test.csv')"
   ]
  },
  {
   "cell_type": "code",
   "execution_count": 235,
   "metadata": {
    "colab": {
     "base_uri": "https://localhost:8080/"
    },
    "id": "mzfv5m6ssFe3",
    "outputId": "b5e1dad8-5ec0-4618-a84d-cd6224d55e31"
   },
   "outputs": [
    {
     "data": {
      "text/plain": [
       "(42000, 785)"
      ]
     },
     "execution_count": 235,
     "metadata": {},
     "output_type": "execute_result"
    }
   ],
   "source": [
    "train.shape"
   ]
  },
  {
   "cell_type": "code",
   "execution_count": 236,
   "metadata": {
    "colab": {
     "base_uri": "https://localhost:8080/"
    },
    "id": "uFW3KGgRq_R8",
    "outputId": "75553f67-23d1-462d-f5f9-cb5c00294427"
   },
   "outputs": [
    {
     "data": {
      "text/plain": [
       "(28000, 784)"
      ]
     },
     "execution_count": 236,
     "metadata": {},
     "output_type": "execute_result"
    }
   ],
   "source": [
    "test.shape"
   ]
  },
  {
   "cell_type": "markdown",
   "metadata": {
    "id": "ShvvMXFJAGJI"
   },
   "source": [
    "check for missing and duplicate values\n"
   ]
  },
  {
   "cell_type": "code",
   "execution_count": 208,
   "metadata": {
    "colab": {
     "base_uri": "https://localhost:8080/"
    },
    "id": "DFHPb1Ya3y78",
    "outputId": "5cf30e19-d257-4dd7-ec2b-4fcfe8c3c533"
   },
   "outputs": [
    {
     "data": {
      "text/plain": [
       "False"
      ]
     },
     "execution_count": 208,
     "metadata": {},
     "output_type": "execute_result"
    }
   ],
   "source": [
    "train.isnull().values.any()"
   ]
  },
  {
   "cell_type": "code",
   "execution_count": 209,
   "metadata": {
    "colab": {
     "base_uri": "https://localhost:8080/"
    },
    "id": "9XbyeIwn3y-2",
    "outputId": "06e81404-5c2f-4ff9-adb6-c2c369193abf"
   },
   "outputs": [
    {
     "name": "stdout",
     "output_type": "stream",
     "text": [
      "Number of duplicate rows = 0\n"
     ]
    }
   ],
   "source": [
    "dups = train.duplicated()\n",
    "print('Number of duplicate rows = %d' % (dups.sum()))"
   ]
  },
  {
   "cell_type": "code",
   "execution_count": 210,
   "metadata": {
    "colab": {
     "base_uri": "https://localhost:8080/",
     "height": 255
    },
    "id": "lBY8IeRb4gJ7",
    "outputId": "ddda2c2a-dd89-4500-d9cd-01e77822a163"
   },
   "outputs": [
    {
     "data": {
      "text/html": [
       "<div>\n",
       "<style scoped>\n",
       "    .dataframe tbody tr th:only-of-type {\n",
       "        vertical-align: middle;\n",
       "    }\n",
       "\n",
       "    .dataframe tbody tr th {\n",
       "        vertical-align: top;\n",
       "    }\n",
       "\n",
       "    .dataframe thead th {\n",
       "        text-align: right;\n",
       "    }\n",
       "</style>\n",
       "<table border=\"1\" class=\"dataframe\">\n",
       "  <thead>\n",
       "    <tr style=\"text-align: right;\">\n",
       "      <th></th>\n",
       "      <th>label</th>\n",
       "      <th>pixel0</th>\n",
       "      <th>pixel1</th>\n",
       "      <th>pixel2</th>\n",
       "      <th>pixel3</th>\n",
       "      <th>pixel4</th>\n",
       "      <th>pixel5</th>\n",
       "      <th>pixel6</th>\n",
       "      <th>pixel7</th>\n",
       "      <th>pixel8</th>\n",
       "      <th>pixel9</th>\n",
       "      <th>pixel10</th>\n",
       "      <th>pixel11</th>\n",
       "      <th>pixel12</th>\n",
       "      <th>pixel13</th>\n",
       "      <th>pixel14</th>\n",
       "      <th>pixel15</th>\n",
       "      <th>pixel16</th>\n",
       "      <th>pixel17</th>\n",
       "      <th>pixel18</th>\n",
       "      <th>pixel19</th>\n",
       "      <th>pixel20</th>\n",
       "      <th>pixel21</th>\n",
       "      <th>pixel22</th>\n",
       "      <th>pixel23</th>\n",
       "      <th>pixel24</th>\n",
       "      <th>pixel25</th>\n",
       "      <th>pixel26</th>\n",
       "      <th>pixel27</th>\n",
       "      <th>pixel28</th>\n",
       "      <th>pixel29</th>\n",
       "      <th>pixel30</th>\n",
       "      <th>pixel31</th>\n",
       "      <th>pixel32</th>\n",
       "      <th>pixel33</th>\n",
       "      <th>pixel34</th>\n",
       "      <th>pixel35</th>\n",
       "      <th>pixel36</th>\n",
       "      <th>pixel37</th>\n",
       "      <th>pixel38</th>\n",
       "      <th>...</th>\n",
       "      <th>pixel744</th>\n",
       "      <th>pixel745</th>\n",
       "      <th>pixel746</th>\n",
       "      <th>pixel747</th>\n",
       "      <th>pixel748</th>\n",
       "      <th>pixel749</th>\n",
       "      <th>pixel750</th>\n",
       "      <th>pixel751</th>\n",
       "      <th>pixel752</th>\n",
       "      <th>pixel753</th>\n",
       "      <th>pixel754</th>\n",
       "      <th>pixel755</th>\n",
       "      <th>pixel756</th>\n",
       "      <th>pixel757</th>\n",
       "      <th>pixel758</th>\n",
       "      <th>pixel759</th>\n",
       "      <th>pixel760</th>\n",
       "      <th>pixel761</th>\n",
       "      <th>pixel762</th>\n",
       "      <th>pixel763</th>\n",
       "      <th>pixel764</th>\n",
       "      <th>pixel765</th>\n",
       "      <th>pixel766</th>\n",
       "      <th>pixel767</th>\n",
       "      <th>pixel768</th>\n",
       "      <th>pixel769</th>\n",
       "      <th>pixel770</th>\n",
       "      <th>pixel771</th>\n",
       "      <th>pixel772</th>\n",
       "      <th>pixel773</th>\n",
       "      <th>pixel774</th>\n",
       "      <th>pixel775</th>\n",
       "      <th>pixel776</th>\n",
       "      <th>pixel777</th>\n",
       "      <th>pixel778</th>\n",
       "      <th>pixel779</th>\n",
       "      <th>pixel780</th>\n",
       "      <th>pixel781</th>\n",
       "      <th>pixel782</th>\n",
       "      <th>pixel783</th>\n",
       "    </tr>\n",
       "  </thead>\n",
       "  <tbody>\n",
       "    <tr>\n",
       "      <th>0</th>\n",
       "      <td>1</td>\n",
       "      <td>0</td>\n",
       "      <td>0</td>\n",
       "      <td>0</td>\n",
       "      <td>0</td>\n",
       "      <td>0</td>\n",
       "      <td>0</td>\n",
       "      <td>0</td>\n",
       "      <td>0</td>\n",
       "      <td>0</td>\n",
       "      <td>0</td>\n",
       "      <td>0</td>\n",
       "      <td>0</td>\n",
       "      <td>0</td>\n",
       "      <td>0</td>\n",
       "      <td>0</td>\n",
       "      <td>0</td>\n",
       "      <td>0</td>\n",
       "      <td>0</td>\n",
       "      <td>0</td>\n",
       "      <td>0</td>\n",
       "      <td>0</td>\n",
       "      <td>0</td>\n",
       "      <td>0</td>\n",
       "      <td>0</td>\n",
       "      <td>0</td>\n",
       "      <td>0</td>\n",
       "      <td>0</td>\n",
       "      <td>0</td>\n",
       "      <td>0</td>\n",
       "      <td>0</td>\n",
       "      <td>0</td>\n",
       "      <td>0</td>\n",
       "      <td>0</td>\n",
       "      <td>0</td>\n",
       "      <td>0</td>\n",
       "      <td>0</td>\n",
       "      <td>0</td>\n",
       "      <td>0</td>\n",
       "      <td>0</td>\n",
       "      <td>...</td>\n",
       "      <td>0</td>\n",
       "      <td>0</td>\n",
       "      <td>0</td>\n",
       "      <td>0</td>\n",
       "      <td>0</td>\n",
       "      <td>0</td>\n",
       "      <td>0</td>\n",
       "      <td>0</td>\n",
       "      <td>0</td>\n",
       "      <td>0</td>\n",
       "      <td>0</td>\n",
       "      <td>0</td>\n",
       "      <td>0</td>\n",
       "      <td>0</td>\n",
       "      <td>0</td>\n",
       "      <td>0</td>\n",
       "      <td>0</td>\n",
       "      <td>0</td>\n",
       "      <td>0</td>\n",
       "      <td>0</td>\n",
       "      <td>0</td>\n",
       "      <td>0</td>\n",
       "      <td>0</td>\n",
       "      <td>0</td>\n",
       "      <td>0</td>\n",
       "      <td>0</td>\n",
       "      <td>0</td>\n",
       "      <td>0</td>\n",
       "      <td>0</td>\n",
       "      <td>0</td>\n",
       "      <td>0</td>\n",
       "      <td>0</td>\n",
       "      <td>0</td>\n",
       "      <td>0</td>\n",
       "      <td>0</td>\n",
       "      <td>0</td>\n",
       "      <td>0</td>\n",
       "      <td>0</td>\n",
       "      <td>0</td>\n",
       "      <td>0</td>\n",
       "    </tr>\n",
       "    <tr>\n",
       "      <th>1</th>\n",
       "      <td>0</td>\n",
       "      <td>0</td>\n",
       "      <td>0</td>\n",
       "      <td>0</td>\n",
       "      <td>0</td>\n",
       "      <td>0</td>\n",
       "      <td>0</td>\n",
       "      <td>0</td>\n",
       "      <td>0</td>\n",
       "      <td>0</td>\n",
       "      <td>0</td>\n",
       "      <td>0</td>\n",
       "      <td>0</td>\n",
       "      <td>0</td>\n",
       "      <td>0</td>\n",
       "      <td>0</td>\n",
       "      <td>0</td>\n",
       "      <td>0</td>\n",
       "      <td>0</td>\n",
       "      <td>0</td>\n",
       "      <td>0</td>\n",
       "      <td>0</td>\n",
       "      <td>0</td>\n",
       "      <td>0</td>\n",
       "      <td>0</td>\n",
       "      <td>0</td>\n",
       "      <td>0</td>\n",
       "      <td>0</td>\n",
       "      <td>0</td>\n",
       "      <td>0</td>\n",
       "      <td>0</td>\n",
       "      <td>0</td>\n",
       "      <td>0</td>\n",
       "      <td>0</td>\n",
       "      <td>0</td>\n",
       "      <td>0</td>\n",
       "      <td>0</td>\n",
       "      <td>0</td>\n",
       "      <td>0</td>\n",
       "      <td>0</td>\n",
       "      <td>...</td>\n",
       "      <td>0</td>\n",
       "      <td>0</td>\n",
       "      <td>0</td>\n",
       "      <td>0</td>\n",
       "      <td>0</td>\n",
       "      <td>0</td>\n",
       "      <td>0</td>\n",
       "      <td>0</td>\n",
       "      <td>0</td>\n",
       "      <td>0</td>\n",
       "      <td>0</td>\n",
       "      <td>0</td>\n",
       "      <td>0</td>\n",
       "      <td>0</td>\n",
       "      <td>0</td>\n",
       "      <td>0</td>\n",
       "      <td>0</td>\n",
       "      <td>0</td>\n",
       "      <td>0</td>\n",
       "      <td>0</td>\n",
       "      <td>0</td>\n",
       "      <td>0</td>\n",
       "      <td>0</td>\n",
       "      <td>0</td>\n",
       "      <td>0</td>\n",
       "      <td>0</td>\n",
       "      <td>0</td>\n",
       "      <td>0</td>\n",
       "      <td>0</td>\n",
       "      <td>0</td>\n",
       "      <td>0</td>\n",
       "      <td>0</td>\n",
       "      <td>0</td>\n",
       "      <td>0</td>\n",
       "      <td>0</td>\n",
       "      <td>0</td>\n",
       "      <td>0</td>\n",
       "      <td>0</td>\n",
       "      <td>0</td>\n",
       "      <td>0</td>\n",
       "    </tr>\n",
       "    <tr>\n",
       "      <th>2</th>\n",
       "      <td>1</td>\n",
       "      <td>0</td>\n",
       "      <td>0</td>\n",
       "      <td>0</td>\n",
       "      <td>0</td>\n",
       "      <td>0</td>\n",
       "      <td>0</td>\n",
       "      <td>0</td>\n",
       "      <td>0</td>\n",
       "      <td>0</td>\n",
       "      <td>0</td>\n",
       "      <td>0</td>\n",
       "      <td>0</td>\n",
       "      <td>0</td>\n",
       "      <td>0</td>\n",
       "      <td>0</td>\n",
       "      <td>0</td>\n",
       "      <td>0</td>\n",
       "      <td>0</td>\n",
       "      <td>0</td>\n",
       "      <td>0</td>\n",
       "      <td>0</td>\n",
       "      <td>0</td>\n",
       "      <td>0</td>\n",
       "      <td>0</td>\n",
       "      <td>0</td>\n",
       "      <td>0</td>\n",
       "      <td>0</td>\n",
       "      <td>0</td>\n",
       "      <td>0</td>\n",
       "      <td>0</td>\n",
       "      <td>0</td>\n",
       "      <td>0</td>\n",
       "      <td>0</td>\n",
       "      <td>0</td>\n",
       "      <td>0</td>\n",
       "      <td>0</td>\n",
       "      <td>0</td>\n",
       "      <td>0</td>\n",
       "      <td>0</td>\n",
       "      <td>...</td>\n",
       "      <td>0</td>\n",
       "      <td>0</td>\n",
       "      <td>0</td>\n",
       "      <td>0</td>\n",
       "      <td>0</td>\n",
       "      <td>0</td>\n",
       "      <td>0</td>\n",
       "      <td>0</td>\n",
       "      <td>0</td>\n",
       "      <td>0</td>\n",
       "      <td>0</td>\n",
       "      <td>0</td>\n",
       "      <td>0</td>\n",
       "      <td>0</td>\n",
       "      <td>0</td>\n",
       "      <td>0</td>\n",
       "      <td>0</td>\n",
       "      <td>0</td>\n",
       "      <td>0</td>\n",
       "      <td>0</td>\n",
       "      <td>0</td>\n",
       "      <td>0</td>\n",
       "      <td>0</td>\n",
       "      <td>0</td>\n",
       "      <td>0</td>\n",
       "      <td>0</td>\n",
       "      <td>0</td>\n",
       "      <td>0</td>\n",
       "      <td>0</td>\n",
       "      <td>0</td>\n",
       "      <td>0</td>\n",
       "      <td>0</td>\n",
       "      <td>0</td>\n",
       "      <td>0</td>\n",
       "      <td>0</td>\n",
       "      <td>0</td>\n",
       "      <td>0</td>\n",
       "      <td>0</td>\n",
       "      <td>0</td>\n",
       "      <td>0</td>\n",
       "    </tr>\n",
       "    <tr>\n",
       "      <th>3</th>\n",
       "      <td>4</td>\n",
       "      <td>0</td>\n",
       "      <td>0</td>\n",
       "      <td>0</td>\n",
       "      <td>0</td>\n",
       "      <td>0</td>\n",
       "      <td>0</td>\n",
       "      <td>0</td>\n",
       "      <td>0</td>\n",
       "      <td>0</td>\n",
       "      <td>0</td>\n",
       "      <td>0</td>\n",
       "      <td>0</td>\n",
       "      <td>0</td>\n",
       "      <td>0</td>\n",
       "      <td>0</td>\n",
       "      <td>0</td>\n",
       "      <td>0</td>\n",
       "      <td>0</td>\n",
       "      <td>0</td>\n",
       "      <td>0</td>\n",
       "      <td>0</td>\n",
       "      <td>0</td>\n",
       "      <td>0</td>\n",
       "      <td>0</td>\n",
       "      <td>0</td>\n",
       "      <td>0</td>\n",
       "      <td>0</td>\n",
       "      <td>0</td>\n",
       "      <td>0</td>\n",
       "      <td>0</td>\n",
       "      <td>0</td>\n",
       "      <td>0</td>\n",
       "      <td>0</td>\n",
       "      <td>0</td>\n",
       "      <td>0</td>\n",
       "      <td>0</td>\n",
       "      <td>0</td>\n",
       "      <td>0</td>\n",
       "      <td>0</td>\n",
       "      <td>...</td>\n",
       "      <td>0</td>\n",
       "      <td>0</td>\n",
       "      <td>0</td>\n",
       "      <td>0</td>\n",
       "      <td>0</td>\n",
       "      <td>0</td>\n",
       "      <td>0</td>\n",
       "      <td>0</td>\n",
       "      <td>0</td>\n",
       "      <td>0</td>\n",
       "      <td>0</td>\n",
       "      <td>0</td>\n",
       "      <td>0</td>\n",
       "      <td>0</td>\n",
       "      <td>0</td>\n",
       "      <td>0</td>\n",
       "      <td>0</td>\n",
       "      <td>0</td>\n",
       "      <td>0</td>\n",
       "      <td>0</td>\n",
       "      <td>0</td>\n",
       "      <td>0</td>\n",
       "      <td>0</td>\n",
       "      <td>0</td>\n",
       "      <td>0</td>\n",
       "      <td>0</td>\n",
       "      <td>0</td>\n",
       "      <td>0</td>\n",
       "      <td>0</td>\n",
       "      <td>0</td>\n",
       "      <td>0</td>\n",
       "      <td>0</td>\n",
       "      <td>0</td>\n",
       "      <td>0</td>\n",
       "      <td>0</td>\n",
       "      <td>0</td>\n",
       "      <td>0</td>\n",
       "      <td>0</td>\n",
       "      <td>0</td>\n",
       "      <td>0</td>\n",
       "    </tr>\n",
       "    <tr>\n",
       "      <th>4</th>\n",
       "      <td>0</td>\n",
       "      <td>0</td>\n",
       "      <td>0</td>\n",
       "      <td>0</td>\n",
       "      <td>0</td>\n",
       "      <td>0</td>\n",
       "      <td>0</td>\n",
       "      <td>0</td>\n",
       "      <td>0</td>\n",
       "      <td>0</td>\n",
       "      <td>0</td>\n",
       "      <td>0</td>\n",
       "      <td>0</td>\n",
       "      <td>0</td>\n",
       "      <td>0</td>\n",
       "      <td>0</td>\n",
       "      <td>0</td>\n",
       "      <td>0</td>\n",
       "      <td>0</td>\n",
       "      <td>0</td>\n",
       "      <td>0</td>\n",
       "      <td>0</td>\n",
       "      <td>0</td>\n",
       "      <td>0</td>\n",
       "      <td>0</td>\n",
       "      <td>0</td>\n",
       "      <td>0</td>\n",
       "      <td>0</td>\n",
       "      <td>0</td>\n",
       "      <td>0</td>\n",
       "      <td>0</td>\n",
       "      <td>0</td>\n",
       "      <td>0</td>\n",
       "      <td>0</td>\n",
       "      <td>0</td>\n",
       "      <td>0</td>\n",
       "      <td>0</td>\n",
       "      <td>0</td>\n",
       "      <td>0</td>\n",
       "      <td>0</td>\n",
       "      <td>...</td>\n",
       "      <td>0</td>\n",
       "      <td>0</td>\n",
       "      <td>0</td>\n",
       "      <td>0</td>\n",
       "      <td>0</td>\n",
       "      <td>0</td>\n",
       "      <td>0</td>\n",
       "      <td>0</td>\n",
       "      <td>0</td>\n",
       "      <td>0</td>\n",
       "      <td>0</td>\n",
       "      <td>0</td>\n",
       "      <td>0</td>\n",
       "      <td>0</td>\n",
       "      <td>0</td>\n",
       "      <td>0</td>\n",
       "      <td>0</td>\n",
       "      <td>0</td>\n",
       "      <td>0</td>\n",
       "      <td>0</td>\n",
       "      <td>0</td>\n",
       "      <td>0</td>\n",
       "      <td>0</td>\n",
       "      <td>0</td>\n",
       "      <td>0</td>\n",
       "      <td>0</td>\n",
       "      <td>0</td>\n",
       "      <td>0</td>\n",
       "      <td>0</td>\n",
       "      <td>0</td>\n",
       "      <td>0</td>\n",
       "      <td>0</td>\n",
       "      <td>0</td>\n",
       "      <td>0</td>\n",
       "      <td>0</td>\n",
       "      <td>0</td>\n",
       "      <td>0</td>\n",
       "      <td>0</td>\n",
       "      <td>0</td>\n",
       "      <td>0</td>\n",
       "    </tr>\n",
       "  </tbody>\n",
       "</table>\n",
       "<p>5 rows × 785 columns</p>\n",
       "</div>"
      ],
      "text/plain": [
       "   label  pixel0  pixel1  pixel2  ...  pixel780  pixel781  pixel782  pixel783\n",
       "0      1       0       0       0  ...         0         0         0         0\n",
       "1      0       0       0       0  ...         0         0         0         0\n",
       "2      1       0       0       0  ...         0         0         0         0\n",
       "3      4       0       0       0  ...         0         0         0         0\n",
       "4      0       0       0       0  ...         0         0         0         0\n",
       "\n",
       "[5 rows x 785 columns]"
      ]
     },
     "execution_count": 210,
     "metadata": {},
     "output_type": "execute_result"
    }
   ],
   "source": [
    "train.head()"
   ]
  },
  {
   "cell_type": "code",
   "execution_count": 211,
   "metadata": {
    "colab": {
     "base_uri": "https://localhost:8080/"
    },
    "id": "UhZ0RgNtEN53",
    "outputId": "18afed4a-7884-45e4-c502-63d8a911ba2a"
   },
   "outputs": [
    {
     "name": "stdout",
     "output_type": "stream",
     "text": [
      "(42000, 785)\n",
      "(4428, 784)\n"
     ]
    }
   ],
   "source": [
    "print(train.shape)\n",
    "print(test.shape)"
   ]
  },
  {
   "cell_type": "markdown",
   "metadata": {
    "id": "RvMfJsWAE8KD"
   },
   "source": [
    "Seperate the Y/X from Train"
   ]
  },
  {
   "cell_type": "code",
   "execution_count": 212,
   "metadata": {
    "id": "bMGbXvTvEN9N"
   },
   "outputs": [],
   "source": [
    "# y_train = train.label.astype('float32')\n",
    "# X_train = train.drop(['label'],axis=1).astype('int32')\n",
    "# x_test = test.astype('float32')\n",
    "# X_train.shape,y_train.shape,x_test.shape"
   ]
  },
  {
   "cell_type": "markdown",
   "metadata": {
    "id": "OFQ5irp5tzSl"
   },
   "source": [
    "# For CNN"
   ]
  },
  {
   "cell_type": "markdown",
   "metadata": {
    "id": "jBN84q9JI6WX"
   },
   "source": [
    "Reshape"
   ]
  },
  {
   "cell_type": "code",
   "execution_count": 213,
   "metadata": {
    "id": "TKuda7AhEOEJ"
   },
   "outputs": [],
   "source": [
    "#X_train = X_train.values.reshape(-1,28,28,1) # reshaping 784 to 28*28*1\n",
    "#X_train = X_train / 255.0 #doing normalization dividing every pixel value by 255\n",
    "#x_test = x_test.values.reshape(-1,28,28,1) # reshaping 784 to 28*28*1\n",
    "#x_test = x_test / 255.0 #doing normalization dividing every pixel value by 255\n",
    "#X_train.shape, x_test.shape #check the shapes"
   ]
  },
  {
   "cell_type": "markdown",
   "metadata": {
    "id": "dyT2cVVJMBji"
   },
   "source": [
    "Convert the labels into categorical with one-hot encoding"
   ]
  },
  {
   "cell_type": "code",
   "execution_count": 214,
   "metadata": {
    "id": "pBMYaQDlI-VO"
   },
   "outputs": [],
   "source": [
    "#y_train = tf.keras.utils.to_categorical(y_train,10) # set to 10 since 0-9 inclusive\n",
    "#y_train.shape"
   ]
  },
  {
   "cell_type": "code",
   "execution_count": 215,
   "metadata": {
    "id": "ZLkjKZr2Ouq0"
   },
   "outputs": [],
   "source": [
    "#Compare old train in original dataset\n",
    "#train.label.head(5)"
   ]
  },
  {
   "cell_type": "code",
   "execution_count": 216,
   "metadata": {
    "id": "gza-Eij-Outk"
   },
   "outputs": [],
   "source": [
    "#New Categorical Values\n",
    "#y_train[0:5]"
   ]
  },
  {
   "cell_type": "code",
   "execution_count": 217,
   "metadata": {
    "id": "vI85KI7gOuzq"
   },
   "outputs": [],
   "source": [
    "#X_train.shape,y_train.shape"
   ]
  },
  {
   "cell_type": "markdown",
   "metadata": {
    "id": "98teMeXWdYJV"
   },
   "source": [
    "# Train Test Split"
   ]
  },
  {
   "cell_type": "code",
   "execution_count": 218,
   "metadata": {
    "id": "tVdmonPCPKY8"
   },
   "outputs": [],
   "source": [
    "#Seperate the target and independant variables\n",
    "df_x=train.iloc[:,1:]\n",
    "df_y=train.iloc[:,0]\n",
    "test_df_copy = df_y"
   ]
  },
  {
   "cell_type": "code",
   "execution_count": 219,
   "metadata": {
    "colab": {
     "base_uri": "https://localhost:8080/"
    },
    "id": "Fsu_X8ZQPKb6",
    "outputId": "ee604c4f-67e2-4a98-d0e2-891e3756616a"
   },
   "outputs": [
    {
     "name": "stdout",
     "output_type": "stream",
     "text": [
      "(33600, 784)\n",
      "(8400, 784)\n"
     ]
    }
   ],
   "source": [
    "#Split the dataset\n",
    "X_train, X_test, y_train, y_test = train_test_split(df_x, df_y, test_size=0.2, random_state=0)\n",
    "print(X_train.shape)\n",
    "print(X_test.shape)"
   ]
  },
  {
   "cell_type": "markdown",
   "metadata": {
    "id": "hSn29PxCPG3J"
   },
   "source": [
    "# Random Forest Kaggle Entry 1"
   ]
  },
  {
   "cell_type": "code",
   "execution_count": 220,
   "metadata": {
    "colab": {
     "base_uri": "https://localhost:8080/"
    },
    "id": "oaq6M51EPKfC",
    "outputId": "b45b7c05-b09b-442c-d5bc-b6a10a8e41a9"
   },
   "outputs": [
    {
     "name": "stdout",
     "output_type": "stream",
     "text": [
      "0:00:25.735956\n"
     ]
    }
   ],
   "source": [
    "#training random Forest\n",
    "rf=RandomForestClassifier(n_estimators=100)\n",
    "\n",
    "# Check the time to run the model\n",
    "start=datetime.now()\n",
    "\n",
    "# Fit data on to the model\n",
    "rf.fit(X_train,y_train)\n",
    "\n",
    "end=datetime.now()\n",
    "print(end-start)"
   ]
  },
  {
   "cell_type": "code",
   "execution_count": 221,
   "metadata": {
    "colab": {
     "base_uri": "https://localhost:8080/"
    },
    "id": "eKyrLY3BPYxK",
    "outputId": "37e3cc80-2f53-4157-aae3-5950fe9c6d45"
   },
   "outputs": [
    {
     "name": "stdout",
     "output_type": "stream",
     "text": [
      "Classification Report\n",
      "              precision    recall  f1-score   support\n",
      "\n",
      "           0       0.97      0.98      0.97       813\n",
      "           1       0.99      0.99      0.99       961\n",
      "           2       0.96      0.97      0.96       860\n",
      "           3       0.95      0.94      0.95       863\n",
      "           4       0.96      0.97      0.97       827\n",
      "           5       0.96      0.97      0.96       756\n",
      "           6       0.97      0.98      0.98       841\n",
      "           7       0.97      0.96      0.97       899\n",
      "           8       0.95      0.95      0.95       768\n",
      "           9       0.96      0.94      0.95       812\n",
      "\n",
      "    accuracy                           0.96      8400\n",
      "   macro avg       0.96      0.96      0.96      8400\n",
      "weighted avg       0.96      0.96      0.96      8400\n",
      "\n",
      "Confusion Report\n",
      "[[796   0   0   0   2   2   4   0   9   0]\n",
      " [  0 948   7   1   1   0   2   0   2   0]\n",
      " [  3   1 830   7   4   0   3   5   6   1]\n",
      " [  2   1  13 811   0  12   1   9  11   3]\n",
      " [  2   2   0   0 801   0   4   1   2  15]\n",
      " [  3   1   1  10   0 730   4   3   3   1]\n",
      " [  2   0   0   0   2   9 826   0   2   0]\n",
      " [  1   3  12   2   5   0   0 866   1   9]\n",
      " [  3   4   2  11   4   8   5   0 726   5]\n",
      " [  8   2   2  10  12   3   0   9   5 761]]\n"
     ]
    }
   ],
   "source": [
    "pred=rf.predict(X_test)\n",
    "print (\"Classification Report\")\n",
    "print(classification_report(y_test, pred))\n",
    "print (\"Confusion Report\")\n",
    "print(confusion_matrix(y_test, pred))"
   ]
  },
  {
   "cell_type": "code",
   "execution_count": 222,
   "metadata": {
    "colab": {
     "base_uri": "https://localhost:8080/"
    },
    "id": "MSr4QZCzPY0S",
    "outputId": "742b75e9-d109-428d-d219-abf7ac48fad7"
   },
   "outputs": [
    {
     "name": "stdout",
     "output_type": "stream",
     "text": [
      "0.9636904761904763\n"
     ]
    }
   ],
   "source": [
    "#Cross validation\n",
    "rf=RandomForestClassifier(n_estimators=100)\n",
    "rf.fit(df_x, df_y)\n",
    "score = cross_val_score(rf, df_x, df_y)\n",
    "print (np.mean(score))"
   ]
  },
  {
   "cell_type": "code",
   "execution_count": 237,
   "metadata": {
    "id": "SVCD9ubPpjuA"
   },
   "outputs": [],
   "source": [
    "#Predicting on test data\n",
    "pred=rf.predict(test)"
   ]
  },
  {
   "cell_type": "code",
   "execution_count": 238,
   "metadata": {
    "id": "-RPjrEkKPiji"
   },
   "outputs": [],
   "source": [
    "pred = pd.Series(pred,name=\"Label\")\n",
    "submission = pd.concat([pd.Series(range(1,28001),name = \"ImageId\"),pred],axis = 1)\n",
    "submission.to_csv(\"mnist_rf.csv\",index=False)"
   ]
  },
  {
   "cell_type": "markdown",
   "metadata": {
    "id": "XwaMBICUuaUB"
   },
   "source": [
    "![Submission1.png](data:image/png;base64,iVBORw0KGgoAAAANSUhEUgAAAYYAAADHCAYAAAAd8/SYAAAAAXNSR0IArs4c6QAAAARnQU1BAACxjwv8YQUAAAAJcEhZcwAAFiUAABYlAUlSJPAAADQ4SURBVHhe7Z0HeBRV98YPhJCEEnpN6L33Jk2KVEHBigUQCyio2BXLJ3ZQQVARO+r/o4lKUflEOkgH6b2EmoTekhASwv+8NzNhZrNJNvSQ9/ewT3Znp9875z3l3iXL/lNnzgshhBBikdX6SwghhBgoDIQQQlxQGAghhLigMBBCCHFBYSCEEOKCwkAIIcQFhYEQQogLCgMhhBAXFAZCCCEuKAyEEEJcUBgIIYS4oDAQQghxQWEghBDigsJACCHEBYWBEEKICwoDIYQQFxQGQgghLigMhBBCXFAYCCGEuKAwEEIIcUFhIIQQ4iLL/lNnzlvvMxXnzp2TM2diJEuWLBIUlMP89YX4+HiznX82fwkIDLSWJifu7FmJPRtrfUpOYGCQZMuWzfqUyPnz5yUmJloSEhKsJW5wjjly5PT5XG9kcH+3bt4kJ0+cMJ+D8+SRipWriH/27ObzjUJ0dJRs3bRJYqKjJaufn5SrUFEKFipkfesd9J8D+/bJ3t1h5nOevHmlYpWqyfobISmRKYVhd9gu+XX8WFm9cqW0uqWd3N+7T5oGBUZ784b1MuG/P8mu7dul+z33ym133m19m5y//pgmY8d8b31KzmvvvCcVKlW2PiUCI/Dd6FGyfPFia4mbGrXrSL+nB0quXLmtJZmPs7Gx8seU32T4B+/Jjm1braWJhJYsKY/2f0oeeOhhCQwKspZmTGDcp0+dLEPeetN1nWj7J555Vvo+OdDrNR6MjJQhg9+Q8T/9YC1JpEHjJvL2h8NMHyIkLTKVMMDLnP33XzL1l0mSv0ABiY6KMg9KWsJw+vQpmT5lisz8a7oUKVpUTpw4Lq1vaZ+iMOCh/nX8ONm4YZ107X6HiQ48CVEjljt3sPUpkePHjsroEZ9IkWLFpEmz5tbSC+AcS5UuI9n8/a0lmQsI56cfDpWRHw0xn+vUbyDNW7WRgIDssnjhAlk4d45Z3uvRvkZ4EV1lVKZMmigvPtnfvO+mTkjLNm1l7apV8uO3X5t+Muitd4w4OKOAI4cPy0tP9Zfp06ZI7Xr15Z4HekqOnLnkt4njZO7Mv839Gj7662QOCSGeZBphgChMHPt/Mn/2LLn9rrulYZOm8v2XX5iwPDVhiIo6Ld98/qnsCQuTO+69T0qULi1ffTpC6jdqnKIw4Fj/HfOd8W57PvKYz95rxIED8vnwj6R1uw4mkiEXQMT264Tx8tSjD5nI4L1hI/QetZesWRPLZPh+iYrDS08PMB724CEfycOP98+QabeDERHy1GN9ZMGc2TLy6+9NdGpfBwRwYN+HzfuvfhonterWM+/BuB/HyPP9+0mb9h3lo89HS+EiRcxyCOo7rw2SH77+Uvo+NVBefmOwZA8IMN8R4o1MVXwODg6WQYPflg63dpWAQN8eDBickBKl5JXB78hNLVqa2kJaoLZw+NAhIwh+fn7W0rQ5deqkEaAcOTOup3ulOBQZKT+P/cmkUl7+z1tGPG1RADCcTZq3kOcGvWbWmfbrJNm/d6/5DgK9avkyWbZ4kYn+jh09ajxyiPAsjQJhOAEivbX/rpKvPxtpXnifUr0HtaZ1q/81xhb7+W3ieJPXR39xsm/PHlm8YL5s27LZfAfRwjajRww3y3FunqxetcKIQscut0nbDh1c4tawyU1yZ48HzH7nzpyRdLxTJ0/InL9nmPf39uyVJAoAkROiKEQK2O/ePbutbwjxTqYRBqRfbu12h5QqUzZdXmRODcXvuLdHmgU/J2dizugrxhT90lMMPX3qlPmLNBdxYxvL5q1aqyi0T7ENW7fvIK++/a6063yrxMWdNcuioqLk4/fellefG2j28eAdt8kTD/WU9954TXre2U2ee6Kf7NkdJoNfeVE6trhJ3tS/eOH9FyOGGRFwsmvHdnm4x93SoXkTGfTs02Y/Ax7uLa0a1JGRH35g2t5m2eJ/5M5O7VQ4JsjokcOlU4umZpu3X3vFLH/y0T5y6OBBa+1ER2Td6tXmfaObmmofymfe28DRwHKwYd067TMnzftIjTIgOohka9aua5Y5CSlRQqOLurJx3VpXzYIQb2QaYYAhSY8g2FzMdhhZBA8O+d8/Jv9q0hu97upuCokrli6R+Lg4a003x48dk+KhocY7/mbUZ9K/Ty/zwnsYLk9vNDMBgwZq1auXzFg6Qd0G6bv+zzwvZcqVt5YmcvjQQfnoXY0Yu3SVSX/OkCEjPjOjfKb+8rM8+/hjJlr7fsIkmTBtuvR7+hkTeeDe28cGyOO/+/qrMvN/f8qd990vMxcvl7W79smYib9IyTJlZNTwYTJv9kxr7Qv8Pf0PmfW/6fLhZ6PMsd98f6hJif3+2y/y24RxSW0be+aMHIyMMO9LlS1r/noCI1+1Rk2JDD8gJ44njspCFITBEUWKFdf7k8csc4Jrse/H7p07zV9CUiJTpZKuFvAYI8LDZeJ//0+WLvpHqulD3OzmVnIwIlw+/WioTJ70szEAnpw8cdykI3745itjgFq0biNly1eQ5UsWy4gh78vKZUszpTgkGstI8z4ktIT5ezEgd9+jZ28jGkg7PdDnEXl84LPmuxPHj5uCdbtOt5q2euHVN+T2u+8x22zfusWsA+AkdL69m7z0n8HyzkfDpUr1GlKgYEG5pWNn6aWChFQV6gCoM3ny/iefStc77jLHfqT/k/Li64PN8oXz5pq2BzHad/ZZqZ58+b1Hjoga4HRER0dLbGxiP7KHpubLn1/8/b1HqX5WoRp1M0JSg8JwBQgtUdIYGXikKILCg31UDcG7H38ibdp3MN7jxvXrrLUTgcHHCBuMNvlIvcqX3njTjCpBzvz1d96XPPnyyf+mTTWCkdnAvcG8k5TA0OD7br812QvLnRQuWtTk6J0RYPmKlczf2nXrSfGQUPMeoD5UrHhx69MFkObrdve98tTzLyUbVWaPPsOcA8/zxXDRkqVKW58SBQapncrVquu68ZKQ4LvgI2K6mHTjpYgqyVxQGK4AQTlymEJfUTUsTiMEY9Ol+51SVkN6pJScUQPWw8NeqUpVyR3sTgUg5dBdjRGKhs60RmYBHjLuKUg4l7wYHHX6tMybNTPZC8udFCxUWHLmymV9coPJY862Sg0IFSKYGX/+Lp8Mec/UG7q0biFPW6OFvIFisOeESBzPWUAHWbNm0etNfSLa0SOHkyIoG18mr+0J22W9IyR1KAxXGRSkkdc+cuiQqUX4CsShTNlyJrWR0kiZGxUU8EMsbx5pHU9vvPs9PWT/qTPmtePgMZMiulJgBNOH77wlzWtXl4fuudO8x4ijEhoNpDbh0VcCAgKlWEiIeR++f5/56wlGMiEqQV9C7QAUs+5P+P79SeklJ2amf0zicggkIalBYbjKwEP0z+5vRrrEx6ecHvEEo6rwOht3NtMJA0AuH0Zw5fKlpjifEjCKEF2sW1qF9HKDiWIjhr6v51Ndps2eL7uPnZb5q9bKqO9/lLYdOlprXTyIKuEEAIx+8lZTQuSI70JCQyVn7sQIqFDhwlKzTl0JP7DfDJX2JDrqtOzUbUDJ0mXMX0JSgsJwBUAN4bNhHxrv3hN4nJjIljd/PsmRMzE9AlAQxM9hTBo31mvhErWFQ5ERptCZGX/zpkbt2nLzLe1k0fx58suEscmGkAIY0dkz/jJDUus0aGBqPZebrZs2mr8PPPSI1G3Q0NUW3tJcF0Odeg2MsKEoHRkebi1NBAMbZv31P/O+es3aSRED6ieVq1YzqcYl/yxMJigY2rp8ySIznBUDGghJDQrDFQBFPoxFx4PoTHvgYV29YoWsWrHcPNT48T4bvM+bL58sXjBPdmzfZi1NBMZgnnqqyINjmGJmBAXX3o/1S5z1/MZr8v6br7uEF/cIM6M/GPyG+YzRRzCWlxt7ZA/y/E7jC7H/c+pk69Ol4RRBzM7HSCeASPGPKZNl8sQJph9gzoYNJrFhGC6EYsxXo00Nyz4/nBtm6+N+te3YKSlVRUhKUBiuAKghNG3R0gxXxaQmDDPFC+8xFBVeW/3GjV3FTqSYGjdtbkYfYUgrIocNa9fIbPUOh73/rvyjRuKWDp0y9ciSxk2byaDB76iA5jczh+tUKC2NqlWUNo3rS7nC+czPZRw/ekwGvvyKdL69u7XV5aVFqzZGnD5+7x0zqQ2znocM/o8ZBZXLSutcKhDBR54YYPoRIk9MisP+MeEO1wieGPhsMs+/Zeu20qNXbxM1PNCtq9zRoa3c1bm9uT8YodW+cxe598He6ZqNTzInFIYrAEafwGO9/6E+snPbNhn54RDz2r5li/ndm54PP5qUAnCCyW0Dnn3B/NgZ0lFD3x5shAQ89fyL0qrdhd8GyoxASFHgnTprrvl9KwgEfhoCE7tAWxVOTFDz/HG5ywny+MNGfSXlK1WSyT9PMNELftgO0UyPXn2stS4dDG/9YsxP5mcxMFMZo6zWr1ltfhzvu/E/y+133ZNsFBXqE/i5EAyRRqoSc2gQdWBCJeZuDPviS1OLICQtMu3/x3C1QDhv/xYPxrn76q3Z/+8DhCA9/19EZgL3KOr0KTMHIEiNIgzj1QJpHcxuvxrHRv3pbOxZM5QVQ5l9cQ6u5b0hGR8KAyGEEBdMJRFCCHFBYSCEEOKCwkAIIcQFhYEQQogLCgMhhBAXFAZCCCEuKAyEEEJcUBgIIYS4oDAQQghxQWEghBDigsJACCHEBYWBEEKICwoDIYQQFxQGQgghLigMhBBCXFAYCCGEuKAwEEIIcUFhIIQQ4oLCQAghxEUWGTqT/+czIYSQJBgxEEIIcUFhIIQQ4oLCQAghxAWFgRBCiAsKAyGEEBcUBkIIIS4oDIQQQlxQGAghhLigMBBCCHFBYSCEEOKCwkAIIcQFhYEQQogLCgMhhBAXFAZCCCEuKAyEEEJcUBgIIYS4oDAQQghxQWEghBDigsJACCHEBYWBEEKICwoDIYQQFxQGQgghLigMhBBCXFAYCCGEuKAwEEIIcUFhIIQQ4oLCQAghxAWFgRBCiAsKAyGEEBdZZOjM89b765rQ3AHSLCSv+PtlkaMx8fLHzsPWN8lpUDRYKhfIYd5vPhItyyNOmvfXG61L5pMQvS5vpHWN1xO5s/tJu9IFJId/6n5GdFyCzAg7IqfOnrOW3FhULZBTvmhXWcrlDZLRq/fLO4t3Wd8QkrHIMMIA4zP9ztrSVMUhKu6cDJq/Q0au2mt9e4GK+XLIpNtqSI1CueTomTjp//cWGb850vr2+mLm3XWkTan81qfkHDsTLz9sCJdnZm+1llwdOpctKPmDssn+U7Eye88xa2nKQOB+7FxNQnJ5Fzmb/adjpecfG3zapzecAnS9CT5E4fuOVaVBsWB9qERi4hPk4+W75fWFOxNXICQDkWFSSfAyP1u1zxj7nP5+0qdGcSMCnjxVr4RULZhTzp0/L5O3HbpuRcEJjMiGw1Gy9tBp84qMOivxCeclX2A2ebJuqHzWtpK15tVh6M3l5cdO1WRQ49LWEt+JPZdg2srb67S+4vS6LhZEgiPaVDTn1rd2iLX02uMpCiAoW1Z5rkEpebtZWWsJIRmHDFVjgJGfvvOIJKjRh/H3NA7wXG+vUEj8smSRncdj1GPbY31zfQOxe2rWFqk1Zql5FR21QO6csk72qceOa2mvXrI3EbweWbjvuASPmOv1VfnbxbJAv7+R8CYKNhQHklHxk1t6vmm9zxBsPhot7csUkEI5skvRnNllafhJY0DBBy3LS+PieeSMeuCfrNwrv2nEYIMaxVvNysmbTcuqF15CulUorA+un6yKPGWtcYH3mpeTXtWLSwU1xv/sP2EtTeTFhqWkb61QaVkinxGfI2rUbytfSF5qWFo6lS0gJ2Lj5ZGaxeX9FuXlYY1qItT733Ys2traTc9qxaRs3iDjTeNcd504Y30jskWvs5Eam+oFcyHhJysiTsrGI1HWt4k8WK2oGp1y8op69r31fGsWyiW7T56RQzFx1hoXQBpmQJ0SMlTv0cD6Jc362Pf6w6flpB4f9K5eTJ6tX8oYu9zZs8nZhAQ9hzyua/VGmTxB0q1iYQnWbXadiJEfN0RY36SM854d1vNtpaL+4c0V5AW9v2gb1UMTPdngvncpX1Aq589pDO5ZjUxwXogiZu05Ztr99SZlpLtuCyCmH+n++mtbQ1yrqyOBa+tUtqC532F6n5zY59NNHYtceq+cx04J3Kext1aXukVzJxMFG/+sWVQ08kignvOci0yhEXK1yXDCAKNXICi7NNaHrUCQv+RQ4/6rGtVHa4ZIv9qhxmjAK31uzlY1Holpi8d1+bgu1U0+HwJRRAUFBcJb1dB0LldQ1h2OShIXMLJtJWmr6+oznczIDVZhQVRSIjhQZu0+aoz5/VWL6jFCpEqBXFJNDdADavBxnDwB/jJn79EUjUxqwgDurFTYGO+jZ+Jl7MaIpO+x7/Fda6g3WlKPmdNcD5bBiN9Xpajgqp2C1lGF9LduNaWHfldSz9teH8b0DjXoEKHtavgHqBGFOEAUQEG9z7UK53JdqzcuRhic96y0bv+sihWE2G6bLuUKmb+TtyeKO+47lqF9QWjuQHNu6AOj/t1nhOWlRqWlTpFcUjxXgDxaK8Tst6B+v0bvP1JYcAgaqtjGar/wLOxj/w+o0JYKDtLvjmifSF0YbFGoqeeQkijYUBxIRiNDDldFUW9l5Ek13Fmko3qcMIa9qheVvAHZTFrm6zX7jbEF91YuIu80LyuFNcKANz9uU6S8NG+7SXmcU2MBj/PTNhWNR32p5PTPaoztvlNnZMLmSPl9x2EzuuhieEqNGCIjGHnUH5wF21G3VJYO+E6/xHU8O2ebDFuxRw5GnzV1iZcalTLXbYOIAkYX9+SH9eHS888NMkIjKhS3S6nRf6tZWXP92NdPatQPnE4Uyc1Ho8znSVsOuoTzcoJCMlKAmzQawrGm7zpiBhdkU2PaVb14tC2YEXZUJm6JNOcMlhw4Ydaf4ogKAbZrHppXjmtbQ2zhNOxWQZux66i5BvSZRsWDXe2NNF29IsHmfdjJGJm2w71PT9IjCjZMK5GMRIYUBhg4uxCdP9DfGDY82Kg9TNt+2FVwhheIdWAoXp6/Xe77fb0MXbZbmo9baYw3toFXDm/5UoHRQbRS7bslcu+09eZYvgw5xfmNbFNJ1vRuZF4RTzSXYa0rSHY1cn/q9s5RSTCUGLaL8x67KcJcx3AVhedUHHr/udEYdewP0QGA0UVUArCv3tM3GoM6UPf5yco9KrCnZEXEKSmWM0DGWKKBewUwKgmfse7WFNJhniCdZV+H5+s/N5Wx1roA0jyL1Mg3HbvCHKvTpNUyUkULqaK8KnItS+Q166HNvly9X6LjEwV/gwoJ1h+0YIf5bIM2QATUUu9L98lrpYe2w7frDpjz/2f/cSO0EEMIq027MvmlWK7spuA/e/exJKfCGxcjCjYUB5JRyJDCAJyFaKQcEKbvOB5jDIgNPMdahXKb9ysjTpqx5U7+uzFCDkXHmW2RmrpUMLroL/V4UzMs3oDBQAoKRhUvpFNgMLPoq4hGOkjl2MBQwmCidgHv3wm8bbu4WzF/kPGKcS5xVkqtbpHcJgqxeWvRLqn/4zJ5/O/NPhv+tEDtx74Oz5fzOmwwimneXrcxnqOfUc+A4fVDPi8doD/M1e096zFglhr94xpxILJEfcIGQouRbkdi4kzKLCVwP8d0qppMFDACDhENRl05cda/bNDWz9QvaWomhFyvZFhhAJ/9u88UWwEKzmM3RboMQuk8gZJHjQDMIkTDExhSu6BaRte9VOBxhkelP+UCI//0rK3GA7ZfMPrwmusXDZav21c2nj+ACMIoQTAmd6slJ5++2fVC+gWgToA0Gcb6z95z1BgvpJMwFySyf3NZ0KOeibRQa7ic2Oknby+kqjxBHQh1CSdI8em/iwJtgEjSG0gRIVWEqKJJ8URHAGmk2oUTnQcU4tEnUgL3E/ULT1EYr/1unEZvnqd8+my8DJi5JZk4QIQq5s8Yo8xI5iRDCwPyzBgtA2Dg56un6I04NbDeRuo4Sa9nejmBcYFRchpRpHyGaPQDwcPEsbsqXagZAOTS4cF6vuzirBOkgpCegQAB1FuaaTSFUTzrH2rsNcVzsdjpJ28vpKquJYhKFu0/YaIKOA13VSosbUvnN/cX9xmjm1IDdR5EFGgvYIsCIi57mSdTth9KJg54/8uWg9YnQq4/MrQwpAUe9riEBMnul1VCvczKhSG19QAphuuNpSp8EDx4uBXyJdYJouISzN/tx2Kk0jeLJcuHs7y+Qr9YmFSwhkFEgbrYqAVS/bslpmaBwjiKvIioMGoLI5cyA0j1YXisnU4yaSTtB5HRZ30aMQQj/+3aA2YWN/5CFNJKHdrisObgafPC+9QiE0KuNTe0MOAhRA0BIC8MIXCC4Y9FcgSYFICdknKCoYvOiWXYPn+Qv/XpyoOUA4Y6AqtMYOZEIF2CORzwdj1BygkpDycomMI7RtoIqTbM8ejy6xpTc7FnWDcJufQaS0ZgmgoiitMQW4gC6i64w4g+8UoLiEDfGZuN8OJvWqJgA3Go/cNS88J7Qq5nbmhhQEF1phX6o/jp/GkJGEsM64RRPKZe+VTHwwpvHJTJGyhv3FTGCAKM6g+dqpn9XA0w0Qo1ABRzMQb/X2siHkYWwbvFJKx+tULM8FgbTNLCOS57sIEsvr++WTagbqj5PL5LdfmgRXmzzAbiAt1Bnt9OMzkpmjPA3KfrEcyd8BR6X0FxGvUbzJ5HzQZF4/le6h+EZFZuaGEAmPyEeQAY5fNgtWKm8LqhT2NZ+kADY+ThMXsOcYVHh/Hy2AYTsQ4PaCFhfZtK1/IFZf2h5KNdLhXkuGfdU1fOv9Am6fXr7TWTiqIYUfXdugPmPdJDKEwjTYYfCpyj2215pIl5Texa3QgYhpvix/cA1sUcAXjI9+m17Hu8mRk6ir/4jJFPS8IxJ+BC/h+FegQoGCm1omdD2fRw42RRSEpgEqHzOpwvHNMuol8MKKSHW3MsMKENw3ptAUwPf+48IuEqhIjGUKtBWmhmWMqjkQjJbNzwwoDUCcayYzghitAovMILhscN44+RTSj0OoERHrFyT9JkKtQoMOTz+3XhZmLd1QBRDkY4IY9919R1ruGkry7YYV7w8gOyZTXpLrz89TyRanp+zrakoblIdfT6c2PS9UOEIIj4G6vigggEI6KcKZGX5203aRWcA4rZmOOAEU3XGpzjGwt3mpFPIIc/IrlAMyw5PeDaUOwHKESjtnC5husSciOQYX52+3IAb9rX/9PBBj9BjXkO1+v/IwAP3P4/HdL6KWrn9fvyfyNAQBG1QGyut//TAhEMxGr1wVNe5yykxbcdqshDNYqbQQcoBmOy4KWAGs7odpXN5EKbqRqJ3vbbGusTIRmHTCUMhADUZcbeWs3UKfAjivV+XGZ9c2n0qx1ifnsK4oDI8pMVey9KtAi51lAYSKYBAwnwI4Ew3Bimi5nqmP39wdIwaw1CCLjhawyE2OCXVRElQBRQvEfBnaJASHIYMZBMA+oS+L/AzyXIRdcmCMkMUBgIIYS4YCqJEEKICwoDIYQQFxQGQgghLigMhBBCXFAYCCGEuKAwEEIIcUFhIIQQ4oLCQAghxAWFgRBCiAsKAyGEEBcUBkIIIS4oDIQQQlxQGAghhLigMBBCCHFBYSCEEOKCwkAIIcQFhYEQQogLCgMhhBAXFAZCCCEuKAyEEEJcUBgIIYS4oDAQQghxQWEghBDigsJACCHEBYWBEEKICwoDIYQQFxQGQgghLigMhBBCXFAYCCGEuKAwEEIIcUFhIIQQ4oLCQAghxAWFgRBCiAsKAyGEEBcUBkIIIS4oDIQQQlxkkaEzz1vvr2tCcwdIs5C84u+XRTYfiZblESetb5LToGiwVC6QQ+LOnZeF+4/LvlOx1jeZh85lC0qegGyy+uAp2Xgkylp65cmd3U/GdKwqDYoFy1drDsg7i3dZ31x+ruaxSOpULZBTahfOLRFRsTJ7zzFradrguX6sVoiUDg4yn9Ffv167X06dPWc++wqO/0jN4lKjUC45E58gC/Ydl7GbItJ89h+tGSI3l8wrJXMHyvbjMTJ1+yH5bdsh61s3tl1Jif16LM9rx3OYPyib9cnNuYTE67Wfz9TWtfHc5kqRYYQB/HVXHbmldH5ZqaLQesIqr52nYr4cMrFrDalZOJf8vuOwdP11jfVN5mJDn8ZSPm+QDFm2W95YuNNaeuVB5/62QxUpkjO7Ee+GPy23vrn8XM1jkdR5q1lZealhKWOQ207811qaOi/q+i83Ki35Ai8YQxij7cei5YW522WKGmlfGNmmoopCiARlcydAIqLOyluLdskXq/dZSy4AIUHfaVQ8jxrBC8QnnJf/7Toi9/2+Ppl9mXl3HWlTKr/1KTmzdh91XXvrkvnkx87VJCRXgLXEzVm18s7nE88szis1PLe5UvjJLT3ftN5f90TFnTM3u3SeIMnh7yczwo5a31xgUJPScmu5gqZTvDRvu+w6ccb6JnPRv06o5A/0l3/2n5A56fDgLpVt+lCXUu8viz5to1fvl3/Vu7lSXM1jkdRppc8lIvo9J8/IjxsirKUp06dGcRWTchIc4Cdz9x7XaC9M5unf4mpEq6hxrF80txraY3IoJs7awjvvNi8nA+qUEP+sWWS6GvQhS3cbw45oGd5905A85pzWH77gYZtIs1NVaV4in+xW+zB85R75fv0BiYyKk0r5c0i1gjmlhEYQkz0ih6frlZRCObKb5wnP1dpDp12vxQdOmOU29TXC6FahkEYw52XajkOyKtK9/pqDp82+thyNNuuH6rWH6fk417FfW7WvI7qCiOH6cKwrSYaKGMBnbStJv9ohcuB0rPT+c6MrdLMVurA23qer9spzc7ZZ32Q+rlXEQDIn6Y0Y5veoJ81C8xovu/vktUneOTxmRPxV1KgjPfj435vNcm8gOzC1ey0pny9I/rsxQnqpPbCB8R/Xpbp00qhytocn/0rj0vJGkzKy43iM3D11nSstgwjmjZvKyMnYeHlo+kYjNgDH+uOO2iY67T9zs/zkg/gNqBsqH7QoL7tVmKp9t8RaenF8cUtleaxWcRWXUylmSy4nGSpiANuPxUhLVfoKquxB/lll0paD1jciI9pUknqq0v/qzUOjnj13QfPQ4d5sWlbeVi/lcRWW1qXymZuLzuEEHeB17RgdyhSQnfrdkTNuj+U99VDur1rMvIfSO9c/GK2hq+4fD8mdlQqbWggELDVu1mt5W/eJzgjBw8Ny7Ey8hGlnsmms4e7r2pFv0r+zPLx/+/jwTA6rd2XnVJ0RQ171noa1rmhC9/urFNXQ3V89qNOu++O8DnhYz9QvKUNvriB9a4UYgdl0NEpO6v1qr99/qMsH6cN1b+Ui6qllNZ3VCY7zcI0Q8972hgAeVnh3Q1uWl4G6/5TOBfi6bkrHAr62ufP+blHP7DV9/4EeF9s0VS84XKPP9NSpnMdFO7QrXcCkADZ7nJ8N2u49NSC4p72rF5eyGhHjPHC/PYHXCOP1rq7/ZN0S0rFMQVN3g1fpifPeIIoern2gX+1Q8dMQa4VVo/PcX1rninbB/Xnfsf5xNaIlgwN9jhi66LkgYkAN8L0lYbLS0X8QIWBfaBP0W2QFPJ9Bmx5Vi0j3ioVNduDl+TtcbYQ+grZuWyq/cRQ3aMSAGgLAM4z0zmf/7ktWT8AzXFnbDymlbWpr7L5dq3AuuVv7e8L58zJx80HjwacF7nkLfZ53Hj8j3607YC1NP7gXELPAbH4mMk5PDediyXDCgE6SRTt2c73h5fLmkKMx8abxHtcO/7B2tpj4BNPZloZfKE7/Rw3eNx2qmG2KaYcomjNAw0VtaDXeSEVM23HYWjOxA7yqHb+qhpPwZjxTUSM1Yrm5hDb2iRgTBtrro+jVqWwBaaeGs5juPyBbVvlz5+FUU1lvq4B8rp5AvSK5zTnhVVP3A0Oh/TIpLEWY/pI+vDj3UdqZndjHR9i6JDwxvAW2METHJcjzaiAQnsPbwUOHc8QDs0j3b4fq9n4QRrcIzacPXVET1uOYN+kD31D3X07FY4QaF1wr9oWUXke95nIqHJMd+eDBahTxUNj3CMBYwuN6sHoxveeBrnNBu6C97HNJz7rejgXS0+b2/Q3NHajfF5Fuamxw7dgG96V7xUJqpOPVmKadqoK4/9+t1aSFCj6Oi3PHvb+tfCHz+c+diR4ogJH95baa5qHHfce6MNQ45/tUCOEgONNjMKbju9Qw9xzrYX2kPrrqvhsWCzbX5BRN+96U0XbqpfcS97BgkL+s0T6Ce+VtfzjXO/T60cZIWTj311Hv/y+31zT3x7k++v2h6DiprtfgizDcW6WIqRXCk35x3jbXMQBqBe30e9wfCFhKhVbb8EaqMR+kwuAJzvE2fZby6nOwSfeB5wn3FvWI2IQE8yzB+XMC+4Lo4+u1B1wODxy27hUKm+fpv5sizHWmxf36DKFgvUlF9v90nxfLq43LmGwInu0BM7cku19Xggw5XBXFpL/CEvOIvaoXNR2gT41iEqyf/959xKXOeFDhcaKzTdwSaUK6EqMXyufaKWL1BuOB+bhVBWvti6dwDn8J0fMYreeGY/SYtj7VkVPwtp9Q4w0PZOiy3RI8Yq554doC/LKa84ancClky5rFCMAG9bI7TVotWT6cpWHwFjN6AiN54EF6Au8Khv6V+dvN+q8v3GnC6qb6YLzQoKT8pcYC14cXcrDI7yPKgNFIDXjgGBCAaK7V+FVm3x30nLZoJHJTSB5zL2zSs643LrbNcd0F1HDi4cMxkeLYrMeEwMLpgKFKDbQXvPTc2bOpcQw3x7TvYax64T3UIKLdbZAWhVGGx4110P64XqRjYHRfa1I6qQ/g/sLQF9J+Bo8R62F9bAcBQcoEQuiJv/YliMZ83Sf6QIOflsv4TZGp7g/nAzFEVGCDa0ckDCFCO+De2PcIXjacGfQ3X4BAoY9jBJO3lMjcvcfkqBroIPWQIWopcVq3hY3MrlErIl5Pcvr7mdqDBlSSy2q70nkCjd3APUPEsvj++hLzTCs5/0Ib83fOvXVNFO8JnD1cX5wKCqJYe5uogTenuE2hoOzmL85h12NNJf751pKg2xwa0EK+bl8lzf4E0P7oI+i3v2w95PV+XQky7DyGLzWk2nfqjFHkHzpVU88ut4Sp1zh8xV5rjUTgeQVrA/y85aDcM3W98T4QcuLh/2zVXjmvhhke0qUaYYSen6/aJ0/8vcUcAw93ao2IiCSXdlwUoFAkx7p4YXsM10PIiOu7FLKq1d6r+0Du1c6Vwkt6Ye42fTDizL3D/XECofpKj48iHsAQUCMA+h7RD84V14eXKe5rmAxBhoeZGjC60XHnTJEPDz6AyPxn4S75Rr2zPxwefHrW9cbFtjmM94cq0nZUhjTD24vCjBGBMfP28DupkC9IPfLspqD57uKwpNQG7uHwFXvkqzX7kyI6GOb2pQsY44YaENZB++N6H/nfJlmv6yHdAW8cPFitmHE8UKC9/bc1Zj2sj+2wPcT7llIFkrUn2g2igG3QB3B83A/sr3iu7CaCaTNhlWt/Hy/fY7xSjPpCHwED6pbQiCCXSY0+O3tbUgoGf/EZERX6W3pIKT2H80DE7DTo3kA0AQEpGRwgvVXsPblHRRgREjIMEA8AocmuO8aZ/tS5mhmVhCjBTg2hjbHc09GBwwQDj+0Rndtp2+wqcCltg2MDRKRwHPGs4LmD8/FwzeLyq0ZfaYlDL22nEtrucO4+/9dt264kGVYY4OX8nxWyIsw6pz0JIewSR7UeuUx4OPCAvA19G7M+XEPCWNPoCEkvBXSuOZYR8wXb24ERhDfq5KlZW00UkdKD4ysw8hjZAUPgZPzmSFP/yBPgZzxwJ7gOiJqTeN0PgFA5c6t4f1Y9qLQeYICx5fDgEcEgwrOBR99vxuYk4QLpWdeTS2nz8NNnTfrECUY+ndB9wXvN6xhW6Q2cNzxKePtIlzgZvGiXRmE7ktoCwx5hIJD79hxOiftac8xSCRg2xxh9eMMw0Ng/BBKG0wm2x368tSfqBRjB4tzG3t9pFd9ft16o0dlgGaJKGDZb8Gvp30BtE/QNz/uPz76k2WzQtsDuVxcLbADSvX5qsBFFIn0IQ4tU5ISu1U2dD542HAH0UwCvH6KAFBjWfVmdm9AvFkqlbxZLKxVIRPkQYERHTqONoe8Qdohmma/+MdEgXrf+usZEleinntugr+H1tD7POT+ZKxW+WSQFPp2fJOQQDGdU5sm1ihZAhhUG8P7SsKQ84CLt/B8vT/RybfAg44FGqOv5wAM8gPCo4QnAUFwK8HAgTr4CLxwdqrAakS/bV5aIJ5rLlG61TK0kLS/CVxDFHIo5a31yg2IyPLwKHiF4eq/DV2Ck0cGRa9/ycBNZ3auRSaXYHqmT9KzryaW0OYyHU/gADEV0vG8PJCKUZeEnjUii+HzkyRYy+566Jr3kFDiA84SRgvCkBbbFQIvjsXEpDsnFftCetpfqBA6CE3t/GDjwfINSsqZ3I9fr59tqaL/0N541Ui8A+4XI2AVcT3B89DdfQB0Q2KmWSwFRIJwfRK245yefvtmMyLurUhHj/CwL9z6sM07P9dt1B4wDZgOn8v0lYXIIBej8OU1UZYOICmnY5zXadjpsEGo7qqyoDgkiURtE/hgEM1KjVCeIysZtijQChWgjpee9X62QaxItgAwtDFBQzG0Au07EJFNUOy+I/pqS2uKhwTppeYOXGxggTL77du0BU7iDQHQtX1BG3VJJdvdtZryfSwWdHwYyNeDtXw0w0ajvjE3G0MKAoaiLAvniB+rLovvrGy/PJj3renKt2xzDHz9Q44J0EnLZ8AqHtCxvBO7LdpWttS4YRV+8ZkQW8LJxTSmJtr0fb8Lgib0/GH4U95Ee8XzBr8b9Q5QCMCIMeIqMDcQzpe88wTVgzZQMIiIapH586b84x/Y//ysD1StfqNEMUmVwFtEGzcetMPUhpMUwPwDYkTpSOnM14vAEqTGMfMS9KarPpC9ghjXsT6BfVimbN+WaiJPZe46aqBZ90JvDgyxI29L5r0m0ADK0MKRFeFSs8WJyqAeZkrcJ7xKeEIa8XW3geTz61yYpNmqBlNSwFCmkf/YfN5N+nqpXwlWovBjgFWNkjTdQ3wDIlV4tMPYbs5ODhs8xeW3UUeBpIWRGwdlJetZ1cq3bHA/woAU7TLoh38h50ls9xj92HjZCBA8UQ0OBHcn54jUf0TaClw1jDqPuDbs9fUk/2vvDX8zwtQc+eL4KfjbfjPADMKS4Bhhab2AUF/LtvoDhwhAcTCLzVjSGI4CfhoDTB4H1BXjlzcetlFpjlkq9H5eZNkD759f7deJsvKk/AhjwGBWxcypiZ7QPeAO1JpCemoktoL6C9VOLsHpqXymmwnQtogVwQwsDQkl0fnhRGIXjCYpFyPGjg2AavhM8aJ5GFesXSOHBuBjgXdgeBh5oTMrrOGm18XowhhtD5JwEZ89mhts5wZjrPLrcG3hQa+tD5gkeRvyuDYyjZ+rkSuI01MgPY/LSsBV7JFYfkhoFc7m+T8+6Ti6lzS8HSNPYEQ1E4of14XLrL2vk791HjWFvYhW8tx6NNsYZ9RBvxhHpJ/wO1ANVi5rrj1QRw2inekWSX5OzPff4MGDB3h/6U3UvgwbgyXumvmDMUcTFcGpvVMmf+k85OLGLxsVyZTcj2jxpXTK/6f94JpzDij25q1Jh2fd4M9n52E3JCr+gc7mCJl2IIam4ZoD0ImpJ+QL8TRHZEzgeeCYRrWDUlA0m0iFNhZSmJ9gGdQlnhIPndLNGiQeeaObVwcN9x/2PiUtIJubXOloAN7QwIBWxLOKE5NSOjolazhQEOj9GBiCFg4f0F6sIh22Oq2eKnCWG7NnhLh4UzAfA+pcD1BO2PdJE3m9RzlqSCLwoiBK8CTw8AIVAjPpAURMPgw06JPKQqRV+MUGrX+3ESU42j+o2ZfIEmolbznH1VwqcM4bo/X5HLTOs0QkMOIqH8A5Rc0nPut64mDa/XHzappIZlvhV+8pJ/QbgPQwd/MPDVqSAYiaK+Zi1+2qTxCjCBkbuaY0Yka9GPwT26CyMjfc0gphhC2O2/3Ssz+2JgjQmxkF40I+cPFS9uGzq00TC+jY1ExoB5j3YI9nwMxRO8LlukdzWp7SBkUZkjJ+1QXs42wh1pdsqFDTpnr8dP3mD88BvFWFypQ2MPAwx5tOg+Oy859gP5qRALJ2TYGFkcS9x7U/UDnXdS2yPuUUYgQZjPWPXheNDXHL4ZzX79dwGbYVagHMbFOnxzMK5xDU6zw33G/cdc53QXz2ds2sdLYCrm1i/BmBYa8OieRIn7NxV20zqQhhZRz0seNsYcYIilK3KdsfB76xgViUaER4ohAF5V3gRlyNqwGiKNqXymUkz/9xX33hkyGtiVAkmWiH0tR9yPEjIm2JCDx4ADCNEThcTtRAWIx2EceGeIJ+K8x3asoKZBHU4Os5MpILXB+HBRB7nKK4rBR5gjH2HSI1uV9kMI0TeF8MMGxXLoyF7ouHDvU/PuimR3ja/XCBvfHflwtqGeU2brj54WoVMko4Lw2obO4xOwqQnpJaQYsI6WB8i37JEXpPTRx/5aUO4WR/XhHoFIgP87AsMD9rX2Z4oaPraniNX7jV9Dfv7Q0UY9yhxWG7ifYbhnLftmCmuAoxkwwgZCNOz9Utav0EUm7R+2MkYM2PbV+w2wrkvuK+eOT7mHcCLxz3Atb+75MKv5WK2MsQH32N+C/L6aD+MFMLIHkQHK3s2NM8J6ia4LlwD+rhn8dd57RO61jARDPL9mO+BlBj6xycr97gMNo6D+4/z9XUbzKfC4A6MQNuk0QMGJsBBwDVAKJAZQCHayfUQLYAbOmIAMKo9fl8vS/WBQQPC0GCsNx5UpBKenLnF5K+dYHIXJgEhbYGx5PaDh0bEw3M5QGd9W/eHqACd9MFqRc254Rzx67F9pm9yPeQYVoeHBfU9eIeYxQtv6YOlu5Nyop7AQ8UDiFmaCNlxDDxc6Gwfr9gjry5IPlv0SoDjPT93u8zU80eOGteJc8FPmyCd8umqfWZ0SXrXTYmLafPLAQqXmIEL7xKpApy387gYtggDa4Mi+2vaBkjr2OsjSkLEiFnzGNFiGwZ7sAKWY44G1sP6dbQ94RigLdPTnvb+pug5ox4Dp8O+z2bEztoDye4zPn+/LtwUmbEe1m+hf/Ez0FO2pT63xBO0Ea4PBhZFehwfhjdAjbnntQMcA+IOL9yZ4kE74p6jFlFejTDaGs4czhHn6q2vOK9dD2eOi/uJvoJ2en7OtmT9A0Led8Zm0y9xjr5sg89Yju+xHta3rxH7wf48h5L31ege617LaAFkuB/RuxQQssJLgBeHXDTCuNSAquO3YODpoSNfKezfYYd9T+u31hG54DdpEGGkdf5O4IkgD4op/TPCko+Fv1o42wA/Z4LCbEqkZ92USG+bXy7s+w18Oa69vi//h4jdB+ARe/s/ANKLc3++3Gf7uUBq5XIc324jGPPUrh1R5G6NTFL6HmkuRPrp6ePOa/G1fzjvl6/b2OeWUf6PmEwlDIQQQtLmhk8lEUIISR8UBkIIIS4oDIQQQlxQGAghhLigMBBCCHFBYSCEEOKCwkAIIcQFhYEQQogLCgMhhBAXFAZCCCEuKAyEEEJcUBgIIYS4oDAQQghxQWEghBDigsJACCHEBYWBEEKICwoDIYQQFxQGQgghLigMhBBCXFAYCCGEuKAwEEIIcUFhIIQQ4oLCQAghxAWFgRBCiAsKAyGEEBcUBkIIIS4oDIQQQlxQGAghhLigMBBCCHFBYSCEEOKCwkAIIcQFhYEQQogLCgMhhBAXFAZCCCEORP4fRfDbIvQqTicAAAAASUVORK5CYII=)"
   ]
  },
  {
   "cell_type": "markdown",
   "metadata": {
    "id": "Rx_cgD3PviAf"
   },
   "source": [
    "# PCA on Training and Test"
   ]
  },
  {
   "cell_type": "code",
   "execution_count": 256,
   "metadata": {
    "colab": {
     "base_uri": "https://localhost:8080/"
    },
    "id": "4_fqvjS2_FYf",
    "outputId": "416e4fd0-0ed2-4a8b-8430-3f9d02f01cc9"
   },
   "outputs": [
    {
     "name": "stderr",
     "output_type": "stream",
     "text": [
      "[Parallel(n_jobs=1)]: Using backend SequentialBackend with 1 concurrent workers.\n",
      "[Parallel(n_jobs=1)]: Done 100 out of 100 | elapsed:   57.2s finished\n"
     ]
    },
    {
     "name": "stdout",
     "output_type": "stream",
     "text": [
      "-1 day, 23:46:20.433906\n"
     ]
    },
    {
     "name": "stderr",
     "output_type": "stream",
     "text": [
      "[Parallel(n_jobs=1)]: Using backend SequentialBackend with 1 concurrent workers.\n",
      "[Parallel(n_jobs=1)]: Done 100 out of 100 | elapsed:    0.3s finished\n"
     ]
    }
   ],
   "source": [
    "pca = PCA(n_components=0.95, svd_solver='full',\n",
    "          whiten=True).fit(X_train)\n",
    "\n",
    "# Check the time to run the model\n",
    "start=datetime.now()\n",
    "\n",
    "X_train_pca = pca.transform(X_train)\n",
    "X_test_pca = pca.transform(X_test)\n",
    "\n",
    "rfr = RandomForestClassifier(n_estimators = 100, n_jobs = 1, random_state = 42, verbose = 1,class_weight='balanced',oob_score=True)\n",
    "\n",
    "rfr = rfr.fit(X_train_pca, y_train)\n",
    "# Check the time to run the model\n",
    "print(end-start)\n",
    "y_pred = rfr.predict(X_test_pca)"
   ]
  },
  {
   "cell_type": "code",
   "execution_count": 241,
   "metadata": {
    "colab": {
     "base_uri": "https://localhost:8080/"
    },
    "id": "G9OYSmsC_Fbk",
    "outputId": "21750037-c7ce-44a0-fb2d-e408b30c62e9"
   },
   "outputs": [
    {
     "data": {
      "text/plain": [
       "(33600, 153)"
      ]
     },
     "execution_count": 241,
     "metadata": {},
     "output_type": "execute_result"
    }
   ],
   "source": [
    "X_train_pca.shape"
   ]
  },
  {
   "cell_type": "code",
   "execution_count": null,
   "metadata": {
    "id": "nxSTjIYGOGCo"
   },
   "outputs": [],
   "source": [
    "# # dividing the data into the input and output features to train make the model learn based on what to take in and what to throw out.\n",
    "# df_x = train.loc[:, \"pixel0\":]\n",
    "# df_y = train.loc[:, \"label\"]\n",
    "\n",
    "# # Normalizing the images array to be in the range of 0-1 by dividing them by the max possible value. \n",
    "# # Here is it 255 as we have 255 value range for pixels of an image. \n",
    "# df_x = df_x/255.0\n",
    "# test = test/255.0"
   ]
  },
  {
   "cell_type": "code",
   "execution_count": null,
   "metadata": {
    "id": "NkB-FMr4Uk6c"
   },
   "outputs": [],
   "source": [
    "# standardized_scalar = StandardScaler()\n",
    "# standardized_data = standardized_scalar.fit_transform(df_x)\n",
    "# standardized_data.shape"
   ]
  },
  {
   "cell_type": "code",
   "execution_count": null,
   "metadata": {
    "id": "cS3_6FYTM7zH"
   },
   "outputs": [],
   "source": [
    "# cov_matrix = np.matmul(standardized_data.T, standardized_data)\n",
    "# cov_matrix.shape"
   ]
  },
  {
   "cell_type": "code",
   "execution_count": null,
   "metadata": {
    "id": "dG7Nq4kBNDsq"
   },
   "outputs": [],
   "source": [
    "# from scipy.linalg import eigh\n",
    "\n",
    "# lambdas, vectors = eigh(cov_matrix, eigvals=(782, 783))\n",
    "# vectors.shape"
   ]
  },
  {
   "cell_type": "code",
   "execution_count": null,
   "metadata": {
    "id": "rud54jG3NDwK"
   },
   "outputs": [],
   "source": [
    "# vectors = vectors.T\n",
    "# vectors.shape"
   ]
  },
  {
   "cell_type": "code",
   "execution_count": null,
   "metadata": {
    "id": "jCUzIt5vNKWS"
   },
   "outputs": [],
   "source": [
    "# new_coordinates = np.matmul(vectors, standardized_data.T)\n",
    "# print(new_coordinates.shape)\n",
    "# new_coordinates = np.vstack((new_coordinates, df_y)).T"
   ]
  },
  {
   "cell_type": "code",
   "execution_count": null,
   "metadata": {
    "id": "86IFbCsvNKaO"
   },
   "outputs": [],
   "source": [
    "# df_new = pd.DataFrame(new_coordinates, columns=[\"f1\", \"f2\", \"labels\"])\n",
    "# df_new.head()"
   ]
  },
  {
   "cell_type": "code",
   "execution_count": null,
   "metadata": {
    "id": "NOut4o9_NDz5"
   },
   "outputs": [],
   "source": [
    "# sb.FacetGrid(df_new, hue=\"labels\", size=6).map(plt.scatter, \"f1\", \"f2\").add_legend()\n",
    "# plt.show()"
   ]
  },
  {
   "cell_type": "code",
   "execution_count": null,
   "metadata": {
    "id": "-2erNQdMudob"
   },
   "outputs": [],
   "source": [
    "# from sklearn import decomposition\n",
    "\n",
    "# pca = decomposition.PCA(n_components=.95)\n",
    "# #pca.n_components = .95\n",
    "# pca_data = pca.fit_transform(standardized_data)\n",
    "# pca_data.shape\n",
    "\n",
    "# # //95% of variance\n",
    "# # from sklearn.decomposition import PCA\n",
    "# # pca = PCA(n_components = 0.95)\n",
    "# # pca.fit(data_rescaled)\n",
    "# # reduced = pca.transform(data_rescaled)"
   ]
  },
  {
   "cell_type": "code",
   "execution_count": null,
   "metadata": {
    "id": "4aLmnFn3JyWf"
   },
   "outputs": [],
   "source": [
    "# cov_matrix = np.matmul(standardized_data.T, standardized_data)\n",
    "# cov_matrix.shape"
   ]
  },
  {
   "cell_type": "code",
   "execution_count": null,
   "metadata": {
    "id": "eaigFGLHUk9D"
   },
   "outputs": [],
   "source": [
    "# pca_data = np.vstack((pca_data.T,df_y)).T"
   ]
  },
  {
   "cell_type": "code",
   "execution_count": null,
   "metadata": {
    "id": "0g76wvDePeV8"
   },
   "outputs": [],
   "source": [
    "# df_PCA = pd.DataFrame(new_coordinates, columns=[\"f1\", \"f2\", \"labels\"])\n",
    "# df_PCA.head()"
   ]
  },
  {
   "cell_type": "code",
   "execution_count": null,
   "metadata": {
    "id": "h-kEHpaaPkRz"
   },
   "outputs": [],
   "source": [
    "# sb.FacetGrid(df_new, hue=\"labels\", size=12).map(plt.scatter, \"f1\", \"f2\").add_legend()\n",
    "# plt.savefig(\"PCA_FacetGrid.png\")\n",
    "# plt.show()"
   ]
  },
  {
   "cell_type": "code",
   "execution_count": null,
   "metadata": {
    "id": "47IdVfmjTkM_"
   },
   "outputs": [],
   "source": [
    "# pca.explained_variance_ratio_"
   ]
  },
  {
   "cell_type": "code",
   "execution_count": null,
   "metadata": {
    "id": "ruDhBoJC6txL"
   },
   "outputs": [],
   "source": [
    "# pca.n_components_"
   ]
  },
  {
   "cell_type": "markdown",
   "metadata": {
    "id": "IgrcizUHe5T_"
   },
   "source": [
    "# After PCA Fit Random Forest Again "
   ]
  },
  {
   "cell_type": "code",
   "execution_count": null,
   "metadata": {
    "id": "mN-iCMYP-kCE"
   },
   "outputs": [],
   "source": [
    "X_train_pca = pca.transform(X_train)\n",
    "X_test_pca = pca.transform(X_test)\n"
   ]
  },
  {
   "cell_type": "code",
   "execution_count": 251,
   "metadata": {
    "colab": {
     "base_uri": "https://localhost:8080/"
    },
    "id": "GI8wakYARAyc",
    "outputId": "7c3beb95-e1f7-4602-a8ec-3a942e00d9cd"
   },
   "outputs": [
    {
     "name": "stdout",
     "output_type": "stream",
     "text": [
      "0:00:58.952903\n"
     ]
    }
   ],
   "source": [
    "#training random Forest\n",
    "rfr=RandomForestClassifier(n_estimators=100)\n",
    "\n",
    "# Check the time to run the model\n",
    "start=datetime.now()\n",
    "\n",
    "# Fit data on to the model\n",
    "rfr.fit(X_train_pca,y_train)\n",
    "\n",
    "end=datetime.now()\n",
    "print(end-start)"
   ]
  },
  {
   "cell_type": "code",
   "execution_count": 252,
   "metadata": {
    "colab": {
     "base_uri": "https://localhost:8080/",
     "height": 381
    },
    "id": "WNJM9j3XU6av",
    "outputId": "a05c5e5e-ed23-4a48-9ae3-74dd4ab3bb4d"
   },
   "outputs": [
    {
     "ename": "ValueError",
     "evalue": "ignored",
     "output_type": "error",
     "traceback": [
      "\u001b[0;31m---------------------------------------------------------------------------\u001b[0m",
      "\u001b[0;31mValueError\u001b[0m                                Traceback (most recent call last)",
      "\u001b[0;32m<ipython-input-252-51d9ca71fcf8>\u001b[0m in \u001b[0;36m<module>\u001b[0;34m()\u001b[0m\n\u001b[0;32m----> 1\u001b[0;31m \u001b[0mpred\u001b[0m\u001b[0;34m=\u001b[0m\u001b[0mrfr\u001b[0m\u001b[0;34m.\u001b[0m\u001b[0mpredict\u001b[0m\u001b[0;34m(\u001b[0m\u001b[0mX_test\u001b[0m\u001b[0;34m)\u001b[0m\u001b[0;34m\u001b[0m\u001b[0;34m\u001b[0m\u001b[0m\n\u001b[0m\u001b[1;32m      2\u001b[0m \u001b[0mprint\u001b[0m \u001b[0;34m(\u001b[0m\u001b[0;34m\"Classification Report\"\u001b[0m\u001b[0;34m)\u001b[0m\u001b[0;34m\u001b[0m\u001b[0;34m\u001b[0m\u001b[0m\n\u001b[1;32m      3\u001b[0m \u001b[0mprint\u001b[0m\u001b[0;34m(\u001b[0m\u001b[0mclassification_report\u001b[0m\u001b[0;34m(\u001b[0m\u001b[0my_test\u001b[0m\u001b[0;34m,\u001b[0m \u001b[0mpred\u001b[0m\u001b[0;34m)\u001b[0m\u001b[0;34m)\u001b[0m\u001b[0;34m\u001b[0m\u001b[0;34m\u001b[0m\u001b[0m\n\u001b[1;32m      4\u001b[0m \u001b[0mprint\u001b[0m \u001b[0;34m(\u001b[0m\u001b[0;34m\"Confusion Report\"\u001b[0m\u001b[0;34m)\u001b[0m\u001b[0;34m\u001b[0m\u001b[0;34m\u001b[0m\u001b[0m\n\u001b[1;32m      5\u001b[0m \u001b[0mprint\u001b[0m\u001b[0;34m(\u001b[0m\u001b[0mconfusion_matrix\u001b[0m\u001b[0;34m(\u001b[0m\u001b[0my_test\u001b[0m\u001b[0;34m,\u001b[0m \u001b[0mpred\u001b[0m\u001b[0;34m)\u001b[0m\u001b[0;34m)\u001b[0m\u001b[0;34m\u001b[0m\u001b[0;34m\u001b[0m\u001b[0m\n",
      "\u001b[0;32m/usr/local/lib/python3.7/dist-packages/sklearn/ensemble/_forest.py\u001b[0m in \u001b[0;36mpredict\u001b[0;34m(self, X)\u001b[0m\n\u001b[1;32m    610\u001b[0m             \u001b[0mThe\u001b[0m \u001b[0mpredicted\u001b[0m \u001b[0mclasses\u001b[0m\u001b[0;34m.\u001b[0m\u001b[0;34m\u001b[0m\u001b[0;34m\u001b[0m\u001b[0m\n\u001b[1;32m    611\u001b[0m         \"\"\"\n\u001b[0;32m--> 612\u001b[0;31m         \u001b[0mproba\u001b[0m \u001b[0;34m=\u001b[0m \u001b[0mself\u001b[0m\u001b[0;34m.\u001b[0m\u001b[0mpredict_proba\u001b[0m\u001b[0;34m(\u001b[0m\u001b[0mX\u001b[0m\u001b[0;34m)\u001b[0m\u001b[0;34m\u001b[0m\u001b[0;34m\u001b[0m\u001b[0m\n\u001b[0m\u001b[1;32m    613\u001b[0m \u001b[0;34m\u001b[0m\u001b[0m\n\u001b[1;32m    614\u001b[0m         \u001b[0;32mif\u001b[0m \u001b[0mself\u001b[0m\u001b[0;34m.\u001b[0m\u001b[0mn_outputs_\u001b[0m \u001b[0;34m==\u001b[0m \u001b[0;36m1\u001b[0m\u001b[0;34m:\u001b[0m\u001b[0;34m\u001b[0m\u001b[0;34m\u001b[0m\u001b[0m\n",
      "\u001b[0;32m/usr/local/lib/python3.7/dist-packages/sklearn/ensemble/_forest.py\u001b[0m in \u001b[0;36mpredict_proba\u001b[0;34m(self, X)\u001b[0m\n\u001b[1;32m    654\u001b[0m         \u001b[0mcheck_is_fitted\u001b[0m\u001b[0;34m(\u001b[0m\u001b[0mself\u001b[0m\u001b[0;34m)\u001b[0m\u001b[0;34m\u001b[0m\u001b[0;34m\u001b[0m\u001b[0m\n\u001b[1;32m    655\u001b[0m         \u001b[0;31m# Check data\u001b[0m\u001b[0;34m\u001b[0m\u001b[0;34m\u001b[0m\u001b[0;34m\u001b[0m\u001b[0m\n\u001b[0;32m--> 656\u001b[0;31m         \u001b[0mX\u001b[0m \u001b[0;34m=\u001b[0m \u001b[0mself\u001b[0m\u001b[0;34m.\u001b[0m\u001b[0m_validate_X_predict\u001b[0m\u001b[0;34m(\u001b[0m\u001b[0mX\u001b[0m\u001b[0;34m)\u001b[0m\u001b[0;34m\u001b[0m\u001b[0;34m\u001b[0m\u001b[0m\n\u001b[0m\u001b[1;32m    657\u001b[0m \u001b[0;34m\u001b[0m\u001b[0m\n\u001b[1;32m    658\u001b[0m         \u001b[0;31m# Assign chunk of trees to jobs\u001b[0m\u001b[0;34m\u001b[0m\u001b[0;34m\u001b[0m\u001b[0;34m\u001b[0m\u001b[0m\n",
      "\u001b[0;32m/usr/local/lib/python3.7/dist-packages/sklearn/ensemble/_forest.py\u001b[0m in \u001b[0;36m_validate_X_predict\u001b[0;34m(self, X)\u001b[0m\n\u001b[1;32m    410\u001b[0m         \u001b[0mcheck_is_fitted\u001b[0m\u001b[0;34m(\u001b[0m\u001b[0mself\u001b[0m\u001b[0;34m)\u001b[0m\u001b[0;34m\u001b[0m\u001b[0;34m\u001b[0m\u001b[0m\n\u001b[1;32m    411\u001b[0m \u001b[0;34m\u001b[0m\u001b[0m\n\u001b[0;32m--> 412\u001b[0;31m         \u001b[0;32mreturn\u001b[0m \u001b[0mself\u001b[0m\u001b[0;34m.\u001b[0m\u001b[0mestimators_\u001b[0m\u001b[0;34m[\u001b[0m\u001b[0;36m0\u001b[0m\u001b[0;34m]\u001b[0m\u001b[0;34m.\u001b[0m\u001b[0m_validate_X_predict\u001b[0m\u001b[0;34m(\u001b[0m\u001b[0mX\u001b[0m\u001b[0;34m,\u001b[0m \u001b[0mcheck_input\u001b[0m\u001b[0;34m=\u001b[0m\u001b[0;32mTrue\u001b[0m\u001b[0;34m)\u001b[0m\u001b[0;34m\u001b[0m\u001b[0;34m\u001b[0m\u001b[0m\n\u001b[0m\u001b[1;32m    413\u001b[0m \u001b[0;34m\u001b[0m\u001b[0m\n\u001b[1;32m    414\u001b[0m     \u001b[0;34m@\u001b[0m\u001b[0mproperty\u001b[0m\u001b[0;34m\u001b[0m\u001b[0;34m\u001b[0m\u001b[0m\n",
      "\u001b[0;32m/usr/local/lib/python3.7/dist-packages/sklearn/tree/_classes.py\u001b[0m in \u001b[0;36m_validate_X_predict\u001b[0;34m(self, X, check_input)\u001b[0m\n\u001b[1;32m    389\u001b[0m                              \u001b[0;34m\"match the input. Model n_features is %s and \"\u001b[0m\u001b[0;34m\u001b[0m\u001b[0;34m\u001b[0m\u001b[0m\n\u001b[1;32m    390\u001b[0m                              \u001b[0;34m\"input n_features is %s \"\u001b[0m\u001b[0;34m\u001b[0m\u001b[0;34m\u001b[0m\u001b[0m\n\u001b[0;32m--> 391\u001b[0;31m                              % (self.n_features_, n_features))\n\u001b[0m\u001b[1;32m    392\u001b[0m \u001b[0;34m\u001b[0m\u001b[0m\n\u001b[1;32m    393\u001b[0m         \u001b[0;32mreturn\u001b[0m \u001b[0mX\u001b[0m\u001b[0;34m\u001b[0m\u001b[0;34m\u001b[0m\u001b[0m\n",
      "\u001b[0;31mValueError\u001b[0m: Number of features of the model must match the input. Model n_features is 153 and input n_features is 784 "
     ]
    }
   ],
   "source": [
    "pred=rfr.predict(X_test)\n",
    "print (\"Classification Report\")\n",
    "print(classification_report(y_test, pred))\n",
    "print (\"Confusion Report\")\n",
    "print(confusion_matrix(y_test, pred))"
   ]
  },
  {
   "cell_type": "code",
   "execution_count": 253,
   "metadata": {
    "colab": {
     "base_uri": "https://localhost:8080/"
    },
    "id": "Mfp76dzOU6a3",
    "outputId": "ba05f8e6-e6c6-4e61-d22c-f4b3c85616d5"
   },
   "outputs": [
    {
     "name": "stdout",
     "output_type": "stream",
     "text": [
      "0.9642380952380952\n"
     ]
    }
   ],
   "source": [
    "#Cross validation\n",
    "frf=RandomForestClassifier(n_estimators=100)\n",
    "frf.fit(df_x, df_y)\n",
    "score = cross_val_score(frf,df_x, df_y)\n",
    "print (np.mean(score))"
   ]
  },
  {
   "cell_type": "code",
   "execution_count": 254,
   "metadata": {
    "id": "uf43uH_vxECr"
   },
   "outputs": [],
   "source": [
    "#Predicting on test data\n",
    "pred=rf.predict(test)"
   ]
  },
  {
   "cell_type": "code",
   "execution_count": 255,
   "metadata": {
    "id": "d1Eo4HKrObCZ"
   },
   "outputs": [],
   "source": [
    "pred = pd.Series(pred,name=\"Label\")\n",
    "\n",
    "submission = pd.concat([pd.Series(range(1,28001),name = \"ImageId\"),pred],axis = 1)\n",
    "\n",
    "submission.to_csv(\"mnist_rf2_PCA.csv\",index=False)"
   ]
  },
  {
   "cell_type": "markdown",
   "metadata": {
    "id": "DkaRja0Q3mCg"
   },
   "source": [
    "![Submission2.png](data:image/png;base64,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)"
   ]
  },
  {
   "cell_type": "markdown",
   "metadata": {
    "id": "ZdzNPe9x7T2W"
   },
   "source": [
    "# Kmeans Clustering"
   ]
  },
  {
   "cell_type": "code",
   "execution_count": 278,
   "metadata": {
    "colab": {
     "base_uri": "https://localhost:8080/"
    },
    "id": "LIzWiyfJXZFM",
    "outputId": "22a6cd4f-c197-467a-d893-71cc700235bd"
   },
   "outputs": [
    {
     "data": {
      "text/plain": [
       "array([7, 4, 0, ..., 0, 9, 0], dtype=int32)"
      ]
     },
     "execution_count": 278,
     "metadata": {},
     "output_type": "execute_result"
    }
   ],
   "source": [
    "kmeans=KMeans(10)\n",
    "X_clustered=kmeans.fit_predict(X_train)\n",
    "X_clustered"
   ]
  },
  {
   "cell_type": "code",
   "execution_count": 273,
   "metadata": {
    "colab": {
     "base_uri": "https://localhost:8080/"
    },
    "id": "MgPfHunmDIOO",
    "outputId": "494af83c-f335-4c1c-fcc9-18e547cf19c6"
   },
   "outputs": [
    {
     "data": {
      "text/plain": [
       "(33600,)"
      ]
     },
     "execution_count": 273,
     "metadata": {},
     "output_type": "execute_result"
    }
   ],
   "source": [
    "X_clustered.shape"
   ]
  },
  {
   "cell_type": "code",
   "execution_count": 282,
   "metadata": {
    "colab": {
     "base_uri": "https://localhost:8080/"
    },
    "id": "xMFOTNyjNF96",
    "outputId": "15467ab9-da7b-4443-f5d3-10a6a6c7a718"
   },
   "outputs": [
    {
     "name": "stdout",
     "output_type": "stream",
     "text": [
      "-21463679837.84179\n"
     ]
    }
   ],
   "source": [
    "#Cross validation\n",
    "kmeans.fit(df_x, df_y)\n",
    "score = cross_val_score(kmeans,df_x, df_y)\n",
    "print (np.mean(score))"
   ]
  },
  {
   "cell_type": "code",
   "execution_count": 279,
   "metadata": {
    "id": "lrV89VvoDtat"
   },
   "outputs": [],
   "source": [
    "pred=kmeans.predict(test)"
   ]
  },
  {
   "cell_type": "code",
   "execution_count": 283,
   "metadata": {
    "id": "OLEpte7hNlz3"
   },
   "outputs": [],
   "source": [
    "pred = pd.Series(pred,name=\"Label\")\n",
    "\n",
    "submission = pd.concat([pd.Series(range(1,28001),name = \"ImageId\"),pred],axis = 1)\n",
    "\n",
    "submission.to_csv(\"mnist_Kmeans_.csv\",index=False)"
   ]
  },
  {
   "cell_type": "code",
   "execution_count": 270,
   "metadata": {
    "id": "jGyVJ42ZakyD"
   },
   "outputs": [],
   "source": [
    "# tracekmeans = go.Scatter(x= X_train, y= y_train, mode=\"markers\",\n",
    "#                     showlegend=False,\n",
    "#                     marker=dict(\n",
    "#                             size=8,\n",
    "#                             color = X_clustered,\n",
    "#                             colorscale = 'Portland',\n",
    "#                             showscale=False, \n",
    "#                             line = dict(\n",
    "#             width = 2,\n",
    "#             color = 'rgb(255, 255, 255)'\n",
    "#         )\n",
    "#                    ))\n",
    "\n",
    "\n",
    "# layout=go.Layout(title='Kmeans clustering',\n",
    "#                  hovermode='closest',\n",
    "#                  xaxis=dict(title='first principal direction',\n",
    "#                            ticklen=5,\n",
    "#                            zeroline=False,\n",
    "#                            gridwidth=2),\n",
    "#                  yaxis=dict(title='second principal component',\n",
    "#                            ticklen=5,\n",
    "#                            gridwidth=2),\n",
    "#                  showlegend=True\n",
    "#                      )\n",
    "\n",
    "# data = [tracekmeans]\n",
    "# fig1 = dict(data=data, layout= layout)\n",
    "# py.iplot(fig1, filename=\"svm\")\n",
    "# tracekmeans"
   ]
  },
  {
   "cell_type": "code",
   "execution_count": 271,
   "metadata": {
    "id": "OAOO8VgFXP_O"
   },
   "outputs": [],
   "source": [
    "# x_clusters_df=pd.DataFrame(X_clustered, dtype=int)\n",
    "# x_clusters_df.columns=['Cluster']\n",
    "# targeted_df=pd.DataFrame(y_train,dtype=int)"
   ]
  }
 ],
 "metadata": {
  "colab": {
   "collapsed_sections": [
    "OFQ5irp5tzSl"
   ],
   "name": "Module_6 _Assignment_1_Digit_Recognizer.ipynb",
   "provenance": []
  },
  "kernelspec": {
   "display_name": "Python 3",
   "language": "python",
   "name": "python3"
  },
  "language_info": {
   "codemirror_mode": {
    "name": "ipython",
    "version": 3
   },
   "file_extension": ".py",
   "mimetype": "text/x-python",
   "name": "python",
   "nbconvert_exporter": "python",
   "pygments_lexer": "ipython3",
   "version": "3.8.8"
  }
 },
 "nbformat": 4,
 "nbformat_minor": 4
}
