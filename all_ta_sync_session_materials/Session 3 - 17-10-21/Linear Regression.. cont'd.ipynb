{
 "cells": [
  {
   "cell_type": "markdown",
   "metadata": {
    "colab_type": "text",
    "id": "kmKeQYYcGTVp"
   },
   "source": [
    "### Upload Required Libraries"
   ]
  },
  {
   "cell_type": "code",
   "execution_count": 178,
   "metadata": {
    "ExecuteTime": {
     "end_time": "2021-10-16T05:57:19.610197Z",
     "start_time": "2021-10-16T05:57:19.604953Z"
    },
    "colab": {},
    "colab_type": "code",
    "id": "n6LeoEar-QrM"
   },
   "outputs": [],
   "source": [
    "import numpy as np   \n",
    "import pandas as pd    \n",
    "\n",
    "import seaborn as sns\n",
    "from sklearn.linear_model import LinearRegression\n",
    "import matplotlib.pyplot as plt   \n",
    "#import matplotlib.style"
   ]
  },
  {
   "cell_type": "markdown",
   "metadata": {
    "colab_type": "text",
    "id": "Vbx3QZvT-QrQ"
   },
   "source": [
    "### Importing data"
   ]
  },
  {
   "cell_type": "code",
   "execution_count": 179,
   "metadata": {
    "ExecuteTime": {
     "end_time": "2021-10-16T05:57:20.969087Z",
     "start_time": "2021-10-16T05:57:20.255620Z"
    },
    "colab": {},
    "colab_type": "code",
    "id": "L6Yxhq6b-QrR"
   },
   "outputs": [],
   "source": [
    "# reading the CSV file into pandas dataframe\n",
    "df = pd.read_excel(\"food.xlsx\")"
   ]
  },
  {
   "cell_type": "markdown",
   "metadata": {
    "colab_type": "text",
    "id": "fJ83bnL6-QrV"
   },
   "source": [
    "### EDA"
   ]
  },
  {
   "cell_type": "code",
   "execution_count": 180,
   "metadata": {
    "ExecuteTime": {
     "end_time": "2021-10-16T05:57:20.987070Z",
     "start_time": "2021-10-16T05:57:20.970084Z"
    },
    "colab": {
     "base_uri": "https://localhost:8080/",
     "height": 200
    },
    "colab_type": "code",
    "id": "K1p4lqVm-QrW",
    "outputId": "6bc753bb-cb79-451b-f333-6883418111ef"
   },
   "outputs": [
    {
     "data": {
      "text/html": [
       "<div>\n",
       "<style scoped>\n",
       "    .dataframe tbody tr th:only-of-type {\n",
       "        vertical-align: middle;\n",
       "    }\n",
       "\n",
       "    .dataframe tbody tr th {\n",
       "        vertical-align: top;\n",
       "    }\n",
       "\n",
       "    .dataframe thead th {\n",
       "        text-align: right;\n",
       "    }\n",
       "</style>\n",
       "<table border=\"1\" class=\"dataframe\">\n",
       "  <thead>\n",
       "    <tr style=\"text-align: right;\">\n",
       "      <th></th>\n",
       "      <th>id</th>\n",
       "      <th>week</th>\n",
       "      <th>final_price</th>\n",
       "      <th>unit_price</th>\n",
       "      <th>website_homepage_mention</th>\n",
       "      <th>food_category</th>\n",
       "      <th>cuisine</th>\n",
       "      <th>home_delivery</th>\n",
       "      <th>night_service</th>\n",
       "      <th>area_range</th>\n",
       "      <th>orders</th>\n",
       "    </tr>\n",
       "  </thead>\n",
       "  <tbody>\n",
       "    <tr>\n",
       "      <th>0</th>\n",
       "      <td>2102001</td>\n",
       "      <td>122.0</td>\n",
       "      <td>150.35</td>\n",
       "      <td>152.35</td>\n",
       "      <td>0.0</td>\n",
       "      <td>Beverages</td>\n",
       "      <td>Italian</td>\n",
       "      <td>1.0</td>\n",
       "      <td>1</td>\n",
       "      <td>7.0</td>\n",
       "      <td>972</td>\n",
       "    </tr>\n",
       "    <tr>\n",
       "      <th>1</th>\n",
       "      <td>2102002</td>\n",
       "      <td>95.0</td>\n",
       "      <td>484.03</td>\n",
       "      <td>485.03</td>\n",
       "      <td>0.0</td>\n",
       "      <td>Desert</td>\n",
       "      <td>Indian</td>\n",
       "      <td>0.0</td>\n",
       "      <td>1</td>\n",
       "      <td>5.6</td>\n",
       "      <td>150</td>\n",
       "    </tr>\n",
       "    <tr>\n",
       "      <th>2</th>\n",
       "      <td>2102003</td>\n",
       "      <td>52.0</td>\n",
       "      <td>281.33</td>\n",
       "      <td>281.33</td>\n",
       "      <td>0.0</td>\n",
       "      <td>Starters</td>\n",
       "      <td>Italian</td>\n",
       "      <td>0.0</td>\n",
       "      <td>1</td>\n",
       "      <td>3.0</td>\n",
       "      <td>55</td>\n",
       "    </tr>\n",
       "    <tr>\n",
       "      <th>3</th>\n",
       "      <td>2102004</td>\n",
       "      <td>10.0</td>\n",
       "      <td>167.81</td>\n",
       "      <td>196.94</td>\n",
       "      <td>0.0</td>\n",
       "      <td>Extras</td>\n",
       "      <td>Italian</td>\n",
       "      <td>1.0</td>\n",
       "      <td>1</td>\n",
       "      <td>4.0</td>\n",
       "      <td>256</td>\n",
       "    </tr>\n",
       "    <tr>\n",
       "      <th>4</th>\n",
       "      <td>2102005</td>\n",
       "      <td>122.0</td>\n",
       "      <td>212.46</td>\n",
       "      <td>256.14</td>\n",
       "      <td>0.0</td>\n",
       "      <td>Salad</td>\n",
       "      <td>Italian</td>\n",
       "      <td>0.0</td>\n",
       "      <td>1</td>\n",
       "      <td>3.4</td>\n",
       "      <td>82</td>\n",
       "    </tr>\n",
       "  </tbody>\n",
       "</table>\n",
       "</div>"
      ],
      "text/plain": [
       "        id   week  final_price  unit_price  website_homepage_mention  \\\n",
       "0  2102001  122.0       150.35      152.35                       0.0   \n",
       "1  2102002   95.0       484.03      485.03                       0.0   \n",
       "2  2102003   52.0       281.33      281.33                       0.0   \n",
       "3  2102004   10.0       167.81      196.94                       0.0   \n",
       "4  2102005  122.0       212.46      256.14                       0.0   \n",
       "\n",
       "  food_category  cuisine  home_delivery  night_service  area_range  orders  \n",
       "0     Beverages  Italian            1.0              1         7.0     972  \n",
       "1        Desert   Indian            0.0              1         5.6     150  \n",
       "2      Starters  Italian            0.0              1         3.0      55  \n",
       "3        Extras  Italian            1.0              1         4.0     256  \n",
       "4         Salad  Italian            0.0              1         3.4      82  "
      ]
     },
     "execution_count": 180,
     "metadata": {},
     "output_type": "execute_result"
    }
   ],
   "source": [
    "# Check top few records to get a feel of the data structure\n",
    "df.head()"
   ]
  },
  {
   "cell_type": "markdown",
   "metadata": {},
   "source": [
    "\n",
    "#### Shape"
   ]
  },
  {
   "cell_type": "code",
   "execution_count": 181,
   "metadata": {
    "ExecuteTime": {
     "end_time": "2021-10-16T05:57:20.994709Z",
     "start_time": "2021-10-16T05:57:20.990748Z"
    }
   },
   "outputs": [
    {
     "name": "stdout",
     "output_type": "stream",
     "text": [
      "no. of rows:  4000 \n",
      "no. of columns:  11\n"
     ]
    }
   ],
   "source": [
    "print(\"no. of rows: \",df.shape[0], \"\\n\"\"no. of columns: \",df.shape[1])"
   ]
  },
  {
   "cell_type": "code",
   "execution_count": 182,
   "metadata": {
    "ExecuteTime": {
     "end_time": "2021-10-16T05:57:21.152827Z",
     "start_time": "2021-10-16T05:57:21.143782Z"
    },
    "colab": {},
    "colab_type": "code",
    "id": "FF-4Cye4-QrZ"
   },
   "outputs": [],
   "source": [
    "# drop the id column as it is useless for the model\n",
    "df = df.drop('id', axis=1)"
   ]
  },
  {
   "cell_type": "code",
   "execution_count": 183,
   "metadata": {
    "ExecuteTime": {
     "end_time": "2021-10-16T05:57:21.350031Z",
     "start_time": "2021-10-16T05:57:21.335754Z"
    },
    "colab": {
     "base_uri": "https://localhost:8080/",
     "height": 200
    },
    "colab_type": "code",
    "id": "HLGQcIKM-Qrc",
    "outputId": "aa87fb32-6bf3-46b4-c9fb-088cc33f96ff"
   },
   "outputs": [
    {
     "data": {
      "text/html": [
       "<div>\n",
       "<style scoped>\n",
       "    .dataframe tbody tr th:only-of-type {\n",
       "        vertical-align: middle;\n",
       "    }\n",
       "\n",
       "    .dataframe tbody tr th {\n",
       "        vertical-align: top;\n",
       "    }\n",
       "\n",
       "    .dataframe thead th {\n",
       "        text-align: right;\n",
       "    }\n",
       "</style>\n",
       "<table border=\"1\" class=\"dataframe\">\n",
       "  <thead>\n",
       "    <tr style=\"text-align: right;\">\n",
       "      <th></th>\n",
       "      <th>week</th>\n",
       "      <th>final_price</th>\n",
       "      <th>unit_price</th>\n",
       "      <th>website_homepage_mention</th>\n",
       "      <th>food_category</th>\n",
       "      <th>cuisine</th>\n",
       "      <th>home_delivery</th>\n",
       "      <th>night_service</th>\n",
       "      <th>area_range</th>\n",
       "      <th>orders</th>\n",
       "    </tr>\n",
       "  </thead>\n",
       "  <tbody>\n",
       "    <tr>\n",
       "      <th>0</th>\n",
       "      <td>122.0</td>\n",
       "      <td>150.35</td>\n",
       "      <td>152.35</td>\n",
       "      <td>0.0</td>\n",
       "      <td>Beverages</td>\n",
       "      <td>Italian</td>\n",
       "      <td>1.0</td>\n",
       "      <td>1</td>\n",
       "      <td>7.0</td>\n",
       "      <td>972</td>\n",
       "    </tr>\n",
       "    <tr>\n",
       "      <th>1</th>\n",
       "      <td>95.0</td>\n",
       "      <td>484.03</td>\n",
       "      <td>485.03</td>\n",
       "      <td>0.0</td>\n",
       "      <td>Desert</td>\n",
       "      <td>Indian</td>\n",
       "      <td>0.0</td>\n",
       "      <td>1</td>\n",
       "      <td>5.6</td>\n",
       "      <td>150</td>\n",
       "    </tr>\n",
       "    <tr>\n",
       "      <th>2</th>\n",
       "      <td>52.0</td>\n",
       "      <td>281.33</td>\n",
       "      <td>281.33</td>\n",
       "      <td>0.0</td>\n",
       "      <td>Starters</td>\n",
       "      <td>Italian</td>\n",
       "      <td>0.0</td>\n",
       "      <td>1</td>\n",
       "      <td>3.0</td>\n",
       "      <td>55</td>\n",
       "    </tr>\n",
       "    <tr>\n",
       "      <th>3</th>\n",
       "      <td>10.0</td>\n",
       "      <td>167.81</td>\n",
       "      <td>196.94</td>\n",
       "      <td>0.0</td>\n",
       "      <td>Extras</td>\n",
       "      <td>Italian</td>\n",
       "      <td>1.0</td>\n",
       "      <td>1</td>\n",
       "      <td>4.0</td>\n",
       "      <td>256</td>\n",
       "    </tr>\n",
       "    <tr>\n",
       "      <th>4</th>\n",
       "      <td>122.0</td>\n",
       "      <td>212.46</td>\n",
       "      <td>256.14</td>\n",
       "      <td>0.0</td>\n",
       "      <td>Salad</td>\n",
       "      <td>Italian</td>\n",
       "      <td>0.0</td>\n",
       "      <td>1</td>\n",
       "      <td>3.4</td>\n",
       "      <td>82</td>\n",
       "    </tr>\n",
       "  </tbody>\n",
       "</table>\n",
       "</div>"
      ],
      "text/plain": [
       "    week  final_price  unit_price  website_homepage_mention food_category  \\\n",
       "0  122.0       150.35      152.35                       0.0     Beverages   \n",
       "1   95.0       484.03      485.03                       0.0        Desert   \n",
       "2   52.0       281.33      281.33                       0.0      Starters   \n",
       "3   10.0       167.81      196.94                       0.0        Extras   \n",
       "4  122.0       212.46      256.14                       0.0         Salad   \n",
       "\n",
       "   cuisine  home_delivery  night_service  area_range  orders  \n",
       "0  Italian            1.0              1         7.0     972  \n",
       "1   Indian            0.0              1         5.6     150  \n",
       "2  Italian            0.0              1         3.0      55  \n",
       "3  Italian            1.0              1         4.0     256  \n",
       "4  Italian            0.0              1         3.4      82  "
      ]
     },
     "execution_count": 183,
     "metadata": {},
     "output_type": "execute_result"
    }
   ],
   "source": [
    "df.head()"
   ]
  },
  {
   "cell_type": "markdown",
   "metadata": {},
   "source": [
    "#### Info"
   ]
  },
  {
   "cell_type": "code",
   "execution_count": 184,
   "metadata": {
    "ExecuteTime": {
     "end_time": "2021-10-16T05:57:21.762675Z",
     "start_time": "2021-10-16T05:57:21.722499Z"
    },
    "colab": {
     "base_uri": "https://localhost:8080/",
     "height": 301
    },
    "colab_type": "code",
    "id": "4x7gT9wu-Qrg",
    "outputId": "7d23449b-de7a-4831-8ef8-a7091c2655db"
   },
   "outputs": [
    {
     "name": "stdout",
     "output_type": "stream",
     "text": [
      "<class 'pandas.core.frame.DataFrame'>\n",
      "RangeIndex: 4000 entries, 0 to 3999\n",
      "Data columns (total 10 columns):\n",
      " #   Column                    Non-Null Count  Dtype  \n",
      "---  ------                    --------------  -----  \n",
      " 0   week                      3981 non-null   float64\n",
      " 1   final_price               3987 non-null   float64\n",
      " 2   unit_price                4000 non-null   float64\n",
      " 3   website_homepage_mention  3980 non-null   float64\n",
      " 4   food_category             3980 non-null   object \n",
      " 5   cuisine                   4000 non-null   object \n",
      " 6   home_delivery             3960 non-null   float64\n",
      " 7   night_service             4000 non-null   int64  \n",
      " 8   area_range                3976 non-null   float64\n",
      " 9   orders                    4000 non-null   int64  \n",
      "dtypes: float64(6), int64(2), object(2)\n",
      "memory usage: 312.6+ KB\n"
     ]
    }
   ],
   "source": [
    "df.info()"
   ]
  },
  {
   "cell_type": "markdown",
   "metadata": {},
   "source": [
    "#### checking for Possible columns which are categorical but are not having data type \"object\""
   ]
  },
  {
   "cell_type": "code",
   "execution_count": 185,
   "metadata": {
    "ExecuteTime": {
     "end_time": "2021-10-16T05:57:22.104310Z",
     "start_time": "2021-10-16T05:57:22.085006Z"
    },
    "colab": {
     "base_uri": "https://localhost:8080/",
     "height": 70
    },
    "colab_type": "code",
    "id": "czjPx_f0GTWe",
    "outputId": "43ba5169-c24c-44f9-eae4-53f65397c60d",
    "scrolled": true
   },
   "outputs": [
    {
     "data": {
      "text/plain": [
       "0.0    3643\n",
       "1.0     337\n",
       "Name: website_homepage_mention, dtype: int64"
      ]
     },
     "execution_count": 185,
     "metadata": {},
     "output_type": "execute_result"
    }
   ],
   "source": [
    "df['website_homepage_mention'].value_counts()"
   ]
  },
  {
   "cell_type": "code",
   "execution_count": 186,
   "metadata": {
    "ExecuteTime": {
     "end_time": "2021-10-16T05:57:22.290333Z",
     "start_time": "2021-10-16T05:57:22.284352Z"
    },
    "colab": {
     "base_uri": "https://localhost:8080/",
     "height": 70
    },
    "colab_type": "code",
    "id": "LKoq_T-MGTWh",
    "outputId": "a88096b8-9480-45eb-97d7-89929d53e1d8"
   },
   "outputs": [
    {
     "data": {
      "text/plain": [
       "0.0    2356\n",
       "1.0    1604\n",
       "Name: home_delivery, dtype: int64"
      ]
     },
     "execution_count": 186,
     "metadata": {},
     "output_type": "execute_result"
    }
   ],
   "source": [
    "df['home_delivery'].value_counts()"
   ]
  },
  {
   "cell_type": "code",
   "execution_count": 187,
   "metadata": {
    "ExecuteTime": {
     "end_time": "2021-10-16T05:57:22.463553Z",
     "start_time": "2021-10-16T05:57:22.457967Z"
    },
    "colab": {
     "base_uri": "https://localhost:8080/",
     "height": 70
    },
    "colab_type": "code",
    "id": "g9AIDb2LGTWk",
    "outputId": "9715732a-91e6-4d31-b468-e86f6d054a9e"
   },
   "outputs": [
    {
     "data": {
      "text/plain": [
       "0    2007\n",
       "1    1993\n",
       "Name: night_service, dtype: int64"
      ]
     },
     "execution_count": 187,
     "metadata": {},
     "output_type": "execute_result"
    }
   ],
   "source": [
    "df['night_service'].value_counts()"
   ]
  },
  {
   "cell_type": "code",
   "execution_count": 188,
   "metadata": {
    "ExecuteTime": {
     "end_time": "2021-10-16T05:57:22.681392Z",
     "start_time": "2021-10-16T05:57:22.677314Z"
    }
   },
   "outputs": [],
   "source": [
    "cat=[\"website_homepage_mention\",\"home_delivery\",\"night_service\"]"
   ]
  },
  {
   "cell_type": "code",
   "execution_count": 189,
   "metadata": {
    "ExecuteTime": {
     "end_time": "2021-10-16T05:57:22.868417Z",
     "start_time": "2021-10-16T05:57:22.859821Z"
    }
   },
   "outputs": [],
   "source": [
    "for i in cat:\n",
    "    df[i]=df[i].astype(\"object\")"
   ]
  },
  {
   "cell_type": "code",
   "execution_count": 190,
   "metadata": {
    "ExecuteTime": {
     "end_time": "2021-10-16T05:57:23.076636Z",
     "start_time": "2021-10-16T05:57:23.059904Z"
    }
   },
   "outputs": [
    {
     "name": "stdout",
     "output_type": "stream",
     "text": [
      "<class 'pandas.core.frame.DataFrame'>\n",
      "RangeIndex: 4000 entries, 0 to 3999\n",
      "Data columns (total 10 columns):\n",
      " #   Column                    Non-Null Count  Dtype  \n",
      "---  ------                    --------------  -----  \n",
      " 0   week                      3981 non-null   float64\n",
      " 1   final_price               3987 non-null   float64\n",
      " 2   unit_price                4000 non-null   float64\n",
      " 3   website_homepage_mention  3980 non-null   object \n",
      " 4   food_category             3980 non-null   object \n",
      " 5   cuisine                   4000 non-null   object \n",
      " 6   home_delivery             3960 non-null   object \n",
      " 7   night_service             4000 non-null   object \n",
      " 8   area_range                3976 non-null   float64\n",
      " 9   orders                    4000 non-null   int64  \n",
      "dtypes: float64(4), int64(1), object(5)\n",
      "memory usage: 312.6+ KB\n"
     ]
    }
   ],
   "source": [
    "df.info()"
   ]
  },
  {
   "cell_type": "markdown",
   "metadata": {},
   "source": [
    "#### Making different list for categorical columns and numerical columns\n"
   ]
  },
  {
   "cell_type": "code",
   "execution_count": 191,
   "metadata": {
    "ExecuteTime": {
     "end_time": "2021-10-16T05:57:23.470333Z",
     "start_time": "2021-10-16T05:57:23.465555Z"
    }
   },
   "outputs": [
    {
     "name": "stdout",
     "output_type": "stream",
     "text": [
      "['website_homepage_mention', 'food_category', 'cuisine', 'home_delivery', 'night_service']\n",
      "['week', 'final_price', 'unit_price', 'area_range', 'orders']\n"
     ]
    }
   ],
   "source": [
    "cat=[]\n",
    "num=[]\n",
    "for i in df.columns:\n",
    "    if df[i].dtype==\"object\":\n",
    "        cat.append(i)\n",
    "    else:\n",
    "        num.append(i)\n",
    "print(cat) \n",
    "print(num)\n",
    "\n",
    "    "
   ]
  },
  {
   "cell_type": "markdown",
   "metadata": {},
   "source": [
    "#### Describe for numerical and categorical columns"
   ]
  },
  {
   "cell_type": "code",
   "execution_count": 192,
   "metadata": {
    "ExecuteTime": {
     "end_time": "2021-10-16T05:57:23.902956Z",
     "start_time": "2021-10-16T05:57:23.874348Z"
    }
   },
   "outputs": [
    {
     "data": {
      "text/html": [
       "<div>\n",
       "<style scoped>\n",
       "    .dataframe tbody tr th:only-of-type {\n",
       "        vertical-align: middle;\n",
       "    }\n",
       "\n",
       "    .dataframe tbody tr th {\n",
       "        vertical-align: top;\n",
       "    }\n",
       "\n",
       "    .dataframe thead th {\n",
       "        text-align: right;\n",
       "    }\n",
       "</style>\n",
       "<table border=\"1\" class=\"dataframe\">\n",
       "  <thead>\n",
       "    <tr style=\"text-align: right;\">\n",
       "      <th></th>\n",
       "      <th>count</th>\n",
       "      <th>mean</th>\n",
       "      <th>std</th>\n",
       "      <th>min</th>\n",
       "      <th>25%</th>\n",
       "      <th>50%</th>\n",
       "      <th>75%</th>\n",
       "      <th>max</th>\n",
       "    </tr>\n",
       "  </thead>\n",
       "  <tbody>\n",
       "    <tr>\n",
       "      <th>week</th>\n",
       "      <td>3981.0</td>\n",
       "      <td>74.818890</td>\n",
       "      <td>41.949720</td>\n",
       "      <td>1.00</td>\n",
       "      <td>38.00</td>\n",
       "      <td>76.00</td>\n",
       "      <td>111.00</td>\n",
       "      <td>145.00</td>\n",
       "    </tr>\n",
       "    <tr>\n",
       "      <th>final_price</th>\n",
       "      <td>3987.0</td>\n",
       "      <td>335.602666</td>\n",
       "      <td>152.638684</td>\n",
       "      <td>76.69</td>\n",
       "      <td>232.83</td>\n",
       "      <td>304.64</td>\n",
       "      <td>445.23</td>\n",
       "      <td>767.33</td>\n",
       "    </tr>\n",
       "    <tr>\n",
       "      <th>unit_price</th>\n",
       "      <td>4000.0</td>\n",
       "      <td>357.496720</td>\n",
       "      <td>160.348496</td>\n",
       "      <td>92.15</td>\n",
       "      <td>243.50</td>\n",
       "      <td>313.31</td>\n",
       "      <td>466.63</td>\n",
       "      <td>767.33</td>\n",
       "    </tr>\n",
       "    <tr>\n",
       "      <th>area_range</th>\n",
       "      <td>3976.0</td>\n",
       "      <td>4.107897</td>\n",
       "      <td>1.096252</td>\n",
       "      <td>0.90</td>\n",
       "      <td>3.60</td>\n",
       "      <td>4.00</td>\n",
       "      <td>4.50</td>\n",
       "      <td>7.00</td>\n",
       "    </tr>\n",
       "    <tr>\n",
       "      <th>orders</th>\n",
       "      <td>4000.0</td>\n",
       "      <td>257.090250</td>\n",
       "      <td>414.932322</td>\n",
       "      <td>13.00</td>\n",
       "      <td>54.00</td>\n",
       "      <td>135.00</td>\n",
       "      <td>312.00</td>\n",
       "      <td>12489.00</td>\n",
       "    </tr>\n",
       "  </tbody>\n",
       "</table>\n",
       "</div>"
      ],
      "text/plain": [
       "              count        mean         std    min     25%     50%     75%  \\\n",
       "week         3981.0   74.818890   41.949720   1.00   38.00   76.00  111.00   \n",
       "final_price  3987.0  335.602666  152.638684  76.69  232.83  304.64  445.23   \n",
       "unit_price   4000.0  357.496720  160.348496  92.15  243.50  313.31  466.63   \n",
       "area_range   3976.0    4.107897    1.096252   0.90    3.60    4.00    4.50   \n",
       "orders       4000.0  257.090250  414.932322  13.00   54.00  135.00  312.00   \n",
       "\n",
       "                  max  \n",
       "week           145.00  \n",
       "final_price    767.33  \n",
       "unit_price     767.33  \n",
       "area_range       7.00  \n",
       "orders       12489.00  "
      ]
     },
     "execution_count": 192,
     "metadata": {},
     "output_type": "execute_result"
    }
   ],
   "source": [
    "df[num].describe().T"
   ]
  },
  {
   "cell_type": "code",
   "execution_count": 193,
   "metadata": {
    "ExecuteTime": {
     "end_time": "2021-10-16T05:57:24.316319Z",
     "start_time": "2021-10-16T05:57:24.282141Z"
    }
   },
   "outputs": [
    {
     "data": {
      "text/html": [
       "<div>\n",
       "<style scoped>\n",
       "    .dataframe tbody tr th:only-of-type {\n",
       "        vertical-align: middle;\n",
       "    }\n",
       "\n",
       "    .dataframe tbody tr th {\n",
       "        vertical-align: top;\n",
       "    }\n",
       "\n",
       "    .dataframe thead th {\n",
       "        text-align: right;\n",
       "    }\n",
       "</style>\n",
       "<table border=\"1\" class=\"dataframe\">\n",
       "  <thead>\n",
       "    <tr style=\"text-align: right;\">\n",
       "      <th></th>\n",
       "      <th>count</th>\n",
       "      <th>unique</th>\n",
       "      <th>top</th>\n",
       "      <th>freq</th>\n",
       "    </tr>\n",
       "  </thead>\n",
       "  <tbody>\n",
       "    <tr>\n",
       "      <th>website_homepage_mention</th>\n",
       "      <td>3980.0</td>\n",
       "      <td>2.0</td>\n",
       "      <td>0.0</td>\n",
       "      <td>3643.0</td>\n",
       "    </tr>\n",
       "    <tr>\n",
       "      <th>food_category</th>\n",
       "      <td>3980</td>\n",
       "      <td>14</td>\n",
       "      <td>Beverages</td>\n",
       "      <td>1131</td>\n",
       "    </tr>\n",
       "    <tr>\n",
       "      <th>cuisine</th>\n",
       "      <td>4000</td>\n",
       "      <td>3</td>\n",
       "      <td>Italian</td>\n",
       "      <td>2064</td>\n",
       "    </tr>\n",
       "    <tr>\n",
       "      <th>home_delivery</th>\n",
       "      <td>3960.0</td>\n",
       "      <td>2.0</td>\n",
       "      <td>0.0</td>\n",
       "      <td>2356.0</td>\n",
       "    </tr>\n",
       "    <tr>\n",
       "      <th>night_service</th>\n",
       "      <td>4000</td>\n",
       "      <td>2</td>\n",
       "      <td>0</td>\n",
       "      <td>2007</td>\n",
       "    </tr>\n",
       "  </tbody>\n",
       "</table>\n",
       "</div>"
      ],
      "text/plain": [
       "                           count unique        top    freq\n",
       "website_homepage_mention  3980.0    2.0        0.0  3643.0\n",
       "food_category               3980     14  Beverages    1131\n",
       "cuisine                     4000      3    Italian    2064\n",
       "home_delivery             3960.0    2.0        0.0  2356.0\n",
       "night_service               4000      2          0    2007"
      ]
     },
     "execution_count": 193,
     "metadata": {},
     "output_type": "execute_result"
    }
   ],
   "source": [
    "df[cat].describe().T"
   ]
  },
  {
   "cell_type": "code",
   "execution_count": 194,
   "metadata": {
    "ExecuteTime": {
     "end_time": "2021-10-16T05:57:24.766730Z",
     "start_time": "2021-10-16T05:57:24.550954Z"
    },
    "colab": {
     "base_uri": "https://localhost:8080/",
     "height": 744
    },
    "colab_type": "code",
    "id": "euW-JsnHGTWq",
    "outputId": "aae8a883-be1c-4eee-d0b1-1634f1ab707d"
   },
   "outputs": [
    {
     "name": "stderr",
     "output_type": "stream",
     "text": [
      "E:\\Anaconda\\lib\\site-packages\\seaborn\\distributions.py:2619: FutureWarning: `distplot` is a deprecated function and will be removed in a future version. Please adapt your code to use either `displot` (a figure-level function with similar flexibility) or `histplot` (an axes-level function for histograms).\n",
      "  warnings.warn(msg, FutureWarning)\n"
     ]
    },
    {
     "data": {
      "text/plain": [
       "<AxesSubplot:title={'center':'Orders Distribution Plot'}, xlabel='orders', ylabel='Density'>"
      ]
     },
     "execution_count": 194,
     "metadata": {},
     "output_type": "execute_result"
    },
    {
     "data": {
      "image/png": "[encoded data removed]",
      "text/plain": [
       "<Figure size 720x360 with 1 Axes>"
      ]
     },
     "metadata": {
      "needs_background": "light"
     },
     "output_type": "display_data"
    }
   ],
   "source": [
    "#Visualizing the distribution of orders\n",
    "plt.figure(figsize=(10,5))\n",
    "\n",
    "plt.title('Orders Distribution Plot')\n",
    "sns.distplot(df['orders'],bins = 10)"
   ]
  },
  {
   "cell_type": "markdown",
   "metadata": {
    "colab_type": "text",
    "id": "-0q8Sp1bGTWt"
   },
   "source": [
    "* Dependent variable orders is showing right skewed distribution"
   ]
  },
  {
   "cell_type": "code",
   "execution_count": 195,
   "metadata": {
    "ExecuteTime": {
     "end_time": "2021-10-16T05:57:25.302669Z",
     "start_time": "2021-10-16T05:57:25.127218Z"
    },
    "colab": {
     "base_uri": "https://localhost:8080/",
     "height": 744
    },
    "colab_type": "code",
    "id": "m-UfqmLEGTWu",
    "outputId": "7e6eac77-c169-467e-8a6e-7b2f82decd4f"
   },
   "outputs": [
    {
     "name": "stderr",
     "output_type": "stream",
     "text": [
      "E:\\Anaconda\\lib\\site-packages\\seaborn\\distributions.py:2619: FutureWarning: `distplot` is a deprecated function and will be removed in a future version. Please adapt your code to use either `displot` (a figure-level function with similar flexibility) or `histplot` (an axes-level function for histograms).\n",
      "  warnings.warn(msg, FutureWarning)\n"
     ]
    },
    {
     "data": {
      "text/plain": [
       "<AxesSubplot:title={'center':'Log form of orders Distribution Plot'}, xlabel='orders', ylabel='Density'>"
      ]
     },
     "execution_count": 195,
     "metadata": {},
     "output_type": "execute_result"
    },
    {
     "data": {
      "image/png": "[encoded data removed]",
      "text/plain": [
       "<Figure size 720x360 with 1 Axes>"
      ]
     },
     "metadata": {
      "needs_background": "light"
     },
     "output_type": "display_data"
    }
   ],
   "source": [
    "#Visualizing the distribution of orders\n",
    "plt.figure(figsize=(10,5))\n",
    "\n",
    "plt.title('Log form of orders Distribution Plot')\n",
    "sns.distplot(np.log(df['orders']),bins=12)"
   ]
  },
  {
   "cell_type": "markdown",
   "metadata": {
    "colab_type": "text",
    "id": "Bf7YdysYGTWx"
   },
   "source": [
    "**log of orders addresses skewness in distribution "
   ]
  },
  {
   "cell_type": "markdown",
   "metadata": {
    "colab_type": "text",
    "id": "OHE49wx_-Qrn"
   },
   "source": [
    "### unique values for categorical variables"
   ]
  },
  {
   "cell_type": "code",
   "execution_count": 196,
   "metadata": {
    "ExecuteTime": {
     "end_time": "2021-10-16T05:57:26.177314Z",
     "start_time": "2021-10-16T05:57:26.152803Z"
    },
    "colab": {
     "base_uri": "https://localhost:8080/",
     "height": 586
    },
    "colab_type": "code",
    "id": "JVHWFRO6-Qro",
    "outputId": "83c313de-947f-43cb-8b99-ba3643a6eeef"
   },
   "outputs": [
    {
     "name": "stdout",
     "output_type": "stream",
     "text": [
      "WEBSITE_HOMEPAGE_MENTION :  2\n",
      "1.0     337\n",
      "0.0    3643\n",
      "Name: website_homepage_mention, dtype: int64\n",
      "\n",
      "\n",
      "FOOD_CATEGORY :  14\n",
      "Fish              96\n",
      "Extras           105\n",
      "Soup             112\n",
      "Biryani          194\n",
      "Seafood          228\n",
      "Salad            241\n",
      "Pasta            246\n",
      "Starters         255\n",
      "Other Snacks     261\n",
      "Desert           269\n",
      "Sandwich         270\n",
      "Rice Bowl        277\n",
      "Pizza            295\n",
      "Beverages       1131\n",
      "Name: food_category, dtype: int64\n",
      "\n",
      "\n",
      "CUISINE :  3\n",
      "Continental     931\n",
      "Indian         1005\n",
      "Italian        2064\n",
      "Name: cuisine, dtype: int64\n",
      "\n",
      "\n",
      "HOME_DELIVERY :  2\n",
      "1.0    1604\n",
      "0.0    2356\n",
      "Name: home_delivery, dtype: int64\n",
      "\n",
      "\n",
      "NIGHT_SERVICE :  2\n",
      "1    1993\n",
      "0    2007\n",
      "Name: night_service, dtype: int64\n",
      "\n",
      "\n"
     ]
    }
   ],
   "source": [
    "for column in df.columns:\n",
    "    if df[column].dtype == 'object':\n",
    "        print(column.upper(),': ',df[column].nunique())\n",
    "        print(df[column].value_counts().sort_values())\n",
    "        print('\\n')"
   ]
  },
  {
   "cell_type": "markdown",
   "metadata": {},
   "source": [
    "#### Fish & Seafood belongs to same category"
   ]
  },
  {
   "cell_type": "code",
   "execution_count": 197,
   "metadata": {
    "ExecuteTime": {
     "end_time": "2021-10-16T05:57:27.094931Z",
     "start_time": "2021-10-16T05:57:27.085698Z"
    },
    "colab": {},
    "colab_type": "code",
    "id": "q_0oMSn3GTW2"
   },
   "outputs": [],
   "source": [
    "df['food_category'] = df['food_category'].replace({'Fish': 'Seafood'})"
   ]
  },
  {
   "cell_type": "code",
   "execution_count": 198,
   "metadata": {
    "ExecuteTime": {
     "end_time": "2021-10-16T05:57:27.531016Z",
     "start_time": "2021-10-16T05:57:27.523188Z"
    },
    "colab": {
     "base_uri": "https://localhost:8080/",
     "height": 266
    },
    "colab_type": "code",
    "id": "L-VEGzaAGTW4",
    "outputId": "27f5d636-f23b-4d4b-dc0a-4e70613cc190"
   },
   "outputs": [
    {
     "data": {
      "text/plain": [
       "Beverages       1131\n",
       "Seafood          324\n",
       "Pizza            295\n",
       "Rice Bowl        277\n",
       "Sandwich         270\n",
       "Desert           269\n",
       "Other Snacks     261\n",
       "Starters         255\n",
       "Pasta            246\n",
       "Salad            241\n",
       "Biryani          194\n",
       "Soup             112\n",
       "Extras           105\n",
       "Name: food_category, dtype: int64"
      ]
     },
     "execution_count": 198,
     "metadata": {},
     "output_type": "execute_result"
    }
   ],
   "source": [
    "df['food_category'].value_counts()"
   ]
  },
  {
   "cell_type": "code",
   "execution_count": 199,
   "metadata": {
    "ExecuteTime": {
     "end_time": "2021-10-16T05:57:27.768236Z",
     "start_time": "2021-10-16T05:57:27.750725Z"
    },
    "colab": {
     "base_uri": "https://localhost:8080/",
     "height": 515
    },
    "colab_type": "code",
    "id": "6aykwVT9-Qr4",
    "outputId": "a5c0b365-fdfa-4401-a06a-f104bc5bd303"
   },
   "outputs": [
    {
     "data": {
      "text/plain": [
       "week                        19\n",
       "final_price                 13\n",
       "unit_price                   0\n",
       "website_homepage_mention    20\n",
       "food_category               20\n",
       "cuisine                      0\n",
       "home_delivery               40\n",
       "night_service                0\n",
       "area_range                  24\n",
       "orders                       0\n",
       "dtype: int64"
      ]
     },
     "execution_count": 199,
     "metadata": {},
     "output_type": "execute_result"
    }
   ],
   "source": [
    "# Are there any missing values ?\n",
    "df.isnull().sum()"
   ]
  },
  {
   "cell_type": "code",
   "execution_count": 200,
   "metadata": {
    "ExecuteTime": {
     "end_time": "2021-10-16T05:57:27.990550Z",
     "start_time": "2021-10-16T05:57:27.982628Z"
    }
   },
   "outputs": [
    {
     "data": {
      "text/plain": [
       "0    35.0\n",
       "dtype: float64"
      ]
     },
     "execution_count": 200,
     "metadata": {},
     "output_type": "execute_result"
    }
   ],
   "source": [
    "df.week.mode()"
   ]
  },
  {
   "cell_type": "code",
   "execution_count": 201,
   "metadata": {
    "ExecuteTime": {
     "end_time": "2021-10-16T05:57:28.213253Z",
     "start_time": "2021-10-16T05:57:28.189305Z"
    }
   },
   "outputs": [],
   "source": [
    "df.week=df.week.fillna(35.0)"
   ]
  },
  {
   "cell_type": "code",
   "execution_count": 202,
   "metadata": {
    "ExecuteTime": {
     "end_time": "2021-10-16T05:57:28.505370Z",
     "start_time": "2021-10-16T05:57:28.388812Z"
    },
    "scrolled": false
   },
   "outputs": [
    {
     "name": "stderr",
     "output_type": "stream",
     "text": [
      "E:\\Anaconda\\lib\\site-packages\\seaborn\\_decorators.py:36: FutureWarning: Pass the following variable as a keyword arg: x. From version 0.12, the only valid positional argument will be `data`, and passing other arguments without an explicit keyword will result in an error or misinterpretation.\n",
      "  warnings.warn(\n"
     ]
    },
    {
     "data": {
      "text/plain": [
       "<AxesSubplot:xlabel='final_price'>"
      ]
     },
     "execution_count": 202,
     "metadata": {},
     "output_type": "execute_result"
    },
    {
     "data": {
      "image/png": "[encoded data removed]",
      "text/plain": [
       "<Figure size 432x288 with 1 Axes>"
      ]
     },
     "metadata": {
      "needs_background": "light"
     },
     "output_type": "display_data"
    }
   ],
   "source": [
    "sns.boxplot(df.final_price)"
   ]
  },
  {
   "cell_type": "markdown",
   "metadata": {},
   "source": [
    "#### since small amount of possible outliers are present here, we will use median to impute null values.\n"
   ]
  },
  {
   "cell_type": "code",
   "execution_count": 203,
   "metadata": {
    "ExecuteTime": {
     "end_time": "2021-10-16T05:57:28.828954Z",
     "start_time": "2021-10-16T05:57:28.823692Z"
    }
   },
   "outputs": [
    {
     "data": {
      "text/plain": [
       "304.64"
      ]
     },
     "execution_count": 203,
     "metadata": {},
     "output_type": "execute_result"
    }
   ],
   "source": [
    "df.final_price.median()"
   ]
  },
  {
   "cell_type": "code",
   "execution_count": 204,
   "metadata": {
    "ExecuteTime": {
     "end_time": "2021-10-16T05:57:31.551017Z",
     "start_time": "2021-10-16T05:57:31.525959Z"
    }
   },
   "outputs": [
    {
     "data": {
      "text/html": [
       "<div>\n",
       "<style scoped>\n",
       "    .dataframe tbody tr th:only-of-type {\n",
       "        vertical-align: middle;\n",
       "    }\n",
       "\n",
       "    .dataframe tbody tr th {\n",
       "        vertical-align: top;\n",
       "    }\n",
       "\n",
       "    .dataframe thead th {\n",
       "        text-align: right;\n",
       "    }\n",
       "</style>\n",
       "<table border=\"1\" class=\"dataframe\">\n",
       "  <thead>\n",
       "    <tr style=\"text-align: right;\">\n",
       "      <th></th>\n",
       "      <th>week</th>\n",
       "      <th>final_price</th>\n",
       "      <th>unit_price</th>\n",
       "      <th>website_homepage_mention</th>\n",
       "      <th>food_category</th>\n",
       "      <th>cuisine</th>\n",
       "      <th>home_delivery</th>\n",
       "      <th>night_service</th>\n",
       "      <th>area_range</th>\n",
       "      <th>orders</th>\n",
       "    </tr>\n",
       "  </thead>\n",
       "  <tbody>\n",
       "    <tr>\n",
       "      <th>169</th>\n",
       "      <td>35.0</td>\n",
       "      <td>NaN</td>\n",
       "      <td>465.63</td>\n",
       "      <td>0.0</td>\n",
       "      <td>Beverages</td>\n",
       "      <td>Continental</td>\n",
       "      <td>0.0</td>\n",
       "      <td>1</td>\n",
       "      <td>3.9</td>\n",
       "      <td>26</td>\n",
       "    </tr>\n",
       "    <tr>\n",
       "      <th>377</th>\n",
       "      <td>35.0</td>\n",
       "      <td>NaN</td>\n",
       "      <td>94.12</td>\n",
       "      <td>0.0</td>\n",
       "      <td>Beverages</td>\n",
       "      <td>Italian</td>\n",
       "      <td>1.0</td>\n",
       "      <td>1</td>\n",
       "      <td>4.0</td>\n",
       "      <td>447</td>\n",
       "    </tr>\n",
       "    <tr>\n",
       "      <th>1111</th>\n",
       "      <td>35.0</td>\n",
       "      <td>NaN</td>\n",
       "      <td>149.38</td>\n",
       "      <td>0.0</td>\n",
       "      <td>Beverages</td>\n",
       "      <td>Italian</td>\n",
       "      <td>1.0</td>\n",
       "      <td>0</td>\n",
       "      <td>4.5</td>\n",
       "      <td>1216</td>\n",
       "    </tr>\n",
       "    <tr>\n",
       "      <th>1461</th>\n",
       "      <td>35.0</td>\n",
       "      <td>NaN</td>\n",
       "      <td>280.33</td>\n",
       "      <td>0.0</td>\n",
       "      <td>Starters</td>\n",
       "      <td>Italian</td>\n",
       "      <td>0.0</td>\n",
       "      <td>1</td>\n",
       "      <td>3.8</td>\n",
       "      <td>68</td>\n",
       "    </tr>\n",
       "    <tr>\n",
       "      <th>1789</th>\n",
       "      <td>35.0</td>\n",
       "      <td>NaN</td>\n",
       "      <td>290.03</td>\n",
       "      <td>0.0</td>\n",
       "      <td>Starters</td>\n",
       "      <td>Italian</td>\n",
       "      <td>0.0</td>\n",
       "      <td>1</td>\n",
       "      <td>2.7</td>\n",
       "      <td>28</td>\n",
       "    </tr>\n",
       "    <tr>\n",
       "      <th>2057</th>\n",
       "      <td>35.0</td>\n",
       "      <td>NaN</td>\n",
       "      <td>485.03</td>\n",
       "      <td>0.0</td>\n",
       "      <td>Biryani</td>\n",
       "      <td>Indian</td>\n",
       "      <td>0.0</td>\n",
       "      <td>1</td>\n",
       "      <td>4.8</td>\n",
       "      <td>13</td>\n",
       "    </tr>\n",
       "    <tr>\n",
       "      <th>2150</th>\n",
       "      <td>35.0</td>\n",
       "      <td>NaN</td>\n",
       "      <td>292.03</td>\n",
       "      <td>0.0</td>\n",
       "      <td>Other Snacks</td>\n",
       "      <td>Italian</td>\n",
       "      <td>0.0</td>\n",
       "      <td>1</td>\n",
       "      <td>3.6</td>\n",
       "      <td>27</td>\n",
       "    </tr>\n",
       "    <tr>\n",
       "      <th>2466</th>\n",
       "      <td>35.0</td>\n",
       "      <td>NaN</td>\n",
       "      <td>608.19</td>\n",
       "      <td>0.0</td>\n",
       "      <td>Seafood</td>\n",
       "      <td>Continental</td>\n",
       "      <td>0.0</td>\n",
       "      <td>1</td>\n",
       "      <td>3.5</td>\n",
       "      <td>69</td>\n",
       "    </tr>\n",
       "    <tr>\n",
       "      <th>2485</th>\n",
       "      <td>35.0</td>\n",
       "      <td>NaN</td>\n",
       "      <td>180.42</td>\n",
       "      <td>0.0</td>\n",
       "      <td>Beverages</td>\n",
       "      <td>Italian</td>\n",
       "      <td>1.0</td>\n",
       "      <td>1</td>\n",
       "      <td>3.6</td>\n",
       "      <td>796</td>\n",
       "    </tr>\n",
       "    <tr>\n",
       "      <th>2598</th>\n",
       "      <td>35.0</td>\n",
       "      <td>NaN</td>\n",
       "      <td>306.58</td>\n",
       "      <td>0.0</td>\n",
       "      <td>Rice Bowl</td>\n",
       "      <td>Indian</td>\n",
       "      <td>1.0</td>\n",
       "      <td>0</td>\n",
       "      <td>4.1</td>\n",
       "      <td>499</td>\n",
       "    </tr>\n",
       "    <tr>\n",
       "      <th>2674</th>\n",
       "      <td>35.0</td>\n",
       "      <td>NaN</td>\n",
       "      <td>629.53</td>\n",
       "      <td>1.0</td>\n",
       "      <td>Seafood</td>\n",
       "      <td>Continental</td>\n",
       "      <td>1.0</td>\n",
       "      <td>0</td>\n",
       "      <td>4.7</td>\n",
       "      <td>310</td>\n",
       "    </tr>\n",
       "    <tr>\n",
       "      <th>3107</th>\n",
       "      <td>35.0</td>\n",
       "      <td>NaN</td>\n",
       "      <td>313.31</td>\n",
       "      <td>0.0</td>\n",
       "      <td>Beverages</td>\n",
       "      <td>Continental</td>\n",
       "      <td>0.0</td>\n",
       "      <td>1</td>\n",
       "      <td>4.0</td>\n",
       "      <td>107</td>\n",
       "    </tr>\n",
       "    <tr>\n",
       "      <th>3774</th>\n",
       "      <td>35.0</td>\n",
       "      <td>NaN</td>\n",
       "      <td>119.31</td>\n",
       "      <td>0.0</td>\n",
       "      <td>Beverages</td>\n",
       "      <td>Italian</td>\n",
       "      <td>1.0</td>\n",
       "      <td>1</td>\n",
       "      <td>4.0</td>\n",
       "      <td>512</td>\n",
       "    </tr>\n",
       "  </tbody>\n",
       "</table>\n",
       "</div>"
      ],
      "text/plain": [
       "      week  final_price  unit_price website_homepage_mention food_category  \\\n",
       "169   35.0          NaN      465.63                      0.0     Beverages   \n",
       "377   35.0          NaN       94.12                      0.0     Beverages   \n",
       "1111  35.0          NaN      149.38                      0.0     Beverages   \n",
       "1461  35.0          NaN      280.33                      0.0      Starters   \n",
       "1789  35.0          NaN      290.03                      0.0      Starters   \n",
       "2057  35.0          NaN      485.03                      0.0       Biryani   \n",
       "2150  35.0          NaN      292.03                      0.0  Other Snacks   \n",
       "2466  35.0          NaN      608.19                      0.0       Seafood   \n",
       "2485  35.0          NaN      180.42                      0.0     Beverages   \n",
       "2598  35.0          NaN      306.58                      0.0     Rice Bowl   \n",
       "2674  35.0          NaN      629.53                      1.0       Seafood   \n",
       "3107  35.0          NaN      313.31                      0.0     Beverages   \n",
       "3774  35.0          NaN      119.31                      0.0     Beverages   \n",
       "\n",
       "          cuisine home_delivery night_service  area_range  orders  \n",
       "169   Continental           0.0             1         3.9      26  \n",
       "377       Italian           1.0             1         4.0     447  \n",
       "1111      Italian           1.0             0         4.5    1216  \n",
       "1461      Italian           0.0             1         3.8      68  \n",
       "1789      Italian           0.0             1         2.7      28  \n",
       "2057       Indian           0.0             1         4.8      13  \n",
       "2150      Italian           0.0             1         3.6      27  \n",
       "2466  Continental           0.0             1         3.5      69  \n",
       "2485      Italian           1.0             1         3.6     796  \n",
       "2598       Indian           1.0             0         4.1     499  \n",
       "2674  Continental           1.0             0         4.7     310  \n",
       "3107  Continental           0.0             1         4.0     107  \n",
       "3774      Italian           1.0             1         4.0     512  "
      ]
     },
     "execution_count": 204,
     "metadata": {},
     "output_type": "execute_result"
    }
   ],
   "source": [
    "df[df.final_price.isnull()]"
   ]
  },
  {
   "cell_type": "markdown",
   "metadata": {},
   "source": [
    "#### Hurray!! we found a pattern here. In the above output, we saw all final_price (nan values) have same week number thats why we will impute the null value by the median of final_price for only week number=35"
   ]
  },
  {
   "cell_type": "code",
   "execution_count": 205,
   "metadata": {
    "ExecuteTime": {
     "end_time": "2021-10-16T05:57:32.126016Z",
     "start_time": "2021-10-16T05:57:32.119844Z"
    }
   },
   "outputs": [
    {
     "data": {
      "text/plain": [
       "280.33"
      ]
     },
     "execution_count": 205,
     "metadata": {},
     "output_type": "execute_result"
    }
   ],
   "source": [
    "df[df.week==35.0][\"final_price\"].median()"
   ]
  },
  {
   "cell_type": "code",
   "execution_count": 206,
   "metadata": {
    "ExecuteTime": {
     "end_time": "2021-10-16T05:57:32.372941Z",
     "start_time": "2021-10-16T05:57:32.359803Z"
    }
   },
   "outputs": [],
   "source": [
    "df.final_price=df.final_price.fillna(280.33)"
   ]
  },
  {
   "cell_type": "code",
   "execution_count": 207,
   "metadata": {
    "ExecuteTime": {
     "end_time": "2021-10-16T05:57:32.594318Z",
     "start_time": "2021-10-16T05:57:32.588967Z"
    }
   },
   "outputs": [],
   "source": [
    "df.website_homepage_mention=df.website_homepage_mention.fillna(0.0)"
   ]
  },
  {
   "cell_type": "code",
   "execution_count": 208,
   "metadata": {
    "ExecuteTime": {
     "end_time": "2021-10-16T05:57:32.771620Z",
     "start_time": "2021-10-16T05:57:32.766804Z"
    }
   },
   "outputs": [
    {
     "data": {
      "text/plain": [
       "0    Beverages\n",
       "dtype: object"
      ]
     },
     "execution_count": 208,
     "metadata": {},
     "output_type": "execute_result"
    }
   ],
   "source": [
    "df.food_category.mode()"
   ]
  },
  {
   "cell_type": "code",
   "execution_count": 209,
   "metadata": {
    "ExecuteTime": {
     "end_time": "2021-10-16T05:57:32.959838Z",
     "start_time": "2021-10-16T05:57:32.953843Z"
    }
   },
   "outputs": [],
   "source": [
    "df.food_category=df.food_category.fillna(\"Beverages\")"
   ]
  },
  {
   "cell_type": "code",
   "execution_count": 210,
   "metadata": {
    "ExecuteTime": {
     "end_time": "2021-10-16T05:57:33.144824Z",
     "start_time": "2021-10-16T05:57:33.137833Z"
    }
   },
   "outputs": [
    {
     "data": {
      "text/plain": [
       "0    0.0\n",
       "dtype: object"
      ]
     },
     "execution_count": 210,
     "metadata": {},
     "output_type": "execute_result"
    }
   ],
   "source": [
    "df.home_delivery.mode()"
   ]
  },
  {
   "cell_type": "code",
   "execution_count": 211,
   "metadata": {
    "ExecuteTime": {
     "end_time": "2021-10-16T05:57:33.412043Z",
     "start_time": "2021-10-16T05:57:33.408282Z"
    }
   },
   "outputs": [],
   "source": [
    "df.home_delivery=df.home_delivery.fillna(0.0)"
   ]
  },
  {
   "cell_type": "code",
   "execution_count": 212,
   "metadata": {
    "ExecuteTime": {
     "end_time": "2021-10-16T05:57:33.659221Z",
     "start_time": "2021-10-16T05:57:33.643860Z"
    }
   },
   "outputs": [
    {
     "data": {
      "text/plain": [
       "0    4.0\n",
       "dtype: float64"
      ]
     },
     "execution_count": 212,
     "metadata": {},
     "output_type": "execute_result"
    }
   ],
   "source": [
    "df.area_range.mode()"
   ]
  },
  {
   "cell_type": "code",
   "execution_count": 213,
   "metadata": {
    "ExecuteTime": {
     "end_time": "2021-10-16T05:57:33.858782Z",
     "start_time": "2021-10-16T05:57:33.855137Z"
    }
   },
   "outputs": [],
   "source": [
    "df.area_range=df.area_range.fillna(4.0)"
   ]
  },
  {
   "cell_type": "code",
   "execution_count": 214,
   "metadata": {
    "ExecuteTime": {
     "end_time": "2021-10-16T05:57:34.568933Z",
     "start_time": "2021-10-16T05:57:34.553772Z"
    }
   },
   "outputs": [
    {
     "data": {
      "text/plain": [
       "week                        0\n",
       "final_price                 0\n",
       "unit_price                  0\n",
       "website_homepage_mention    0\n",
       "food_category               0\n",
       "cuisine                     0\n",
       "home_delivery               0\n",
       "night_service               0\n",
       "area_range                  0\n",
       "orders                      0\n",
       "dtype: int64"
      ]
     },
     "execution_count": 214,
     "metadata": {},
     "output_type": "execute_result"
    }
   ],
   "source": [
    "df.isnull().sum()"
   ]
  },
  {
   "cell_type": "markdown",
   "metadata": {},
   "source": [
    "### Univariate Analysis"
   ]
  },
  {
   "cell_type": "code",
   "execution_count": 215,
   "metadata": {
    "ExecuteTime": {
     "end_time": "2021-10-16T05:57:35.037527Z",
     "start_time": "2021-10-16T05:57:35.033460Z"
    }
   },
   "outputs": [],
   "source": [
    "# fig, axes = plt.subplots(nrows=4,ncols=2)\n",
    "# fig.set_size_inches(10,18)\n",
    "# a = sns.distplot(df['final_price'] , ax=axes[0][0])\n",
    "# a.set_title(\"final_price Distribution\",fontsize=10)\n",
    "\n",
    "# a = sns.boxplot(df['final_price'] , orient = \"v\" , ax=axes[0][1])\n",
    "# a.set_title(\" final_price Boxplot\",fontsize=10)\n",
    "\n",
    "# a = sns.distplot(df['unit_price'] , ax=axes[1][0])\n",
    "# a.set_title(\"unit_price Distribution\",fontsize=10)\n",
    "\n",
    "# a = sns.boxplot(df['unit_price'] , orient = \"v\" , ax=axes[1][1])\n",
    "# a.set_title(\"unit_price Boxplot\",fontsize=10)\n",
    "\n",
    "\n",
    "# a = sns.distplot(df['area_range'] , ax=axes[2][0])\n",
    "# a.set_title(\"area_range Distribution\",fontsize=10)\n",
    "\n",
    "# a = sns.boxplot(df['area_range'] , orient = \"v\" , ax=axes[2][1])\n",
    "# a.set_title(\"area_range Boxplot\",fontsize=10)\n",
    "\n",
    "\n",
    "# a = sns.distplot(df['week'] , ax=axes[3][0])\n",
    "# a.set_title(\"week Distribution\",fontsize=10)\n",
    "\n",
    "# a = sns.boxplot(df['week'] , orient = \"v\" , ax=axes[3][1])\n",
    "# a.set_title(\"week Boxplot\",fontsize=10)\n",
    "\n",
    "# plt.show()"
   ]
  },
  {
   "cell_type": "markdown",
   "metadata": {},
   "source": [
    "###  Bivariate and Multivariate Analysis"
   ]
  },
  {
   "cell_type": "code",
   "execution_count": 216,
   "metadata": {
    "ExecuteTime": {
     "end_time": "2021-10-16T05:57:35.692766Z",
     "start_time": "2021-10-16T05:57:35.687922Z"
    }
   },
   "outputs": [
    {
     "name": "stdout",
     "output_type": "stream",
     "text": [
      "['website_homepage_mention', 'food_category', 'cuisine', 'home_delivery', 'night_service']\n"
     ]
    }
   ],
   "source": [
    "print(cat)"
   ]
  },
  {
   "cell_type": "markdown",
   "metadata": {
    "colab_type": "text",
    "id": "bJs3PICI-QsG"
   },
   "source": [
    "### Checking for duplicates"
   ]
  },
  {
   "cell_type": "code",
   "execution_count": 217,
   "metadata": {
    "ExecuteTime": {
     "end_time": "2021-10-16T05:57:36.868182Z",
     "start_time": "2021-10-16T05:57:36.848616Z"
    },
    "colab": {
     "base_uri": "https://localhost:8080/",
     "height": 35
    },
    "colab_type": "code",
    "id": "YrKnVfCy-QsH",
    "outputId": "4c0d14e8-7504-4f83-bb82-364acc3a1976"
   },
   "outputs": [
    {
     "name": "stdout",
     "output_type": "stream",
     "text": [
      "Number of duplicate rows = 0\n"
     ]
    }
   ],
   "source": [
    "# Are there any duplicates ?\n",
    "dups = df.duplicated()\n",
    "print('Number of duplicate rows = %d' % (dups.sum()))\n",
    "#df[dups]"
   ]
  },
  {
   "cell_type": "markdown",
   "metadata": {
    "colab_type": "text",
    "id": "D7RiXPbP-QsR"
   },
   "source": [
    "### Correlation Plot"
   ]
  },
  {
   "cell_type": "code",
   "execution_count": 218,
   "metadata": {
    "ExecuteTime": {
     "end_time": "2021-10-16T05:57:38.690233Z",
     "start_time": "2021-10-16T05:57:38.276092Z"
    },
    "colab": {
     "base_uri": "https://localhost:8080/",
     "height": 632
    },
    "colab_type": "code",
    "id": "-M2wgNR9-QsU",
    "outputId": "cccb4576-7196-4797-8b8f-ff180e972efe"
   },
   "outputs": [
    {
     "data": {
      "image/png": "[encoded data removed]",
      "text/plain": [
       "<Figure size 720x432 with 2 Axes>"
      ]
     },
     "metadata": {
      "needs_background": "light"
     },
     "output_type": "display_data"
    }
   ],
   "source": [
    "plt.figure(figsize = (10,6))\n",
    "\n",
    "sns.heatmap(df.corr(),annot=True);"
   ]
  },
  {
   "cell_type": "markdown",
   "metadata": {
    "colab_type": "text",
    "id": "NiJDsPXv-QsX"
   },
   "source": [
    "Unit_Price and Final_price are highly correlated. Should you drop any one of the variables?"
   ]
  },
  {
   "cell_type": "code",
   "execution_count": 219,
   "metadata": {
    "ExecuteTime": {
     "end_time": "2021-10-16T05:57:39.720395Z",
     "start_time": "2021-10-16T05:57:39.705959Z"
    },
    "colab": {},
    "colab_type": "code",
    "id": "iDzuqgKE-QsY"
   },
   "outputs": [],
   "source": [
    "# # Dropping Unit_price \n",
    "# df.drop(['unit_price'], axis = 1,inplace=True)\n",
    "# sns.heatmap(df.corr(),annot=True)"
   ]
  },
  {
   "cell_type": "code",
   "execution_count": 62,
   "metadata": {
    "ExecuteTime": {
     "end_time": "2021-10-15T17:35:13.612716Z",
     "start_time": "2021-10-15T17:35:02.789509Z"
    }
   },
   "outputs": [
    {
     "data": {
      "image/png": "[encoded data removed]",
      "text/plain": [
       "<Figure size 900x900 with 30 Axes>"
      ]
     },
     "metadata": {
      "needs_background": "light"
     },
     "output_type": "display_data"
    }
   ],
   "source": [
    "sns.pairplot(df,vars=num);"
   ]
  },
  {
   "cell_type": "markdown",
   "metadata": {},
   "source": [
    "#### get_dummies"
   ]
  },
  {
   "cell_type": "code",
   "execution_count": 220,
   "metadata": {
    "ExecuteTime": {
     "end_time": "2021-10-16T05:57:42.582046Z",
     "start_time": "2021-10-16T05:57:42.560904Z"
    }
   },
   "outputs": [],
   "source": [
    "df =pd.get_dummies(df, columns=cat,drop_first=True)"
   ]
  },
  {
   "cell_type": "code",
   "execution_count": 221,
   "metadata": {
    "ExecuteTime": {
     "end_time": "2021-10-16T05:57:42.950311Z",
     "start_time": "2021-10-16T05:57:42.932082Z"
    },
    "colab": {
     "base_uri": "https://localhost:8080/",
     "height": 237
    },
    "colab_type": "code",
    "id": "PpDsEq_I-Qsc",
    "outputId": "e2c5463e-ad51-4724-e1c8-82e4ac715f7c"
   },
   "outputs": [
    {
     "data": {
      "text/html": [
       "<div>\n",
       "<style scoped>\n",
       "    .dataframe tbody tr th:only-of-type {\n",
       "        vertical-align: middle;\n",
       "    }\n",
       "\n",
       "    .dataframe tbody tr th {\n",
       "        vertical-align: top;\n",
       "    }\n",
       "\n",
       "    .dataframe thead th {\n",
       "        text-align: right;\n",
       "    }\n",
       "</style>\n",
       "<table border=\"1\" class=\"dataframe\">\n",
       "  <thead>\n",
       "    <tr style=\"text-align: right;\">\n",
       "      <th></th>\n",
       "      <th>week</th>\n",
       "      <th>final_price</th>\n",
       "      <th>unit_price</th>\n",
       "      <th>area_range</th>\n",
       "      <th>orders</th>\n",
       "      <th>website_homepage_mention_1.0</th>\n",
       "      <th>food_category_Biryani</th>\n",
       "      <th>food_category_Desert</th>\n",
       "      <th>food_category_Extras</th>\n",
       "      <th>food_category_Other Snacks</th>\n",
       "      <th>...</th>\n",
       "      <th>food_category_Rice Bowl</th>\n",
       "      <th>food_category_Salad</th>\n",
       "      <th>food_category_Sandwich</th>\n",
       "      <th>food_category_Seafood</th>\n",
       "      <th>food_category_Soup</th>\n",
       "      <th>food_category_Starters</th>\n",
       "      <th>cuisine_Indian</th>\n",
       "      <th>cuisine_Italian</th>\n",
       "      <th>home_delivery_1.0</th>\n",
       "      <th>night_service_1</th>\n",
       "    </tr>\n",
       "  </thead>\n",
       "  <tbody>\n",
       "    <tr>\n",
       "      <th>0</th>\n",
       "      <td>122.0</td>\n",
       "      <td>150.35</td>\n",
       "      <td>152.35</td>\n",
       "      <td>7.0</td>\n",
       "      <td>972</td>\n",
       "      <td>0</td>\n",
       "      <td>0</td>\n",
       "      <td>0</td>\n",
       "      <td>0</td>\n",
       "      <td>0</td>\n",
       "      <td>...</td>\n",
       "      <td>0</td>\n",
       "      <td>0</td>\n",
       "      <td>0</td>\n",
       "      <td>0</td>\n",
       "      <td>0</td>\n",
       "      <td>0</td>\n",
       "      <td>0</td>\n",
       "      <td>1</td>\n",
       "      <td>1</td>\n",
       "      <td>1</td>\n",
       "    </tr>\n",
       "    <tr>\n",
       "      <th>1</th>\n",
       "      <td>95.0</td>\n",
       "      <td>484.03</td>\n",
       "      <td>485.03</td>\n",
       "      <td>5.6</td>\n",
       "      <td>150</td>\n",
       "      <td>0</td>\n",
       "      <td>0</td>\n",
       "      <td>1</td>\n",
       "      <td>0</td>\n",
       "      <td>0</td>\n",
       "      <td>...</td>\n",
       "      <td>0</td>\n",
       "      <td>0</td>\n",
       "      <td>0</td>\n",
       "      <td>0</td>\n",
       "      <td>0</td>\n",
       "      <td>0</td>\n",
       "      <td>1</td>\n",
       "      <td>0</td>\n",
       "      <td>0</td>\n",
       "      <td>1</td>\n",
       "    </tr>\n",
       "    <tr>\n",
       "      <th>2</th>\n",
       "      <td>52.0</td>\n",
       "      <td>281.33</td>\n",
       "      <td>281.33</td>\n",
       "      <td>3.0</td>\n",
       "      <td>55</td>\n",
       "      <td>0</td>\n",
       "      <td>0</td>\n",
       "      <td>0</td>\n",
       "      <td>0</td>\n",
       "      <td>0</td>\n",
       "      <td>...</td>\n",
       "      <td>0</td>\n",
       "      <td>0</td>\n",
       "      <td>0</td>\n",
       "      <td>0</td>\n",
       "      <td>0</td>\n",
       "      <td>1</td>\n",
       "      <td>0</td>\n",
       "      <td>1</td>\n",
       "      <td>0</td>\n",
       "      <td>1</td>\n",
       "    </tr>\n",
       "    <tr>\n",
       "      <th>3</th>\n",
       "      <td>10.0</td>\n",
       "      <td>167.81</td>\n",
       "      <td>196.94</td>\n",
       "      <td>4.0</td>\n",
       "      <td>256</td>\n",
       "      <td>0</td>\n",
       "      <td>0</td>\n",
       "      <td>0</td>\n",
       "      <td>1</td>\n",
       "      <td>0</td>\n",
       "      <td>...</td>\n",
       "      <td>0</td>\n",
       "      <td>0</td>\n",
       "      <td>0</td>\n",
       "      <td>0</td>\n",
       "      <td>0</td>\n",
       "      <td>0</td>\n",
       "      <td>0</td>\n",
       "      <td>1</td>\n",
       "      <td>1</td>\n",
       "      <td>1</td>\n",
       "    </tr>\n",
       "    <tr>\n",
       "      <th>4</th>\n",
       "      <td>122.0</td>\n",
       "      <td>212.46</td>\n",
       "      <td>256.14</td>\n",
       "      <td>3.4</td>\n",
       "      <td>82</td>\n",
       "      <td>0</td>\n",
       "      <td>0</td>\n",
       "      <td>0</td>\n",
       "      <td>0</td>\n",
       "      <td>0</td>\n",
       "      <td>...</td>\n",
       "      <td>0</td>\n",
       "      <td>1</td>\n",
       "      <td>0</td>\n",
       "      <td>0</td>\n",
       "      <td>0</td>\n",
       "      <td>0</td>\n",
       "      <td>0</td>\n",
       "      <td>1</td>\n",
       "      <td>0</td>\n",
       "      <td>1</td>\n",
       "    </tr>\n",
       "  </tbody>\n",
       "</table>\n",
       "<p>5 rows × 22 columns</p>\n",
       "</div>"
      ],
      "text/plain": [
       "    week  final_price  unit_price  area_range  orders  \\\n",
       "0  122.0       150.35      152.35         7.0     972   \n",
       "1   95.0       484.03      485.03         5.6     150   \n",
       "2   52.0       281.33      281.33         3.0      55   \n",
       "3   10.0       167.81      196.94         4.0     256   \n",
       "4  122.0       212.46      256.14         3.4      82   \n",
       "\n",
       "   website_homepage_mention_1.0  food_category_Biryani  food_category_Desert  \\\n",
       "0                             0                      0                     0   \n",
       "1                             0                      0                     1   \n",
       "2                             0                      0                     0   \n",
       "3                             0                      0                     0   \n",
       "4                             0                      0                     0   \n",
       "\n",
       "   food_category_Extras  food_category_Other Snacks  ...  \\\n",
       "0                     0                           0  ...   \n",
       "1                     0                           0  ...   \n",
       "2                     0                           0  ...   \n",
       "3                     1                           0  ...   \n",
       "4                     0                           0  ...   \n",
       "\n",
       "   food_category_Rice Bowl  food_category_Salad  food_category_Sandwich  \\\n",
       "0                        0                    0                       0   \n",
       "1                        0                    0                       0   \n",
       "2                        0                    0                       0   \n",
       "3                        0                    0                       0   \n",
       "4                        0                    1                       0   \n",
       "\n",
       "   food_category_Seafood  food_category_Soup  food_category_Starters  \\\n",
       "0                      0                   0                       0   \n",
       "1                      0                   0                       0   \n",
       "2                      0                   0                       1   \n",
       "3                      0                   0                       0   \n",
       "4                      0                   0                       0   \n",
       "\n",
       "   cuisine_Indian  cuisine_Italian  home_delivery_1.0  night_service_1  \n",
       "0               0                1                  1                1  \n",
       "1               1                0                  0                1  \n",
       "2               0                1                  0                1  \n",
       "3               0                1                  1                1  \n",
       "4               0                1                  0                1  \n",
       "\n",
       "[5 rows x 22 columns]"
      ]
     },
     "execution_count": 221,
     "metadata": {},
     "output_type": "execute_result"
    }
   ],
   "source": [
    "df.head()"
   ]
  },
  {
   "cell_type": "markdown",
   "metadata": {
    "colab_type": "text",
    "id": "hTWDyHpy-Qsg"
   },
   "source": [
    "### Outlier Check and treatment?"
   ]
  },
  {
   "cell_type": "markdown",
   "metadata": {},
   "source": [
    "### Scaling the continuous variables"
   ]
  },
  {
   "cell_type": "code",
   "execution_count": 222,
   "metadata": {
    "ExecuteTime": {
     "end_time": "2021-10-16T05:57:44.240110Z",
     "start_time": "2021-10-16T05:57:44.230262Z"
    }
   },
   "outputs": [
    {
     "data": {
      "text/plain": [
       "StandardScaler()"
      ]
     },
     "execution_count": 222,
     "metadata": {},
     "output_type": "execute_result"
    }
   ],
   "source": [
    "#Scales the data. Essentially returns the z-scores of every attribute\n",
    "\n",
    "from sklearn.preprocessing import StandardScaler\n",
    "std_scale = StandardScaler()\n",
    "std_scale"
   ]
  },
  {
   "cell_type": "code",
   "execution_count": 223,
   "metadata": {
    "ExecuteTime": {
     "end_time": "2021-10-16T05:57:44.957119Z",
     "start_time": "2021-10-16T05:57:44.926038Z"
    }
   },
   "outputs": [],
   "source": [
    "df['week'] = std_scale.fit_transform(df[['week']])\n",
    "df['final_price'] = std_scale.fit_transform(df[['final_price']])\n",
    "df['area_range'] = std_scale.fit_transform(df[['area_range']])\n",
    "df['unit_price'] = std_scale.fit_transform(df[['unit_price']])"
   ]
  },
  {
   "cell_type": "code",
   "execution_count": 224,
   "metadata": {
    "ExecuteTime": {
     "end_time": "2021-10-16T05:57:45.585255Z",
     "start_time": "2021-10-16T05:57:45.562882Z"
    }
   },
   "outputs": [
    {
     "data": {
      "text/html": [
       "<div>\n",
       "<style scoped>\n",
       "    .dataframe tbody tr th:only-of-type {\n",
       "        vertical-align: middle;\n",
       "    }\n",
       "\n",
       "    .dataframe tbody tr th {\n",
       "        vertical-align: top;\n",
       "    }\n",
       "\n",
       "    .dataframe thead th {\n",
       "        text-align: right;\n",
       "    }\n",
       "</style>\n",
       "<table border=\"1\" class=\"dataframe\">\n",
       "  <thead>\n",
       "    <tr style=\"text-align: right;\">\n",
       "      <th></th>\n",
       "      <th>week</th>\n",
       "      <th>final_price</th>\n",
       "      <th>unit_price</th>\n",
       "      <th>area_range</th>\n",
       "      <th>orders</th>\n",
       "      <th>website_homepage_mention_1.0</th>\n",
       "      <th>food_category_Biryani</th>\n",
       "      <th>food_category_Desert</th>\n",
       "      <th>food_category_Extras</th>\n",
       "      <th>food_category_Other Snacks</th>\n",
       "      <th>...</th>\n",
       "      <th>food_category_Rice Bowl</th>\n",
       "      <th>food_category_Salad</th>\n",
       "      <th>food_category_Sandwich</th>\n",
       "      <th>food_category_Seafood</th>\n",
       "      <th>food_category_Soup</th>\n",
       "      <th>food_category_Starters</th>\n",
       "      <th>cuisine_Indian</th>\n",
       "      <th>cuisine_Italian</th>\n",
       "      <th>home_delivery_1.0</th>\n",
       "      <th>night_service_1</th>\n",
       "    </tr>\n",
       "  </thead>\n",
       "  <tbody>\n",
       "    <tr>\n",
       "      <th>0</th>\n",
       "      <td>1.129633</td>\n",
       "      <td>-1.214360</td>\n",
       "      <td>-1.279540</td>\n",
       "      <td>2.646971</td>\n",
       "      <td>972</td>\n",
       "      <td>0</td>\n",
       "      <td>0</td>\n",
       "      <td>0</td>\n",
       "      <td>0</td>\n",
       "      <td>0</td>\n",
       "      <td>...</td>\n",
       "      <td>0</td>\n",
       "      <td>0</td>\n",
       "      <td>0</td>\n",
       "      <td>0</td>\n",
       "      <td>0</td>\n",
       "      <td>0</td>\n",
       "      <td>0</td>\n",
       "      <td>1</td>\n",
       "      <td>1</td>\n",
       "      <td>1</td>\n",
       "    </tr>\n",
       "    <tr>\n",
       "      <th>1</th>\n",
       "      <td>0.485767</td>\n",
       "      <td>0.975087</td>\n",
       "      <td>0.795450</td>\n",
       "      <td>1.365920</td>\n",
       "      <td>150</td>\n",
       "      <td>0</td>\n",
       "      <td>0</td>\n",
       "      <td>1</td>\n",
       "      <td>0</td>\n",
       "      <td>0</td>\n",
       "      <td>...</td>\n",
       "      <td>0</td>\n",
       "      <td>0</td>\n",
       "      <td>0</td>\n",
       "      <td>0</td>\n",
       "      <td>0</td>\n",
       "      <td>0</td>\n",
       "      <td>1</td>\n",
       "      <td>0</td>\n",
       "      <td>0</td>\n",
       "      <td>1</td>\n",
       "    </tr>\n",
       "    <tr>\n",
       "      <th>2</th>\n",
       "      <td>-0.539649</td>\n",
       "      <td>-0.354932</td>\n",
       "      <td>-0.475067</td>\n",
       "      <td>-1.013174</td>\n",
       "      <td>55</td>\n",
       "      <td>0</td>\n",
       "      <td>0</td>\n",
       "      <td>0</td>\n",
       "      <td>0</td>\n",
       "      <td>0</td>\n",
       "      <td>...</td>\n",
       "      <td>0</td>\n",
       "      <td>0</td>\n",
       "      <td>0</td>\n",
       "      <td>0</td>\n",
       "      <td>0</td>\n",
       "      <td>1</td>\n",
       "      <td>0</td>\n",
       "      <td>1</td>\n",
       "      <td>0</td>\n",
       "      <td>1</td>\n",
       "    </tr>\n",
       "    <tr>\n",
       "      <th>3</th>\n",
       "      <td>-1.541219</td>\n",
       "      <td>-1.099796</td>\n",
       "      <td>-1.001424</td>\n",
       "      <td>-0.098138</td>\n",
       "      <td>256</td>\n",
       "      <td>0</td>\n",
       "      <td>0</td>\n",
       "      <td>0</td>\n",
       "      <td>1</td>\n",
       "      <td>0</td>\n",
       "      <td>...</td>\n",
       "      <td>0</td>\n",
       "      <td>0</td>\n",
       "      <td>0</td>\n",
       "      <td>0</td>\n",
       "      <td>0</td>\n",
       "      <td>0</td>\n",
       "      <td>0</td>\n",
       "      <td>1</td>\n",
       "      <td>1</td>\n",
       "      <td>1</td>\n",
       "    </tr>\n",
       "    <tr>\n",
       "      <th>4</th>\n",
       "      <td>1.129633</td>\n",
       "      <td>-0.806824</td>\n",
       "      <td>-0.632182</td>\n",
       "      <td>-0.647159</td>\n",
       "      <td>82</td>\n",
       "      <td>0</td>\n",
       "      <td>0</td>\n",
       "      <td>0</td>\n",
       "      <td>0</td>\n",
       "      <td>0</td>\n",
       "      <td>...</td>\n",
       "      <td>0</td>\n",
       "      <td>1</td>\n",
       "      <td>0</td>\n",
       "      <td>0</td>\n",
       "      <td>0</td>\n",
       "      <td>0</td>\n",
       "      <td>0</td>\n",
       "      <td>1</td>\n",
       "      <td>0</td>\n",
       "      <td>1</td>\n",
       "    </tr>\n",
       "    <tr>\n",
       "      <th>...</th>\n",
       "      <td>...</td>\n",
       "      <td>...</td>\n",
       "      <td>...</td>\n",
       "      <td>...</td>\n",
       "      <td>...</td>\n",
       "      <td>...</td>\n",
       "      <td>...</td>\n",
       "      <td>...</td>\n",
       "      <td>...</td>\n",
       "      <td>...</td>\n",
       "      <td>...</td>\n",
       "      <td>...</td>\n",
       "      <td>...</td>\n",
       "      <td>...</td>\n",
       "      <td>...</td>\n",
       "      <td>...</td>\n",
       "      <td>...</td>\n",
       "      <td>...</td>\n",
       "      <td>...</td>\n",
       "      <td>...</td>\n",
       "      <td>...</td>\n",
       "    </tr>\n",
       "    <tr>\n",
       "      <th>3995</th>\n",
       "      <td>1.606571</td>\n",
       "      <td>1.013275</td>\n",
       "      <td>1.188705</td>\n",
       "      <td>-1.013174</td>\n",
       "      <td>109</td>\n",
       "      <td>1</td>\n",
       "      <td>0</td>\n",
       "      <td>0</td>\n",
       "      <td>0</td>\n",
       "      <td>0</td>\n",
       "      <td>...</td>\n",
       "      <td>0</td>\n",
       "      <td>0</td>\n",
       "      <td>0</td>\n",
       "      <td>0</td>\n",
       "      <td>0</td>\n",
       "      <td>0</td>\n",
       "      <td>0</td>\n",
       "      <td>0</td>\n",
       "      <td>0</td>\n",
       "      <td>0</td>\n",
       "    </tr>\n",
       "    <tr>\n",
       "      <th>3996</th>\n",
       "      <td>-1.135822</td>\n",
       "      <td>-0.361494</td>\n",
       "      <td>-0.481304</td>\n",
       "      <td>-0.189641</td>\n",
       "      <td>162</td>\n",
       "      <td>0</td>\n",
       "      <td>0</td>\n",
       "      <td>0</td>\n",
       "      <td>0</td>\n",
       "      <td>0</td>\n",
       "      <td>...</td>\n",
       "      <td>0</td>\n",
       "      <td>0</td>\n",
       "      <td>0</td>\n",
       "      <td>0</td>\n",
       "      <td>0</td>\n",
       "      <td>1</td>\n",
       "      <td>0</td>\n",
       "      <td>1</td>\n",
       "      <td>0</td>\n",
       "      <td>1</td>\n",
       "    </tr>\n",
       "    <tr>\n",
       "      <th>3997</th>\n",
       "      <td>-0.372721</td>\n",
       "      <td>-0.042867</td>\n",
       "      <td>-0.184663</td>\n",
       "      <td>-0.006634</td>\n",
       "      <td>473</td>\n",
       "      <td>0</td>\n",
       "      <td>0</td>\n",
       "      <td>0</td>\n",
       "      <td>0</td>\n",
       "      <td>0</td>\n",
       "      <td>...</td>\n",
       "      <td>0</td>\n",
       "      <td>1</td>\n",
       "      <td>0</td>\n",
       "      <td>0</td>\n",
       "      <td>0</td>\n",
       "      <td>0</td>\n",
       "      <td>0</td>\n",
       "      <td>1</td>\n",
       "      <td>1</td>\n",
       "      <td>0</td>\n",
       "    </tr>\n",
       "    <tr>\n",
       "      <th>3998</th>\n",
       "      <td>1.201174</td>\n",
       "      <td>-0.354932</td>\n",
       "      <td>-0.468830</td>\n",
       "      <td>0.633891</td>\n",
       "      <td>379</td>\n",
       "      <td>0</td>\n",
       "      <td>0</td>\n",
       "      <td>0</td>\n",
       "      <td>0</td>\n",
       "      <td>0</td>\n",
       "      <td>...</td>\n",
       "      <td>0</td>\n",
       "      <td>0</td>\n",
       "      <td>0</td>\n",
       "      <td>0</td>\n",
       "      <td>0</td>\n",
       "      <td>1</td>\n",
       "      <td>0</td>\n",
       "      <td>1</td>\n",
       "      <td>1</td>\n",
       "      <td>1</td>\n",
       "    </tr>\n",
       "    <tr>\n",
       "      <th>3999</th>\n",
       "      <td>-0.491955</td>\n",
       "      <td>0.536122</td>\n",
       "      <td>0.378182</td>\n",
       "      <td>-0.372649</td>\n",
       "      <td>28</td>\n",
       "      <td>0</td>\n",
       "      <td>0</td>\n",
       "      <td>0</td>\n",
       "      <td>0</td>\n",
       "      <td>0</td>\n",
       "      <td>...</td>\n",
       "      <td>0</td>\n",
       "      <td>0</td>\n",
       "      <td>0</td>\n",
       "      <td>0</td>\n",
       "      <td>0</td>\n",
       "      <td>0</td>\n",
       "      <td>1</td>\n",
       "      <td>0</td>\n",
       "      <td>0</td>\n",
       "      <td>1</td>\n",
       "    </tr>\n",
       "  </tbody>\n",
       "</table>\n",
       "<p>4000 rows × 22 columns</p>\n",
       "</div>"
      ],
      "text/plain": [
       "          week  final_price  unit_price  area_range  orders  \\\n",
       "0     1.129633    -1.214360   -1.279540    2.646971     972   \n",
       "1     0.485767     0.975087    0.795450    1.365920     150   \n",
       "2    -0.539649    -0.354932   -0.475067   -1.013174      55   \n",
       "3    -1.541219    -1.099796   -1.001424   -0.098138     256   \n",
       "4     1.129633    -0.806824   -0.632182   -0.647159      82   \n",
       "...        ...          ...         ...         ...     ...   \n",
       "3995  1.606571     1.013275    1.188705   -1.013174     109   \n",
       "3996 -1.135822    -0.361494   -0.481304   -0.189641     162   \n",
       "3997 -0.372721    -0.042867   -0.184663   -0.006634     473   \n",
       "3998  1.201174    -0.354932   -0.468830    0.633891     379   \n",
       "3999 -0.491955     0.536122    0.378182   -0.372649      28   \n",
       "\n",
       "      website_homepage_mention_1.0  food_category_Biryani  \\\n",
       "0                                0                      0   \n",
       "1                                0                      0   \n",
       "2                                0                      0   \n",
       "3                                0                      0   \n",
       "4                                0                      0   \n",
       "...                            ...                    ...   \n",
       "3995                             1                      0   \n",
       "3996                             0                      0   \n",
       "3997                             0                      0   \n",
       "3998                             0                      0   \n",
       "3999                             0                      0   \n",
       "\n",
       "      food_category_Desert  food_category_Extras  food_category_Other Snacks  \\\n",
       "0                        0                     0                           0   \n",
       "1                        1                     0                           0   \n",
       "2                        0                     0                           0   \n",
       "3                        0                     1                           0   \n",
       "4                        0                     0                           0   \n",
       "...                    ...                   ...                         ...   \n",
       "3995                     0                     0                           0   \n",
       "3996                     0                     0                           0   \n",
       "3997                     0                     0                           0   \n",
       "3998                     0                     0                           0   \n",
       "3999                     0                     0                           0   \n",
       "\n",
       "      ...  food_category_Rice Bowl  food_category_Salad  \\\n",
       "0     ...                        0                    0   \n",
       "1     ...                        0                    0   \n",
       "2     ...                        0                    0   \n",
       "3     ...                        0                    0   \n",
       "4     ...                        0                    1   \n",
       "...   ...                      ...                  ...   \n",
       "3995  ...                        0                    0   \n",
       "3996  ...                        0                    0   \n",
       "3997  ...                        0                    1   \n",
       "3998  ...                        0                    0   \n",
       "3999  ...                        0                    0   \n",
       "\n",
       "      food_category_Sandwich  food_category_Seafood  food_category_Soup  \\\n",
       "0                          0                      0                   0   \n",
       "1                          0                      0                   0   \n",
       "2                          0                      0                   0   \n",
       "3                          0                      0                   0   \n",
       "4                          0                      0                   0   \n",
       "...                      ...                    ...                 ...   \n",
       "3995                       0                      0                   0   \n",
       "3996                       0                      0                   0   \n",
       "3997                       0                      0                   0   \n",
       "3998                       0                      0                   0   \n",
       "3999                       0                      0                   0   \n",
       "\n",
       "      food_category_Starters  cuisine_Indian  cuisine_Italian  \\\n",
       "0                          0               0                1   \n",
       "1                          0               1                0   \n",
       "2                          1               0                1   \n",
       "3                          0               0                1   \n",
       "4                          0               0                1   \n",
       "...                      ...             ...              ...   \n",
       "3995                       0               0                0   \n",
       "3996                       1               0                1   \n",
       "3997                       0               0                1   \n",
       "3998                       1               0                1   \n",
       "3999                       0               1                0   \n",
       "\n",
       "      home_delivery_1.0  night_service_1  \n",
       "0                     1                1  \n",
       "1                     0                1  \n",
       "2                     0                1  \n",
       "3                     1                1  \n",
       "4                     0                1  \n",
       "...                 ...              ...  \n",
       "3995                  0                0  \n",
       "3996                  0                1  \n",
       "3997                  1                0  \n",
       "3998                  1                1  \n",
       "3999                  0                1  \n",
       "\n",
       "[4000 rows x 22 columns]"
      ]
     },
     "execution_count": 224,
     "metadata": {},
     "output_type": "execute_result"
    }
   ],
   "source": [
    "df"
   ]
  },
  {
   "cell_type": "markdown",
   "metadata": {
    "colab_type": "text",
    "id": "NvFP87-D-Qsx"
   },
   "source": [
    "### Train-Test Split"
   ]
  },
  {
   "cell_type": "code",
   "execution_count": 225,
   "metadata": {
    "ExecuteTime": {
     "end_time": "2021-10-16T05:57:46.718978Z",
     "start_time": "2021-10-16T05:57:46.703679Z"
    },
    "colab": {
     "base_uri": "https://localhost:8080/",
     "height": 195
    },
    "colab_type": "code",
    "id": "ZJ2Bx5UuIC0k",
    "outputId": "dcf412ea-7c61-496f-ecf5-7a0c44558f9f"
   },
   "outputs": [
    {
     "data": {
      "text/plain": [
       "Index(['week', 'final_price', 'unit_price', 'area_range', 'orders',\n",
       "       'website_homepage_mention_1.0', 'food_category_Biryani',\n",
       "       'food_category_Desert', 'food_category_Extras',\n",
       "       'food_category_Other Snacks', 'food_category_Pasta',\n",
       "       'food_category_Pizza', 'food_category_Rice Bowl', 'food_category_Salad',\n",
       "       'food_category_Sandwich', 'food_category_Seafood', 'food_category_Soup',\n",
       "       'food_category_Starters', 'cuisine_Indian', 'cuisine_Italian',\n",
       "       'home_delivery_1.0', 'night_service_1'],\n",
       "      dtype='object')"
      ]
     },
     "execution_count": 225,
     "metadata": {},
     "output_type": "execute_result"
    }
   ],
   "source": [
    "df.columns"
   ]
  },
  {
   "cell_type": "code",
   "execution_count": 226,
   "metadata": {
    "ExecuteTime": {
     "end_time": "2021-10-16T05:57:47.246940Z",
     "start_time": "2021-10-16T05:57:47.232258Z"
    },
    "colab": {},
    "colab_type": "code",
    "id": "t8wwRu0A-Qsx"
   },
   "outputs": [],
   "source": [
    "# Copy all the predictor variables into X dataframe\n",
    "X = df.drop('orders', axis=1)\n",
    "\n",
    "# Copy target into the y dataframe. \n",
    "y = np.log(df[['orders']])"
   ]
  },
  {
   "cell_type": "code",
   "execution_count": 227,
   "metadata": {
    "ExecuteTime": {
     "end_time": "2021-10-16T05:57:48.610987Z",
     "start_time": "2021-10-16T05:57:48.586041Z"
    },
    "colab": {
     "base_uri": "https://localhost:8080/",
     "height": 237
    },
    "colab_type": "code",
    "id": "NCOreSpr-Qs1",
    "outputId": "3421ce25-8545-40ef-ab78-10858569ee5d",
    "scrolled": true
   },
   "outputs": [
    {
     "data": {
      "text/html": [
       "<div>\n",
       "<style scoped>\n",
       "    .dataframe tbody tr th:only-of-type {\n",
       "        vertical-align: middle;\n",
       "    }\n",
       "\n",
       "    .dataframe tbody tr th {\n",
       "        vertical-align: top;\n",
       "    }\n",
       "\n",
       "    .dataframe thead th {\n",
       "        text-align: right;\n",
       "    }\n",
       "</style>\n",
       "<table border=\"1\" class=\"dataframe\">\n",
       "  <thead>\n",
       "    <tr style=\"text-align: right;\">\n",
       "      <th></th>\n",
       "      <th>week</th>\n",
       "      <th>final_price</th>\n",
       "      <th>unit_price</th>\n",
       "      <th>area_range</th>\n",
       "      <th>website_homepage_mention_1.0</th>\n",
       "      <th>food_category_Biryani</th>\n",
       "      <th>food_category_Desert</th>\n",
       "      <th>food_category_Extras</th>\n",
       "      <th>food_category_Other Snacks</th>\n",
       "      <th>food_category_Pasta</th>\n",
       "      <th>...</th>\n",
       "      <th>food_category_Rice Bowl</th>\n",
       "      <th>food_category_Salad</th>\n",
       "      <th>food_category_Sandwich</th>\n",
       "      <th>food_category_Seafood</th>\n",
       "      <th>food_category_Soup</th>\n",
       "      <th>food_category_Starters</th>\n",
       "      <th>cuisine_Indian</th>\n",
       "      <th>cuisine_Italian</th>\n",
       "      <th>home_delivery_1.0</th>\n",
       "      <th>night_service_1</th>\n",
       "    </tr>\n",
       "  </thead>\n",
       "  <tbody>\n",
       "    <tr>\n",
       "      <th>0</th>\n",
       "      <td>1.129633</td>\n",
       "      <td>-1.214360</td>\n",
       "      <td>-1.279540</td>\n",
       "      <td>2.646971</td>\n",
       "      <td>0</td>\n",
       "      <td>0</td>\n",
       "      <td>0</td>\n",
       "      <td>0</td>\n",
       "      <td>0</td>\n",
       "      <td>0</td>\n",
       "      <td>...</td>\n",
       "      <td>0</td>\n",
       "      <td>0</td>\n",
       "      <td>0</td>\n",
       "      <td>0</td>\n",
       "      <td>0</td>\n",
       "      <td>0</td>\n",
       "      <td>0</td>\n",
       "      <td>1</td>\n",
       "      <td>1</td>\n",
       "      <td>1</td>\n",
       "    </tr>\n",
       "    <tr>\n",
       "      <th>1</th>\n",
       "      <td>0.485767</td>\n",
       "      <td>0.975087</td>\n",
       "      <td>0.795450</td>\n",
       "      <td>1.365920</td>\n",
       "      <td>0</td>\n",
       "      <td>0</td>\n",
       "      <td>1</td>\n",
       "      <td>0</td>\n",
       "      <td>0</td>\n",
       "      <td>0</td>\n",
       "      <td>...</td>\n",
       "      <td>0</td>\n",
       "      <td>0</td>\n",
       "      <td>0</td>\n",
       "      <td>0</td>\n",
       "      <td>0</td>\n",
       "      <td>0</td>\n",
       "      <td>1</td>\n",
       "      <td>0</td>\n",
       "      <td>0</td>\n",
       "      <td>1</td>\n",
       "    </tr>\n",
       "    <tr>\n",
       "      <th>2</th>\n",
       "      <td>-0.539649</td>\n",
       "      <td>-0.354932</td>\n",
       "      <td>-0.475067</td>\n",
       "      <td>-1.013174</td>\n",
       "      <td>0</td>\n",
       "      <td>0</td>\n",
       "      <td>0</td>\n",
       "      <td>0</td>\n",
       "      <td>0</td>\n",
       "      <td>0</td>\n",
       "      <td>...</td>\n",
       "      <td>0</td>\n",
       "      <td>0</td>\n",
       "      <td>0</td>\n",
       "      <td>0</td>\n",
       "      <td>0</td>\n",
       "      <td>1</td>\n",
       "      <td>0</td>\n",
       "      <td>1</td>\n",
       "      <td>0</td>\n",
       "      <td>1</td>\n",
       "    </tr>\n",
       "    <tr>\n",
       "      <th>3</th>\n",
       "      <td>-1.541219</td>\n",
       "      <td>-1.099796</td>\n",
       "      <td>-1.001424</td>\n",
       "      <td>-0.098138</td>\n",
       "      <td>0</td>\n",
       "      <td>0</td>\n",
       "      <td>0</td>\n",
       "      <td>1</td>\n",
       "      <td>0</td>\n",
       "      <td>0</td>\n",
       "      <td>...</td>\n",
       "      <td>0</td>\n",
       "      <td>0</td>\n",
       "      <td>0</td>\n",
       "      <td>0</td>\n",
       "      <td>0</td>\n",
       "      <td>0</td>\n",
       "      <td>0</td>\n",
       "      <td>1</td>\n",
       "      <td>1</td>\n",
       "      <td>1</td>\n",
       "    </tr>\n",
       "    <tr>\n",
       "      <th>4</th>\n",
       "      <td>1.129633</td>\n",
       "      <td>-0.806824</td>\n",
       "      <td>-0.632182</td>\n",
       "      <td>-0.647159</td>\n",
       "      <td>0</td>\n",
       "      <td>0</td>\n",
       "      <td>0</td>\n",
       "      <td>0</td>\n",
       "      <td>0</td>\n",
       "      <td>0</td>\n",
       "      <td>...</td>\n",
       "      <td>0</td>\n",
       "      <td>1</td>\n",
       "      <td>0</td>\n",
       "      <td>0</td>\n",
       "      <td>0</td>\n",
       "      <td>0</td>\n",
       "      <td>0</td>\n",
       "      <td>1</td>\n",
       "      <td>0</td>\n",
       "      <td>1</td>\n",
       "    </tr>\n",
       "  </tbody>\n",
       "</table>\n",
       "<p>5 rows × 21 columns</p>\n",
       "</div>"
      ],
      "text/plain": [
       "       week  final_price  unit_price  area_range  \\\n",
       "0  1.129633    -1.214360   -1.279540    2.646971   \n",
       "1  0.485767     0.975087    0.795450    1.365920   \n",
       "2 -0.539649    -0.354932   -0.475067   -1.013174   \n",
       "3 -1.541219    -1.099796   -1.001424   -0.098138   \n",
       "4  1.129633    -0.806824   -0.632182   -0.647159   \n",
       "\n",
       "   website_homepage_mention_1.0  food_category_Biryani  food_category_Desert  \\\n",
       "0                             0                      0                     0   \n",
       "1                             0                      0                     1   \n",
       "2                             0                      0                     0   \n",
       "3                             0                      0                     0   \n",
       "4                             0                      0                     0   \n",
       "\n",
       "   food_category_Extras  food_category_Other Snacks  food_category_Pasta  ...  \\\n",
       "0                     0                           0                    0  ...   \n",
       "1                     0                           0                    0  ...   \n",
       "2                     0                           0                    0  ...   \n",
       "3                     1                           0                    0  ...   \n",
       "4                     0                           0                    0  ...   \n",
       "\n",
       "   food_category_Rice Bowl  food_category_Salad  food_category_Sandwich  \\\n",
       "0                        0                    0                       0   \n",
       "1                        0                    0                       0   \n",
       "2                        0                    0                       0   \n",
       "3                        0                    0                       0   \n",
       "4                        0                    1                       0   \n",
       "\n",
       "   food_category_Seafood  food_category_Soup  food_category_Starters  \\\n",
       "0                      0                   0                       0   \n",
       "1                      0                   0                       0   \n",
       "2                      0                   0                       1   \n",
       "3                      0                   0                       0   \n",
       "4                      0                   0                       0   \n",
       "\n",
       "   cuisine_Indian  cuisine_Italian  home_delivery_1.0  night_service_1  \n",
       "0               0                1                  1                1  \n",
       "1               1                0                  0                1  \n",
       "2               0                1                  0                1  \n",
       "3               0                1                  1                1  \n",
       "4               0                1                  0                1  \n",
       "\n",
       "[5 rows x 21 columns]"
      ]
     },
     "execution_count": 227,
     "metadata": {},
     "output_type": "execute_result"
    }
   ],
   "source": [
    "X.head()"
   ]
  },
  {
   "cell_type": "code",
   "execution_count": 228,
   "metadata": {
    "ExecuteTime": {
     "end_time": "2021-10-16T05:57:49.356221Z",
     "start_time": "2021-10-16T05:57:49.350057Z"
    },
    "colab": {},
    "colab_type": "code",
    "id": "7_SLrCcj-Qs4"
   },
   "outputs": [],
   "source": [
    "# Split X and y into training and test set in 70:30 ratio\n",
    "from sklearn.model_selection import train_test_split\n",
    "X_train, X_test, y_train, y_test = train_test_split(X, y, test_size=0.30 , random_state=50)"
   ]
  },
  {
   "cell_type": "markdown",
   "metadata": {
    "colab_type": "text",
    "id": "qjLAbDHe-Qs7"
   },
   "source": [
    "### Linear Regression Model"
   ]
  },
  {
   "cell_type": "code",
   "execution_count": 229,
   "metadata": {
    "ExecuteTime": {
     "end_time": "2021-10-16T05:57:50.292328Z",
     "start_time": "2021-10-16T05:57:50.282916Z"
    },
    "colab": {
     "base_uri": "https://localhost:8080/",
     "height": 35
    },
    "colab_type": "code",
    "id": "bsfYqQ0I-Qs7",
    "outputId": "212fedaf-4c72-4666-d1b9-bb0b8735d47b"
   },
   "outputs": [
    {
     "data": {
      "text/plain": [
       "LinearRegression()"
      ]
     },
     "execution_count": 229,
     "metadata": {},
     "output_type": "execute_result"
    }
   ],
   "source": [
    "# invoke the LinearRegression function and find the bestfit model on training data\n",
    "\n",
    "regression_model = LinearRegression()\n",
    "regression_model.fit(X_train, y_train)"
   ]
  },
  {
   "cell_type": "code",
   "execution_count": 230,
   "metadata": {
    "ExecuteTime": {
     "end_time": "2021-10-16T05:57:50.620604Z",
     "start_time": "2021-10-16T05:57:50.614326Z"
    },
    "colab": {
     "base_uri": "https://localhost:8080/",
     "height": 461
    },
    "colab_type": "code",
    "id": "bmCYTu29-Qs-",
    "outputId": "b3e4d213-3ef1-48dc-cb16-5591b05e16ee"
   },
   "outputs": [
    {
     "name": "stdout",
     "output_type": "stream",
     "text": [
      "The coefficient for week is -0.010000490147799692\n",
      "The coefficient for final_price is -0.548774719295396\n",
      "The coefficient for unit_price is 0.2176441051089218\n",
      "The coefficient for area_range is 0.18592029940182722\n",
      "The coefficient for website_homepage_mention_1.0 is 0.30506798844366\n",
      "The coefficient for food_category_Biryani is -0.21923972046068216\n",
      "The coefficient for food_category_Desert is 0.39049679359223394\n",
      "The coefficient for food_category_Extras is -0.2610294519256866\n",
      "The coefficient for food_category_Other Snacks is -0.4855428243413517\n",
      "The coefficient for food_category_Pasta is -0.810037733530671\n",
      "The coefficient for food_category_Pizza is 0.38627922816784527\n",
      "The coefficient for food_category_Rice Bowl is 1.5243047456076337\n",
      "The coefficient for food_category_Salad is 0.13495171227473785\n",
      "The coefficient for food_category_Sandwich is 0.2530587391366872\n",
      "The coefficient for food_category_Seafood is -0.17597321915713623\n",
      "The coefficient for food_category_Soup is -0.9765389959122566\n",
      "The coefficient for food_category_Starters is -0.40731679603681037\n",
      "The coefficient for cuisine_Indian is -1.0613109877878721\n",
      "The coefficient for cuisine_Italian is 0.037530244337172294\n",
      "The coefficient for home_delivery_1.0 is 1.0555420070033898\n",
      "The coefficient for night_service_1 is -0.007268364557079466\n"
     ]
    }
   ],
   "source": [
    "# Let us explore the coefficients for each of the independent attributes\n",
    "\n",
    "for idx, col_name in enumerate(X_train.columns):\n",
    "    print(\"The coefficient for {} is {}\".format(col_name, regression_model.coef_[0][idx]))"
   ]
  },
  {
   "cell_type": "code",
   "execution_count": 231,
   "metadata": {
    "ExecuteTime": {
     "end_time": "2021-10-16T05:57:51.060050Z",
     "start_time": "2021-10-16T05:57:51.055113Z"
    }
   },
   "outputs": [
    {
     "data": {
      "text/plain": [
       "array([[-0.01000049, -0.54877472,  0.21764411,  0.1859203 ,  0.30506799,\n",
       "        -0.21923972,  0.39049679, -0.26102945, -0.48554282, -0.81003773,\n",
       "         0.38627923,  1.52430475,  0.13495171,  0.25305874, -0.17597322,\n",
       "        -0.976539  , -0.4073168 , -1.06131099,  0.03753024,  1.05554201,\n",
       "        -0.00726836]])"
      ]
     },
     "execution_count": 231,
     "metadata": {},
     "output_type": "execute_result"
    }
   ],
   "source": [
    "regression_model.coef_"
   ]
  },
  {
   "cell_type": "code",
   "execution_count": 232,
   "metadata": {
    "ExecuteTime": {
     "end_time": "2021-10-16T05:57:51.986004Z",
     "start_time": "2021-10-16T05:57:51.781656Z"
    }
   },
   "outputs": [
    {
     "data": {
      "image/png": "[encoded data removed]",
      "text/plain": [
       "<Figure size 432x288 with 1 Axes>"
      ]
     },
     "metadata": {
      "needs_background": "light"
     },
     "output_type": "display_data"
    }
   ],
   "source": [
    "#checking the magnitude of coefficients\n",
    "predictors = X_train.columns\n",
    "\n",
    "coef = pd.Series(regression_model.coef_.flatten(), predictors).sort_values()\n",
    "\n",
    "coef.plot(kind='bar', title='Model Coefficients');"
   ]
  },
  {
   "cell_type": "code",
   "execution_count": 233,
   "metadata": {
    "ExecuteTime": {
     "end_time": "2021-10-16T05:57:52.391622Z",
     "start_time": "2021-10-16T05:57:52.383096Z"
    },
    "colab": {
     "base_uri": "https://localhost:8080/",
     "height": 35
    },
    "colab_type": "code",
    "id": "ZY2PrFyO-QtE",
    "outputId": "53c4e4f0-87e0-486e-c51b-75862c005804"
   },
   "outputs": [
    {
     "data": {
      "text/plain": [
       "0.7429673690887416"
      ]
     },
     "execution_count": 233,
     "metadata": {},
     "output_type": "execute_result"
    }
   ],
   "source": [
    "# R square on training data\n",
    "regression_model.score(X_train, y_train)"
   ]
  },
  {
   "cell_type": "code",
   "execution_count": 234,
   "metadata": {
    "ExecuteTime": {
     "end_time": "2021-10-16T05:57:52.812097Z",
     "start_time": "2021-10-16T05:57:52.804138Z"
    },
    "colab": {
     "base_uri": "https://localhost:8080/",
     "height": 35
    },
    "colab_type": "code",
    "id": "Zky-4Veb-QtH",
    "outputId": "e50da52d-30ab-4590-f898-32551382eb66"
   },
   "outputs": [
    {
     "data": {
      "text/plain": [
       "0.744757089991462"
      ]
     },
     "execution_count": 234,
     "metadata": {},
     "output_type": "execute_result"
    }
   ],
   "source": [
    "# R square on testing data\n",
    "regression_model.score(X_test, y_test)"
   ]
  },
  {
   "cell_type": "code",
   "execution_count": 235,
   "metadata": {
    "ExecuteTime": {
     "end_time": "2021-10-16T05:57:53.267295Z",
     "start_time": "2021-10-16T05:57:53.263489Z"
    }
   },
   "outputs": [],
   "source": [
    "from sklearn import metrics"
   ]
  },
  {
   "cell_type": "code",
   "execution_count": 236,
   "metadata": {
    "ExecuteTime": {
     "end_time": "2021-10-16T05:57:54.743787Z",
     "start_time": "2021-10-16T05:57:54.731676Z"
    }
   },
   "outputs": [],
   "source": [
    "## RMSE Check on the training and Test Data\n",
    "\n",
    "RMSE_lr_train = metrics.mean_squared_error(y_true = y_train, y_pred=regression_model.predict(X_train),squared=False)\n",
    "RMSE_lr_test = metrics.mean_squared_error(y_true = y_test, y_pred=regression_model.predict(X_test), squared=False)"
   ]
  },
  {
   "cell_type": "code",
   "execution_count": 237,
   "metadata": {
    "ExecuteTime": {
     "end_time": "2021-10-16T05:57:56.802936Z",
     "start_time": "2021-10-16T05:57:56.795961Z"
    }
   },
   "outputs": [
    {
     "data": {
      "text/html": [
       "<div>\n",
       "<style scoped>\n",
       "    .dataframe tbody tr th:only-of-type {\n",
       "        vertical-align: middle;\n",
       "    }\n",
       "\n",
       "    .dataframe tbody tr th {\n",
       "        vertical-align: top;\n",
       "    }\n",
       "\n",
       "    .dataframe thead th {\n",
       "        text-align: right;\n",
       "    }\n",
       "</style>\n",
       "<table border=\"1\" class=\"dataframe\">\n",
       "  <thead>\n",
       "    <tr style=\"text-align: right;\">\n",
       "      <th></th>\n",
       "      <th>Train RMSE</th>\n",
       "      <th>Test RMSE</th>\n",
       "    </tr>\n",
       "  </thead>\n",
       "  <tbody>\n",
       "    <tr>\n",
       "      <th>LinearRegression</th>\n",
       "      <td>0.609283</td>\n",
       "      <td>0.62558</td>\n",
       "    </tr>\n",
       "  </tbody>\n",
       "</table>\n",
       "</div>"
      ],
      "text/plain": [
       "                  Train RMSE  Test RMSE\n",
       "LinearRegression    0.609283    0.62558"
      ]
     },
     "execution_count": 237,
     "metadata": {},
     "output_type": "execute_result"
    }
   ],
   "source": [
    "resultsDf = pd.DataFrame({'Train RMSE': [RMSE_lr_train],'Test RMSE': [RMSE_lr_test]},index=['LinearRegression'])\n",
    "resultsDf"
   ]
  },
  {
   "cell_type": "markdown",
   "metadata": {
    "colab_type": "text",
    "id": "NqvVyjZYRSuR"
   },
   "source": [
    "# Regularization"
   ]
  },
  {
   "cell_type": "markdown",
   "metadata": {
    "colab_type": "text",
    "id": "D3U7e_KMPjdk"
   },
   "source": [
    "### Ridge Regression"
   ]
  },
  {
   "cell_type": "markdown",
   "metadata": {
    "colab_type": "text",
    "id": "0rgarMlNUr_z"
   },
   "source": [
    "1. Value of alpha, which is hyperparameter of Ridge, which means that they are not automatically learned by the model instead they have to be set manually. We run a grid search for otimum alpha values\n",
    "2. To find optimum alpha for Ridge Regularization we are applying GridSearchCV"
   ]
  },
  {
   "cell_type": "code",
   "execution_count": 285,
   "metadata": {
    "ExecuteTime": {
     "end_time": "2021-10-16T06:25:41.784407Z",
     "start_time": "2021-10-16T06:25:41.780474Z"
    },
    "colab": {
     "base_uri": "https://localhost:8080/",
     "height": 177
    },
    "colab_type": "code",
    "id": "zk1z8T4G3n9E",
    "outputId": "8d977168-d322-49ef-dab0-000b10dbbd62"
   },
   "outputs": [],
   "source": [
    "\n",
    "from sklearn.linear_model import Ridge\n",
    "from sklearn.model_selection import GridSearchCV, LeaveOneOut\n",
    "\n",
    "# ridge=Ridge()\n",
    "# parameters={'alpha':[1e-1,1e-2,1e-3]}\n",
    "# ridge_regressor=GridSearchCV(ridge,parameters,scoring='neg_mean_squared_error',cv=None)\n",
    "# ridge_regressor.fit(X_train,y_train)\n",
    "## Predict on the training data using the GridSearchCV method\n",
    "\n",
    "#ridge_regressor.best_estimator_.predict(X_train)"
   ]
  },
  {
   "cell_type": "code",
   "execution_count": 259,
   "metadata": {
    "ExecuteTime": {
     "end_time": "2021-10-16T06:04:52.516591Z",
     "start_time": "2021-10-16T06:04:52.513412Z"
    }
   },
   "outputs": [],
   "source": [
    "from sklearn.linear_model import RidgeCV"
   ]
  },
  {
   "cell_type": "code",
   "execution_count": 275,
   "metadata": {
    "ExecuteTime": {
     "end_time": "2021-10-16T06:08:39.573797Z",
     "start_time": "2021-10-16T06:08:39.570008Z"
    }
   },
   "outputs": [],
   "source": [
    "model = RidgeCV(alphas=(list(np.arange(0.01,0.1,0.005))),scoring='neg_mean_squared_error',cv=LeaveOneOut())"
   ]
  },
  {
   "cell_type": "code",
   "execution_count": 276,
   "metadata": {
    "ExecuteTime": {
     "end_time": "2021-10-16T06:13:43.159471Z",
     "start_time": "2021-10-16T06:08:39.973746Z"
    }
   },
   "outputs": [
    {
     "data": {
      "text/plain": [
       "RidgeCV(alphas=array([0.01 , 0.015, 0.02 , 0.025, 0.03 , 0.035, 0.04 , 0.045, 0.05 ,\n",
       "       0.055, 0.06 , 0.065, 0.07 , 0.075, 0.08 , 0.085, 0.09 , 0.095]),\n",
       "        cv=LeaveOneOut(), scoring='neg_mean_squared_error')"
      ]
     },
     "execution_count": 276,
     "metadata": {},
     "output_type": "execute_result"
    }
   ],
   "source": [
    "model.fit(X_train,y_train)"
   ]
  },
  {
   "cell_type": "code",
   "execution_count": 283,
   "metadata": {
    "ExecuteTime": {
     "end_time": "2021-10-16T06:24:55.536549Z",
     "start_time": "2021-10-16T06:24:55.530448Z"
    }
   },
   "outputs": [
    {
     "data": {
      "text/plain": [
       "0.09499999999999999"
      ]
     },
     "execution_count": 283,
     "metadata": {},
     "output_type": "execute_result"
    }
   ],
   "source": [
    "model.alpha_"
   ]
  },
  {
   "cell_type": "code",
   "execution_count": 286,
   "metadata": {
    "ExecuteTime": {
     "end_time": "2021-10-16T06:26:06.445565Z",
     "start_time": "2021-10-16T06:26:06.435436Z"
    }
   },
   "outputs": [
    {
     "data": {
      "text/plain": [
       "0.7429671132419827"
      ]
     },
     "execution_count": 286,
     "metadata": {},
     "output_type": "execute_result"
    }
   ],
   "source": [
    "## Training Data R-square\n",
    "model.score(X_train,y_train)"
   ]
  },
  {
   "cell_type": "code",
   "execution_count": 284,
   "metadata": {
    "ExecuteTime": {
     "end_time": "2021-10-16T06:25:16.530137Z",
     "start_time": "2021-10-16T06:25:16.523596Z"
    }
   },
   "outputs": [
    {
     "data": {
      "text/plain": [
       "array([[4.43771645],\n",
       "       [6.663164  ],\n",
       "       [3.94512996],\n",
       "       ...,\n",
       "       [6.08680433],\n",
       "       [4.06349835],\n",
       "       [3.49524641]])"
      ]
     },
     "execution_count": 284,
     "metadata": {},
     "output_type": "execute_result"
    }
   ],
   "source": [
    "model.predict(X_train)"
   ]
  },
  {
   "cell_type": "code",
   "execution_count": 287,
   "metadata": {
    "ExecuteTime": {
     "end_time": "2021-10-16T06:26:44.346322Z",
     "start_time": "2021-10-16T06:26:44.142520Z"
    },
    "colab": {},
    "colab_type": "code",
    "id": "P8JkTBdyPmc6"
   },
   "outputs": [
    {
     "data": {
      "image/png": "[encoded data removed]",
      "text/plain": [
       "<Figure size 432x288 with 1 Axes>"
      ]
     },
     "metadata": {
      "needs_background": "light"
     },
     "output_type": "display_data"
    }
   ],
   "source": [
    "# ridgeReg = Ridge(alpha=0.1)\n",
    "\n",
    "# ridgeReg.fit(X_train,y_train)\n",
    "\n",
    "#checking the magnitude of coefficients\n",
    "# predictors = X_train.columns\n",
    "\n",
    "coef_ridge = pd.Series(model.coef_.flatten(), predictors).sort_values()\n",
    "\n",
    "coef_ridge.plot(kind='bar', title='Ridge Model Coefficients');"
   ]
  },
  {
   "cell_type": "code",
   "execution_count": 288,
   "metadata": {
    "ExecuteTime": {
     "end_time": "2021-10-16T06:27:03.951399Z",
     "start_time": "2021-10-16T06:27:03.931547Z"
    }
   },
   "outputs": [],
   "source": [
    "## RMSE Check on the training and Test Data\n",
    "\n",
    "RMSE_rr_train = metrics.mean_squared_error(y_true = y_train, y_pred=model.predict(X_train),squared=False)\n",
    "RMSE_rr_test = metrics.mean_squared_error(y_true = y_test, y_pred=model.predict(X_test), squared=False)"
   ]
  },
  {
   "cell_type": "code",
   "execution_count": 289,
   "metadata": {
    "ExecuteTime": {
     "end_time": "2021-10-16T06:27:04.841694Z",
     "start_time": "2021-10-16T06:27:04.831812Z"
    }
   },
   "outputs": [
    {
     "data": {
      "text/html": [
       "<div>\n",
       "<style scoped>\n",
       "    .dataframe tbody tr th:only-of-type {\n",
       "        vertical-align: middle;\n",
       "    }\n",
       "\n",
       "    .dataframe tbody tr th {\n",
       "        vertical-align: top;\n",
       "    }\n",
       "\n",
       "    .dataframe thead th {\n",
       "        text-align: right;\n",
       "    }\n",
       "</style>\n",
       "<table border=\"1\" class=\"dataframe\">\n",
       "  <thead>\n",
       "    <tr style=\"text-align: right;\">\n",
       "      <th></th>\n",
       "      <th>Train RMSE</th>\n",
       "      <th>Test RMSE</th>\n",
       "    </tr>\n",
       "  </thead>\n",
       "  <tbody>\n",
       "    <tr>\n",
       "      <th>LinearRegression</th>\n",
       "      <td>0.609283</td>\n",
       "      <td>0.625580</td>\n",
       "    </tr>\n",
       "    <tr>\n",
       "      <th>RidgeRegression</th>\n",
       "      <td>0.609283</td>\n",
       "      <td>0.625598</td>\n",
       "    </tr>\n",
       "  </tbody>\n",
       "</table>\n",
       "</div>"
      ],
      "text/plain": [
       "                  Train RMSE  Test RMSE\n",
       "LinearRegression    0.609283   0.625580\n",
       "RidgeRegression     0.609283   0.625598"
      ]
     },
     "execution_count": 289,
     "metadata": {},
     "output_type": "execute_result"
    }
   ],
   "source": [
    "resultsDf_2 = pd.DataFrame({'Train RMSE': [RMSE_rr_train],'Test RMSE': [RMSE_rr_test]},index=['RidgeRegression'])\n",
    "\n",
    "resultsDf = pd.concat([resultsDf, resultsDf_2])\n",
    "resultsDf"
   ]
  },
  {
   "cell_type": "markdown",
   "metadata": {
    "colab_type": "text",
    "id": "OY0AKOCpSEd_"
   },
   "source": [
    "### Lasso regression"
   ]
  },
  {
   "cell_type": "code",
   "execution_count": 311,
   "metadata": {
    "ExecuteTime": {
     "end_time": "2021-10-16T06:37:50.943156Z",
     "start_time": "2021-10-16T06:36:52.915483Z"
    },
    "colab": {
     "base_uri": "https://localhost:8080/",
     "height": 195
    },
    "colab_type": "code",
    "id": "QgkitCG635db",
    "outputId": "07dd43c0-48a8-4d31-eaf5-b43de8fda44a"
   },
   "outputs": [
    {
     "data": {
      "text/plain": [
       "GridSearchCV(cv=LeaveOneOut(), estimator=Lasso(), n_jobs=-1,\n",
       "             param_grid={'alpha': [1e-10, 1e-09, 1e-08, 10000000000.0,\n",
       "                                   1000000000.0, 100000000.0]},\n",
       "             scoring='neg_mean_squared_error')"
      ]
     },
     "execution_count": 311,
     "metadata": {},
     "output_type": "execute_result"
    }
   ],
   "source": [
    "#Optimizing for alpha\n",
    "from sklearn.linear_model import Lasso,LassoCV\n",
    "lasso=Lasso()\n",
    "parameters={'alpha':[1e-10,1e-9,1e-8,1e10,1e9,1e8]}\n",
    "lasso_regressor=GridSearchCV(lasso,parameters,scoring='neg_mean_squared_error',cv=LeaveOneOut(),n_jobs=-1)\n",
    "\n",
    "lasso_regressor.fit(X_train,y_train)"
   ]
  },
  {
   "cell_type": "code",
   "execution_count": 312,
   "metadata": {
    "ExecuteTime": {
     "end_time": "2021-10-16T06:37:59.061428Z",
     "start_time": "2021-10-16T06:37:59.055854Z"
    },
    "colab": {
     "base_uri": "https://localhost:8080/",
     "height": 52
    },
    "colab_type": "code",
    "id": "i_3N25m-GTZN",
    "outputId": "2211cadb-be48-461f-9d1c-67b3a6723da2"
   },
   "outputs": [
    {
     "name": "stdout",
     "output_type": "stream",
     "text": [
      "{'alpha': 1e-08}\n"
     ]
    }
   ],
   "source": [
    "print(lasso_regressor.best_params_)"
   ]
  },
  {
   "cell_type": "code",
   "execution_count": 310,
   "metadata": {
    "ExecuteTime": {
     "end_time": "2021-10-16T06:36:09.153441Z",
     "start_time": "2021-10-16T06:36:09.150517Z"
    },
    "scrolled": true
   },
   "outputs": [],
   "source": [
    "# lasso_regressor.cv_results_"
   ]
  },
  {
   "cell_type": "code",
   "execution_count": 313,
   "metadata": {
    "ExecuteTime": {
     "end_time": "2021-10-16T06:38:51.920153Z",
     "start_time": "2021-10-16T06:38:51.683721Z"
    },
    "colab": {},
    "colab_type": "code",
    "id": "UBoDo69lQfTF"
   },
   "outputs": [
    {
     "data": {
      "image/png": "[encoded data removed]",
      "text/plain": [
       "<Figure size 432x288 with 1 Axes>"
      ]
     },
     "metadata": {
      "needs_background": "light"
     },
     "output_type": "display_data"
    }
   ],
   "source": [
    "\n",
    "\n",
    "lassoReg = Lasso(alpha=1e-8)\n",
    "\n",
    "lassoReg.fit(X_train,y_train)\n",
    "\n",
    "# pred1 = lassoReg.predict(X_test)\n",
    "\n",
    "\n",
    "coef_lasso = pd.Series(lassoReg.coef_.flatten(), predictors).sort_values()\n",
    "\n",
    "coef_lasso.plot(kind='bar', title='Lasso Model Coefficients');"
   ]
  },
  {
   "cell_type": "code",
   "execution_count": 314,
   "metadata": {
    "ExecuteTime": {
     "end_time": "2021-10-16T06:38:52.570484Z",
     "start_time": "2021-10-16T06:38:52.559976Z"
    },
    "colab": {
     "base_uri": "https://localhost:8080/",
     "height": 479
    },
    "colab_type": "code",
    "id": "s-KpyIV4GTZS",
    "outputId": "cc45e399-46ec-4d68-a6b3-39c306aa818b"
   },
   "outputs": [
    {
     "name": "stdout",
     "output_type": "stream",
     "text": [
      "                         Columns  Coefficient Estimate\n",
      "0                           week             -0.010000\n",
      "1                    final_price             -0.548774\n",
      "2                     unit_price              0.217644\n",
      "3                     area_range              0.185920\n",
      "4   website_homepage_mention_1.0              0.305068\n",
      "5          food_category_Biryani             -0.219240\n",
      "6           food_category_Desert              0.390497\n",
      "7           food_category_Extras             -0.261029\n",
      "8     food_category_Other Snacks             -0.485542\n",
      "9            food_category_Pasta             -0.810037\n",
      "10           food_category_Pizza              0.386279\n",
      "11       food_category_Rice Bowl              1.524304\n",
      "12           food_category_Salad              0.134952\n",
      "13        food_category_Sandwich              0.253059\n",
      "14         food_category_Seafood             -0.175973\n",
      "15            food_category_Soup             -0.976538\n",
      "16        food_category_Starters             -0.407316\n",
      "17                cuisine_Indian             -1.061311\n",
      "18               cuisine_Italian              0.037530\n",
      "19             home_delivery_1.0              1.055542\n",
      "20               night_service_1             -0.007268\n"
     ]
    }
   ],
   "source": [
    "# get Lasso coefficient and print them \n",
    "Lasso_coefficient = pd.DataFrame() \n",
    "Lasso_coefficient[\"Columns\"]= X_train.columns \n",
    "Lasso_coefficient['Coefficient Estimate'] = pd.Series(lassoReg.coef_) \n",
    "print(Lasso_coefficient) "
   ]
  },
  {
   "cell_type": "code",
   "execution_count": 315,
   "metadata": {
    "ExecuteTime": {
     "end_time": "2021-10-16T06:39:01.900551Z",
     "start_time": "2021-10-16T06:39:01.887236Z"
    },
    "colab": {
     "base_uri": "https://localhost:8080/",
     "height": 35
    },
    "colab_type": "code",
    "id": "rBpK0FZJTPqq",
    "outputId": "b870b13c-cd05-4346-85dd-1c0d9bb94658"
   },
   "outputs": [
    {
     "name": "stdout",
     "output_type": "stream",
     "text": [
      "0.7429673690886986\n",
      "0.7447570801068207\n"
     ]
    }
   ],
   "source": [
    "print(lassoReg.score(X_train,y_train))\n",
    "print(lassoReg.score(X_test,y_test))"
   ]
  },
  {
   "cell_type": "code",
   "execution_count": 316,
   "metadata": {
    "ExecuteTime": {
     "end_time": "2021-10-16T06:39:07.027035Z",
     "start_time": "2021-10-16T06:39:07.009497Z"
    },
    "colab": {
     "base_uri": "https://localhost:8080/",
     "height": 52
    },
    "colab_type": "code",
    "id": "19-QK12mSRnx",
    "outputId": "13eb8c3d-5ed9-4197-e8b9-7f2e185a1359"
   },
   "outputs": [],
   "source": [
    "## RMSE Check on the training and Test Data\n",
    "\n",
    "RMSE_la_train = metrics.mean_squared_error(y_true = y_train, y_pred=lasso_regressor.best_estimator_.predict(X_train),squared=False)\n",
    "RMSE_la_test = metrics.mean_squared_error(y_true = y_test, y_pred=lasso_regressor.best_estimator_.predict(X_test), squared=False)"
   ]
  },
  {
   "cell_type": "code",
   "execution_count": 317,
   "metadata": {
    "ExecuteTime": {
     "end_time": "2021-10-16T06:39:07.539513Z",
     "start_time": "2021-10-16T06:39:07.529107Z"
    }
   },
   "outputs": [
    {
     "data": {
      "text/html": [
       "<div>\n",
       "<style scoped>\n",
       "    .dataframe tbody tr th:only-of-type {\n",
       "        vertical-align: middle;\n",
       "    }\n",
       "\n",
       "    .dataframe tbody tr th {\n",
       "        vertical-align: top;\n",
       "    }\n",
       "\n",
       "    .dataframe thead th {\n",
       "        text-align: right;\n",
       "    }\n",
       "</style>\n",
       "<table border=\"1\" class=\"dataframe\">\n",
       "  <thead>\n",
       "    <tr style=\"text-align: right;\">\n",
       "      <th></th>\n",
       "      <th>Train RMSE</th>\n",
       "      <th>Test RMSE</th>\n",
       "    </tr>\n",
       "  </thead>\n",
       "  <tbody>\n",
       "    <tr>\n",
       "      <th>LinearRegression</th>\n",
       "      <td>0.609283</td>\n",
       "      <td>0.625580</td>\n",
       "    </tr>\n",
       "    <tr>\n",
       "      <th>RidgeRegression</th>\n",
       "      <td>0.609283</td>\n",
       "      <td>0.625598</td>\n",
       "    </tr>\n",
       "    <tr>\n",
       "      <th>LassoRegression</th>\n",
       "      <td>0.609283</td>\n",
       "      <td>0.625580</td>\n",
       "    </tr>\n",
       "  </tbody>\n",
       "</table>\n",
       "</div>"
      ],
      "text/plain": [
       "                  Train RMSE  Test RMSE\n",
       "LinearRegression    0.609283   0.625580\n",
       "RidgeRegression     0.609283   0.625598\n",
       "LassoRegression     0.609283   0.625580"
      ]
     },
     "execution_count": 317,
     "metadata": {},
     "output_type": "execute_result"
    }
   ],
   "source": [
    "resultsDf_2 = pd.DataFrame({'Train RMSE': [RMSE_la_train],'Test RMSE': [RMSE_la_test]},index=['LassoRegression'])\n",
    "\n",
    "resultsDf = pd.concat([resultsDf, resultsDf_2])\n",
    "resultsDf"
   ]
  },
  {
   "cell_type": "markdown",
   "metadata": {
    "colab_type": "text",
    "id": "ZVgNQB73Tfb-"
   },
   "source": [
    "### Elastic Net Regression"
   ]
  },
  {
   "cell_type": "code",
   "execution_count": 321,
   "metadata": {
    "ExecuteTime": {
     "end_time": "2021-10-16T06:58:16.291441Z",
     "start_time": "2021-10-16T06:48:23.764149Z"
    },
    "colab": {
     "base_uri": "https://localhost:8080/",
     "height": 212
    },
    "colab_type": "code",
    "id": "dU9zG9Z7GTZe",
    "outputId": "fa028306-a0c6-40c7-a42c-8a88ed6001d2"
   },
   "outputs": [
    {
     "data": {
      "text/plain": [
       "GridSearchCV(cv=LeaveOneOut(), estimator=ElasticNet(), n_jobs=-1,\n",
       "             param_grid={'alpha': [1e-10, 1e-09, 1e-08, 10000000000.0,\n",
       "                                   1000000000.0, 100000000.0],\n",
       "                         'l1_ratio': [0.1, 0.189, 0.278, 0.367, 0.456, 0.544,\n",
       "                                      0.633, 0.722, 0.811, 0.9]},\n",
       "             scoring='neg_mean_squared_error')"
      ]
     },
     "execution_count": 321,
     "metadata": {},
     "output_type": "execute_result"
    }
   ],
   "source": [
    "from sklearn.linear_model import ElasticNet\n",
    "Elasticnet=ElasticNet()\n",
    "parameters={'alpha':[1e-10,1e-9,1e-8,1e10,1e9,1e8],\n",
    "            'l1_ratio':[0.100,0.189,0.278,0.367,0.456,0.544,0.633,0.722,0.811,0.900]}\n",
    "Elasticnet_regressor=GridSearchCV(Elasticnet,parameters,scoring='neg_mean_squared_error',cv=LeaveOneOut(),n_jobs=-1)\n",
    "\n",
    "Elasticnet_regressor.fit(X_train,y_train)"
   ]
  },
  {
   "cell_type": "code",
   "execution_count": 323,
   "metadata": {
    "ExecuteTime": {
     "end_time": "2021-10-16T06:59:31.211842Z",
     "start_time": "2021-10-16T06:59:31.206384Z"
    },
    "colab": {
     "base_uri": "https://localhost:8080/",
     "height": 52
    },
    "colab_type": "code",
    "id": "LdA3O1L9GTZh",
    "outputId": "77acfe40-cd65-4484-80a9-434e52bd723c"
   },
   "outputs": [
    {
     "data": {
      "text/plain": [
       "{'alpha': 1e-08, 'l1_ratio': 0.1}"
      ]
     },
     "execution_count": 323,
     "metadata": {},
     "output_type": "execute_result"
    }
   ],
   "source": [
    "Elasticnet_regressor.best_params_"
   ]
  },
  {
   "cell_type": "code",
   "execution_count": 324,
   "metadata": {
    "ExecuteTime": {
     "end_time": "2021-10-16T07:00:38.676444Z",
     "start_time": "2021-10-16T07:00:38.646400Z"
    },
    "colab": {},
    "colab_type": "code",
    "id": "HL1GjGL5TdpD"
   },
   "outputs": [],
   "source": [
    "ENreg = ElasticNet(alpha=1e-08, l1_ratio=0.1)\n",
    "\n",
    "ENreg.fit(X_train,y_train)\n",
    "\n",
    "pred_test = ENreg.predict(X_test)"
   ]
  },
  {
   "cell_type": "code",
   "execution_count": 325,
   "metadata": {
    "ExecuteTime": {
     "end_time": "2021-10-16T07:00:46.004698Z",
     "start_time": "2021-10-16T07:00:45.800074Z"
    },
    "colab": {
     "base_uri": "https://localhost:8080/",
     "height": 649
    },
    "colab_type": "code",
    "id": "s7ZKK73Ig5kJ",
    "outputId": "183e88fb-a0fd-4c73-a301-2ec28ec96091"
   },
   "outputs": [
    {
     "data": {
      "image/png": "[encoded data removed]",
      "text/plain": [
       "<Figure size 432x288 with 1 Axes>"
      ]
     },
     "metadata": {
      "needs_background": "light"
     },
     "output_type": "display_data"
    }
   ],
   "source": [
    "coef = pd.Series(ENreg.coef_,predictors).sort_values()\n",
    "\n",
    "coef.plot(kind='bar', title='Model Coefficients');"
   ]
  },
  {
   "cell_type": "code",
   "execution_count": 326,
   "metadata": {
    "ExecuteTime": {
     "end_time": "2021-10-16T07:00:54.601735Z",
     "start_time": "2021-10-16T07:00:54.591587Z"
    },
    "colab": {
     "base_uri": "https://localhost:8080/",
     "height": 479
    },
    "colab_type": "code",
    "id": "VspzUsVdGTZo",
    "outputId": "e21faab1-b8ca-4861-b066-db7038c3740d"
   },
   "outputs": [
    {
     "name": "stdout",
     "output_type": "stream",
     "text": [
      "                         Columns  Coefficient Estimate\n",
      "0                           week             -0.010000\n",
      "1                    final_price             -0.548774\n",
      "2                     unit_price              0.217644\n",
      "3                     area_range              0.185920\n",
      "4   website_homepage_mention_1.0              0.305068\n",
      "5          food_category_Biryani             -0.219240\n",
      "6           food_category_Desert              0.390496\n",
      "7           food_category_Extras             -0.261029\n",
      "8     food_category_Other Snacks             -0.485542\n",
      "9            food_category_Pasta             -0.810037\n",
      "10           food_category_Pizza              0.386279\n",
      "11       food_category_Rice Bowl              1.524304\n",
      "12           food_category_Salad              0.134952\n",
      "13        food_category_Sandwich              0.253059\n",
      "14         food_category_Seafood             -0.175973\n",
      "15            food_category_Soup             -0.976538\n",
      "16        food_category_Starters             -0.407316\n",
      "17                cuisine_Indian             -1.061310\n",
      "18               cuisine_Italian              0.037530\n",
      "19             home_delivery_1.0              1.055542\n",
      "20               night_service_1             -0.007268\n"
     ]
    }
   ],
   "source": [
    "# get ElasticNet coefficient and print them \n",
    "Elasticnet_coefficient = pd.DataFrame() \n",
    "Elasticnet_coefficient[\"Columns\"]= X_train.columns \n",
    "Elasticnet_coefficient['Coefficient Estimate'] = pd.Series(ENreg.coef_) \n",
    "print(Elasticnet_coefficient)"
   ]
  },
  {
   "cell_type": "code",
   "execution_count": 328,
   "metadata": {
    "ExecuteTime": {
     "end_time": "2021-10-16T07:02:37.006182Z",
     "start_time": "2021-10-16T07:02:36.951791Z"
    },
    "colab": {
     "base_uri": "https://localhost:8080/",
     "height": 52
    },
    "colab_type": "code",
    "id": "VoOF3ykATu40",
    "outputId": "96b92adb-e32e-41cc-f6c5-aff9bcab3ab7"
   },
   "outputs": [],
   "source": [
    "## RMSE Check on the training and Test Data\n",
    "\n",
    "RMSE_en_train = metrics.mean_squared_error(y_true = y_train, y_pred=Elasticnet_regressor.best_estimator_.predict(X_train),squared=False)\n",
    "RMSE_en_test = metrics.mean_squared_error(y_true = y_test, y_pred=Elasticnet_regressor.best_estimator_.predict(X_test), squared=False)"
   ]
  },
  {
   "cell_type": "code",
   "execution_count": 329,
   "metadata": {
    "ExecuteTime": {
     "end_time": "2021-10-16T07:04:14.497380Z",
     "start_time": "2021-10-16T07:04:14.485318Z"
    },
    "colab": {
     "base_uri": "https://localhost:8080/",
     "height": 35
    },
    "colab_type": "code",
    "id": "7HShBcwcUD4b",
    "outputId": "b71b2b3d-a1d5-4cb9-f87c-d6575ec4bb34"
   },
   "outputs": [
    {
     "data": {
      "text/html": [
       "<div>\n",
       "<style scoped>\n",
       "    .dataframe tbody tr th:only-of-type {\n",
       "        vertical-align: middle;\n",
       "    }\n",
       "\n",
       "    .dataframe tbody tr th {\n",
       "        vertical-align: top;\n",
       "    }\n",
       "\n",
       "    .dataframe thead th {\n",
       "        text-align: right;\n",
       "    }\n",
       "</style>\n",
       "<table border=\"1\" class=\"dataframe\">\n",
       "  <thead>\n",
       "    <tr style=\"text-align: right;\">\n",
       "      <th></th>\n",
       "      <th>Train RMSE</th>\n",
       "      <th>Test RMSE</th>\n",
       "    </tr>\n",
       "  </thead>\n",
       "  <tbody>\n",
       "    <tr>\n",
       "      <th>LinearRegression</th>\n",
       "      <td>0.609283</td>\n",
       "      <td>0.625580</td>\n",
       "    </tr>\n",
       "    <tr>\n",
       "      <th>RidgeRegression</th>\n",
       "      <td>0.609283</td>\n",
       "      <td>0.625598</td>\n",
       "    </tr>\n",
       "    <tr>\n",
       "      <th>LassoRegression</th>\n",
       "      <td>0.609283</td>\n",
       "      <td>0.625580</td>\n",
       "    </tr>\n",
       "    <tr>\n",
       "      <th>ElasticNetRegression</th>\n",
       "      <td>0.609283</td>\n",
       "      <td>0.625580</td>\n",
       "    </tr>\n",
       "  </tbody>\n",
       "</table>\n",
       "</div>"
      ],
      "text/plain": [
       "                      Train RMSE  Test RMSE\n",
       "LinearRegression        0.609283   0.625580\n",
       "RidgeRegression         0.609283   0.625598\n",
       "LassoRegression         0.609283   0.625580\n",
       "ElasticNetRegression    0.609283   0.625580"
      ]
     },
     "execution_count": 329,
     "metadata": {},
     "output_type": "execute_result"
    }
   ],
   "source": [
    "resultsDf_2 = pd.DataFrame({'Train RMSE': [RMSE_en_train],'Test RMSE': [RMSE_en_test]},index=['ElasticNetRegression'])\n",
    "\n",
    "resultsDf = pd.concat([resultsDf, resultsDf_2])\n",
    "resultsDf"
   ]
  },
  {
   "cell_type": "code",
   "execution_count": null,
   "metadata": {},
   "outputs": [],
   "source": []
  }
 ],
 "metadata": {
  "colab": {
   "collapsed_sections": [],
   "name": "Multiple_Linear_Regression_Food_Solution_final.ipynb",
   "provenance": []
  },
  "kernelspec": {
   "display_name": "Python 3 (ipykernel)",
   "language": "python",
   "name": "python3"
  },
  "language_info": {
   "codemirror_mode": {
    "name": "ipython",
    "version": 3
   },
   "file_extension": ".py",
   "mimetype": "text/x-python",
   "name": "python",
   "nbconvert_exporter": "python",
   "pygments_lexer": "ipython3",
   "version": "3.8.11"
  },
  "toc": {
   "base_numbering": 1,
   "nav_menu": {},
   "number_sections": true,
   "sideBar": true,
   "skip_h1_title": false,
   "title_cell": "Table of Contents",
   "title_sidebar": "Contents",
   "toc_cell": false,
   "toc_position": {},
   "toc_section_display": true,
   "toc_window_display": false
  },
  "varInspector": {
   "cols": {
    "lenName": 16,
    "lenType": 16,
    "lenVar": 40
   },
   "kernels_config": {
    "python": {
     "delete_cmd_postfix": "",
     "delete_cmd_prefix": "del ",
     "library": "var_list.py",
     "varRefreshCmd": "print(var_dic_list())"
    },
    "r": {
     "delete_cmd_postfix": ") ",
     "delete_cmd_prefix": "rm(",
     "library": "var_list.r",
     "varRefreshCmd": "cat(var_dic_list()) "
    }
   },
   "types_to_exclude": [
    "module",
    "function",
    "builtin_function_or_method",
    "instance",
    "_Feature"
   ],
   "window_display": false
  }
 },
 "nbformat": 4,
 "nbformat_minor": 1
}
