{
 "cells": [
  {
   "cell_type": "markdown",
   "metadata": {},
   "source": [
    "# Case Study - Wine Quality Prediction"
   ]
  },
  {
   "cell_type": "markdown",
   "metadata": {},
   "source": [
    "# Dataset:\n",
    "https://www.kaggle.com/uciml/red-wine-quality-cortez-et-al-2009\n",
    "\n",
    "This dataset is also available from the UCI machine learning repository, https://archive.ics.uci.edu/ml/datasets/wine+quality "
   ]
  },
  {
   "cell_type": "markdown",
   "metadata": {},
   "source": [
    "# Problem Statement:\n",
    "    \n",
    "Wine Quality Prediction- Here, we will apply a method of assessing wine quality using a decision tree, and test it against the \n",
    "wine-quality dataset from the UC Irvine Machine Learning Repository.\n",
    "The wine dataset is a classic and very easy multi-class classification dataset."
   ]
  },
  {
   "cell_type": "markdown",
   "metadata": {},
   "source": [
    "# Import all necessary modules and load the data"
   ]
  },
  {
   "cell_type": "code",
   "execution_count": 33,
   "metadata": {
    "ExecuteTime": {
     "end_time": "2021-11-10T10:30:12.870038Z",
     "start_time": "2021-11-10T10:30:12.846307Z"
    }
   },
   "outputs": [],
   "source": [
    "%matplotlib inline\n",
    "import numpy as np\n",
    "import pandas as pd\n",
    "import pandas as pd\n",
    "import seaborn as sns\n",
    "from matplotlib import pyplot as plt\n",
    "from sklearn.model_selection import train_test_split\n",
    "from sklearn import metrics\n",
    "from sklearn.metrics import accuracy_score,f1_score,recall_score,precision_score, confusion_matrix\n"
   ]
  },
  {
   "cell_type": "code",
   "execution_count": 34,
   "metadata": {
    "ExecuteTime": {
     "end_time": "2021-11-10T10:30:13.317580Z",
     "start_time": "2021-11-10T10:30:13.292762Z"
    }
   },
   "outputs": [],
   "source": [
    "df = pd.read_csv('US_Heart_Patients.csv')"
   ]
  },
  {
   "cell_type": "markdown",
   "metadata": {},
   "source": [
    "# Print 10 samples from the dataset"
   ]
  },
  {
   "cell_type": "code",
   "execution_count": 35,
   "metadata": {
    "ExecuteTime": {
     "end_time": "2021-11-10T10:30:14.091825Z",
     "start_time": "2021-11-10T10:30:14.058932Z"
    }
   },
   "outputs": [
    {
     "data": {
      "text/html": [
       "<div>\n",
       "<style scoped>\n",
       "    .dataframe tbody tr th:only-of-type {\n",
       "        vertical-align: middle;\n",
       "    }\n",
       "\n",
       "    .dataframe tbody tr th {\n",
       "        vertical-align: top;\n",
       "    }\n",
       "\n",
       "    .dataframe thead th {\n",
       "        text-align: right;\n",
       "    }\n",
       "</style>\n",
       "<table border=\"1\" class=\"dataframe\">\n",
       "  <thead>\n",
       "    <tr style=\"text-align: right;\">\n",
       "      <th></th>\n",
       "      <th>age</th>\n",
       "      <th>education</th>\n",
       "      <th>cigsPerDay</th>\n",
       "      <th>tot cholesterol</th>\n",
       "      <th>Systolic BP</th>\n",
       "      <th>Diastolic BP</th>\n",
       "      <th>BMI</th>\n",
       "      <th>heartRate</th>\n",
       "      <th>glucose</th>\n",
       "      <th>Heart-Att</th>\n",
       "    </tr>\n",
       "  </thead>\n",
       "  <tbody>\n",
       "    <tr>\n",
       "      <th>0</th>\n",
       "      <td>39.0</td>\n",
       "      <td>4.0</td>\n",
       "      <td>0.0</td>\n",
       "      <td>195.0</td>\n",
       "      <td>106.0</td>\n",
       "      <td>70.0</td>\n",
       "      <td>26.97</td>\n",
       "      <td>80.0</td>\n",
       "      <td>77.0</td>\n",
       "      <td>0</td>\n",
       "    </tr>\n",
       "    <tr>\n",
       "      <th>1</th>\n",
       "      <td>46.0</td>\n",
       "      <td>2.0</td>\n",
       "      <td>0.0</td>\n",
       "      <td>250.0</td>\n",
       "      <td>121.0</td>\n",
       "      <td>81.0</td>\n",
       "      <td>28.73</td>\n",
       "      <td>95.0</td>\n",
       "      <td>76.0</td>\n",
       "      <td>0</td>\n",
       "    </tr>\n",
       "    <tr>\n",
       "      <th>2</th>\n",
       "      <td>48.0</td>\n",
       "      <td>1.0</td>\n",
       "      <td>20.0</td>\n",
       "      <td>245.0</td>\n",
       "      <td>127.5</td>\n",
       "      <td>80.0</td>\n",
       "      <td>25.34</td>\n",
       "      <td>75.0</td>\n",
       "      <td>70.0</td>\n",
       "      <td>0</td>\n",
       "    </tr>\n",
       "    <tr>\n",
       "      <th>3</th>\n",
       "      <td>61.0</td>\n",
       "      <td>3.0</td>\n",
       "      <td>30.0</td>\n",
       "      <td>225.0</td>\n",
       "      <td>150.0</td>\n",
       "      <td>95.0</td>\n",
       "      <td>28.58</td>\n",
       "      <td>65.0</td>\n",
       "      <td>103.0</td>\n",
       "      <td>1</td>\n",
       "    </tr>\n",
       "    <tr>\n",
       "      <th>4</th>\n",
       "      <td>46.0</td>\n",
       "      <td>3.0</td>\n",
       "      <td>23.0</td>\n",
       "      <td>285.0</td>\n",
       "      <td>130.0</td>\n",
       "      <td>84.0</td>\n",
       "      <td>23.10</td>\n",
       "      <td>85.0</td>\n",
       "      <td>85.0</td>\n",
       "      <td>0</td>\n",
       "    </tr>\n",
       "    <tr>\n",
       "      <th>5</th>\n",
       "      <td>43.0</td>\n",
       "      <td>2.0</td>\n",
       "      <td>0.0</td>\n",
       "      <td>228.0</td>\n",
       "      <td>180.0</td>\n",
       "      <td>110.0</td>\n",
       "      <td>30.30</td>\n",
       "      <td>77.0</td>\n",
       "      <td>99.0</td>\n",
       "      <td>0</td>\n",
       "    </tr>\n",
       "    <tr>\n",
       "      <th>6</th>\n",
       "      <td>63.0</td>\n",
       "      <td>1.0</td>\n",
       "      <td>0.0</td>\n",
       "      <td>205.0</td>\n",
       "      <td>138.0</td>\n",
       "      <td>71.0</td>\n",
       "      <td>33.11</td>\n",
       "      <td>60.0</td>\n",
       "      <td>85.0</td>\n",
       "      <td>1</td>\n",
       "    </tr>\n",
       "    <tr>\n",
       "      <th>7</th>\n",
       "      <td>45.0</td>\n",
       "      <td>2.0</td>\n",
       "      <td>20.0</td>\n",
       "      <td>313.0</td>\n",
       "      <td>100.0</td>\n",
       "      <td>71.0</td>\n",
       "      <td>21.68</td>\n",
       "      <td>79.0</td>\n",
       "      <td>78.0</td>\n",
       "      <td>0</td>\n",
       "    </tr>\n",
       "    <tr>\n",
       "      <th>8</th>\n",
       "      <td>52.0</td>\n",
       "      <td>1.0</td>\n",
       "      <td>0.0</td>\n",
       "      <td>260.0</td>\n",
       "      <td>141.5</td>\n",
       "      <td>89.0</td>\n",
       "      <td>26.36</td>\n",
       "      <td>76.0</td>\n",
       "      <td>79.0</td>\n",
       "      <td>0</td>\n",
       "    </tr>\n",
       "    <tr>\n",
       "      <th>9</th>\n",
       "      <td>43.0</td>\n",
       "      <td>1.0</td>\n",
       "      <td>30.0</td>\n",
       "      <td>225.0</td>\n",
       "      <td>162.0</td>\n",
       "      <td>107.0</td>\n",
       "      <td>23.61</td>\n",
       "      <td>93.0</td>\n",
       "      <td>88.0</td>\n",
       "      <td>0</td>\n",
       "    </tr>\n",
       "  </tbody>\n",
       "</table>\n",
       "</div>"
      ],
      "text/plain": [
       "    age  education  cigsPerDay  tot cholesterol  Systolic BP  Diastolic BP  \\\n",
       "0  39.0        4.0         0.0            195.0        106.0          70.0   \n",
       "1  46.0        2.0         0.0            250.0        121.0          81.0   \n",
       "2  48.0        1.0        20.0            245.0        127.5          80.0   \n",
       "3  61.0        3.0        30.0            225.0        150.0          95.0   \n",
       "4  46.0        3.0        23.0            285.0        130.0          84.0   \n",
       "5  43.0        2.0         0.0            228.0        180.0         110.0   \n",
       "6  63.0        1.0         0.0            205.0        138.0          71.0   \n",
       "7  45.0        2.0        20.0            313.0        100.0          71.0   \n",
       "8  52.0        1.0         0.0            260.0        141.5          89.0   \n",
       "9  43.0        1.0        30.0            225.0        162.0         107.0   \n",
       "\n",
       "     BMI  heartRate  glucose  Heart-Att  \n",
       "0  26.97       80.0     77.0          0  \n",
       "1  28.73       95.0     76.0          0  \n",
       "2  25.34       75.0     70.0          0  \n",
       "3  28.58       65.0    103.0          1  \n",
       "4  23.10       85.0     85.0          0  \n",
       "5  30.30       77.0     99.0          0  \n",
       "6  33.11       60.0     85.0          1  \n",
       "7  21.68       79.0     78.0          0  \n",
       "8  26.36       76.0     79.0          0  \n",
       "9  23.61       93.0     88.0          0  "
      ]
     },
     "execution_count": 35,
     "metadata": {},
     "output_type": "execute_result"
    }
   ],
   "source": [
    "df.head(10)"
   ]
  },
  {
   "cell_type": "markdown",
   "metadata": {},
   "source": [
    "It is always a good practice to eye-ball raw data to get a feel of the data in terms of number of structure of the file, number \n",
    "of attributes, types of attributes and a general idea of likely challenges in the dataset."
   ]
  },
  {
   "cell_type": "code",
   "execution_count": 36,
   "metadata": {
    "ExecuteTime": {
     "end_time": "2021-11-10T10:30:28.032411Z",
     "start_time": "2021-11-10T10:30:28.015683Z"
    }
   },
   "outputs": [
    {
     "data": {
      "text/plain": [
       "age                  2\n",
       "education          110\n",
       "cigsPerDay          31\n",
       "tot cholesterol     60\n",
       "Systolic BP          4\n",
       "Diastolic BP         5\n",
       "BMI                 24\n",
       "heartRate            4\n",
       "glucose            391\n",
       "Heart-Att            0\n",
       "dtype: int64"
      ]
     },
     "execution_count": 36,
     "metadata": {},
     "output_type": "execute_result"
    }
   ],
   "source": [
    "df.isnull().sum()"
   ]
  },
  {
   "cell_type": "code",
   "execution_count": 38,
   "metadata": {
    "ExecuteTime": {
     "end_time": "2021-11-10T10:30:52.254673Z",
     "start_time": "2021-11-10T10:30:52.239275Z"
    }
   },
   "outputs": [],
   "source": [
    "df.dropna(inplace=True)"
   ]
  },
  {
   "cell_type": "code",
   "execution_count": 39,
   "metadata": {
    "ExecuteTime": {
     "end_time": "2021-11-10T10:30:57.948231Z",
     "start_time": "2021-11-10T10:30:57.924503Z"
    }
   },
   "outputs": [
    {
     "data": {
      "text/plain": [
       "age                0\n",
       "education          0\n",
       "cigsPerDay         0\n",
       "tot cholesterol    0\n",
       "Systolic BP        0\n",
       "Diastolic BP       0\n",
       "BMI                0\n",
       "heartRate          0\n",
       "glucose            0\n",
       "Heart-Att          0\n",
       "dtype: int64"
      ]
     },
     "execution_count": 39,
     "metadata": {},
     "output_type": "execute_result"
    }
   ],
   "source": [
    "df.isnull().sum()"
   ]
  },
  {
   "cell_type": "markdown",
   "metadata": {},
   "source": [
    "# Print the datatypes of each column and the shape of the dataset"
   ]
  },
  {
   "cell_type": "code",
   "execution_count": 40,
   "metadata": {
    "ExecuteTime": {
     "end_time": "2021-11-10T10:30:59.691787Z",
     "start_time": "2021-11-10T10:30:59.676481Z"
    }
   },
   "outputs": [
    {
     "data": {
      "text/plain": [
       "age                float64\n",
       "education          float64\n",
       "cigsPerDay         float64\n",
       "tot cholesterol    float64\n",
       "Systolic BP        float64\n",
       "Diastolic BP       float64\n",
       "BMI                float64\n",
       "heartRate          float64\n",
       "glucose            float64\n",
       "Heart-Att            int64\n",
       "dtype: object"
      ]
     },
     "execution_count": 40,
     "metadata": {},
     "output_type": "execute_result"
    }
   ],
   "source": [
    "df.dtypes"
   ]
  },
  {
   "cell_type": "code",
   "execution_count": 41,
   "metadata": {
    "ExecuteTime": {
     "end_time": "2021-11-10T10:31:00.160748Z",
     "start_time": "2021-11-10T10:31:00.153571Z"
    }
   },
   "outputs": [
    {
     "data": {
      "text/plain": [
       "(3682, 10)"
      ]
     },
     "execution_count": 41,
     "metadata": {},
     "output_type": "execute_result"
    }
   ],
   "source": [
    "df.shape"
   ]
  },
  {
   "cell_type": "markdown",
   "metadata": {},
   "source": [
    "# Print the descriptive statistics of each & every column using describe() function"
   ]
  },
  {
   "cell_type": "code",
   "execution_count": 42,
   "metadata": {
    "ExecuteTime": {
     "end_time": "2021-11-10T10:31:01.975305Z",
     "start_time": "2021-11-10T10:31:01.928133Z"
    }
   },
   "outputs": [
    {
     "data": {
      "text/html": [
       "<div>\n",
       "<style scoped>\n",
       "    .dataframe tbody tr th:only-of-type {\n",
       "        vertical-align: middle;\n",
       "    }\n",
       "\n",
       "    .dataframe tbody tr th {\n",
       "        vertical-align: top;\n",
       "    }\n",
       "\n",
       "    .dataframe thead th {\n",
       "        text-align: right;\n",
       "    }\n",
       "</style>\n",
       "<table border=\"1\" class=\"dataframe\">\n",
       "  <thead>\n",
       "    <tr style=\"text-align: right;\">\n",
       "      <th></th>\n",
       "      <th>count</th>\n",
       "      <th>mean</th>\n",
       "      <th>std</th>\n",
       "      <th>min</th>\n",
       "      <th>25%</th>\n",
       "      <th>50%</th>\n",
       "      <th>75%</th>\n",
       "      <th>max</th>\n",
       "    </tr>\n",
       "  </thead>\n",
       "  <tbody>\n",
       "    <tr>\n",
       "      <th>age</th>\n",
       "      <td>3682.0</td>\n",
       "      <td>49.592613</td>\n",
       "      <td>8.582738</td>\n",
       "      <td>32.00</td>\n",
       "      <td>42.00</td>\n",
       "      <td>49.000</td>\n",
       "      <td>56.000</td>\n",
       "      <td>70.0</td>\n",
       "    </tr>\n",
       "    <tr>\n",
       "      <th>education</th>\n",
       "      <td>3682.0</td>\n",
       "      <td>1.980445</td>\n",
       "      <td>1.024634</td>\n",
       "      <td>1.00</td>\n",
       "      <td>1.00</td>\n",
       "      <td>2.000</td>\n",
       "      <td>3.000</td>\n",
       "      <td>4.0</td>\n",
       "    </tr>\n",
       "    <tr>\n",
       "      <th>cigsPerDay</th>\n",
       "      <td>3682.0</td>\n",
       "      <td>9.020641</td>\n",
       "      <td>11.932328</td>\n",
       "      <td>0.00</td>\n",
       "      <td>0.00</td>\n",
       "      <td>0.000</td>\n",
       "      <td>20.000</td>\n",
       "      <td>70.0</td>\n",
       "    </tr>\n",
       "    <tr>\n",
       "      <th>tot cholesterol</th>\n",
       "      <td>3682.0</td>\n",
       "      <td>236.881043</td>\n",
       "      <td>44.261399</td>\n",
       "      <td>113.00</td>\n",
       "      <td>206.00</td>\n",
       "      <td>234.000</td>\n",
       "      <td>263.000</td>\n",
       "      <td>600.0</td>\n",
       "    </tr>\n",
       "    <tr>\n",
       "      <th>Systolic BP</th>\n",
       "      <td>3682.0</td>\n",
       "      <td>132.487778</td>\n",
       "      <td>22.168086</td>\n",
       "      <td>83.50</td>\n",
       "      <td>117.00</td>\n",
       "      <td>128.000</td>\n",
       "      <td>144.000</td>\n",
       "      <td>295.0</td>\n",
       "    </tr>\n",
       "    <tr>\n",
       "      <th>Diastolic BP</th>\n",
       "      <td>3682.0</td>\n",
       "      <td>82.943509</td>\n",
       "      <td>12.010390</td>\n",
       "      <td>48.00</td>\n",
       "      <td>75.00</td>\n",
       "      <td>82.000</td>\n",
       "      <td>90.000</td>\n",
       "      <td>142.5</td>\n",
       "    </tr>\n",
       "    <tr>\n",
       "      <th>BMI</th>\n",
       "      <td>3682.0</td>\n",
       "      <td>25.779359</td>\n",
       "      <td>4.066247</td>\n",
       "      <td>15.54</td>\n",
       "      <td>23.07</td>\n",
       "      <td>25.375</td>\n",
       "      <td>28.015</td>\n",
       "      <td>56.8</td>\n",
       "    </tr>\n",
       "    <tr>\n",
       "      <th>heartRate</th>\n",
       "      <td>3682.0</td>\n",
       "      <td>75.695817</td>\n",
       "      <td>11.911579</td>\n",
       "      <td>44.00</td>\n",
       "      <td>68.00</td>\n",
       "      <td>75.000</td>\n",
       "      <td>82.000</td>\n",
       "      <td>143.0</td>\n",
       "    </tr>\n",
       "    <tr>\n",
       "      <th>glucose</th>\n",
       "      <td>3682.0</td>\n",
       "      <td>81.848995</td>\n",
       "      <td>23.845332</td>\n",
       "      <td>40.00</td>\n",
       "      <td>71.00</td>\n",
       "      <td>78.000</td>\n",
       "      <td>87.000</td>\n",
       "      <td>394.0</td>\n",
       "    </tr>\n",
       "    <tr>\n",
       "      <th>Heart-Att</th>\n",
       "      <td>3682.0</td>\n",
       "      <td>0.152634</td>\n",
       "      <td>0.359684</td>\n",
       "      <td>0.00</td>\n",
       "      <td>0.00</td>\n",
       "      <td>0.000</td>\n",
       "      <td>0.000</td>\n",
       "      <td>1.0</td>\n",
       "    </tr>\n",
       "  </tbody>\n",
       "</table>\n",
       "</div>"
      ],
      "text/plain": [
       "                  count        mean        std     min     25%      50%  \\\n",
       "age              3682.0   49.592613   8.582738   32.00   42.00   49.000   \n",
       "education        3682.0    1.980445   1.024634    1.00    1.00    2.000   \n",
       "cigsPerDay       3682.0    9.020641  11.932328    0.00    0.00    0.000   \n",
       "tot cholesterol  3682.0  236.881043  44.261399  113.00  206.00  234.000   \n",
       "Systolic BP      3682.0  132.487778  22.168086   83.50  117.00  128.000   \n",
       "Diastolic BP     3682.0   82.943509  12.010390   48.00   75.00   82.000   \n",
       "BMI              3682.0   25.779359   4.066247   15.54   23.07   25.375   \n",
       "heartRate        3682.0   75.695817  11.911579   44.00   68.00   75.000   \n",
       "glucose          3682.0   81.848995  23.845332   40.00   71.00   78.000   \n",
       "Heart-Att        3682.0    0.152634   0.359684    0.00    0.00    0.000   \n",
       "\n",
       "                     75%    max  \n",
       "age               56.000   70.0  \n",
       "education          3.000    4.0  \n",
       "cigsPerDay        20.000   70.0  \n",
       "tot cholesterol  263.000  600.0  \n",
       "Systolic BP      144.000  295.0  \n",
       "Diastolic BP      90.000  142.5  \n",
       "BMI               28.015   56.8  \n",
       "heartRate         82.000  143.0  \n",
       "glucose           87.000  394.0  \n",
       "Heart-Att          0.000    1.0  "
      ]
     },
     "execution_count": 42,
     "metadata": {},
     "output_type": "execute_result"
    }
   ],
   "source": [
    "df.describe().transpose()"
   ]
  },
  {
   "cell_type": "code",
   "execution_count": 43,
   "metadata": {
    "ExecuteTime": {
     "end_time": "2021-11-10T10:31:55.318319Z",
     "start_time": "2021-11-10T10:31:55.308791Z"
    }
   },
   "outputs": [],
   "source": [
    "X = df.drop('Heart-Att',axis=1)\n",
    "Y = df['Heart-Att']"
   ]
  },
  {
   "cell_type": "code",
   "execution_count": 45,
   "metadata": {
    "ExecuteTime": {
     "end_time": "2021-11-10T10:32:30.010817Z",
     "start_time": "2021-11-10T10:32:29.994366Z"
    }
   },
   "outputs": [
    {
     "data": {
      "text/plain": [
       "((2577, 9), (1105, 9))"
      ]
     },
     "execution_count": 45,
     "metadata": {},
     "output_type": "execute_result"
    }
   ],
   "source": [
    "# splitting data into training and test set for independent attributes\n",
    "from sklearn.model_selection import train_test_split\n",
    "\n",
    "X_train, X_test, y_train, y_test =train_test_split(X, Y, test_size=.30,\n",
    "                                                   stratify = Y,\n",
    "                                                   random_state=1)\n",
    "X_train.shape,X_test.shape"
   ]
  },
  {
   "cell_type": "code",
   "execution_count": 46,
   "metadata": {
    "ExecuteTime": {
     "end_time": "2021-11-10T10:32:31.630227Z",
     "start_time": "2021-11-10T10:32:31.605386Z"
    }
   },
   "outputs": [
    {
     "name": "stdout",
     "output_type": "stream",
     "text": [
      "0    0.847497\n",
      "1    0.152503\n",
      "Name: Heart-Att, dtype: float64\n",
      "0    0.847059\n",
      "1    0.152941\n",
      "Name: Heart-Att, dtype: float64\n"
     ]
    }
   ],
   "source": [
    "print(y_train.value_counts(1))\n",
    "print(y_test.value_counts(1))"
   ]
  },
  {
   "cell_type": "markdown",
   "metadata": {},
   "source": [
    "### Apply the Random forest model and print the accuracy of Random forest Model"
   ]
  },
  {
   "cell_type": "code",
   "execution_count": 47,
   "metadata": {
    "ExecuteTime": {
     "end_time": "2021-11-10T10:32:34.074804Z",
     "start_time": "2021-11-10T10:32:34.058652Z"
    }
   },
   "outputs": [],
   "source": [
    "from sklearn.ensemble import RandomForestClassifier\n",
    "rfcl = RandomForestClassifier()"
   ]
  },
  {
   "cell_type": "code",
   "execution_count": 48,
   "metadata": {
    "ExecuteTime": {
     "end_time": "2021-11-10T10:32:35.711739Z",
     "start_time": "2021-11-10T10:32:35.695948Z"
    }
   },
   "outputs": [],
   "source": [
    "param_RF = {'criterion':['gini','entropy']}\n",
    "\n",
    "\n",
    "## The following are just sample values and please do feel free to tweak and change them.\n",
    "\n",
    "# 'max_depth': [7,10],\n",
    "#     'max_features': [4,6],\n",
    "#     'min_samples_leaf': [50,100],\n",
    "#     'min_samples_split': [150,300],\n",
    "#     'n_estimators': [301,701]"
   ]
  },
  {
   "cell_type": "code",
   "execution_count": 49,
   "metadata": {
    "ExecuteTime": {
     "end_time": "2021-11-10T10:32:38.385503Z",
     "start_time": "2021-11-10T10:32:38.370056Z"
    }
   },
   "outputs": [],
   "source": [
    "from sklearn.model_selection import GridSearchCV, LeaveOneOut\n",
    "\n",
    "RF_tune = GridSearchCV(estimator=rfcl,param_grid=param_RF,scoring='f1',n_jobs=-1,cv=LeaveOneOut())"
   ]
  },
  {
   "cell_type": "code",
   "execution_count": 50,
   "metadata": {
    "ExecuteTime": {
     "end_time": "2021-11-10T10:40:36.158403Z",
     "start_time": "2021-11-10T10:32:39.504804Z"
    }
   },
   "outputs": [
    {
     "data": {
      "text/plain": [
       "GridSearchCV(cv=LeaveOneOut(), estimator=RandomForestClassifier(), n_jobs=-1,\n",
       "             param_grid={'criterion': ['gini', 'entropy']}, scoring='f1')"
      ]
     },
     "execution_count": 50,
     "metadata": {},
     "output_type": "execute_result"
    }
   ],
   "source": [
    "RF_tune.fit(X_train,y_train)"
   ]
  },
  {
   "cell_type": "code",
   "execution_count": 51,
   "metadata": {
    "ExecuteTime": {
     "end_time": "2021-11-10T10:40:36.235171Z",
     "start_time": "2021-11-10T10:40:36.160767Z"
    }
   },
   "outputs": [
    {
     "name": "stdout",
     "output_type": "stream",
     "text": [
      "1.0\n",
      "0.8407239819004525\n"
     ]
    }
   ],
   "source": [
    "print(RF_tune.best_estimator_.score(X_train,y_train))\n",
    "print(RF_tune.best_estimator_.score(X_test,y_test))"
   ]
  },
  {
   "cell_type": "code",
   "execution_count": 52,
   "metadata": {
    "ExecuteTime": {
     "end_time": "2021-11-10T10:40:36.266548Z",
     "start_time": "2021-11-10T10:40:36.236496Z"
    }
   },
   "outputs": [
    {
     "data": {
      "text/html": [
       "<div>\n",
       "<style scoped>\n",
       "    .dataframe tbody tr th:only-of-type {\n",
       "        vertical-align: middle;\n",
       "    }\n",
       "\n",
       "    .dataframe tbody tr th {\n",
       "        vertical-align: top;\n",
       "    }\n",
       "\n",
       "    .dataframe thead th {\n",
       "        text-align: right;\n",
       "    }\n",
       "</style>\n",
       "<table border=\"1\" class=\"dataframe\">\n",
       "  <thead>\n",
       "    <tr style=\"text-align: right;\">\n",
       "      <th></th>\n",
       "      <th>Method</th>\n",
       "      <th>Accuracy</th>\n",
       "    </tr>\n",
       "  </thead>\n",
       "  <tbody>\n",
       "    <tr>\n",
       "      <th>0</th>\n",
       "      <td>Random Forest</td>\n",
       "      <td>0.840724</td>\n",
       "    </tr>\n",
       "  </tbody>\n",
       "</table>\n",
       "</div>"
      ],
      "text/plain": [
       "          Method  Accuracy\n",
       "0  Random Forest  0.840724"
      ]
     },
     "execution_count": 52,
     "metadata": {},
     "output_type": "execute_result"
    }
   ],
   "source": [
    "#Store the accuracy results for each model in a dataframe for final comparison\n",
    "resultsDf = pd.DataFrame({'Method':['Random Forest'], 'Accuracy': RF_tune.best_estimator_.score(X_test,y_test)})\n",
    "resultsDf = resultsDf[['Method', 'Accuracy']]\n",
    "resultsDf"
   ]
  },
  {
   "cell_type": "markdown",
   "metadata": {
    "ExecuteTime": {
     "end_time": "2021-11-10T10:28:11.035739Z",
     "start_time": "2021-11-10T10:28:11.021648Z"
    }
   },
   "source": [
    "## Applying PCA for reducing the dimensions"
   ]
  },
  {
   "cell_type": "code",
   "execution_count": 54,
   "metadata": {
    "ExecuteTime": {
     "end_time": "2021-11-10T10:40:36.490697Z",
     "start_time": "2021-11-10T10:40:36.474552Z"
    }
   },
   "outputs": [
    {
     "data": {
      "text/html": [
       "<div>\n",
       "<style scoped>\n",
       "    .dataframe tbody tr th:only-of-type {\n",
       "        vertical-align: middle;\n",
       "    }\n",
       "\n",
       "    .dataframe tbody tr th {\n",
       "        vertical-align: top;\n",
       "    }\n",
       "\n",
       "    .dataframe thead th {\n",
       "        text-align: right;\n",
       "    }\n",
       "</style>\n",
       "<table border=\"1\" class=\"dataframe\">\n",
       "  <thead>\n",
       "    <tr style=\"text-align: right;\">\n",
       "      <th></th>\n",
       "      <th>age</th>\n",
       "      <th>education</th>\n",
       "      <th>cigsPerDay</th>\n",
       "      <th>tot cholesterol</th>\n",
       "      <th>Systolic BP</th>\n",
       "      <th>Diastolic BP</th>\n",
       "      <th>BMI</th>\n",
       "      <th>heartRate</th>\n",
       "      <th>glucose</th>\n",
       "    </tr>\n",
       "  </thead>\n",
       "  <tbody>\n",
       "    <tr>\n",
       "      <th>0</th>\n",
       "      <td>-1.234344</td>\n",
       "      <td>1.971268</td>\n",
       "      <td>-0.756086</td>\n",
       "      <td>-0.946349</td>\n",
       "      <td>-1.195023</td>\n",
       "      <td>-1.077839</td>\n",
       "      <td>0.292851</td>\n",
       "      <td>0.361393</td>\n",
       "      <td>-0.203380</td>\n",
       "    </tr>\n",
       "    <tr>\n",
       "      <th>1</th>\n",
       "      <td>-0.418643</td>\n",
       "      <td>0.019087</td>\n",
       "      <td>-0.756086</td>\n",
       "      <td>0.296438</td>\n",
       "      <td>-0.518283</td>\n",
       "      <td>-0.161841</td>\n",
       "      <td>0.725741</td>\n",
       "      <td>1.620843</td>\n",
       "      <td>-0.245322</td>\n",
       "    </tr>\n",
       "    <tr>\n",
       "      <th>2</th>\n",
       "      <td>-0.185585</td>\n",
       "      <td>-0.957003</td>\n",
       "      <td>0.920261</td>\n",
       "      <td>0.183457</td>\n",
       "      <td>-0.225029</td>\n",
       "      <td>-0.245114</td>\n",
       "      <td>-0.108065</td>\n",
       "      <td>-0.058423</td>\n",
       "      <td>-0.496978</td>\n",
       "    </tr>\n",
       "    <tr>\n",
       "      <th>3</th>\n",
       "      <td>1.329289</td>\n",
       "      <td>0.995177</td>\n",
       "      <td>1.758434</td>\n",
       "      <td>-0.268465</td>\n",
       "      <td>0.790082</td>\n",
       "      <td>1.003975</td>\n",
       "      <td>0.688847</td>\n",
       "      <td>-0.898056</td>\n",
       "      <td>0.887129</td>\n",
       "    </tr>\n",
       "    <tr>\n",
       "      <th>4</th>\n",
       "      <td>-0.418643</td>\n",
       "      <td>0.995177</td>\n",
       "      <td>1.171713</td>\n",
       "      <td>1.087302</td>\n",
       "      <td>-0.112239</td>\n",
       "      <td>0.087977</td>\n",
       "      <td>-0.659016</td>\n",
       "      <td>0.781210</td>\n",
       "      <td>0.132161</td>\n",
       "    </tr>\n",
       "  </tbody>\n",
       "</table>\n",
       "</div>"
      ],
      "text/plain": [
       "        age  education  cigsPerDay  tot cholesterol  Systolic BP  \\\n",
       "0 -1.234344   1.971268   -0.756086        -0.946349    -1.195023   \n",
       "1 -0.418643   0.019087   -0.756086         0.296438    -0.518283   \n",
       "2 -0.185585  -0.957003    0.920261         0.183457    -0.225029   \n",
       "3  1.329289   0.995177    1.758434        -0.268465     0.790082   \n",
       "4 -0.418643   0.995177    1.171713         1.087302    -0.112239   \n",
       "\n",
       "   Diastolic BP       BMI  heartRate   glucose  \n",
       "0     -1.077839  0.292851   0.361393 -0.203380  \n",
       "1     -0.161841  0.725741   1.620843 -0.245322  \n",
       "2     -0.245114 -0.108065  -0.058423 -0.496978  \n",
       "3      1.003975  0.688847  -0.898056  0.887129  \n",
       "4      0.087977 -0.659016   0.781210  0.132161  "
      ]
     },
     "execution_count": 54,
     "metadata": {},
     "output_type": "execute_result"
    }
   ],
   "source": [
    "from scipy.stats import zscore\n",
    "X_scaled=X.apply(zscore)\n",
    "X_scaled.head()"
   ]
  },
  {
   "cell_type": "code",
   "execution_count": 55,
   "metadata": {
    "ExecuteTime": {
     "end_time": "2021-11-10T10:40:36.777277Z",
     "start_time": "2021-11-10T10:40:36.491735Z"
    }
   },
   "outputs": [
    {
     "data": {
      "image/png": "[encoded data removed]",
      "text/plain": [
       "<Figure size 432x288 with 2 Axes>"
      ]
     },
     "metadata": {
      "needs_background": "light"
     },
     "output_type": "display_data"
    }
   ],
   "source": [
    "from statsmodels.multivariate.factor import Factor\n",
    "model=Factor(X).fit()\n",
    "model.plot_scree()\n",
    "plt.show()"
   ]
  },
  {
   "cell_type": "code",
   "execution_count": 56,
   "metadata": {
    "ExecuteTime": {
     "end_time": "2021-11-10T10:42:02.855453Z",
     "start_time": "2021-11-10T10:42:02.794446Z"
    }
   },
   "outputs": [
    {
     "data": {
      "text/plain": [
       "array([[-1.97518108,  0.17281187, -0.36910709, ...,  0.26218833,\n",
       "        -0.10349361, -1.21781063],\n",
       "       [ 0.29947794,  0.51262868,  0.43746009, ..., -0.68602524,\n",
       "         0.36172986,  2.29713356],\n",
       "       [-0.79364887,  0.40492834,  0.33966437, ...,  1.03752157,\n",
       "        -1.9053315 , -0.11337657],\n",
       "       ...,\n",
       "       [ 0.95501756,  1.14231507,  0.02698806, ..., -0.42072027,\n",
       "        -0.47501388, -1.11188647],\n",
       "       [-0.66901429, -0.29265374,  0.16764862, ...,  0.70270075,\n",
       "         0.69662444,  0.11050341],\n",
       "       [ 0.16908882, -0.15696126,  0.0183327 , ..., -0.14391409,\n",
       "        -0.31347811,  0.00988187]])"
      ]
     },
     "execution_count": 56,
     "metadata": {},
     "output_type": "execute_result"
    }
   ],
   "source": [
    "#9\n",
    "\n",
    "# Using scikit learn PCA here. It does all the above steps and maps data to PCA dimensions in one shot\n",
    "from sklearn.decomposition import PCA\n",
    "\n",
    "# NOTE - we are generating only 7 PCA dimensions (dimensionality reduction from 9 to 7)\n",
    "\n",
    "pca = PCA(n_components=9)\n",
    "data_reduced = pca.fit_transform(X_scaled)\n",
    "data_reduced.transpose()"
   ]
  },
  {
   "cell_type": "code",
   "execution_count": 59,
   "metadata": {
    "ExecuteTime": {
     "end_time": "2021-11-10T10:42:26.644938Z",
     "start_time": "2021-11-10T10:42:26.627794Z"
    }
   },
   "outputs": [
    {
     "data": {
      "text/plain": [
       "array([0.27224959, 0.12961954, 0.11381593, 0.11172408, 0.10770141,\n",
       "       0.09266932, 0.08607989, 0.06563472, 0.02050552])"
      ]
     },
     "execution_count": 59,
     "metadata": {},
     "output_type": "execute_result"
    }
   ],
   "source": [
    "pca.explained_variance_ratio_"
   ]
  },
  {
   "cell_type": "code",
   "execution_count": 63,
   "metadata": {
    "ExecuteTime": {
     "end_time": "2021-11-10T10:44:24.558985Z",
     "start_time": "2021-11-10T10:44:24.543726Z"
    }
   },
   "outputs": [
    {
     "data": {
      "text/plain": [
       "1.0"
      ]
     },
     "execution_count": 63,
     "metadata": {},
     "output_type": "execute_result"
    }
   ],
   "source": [
    "np.sum(pca.explained_variance_ratio_)"
   ]
  },
  {
   "cell_type": "code",
   "execution_count": 64,
   "metadata": {
    "ExecuteTime": {
     "end_time": "2021-11-10T10:44:31.285344Z",
     "start_time": "2021-11-10T10:44:31.276597Z"
    }
   },
   "outputs": [
    {
     "data": {
      "text/plain": [
       "array([0.27224959, 0.40186913, 0.51568507, 0.62740914, 0.73511056,\n",
       "       0.82777987, 0.91385976, 0.97949448, 1.        ])"
      ]
     },
     "execution_count": 64,
     "metadata": {},
     "output_type": "execute_result"
    }
   ],
   "source": [
    "np.cumsum(pca.explained_variance_ratio_)"
   ]
  },
  {
   "cell_type": "code",
   "execution_count": 65,
   "metadata": {
    "ExecuteTime": {
     "end_time": "2021-11-10T10:44:58.475303Z",
     "start_time": "2021-11-10T10:44:58.450627Z"
    }
   },
   "outputs": [
    {
     "data": {
      "text/plain": [
       "array([[-1.97518108,  0.17281187, -0.36910709, ...,  0.26218833,\n",
       "        -0.10349361, -1.21781063],\n",
       "       [ 0.29947794,  0.51262868,  0.43746009, ..., -0.68602524,\n",
       "         0.36172986,  2.29713356],\n",
       "       [-0.79364887,  0.40492834,  0.33966437, ...,  1.03752157,\n",
       "        -1.9053315 , -0.11337657],\n",
       "       ...,\n",
       "       [ 1.58816392,  0.19843422, -1.12422871, ...,  0.37431269,\n",
       "         1.38977298,  0.29129351],\n",
       "       [-0.90459878, -1.55965943,  0.33370932, ..., -0.42460315,\n",
       "        -0.14445821,  0.25048336],\n",
       "       [ 0.95501756,  1.14231507,  0.02698806, ..., -0.42072027,\n",
       "        -0.47501388, -1.11188647]])"
      ]
     },
     "execution_count": 65,
     "metadata": {},
     "output_type": "execute_result"
    }
   ],
   "source": [
    "#9\n",
    "\n",
    "# Using scikit learn PCA here. It does all the above steps and maps data to PCA dimensions in one shot\n",
    "from sklearn.decomposition import PCA\n",
    "\n",
    "# NOTE - we are generating only 7 PCA dimensions (dimensionality reduction from 9 to 7)\n",
    "\n",
    "pca = PCA(n_components=7)\n",
    "data_reduced = pca.fit_transform(X_scaled)\n",
    "data_reduced.transpose()"
   ]
  },
  {
   "cell_type": "code",
   "execution_count": 68,
   "metadata": {
    "ExecuteTime": {
     "end_time": "2021-11-10T10:46:16.564210Z",
     "start_time": "2021-11-10T10:46:16.556211Z"
    }
   },
   "outputs": [
    {
     "data": {
      "text/plain": [
       "(3682, 7)"
      ]
     },
     "execution_count": 68,
     "metadata": {},
     "output_type": "execute_result"
    }
   ],
   "source": [
    "data_reduced.shape"
   ]
  },
  {
   "cell_type": "code",
   "execution_count": 69,
   "metadata": {
    "ExecuteTime": {
     "end_time": "2021-11-10T10:46:23.351758Z",
     "start_time": "2021-11-10T10:46:23.330201Z"
    }
   },
   "outputs": [
    {
     "data": {
      "text/plain": [
       "(3682, 9)"
      ]
     },
     "execution_count": 69,
     "metadata": {},
     "output_type": "execute_result"
    }
   ],
   "source": [
    "X.shape"
   ]
  },
  {
   "cell_type": "markdown",
   "metadata": {},
   "source": [
    "## Random Forest with Reduced Dimensions"
   ]
  },
  {
   "cell_type": "code",
   "execution_count": 70,
   "metadata": {
    "ExecuteTime": {
     "end_time": "2021-11-10T10:47:41.173873Z",
     "start_time": "2021-11-10T10:47:41.150456Z"
    }
   },
   "outputs": [
    {
     "data": {
      "text/plain": [
       "((2577, 7), (1105, 7))"
      ]
     },
     "execution_count": 70,
     "metadata": {},
     "output_type": "execute_result"
    }
   ],
   "source": [
    "# splitting data into training and test set for independent attributes\n",
    "from sklearn.model_selection import train_test_split\n",
    "\n",
    "X_train_PCA, X_test_PCA, y_train, y_test =train_test_split(data_reduced, Y, test_size=.30,\n",
    "                                                   stratify = Y,\n",
    "                                                   random_state=1)\n",
    "X_train_PCA.shape,X_test_PCA.shape"
   ]
  },
  {
   "cell_type": "code",
   "execution_count": 73,
   "metadata": {
    "ExecuteTime": {
     "end_time": "2021-11-10T11:07:21.333585Z",
     "start_time": "2021-11-10T10:57:21.016446Z"
    }
   },
   "outputs": [
    {
     "data": {
      "text/plain": [
       "GridSearchCV(cv=LeaveOneOut(), estimator=RandomForestClassifier(), n_jobs=-1,\n",
       "             param_grid={'criterion': ['gini', 'entropy']}, scoring='f1')"
      ]
     },
     "execution_count": 73,
     "metadata": {},
     "output_type": "execute_result"
    }
   ],
   "source": [
    "RF_tune.fit(X_train_PCA,y_train)"
   ]
  },
  {
   "cell_type": "code",
   "execution_count": 74,
   "metadata": {
    "ExecuteTime": {
     "end_time": "2021-11-10T11:07:21.408918Z",
     "start_time": "2021-11-10T11:07:21.333585Z"
    }
   },
   "outputs": [
    {
     "name": "stdout",
     "output_type": "stream",
     "text": [
      "1.0\n",
      "0.848868778280543\n"
     ]
    }
   ],
   "source": [
    "print(RF_tune.best_estimator_.score(X_train_PCA,y_train))\n",
    "print(RF_tune.best_estimator_.score(X_test_PCA,y_test))"
   ]
  },
  {
   "cell_type": "code",
   "execution_count": 75,
   "metadata": {
    "ExecuteTime": {
     "end_time": "2021-11-10T11:07:21.453957Z",
     "start_time": "2021-11-10T11:07:21.408918Z"
    }
   },
   "outputs": [
    {
     "data": {
      "text/html": [
       "<div>\n",
       "<style scoped>\n",
       "    .dataframe tbody tr th:only-of-type {\n",
       "        vertical-align: middle;\n",
       "    }\n",
       "\n",
       "    .dataframe tbody tr th {\n",
       "        vertical-align: top;\n",
       "    }\n",
       "\n",
       "    .dataframe thead th {\n",
       "        text-align: right;\n",
       "    }\n",
       "</style>\n",
       "<table border=\"1\" class=\"dataframe\">\n",
       "  <thead>\n",
       "    <tr style=\"text-align: right;\">\n",
       "      <th></th>\n",
       "      <th>Method</th>\n",
       "      <th>Accuracy</th>\n",
       "    </tr>\n",
       "  </thead>\n",
       "  <tbody>\n",
       "    <tr>\n",
       "      <th>0</th>\n",
       "      <td>Random Forest</td>\n",
       "      <td>0.840724</td>\n",
       "    </tr>\n",
       "    <tr>\n",
       "      <th>0</th>\n",
       "      <td>Random Forest_PCA</td>\n",
       "      <td>0.848869</td>\n",
       "    </tr>\n",
       "  </tbody>\n",
       "</table>\n",
       "</div>"
      ],
      "text/plain": [
       "              Method  Accuracy\n",
       "0      Random Forest  0.840724\n",
       "0  Random Forest_PCA  0.848869"
      ]
     },
     "execution_count": 75,
     "metadata": {},
     "output_type": "execute_result"
    }
   ],
   "source": [
    "tempResultsDf = pd.DataFrame({'Method':['Random Forest_PCA'], 'Accuracy': [RF_tune.best_estimator_.score(X_test_PCA,y_test)]})\n",
    "resultsDf = pd.concat([resultsDf, tempResultsDf])\n",
    "resultsDf = resultsDf[['Method', 'Accuracy']]\n",
    "resultsDf\n",
    "resultsDf"
   ]
  },
  {
   "cell_type": "code",
   "execution_count": null,
   "metadata": {},
   "outputs": [],
   "source": []
  }
 ],
 "metadata": {
  "kernelspec": {
   "display_name": "Python 3 (ipykernel)",
   "language": "python",
   "name": "python3"
  },
  "language_info": {
   "codemirror_mode": {
    "name": "ipython",
    "version": 3
   },
   "file_extension": ".py",
   "mimetype": "text/x-python",
   "name": "python",
   "nbconvert_exporter": "python",
   "pygments_lexer": "ipython3",
   "version": "3.8.12"
  },
  "toc": {
   "base_numbering": 1,
   "nav_menu": {},
   "number_sections": true,
   "sideBar": true,
   "skip_h1_title": false,
   "title_cell": "Table of Contents",
   "title_sidebar": "Contents",
   "toc_cell": false,
   "toc_position": {},
   "toc_section_display": true,
   "toc_window_display": false
  }
 },
 "nbformat": 4,
 "nbformat_minor": 2
}
