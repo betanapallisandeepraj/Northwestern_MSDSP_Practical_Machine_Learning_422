{
 "cells": [
  {
   "cell_type": "markdown",
   "metadata": {
    "ExecuteTime": {
     "end_time": "2020-03-02T12:37:53.532370Z",
     "start_time": "2020-03-02T12:37:38.846679Z"
    }
   },
   "source": [
    "# K-Means Clustering"
   ]
  },
  {
   "cell_type": "markdown",
   "metadata": {},
   "source": [
    "In K-Means Clustering we have to choose the value of 'K' very accurately by looking at the Within Sum of Squares (WSS)."
   ]
  },
  {
   "cell_type": "code",
   "execution_count": 1,
   "metadata": {
    "ExecuteTime": {
     "end_time": "2021-11-10T10:50:33.434259Z",
     "start_time": "2021-11-10T10:50:30.554542Z"
    }
   },
   "outputs": [],
   "source": [
    "import pandas as pd\n",
    "import numpy as np\n",
    "import seaborn as sns\n",
    "from sklearn.cluster import KMeans \n",
    "import matplotlib.pyplot as plt"
   ]
  },
  {
   "cell_type": "code",
   "execution_count": 2,
   "metadata": {
    "ExecuteTime": {
     "end_time": "2021-11-10T10:50:33.479066Z",
     "start_time": "2021-11-10T10:50:33.434259Z"
    }
   },
   "outputs": [
    {
     "data": {
      "text/html": [
       "<div>\n",
       "<style scoped>\n",
       "    .dataframe tbody tr th:only-of-type {\n",
       "        vertical-align: middle;\n",
       "    }\n",
       "\n",
       "    .dataframe tbody tr th {\n",
       "        vertical-align: top;\n",
       "    }\n",
       "\n",
       "    .dataframe thead th {\n",
       "        text-align: right;\n",
       "    }\n",
       "</style>\n",
       "<table border=\"1\" class=\"dataframe\">\n",
       "  <thead>\n",
       "    <tr style=\"text-align: right;\">\n",
       "      <th></th>\n",
       "      <th>Country</th>\n",
       "      <th>Area</th>\n",
       "      <th>GDP</th>\n",
       "      <th>Inflation</th>\n",
       "      <th>Life.expect</th>\n",
       "      <th>Military</th>\n",
       "      <th>Pop.growth</th>\n",
       "      <th>Unemployment</th>\n",
       "    </tr>\n",
       "  </thead>\n",
       "  <tbody>\n",
       "    <tr>\n",
       "      <th>0</th>\n",
       "      <td>Austria</td>\n",
       "      <td>83871</td>\n",
       "      <td>41600</td>\n",
       "      <td>3.5</td>\n",
       "      <td>79.91</td>\n",
       "      <td>0.80</td>\n",
       "      <td>0.03</td>\n",
       "      <td>4.2</td>\n",
       "    </tr>\n",
       "    <tr>\n",
       "      <th>1</th>\n",
       "      <td>Belgium</td>\n",
       "      <td>30528</td>\n",
       "      <td>37800</td>\n",
       "      <td>3.5</td>\n",
       "      <td>79.65</td>\n",
       "      <td>1.30</td>\n",
       "      <td>0.06</td>\n",
       "      <td>7.2</td>\n",
       "    </tr>\n",
       "    <tr>\n",
       "      <th>2</th>\n",
       "      <td>Bulgaria</td>\n",
       "      <td>110879</td>\n",
       "      <td>13800</td>\n",
       "      <td>4.2</td>\n",
       "      <td>73.84</td>\n",
       "      <td>2.60</td>\n",
       "      <td>-0.80</td>\n",
       "      <td>9.6</td>\n",
       "    </tr>\n",
       "    <tr>\n",
       "      <th>3</th>\n",
       "      <td>Croatia</td>\n",
       "      <td>56594</td>\n",
       "      <td>18000</td>\n",
       "      <td>2.3</td>\n",
       "      <td>75.99</td>\n",
       "      <td>2.39</td>\n",
       "      <td>-0.09</td>\n",
       "      <td>17.7</td>\n",
       "    </tr>\n",
       "    <tr>\n",
       "      <th>4</th>\n",
       "      <td>Czech Republic</td>\n",
       "      <td>78867</td>\n",
       "      <td>27100</td>\n",
       "      <td>1.9</td>\n",
       "      <td>77.38</td>\n",
       "      <td>1.15</td>\n",
       "      <td>-0.13</td>\n",
       "      <td>8.5</td>\n",
       "    </tr>\n",
       "  </tbody>\n",
       "</table>\n",
       "</div>"
      ],
      "text/plain": [
       "          Country    Area    GDP  Inflation  Life.expect  Military  \\\n",
       "0         Austria   83871  41600        3.5        79.91      0.80   \n",
       "1         Belgium   30528  37800        3.5        79.65      1.30   \n",
       "2        Bulgaria  110879  13800        4.2        73.84      2.60   \n",
       "3         Croatia   56594  18000        2.3        75.99      2.39   \n",
       "4  Czech Republic   78867  27100        1.9        77.38      1.15   \n",
       "\n",
       "   Pop.growth  Unemployment  \n",
       "0        0.03           4.2  \n",
       "1        0.06           7.2  \n",
       "2       -0.80           9.6  \n",
       "3       -0.09          17.7  \n",
       "4       -0.13           8.5  "
      ]
     },
     "execution_count": 2,
     "metadata": {},
     "output_type": "execute_result"
    }
   ],
   "source": [
    "df = pd.read_csv('Europe_Countries.csv')\n",
    "df.head()"
   ]
  },
  {
   "cell_type": "code",
   "execution_count": 8,
   "metadata": {
    "ExecuteTime": {
     "end_time": "2021-11-10T10:51:05.490364Z",
     "start_time": "2021-11-10T10:51:05.482363Z"
    }
   },
   "outputs": [
    {
     "data": {
      "text/plain": [
       "(28, 8)"
      ]
     },
     "execution_count": 8,
     "metadata": {},
     "output_type": "execute_result"
    }
   ],
   "source": [
    "df.shape"
   ]
  },
  {
   "cell_type": "markdown",
   "metadata": {},
   "source": [
    "The data set imported in the last cell is an economic dataset. This data set contains various economic factors for European Countries. All the variables are kind of self-explanatory."
   ]
  },
  {
   "cell_type": "markdown",
   "metadata": {},
   "source": [
    "Let us go ahead and create a new dataframe with only the relevant variables for Clustering."
   ]
  },
  {
   "cell_type": "code",
   "execution_count": 9,
   "metadata": {
    "ExecuteTime": {
     "end_time": "2021-11-10T10:51:08.305954Z",
     "start_time": "2021-11-10T10:51:08.274161Z"
    }
   },
   "outputs": [
    {
     "data": {
      "text/html": [
       "<div>\n",
       "<style scoped>\n",
       "    .dataframe tbody tr th:only-of-type {\n",
       "        vertical-align: middle;\n",
       "    }\n",
       "\n",
       "    .dataframe tbody tr th {\n",
       "        vertical-align: top;\n",
       "    }\n",
       "\n",
       "    .dataframe thead th {\n",
       "        text-align: right;\n",
       "    }\n",
       "</style>\n",
       "<table border=\"1\" class=\"dataframe\">\n",
       "  <thead>\n",
       "    <tr style=\"text-align: right;\">\n",
       "      <th></th>\n",
       "      <th>Area</th>\n",
       "      <th>GDP</th>\n",
       "      <th>Inflation</th>\n",
       "      <th>Life.expect</th>\n",
       "      <th>Military</th>\n",
       "      <th>Pop.growth</th>\n",
       "      <th>Unemployment</th>\n",
       "    </tr>\n",
       "  </thead>\n",
       "  <tbody>\n",
       "    <tr>\n",
       "      <th>0</th>\n",
       "      <td>83871</td>\n",
       "      <td>41600</td>\n",
       "      <td>3.5</td>\n",
       "      <td>79.91</td>\n",
       "      <td>0.80</td>\n",
       "      <td>0.03</td>\n",
       "      <td>4.2</td>\n",
       "    </tr>\n",
       "    <tr>\n",
       "      <th>1</th>\n",
       "      <td>30528</td>\n",
       "      <td>37800</td>\n",
       "      <td>3.5</td>\n",
       "      <td>79.65</td>\n",
       "      <td>1.30</td>\n",
       "      <td>0.06</td>\n",
       "      <td>7.2</td>\n",
       "    </tr>\n",
       "    <tr>\n",
       "      <th>2</th>\n",
       "      <td>110879</td>\n",
       "      <td>13800</td>\n",
       "      <td>4.2</td>\n",
       "      <td>73.84</td>\n",
       "      <td>2.60</td>\n",
       "      <td>-0.80</td>\n",
       "      <td>9.6</td>\n",
       "    </tr>\n",
       "    <tr>\n",
       "      <th>3</th>\n",
       "      <td>56594</td>\n",
       "      <td>18000</td>\n",
       "      <td>2.3</td>\n",
       "      <td>75.99</td>\n",
       "      <td>2.39</td>\n",
       "      <td>-0.09</td>\n",
       "      <td>17.7</td>\n",
       "    </tr>\n",
       "    <tr>\n",
       "      <th>4</th>\n",
       "      <td>78867</td>\n",
       "      <td>27100</td>\n",
       "      <td>1.9</td>\n",
       "      <td>77.38</td>\n",
       "      <td>1.15</td>\n",
       "      <td>-0.13</td>\n",
       "      <td>8.5</td>\n",
       "    </tr>\n",
       "  </tbody>\n",
       "</table>\n",
       "</div>"
      ],
      "text/plain": [
       "     Area    GDP  Inflation  Life.expect  Military  Pop.growth  Unemployment\n",
       "0   83871  41600        3.5        79.91      0.80        0.03           4.2\n",
       "1   30528  37800        3.5        79.65      1.30        0.06           7.2\n",
       "2  110879  13800        4.2        73.84      2.60       -0.80           9.6\n",
       "3   56594  18000        2.3        75.99      2.39       -0.09          17.7\n",
       "4   78867  27100        1.9        77.38      1.15       -0.13           8.5"
      ]
     },
     "execution_count": 9,
     "metadata": {},
     "output_type": "execute_result"
    }
   ],
   "source": [
    "data = df.iloc[:,1:8]\n",
    "data.head()"
   ]
  },
  {
   "cell_type": "markdown",
   "metadata": {},
   "source": [
    "Since we have seen how to scale the data using the StandardScaler function from sklearn in the codebook of Hierarchical clustering, we will go ahead and do the same for this particular data set as well."
   ]
  },
  {
   "cell_type": "code",
   "execution_count": 10,
   "metadata": {
    "ExecuteTime": {
     "end_time": "2021-11-10T10:51:08.874849Z",
     "start_time": "2021-11-10T10:51:08.868043Z"
    }
   },
   "outputs": [],
   "source": [
    "from sklearn.preprocessing import StandardScaler"
   ]
  },
  {
   "cell_type": "code",
   "execution_count": 11,
   "metadata": {
    "ExecuteTime": {
     "end_time": "2021-11-10T10:51:09.114467Z",
     "start_time": "2021-11-10T10:51:09.091176Z"
    }
   },
   "outputs": [
    {
     "data": {
      "text/html": [
       "<div>\n",
       "<style scoped>\n",
       "    .dataframe tbody tr th:only-of-type {\n",
       "        vertical-align: middle;\n",
       "    }\n",
       "\n",
       "    .dataframe tbody tr th {\n",
       "        vertical-align: top;\n",
       "    }\n",
       "\n",
       "    .dataframe thead th {\n",
       "        text-align: right;\n",
       "    }\n",
       "</style>\n",
       "<table border=\"1\" class=\"dataframe\">\n",
       "  <thead>\n",
       "    <tr style=\"text-align: right;\">\n",
       "      <th></th>\n",
       "      <th>Area</th>\n",
       "      <th>GDP</th>\n",
       "      <th>Inflation</th>\n",
       "      <th>Life.expect</th>\n",
       "      <th>Military</th>\n",
       "      <th>Pop.growth</th>\n",
       "      <th>Unemployment</th>\n",
       "    </tr>\n",
       "  </thead>\n",
       "  <tbody>\n",
       "    <tr>\n",
       "      <th>0</th>\n",
       "      <td>-0.507835</td>\n",
       "      <td>0.683900</td>\n",
       "      <td>0.114447</td>\n",
       "      <td>0.570778</td>\n",
       "      <td>-1.024347</td>\n",
       "      <td>-0.176789</td>\n",
       "      <td>-1.245527</td>\n",
       "    </tr>\n",
       "    <tr>\n",
       "      <th>1</th>\n",
       "      <td>-0.835987</td>\n",
       "      <td>0.417061</td>\n",
       "      <td>0.114447</td>\n",
       "      <td>0.487756</td>\n",
       "      <td>-0.388952</td>\n",
       "      <td>-0.115927</td>\n",
       "      <td>-0.592442</td>\n",
       "    </tr>\n",
       "    <tr>\n",
       "      <th>2</th>\n",
       "      <td>-0.341689</td>\n",
       "      <td>-1.268238</td>\n",
       "      <td>0.624255</td>\n",
       "      <td>-1.367473</td>\n",
       "      <td>1.263074</td>\n",
       "      <td>-1.860631</td>\n",
       "      <td>-0.069973</td>\n",
       "    </tr>\n",
       "    <tr>\n",
       "      <th>3</th>\n",
       "      <td>-0.675636</td>\n",
       "      <td>-0.973310</td>\n",
       "      <td>-0.759511</td>\n",
       "      <td>-0.680942</td>\n",
       "      <td>0.996208</td>\n",
       "      <td>-0.420236</td>\n",
       "      <td>1.693357</td>\n",
       "    </tr>\n",
       "    <tr>\n",
       "      <th>4</th>\n",
       "      <td>-0.538618</td>\n",
       "      <td>-0.334301</td>\n",
       "      <td>-1.050830</td>\n",
       "      <td>-0.237093</td>\n",
       "      <td>-0.579571</td>\n",
       "      <td>-0.501385</td>\n",
       "      <td>-0.309438</td>\n",
       "    </tr>\n",
       "  </tbody>\n",
       "</table>\n",
       "</div>"
      ],
      "text/plain": [
       "       Area       GDP  Inflation  Life.expect  Military  Pop.growth  \\\n",
       "0 -0.507835  0.683900   0.114447     0.570778 -1.024347   -0.176789   \n",
       "1 -0.835987  0.417061   0.114447     0.487756 -0.388952   -0.115927   \n",
       "2 -0.341689 -1.268238   0.624255    -1.367473  1.263074   -1.860631   \n",
       "3 -0.675636 -0.973310  -0.759511    -0.680942  0.996208   -0.420236   \n",
       "4 -0.538618 -0.334301  -1.050830    -0.237093 -0.579571   -0.501385   \n",
       "\n",
       "   Unemployment  \n",
       "0     -1.245527  \n",
       "1     -0.592442  \n",
       "2     -0.069973  \n",
       "3      1.693357  \n",
       "4     -0.309438  "
      ]
     },
     "execution_count": 11,
     "metadata": {},
     "output_type": "execute_result"
    }
   ],
   "source": [
    "# Let us check the scaled data.\n",
    "\n",
    "data_scaled = pd.DataFrame(StandardScaler().fit_transform(data),columns=data.columns)\n",
    "data_scaled.head()"
   ]
  },
  {
   "cell_type": "markdown",
   "metadata": {},
   "source": [
    "Now that we have scaled the data, let us go ahead and perform the K-Means Clustering."
   ]
  },
  {
   "cell_type": "markdown",
   "metadata": {},
   "source": [
    "Since we do not know the value of 'K' i.e. the opitmum number of clusters we will start with 2 clusters and check the Within Sum of Squares (WSS)."
   ]
  },
  {
   "cell_type": "code",
   "execution_count": 12,
   "metadata": {
    "ExecuteTime": {
     "end_time": "2021-11-10T10:51:10.365462Z",
     "start_time": "2021-11-10T10:51:10.360123Z"
    }
   },
   "outputs": [],
   "source": [
    "k_means = KMeans(n_clusters = 2,random_state=1)"
   ]
  },
  {
   "cell_type": "code",
   "execution_count": 13,
   "metadata": {
    "ExecuteTime": {
     "end_time": "2021-11-10T10:51:10.827195Z",
     "start_time": "2021-11-10T10:51:10.787754Z"
    }
   },
   "outputs": [
    {
     "data": {
      "text/plain": [
       "array([0, 0, 1, 1, 0, 0, 1, 0, 0, 1, 1, 0, 0, 0, 1, 1, 0, 0, 0, 1, 1, 1,\n",
       "       1, 0, 0, 0, 1, 0])"
      ]
     },
     "execution_count": 13,
     "metadata": {},
     "output_type": "execute_result"
    }
   ],
   "source": [
    "clust_2 = k_means.fit_predict(data_scaled)\n",
    "clust_2"
   ]
  },
  {
   "cell_type": "code",
   "execution_count": 14,
   "metadata": {
    "ExecuteTime": {
     "end_time": "2021-11-10T10:51:11.163839Z",
     "start_time": "2021-11-10T10:51:11.148264Z"
    }
   },
   "outputs": [
    {
     "data": {
      "text/plain": [
       "132.62749228525956"
      ]
     },
     "execution_count": 14,
     "metadata": {},
     "output_type": "execute_result"
    }
   ],
   "source": [
    "k_means.inertia_"
   ]
  },
  {
   "cell_type": "markdown",
   "metadata": {},
   "source": [
    "The 'inertia' gives us the Within Sum of Squares (WSS) for the number of clusters defined in the KMeans function inside the 'sklearn' library."
   ]
  },
  {
   "cell_type": "markdown",
   "metadata": {},
   "source": [
    "Let us now check the WSS for 3 clusters."
   ]
  },
  {
   "cell_type": "code",
   "execution_count": 15,
   "metadata": {
    "ExecuteTime": {
     "end_time": "2021-11-10T10:51:14.504167Z",
     "start_time": "2021-11-10T10:51:14.464663Z"
    }
   },
   "outputs": [
    {
     "data": {
      "text/plain": [
       "106.58089282172553"
      ]
     },
     "execution_count": 15,
     "metadata": {},
     "output_type": "execute_result"
    }
   ],
   "source": [
    "k_means = KMeans(n_clusters = 3,random_state=1)\n",
    "k_means.fit(data_scaled)\n",
    "k_means.inertia_"
   ]
  },
  {
   "cell_type": "markdown",
   "metadata": {},
   "source": [
    "Now, we see that the WSS is decreasing. But it is very cumbersome to manually compute for each value. So, we are going to pass the KMeans function through a loop to automate this process of manually calculating the 'inertia'."
   ]
  },
  {
   "cell_type": "markdown",
   "metadata": {},
   "source": [
    "Let us define an empty list to being the process of automating the calculation of 'inertia'."
   ]
  },
  {
   "cell_type": "code",
   "execution_count": 16,
   "metadata": {
    "ExecuteTime": {
     "end_time": "2021-11-10T10:51:18.797514Z",
     "start_time": "2021-11-10T10:51:18.791172Z"
    }
   },
   "outputs": [],
   "source": [
    "wss =[] "
   ]
  },
  {
   "cell_type": "markdown",
   "metadata": {},
   "source": [
    "Now, let us create the loop."
   ]
  },
  {
   "cell_type": "code",
   "execution_count": 17,
   "metadata": {
    "ExecuteTime": {
     "end_time": "2021-11-10T10:51:20.183902Z",
     "start_time": "2021-11-10T10:51:19.957822Z"
    }
   },
   "outputs": [],
   "source": [
    "for i in range(2,9): #we are mentioning the range which the value of 'i' should take\n",
    "    KM = KMeans(n_clusters=i,random_state=1) #we are defining the number of clusters which is the same as 'i'\n",
    "    KM.fit(data_scaled) #we are applying the 'fit' function to form the required number of clusters in the dataset\n",
    "    wss.append(KM.inertia_) # we are adding all the values of 'inertia' into the empty list called wss\n",
    "    \n",
    "#In short, we are calculating the value of 'inertia' in every step and storing the same in 'wss'"
   ]
  },
  {
   "cell_type": "markdown",
   "metadata": {},
   "source": [
    "Now, let us print 'wss' and check the values."
   ]
  },
  {
   "cell_type": "code",
   "execution_count": 18,
   "metadata": {
    "ExecuteTime": {
     "end_time": "2021-11-10T10:51:21.174149Z",
     "start_time": "2021-11-10T10:51:21.113513Z"
    }
   },
   "outputs": [
    {
     "name": "stdout",
     "output_type": "stream",
     "text": [
      "The WSS value for 2 clusters is 132.62749228525956\n",
      "The WSS value for 3 clusters is 106.58089282172553\n",
      "The WSS value for 4 clusters is 85.97399272474252\n",
      "The WSS value for 5 clusters is 73.60324865759934\n",
      "The WSS value for 6 clusters is 62.86475996861873\n",
      "The WSS value for 7 clusters is 54.159482283003705\n",
      "The WSS value for 8 clusters is 43.56478607045958\n"
     ]
    }
   ],
   "source": [
    "# The below code snippet is used to print the WSS values. We have passed it through a loop to make understand the values\n",
    "# of WSS better.\n",
    "\n",
    "for i in range(2,9):\n",
    "    print('The WSS value for',i,'clusters is',wss[i-2])"
   ]
  },
  {
   "cell_type": "code",
   "execution_count": 19,
   "metadata": {
    "ExecuteTime": {
     "end_time": "2021-11-10T10:51:25.397901Z",
     "start_time": "2021-11-10T10:51:25.136606Z"
    }
   },
   "outputs": [
    {
     "data": {
      "image/png": "[encoded data removed]",
      "text/plain": [
       "<Figure size 432x288 with 1 Axes>"
      ]
     },
     "metadata": {
      "needs_background": "light"
     },
     "output_type": "display_data"
    }
   ],
   "source": [
    "plt.plot(range(2,9), wss)\n",
    "plt.grid()\n",
    "plt.title('WSS Plot')\n",
    "plt.xlabel('Number of Clusters')\n",
    "plt.ylabel('WSS Value')\n",
    "plt.show()"
   ]
  },
  {
   "cell_type": "markdown",
   "metadata": {},
   "source": [
    "The ideal 'WSS' plot has to have a sharp elbow like structure. The number of clusters corresponding to that elbow-like graph is considered to be the most optimum.\n",
    "\n",
    "Having said that, here we will go for 4 clusters."
   ]
  },
  {
   "cell_type": "markdown",
   "metadata": {},
   "source": [
    "Let us now store the values of the clusters into a variable and we will attach the particular variable to the data set."
   ]
  },
  {
   "cell_type": "code",
   "execution_count": 20,
   "metadata": {
    "ExecuteTime": {
     "end_time": "2021-11-10T10:51:29.742988Z",
     "start_time": "2021-11-10T10:51:29.696578Z"
    }
   },
   "outputs": [
    {
     "data": {
      "text/plain": [
       "array([2, 2, 1, 1, 2, 2, 1, 0, 0, 1, 1, 2, 2, 0, 1, 1, 2, 2, 0, 1, 1, 1,\n",
       "       1, 0, 0, 2, 3, 0])"
      ]
     },
     "execution_count": 20,
     "metadata": {},
     "output_type": "execute_result"
    }
   ],
   "source": [
    "k_means = KMeans(n_clusters = 4,random_state=1)\n",
    "k_means.fit(data_scaled)\n",
    "labels = k_means.labels_\n",
    "labels"
   ]
  },
  {
   "cell_type": "code",
   "execution_count": 21,
   "metadata": {
    "ExecuteTime": {
     "end_time": "2021-11-10T10:51:31.515905Z",
     "start_time": "2021-11-10T10:51:30.385022Z"
    }
   },
   "outputs": [
    {
     "data": {
      "text/html": [
       "<div>\n",
       "<style scoped>\n",
       "    .dataframe tbody tr th:only-of-type {\n",
       "        vertical-align: middle;\n",
       "    }\n",
       "\n",
       "    .dataframe tbody tr th {\n",
       "        vertical-align: top;\n",
       "    }\n",
       "\n",
       "    .dataframe thead th {\n",
       "        text-align: right;\n",
       "    }\n",
       "</style>\n",
       "<table border=\"1\" class=\"dataframe\">\n",
       "  <thead>\n",
       "    <tr style=\"text-align: right;\">\n",
       "      <th></th>\n",
       "      <th>Country</th>\n",
       "      <th>Area</th>\n",
       "      <th>GDP</th>\n",
       "      <th>Inflation</th>\n",
       "      <th>Life.expect</th>\n",
       "      <th>Military</th>\n",
       "      <th>Pop.growth</th>\n",
       "      <th>Unemployment</th>\n",
       "      <th>Clus_kmeans</th>\n",
       "    </tr>\n",
       "  </thead>\n",
       "  <tbody>\n",
       "    <tr>\n",
       "      <th>0</th>\n",
       "      <td>Austria</td>\n",
       "      <td>83871</td>\n",
       "      <td>41600</td>\n",
       "      <td>3.5</td>\n",
       "      <td>79.91</td>\n",
       "      <td>0.80</td>\n",
       "      <td>0.03</td>\n",
       "      <td>4.2</td>\n",
       "      <td>2</td>\n",
       "    </tr>\n",
       "    <tr>\n",
       "      <th>1</th>\n",
       "      <td>Belgium</td>\n",
       "      <td>30528</td>\n",
       "      <td>37800</td>\n",
       "      <td>3.5</td>\n",
       "      <td>79.65</td>\n",
       "      <td>1.30</td>\n",
       "      <td>0.06</td>\n",
       "      <td>7.2</td>\n",
       "      <td>2</td>\n",
       "    </tr>\n",
       "    <tr>\n",
       "      <th>2</th>\n",
       "      <td>Bulgaria</td>\n",
       "      <td>110879</td>\n",
       "      <td>13800</td>\n",
       "      <td>4.2</td>\n",
       "      <td>73.84</td>\n",
       "      <td>2.60</td>\n",
       "      <td>-0.80</td>\n",
       "      <td>9.6</td>\n",
       "      <td>1</td>\n",
       "    </tr>\n",
       "    <tr>\n",
       "      <th>3</th>\n",
       "      <td>Croatia</td>\n",
       "      <td>56594</td>\n",
       "      <td>18000</td>\n",
       "      <td>2.3</td>\n",
       "      <td>75.99</td>\n",
       "      <td>2.39</td>\n",
       "      <td>-0.09</td>\n",
       "      <td>17.7</td>\n",
       "      <td>1</td>\n",
       "    </tr>\n",
       "    <tr>\n",
       "      <th>4</th>\n",
       "      <td>Czech Republic</td>\n",
       "      <td>78867</td>\n",
       "      <td>27100</td>\n",
       "      <td>1.9</td>\n",
       "      <td>77.38</td>\n",
       "      <td>1.15</td>\n",
       "      <td>-0.13</td>\n",
       "      <td>8.5</td>\n",
       "      <td>2</td>\n",
       "    </tr>\n",
       "  </tbody>\n",
       "</table>\n",
       "</div>"
      ],
      "text/plain": [
       "          Country    Area    GDP  Inflation  Life.expect  Military  \\\n",
       "0         Austria   83871  41600        3.5        79.91      0.80   \n",
       "1         Belgium   30528  37800        3.5        79.65      1.30   \n",
       "2        Bulgaria  110879  13800        4.2        73.84      2.60   \n",
       "3         Croatia   56594  18000        2.3        75.99      2.39   \n",
       "4  Czech Republic   78867  27100        1.9        77.38      1.15   \n",
       "\n",
       "   Pop.growth  Unemployment  Clus_kmeans  \n",
       "0        0.03           4.2            2  \n",
       "1        0.06           7.2            2  \n",
       "2       -0.80           9.6            1  \n",
       "3       -0.09          17.7            1  \n",
       "4       -0.13           8.5            2  "
      ]
     },
     "execution_count": 21,
     "metadata": {},
     "output_type": "execute_result"
    }
   ],
   "source": [
    "df[\"Clus_kmeans\"] = labels\n",
    "df.head()"
   ]
  },
  {
   "cell_type": "markdown",
   "metadata": {},
   "source": [
    "Now that we have created a new column of clusters, let us export this into a .csv file."
   ]
  },
  {
   "cell_type": "code",
   "execution_count": 22,
   "metadata": {
    "ExecuteTime": {
     "end_time": "2021-11-10T10:51:35.229709Z",
     "start_time": "2021-11-10T10:51:35.114469Z"
    }
   },
   "outputs": [],
   "source": [
    "df.to_csv('KMeans.csv')"
   ]
  },
  {
   "cell_type": "markdown",
   "metadata": {},
   "source": [
    "Now, let us compare the different clusters with the average values and try to interpret the problem."
   ]
  },
  {
   "cell_type": "code",
   "execution_count": 23,
   "metadata": {
    "ExecuteTime": {
     "end_time": "2021-11-10T10:51:36.298517Z",
     "start_time": "2021-11-10T10:51:35.729197Z"
    }
   },
   "outputs": [
    {
     "data": {
      "text/html": [
       "<div>\n",
       "<style scoped>\n",
       "    .dataframe tbody tr th:only-of-type {\n",
       "        vertical-align: middle;\n",
       "    }\n",
       "\n",
       "    .dataframe tbody tr th {\n",
       "        vertical-align: top;\n",
       "    }\n",
       "\n",
       "    .dataframe thead th {\n",
       "        text-align: right;\n",
       "    }\n",
       "</style>\n",
       "<table border=\"1\" class=\"dataframe\">\n",
       "  <thead>\n",
       "    <tr style=\"text-align: right;\">\n",
       "      <th></th>\n",
       "      <th>Clus_kmeans</th>\n",
       "      <th>Area</th>\n",
       "      <th>GDP</th>\n",
       "      <th>Inflation</th>\n",
       "      <th>Life.expect</th>\n",
       "      <th>Military</th>\n",
       "      <th>Pop.growth</th>\n",
       "      <th>Unemployment</th>\n",
       "    </tr>\n",
       "  </thead>\n",
       "  <tbody>\n",
       "    <tr>\n",
       "      <th>0</th>\n",
       "      <td>0</td>\n",
       "      <td>359940.571429</td>\n",
       "      <td>37957.142857</td>\n",
       "      <td>2.942857</td>\n",
       "      <td>80.628571</td>\n",
       "      <td>1.800000</td>\n",
       "      <td>0.278571</td>\n",
       "      <td>8.971429</td>\n",
       "    </tr>\n",
       "    <tr>\n",
       "      <th>1</th>\n",
       "      <td>1</td>\n",
       "      <td>94696.181818</td>\n",
       "      <td>20881.818182</td>\n",
       "      <td>3.709091</td>\n",
       "      <td>75.947273</td>\n",
       "      <td>2.001818</td>\n",
       "      <td>-0.230000</td>\n",
       "      <td>13.309091</td>\n",
       "    </tr>\n",
       "    <tr>\n",
       "      <th>2</th>\n",
       "      <td>2</td>\n",
       "      <td>55004.333333</td>\n",
       "      <td>43277.777778</td>\n",
       "      <td>2.688889</td>\n",
       "      <td>79.874444</td>\n",
       "      <td>0.994444</td>\n",
       "      <td>0.498889</td>\n",
       "      <td>6.744444</td>\n",
       "    </tr>\n",
       "    <tr>\n",
       "      <th>3</th>\n",
       "      <td>3</td>\n",
       "      <td>603550.000000</td>\n",
       "      <td>7200.000000</td>\n",
       "      <td>8.000000</td>\n",
       "      <td>68.740000</td>\n",
       "      <td>1.400000</td>\n",
       "      <td>-0.630000</td>\n",
       "      <td>7.900000</td>\n",
       "    </tr>\n",
       "  </tbody>\n",
       "</table>\n",
       "</div>"
      ],
      "text/plain": [
       "   Clus_kmeans           Area           GDP  Inflation  Life.expect  Military  \\\n",
       "0            0  359940.571429  37957.142857   2.942857    80.628571  1.800000   \n",
       "1            1   94696.181818  20881.818182   3.709091    75.947273  2.001818   \n",
       "2            2   55004.333333  43277.777778   2.688889    79.874444  0.994444   \n",
       "3            3  603550.000000   7200.000000   8.000000    68.740000  1.400000   \n",
       "\n",
       "   Pop.growth  Unemployment  \n",
       "0    0.278571      8.971429  \n",
       "1   -0.230000     13.309091  \n",
       "2    0.498889      6.744444  \n",
       "3   -0.630000      7.900000  "
      ]
     },
     "execution_count": 23,
     "metadata": {},
     "output_type": "execute_result"
    }
   ],
   "source": [
    "df1 = df.drop(['Country'],axis=1)\n",
    "df_clust = df1.groupby('Clus_kmeans').mean()\n",
    "df_clust = df_clust.reset_index()\n",
    "df_clust"
   ]
  },
  {
   "cell_type": "markdown",
   "metadata": {},
   "source": [
    "Let us check the frequency of the occurence of the clusters for each individual cluster."
   ]
  },
  {
   "cell_type": "code",
   "execution_count": 24,
   "metadata": {
    "ExecuteTime": {
     "end_time": "2021-11-10T10:51:36.937227Z",
     "start_time": "2021-11-10T10:51:36.898548Z"
    }
   },
   "outputs": [
    {
     "data": {
      "text/plain": [
       "0     7\n",
       "1    11\n",
       "2     9\n",
       "3     1\n",
       "Name: Clus_kmeans, dtype: int64"
      ]
     },
     "execution_count": 24,
     "metadata": {},
     "output_type": "execute_result"
    }
   ],
   "source": [
    "cluster_freq = df['Clus_kmeans'].value_counts().sort_index()\n",
    "cluster_freq"
   ]
  },
  {
   "cell_type": "code",
   "execution_count": 25,
   "metadata": {
    "ExecuteTime": {
     "end_time": "2021-11-10T10:51:38.175784Z",
     "start_time": "2021-11-10T10:51:38.156731Z"
    }
   },
   "outputs": [
    {
     "data": {
      "text/html": [
       "<div>\n",
       "<style scoped>\n",
       "    .dataframe tbody tr th:only-of-type {\n",
       "        vertical-align: middle;\n",
       "    }\n",
       "\n",
       "    .dataframe tbody tr th {\n",
       "        vertical-align: top;\n",
       "    }\n",
       "\n",
       "    .dataframe thead th {\n",
       "        text-align: right;\n",
       "    }\n",
       "</style>\n",
       "<table border=\"1\" class=\"dataframe\">\n",
       "  <thead>\n",
       "    <tr style=\"text-align: right;\">\n",
       "      <th></th>\n",
       "      <th>Clus_kmeans</th>\n",
       "      <th>Area</th>\n",
       "      <th>GDP</th>\n",
       "      <th>Inflation</th>\n",
       "      <th>Life.expect</th>\n",
       "      <th>Military</th>\n",
       "      <th>Pop.growth</th>\n",
       "      <th>Unemployment</th>\n",
       "      <th>Frequency</th>\n",
       "    </tr>\n",
       "  </thead>\n",
       "  <tbody>\n",
       "    <tr>\n",
       "      <th>0</th>\n",
       "      <td>0</td>\n",
       "      <td>359940.571429</td>\n",
       "      <td>37957.142857</td>\n",
       "      <td>2.942857</td>\n",
       "      <td>80.628571</td>\n",
       "      <td>1.800000</td>\n",
       "      <td>0.278571</td>\n",
       "      <td>8.971429</td>\n",
       "      <td>7</td>\n",
       "    </tr>\n",
       "    <tr>\n",
       "      <th>1</th>\n",
       "      <td>1</td>\n",
       "      <td>94696.181818</td>\n",
       "      <td>20881.818182</td>\n",
       "      <td>3.709091</td>\n",
       "      <td>75.947273</td>\n",
       "      <td>2.001818</td>\n",
       "      <td>-0.230000</td>\n",
       "      <td>13.309091</td>\n",
       "      <td>11</td>\n",
       "    </tr>\n",
       "    <tr>\n",
       "      <th>2</th>\n",
       "      <td>2</td>\n",
       "      <td>55004.333333</td>\n",
       "      <td>43277.777778</td>\n",
       "      <td>2.688889</td>\n",
       "      <td>79.874444</td>\n",
       "      <td>0.994444</td>\n",
       "      <td>0.498889</td>\n",
       "      <td>6.744444</td>\n",
       "      <td>9</td>\n",
       "    </tr>\n",
       "    <tr>\n",
       "      <th>3</th>\n",
       "      <td>3</td>\n",
       "      <td>603550.000000</td>\n",
       "      <td>7200.000000</td>\n",
       "      <td>8.000000</td>\n",
       "      <td>68.740000</td>\n",
       "      <td>1.400000</td>\n",
       "      <td>-0.630000</td>\n",
       "      <td>7.900000</td>\n",
       "      <td>1</td>\n",
       "    </tr>\n",
       "  </tbody>\n",
       "</table>\n",
       "</div>"
      ],
      "text/plain": [
       "   Clus_kmeans           Area           GDP  Inflation  Life.expect  Military  \\\n",
       "0            0  359940.571429  37957.142857   2.942857    80.628571  1.800000   \n",
       "1            1   94696.181818  20881.818182   3.709091    75.947273  2.001818   \n",
       "2            2   55004.333333  43277.777778   2.688889    79.874444  0.994444   \n",
       "3            3  603550.000000   7200.000000   8.000000    68.740000  1.400000   \n",
       "\n",
       "   Pop.growth  Unemployment  Frequency  \n",
       "0    0.278571      8.971429          7  \n",
       "1   -0.230000     13.309091         11  \n",
       "2    0.498889      6.744444          9  \n",
       "3   -0.630000      7.900000          1  "
      ]
     },
     "execution_count": 25,
     "metadata": {},
     "output_type": "execute_result"
    }
   ],
   "source": [
    "df_clust['Frequency'] = cluster_freq.values\n",
    "df_clust"
   ]
  },
  {
   "cell_type": "markdown",
   "metadata": {},
   "source": [
    "# END"
   ]
  }
 ],
 "metadata": {
  "kernelspec": {
   "display_name": "Python 3 (ipykernel)",
   "language": "python",
   "name": "python3"
  },
  "language_info": {
   "codemirror_mode": {
    "name": "ipython",
    "version": 3
   },
   "file_extension": ".py",
   "mimetype": "text/x-python",
   "name": "python",
   "nbconvert_exporter": "python",
   "pygments_lexer": "ipython3",
   "version": "3.8.12"
  },
  "toc": {
   "base_numbering": 1,
   "nav_menu": {},
   "number_sections": true,
   "sideBar": true,
   "skip_h1_title": false,
   "title_cell": "Table of Contents",
   "title_sidebar": "Contents",
   "toc_cell": false,
   "toc_position": {},
   "toc_section_display": true,
   "toc_window_display": false
  },
  "varInspector": {
   "cols": {
    "lenName": 16,
    "lenType": 16,
    "lenVar": 40
   },
   "kernels_config": {
    "python": {
     "delete_cmd_postfix": "",
     "delete_cmd_prefix": "del ",
     "library": "var_list.py",
     "varRefreshCmd": "print(var_dic_list())"
    },
    "r": {
     "delete_cmd_postfix": ") ",
     "delete_cmd_prefix": "rm(",
     "library": "var_list.r",
     "varRefreshCmd": "cat(var_dic_list()) "
    }
   },
   "types_to_exclude": [
    "module",
    "function",
    "builtin_function_or_method",
    "instance",
    "_Feature"
   ],
   "window_display": false
  }
 },
 "nbformat": 4,
 "nbformat_minor": 2
}
